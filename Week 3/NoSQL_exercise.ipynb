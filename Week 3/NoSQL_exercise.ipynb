{
  "nbformat": 4,
  "nbformat_minor": 0,
  "metadata": {
    "colab": {
      "provenance": []
    },
    "kernelspec": {
      "name": "python3",
      "display_name": "Python 3"
    },
    "language_info": {
      "name": "python"
    }
  },
  "cells": [
    {
      "cell_type": "code",
      "source": [
        "!pip install pymongo"
      ],
      "metadata": {
        "colab": {
          "base_uri": "https://localhost:8080/"
        },
        "id": "EXqQzSrsWdj_",
        "outputId": "70d7eac9-bae3-40b3-b607-898dc083e984"
      },
      "execution_count": null,
      "outputs": [
        {
          "output_type": "stream",
          "name": "stdout",
          "text": [
            "Collecting pymongo\n",
            "  Downloading pymongo-4.8.0-cp310-cp310-manylinux_2_17_x86_64.manylinux2014_x86_64.whl.metadata (22 kB)\n",
            "Collecting dnspython<3.0.0,>=1.16.0 (from pymongo)\n",
            "  Downloading dnspython-2.6.1-py3-none-any.whl.metadata (5.8 kB)\n",
            "Downloading pymongo-4.8.0-cp310-cp310-manylinux_2_17_x86_64.manylinux2014_x86_64.whl (1.2 MB)\n",
            "\u001b[2K   \u001b[90m━━━━━━━━━━━━━━━━━━━━━━━━━━━━━━━━━━━━━━━━\u001b[0m \u001b[32m1.2/1.2 MB\u001b[0m \u001b[31m13.3 MB/s\u001b[0m eta \u001b[36m0:00:00\u001b[0m\n",
            "\u001b[?25hDownloading dnspython-2.6.1-py3-none-any.whl (307 kB)\n",
            "\u001b[2K   \u001b[90m━━━━━━━━━━━━━━━━━━━━━━━━━━━━━━━━━━━━━━━━\u001b[0m \u001b[32m307.7/307.7 kB\u001b[0m \u001b[31m16.4 MB/s\u001b[0m eta \u001b[36m0:00:00\u001b[0m\n",
            "\u001b[?25hInstalling collected packages: dnspython, pymongo\n",
            "Successfully installed dnspython-2.6.1 pymongo-4.8.0\n"
          ]
        }
      ]
    },
    {
      "cell_type": "code",
      "execution_count": null,
      "metadata": {
        "id": "FmEUef_5WLlC"
      },
      "outputs": [],
      "source": [
        "import pymongo\n",
        "from pymongo import MongoClient\n",
        "import os"
      ]
    },
    {
      "cell_type": "markdown",
      "source": [
        "# connection to MongoDB"
      ],
      "metadata": {
        "id": "qbRLXqS9WYEY"
      }
    },
    {
      "cell_type": "code",
      "source": [
        "from pymongo.mongo_client import MongoClient\n",
        "\n",
        "uri = \"mongodb+srv://haya6000:<pass>@cluster3.qlt9k1t.mongodb.net/?retryWrites=true&w=majority&appName=Cluster3\"\n",
        "\n",
        "# Create a new client and connect to the server\n",
        "client = MongoClient(uri)\n",
        "\n",
        "# Send a ping to confirm a successful connection\n",
        "try:\n",
        "    client.admin.command('ping')\n",
        "    print(\"Pinged your deployment. You successfully connected to MongoDB!\")\n",
        "except Exception as e:\n",
        "    print(e)\n",
        "\n",
        "\n",
        "\n",
        "# Create a database\n",
        "db = client['traffic_db']\n",
        "# Create a collection\n",
        "traffic_collection = db['traffic_data']\n"
      ],
      "metadata": {
        "colab": {
          "base_uri": "https://localhost:8080/"
        },
        "id": "SmVZLeOJWkgY",
        "outputId": "44baa4d0-7f99-476e-beb8-3261d96ccb9b"
      },
      "execution_count": null,
      "outputs": [
        {
          "output_type": "stream",
          "name": "stdout",
          "text": [
            "Pinged your deployment. You successfully connected to MongoDB!\n"
          ]
        }
      ]
    },
    {
      "cell_type": "code",
      "source": [
        "traffic_collection.insert_many([\n",
        "{'road': 'Highway A1', 'date': '2024-07-10', 'time': '07:30', 'traffic_volume': 1100},\n",
        "{'road': 'Highway A2', 'date': '2024-07-11', 'time': '08:30', 'traffic_volume': 900},\n",
        "{'road': 'Highway A1', 'date': '2024-07-11', 'time': '08:00', 'traffic_volume': 1200,\n",
        "'weather_condition': 'Clear', 'vehicle_type_breakdown': {'car': 800, 'truck': 300, 'motorcycle': 100}},\n",
        "{'road': 'Highway A3', 'date': '2024-07-12', 'time': '09:00', 'traffic_volume': 800},\n",
        "{'road': 'Highway A1', 'date': '2024-07-11', 'time': '10:00', 'traffic_volume': 1300}\n",
        "])"
      ],
      "metadata": {
        "colab": {
          "base_uri": "https://localhost:8080/"
        },
        "id": "AqFrtCHQW1no",
        "outputId": "0e8e3615-de65-458c-dea5-183f51d033ae"
      },
      "execution_count": null,
      "outputs": [
        {
          "output_type": "execute_result",
          "data": {
            "text/plain": [
              "InsertManyResult([ObjectId('66afb51dc54ad417f2d8fdce'), ObjectId('66afb51dc54ad417f2d8fdcf'), ObjectId('66afb51dc54ad417f2d8fdd0'), ObjectId('66afb51dc54ad417f2d8fdd1'), ObjectId('66afb51dc54ad417f2d8fdd2')], acknowledged=True)"
            ]
          },
          "metadata": {},
          "execution_count": 6
        }
      ]
    },
    {
      "cell_type": "markdown",
      "source": [
        "# Data insertion"
      ],
      "metadata": {
        "id": "FsGdwAwSWww7"
      }
    },
    {
      "cell_type": "code",
      "source": [
        "traffic_collection.insert_one({'road': 'Highway A1' , 'date' : '2024-07-11' , 'time' : '08:00' , 'traffic_volume': 1200})\n",
        "traffic_collection.insert_one({'road': 'Highway A1' , 'date' : '2024-07-11' , 'time' : '09:00' , 'traffic_volume': 1100,\n",
        "                               'weather_condition': 'Clear', 'vehicle_type_breakdown': {'car': 800, 'truck': 300, 'motorcycle':100}\n",
        "                               })"
      ],
      "metadata": {
        "colab": {
          "base_uri": "https://localhost:8080/"
        },
        "id": "QTqfUS72XOaw",
        "outputId": "0e590f61-87fd-4133-b666-92c34b698193"
      },
      "execution_count": null,
      "outputs": [
        {
          "output_type": "execute_result",
          "data": {
            "text/plain": [
              "InsertOneResult(ObjectId('66afb948c54ad417f2d8fdd6'), acknowledged=True)"
            ]
          },
          "metadata": {},
          "execution_count": 15
        }
      ]
    },
    {
      "cell_type": "markdown",
      "source": [
        "# Query Operation"
      ],
      "metadata": {
        "id": "NPq5421qYuzW"
      }
    },
    {
      "cell_type": "code",
      "source": [
        "find_traffic = traffic_collection.find({'traffic_volume': {'$gt': 1000, '$lt': 1500}})\n",
        "\n",
        "for val in find_traffic:\n",
        "    print(val)\n",
        "    print(f'road: {val[\"road\"]}')\n",
        "    print(f'date: {val[\"date\"]}')\n",
        "    print(f'time: {val[\"time\"]}')\n",
        "    print(f'traffic_volume: {val[\"traffic_volume\"]}')\n",
        "\n",
        "    try:\n",
        "        print(f'weather_condition: {val[\"weather_condition\"]}')\n",
        "    except KeyError:\n",
        "        print('weather_condition: Not available')\n",
        "\n",
        "    try:\n",
        "        print(f'vehicle_type_breakdown: {val[\"vehicle_type_breakdown\"]}')\n",
        "    except KeyError:\n",
        "        print('vehicle_type_breakdown: Not available')\n",
        "\n",
        "    print('________________________________________')\n",
        "\n"
      ],
      "metadata": {
        "colab": {
          "base_uri": "https://localhost:8080/"
        },
        "id": "Pn_jASN1YuHD",
        "outputId": "33b5c7d0-b0bb-4eed-84b6-e0040a2a3fac"
      },
      "execution_count": null,
      "outputs": [
        {
          "output_type": "stream",
          "name": "stdout",
          "text": [
            "{'_id': ObjectId('66afb51dc54ad417f2d8fdce'), 'road': 'Highway A1', 'date': '2024-07-10', 'time': '07:30', 'traffic_volume': 1100}\n",
            "road: Highway A1\n",
            "date: 2024-07-10\n",
            "time: 07:30\n",
            "traffic_volume: 1100\n",
            "weather_condition: Not available\n",
            "vehicle_type_breakdown: Not available\n",
            "________________________________________\n",
            "{'_id': ObjectId('66afb51dc54ad417f2d8fdd0'), 'road': 'Highway A1', 'date': '2024-07-11', 'time': '08:00', 'traffic_volume': 1200, 'weather_condition': 'Clear', 'vehicle_type_breakdown': {'car': 800, 'truck': 300, 'motorcycle': 100}}\n",
            "road: Highway A1\n",
            "date: 2024-07-11\n",
            "time: 08:00\n",
            "traffic_volume: 1200\n",
            "weather_condition: Clear\n",
            "vehicle_type_breakdown: {'car': 800, 'truck': 300, 'motorcycle': 100}\n",
            "________________________________________\n",
            "{'_id': ObjectId('66afb51dc54ad417f2d8fdd2'), 'road': 'Highway A1', 'date': '2024-07-11', 'time': '10:00', 'traffic_volume': 1300}\n",
            "road: Highway A1\n",
            "date: 2024-07-11\n",
            "time: 10:00\n",
            "traffic_volume: 1300\n",
            "weather_condition: Not available\n",
            "vehicle_type_breakdown: Not available\n",
            "________________________________________\n",
            "{'_id': ObjectId('66afb947c54ad417f2d8fdd5'), 'road': 'Highway A1', 'date': '2024-07-11', 'time': '08:00', 'traffic_volume': 1200}\n",
            "road: Highway A1\n",
            "date: 2024-07-11\n",
            "time: 08:00\n",
            "traffic_volume: 1200\n",
            "weather_condition: Not available\n",
            "vehicle_type_breakdown: Not available\n",
            "________________________________________\n",
            "{'_id': ObjectId('66afb948c54ad417f2d8fdd6'), 'road': 'Highway A1', 'date': '2024-07-11', 'time': '09:00', 'traffic_volume': 1100, 'weather_condition': 'Clear', 'vehicle_type_breakdown': {'car': 800, 'truck': 300, 'motorcycle': 100}}\n",
            "road: Highway A1\n",
            "date: 2024-07-11\n",
            "time: 09:00\n",
            "traffic_volume: 1100\n",
            "weather_condition: Clear\n",
            "vehicle_type_breakdown: {'car': 800, 'truck': 300, 'motorcycle': 100}\n",
            "________________________________________\n"
          ]
        }
      ]
    },
    {
      "cell_type": "markdown",
      "source": [
        "# Update operations"
      ],
      "metadata": {
        "id": "GDr-agBrbDfo"
      }
    },
    {
      "cell_type": "code",
      "source": [
        "# Increment the traffic volume by 200 vehicles for all documents where the road is \"Highway A1\" and the time is between \"08:00\" and \"10:00\" on \"2024-\n",
        "# 07-11\".\n",
        "traffic_collection.update_many(\n",
        "    {'road': 'Highway A1', 'time': {'$gte': '08:00', '$lte': '10:00'}, 'date': '2024-07-1'},\n",
        "    {'$inc': {'traffic_volume': 200}}\n",
        ")\n",
        "\n",
        "# Update the vehicle type breakdown to {\"car\": 850, \"truck\": 320, \"motorcycle\": 130} for the document with the highest traffic volume.\n",
        "highest_traffic_doc = traffic_collection.find_one({}, sort=[('traffic_volume', -1)], limit=1)\n",
        "\n",
        "update_query = {'$set': {'vehicle_type_breakdown': {'car': 850, 'truck': 320, 'motorcycle': 130}}}\n",
        "\n",
        "result = traffic_collection.update_one(\n",
        "    {'_id': highest_traffic_doc['_id']},\n",
        "    update_query\n",
        ")"
      ],
      "metadata": {
        "id": "X4Hf6eMEbFok"
      },
      "execution_count": null,
      "outputs": []
    },
    {
      "cell_type": "markdown",
      "source": [
        "# Delete operations"
      ],
      "metadata": {
        "id": "HXa8cyZGekmf"
      }
    },
    {
      "cell_type": "code",
      "source": [
        "traffic_collection.delete_one({'weather_condition': 'Rainy'})\n",
        "\n",
        "filter_query = {\n",
        "    'traffic_volume': {'$lt': 500},\n",
        "    'date': {'$lt': '2024-07-11'}\n",
        "}\n",
        "traffic_collection.delete_many(filter_query)"
      ],
      "metadata": {
        "colab": {
          "base_uri": "https://localhost:8080/"
        },
        "id": "GTkLYxSaah1K",
        "outputId": "42fc71be-002c-4561-9d45-61216edb735b"
      },
      "execution_count": null,
      "outputs": [
        {
          "output_type": "execute_result",
          "data": {
            "text/plain": [
              "DeleteResult({'n': 0, 'electionId': ObjectId('7fffffff0000000000000064'), 'opTime': {'ts': Timestamp(1722793331, 3), 't': 100}, 'ok': 1.0, '$clusterTime': {'clusterTime': Timestamp(1722793331, 3), 'signature': {'hash': b'/\\x83|\\xbd\\xcc^\\x0eV<N\\x8eq\\xcc\\xdd\\xfd\\x16\\x96-\\xba\\xb0', 'keyId': 7343326493319102465}}, 'operationTime': Timestamp(1722793331, 3)}, acknowledged=True)"
            ]
          },
          "metadata": {},
          "execution_count": 21
        }
      ]
    }
  ]
}