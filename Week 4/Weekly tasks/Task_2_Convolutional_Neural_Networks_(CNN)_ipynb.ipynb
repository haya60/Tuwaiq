{
  "cells": [
    {
      "cell_type": "markdown",
      "id": "69e7471b",
      "metadata": {
        "id": "69e7471b"
      },
      "source": [
        "\n",
        "\n",
        "### **Description:**  \n",
        "The dataset contains images of various German traffic signs labeled for classification purposes. Each image belongs to one of the 43 classes, representing different types of traffic signs.\n",
        "\n",
        "\n",
        "\n"
      ]
    },
    {
      "cell_type": "markdown",
      "id": "66c6f645",
      "metadata": {
        "id": "66c6f645"
      },
      "source": [
        "## Load Data\n",
        "Run the following command to get the data and unzip it, alternatively you can access the data [here](https://drive.google.com/file/d/1HwMV-Lt_sWoxc5v6igmTxTwomS3DR6cQ/view?usp=sharing)."
      ]
    },
    {
      "cell_type": "code",
      "source": [
        "!git clone https://github.com/haya60/signs_data.git"
      ],
      "metadata": {
        "colab": {
          "base_uri": "https://localhost:8080/"
        },
        "id": "jNS1tOZ4Mw0j",
        "outputId": "a4efc6ae-a99e-4d86-d3fe-0f059231a92f"
      },
      "id": "jNS1tOZ4Mw0j",
      "execution_count": 4,
      "outputs": [
        {
          "output_type": "stream",
          "name": "stdout",
          "text": [
            "Cloning into 'signs_data'...\n",
            "remote: Enumerating objects: 39257, done.\u001b[K\n",
            "remote: Total 39257 (delta 0), reused 0 (delta 0), pack-reused 39257 (from 1)\u001b[K\n",
            "Receiving objects: 100% (39257/39257), 226.20 MiB | 16.33 MiB/s, done.\n",
            "Updating files: 100% (39210/39210), done.\n"
          ]
        }
      ]
    },
    {
      "cell_type": "markdown",
      "id": "9bb9f30e",
      "metadata": {
        "id": "9bb9f30e"
      },
      "source": [
        "## Import Libraries"
      ]
    },
    {
      "cell_type": "code",
      "execution_count": 3,
      "id": "22207f85",
      "metadata": {
        "id": "22207f85"
      },
      "outputs": [],
      "source": [
        "import pandas as pd\n",
        "import numpy as np\n",
        "import matplotlib.pyplot as plt\n",
        "import seaborn as sns\n",
        "\n",
        "import os\n",
        "import cv2\n",
        "import shutil\n",
        "\n",
        "from sklearn.model_selection import train_test_split\n",
        "from sklearn.preprocessing import OneHotEncoder, LabelEncoder\n",
        "\n",
        "import tensorflow as tf\n",
        "import keras\n",
        "from tensorflow.keras.models import Sequential\n",
        "from keras.layers import Conv2D, MaxPooling2D, Flatten, Dense, Dropout, BatchNormalization\n",
        "from keras.optimizers import Adam\n",
        "\n",
        "from tensorflow.keras.preprocessing.image import ImageDataGenerator\n",
        "\n",
        "from sklearn.metrics import accuracy_score, precision_score, recall_score, f1_score, confusion_matrix"
      ]
    },
    {
      "cell_type": "markdown",
      "id": "541f3c2b",
      "metadata": {
        "id": "541f3c2b"
      },
      "source": [
        "## Data Splitting\n",
        "In this section, we will split our dataset into three parts:\n",
        "\n",
        "* Training set (70%).\n",
        "* Validation set (15%).\n",
        "* Test set (15%)."
      ]
    },
    {
      "cell_type": "code",
      "source": [
        "import os\n",
        "import shutil\n",
        "from sklearn.model_selection import train_test_split\n",
        "\n",
        "\n",
        "dataset_dir = '/content/signs_data/Traffic_Signs/Dataset'\n",
        "categories = ['0', '1' , '2', '3', '4', '5', '6', '7', '8', '9', '10', '11', '12', '13', '14', '15', '16', '17', '18', '19', '20', '21', '22', '23',\n",
        "              '24', '25', '26', '27', '28', '29', '30', '31', '32', '33', '34', '35', '36', '37', '38', '39', '40', '41', '42']\n",
        "\n",
        "\n",
        "base_dir = '/content/signs_data/Traffic_Signs/split_data'\n",
        "os.makedirs(base_dir, exist_ok=True)\n",
        "\n",
        "for category in categories:\n",
        "    os.makedirs(os.path.join(base_dir, 'train', category), exist_ok=True)\n",
        "    os.makedirs(os.path.join(base_dir, 'val', category), exist_ok=True)\n",
        "    os.makedirs(os.path.join(base_dir, 'test', category), exist_ok=True)\n",
        "\n",
        "\n",
        "def split_data(category):\n",
        "    category_dir = os.path.join(dataset_dir, category)\n",
        "    images = os.listdir(category_dir)\n",
        "\n",
        "    train_imgs, test_imgs = train_test_split(images, test_size=0.30, random_state=42)\n",
        "    val_imgs, test_imgs = train_test_split(test_imgs, test_size=0.50, random_state=42)\n",
        "\n",
        "    for img in train_imgs:\n",
        "        shutil.copy(os.path.join(category_dir, img), os.path.join(base_dir, 'train', category, img))\n",
        "    for img in val_imgs:\n",
        "        shutil.copy(os.path.join(category_dir, img), os.path.join(base_dir, 'val', category, img))\n",
        "    for img in test_imgs:\n",
        "        shutil.copy(os.path.join(category_dir, img), os.path.join(base_dir, 'test', category, img))\n",
        "\n",
        "for category in categories:\n",
        "    split_data(category)\n",
        "\n",
        "print(\"Data successfully split into train, validation, and test sets.\")\n"
      ],
      "metadata": {
        "colab": {
          "base_uri": "https://localhost:8080/"
        },
        "id": "uQMGJl8gNV6K",
        "outputId": "1447ae81-3880-41cb-dbb9-6d071629a97a"
      },
      "id": "uQMGJl8gNV6K",
      "execution_count": 5,
      "outputs": [
        {
          "output_type": "stream",
          "name": "stdout",
          "text": [
            "Data successfully split into train, validation, and test sets.\n"
          ]
        }
      ]
    },
    {
      "cell_type": "markdown",
      "id": "3aa9945d",
      "metadata": {
        "id": "3aa9945d"
      },
      "source": [
        "## Data Preprocessing\n"
      ]
    },
    {
      "cell_type": "code",
      "execution_count": 6,
      "id": "72042d3e",
      "metadata": {
        "colab": {
          "base_uri": "https://localhost:8080/"
        },
        "id": "72042d3e",
        "outputId": "daa355cb-bedf-4c4e-ca88-d8f01f97e91c"
      },
      "outputs": [
        {
          "output_type": "stream",
          "name": "stdout",
          "text": [
            "Found 27446 images belonging to 43 classes.\n",
            "Found 5891 images belonging to 43 classes.\n",
            "Found 5872 images belonging to 43 classes.\n"
          ]
        }
      ],
      "source": [
        "train_dir = '/content/signs_data/Traffic_Signs/split_data/train'\n",
        "test_dir = '/content/signs_data/Traffic_Signs/split_data/test'\n",
        "valid_dir = '/content/signs_data/Traffic_Signs/split_data/val'\n",
        "\n",
        "img_size = (150, 150)\n",
        "batch_size = 128\n",
        "\n",
        "# train\n",
        "train_datagen = ImageDataGenerator(rescale=1.0/255.0)\n",
        "\n",
        "train_generator = train_datagen.flow_from_directory(\n",
        "    train_dir,\n",
        "    target_size=img_size,\n",
        "    batch_size=batch_size,\n",
        "    class_mode='categorical'\n",
        ")\n",
        "\n",
        "# test\n",
        "test_datagen = ImageDataGenerator(rescale=1.0/255.0)\n",
        "\n",
        "test_generator = test_datagen.flow_from_directory(\n",
        "    test_dir,\n",
        "    target_size=img_size,\n",
        "    batch_size=batch_size,\n",
        "    class_mode='categorical'\n",
        ")\n",
        "\n",
        "# valid\n",
        "valid_datagen = ImageDataGenerator(rescale=1.0/255.0)\n",
        "\n",
        "valid_generator = valid_datagen.flow_from_directory(\n",
        "    valid_dir,\n",
        "    target_size=img_size,\n",
        "    batch_size=batch_size,\n",
        "    class_mode='categorical'\n",
        ")\n",
        "\n",
        "\n",
        "\n",
        "\n",
        "X_train, y_train = next(train_generator)\n",
        "X_test, y_test = next(test_generator)\n",
        "X_valid, y_valid = next(valid_generator)"
      ]
    },
    {
      "cell_type": "markdown",
      "id": "83974596",
      "metadata": {
        "id": "83974596"
      },
      "source": [
        "## Building the CNN Model\n"
      ]
    },
    {
      "cell_type": "code",
      "execution_count": 5,
      "id": "977da65a",
      "metadata": {
        "colab": {
          "base_uri": "https://localhost:8080/"
        },
        "id": "977da65a",
        "outputId": "a199deb5-d128-4a2a-aeed-ea87853b291d"
      },
      "outputs": [
        {
          "output_type": "stream",
          "name": "stderr",
          "text": [
            "/usr/local/lib/python3.10/dist-packages/keras/src/layers/convolutional/base_conv.py:107: UserWarning: Do not pass an `input_shape`/`input_dim` argument to a layer. When using Sequential models, prefer using an `Input(shape)` object as the first layer in the model instead.\n",
            "  super().__init__(activity_regularizer=activity_regularizer, **kwargs)\n"
          ]
        }
      ],
      "source": [
        "model = Sequential([\n",
        "    Conv2D(32, (3, 3), padding='same', activation='relu', input_shape=(150, 150, 3)),\n",
        "    Conv2D(32, (3, 3), activation='relu'),\n",
        "    MaxPooling2D(2, 2),\n",
        "\n",
        "    Conv2D(64, (3, 3), padding='same', activation='relu'),\n",
        "    Conv2D(64, (3, 3), activation='relu'),\n",
        "    MaxPooling2D(2, 2),\n",
        "\n",
        "    Conv2D(128, (3, 3), padding='same', activation='relu'),\n",
        "    Conv2D(128, (3, 3), activation='relu'),\n",
        "    MaxPooling2D(2, 2),\n",
        "\n",
        "    Conv2D(254, (3, 3), padding='same', activation='relu'),\n",
        "    Conv2D(254, (3, 3), activation='relu'),\n",
        "    MaxPooling2D(2, 2),\n",
        "\n",
        "    Flatten(),\n",
        "    Dense(256, activation='relu'),\n",
        "    Dense(128, activation='relu'),\n",
        "    Dense(43, activation='softmax')\n",
        "])\n",
        "\n",
        "model.compile(optimizer='adam', loss='sparse_categorical_crossentropy', metrics=['accuracy'])"
      ]
    },
    {
      "cell_type": "markdown",
      "id": "fe1c0940",
      "metadata": {
        "id": "fe1c0940"
      },
      "source": [
        "## Training the Model\n"
      ]
    },
    {
      "cell_type": "code",
      "execution_count": 6,
      "id": "ce31faf9",
      "metadata": {
        "colab": {
          "base_uri": "https://localhost:8080/"
        },
        "id": "ce31faf9",
        "outputId": "d6ae1805-22c1-4ce7-c80f-e2bb9b5e8118"
      },
      "outputs": [
        {
          "output_type": "stream",
          "name": "stdout",
          "text": [
            "Epoch 1/20\n"
          ]
        },
        {
          "output_type": "stream",
          "name": "stderr",
          "text": [
            "/usr/local/lib/python3.10/dist-packages/keras/src/trainers/data_adapters/py_dataset_adapter.py:121: UserWarning: Your `PyDataset` class should call `super().__init__(**kwargs)` in its constructor. `**kwargs` can include `workers`, `use_multiprocessing`, `max_queue_size`. Do not pass these arguments to `fit()`, as they will be ignored.\n",
            "  self._warn_if_super_not_called()\n"
          ]
        },
        {
          "output_type": "stream",
          "name": "stdout",
          "text": [
            "215/215 - 140s - 650ms/step - accuracy: 0.2893 - loss: 2.4912 - val_accuracy: 0.5715 - val_loss: 1.2618\n",
            "Epoch 2/20\n",
            "215/215 - 56s - 260ms/step - accuracy: 0.8415 - loss: 0.4995 - val_accuracy: 0.9465 - val_loss: 0.1805\n",
            "Epoch 3/20\n",
            "215/215 - 56s - 259ms/step - accuracy: 0.9702 - loss: 0.1001 - val_accuracy: 0.9772 - val_loss: 0.0836\n",
            "Epoch 4/20\n",
            "215/215 - 56s - 258ms/step - accuracy: 0.9869 - loss: 0.0427 - val_accuracy: 0.9867 - val_loss: 0.0606\n",
            "Epoch 5/20\n",
            "215/215 - 57s - 264ms/step - accuracy: 0.9906 - loss: 0.0323 - val_accuracy: 0.9847 - val_loss: 0.0628\n",
            "Epoch 6/20\n",
            "215/215 - 55s - 256ms/step - accuracy: 0.9925 - loss: 0.0262 - val_accuracy: 0.9787 - val_loss: 0.0776\n",
            "Epoch 7/20\n",
            "215/215 - 82s - 383ms/step - accuracy: 0.9925 - loss: 0.0238 - val_accuracy: 0.9891 - val_loss: 0.0423\n",
            "Epoch 8/20\n",
            "215/215 - 82s - 382ms/step - accuracy: 0.9951 - loss: 0.0168 - val_accuracy: 0.9889 - val_loss: 0.0574\n",
            "Epoch 9/20\n",
            "215/215 - 56s - 260ms/step - accuracy: 0.9961 - loss: 0.0150 - val_accuracy: 0.9777 - val_loss: 0.0842\n",
            "Epoch 10/20\n",
            "215/215 - 56s - 258ms/step - accuracy: 0.9962 - loss: 0.0136 - val_accuracy: 0.9920 - val_loss: 0.0467\n",
            "Epoch 11/20\n",
            "215/215 - 55s - 258ms/step - accuracy: 0.9938 - loss: 0.0206 - val_accuracy: 0.9901 - val_loss: 0.0481\n",
            "Epoch 12/20\n",
            "215/215 - 81s - 378ms/step - accuracy: 0.9969 - loss: 0.0122 - val_accuracy: 0.9848 - val_loss: 0.0880\n",
            "Epoch 13/20\n",
            "215/215 - 55s - 256ms/step - accuracy: 0.9959 - loss: 0.0155 - val_accuracy: 0.9900 - val_loss: 0.0601\n",
            "Epoch 14/20\n",
            "215/215 - 83s - 385ms/step - accuracy: 0.9958 - loss: 0.0150 - val_accuracy: 0.9905 - val_loss: 0.0346\n",
            "Epoch 15/20\n",
            "215/215 - 55s - 257ms/step - accuracy: 0.9970 - loss: 0.0118 - val_accuracy: 0.9901 - val_loss: 0.0398\n",
            "Epoch 16/20\n",
            "215/215 - 56s - 259ms/step - accuracy: 0.9982 - loss: 0.0059 - val_accuracy: 0.9855 - val_loss: 0.0675\n",
            "Epoch 17/20\n",
            "215/215 - 56s - 259ms/step - accuracy: 0.9956 - loss: 0.0170 - val_accuracy: 0.9881 - val_loss: 0.0523\n",
            "Epoch 18/20\n",
            "215/215 - 55s - 256ms/step - accuracy: 0.9981 - loss: 0.0073 - val_accuracy: 0.9932 - val_loss: 0.0410\n",
            "Epoch 19/20\n",
            "215/215 - 60s - 278ms/step - accuracy: 0.9976 - loss: 0.0104 - val_accuracy: 0.9874 - val_loss: 0.0574\n",
            "Epoch 20/20\n",
            "215/215 - 77s - 358ms/step - accuracy: 0.9978 - loss: 0.0067 - val_accuracy: 0.9871 - val_loss: 0.0745\n"
          ]
        }
      ],
      "source": [
        "history = model.fit(train_generator , batch_size=150, epochs=20, validation_data=valid_generator, verbose=2)"
      ]
    },
    {
      "cell_type": "markdown",
      "id": "25ad1b22",
      "metadata": {
        "id": "25ad1b22"
      },
      "source": [
        "## Evaluate the Model\n",
        "Evaluate the performance of the model on the test set."
      ]
    },
    {
      "cell_type": "code",
      "execution_count": 7,
      "id": "eb9ed70f",
      "metadata": {
        "colab": {
          "base_uri": "https://localhost:8080/"
        },
        "id": "eb9ed70f",
        "outputId": "3852ce53-7e74-4975-84ce-2da45f30c1d1"
      },
      "outputs": [
        {
          "output_type": "stream",
          "name": "stdout",
          "text": [
            "\u001b[1m46/46\u001b[0m \u001b[32m━━━━━━━━━━━━━━━━━━━━\u001b[0m\u001b[37m\u001b[0m \u001b[1m7s\u001b[0m 146ms/step - accuracy: 0.9876 - loss: 0.0660\n"
          ]
        },
        {
          "output_type": "execute_result",
          "data": {
            "text/plain": [
              "[0.07449578493833542, 0.9870572090148926]"
            ]
          },
          "metadata": {},
          "execution_count": 7
        }
      ],
      "source": [
        "model.evaluate(valid_generator)"
      ]
    },
    {
      "cell_type": "code",
      "source": [
        "model.evaluate(test_generator)"
      ],
      "metadata": {
        "colab": {
          "base_uri": "https://localhost:8080/"
        },
        "id": "CKicTZyMYOfT",
        "outputId": "e666db5f-2b47-404c-fdb9-25f481d7e35f"
      },
      "id": "CKicTZyMYOfT",
      "execution_count": 10,
      "outputs": [
        {
          "output_type": "stream",
          "name": "stdout",
          "text": [
            "\u001b[1m47/47\u001b[0m \u001b[32m━━━━━━━━━━━━━━━━━━━━\u001b[0m\u001b[37m\u001b[0m \u001b[1m7s\u001b[0m 144ms/step - accuracy: 0.9865 - loss: 0.0612\n"
          ]
        },
        {
          "output_type": "execute_result",
          "data": {
            "text/plain": [
              "[0.07376133650541306, 0.9865897297859192]"
            ]
          },
          "metadata": {},
          "execution_count": 10
        }
      ]
    },
    {
      "cell_type": "code",
      "source": [
        "model.evaluate(train_generator)"
      ],
      "metadata": {
        "colab": {
          "base_uri": "https://localhost:8080/"
        },
        "id": "QqGECYcbYR8q",
        "outputId": "4adf6721-4032-4146-adae-d1f9074251da"
      },
      "id": "QqGECYcbYR8q",
      "execution_count": 9,
      "outputs": [
        {
          "output_type": "stream",
          "name": "stdout",
          "text": [
            "\u001b[1m215/215\u001b[0m \u001b[32m━━━━━━━━━━━━━━━━━━━━\u001b[0m\u001b[37m\u001b[0m \u001b[1m35s\u001b[0m 160ms/step - accuracy: 0.9946 - loss: 0.0188\n"
          ]
        },
        {
          "output_type": "execute_result",
          "data": {
            "text/plain": [
              "[0.02007986791431904, 0.9940974712371826]"
            ]
          },
          "metadata": {},
          "execution_count": 9
        }
      ]
    },
    {
      "cell_type": "markdown",
      "id": "a37fca33",
      "metadata": {
        "id": "a37fca33"
      },
      "source": [
        "## Make Predictions\n",
        "Use the trained model to make predictions on new or unseen traffic sign images."
      ]
    },
    {
      "cell_type": "markdown",
      "id": "f1ab3608",
      "metadata": {
        "id": "f1ab3608"
      },
      "source": [
        "if you need new, we prepared some data for you [here](https://drive.google.com/file/d/1S_vpQntND9839x8kJpegaEgtSIA4JxHO/view?usp=sharing), or you can simply run the following command to get the data and unzip it.\n",
        "\n",
        "<small>Note: please note that the file contain MetaData to tell you what each image contains <b>THIS IS JUST FOR YOU TO MAKE SURE</b></smmall>"
      ]
    },
    {
      "cell_type": "code",
      "source": [
        "!git clone https://github.com/haya60/test_data.git"
      ],
      "metadata": {
        "colab": {
          "base_uri": "https://localhost:8080/"
        },
        "id": "YXjn7-I5ngLv",
        "outputId": "dbeb7553-5d01-46a6-fdaa-14a9bd88b6ae"
      },
      "id": "YXjn7-I5ngLv",
      "execution_count": 1,
      "outputs": [
        {
          "output_type": "stream",
          "name": "stdout",
          "text": [
            "Cloning into 'test_data'...\n",
            "remote: Enumerating objects: 12636, done.\u001b[K\n",
            "remote: Counting objects: 100% (12636/12636), done.\u001b[K\n",
            "remote: Compressing objects: 100% (12634/12634), done.\u001b[K\n",
            "remote: Total 12636 (delta 0), reused 12636 (delta 0), pack-reused 0 (from 0)\u001b[K\n",
            "Receiving objects: 100% (12636/12636), 72.97 MiB | 16.62 MiB/s, done.\n",
            "Updating files: 100% (12632/12632), done.\n"
          ]
        }
      ]
    },
    {
      "cell_type": "code",
      "source": [
        "# test_dir = '/content/test_data/Test_Dataset/Dataset/00000.png'\n",
        "\n",
        "# img_size = (150, 150)\n",
        "\n",
        "\n",
        "# # test\n",
        "# test_datagen = ImageDataGenerator(rescale=1.0/255.0)\n",
        "\n",
        "# test_generator = test_datagen.flow(\n",
        "#     test_dir,\n",
        "#     # target_size=img_size,\n",
        "# )\n",
        "\n",
        "\n"
      ],
      "metadata": {
        "id": "vvQpEg-klnpi"
      },
      "id": "vvQpEg-klnpi",
      "execution_count": 10,
      "outputs": []
    },
    {
      "cell_type": "code",
      "source": [
        "model.predict(X_test, y_test)"
      ],
      "metadata": {
        "id": "1f5InkONl8VD"
      },
      "id": "1f5InkONl8VD",
      "execution_count": null,
      "outputs": []
    },
    {
      "cell_type": "markdown",
      "id": "8430600d",
      "metadata": {
        "id": "8430600d"
      },
      "source": [
        "## Model Performance Visualization\n"
      ]
    },
    {
      "cell_type": "code",
      "execution_count": 11,
      "id": "50624cfe",
      "metadata": {
        "colab": {
          "base_uri": "https://localhost:8080/",
          "height": 452
        },
        "id": "50624cfe",
        "outputId": "de81baeb-f88e-4a7a-fdf2-bb1a9e180973"
      },
      "outputs": [
        {
          "output_type": "display_data",
          "data": {
            "text/plain": [
              "<Figure size 640x480 with 1 Axes>"
            ],
            "image/png": "[encoded data removed]"
          },
          "metadata": {}
        }
      ],
      "source": [
        "plt.title('Loss / Mean Squared Error')\n",
        "plt.plot(history.history['loss'], label='Train Loss', color='#cc4eb1')\n",
        "plt.plot(history.history['val_loss'], label='Test Loss', color='#614ecc')\n",
        "plt.plot(history.history['accuracy'], label='Train Acc', color='#47a02c')\n",
        "plt.plot(history.history['val_accuracy'], label='Test Acc', color='#2c97a0')\n",
        "plt.legend()\n",
        "plt.show()"
      ]
    },
    {
      "cell_type": "markdown",
      "id": "8d4f3348",
      "metadata": {
        "id": "8d4f3348"
      },
      "source": [
        "## Save the Model\n",
        "Save the trained CNN model for submission."
      ]
    },
    {
      "cell_type": "code",
      "execution_count": 12,
      "id": "fe6b2df0",
      "metadata": {
        "colab": {
          "base_uri": "https://localhost:8080/"
        },
        "id": "fe6b2df0",
        "outputId": "135ffb6c-7708-4e42-e824-de608a171405"
      },
      "outputs": [
        {
          "output_type": "stream",
          "name": "stderr",
          "text": [
            "WARNING:absl:You are saving your model as an HDF5 file via `model.save()` or `keras.saving.save_model(model)`. This file format is considered legacy. We recommend using instead the native Keras format, e.g. `model.save('my_model.keras')` or `keras.saving.save_model(model, 'my_model.keras')`. \n"
          ]
        }
      ],
      "source": [
        "model.save('my_model.h5')"
      ]
    },
    {
      "cell_type": "markdown",
      "id": "ed90995f",
      "metadata": {
        "id": "ed90995f"
      },
      "source": [
        "## Project Questions:\n",
        "\n",
        "1. **Data Preprocessing**: Explain why you chose your specific data preprocessing techniques (e.g., resizing images, normalization, data augmentation). How do these preprocessing steps improve the performance of your CNN model?\n",
        "- Resize to unify all image sizes to the same size, and scale to simplify the image.\n",
        "\n",
        "\n",
        "2. **Model Architecture**: Describe the architecture of your CNN model (e.g., number of convolutional layers, kernel sizes, pooling layers). Why did you choose this structure, and how do you expect each layer to contribute to feature extraction?\n",
        "- My model consists of CNN layers followed by max pooling layers, then flat density layers, each layer tries to extract the most important features and pass them to the next layer.\n",
        "\n",
        "3. **Activation Functions**: Justify your choice of activation functions. How do they influence the training and output of your CNN?\n",
        "\n",
        "\n",
        "4. **Training Process**: Discuss your choice of batch size, number of epochs, and optimizer. How did these decisions impact the training process and the convergence of the model?\n",
        "\n",
        "- For the number of epochs, I chose it randomly and it showed good results, Adam optimizer is the best compared to other types, the type of optimizer you choose may cause the model not to reach the local minimum, some types of optimizers fail in some models, so you need to try different types\n",
        "\n",
        "\n",
        "\n",
        "5. **Loss Function and Metrics**: Explain why you chose the specific loss function and evaluation metrics for this classification task. How do they align with the goal of correctly classifying traffic signs?\n",
        "- it is a classification problem with multi class, so sparse_categorical_crossentropy is the appropriate one\n",
        "\n",
        "\n",
        "6. **Regularization Techniques**: If you used regularization methods like dropout or batch normalization, explain why you implemented them and how they helped prevent overfitting in your model.\n",
        "\n",
        "- i did not use them\n",
        "7. **Model Evaluation**: Justify the method you used to evaluate your model's performance on the test set. Why did you select these evaluation techniques, and what insights did they provide about your model's accuracy and generalization ability?\n",
        "- Accuracy is the most relevant metric for classification tasks, with Model producing a high accuracy of 98% on the test and valid set, witch means it generalize well on unsean data\n",
        "\n",
        "\n",
        "8. **Model Visualization**: Explain the significance of the performance visualizations (e.g., accuracy and loss curves). What do they tell you about your model's training process and its ability to generalize?\n",
        "\n",
        "- the visualization displayed that there is no overfitting, and the accuracy is high\n",
        "9. **Overfitting and Underfitting**: Analyze whether the model encountered any overfitting or underfitting during training. What strategies could you implement to mitigate these issues?\n",
        "- there is no overfitting"
      ]
    }
  ],
  "metadata": {
    "language_info": {
      "name": "python"
    },
    "colab": {
      "provenance": [],
      "gpuType": "T4"
    },
    "kernelspec": {
      "name": "python3",
      "display_name": "Python 3"
    },
    "accelerator": "GPU"
  },
  "nbformat": 4,
  "nbformat_minor": 5
}