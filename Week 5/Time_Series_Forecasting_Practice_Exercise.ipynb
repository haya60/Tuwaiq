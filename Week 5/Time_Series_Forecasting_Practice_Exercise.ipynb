{
 "cells": [
  {
   "cell_type": "markdown",
   "id": "3e2b26be",
   "metadata": {},
   "source": [
    "# Time Series Forecasting Practice Exercise\n",
    "\n",
    "In this practice exercise, you will work on a time series forecasting task. The goal is to go through the entire workflow from loading the data to evaluating the model and making predictions. Follow each step carefully. The dataset is stored in the `Datasets` file with the name `Aquifer_Petrignano` the target is to predict `Depth_to_Groundwater_P24` column.\n",
    "\n",
    "## Dataset: Aquifer Petrignano\n",
    "\n",
    "### Dataset Overview:\n",
    "\n",
    "- **Name**: Aquifer Petrignano\n",
    "- **Description**: This dataset contains time series data related to groundwater levels, rainfall, temperature, and hydrometry in the Aquifer Petrignano region. The data is collected over multiple years, capturing various environmental measurements. It is particularly useful for modeling groundwater levels, climate analysis, and time series forecasting.\n",
    "- **Time Period**: Starting from 14/03/2006\n",
    "- **Frequency**: Daily observations\n",
    "\n",
    "### Features:\n",
    "\n",
    "1. **Date**: The date of the observation in `DD/MM/YYYY` format.\n",
    "2. **Rainfall_Bastia_Umbra**: Daily rainfall measurement in the Bastia Umbra region (mm).\n",
    "3. **Depth_to_Groundwater_P24**: Depth to groundwater at observation point P24 (meters).\n",
    "4. **Depth_to_Groundwater_P25**: Depth to groundwater at observation point P25 (meters).\n",
    "5. **Temperature_Bastia_Umbra**: Daily temperature in the Bastia Umbra region (°C).\n",
    "6. **Temperature_Petrignano**: Daily temperature in the Petrignano region (°C).\n",
    "7. **Volume_C10_Petrignano**: Water volume measured at station C10 in Petrignano (m³).\n",
    "8. **Hydrometry_Fiume_Chiascio_Petrignano**: Hydrometry measurements of the Fiume Chiascio river in Petrignano (m).\n"
   ]
  },
  {
   "cell_type": "markdown",
   "id": "9d58f5eb",
   "metadata": {},
   "source": [
    "## Load the Data\n",
    "\n",
    "Load the time series dataset into a pandas DataFrame.\n",
    "\n",
    "**Instructions:**\n",
    "- Use `pandas` to load your dataset.\n",
    "- Display the first few rows to understand its structure.\n",
    "- Make sure the datetime column is correctly parsed."
   ]
  },
  {
   "cell_type": "code",
   "execution_count": null,
   "id": "aefd4672",
   "metadata": {},
   "outputs": [],
   "source": []
  },
  {
   "cell_type": "markdown",
   "id": "c3122466",
   "metadata": {},
   "source": [
    "## Exploratory Data Analysis (EDA)\n",
    "\n",
    "Perform exploratory data analysis on the dataset.\n",
    "\n",
    "**Instructions:**\n",
    "- Plot the time series data.\n",
    "- Analyze trends, seasonality, and potential outliers.\n",
    "- Plot boxplots or scatter plots to identify any outliers or anomalies in the data.\n",
    "- Seasonal Decomposition: Use seasonal_decompose from the statsmodels library to break down the time series data into trend, seasonality, and residual components. Analyze each component to gain insights into the long-term movement (trend), regular patterns (seasonality), and remaining fluctuations (residuals).\n",
    "\n",
    "Do more if needed!"
   ]
  },
  {
   "cell_type": "code",
   "execution_count": null,
   "id": "05f6fffa",
   "metadata": {},
   "outputs": [],
   "source": []
  },
  {
   "cell_type": "markdown",
   "id": "5827fb18",
   "metadata": {},
   "source": [
    "## Data Preprocessing\n",
    "\n",
    "Clean and preprocess the data.\n",
    "\n",
    "**Instructions:**\n",
    "- Handle any missing values in the dataset.\n",
    "- If necessary, resample the data to ensure consistent time intervals.\n",
    "- Create any additional features needed, such as lags or moving averages.\n",
    "- Make sure that the dates are sorted correctly.\n",
    "\n",
    "Do more if needed!"
   ]
  },
  {
   "cell_type": "code",
   "execution_count": null,
   "id": "d7bb4a46",
   "metadata": {},
   "outputs": [],
   "source": []
  },
  {
   "cell_type": "markdown",
   "id": "10def3f0",
   "metadata": {},
   "source": [
    "## Feature Engineering\n",
    "\n",
    "### Instructions:\n",
    "  \n",
    "- **Shift Method**: Use the `shift` method to create a new column `Prev_Depth_to_Groundwater_P24`, which represents the previous day's groundwater depth. This helps capture the effect of past values on current observations.\n",
    "\n",
    "- **Date Features**: Extract meaningful time-based features from the `Date` column to enhance the model's ability to detect temporal patterns. These features include:\n",
    "  - **Day of the week**: To capture weekly seasonality.\n",
    "  - **Month**: To capture monthly trends.\n",
    "  - **Day of the year**: Useful for modeling yearly seasonality.\n",
    "  - **IsWeekend**: A binary feature that distinguishes between weekdays and weekends.\n",
    "  - **Difference between Depth_to_Groundwater_P24**: Calculate the difference between consecutive values in the `Depth_to_Groundwater_P24` column to highlight short-term changes in groundwater depth."
   ]
  },
  {
   "cell_type": "code",
   "execution_count": null,
   "id": "d62cd837",
   "metadata": {},
   "outputs": [],
   "source": []
  },
  {
   "cell_type": "markdown",
   "id": "3f9fe326",
   "metadata": {},
   "source": [
    "## Train-Test Split\n",
    "\n",
    "Split the dataset into training and testing sets.\n",
    "\n",
    "**Instructions:**\n",
    "- Ensure the split maintains the time order of the data.\n",
    "- Decide on an appropriate ratio for splitting the data."
   ]
  },
  {
   "cell_type": "code",
   "execution_count": null,
   "id": "38bd86e0",
   "metadata": {},
   "outputs": [],
   "source": []
  },
  {
   "cell_type": "markdown",
   "id": "4bd267bb",
   "metadata": {},
   "source": [
    "## Feature Scaling\n",
    "\n",
    "Apply feature scaling to the data if needed.\n",
    "\n",
    "**Instructions:**\n",
    "- Use a scaling method such as MinMaxScaler or StandardScaler.\n",
    "- Ensure scaling is applied correctly to both training and testing data."
   ]
  },
  {
   "cell_type": "code",
   "execution_count": null,
   "id": "2a8387e5",
   "metadata": {},
   "outputs": [],
   "source": []
  },
  {
   "cell_type": "markdown",
   "id": "4f0be6e9",
   "metadata": {},
   "source": [
    "## Models Selection\n",
    "\n",
    "Choose two models for time series forecasting.\n",
    "\n",
    "**Instructions:**\n",
    "- Select two models such as ARIMA, SARIMA, RNN, LSTM, or GRU.\n",
    "- Train these models and then compare their performance."
   ]
  },
  {
   "cell_type": "code",
   "execution_count": null,
   "id": "ffceef22",
   "metadata": {},
   "outputs": [],
   "source": []
  },
  {
   "cell_type": "markdown",
   "id": "0981f787",
   "metadata": {},
   "source": [
    "### Model 1 Training\n",
    "\n",
    "Train your first model on the training dataset.\n",
    "\n",
    "**Instructions:**\n",
    "- Fit the first model to the training data.\n",
    "- Ensure to monitor the training process."
   ]
  },
  {
   "cell_type": "code",
   "execution_count": null,
   "id": "8205ed7f",
   "metadata": {},
   "outputs": [],
   "source": []
  },
  {
   "cell_type": "markdown",
   "id": "5f5b3fe3",
   "metadata": {},
   "source": [
    "### Make 1 Predictions\n",
    "\n",
    "Generate predictions on the test dataset.\n",
    "\n",
    "### Instructions:\n",
    "- Use the trained model to make predictions on the test data.\n",
    "- Store the predictions for further analysis."
   ]
  },
  {
   "cell_type": "code",
   "execution_count": null,
   "id": "d1d5cca3",
   "metadata": {},
   "outputs": [],
   "source": []
  },
  {
   "cell_type": "markdown",
   "id": "6489cd08",
   "metadata": {},
   "source": [
    "### Model 1 Evaluation\n",
    "\n",
    "Evaluate the performance of your first model on the test dataset.\n",
    "\n",
    "**Instructions:**\n",
    "- Calculate evaluation metrics such as MAE, MSE, RMSE, or MAPE.\n",
    "- Plot the predicted vs actual values for the test set.\n",
    "- Plot the loss and the validation loss."
   ]
  },
  {
   "cell_type": "code",
   "execution_count": null,
   "id": "aad46e07",
   "metadata": {},
   "outputs": [],
   "source": []
  },
  {
   "cell_type": "markdown",
   "id": "82dd396a",
   "metadata": {},
   "source": [
    "### Model 2 Training\n",
    "\n",
    "Train your second model on the training dataset.\n",
    "\n",
    "**Instructions:**\n",
    "- Fit the second model to the training data.\n",
    "- Ensure to monitor the training process."
   ]
  },
  {
   "cell_type": "code",
   "execution_count": null,
   "id": "b8605884",
   "metadata": {},
   "outputs": [],
   "source": []
  },
  {
   "cell_type": "markdown",
   "id": "3e811d93",
   "metadata": {},
   "source": [
    "### Make 2 Predictions\n",
    "\n",
    "Generate predictions on the test dataset.\n",
    "\n",
    "### Instructions:\n",
    "- Use the trained model to make predictions on the test data.\n",
    "- Store the predictions for further analysis."
   ]
  },
  {
   "cell_type": "code",
   "execution_count": null,
   "id": "d1492fe0",
   "metadata": {},
   "outputs": [],
   "source": []
  },
  {
   "cell_type": "markdown",
   "id": "9d7f7af2",
   "metadata": {},
   "source": [
    "### Model 2 Evaluation\n",
    "\n",
    "Evaluate the performance of your second model on the test dataset.\n",
    "\n",
    "**Instructions:**\n",
    "- Calculate evaluation metrics such as MAE, MSE, RMSE, or MAPE.\n",
    "- Plot the predicted vs actual values for the test set.\n",
    "- Plot the loss and the validation loss."
   ]
  },
  {
   "cell_type": "code",
   "execution_count": null,
   "id": "7c3b85de",
   "metadata": {},
   "outputs": [],
   "source": []
  },
  {
   "cell_type": "markdown",
   "id": "aea89efa",
   "metadata": {},
   "source": [
    "## Conclusion and Interpretation\n",
    "\n",
    "Write your conclusions based on the model's performance and the forecast.\n",
    "\n",
    "**Instructions:**\n",
    "- Interpret the results and discuss the effectiveness of your model.\n",
    "- Suggest potential improvements."
   ]
  },
  {
   "cell_type": "code",
   "execution_count": null,
   "id": "b99bfe01",
   "metadata": {},
   "outputs": [],
   "source": []
  }
 ],
 "metadata": {
  "kernelspec": {
   "display_name": "base",
   "language": "python",
   "name": "python3"
  },
  "language_info": {
   "codemirror_mode": {
    "name": "ipython",
    "version": 3
   },
   "file_extension": ".py",
   "mimetype": "text/x-python",
   "name": "python",
   "nbconvert_exporter": "python",
   "pygments_lexer": "ipython3",
   "version": "3.12.4"
  }
 },
 "nbformat": 4,
 "nbformat_minor": 5
}
