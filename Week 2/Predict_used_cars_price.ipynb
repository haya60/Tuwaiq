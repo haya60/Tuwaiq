{
  "nbformat": 4,
  "nbformat_minor": 0,
  "metadata": {
    "colab": {
      "provenance": []
    },
    "kernelspec": {
      "name": "python3",
      "display_name": "Python 3"
    },
    "language_info": {
      "name": "python"
    }
  },
  "cells": [
    {
      "cell_type": "code",
      "execution_count": 1,
      "metadata": {
        "id": "j5BmYnLEYhqB"
      },
      "outputs": [],
      "source": [
        "import pandas as pd\n",
        "import numpy as np\n",
        "import matplotlib.pyplot as plt\n",
        "import seaborn as sns\n",
        "\n",
        "import plotly.express as px\n",
        "import plotly.graph_objects as go"
      ]
    },
    {
      "cell_type": "code",
      "source": [
        "from google.colab import drive\n",
        "drive.mount('/content/drive')"
      ],
      "metadata": {
        "colab": {
          "base_uri": "https://localhost:8080/"
        },
        "id": "dSyQAAcCYlns",
        "outputId": "db76e99a-f312-4242-8c56-38d9dafcb1e4"
      },
      "execution_count": 2,
      "outputs": [
        {
          "output_type": "stream",
          "name": "stdout",
          "text": [
            "Mounted at /content/drive\n"
          ]
        }
      ]
    },
    {
      "cell_type": "code",
      "source": [
        "df = pd.read_csv('/content/drive/MyDrive/Tuwaiq/Week 2/T5_Phase4/Data_Analysis/Content/Extra Excercises/Datasets/Used_Cars.csv')"
      ],
      "metadata": {
        "id": "di0w5KARYu2n"
      },
      "execution_count": 3,
      "outputs": []
    },
    {
      "cell_type": "markdown",
      "source": [
        "# Data Exploration"
      ],
      "metadata": {
        "id": "I7P4H9FLZEBW"
      }
    },
    {
      "cell_type": "code",
      "source": [
        "df.head()"
      ],
      "metadata": {
        "colab": {
          "base_uri": "https://localhost:8080/",
          "height": 310
        },
        "id": "zJnpGNI4s__c",
        "outputId": "aab598a3-ac3a-40dc-8b2b-2c095057d6d2"
      },
      "execution_count": 5,
      "outputs": [
        {
          "output_type": "execute_result",
          "data": {
            "text/plain": [
              "   Unnamed: 0                              Name    Location  Year  \\\n",
              "0           0            Maruti Wagon R LXI CNG      Mumbai  2010   \n",
              "1           1  Hyundai Creta 1.6 CRDi SX Option        Pune  2015   \n",
              "2           2                      Honda Jazz V     Chennai  2011   \n",
              "3           3                 Maruti Ertiga VDI     Chennai  2012   \n",
              "4           4   Audi A4 New 2.0 TDI Multitronic  Coimbatore  2013   \n",
              "\n",
              "   Kilometers_Driven Fuel_Type Transmission Owner_Type     Mileage   Engine  \\\n",
              "0              72000       CNG       Manual      First  26.6 km/kg   998 CC   \n",
              "1              41000    Diesel       Manual      First  19.67 kmpl  1582 CC   \n",
              "2              46000    Petrol       Manual      First   18.2 kmpl  1199 CC   \n",
              "3              87000    Diesel       Manual      First  20.77 kmpl  1248 CC   \n",
              "4              40670    Diesel    Automatic     Second   15.2 kmpl  1968 CC   \n",
              "\n",
              "       Power  Seats  New_Price  Price  \n",
              "0  58.16 bhp    5.0        NaN   1.75  \n",
              "1  126.2 bhp    5.0        NaN  12.50  \n",
              "2   88.7 bhp    5.0  8.61 Lakh   4.50  \n",
              "3  88.76 bhp    7.0        NaN   6.00  \n",
              "4  140.8 bhp    5.0        NaN  17.74  "
            ],
            "text/html": [
              "\n",
              "  <div id=\"df-ade3cd53-cca6-49aa-a1c3-b40cc3c00dd1\" class=\"colab-df-container\">\n",
              "    <div>\n",
              "<style scoped>\n",
              "    .dataframe tbody tr th:only-of-type {\n",
              "        vertical-align: middle;\n",
              "    }\n",
              "\n",
              "    .dataframe tbody tr th {\n",
              "        vertical-align: top;\n",
              "    }\n",
              "\n",
              "    .dataframe thead th {\n",
              "        text-align: right;\n",
              "    }\n",
              "</style>\n",
              "<table border=\"1\" class=\"dataframe\">\n",
              "  <thead>\n",
              "    <tr style=\"text-align: right;\">\n",
              "      <th></th>\n",
              "      <th>Unnamed: 0</th>\n",
              "      <th>Name</th>\n",
              "      <th>Location</th>\n",
              "      <th>Year</th>\n",
              "      <th>Kilometers_Driven</th>\n",
              "      <th>Fuel_Type</th>\n",
              "      <th>Transmission</th>\n",
              "      <th>Owner_Type</th>\n",
              "      <th>Mileage</th>\n",
              "      <th>Engine</th>\n",
              "      <th>Power</th>\n",
              "      <th>Seats</th>\n",
              "      <th>New_Price</th>\n",
              "      <th>Price</th>\n",
              "    </tr>\n",
              "  </thead>\n",
              "  <tbody>\n",
              "    <tr>\n",
              "      <th>0</th>\n",
              "      <td>0</td>\n",
              "      <td>Maruti Wagon R LXI CNG</td>\n",
              "      <td>Mumbai</td>\n",
              "      <td>2010</td>\n",
              "      <td>72000</td>\n",
              "      <td>CNG</td>\n",
              "      <td>Manual</td>\n",
              "      <td>First</td>\n",
              "      <td>26.6 km/kg</td>\n",
              "      <td>998 CC</td>\n",
              "      <td>58.16 bhp</td>\n",
              "      <td>5.0</td>\n",
              "      <td>NaN</td>\n",
              "      <td>1.75</td>\n",
              "    </tr>\n",
              "    <tr>\n",
              "      <th>1</th>\n",
              "      <td>1</td>\n",
              "      <td>Hyundai Creta 1.6 CRDi SX Option</td>\n",
              "      <td>Pune</td>\n",
              "      <td>2015</td>\n",
              "      <td>41000</td>\n",
              "      <td>Diesel</td>\n",
              "      <td>Manual</td>\n",
              "      <td>First</td>\n",
              "      <td>19.67 kmpl</td>\n",
              "      <td>1582 CC</td>\n",
              "      <td>126.2 bhp</td>\n",
              "      <td>5.0</td>\n",
              "      <td>NaN</td>\n",
              "      <td>12.50</td>\n",
              "    </tr>\n",
              "    <tr>\n",
              "      <th>2</th>\n",
              "      <td>2</td>\n",
              "      <td>Honda Jazz V</td>\n",
              "      <td>Chennai</td>\n",
              "      <td>2011</td>\n",
              "      <td>46000</td>\n",
              "      <td>Petrol</td>\n",
              "      <td>Manual</td>\n",
              "      <td>First</td>\n",
              "      <td>18.2 kmpl</td>\n",
              "      <td>1199 CC</td>\n",
              "      <td>88.7 bhp</td>\n",
              "      <td>5.0</td>\n",
              "      <td>8.61 Lakh</td>\n",
              "      <td>4.50</td>\n",
              "    </tr>\n",
              "    <tr>\n",
              "      <th>3</th>\n",
              "      <td>3</td>\n",
              "      <td>Maruti Ertiga VDI</td>\n",
              "      <td>Chennai</td>\n",
              "      <td>2012</td>\n",
              "      <td>87000</td>\n",
              "      <td>Diesel</td>\n",
              "      <td>Manual</td>\n",
              "      <td>First</td>\n",
              "      <td>20.77 kmpl</td>\n",
              "      <td>1248 CC</td>\n",
              "      <td>88.76 bhp</td>\n",
              "      <td>7.0</td>\n",
              "      <td>NaN</td>\n",
              "      <td>6.00</td>\n",
              "    </tr>\n",
              "    <tr>\n",
              "      <th>4</th>\n",
              "      <td>4</td>\n",
              "      <td>Audi A4 New 2.0 TDI Multitronic</td>\n",
              "      <td>Coimbatore</td>\n",
              "      <td>2013</td>\n",
              "      <td>40670</td>\n",
              "      <td>Diesel</td>\n",
              "      <td>Automatic</td>\n",
              "      <td>Second</td>\n",
              "      <td>15.2 kmpl</td>\n",
              "      <td>1968 CC</td>\n",
              "      <td>140.8 bhp</td>\n",
              "      <td>5.0</td>\n",
              "      <td>NaN</td>\n",
              "      <td>17.74</td>\n",
              "    </tr>\n",
              "  </tbody>\n",
              "</table>\n",
              "</div>\n",
              "    <div class=\"colab-df-buttons\">\n",
              "\n",
              "  <div class=\"colab-df-container\">\n",
              "    <button class=\"colab-df-convert\" onclick=\"convertToInteractive('df-ade3cd53-cca6-49aa-a1c3-b40cc3c00dd1')\"\n",
              "            title=\"Convert this dataframe to an interactive table.\"\n",
              "            style=\"display:none;\">\n",
              "\n",
              "  <svg xmlns=\"http://www.w3.org/2000/svg\" height=\"24px\" viewBox=\"0 -960 960 960\">\n",
              "    <path d=\"M120-120v-720h720v720H120Zm60-500h600v-160H180v160Zm220 220h160v-160H400v160Zm0 220h160v-160H400v160ZM180-400h160v-160H180v160Zm440 0h160v-160H620v160ZM180-180h160v-160H180v160Zm440 0h160v-160H620v160Z\"/>\n",
              "  </svg>\n",
              "    </button>\n",
              "\n",
              "  <style>\n",
              "    .colab-df-container {\n",
              "      display:flex;\n",
              "      gap: 12px;\n",
              "    }\n",
              "\n",
              "    .colab-df-convert {\n",
              "      background-color: #E8F0FE;\n",
              "      border: none;\n",
              "      border-radius: 50%;\n",
              "      cursor: pointer;\n",
              "      display: none;\n",
              "      fill: #1967D2;\n",
              "      height: 32px;\n",
              "      padding: 0 0 0 0;\n",
              "      width: 32px;\n",
              "    }\n",
              "\n",
              "    .colab-df-convert:hover {\n",
              "      background-color: #E2EBFA;\n",
              "      box-shadow: 0px 1px 2px rgba(60, 64, 67, 0.3), 0px 1px 3px 1px rgba(60, 64, 67, 0.15);\n",
              "      fill: #174EA6;\n",
              "    }\n",
              "\n",
              "    .colab-df-buttons div {\n",
              "      margin-bottom: 4px;\n",
              "    }\n",
              "\n",
              "    [theme=dark] .colab-df-convert {\n",
              "      background-color: #3B4455;\n",
              "      fill: #D2E3FC;\n",
              "    }\n",
              "\n",
              "    [theme=dark] .colab-df-convert:hover {\n",
              "      background-color: #434B5C;\n",
              "      box-shadow: 0px 1px 3px 1px rgba(0, 0, 0, 0.15);\n",
              "      filter: drop-shadow(0px 1px 2px rgba(0, 0, 0, 0.3));\n",
              "      fill: #FFFFFF;\n",
              "    }\n",
              "  </style>\n",
              "\n",
              "    <script>\n",
              "      const buttonEl =\n",
              "        document.querySelector('#df-ade3cd53-cca6-49aa-a1c3-b40cc3c00dd1 button.colab-df-convert');\n",
              "      buttonEl.style.display =\n",
              "        google.colab.kernel.accessAllowed ? 'block' : 'none';\n",
              "\n",
              "      async function convertToInteractive(key) {\n",
              "        const element = document.querySelector('#df-ade3cd53-cca6-49aa-a1c3-b40cc3c00dd1');\n",
              "        const dataTable =\n",
              "          await google.colab.kernel.invokeFunction('convertToInteractive',\n",
              "                                                    [key], {});\n",
              "        if (!dataTable) return;\n",
              "\n",
              "        const docLinkHtml = 'Like what you see? Visit the ' +\n",
              "          '<a target=\"_blank\" href=https://colab.research.google.com/notebooks/data_table.ipynb>data table notebook</a>'\n",
              "          + ' to learn more about interactive tables.';\n",
              "        element.innerHTML = '';\n",
              "        dataTable['output_type'] = 'display_data';\n",
              "        await google.colab.output.renderOutput(dataTable, element);\n",
              "        const docLink = document.createElement('div');\n",
              "        docLink.innerHTML = docLinkHtml;\n",
              "        element.appendChild(docLink);\n",
              "      }\n",
              "    </script>\n",
              "  </div>\n",
              "\n",
              "\n",
              "<div id=\"df-865828a1-54c5-499e-aa9e-e33fcec7d834\">\n",
              "  <button class=\"colab-df-quickchart\" onclick=\"quickchart('df-865828a1-54c5-499e-aa9e-e33fcec7d834')\"\n",
              "            title=\"Suggest charts\"\n",
              "            style=\"display:none;\">\n",
              "\n",
              "<svg xmlns=\"http://www.w3.org/2000/svg\" height=\"24px\"viewBox=\"0 0 24 24\"\n",
              "     width=\"24px\">\n",
              "    <g>\n",
              "        <path d=\"M19 3H5c-1.1 0-2 .9-2 2v14c0 1.1.9 2 2 2h14c1.1 0 2-.9 2-2V5c0-1.1-.9-2-2-2zM9 17H7v-7h2v7zm4 0h-2V7h2v10zm4 0h-2v-4h2v4z\"/>\n",
              "    </g>\n",
              "</svg>\n",
              "  </button>\n",
              "\n",
              "<style>\n",
              "  .colab-df-quickchart {\n",
              "      --bg-color: #E8F0FE;\n",
              "      --fill-color: #1967D2;\n",
              "      --hover-bg-color: #E2EBFA;\n",
              "      --hover-fill-color: #174EA6;\n",
              "      --disabled-fill-color: #AAA;\n",
              "      --disabled-bg-color: #DDD;\n",
              "  }\n",
              "\n",
              "  [theme=dark] .colab-df-quickchart {\n",
              "      --bg-color: #3B4455;\n",
              "      --fill-color: #D2E3FC;\n",
              "      --hover-bg-color: #434B5C;\n",
              "      --hover-fill-color: #FFFFFF;\n",
              "      --disabled-bg-color: #3B4455;\n",
              "      --disabled-fill-color: #666;\n",
              "  }\n",
              "\n",
              "  .colab-df-quickchart {\n",
              "    background-color: var(--bg-color);\n",
              "    border: none;\n",
              "    border-radius: 50%;\n",
              "    cursor: pointer;\n",
              "    display: none;\n",
              "    fill: var(--fill-color);\n",
              "    height: 32px;\n",
              "    padding: 0;\n",
              "    width: 32px;\n",
              "  }\n",
              "\n",
              "  .colab-df-quickchart:hover {\n",
              "    background-color: var(--hover-bg-color);\n",
              "    box-shadow: 0 1px 2px rgba(60, 64, 67, 0.3), 0 1px 3px 1px rgba(60, 64, 67, 0.15);\n",
              "    fill: var(--button-hover-fill-color);\n",
              "  }\n",
              "\n",
              "  .colab-df-quickchart-complete:disabled,\n",
              "  .colab-df-quickchart-complete:disabled:hover {\n",
              "    background-color: var(--disabled-bg-color);\n",
              "    fill: var(--disabled-fill-color);\n",
              "    box-shadow: none;\n",
              "  }\n",
              "\n",
              "  .colab-df-spinner {\n",
              "    border: 2px solid var(--fill-color);\n",
              "    border-color: transparent;\n",
              "    border-bottom-color: var(--fill-color);\n",
              "    animation:\n",
              "      spin 1s steps(1) infinite;\n",
              "  }\n",
              "\n",
              "  @keyframes spin {\n",
              "    0% {\n",
              "      border-color: transparent;\n",
              "      border-bottom-color: var(--fill-color);\n",
              "      border-left-color: var(--fill-color);\n",
              "    }\n",
              "    20% {\n",
              "      border-color: transparent;\n",
              "      border-left-color: var(--fill-color);\n",
              "      border-top-color: var(--fill-color);\n",
              "    }\n",
              "    30% {\n",
              "      border-color: transparent;\n",
              "      border-left-color: var(--fill-color);\n",
              "      border-top-color: var(--fill-color);\n",
              "      border-right-color: var(--fill-color);\n",
              "    }\n",
              "    40% {\n",
              "      border-color: transparent;\n",
              "      border-right-color: var(--fill-color);\n",
              "      border-top-color: var(--fill-color);\n",
              "    }\n",
              "    60% {\n",
              "      border-color: transparent;\n",
              "      border-right-color: var(--fill-color);\n",
              "    }\n",
              "    80% {\n",
              "      border-color: transparent;\n",
              "      border-right-color: var(--fill-color);\n",
              "      border-bottom-color: var(--fill-color);\n",
              "    }\n",
              "    90% {\n",
              "      border-color: transparent;\n",
              "      border-bottom-color: var(--fill-color);\n",
              "    }\n",
              "  }\n",
              "</style>\n",
              "\n",
              "  <script>\n",
              "    async function quickchart(key) {\n",
              "      const quickchartButtonEl =\n",
              "        document.querySelector('#' + key + ' button');\n",
              "      quickchartButtonEl.disabled = true;  // To prevent multiple clicks.\n",
              "      quickchartButtonEl.classList.add('colab-df-spinner');\n",
              "      try {\n",
              "        const charts = await google.colab.kernel.invokeFunction(\n",
              "            'suggestCharts', [key], {});\n",
              "      } catch (error) {\n",
              "        console.error('Error during call to suggestCharts:', error);\n",
              "      }\n",
              "      quickchartButtonEl.classList.remove('colab-df-spinner');\n",
              "      quickchartButtonEl.classList.add('colab-df-quickchart-complete');\n",
              "    }\n",
              "    (() => {\n",
              "      let quickchartButtonEl =\n",
              "        document.querySelector('#df-865828a1-54c5-499e-aa9e-e33fcec7d834 button');\n",
              "      quickchartButtonEl.style.display =\n",
              "        google.colab.kernel.accessAllowed ? 'block' : 'none';\n",
              "    })();\n",
              "  </script>\n",
              "</div>\n",
              "\n",
              "    </div>\n",
              "  </div>\n"
            ],
            "application/vnd.google.colaboratory.intrinsic+json": {
              "type": "dataframe",
              "variable_name": "df",
              "summary": "{\n  \"name\": \"df\",\n  \"rows\": 6019,\n  \"fields\": [\n    {\n      \"column\": \"Unnamed: 0\",\n      \"properties\": {\n        \"dtype\": \"number\",\n        \"std\": 1737,\n        \"min\": 0,\n        \"max\": 6018,\n        \"num_unique_values\": 6019,\n        \"samples\": [\n          2868,\n          5924,\n          3764\n        ],\n        \"semantic_type\": \"\",\n        \"description\": \"\"\n      }\n    },\n    {\n      \"column\": \"Name\",\n      \"properties\": {\n        \"dtype\": \"category\",\n        \"num_unique_values\": 1876,\n        \"samples\": [\n          \"Hyundai i20 1.2 Era\",\n          \"Toyota Corolla Altis GL MT\",\n          \"BMW 5 Series 2013-2017 520d Luxury Line\"\n        ],\n        \"semantic_type\": \"\",\n        \"description\": \"\"\n      }\n    },\n    {\n      \"column\": \"Location\",\n      \"properties\": {\n        \"dtype\": \"category\",\n        \"num_unique_values\": 11,\n        \"samples\": [\n          \"Jaipur\",\n          \"Mumbai\",\n          \"Bangalore\"\n        ],\n        \"semantic_type\": \"\",\n        \"description\": \"\"\n      }\n    },\n    {\n      \"column\": \"Year\",\n      \"properties\": {\n        \"dtype\": \"number\",\n        \"std\": 3,\n        \"min\": 1998,\n        \"max\": 2019,\n        \"num_unique_values\": 22,\n        \"samples\": [\n          2010,\n          2006,\n          2017\n        ],\n        \"semantic_type\": \"\",\n        \"description\": \"\"\n      }\n    },\n    {\n      \"column\": \"Kilometers_Driven\",\n      \"properties\": {\n        \"dtype\": \"number\",\n        \"std\": 91268,\n        \"min\": 171,\n        \"max\": 6500000,\n        \"num_unique_values\": 3093,\n        \"samples\": [\n          66484,\n          20364,\n          15134\n        ],\n        \"semantic_type\": \"\",\n        \"description\": \"\"\n      }\n    },\n    {\n      \"column\": \"Fuel_Type\",\n      \"properties\": {\n        \"dtype\": \"category\",\n        \"num_unique_values\": 5,\n        \"samples\": [\n          \"Diesel\",\n          \"Electric\",\n          \"Petrol\"\n        ],\n        \"semantic_type\": \"\",\n        \"description\": \"\"\n      }\n    },\n    {\n      \"column\": \"Transmission\",\n      \"properties\": {\n        \"dtype\": \"category\",\n        \"num_unique_values\": 2,\n        \"samples\": [\n          \"Automatic\",\n          \"Manual\"\n        ],\n        \"semantic_type\": \"\",\n        \"description\": \"\"\n      }\n    },\n    {\n      \"column\": \"Owner_Type\",\n      \"properties\": {\n        \"dtype\": \"category\",\n        \"num_unique_values\": 4,\n        \"samples\": [\n          \"Second\",\n          \"Third\"\n        ],\n        \"semantic_type\": \"\",\n        \"description\": \"\"\n      }\n    },\n    {\n      \"column\": \"Mileage\",\n      \"properties\": {\n        \"dtype\": \"category\",\n        \"num_unique_values\": 442,\n        \"samples\": [\n          \"19.6 kmpl\",\n          \"14.6 kmpl\"\n        ],\n        \"semantic_type\": \"\",\n        \"description\": \"\"\n      }\n    },\n    {\n      \"column\": \"Engine\",\n      \"properties\": {\n        \"dtype\": \"category\",\n        \"num_unique_values\": 146,\n        \"samples\": [\n          \"2967 CC\",\n          \"1978 CC\"\n        ],\n        \"semantic_type\": \"\",\n        \"description\": \"\"\n      }\n    },\n    {\n      \"column\": \"Power\",\n      \"properties\": {\n        \"dtype\": \"category\",\n        \"num_unique_values\": 372,\n        \"samples\": [\n          \"402 bhp\",\n          \"46.3 bhp\"\n        ],\n        \"semantic_type\": \"\",\n        \"description\": \"\"\n      }\n    },\n    {\n      \"column\": \"Seats\",\n      \"properties\": {\n        \"dtype\": \"number\",\n        \"std\": 0.8088395547482927,\n        \"min\": 0.0,\n        \"max\": 10.0,\n        \"num_unique_values\": 9,\n        \"samples\": [\n          9.0,\n          7.0\n        ],\n        \"semantic_type\": \"\",\n        \"description\": \"\"\n      }\n    },\n    {\n      \"column\": \"New_Price\",\n      \"properties\": {\n        \"dtype\": \"category\",\n        \"num_unique_values\": 540,\n        \"samples\": [\n          \"12.88 Lakh\",\n          \"14.84 Lakh\"\n        ],\n        \"semantic_type\": \"\",\n        \"description\": \"\"\n      }\n    },\n    {\n      \"column\": \"Price\",\n      \"properties\": {\n        \"dtype\": \"number\",\n        \"std\": 11.1879171124555,\n        \"min\": 0.44,\n        \"max\": 160.0,\n        \"num_unique_values\": 1373,\n        \"samples\": [\n          10.99,\n          45.86\n        ],\n        \"semantic_type\": \"\",\n        \"description\": \"\"\n      }\n    }\n  ]\n}"
            }
          },
          "metadata": {},
          "execution_count": 5
        }
      ]
    },
    {
      "cell_type": "code",
      "source": [
        "df['Name'].nunique()"
      ],
      "metadata": {
        "colab": {
          "base_uri": "https://localhost:8080/"
        },
        "id": "kEt95sG3C8z8",
        "outputId": "9f2abc4a-f439-42cd-a188-394dd4340a37"
      },
      "execution_count": 140,
      "outputs": [
        {
          "output_type": "execute_result",
          "data": {
            "text/plain": [
              "1780"
            ]
          },
          "metadata": {},
          "execution_count": 140
        }
      ]
    },
    {
      "cell_type": "code",
      "source": [
        "df['Location'].nunique()"
      ],
      "metadata": {
        "colab": {
          "base_uri": "https://localhost:8080/"
        },
        "id": "PZqrIUFdDFQA",
        "outputId": "507ce63f-6887-46ff-f8e4-cd7ecbc4fe2f"
      },
      "execution_count": 141,
      "outputs": [
        {
          "output_type": "execute_result",
          "data": {
            "text/plain": [
              "11"
            ]
          },
          "metadata": {},
          "execution_count": 141
        }
      ]
    },
    {
      "cell_type": "code",
      "source": [
        "df.info()"
      ],
      "metadata": {
        "colab": {
          "base_uri": "https://localhost:8080/"
        },
        "id": "CJSl49JvYu7T",
        "outputId": "264db06f-5e18-4bf8-9b7a-c25b9af6a289"
      },
      "execution_count": 4,
      "outputs": [
        {
          "output_type": "stream",
          "name": "stdout",
          "text": [
            "<class 'pandas.core.frame.DataFrame'>\n",
            "RangeIndex: 6019 entries, 0 to 6018\n",
            "Data columns (total 14 columns):\n",
            " #   Column             Non-Null Count  Dtype  \n",
            "---  ------             --------------  -----  \n",
            " 0   Unnamed: 0         6019 non-null   int64  \n",
            " 1   Name               6019 non-null   object \n",
            " 2   Location           6019 non-null   object \n",
            " 3   Year               6019 non-null   int64  \n",
            " 4   Kilometers_Driven  6019 non-null   int64  \n",
            " 5   Fuel_Type          6019 non-null   object \n",
            " 6   Transmission       6019 non-null   object \n",
            " 7   Owner_Type         6019 non-null   object \n",
            " 8   Mileage            6017 non-null   object \n",
            " 9   Engine             5983 non-null   object \n",
            " 10  Power              5983 non-null   object \n",
            " 11  Seats              5977 non-null   float64\n",
            " 12  New_Price          824 non-null    object \n",
            " 13  Price              6019 non-null   float64\n",
            "dtypes: float64(2), int64(3), object(9)\n",
            "memory usage: 658.5+ KB\n"
          ]
        }
      ]
    },
    {
      "cell_type": "code",
      "source": [
        "df.describe()"
      ],
      "metadata": {
        "colab": {
          "base_uri": "https://localhost:8080/",
          "height": 300
        },
        "id": "UhQVTP-FYu-3",
        "outputId": "af20587e-018c-4061-b411-19593c61e786"
      },
      "execution_count": 6,
      "outputs": [
        {
          "output_type": "execute_result",
          "data": {
            "text/plain": [
              "        Unnamed: 0         Year  Kilometers_Driven        Seats        Price\n",
              "count  6019.000000  6019.000000       6.019000e+03  5977.000000  6019.000000\n",
              "mean   3009.000000  2013.358199       5.873838e+04     5.278735     9.479468\n",
              "std    1737.679967     3.269742       9.126884e+04     0.808840    11.187917\n",
              "min       0.000000  1998.000000       1.710000e+02     0.000000     0.440000\n",
              "25%    1504.500000  2011.000000       3.400000e+04     5.000000     3.500000\n",
              "50%    3009.000000  2014.000000       5.300000e+04     5.000000     5.640000\n",
              "75%    4513.500000  2016.000000       7.300000e+04     5.000000     9.950000\n",
              "max    6018.000000  2019.000000       6.500000e+06    10.000000   160.000000"
            ],
            "text/html": [
              "\n",
              "  <div id=\"df-8d19529d-b549-4f86-aaa3-c95cfb61bef9\" class=\"colab-df-container\">\n",
              "    <div>\n",
              "<style scoped>\n",
              "    .dataframe tbody tr th:only-of-type {\n",
              "        vertical-align: middle;\n",
              "    }\n",
              "\n",
              "    .dataframe tbody tr th {\n",
              "        vertical-align: top;\n",
              "    }\n",
              "\n",
              "    .dataframe thead th {\n",
              "        text-align: right;\n",
              "    }\n",
              "</style>\n",
              "<table border=\"1\" class=\"dataframe\">\n",
              "  <thead>\n",
              "    <tr style=\"text-align: right;\">\n",
              "      <th></th>\n",
              "      <th>Unnamed: 0</th>\n",
              "      <th>Year</th>\n",
              "      <th>Kilometers_Driven</th>\n",
              "      <th>Seats</th>\n",
              "      <th>Price</th>\n",
              "    </tr>\n",
              "  </thead>\n",
              "  <tbody>\n",
              "    <tr>\n",
              "      <th>count</th>\n",
              "      <td>6019.000000</td>\n",
              "      <td>6019.000000</td>\n",
              "      <td>6.019000e+03</td>\n",
              "      <td>5977.000000</td>\n",
              "      <td>6019.000000</td>\n",
              "    </tr>\n",
              "    <tr>\n",
              "      <th>mean</th>\n",
              "      <td>3009.000000</td>\n",
              "      <td>2013.358199</td>\n",
              "      <td>5.873838e+04</td>\n",
              "      <td>5.278735</td>\n",
              "      <td>9.479468</td>\n",
              "    </tr>\n",
              "    <tr>\n",
              "      <th>std</th>\n",
              "      <td>1737.679967</td>\n",
              "      <td>3.269742</td>\n",
              "      <td>9.126884e+04</td>\n",
              "      <td>0.808840</td>\n",
              "      <td>11.187917</td>\n",
              "    </tr>\n",
              "    <tr>\n",
              "      <th>min</th>\n",
              "      <td>0.000000</td>\n",
              "      <td>1998.000000</td>\n",
              "      <td>1.710000e+02</td>\n",
              "      <td>0.000000</td>\n",
              "      <td>0.440000</td>\n",
              "    </tr>\n",
              "    <tr>\n",
              "      <th>25%</th>\n",
              "      <td>1504.500000</td>\n",
              "      <td>2011.000000</td>\n",
              "      <td>3.400000e+04</td>\n",
              "      <td>5.000000</td>\n",
              "      <td>3.500000</td>\n",
              "    </tr>\n",
              "    <tr>\n",
              "      <th>50%</th>\n",
              "      <td>3009.000000</td>\n",
              "      <td>2014.000000</td>\n",
              "      <td>5.300000e+04</td>\n",
              "      <td>5.000000</td>\n",
              "      <td>5.640000</td>\n",
              "    </tr>\n",
              "    <tr>\n",
              "      <th>75%</th>\n",
              "      <td>4513.500000</td>\n",
              "      <td>2016.000000</td>\n",
              "      <td>7.300000e+04</td>\n",
              "      <td>5.000000</td>\n",
              "      <td>9.950000</td>\n",
              "    </tr>\n",
              "    <tr>\n",
              "      <th>max</th>\n",
              "      <td>6018.000000</td>\n",
              "      <td>2019.000000</td>\n",
              "      <td>6.500000e+06</td>\n",
              "      <td>10.000000</td>\n",
              "      <td>160.000000</td>\n",
              "    </tr>\n",
              "  </tbody>\n",
              "</table>\n",
              "</div>\n",
              "    <div class=\"colab-df-buttons\">\n",
              "\n",
              "  <div class=\"colab-df-container\">\n",
              "    <button class=\"colab-df-convert\" onclick=\"convertToInteractive('df-8d19529d-b549-4f86-aaa3-c95cfb61bef9')\"\n",
              "            title=\"Convert this dataframe to an interactive table.\"\n",
              "            style=\"display:none;\">\n",
              "\n",
              "  <svg xmlns=\"http://www.w3.org/2000/svg\" height=\"24px\" viewBox=\"0 -960 960 960\">\n",
              "    <path d=\"M120-120v-720h720v720H120Zm60-500h600v-160H180v160Zm220 220h160v-160H400v160Zm0 220h160v-160H400v160ZM180-400h160v-160H180v160Zm440 0h160v-160H620v160ZM180-180h160v-160H180v160Zm440 0h160v-160H620v160Z\"/>\n",
              "  </svg>\n",
              "    </button>\n",
              "\n",
              "  <style>\n",
              "    .colab-df-container {\n",
              "      display:flex;\n",
              "      gap: 12px;\n",
              "    }\n",
              "\n",
              "    .colab-df-convert {\n",
              "      background-color: #E8F0FE;\n",
              "      border: none;\n",
              "      border-radius: 50%;\n",
              "      cursor: pointer;\n",
              "      display: none;\n",
              "      fill: #1967D2;\n",
              "      height: 32px;\n",
              "      padding: 0 0 0 0;\n",
              "      width: 32px;\n",
              "    }\n",
              "\n",
              "    .colab-df-convert:hover {\n",
              "      background-color: #E2EBFA;\n",
              "      box-shadow: 0px 1px 2px rgba(60, 64, 67, 0.3), 0px 1px 3px 1px rgba(60, 64, 67, 0.15);\n",
              "      fill: #174EA6;\n",
              "    }\n",
              "\n",
              "    .colab-df-buttons div {\n",
              "      margin-bottom: 4px;\n",
              "    }\n",
              "\n",
              "    [theme=dark] .colab-df-convert {\n",
              "      background-color: #3B4455;\n",
              "      fill: #D2E3FC;\n",
              "    }\n",
              "\n",
              "    [theme=dark] .colab-df-convert:hover {\n",
              "      background-color: #434B5C;\n",
              "      box-shadow: 0px 1px 3px 1px rgba(0, 0, 0, 0.15);\n",
              "      filter: drop-shadow(0px 1px 2px rgba(0, 0, 0, 0.3));\n",
              "      fill: #FFFFFF;\n",
              "    }\n",
              "  </style>\n",
              "\n",
              "    <script>\n",
              "      const buttonEl =\n",
              "        document.querySelector('#df-8d19529d-b549-4f86-aaa3-c95cfb61bef9 button.colab-df-convert');\n",
              "      buttonEl.style.display =\n",
              "        google.colab.kernel.accessAllowed ? 'block' : 'none';\n",
              "\n",
              "      async function convertToInteractive(key) {\n",
              "        const element = document.querySelector('#df-8d19529d-b549-4f86-aaa3-c95cfb61bef9');\n",
              "        const dataTable =\n",
              "          await google.colab.kernel.invokeFunction('convertToInteractive',\n",
              "                                                    [key], {});\n",
              "        if (!dataTable) return;\n",
              "\n",
              "        const docLinkHtml = 'Like what you see? Visit the ' +\n",
              "          '<a target=\"_blank\" href=https://colab.research.google.com/notebooks/data_table.ipynb>data table notebook</a>'\n",
              "          + ' to learn more about interactive tables.';\n",
              "        element.innerHTML = '';\n",
              "        dataTable['output_type'] = 'display_data';\n",
              "        await google.colab.output.renderOutput(dataTable, element);\n",
              "        const docLink = document.createElement('div');\n",
              "        docLink.innerHTML = docLinkHtml;\n",
              "        element.appendChild(docLink);\n",
              "      }\n",
              "    </script>\n",
              "  </div>\n",
              "\n",
              "\n",
              "<div id=\"df-b82c2c98-738b-49e6-bedd-3f8a405889d9\">\n",
              "  <button class=\"colab-df-quickchart\" onclick=\"quickchart('df-b82c2c98-738b-49e6-bedd-3f8a405889d9')\"\n",
              "            title=\"Suggest charts\"\n",
              "            style=\"display:none;\">\n",
              "\n",
              "<svg xmlns=\"http://www.w3.org/2000/svg\" height=\"24px\"viewBox=\"0 0 24 24\"\n",
              "     width=\"24px\">\n",
              "    <g>\n",
              "        <path d=\"M19 3H5c-1.1 0-2 .9-2 2v14c0 1.1.9 2 2 2h14c1.1 0 2-.9 2-2V5c0-1.1-.9-2-2-2zM9 17H7v-7h2v7zm4 0h-2V7h2v10zm4 0h-2v-4h2v4z\"/>\n",
              "    </g>\n",
              "</svg>\n",
              "  </button>\n",
              "\n",
              "<style>\n",
              "  .colab-df-quickchart {\n",
              "      --bg-color: #E8F0FE;\n",
              "      --fill-color: #1967D2;\n",
              "      --hover-bg-color: #E2EBFA;\n",
              "      --hover-fill-color: #174EA6;\n",
              "      --disabled-fill-color: #AAA;\n",
              "      --disabled-bg-color: #DDD;\n",
              "  }\n",
              "\n",
              "  [theme=dark] .colab-df-quickchart {\n",
              "      --bg-color: #3B4455;\n",
              "      --fill-color: #D2E3FC;\n",
              "      --hover-bg-color: #434B5C;\n",
              "      --hover-fill-color: #FFFFFF;\n",
              "      --disabled-bg-color: #3B4455;\n",
              "      --disabled-fill-color: #666;\n",
              "  }\n",
              "\n",
              "  .colab-df-quickchart {\n",
              "    background-color: var(--bg-color);\n",
              "    border: none;\n",
              "    border-radius: 50%;\n",
              "    cursor: pointer;\n",
              "    display: none;\n",
              "    fill: var(--fill-color);\n",
              "    height: 32px;\n",
              "    padding: 0;\n",
              "    width: 32px;\n",
              "  }\n",
              "\n",
              "  .colab-df-quickchart:hover {\n",
              "    background-color: var(--hover-bg-color);\n",
              "    box-shadow: 0 1px 2px rgba(60, 64, 67, 0.3), 0 1px 3px 1px rgba(60, 64, 67, 0.15);\n",
              "    fill: var(--button-hover-fill-color);\n",
              "  }\n",
              "\n",
              "  .colab-df-quickchart-complete:disabled,\n",
              "  .colab-df-quickchart-complete:disabled:hover {\n",
              "    background-color: var(--disabled-bg-color);\n",
              "    fill: var(--disabled-fill-color);\n",
              "    box-shadow: none;\n",
              "  }\n",
              "\n",
              "  .colab-df-spinner {\n",
              "    border: 2px solid var(--fill-color);\n",
              "    border-color: transparent;\n",
              "    border-bottom-color: var(--fill-color);\n",
              "    animation:\n",
              "      spin 1s steps(1) infinite;\n",
              "  }\n",
              "\n",
              "  @keyframes spin {\n",
              "    0% {\n",
              "      border-color: transparent;\n",
              "      border-bottom-color: var(--fill-color);\n",
              "      border-left-color: var(--fill-color);\n",
              "    }\n",
              "    20% {\n",
              "      border-color: transparent;\n",
              "      border-left-color: var(--fill-color);\n",
              "      border-top-color: var(--fill-color);\n",
              "    }\n",
              "    30% {\n",
              "      border-color: transparent;\n",
              "      border-left-color: var(--fill-color);\n",
              "      border-top-color: var(--fill-color);\n",
              "      border-right-color: var(--fill-color);\n",
              "    }\n",
              "    40% {\n",
              "      border-color: transparent;\n",
              "      border-right-color: var(--fill-color);\n",
              "      border-top-color: var(--fill-color);\n",
              "    }\n",
              "    60% {\n",
              "      border-color: transparent;\n",
              "      border-right-color: var(--fill-color);\n",
              "    }\n",
              "    80% {\n",
              "      border-color: transparent;\n",
              "      border-right-color: var(--fill-color);\n",
              "      border-bottom-color: var(--fill-color);\n",
              "    }\n",
              "    90% {\n",
              "      border-color: transparent;\n",
              "      border-bottom-color: var(--fill-color);\n",
              "    }\n",
              "  }\n",
              "</style>\n",
              "\n",
              "  <script>\n",
              "    async function quickchart(key) {\n",
              "      const quickchartButtonEl =\n",
              "        document.querySelector('#' + key + ' button');\n",
              "      quickchartButtonEl.disabled = true;  // To prevent multiple clicks.\n",
              "      quickchartButtonEl.classList.add('colab-df-spinner');\n",
              "      try {\n",
              "        const charts = await google.colab.kernel.invokeFunction(\n",
              "            'suggestCharts', [key], {});\n",
              "      } catch (error) {\n",
              "        console.error('Error during call to suggestCharts:', error);\n",
              "      }\n",
              "      quickchartButtonEl.classList.remove('colab-df-spinner');\n",
              "      quickchartButtonEl.classList.add('colab-df-quickchart-complete');\n",
              "    }\n",
              "    (() => {\n",
              "      let quickchartButtonEl =\n",
              "        document.querySelector('#df-b82c2c98-738b-49e6-bedd-3f8a405889d9 button');\n",
              "      quickchartButtonEl.style.display =\n",
              "        google.colab.kernel.accessAllowed ? 'block' : 'none';\n",
              "    })();\n",
              "  </script>\n",
              "</div>\n",
              "\n",
              "    </div>\n",
              "  </div>\n"
            ],
            "application/vnd.google.colaboratory.intrinsic+json": {
              "type": "dataframe",
              "summary": "{\n  \"name\": \"df\",\n  \"rows\": 8,\n  \"fields\": [\n    {\n      \"column\": \"Unnamed: 0\",\n      \"properties\": {\n        \"dtype\": \"number\",\n        \"std\": 2169.057765276623,\n        \"min\": 0.0,\n        \"max\": 6019.0,\n        \"num_unique_values\": 7,\n        \"samples\": [\n          6019.0,\n          3009.0,\n          4513.5\n        ],\n        \"semantic_type\": \"\",\n        \"description\": \"\"\n      }\n    },\n    {\n      \"column\": \"Year\",\n      \"properties\": {\n        \"dtype\": \"number\",\n        \"std\": 1672.9998471408794,\n        \"min\": 3.2697421160913964,\n        \"max\": 6019.0,\n        \"num_unique_values\": 8,\n        \"samples\": [\n          2013.3581990363848,\n          2014.0,\n          6019.0\n        ],\n        \"semantic_type\": \"\",\n        \"description\": \"\"\n      }\n    },\n    {\n      \"column\": \"Kilometers_Driven\",\n      \"properties\": {\n        \"dtype\": \"number\",\n        \"std\": 2282340.352199672,\n        \"min\": 171.0,\n        \"max\": 6500000.0,\n        \"num_unique_values\": 8,\n        \"samples\": [\n          58738.38029573019,\n          53000.0,\n          6019.0\n        ],\n        \"semantic_type\": \"\",\n        \"description\": \"\"\n      }\n    },\n    {\n      \"column\": \"Seats\",\n      \"properties\": {\n        \"dtype\": \"number\",\n        \"std\": 2111.6206701116325,\n        \"min\": 0.0,\n        \"max\": 5977.0,\n        \"num_unique_values\": 6,\n        \"samples\": [\n          5977.0,\n          5.278735151413753,\n          10.0\n        ],\n        \"semantic_type\": \"\",\n        \"description\": \"\"\n      }\n    },\n    {\n      \"column\": \"Price\",\n      \"properties\": {\n        \"dtype\": \"number\",\n        \"std\": 2118.60861586734,\n        \"min\": 0.44,\n        \"max\": 6019.0,\n        \"num_unique_values\": 8,\n        \"samples\": [\n          9.47946835022429,\n          5.64,\n          6019.0\n        ],\n        \"semantic_type\": \"\",\n        \"description\": \"\"\n      }\n    }\n  ]\n}"
            }
          },
          "metadata": {},
          "execution_count": 6
        }
      ]
    },
    {
      "cell_type": "code",
      "source": [
        "df['Fuel_Type'].value_counts()"
      ],
      "metadata": {
        "colab": {
          "base_uri": "https://localhost:8080/",
          "height": 272
        },
        "id": "BhuimEGkueou",
        "outputId": "71834242-6fe1-4012-c1cd-1f5ff261c861"
      },
      "execution_count": 39,
      "outputs": [
        {
          "output_type": "execute_result",
          "data": {
            "text/plain": [
              "Fuel_Type\n",
              "Diesel      3205\n",
              "Petrol      2746\n",
              "CNG           56\n",
              "LPG           10\n",
              "Electric       2\n",
              "Name: count, dtype: int64"
            ],
            "text/html": [
              "<table border=\"1\" class=\"dataframe\">\n",
              "  <thead>\n",
              "    <tr style=\"text-align: right;\">\n",
              "      <th></th>\n",
              "      <th>count</th>\n",
              "    </tr>\n",
              "    <tr>\n",
              "      <th>Fuel_Type</th>\n",
              "      <th></th>\n",
              "    </tr>\n",
              "  </thead>\n",
              "  <tbody>\n",
              "    <tr>\n",
              "      <th>Diesel</th>\n",
              "      <td>3205</td>\n",
              "    </tr>\n",
              "    <tr>\n",
              "      <th>Petrol</th>\n",
              "      <td>2746</td>\n",
              "    </tr>\n",
              "    <tr>\n",
              "      <th>CNG</th>\n",
              "      <td>56</td>\n",
              "    </tr>\n",
              "    <tr>\n",
              "      <th>LPG</th>\n",
              "      <td>10</td>\n",
              "    </tr>\n",
              "    <tr>\n",
              "      <th>Electric</th>\n",
              "      <td>2</td>\n",
              "    </tr>\n",
              "  </tbody>\n",
              "</table><br><label><b>dtype:</b> int64</label>"
            ]
          },
          "metadata": {},
          "execution_count": 39
        }
      ]
    },
    {
      "cell_type": "markdown",
      "source": [
        "# Visualazation"
      ],
      "metadata": {
        "id": "qbPUIIHZb1A0"
      }
    },
    {
      "cell_type": "code",
      "source": [
        "grouped_data = df.groupby('Year')['Price'].mean()\n",
        "\n",
        "\n",
        "fig = px.bar(grouped_data, x=grouped_data.index, y='Price', title='Avg Price by Year', color_discrete_sequence=['#DD5050'])\n",
        "\n",
        "fig.update_layout(\n",
        "    xaxis=dict(\n",
        "        tickmode='array',\n",
        "        tickvals=grouped_data.index,\n",
        "        ticktext=grouped_data.index\n",
        "    )\n",
        ")\n",
        "fig.show()"
      ],
      "metadata": {
        "colab": {
          "base_uri": "https://localhost:8080/",
          "height": 542
        },
        "id": "z5ceW2bLb3y3",
        "outputId": "81ac5ee0-c608-44f5-9b3e-8960b551b355"
      },
      "execution_count": 12,
      "outputs": [
        {
          "output_type": "display_data",
          "data": {
            "text/html": [
              "<html>\n",
              "<head><meta charset=\"utf-8\" /></head>\n",
              "<body>\n",
              "    <div>            <script src=\"https://cdnjs.cloudflare.com/ajax/libs/mathjax/2.7.5/MathJax.js?config=TeX-AMS-MML_SVG\"></script><script type=\"text/javascript\">if (window.MathJax && window.MathJax.Hub && window.MathJax.Hub.Config) {window.MathJax.Hub.Config({SVG: {font: \"STIX-Web\"}});}</script>                <script type=\"text/javascript\">window.PlotlyConfig = {MathJaxConfig: 'local'};</script>\n",
              "        <script charset=\"utf-8\" src=\"https://cdn.plot.ly/plotly-2.24.1.min.js\"></script>                <div id=\"05e02bcc-224e-49ca-86dc-ece73f8384a3\" class=\"plotly-graph-div\" style=\"height:525px; width:100%;\"></div>            <script type=\"text/javascript\">                                    window.PLOTLYENV=window.PLOTLYENV || {};                                    if (document.getElementById(\"05e02bcc-224e-49ca-86dc-ece73f8384a3\")) {                    Plotly.newPlot(                        \"05e02bcc-224e-49ca-86dc-ece73f8384a3\",                        [{\"alignmentgroup\":\"True\",\"hovertemplate\":\"Year=%{x}\\u003cbr\\u003ePrice=%{y}\\u003cextra\\u003e\\u003c\\u002fextra\\u003e\",\"legendgroup\":\"\",\"marker\":{\"color\":\"#DD5050\",\"pattern\":{\"shape\":\"\"}},\"name\":\"\",\"offsetgroup\":\"\",\"orientation\":\"v\",\"showlegend\":false,\"textposition\":\"auto\",\"x\":[1998,1999,2000,2001,2002,2003,2004,2005,2006,2007,2008,2009,2010,2011,2012,2013,2014,2015,2016,2017,2018,2019],\"xaxis\":\"x\",\"y\":[1.4325,0.835,1.175,1.54375,1.294,2.4400000000000004,1.941290322580645,2.026842105263158,3.3558974358974356,3.204,3.9177586206896553,5.177727272727273,5.515497076023392,6.831931330472103,7.324724137931034,8.699352850539292,9.639360100376411,11.215537634408603,11.719095816464238,13.764940374787054,15.726140939597316,19.464117647058824],\"yaxis\":\"y\",\"type\":\"bar\"}],                        {\"template\":{\"data\":{\"histogram2dcontour\":[{\"type\":\"histogram2dcontour\",\"colorbar\":{\"outlinewidth\":0,\"ticks\":\"\"},\"colorscale\":[[0.0,\"#0d0887\"],[0.1111111111111111,\"#46039f\"],[0.2222222222222222,\"#7201a8\"],[0.3333333333333333,\"#9c179e\"],[0.4444444444444444,\"#bd3786\"],[0.5555555555555556,\"#d8576b\"],[0.6666666666666666,\"#ed7953\"],[0.7777777777777778,\"#fb9f3a\"],[0.8888888888888888,\"#fdca26\"],[1.0,\"#f0f921\"]]}],\"choropleth\":[{\"type\":\"choropleth\",\"colorbar\":{\"outlinewidth\":0,\"ticks\":\"\"}}],\"histogram2d\":[{\"type\":\"histogram2d\",\"colorbar\":{\"outlinewidth\":0,\"ticks\":\"\"},\"colorscale\":[[0.0,\"#0d0887\"],[0.1111111111111111,\"#46039f\"],[0.2222222222222222,\"#7201a8\"],[0.3333333333333333,\"#9c179e\"],[0.4444444444444444,\"#bd3786\"],[0.5555555555555556,\"#d8576b\"],[0.6666666666666666,\"#ed7953\"],[0.7777777777777778,\"#fb9f3a\"],[0.8888888888888888,\"#fdca26\"],[1.0,\"#f0f921\"]]}],\"heatmap\":[{\"type\":\"heatmap\",\"colorbar\":{\"outlinewidth\":0,\"ticks\":\"\"},\"colorscale\":[[0.0,\"#0d0887\"],[0.1111111111111111,\"#46039f\"],[0.2222222222222222,\"#7201a8\"],[0.3333333333333333,\"#9c179e\"],[0.4444444444444444,\"#bd3786\"],[0.5555555555555556,\"#d8576b\"],[0.6666666666666666,\"#ed7953\"],[0.7777777777777778,\"#fb9f3a\"],[0.8888888888888888,\"#fdca26\"],[1.0,\"#f0f921\"]]}],\"heatmapgl\":[{\"type\":\"heatmapgl\",\"colorbar\":{\"outlinewidth\":0,\"ticks\":\"\"},\"colorscale\":[[0.0,\"#0d0887\"],[0.1111111111111111,\"#46039f\"],[0.2222222222222222,\"#7201a8\"],[0.3333333333333333,\"#9c179e\"],[0.4444444444444444,\"#bd3786\"],[0.5555555555555556,\"#d8576b\"],[0.6666666666666666,\"#ed7953\"],[0.7777777777777778,\"#fb9f3a\"],[0.8888888888888888,\"#fdca26\"],[1.0,\"#f0f921\"]]}],\"contourcarpet\":[{\"type\":\"contourcarpet\",\"colorbar\":{\"outlinewidth\":0,\"ticks\":\"\"}}],\"contour\":[{\"type\":\"contour\",\"colorbar\":{\"outlinewidth\":0,\"ticks\":\"\"},\"colorscale\":[[0.0,\"#0d0887\"],[0.1111111111111111,\"#46039f\"],[0.2222222222222222,\"#7201a8\"],[0.3333333333333333,\"#9c179e\"],[0.4444444444444444,\"#bd3786\"],[0.5555555555555556,\"#d8576b\"],[0.6666666666666666,\"#ed7953\"],[0.7777777777777778,\"#fb9f3a\"],[0.8888888888888888,\"#fdca26\"],[1.0,\"#f0f921\"]]}],\"surface\":[{\"type\":\"surface\",\"colorbar\":{\"outlinewidth\":0,\"ticks\":\"\"},\"colorscale\":[[0.0,\"#0d0887\"],[0.1111111111111111,\"#46039f\"],[0.2222222222222222,\"#7201a8\"],[0.3333333333333333,\"#9c179e\"],[0.4444444444444444,\"#bd3786\"],[0.5555555555555556,\"#d8576b\"],[0.6666666666666666,\"#ed7953\"],[0.7777777777777778,\"#fb9f3a\"],[0.8888888888888888,\"#fdca26\"],[1.0,\"#f0f921\"]]}],\"mesh3d\":[{\"type\":\"mesh3d\",\"colorbar\":{\"outlinewidth\":0,\"ticks\":\"\"}}],\"scatter\":[{\"fillpattern\":{\"fillmode\":\"overlay\",\"size\":10,\"solidity\":0.2},\"type\":\"scatter\"}],\"parcoords\":[{\"type\":\"parcoords\",\"line\":{\"colorbar\":{\"outlinewidth\":0,\"ticks\":\"\"}}}],\"scatterpolargl\":[{\"type\":\"scatterpolargl\",\"marker\":{\"colorbar\":{\"outlinewidth\":0,\"ticks\":\"\"}}}],\"bar\":[{\"error_x\":{\"color\":\"#2a3f5f\"},\"error_y\":{\"color\":\"#2a3f5f\"},\"marker\":{\"line\":{\"color\":\"#E5ECF6\",\"width\":0.5},\"pattern\":{\"fillmode\":\"overlay\",\"size\":10,\"solidity\":0.2}},\"type\":\"bar\"}],\"scattergeo\":[{\"type\":\"scattergeo\",\"marker\":{\"colorbar\":{\"outlinewidth\":0,\"ticks\":\"\"}}}],\"scatterpolar\":[{\"type\":\"scatterpolar\",\"marker\":{\"colorbar\":{\"outlinewidth\":0,\"ticks\":\"\"}}}],\"histogram\":[{\"marker\":{\"pattern\":{\"fillmode\":\"overlay\",\"size\":10,\"solidity\":0.2}},\"type\":\"histogram\"}],\"scattergl\":[{\"type\":\"scattergl\",\"marker\":{\"colorbar\":{\"outlinewidth\":0,\"ticks\":\"\"}}}],\"scatter3d\":[{\"type\":\"scatter3d\",\"line\":{\"colorbar\":{\"outlinewidth\":0,\"ticks\":\"\"}},\"marker\":{\"colorbar\":{\"outlinewidth\":0,\"ticks\":\"\"}}}],\"scattermapbox\":[{\"type\":\"scattermapbox\",\"marker\":{\"colorbar\":{\"outlinewidth\":0,\"ticks\":\"\"}}}],\"scatterternary\":[{\"type\":\"scatterternary\",\"marker\":{\"colorbar\":{\"outlinewidth\":0,\"ticks\":\"\"}}}],\"scattercarpet\":[{\"type\":\"scattercarpet\",\"marker\":{\"colorbar\":{\"outlinewidth\":0,\"ticks\":\"\"}}}],\"carpet\":[{\"aaxis\":{\"endlinecolor\":\"#2a3f5f\",\"gridcolor\":\"white\",\"linecolor\":\"white\",\"minorgridcolor\":\"white\",\"startlinecolor\":\"#2a3f5f\"},\"baxis\":{\"endlinecolor\":\"#2a3f5f\",\"gridcolor\":\"white\",\"linecolor\":\"white\",\"minorgridcolor\":\"white\",\"startlinecolor\":\"#2a3f5f\"},\"type\":\"carpet\"}],\"table\":[{\"cells\":{\"fill\":{\"color\":\"#EBF0F8\"},\"line\":{\"color\":\"white\"}},\"header\":{\"fill\":{\"color\":\"#C8D4E3\"},\"line\":{\"color\":\"white\"}},\"type\":\"table\"}],\"barpolar\":[{\"marker\":{\"line\":{\"color\":\"#E5ECF6\",\"width\":0.5},\"pattern\":{\"fillmode\":\"overlay\",\"size\":10,\"solidity\":0.2}},\"type\":\"barpolar\"}],\"pie\":[{\"automargin\":true,\"type\":\"pie\"}]},\"layout\":{\"autotypenumbers\":\"strict\",\"colorway\":[\"#636efa\",\"#EF553B\",\"#00cc96\",\"#ab63fa\",\"#FFA15A\",\"#19d3f3\",\"#FF6692\",\"#B6E880\",\"#FF97FF\",\"#FECB52\"],\"font\":{\"color\":\"#2a3f5f\"},\"hovermode\":\"closest\",\"hoverlabel\":{\"align\":\"left\"},\"paper_bgcolor\":\"white\",\"plot_bgcolor\":\"#E5ECF6\",\"polar\":{\"bgcolor\":\"#E5ECF6\",\"angularaxis\":{\"gridcolor\":\"white\",\"linecolor\":\"white\",\"ticks\":\"\"},\"radialaxis\":{\"gridcolor\":\"white\",\"linecolor\":\"white\",\"ticks\":\"\"}},\"ternary\":{\"bgcolor\":\"#E5ECF6\",\"aaxis\":{\"gridcolor\":\"white\",\"linecolor\":\"white\",\"ticks\":\"\"},\"baxis\":{\"gridcolor\":\"white\",\"linecolor\":\"white\",\"ticks\":\"\"},\"caxis\":{\"gridcolor\":\"white\",\"linecolor\":\"white\",\"ticks\":\"\"}},\"coloraxis\":{\"colorbar\":{\"outlinewidth\":0,\"ticks\":\"\"}},\"colorscale\":{\"sequential\":[[0.0,\"#0d0887\"],[0.1111111111111111,\"#46039f\"],[0.2222222222222222,\"#7201a8\"],[0.3333333333333333,\"#9c179e\"],[0.4444444444444444,\"#bd3786\"],[0.5555555555555556,\"#d8576b\"],[0.6666666666666666,\"#ed7953\"],[0.7777777777777778,\"#fb9f3a\"],[0.8888888888888888,\"#fdca26\"],[1.0,\"#f0f921\"]],\"sequentialminus\":[[0.0,\"#0d0887\"],[0.1111111111111111,\"#46039f\"],[0.2222222222222222,\"#7201a8\"],[0.3333333333333333,\"#9c179e\"],[0.4444444444444444,\"#bd3786\"],[0.5555555555555556,\"#d8576b\"],[0.6666666666666666,\"#ed7953\"],[0.7777777777777778,\"#fb9f3a\"],[0.8888888888888888,\"#fdca26\"],[1.0,\"#f0f921\"]],\"diverging\":[[0,\"#8e0152\"],[0.1,\"#c51b7d\"],[0.2,\"#de77ae\"],[0.3,\"#f1b6da\"],[0.4,\"#fde0ef\"],[0.5,\"#f7f7f7\"],[0.6,\"#e6f5d0\"],[0.7,\"#b8e186\"],[0.8,\"#7fbc41\"],[0.9,\"#4d9221\"],[1,\"#276419\"]]},\"xaxis\":{\"gridcolor\":\"white\",\"linecolor\":\"white\",\"ticks\":\"\",\"title\":{\"standoff\":15},\"zerolinecolor\":\"white\",\"automargin\":true,\"zerolinewidth\":2},\"yaxis\":{\"gridcolor\":\"white\",\"linecolor\":\"white\",\"ticks\":\"\",\"title\":{\"standoff\":15},\"zerolinecolor\":\"white\",\"automargin\":true,\"zerolinewidth\":2},\"scene\":{\"xaxis\":{\"backgroundcolor\":\"#E5ECF6\",\"gridcolor\":\"white\",\"linecolor\":\"white\",\"showbackground\":true,\"ticks\":\"\",\"zerolinecolor\":\"white\",\"gridwidth\":2},\"yaxis\":{\"backgroundcolor\":\"#E5ECF6\",\"gridcolor\":\"white\",\"linecolor\":\"white\",\"showbackground\":true,\"ticks\":\"\",\"zerolinecolor\":\"white\",\"gridwidth\":2},\"zaxis\":{\"backgroundcolor\":\"#E5ECF6\",\"gridcolor\":\"white\",\"linecolor\":\"white\",\"showbackground\":true,\"ticks\":\"\",\"zerolinecolor\":\"white\",\"gridwidth\":2}},\"shapedefaults\":{\"line\":{\"color\":\"#2a3f5f\"}},\"annotationdefaults\":{\"arrowcolor\":\"#2a3f5f\",\"arrowhead\":0,\"arrowwidth\":1},\"geo\":{\"bgcolor\":\"white\",\"landcolor\":\"#E5ECF6\",\"subunitcolor\":\"white\",\"showland\":true,\"showlakes\":true,\"lakecolor\":\"white\"},\"title\":{\"x\":0.05},\"mapbox\":{\"style\":\"light\"}}},\"xaxis\":{\"anchor\":\"y\",\"domain\":[0.0,1.0],\"title\":{\"text\":\"Year\"},\"tickmode\":\"array\",\"tickvals\":[1998,1999,2000,2001,2002,2003,2004,2005,2006,2007,2008,2009,2010,2011,2012,2013,2014,2015,2016,2017,2018,2019],\"ticktext\":[1998,1999,2000,2001,2002,2003,2004,2005,2006,2007,2008,2009,2010,2011,2012,2013,2014,2015,2016,2017,2018,2019]},\"yaxis\":{\"anchor\":\"x\",\"domain\":[0.0,1.0],\"title\":{\"text\":\"Price\"}},\"legend\":{\"tracegroupgap\":0},\"title\":{\"text\":\"Avg Price by Year\"},\"barmode\":\"relative\"},                        {\"responsive\": true}                    ).then(function(){\n",
              "                            \n",
              "var gd = document.getElementById('05e02bcc-224e-49ca-86dc-ece73f8384a3');\n",
              "var x = new MutationObserver(function (mutations, observer) {{\n",
              "        var display = window.getComputedStyle(gd).display;\n",
              "        if (!display || display === 'none') {{\n",
              "            console.log([gd, 'removed!']);\n",
              "            Plotly.purge(gd);\n",
              "            observer.disconnect();\n",
              "        }}\n",
              "}});\n",
              "\n",
              "// Listen for the removal of the full notebook cells\n",
              "var notebookContainer = gd.closest('#notebook-container');\n",
              "if (notebookContainer) {{\n",
              "    x.observe(notebookContainer, {childList: true});\n",
              "}}\n",
              "\n",
              "// Listen for the clearing of the current output cell\n",
              "var outputEl = gd.closest('.output');\n",
              "if (outputEl) {{\n",
              "    x.observe(outputEl, {childList: true});\n",
              "}}\n",
              "\n",
              "                        })                };                            </script>        </div>\n",
              "</body>\n",
              "</html>"
            ]
          },
          "metadata": {}
        }
      ]
    },
    {
      "cell_type": "markdown",
      "source": [
        "# Cleaning"
      ],
      "metadata": {
        "id": "ikvO7xZJaybk"
      }
    },
    {
      "cell_type": "code",
      "source": [
        "df.drop(columns=['Unnamed: 0'], inplace=True)"
      ],
      "metadata": {
        "id": "mS9tAUlNa3aN"
      },
      "execution_count": 13,
      "outputs": []
    },
    {
      "cell_type": "code",
      "source": [
        "df.duplicated().sum()"
      ],
      "metadata": {
        "colab": {
          "base_uri": "https://localhost:8080/"
        },
        "id": "kZYbaIBIawee",
        "outputId": "f3df1507-6746-455f-e854-390e461dd393"
      },
      "execution_count": 14,
      "outputs": [
        {
          "output_type": "execute_result",
          "data": {
            "text/plain": [
              "0"
            ]
          },
          "metadata": {},
          "execution_count": 14
        }
      ]
    },
    {
      "cell_type": "code",
      "source": [
        "df['Power'] = df['Power'].str.extract(r'(\\d+)').astype('float')\n",
        "df['Engine'] = df['Engine'].str.extract(r'(\\d+)').astype('float')\n",
        "df['Mileage'] = df['Mileage'].str.extract(r'(\\d+\\.\\d+)').astype('float') # ask"
      ],
      "metadata": {
        "id": "3UTJ1Uq7pWDf"
      },
      "execution_count": 15,
      "outputs": []
    },
    {
      "cell_type": "code",
      "source": [
        "df.dropna(subset=[\"Mileage\"], inplace=True)"
      ],
      "metadata": {
        "id": "XBgQez9S5rd2"
      },
      "execution_count": 16,
      "outputs": []
    },
    {
      "cell_type": "code",
      "source": [
        "# df.hist(figsize=(10, 10), bins=50);\n",
        "\n",
        "fig = px.histogram(df, x=\"Kilometers_Driven\")\n",
        "fig.show()\n",
        "\n",
        "fig = px.histogram(df, x=\"Mileage\")\n",
        "fig.show()\n",
        "\n",
        "fig = px.histogram(df, x=\"Engine\")\n",
        "fig.show()\n",
        "\n",
        "\n",
        "fig = px.histogram(df, x=\"Power\")\n",
        "fig.show()\n",
        "\n",
        "fig = px.histogram(df, x=\"Seats\")\n",
        "fig.show()\n",
        "\n",
        "fig = px.histogram(df, x=\"Price\")\n",
        "fig.show()"
      ],
      "metadata": {
        "colab": {
          "base_uri": "https://localhost:8080/",
          "height": 1000
        },
        "id": "65UEVYJbvh06",
        "outputId": "8431046a-9536-49bc-d4bb-ff42e9f78083"
      },
      "execution_count": 17,
      "outputs": [
        {
          "output_type": "display_data",
          "data": {
            "text/html": [
              "<html>\n",
              "<head><meta charset=\"utf-8\" /></head>\n",
              "<body>\n",
              "    <div>            <script src=\"https://cdnjs.cloudflare.com/ajax/libs/mathjax/2.7.5/MathJax.js?config=TeX-AMS-MML_SVG\"></script><script type=\"text/javascript\">if (window.MathJax && window.MathJax.Hub && window.MathJax.Hub.Config) {window.MathJax.Hub.Config({SVG: {font: \"STIX-Web\"}});}</script>                <script type=\"text/javascript\">window.PlotlyConfig = {MathJaxConfig: 'local'};</script>\n",
              "        <script charset=\"utf-8\" src=\"https://cdn.plot.ly/plotly-2.24.1.min.js\"></script>                <div id=\"a15874d0-ce68-4759-89ed-14968864142e\" class=\"plotly-graph-div\" style=\"height:525px; width:100%;\"></div>            <script type=\"text/javascript\">                                    window.PLOTLYENV=window.PLOTLYENV || {};                                    if (document.getElementById(\"a15874d0-ce68-4759-89ed-14968864142e\")) {                    Plotly.newPlot(                        \"a15874d0-ce68-4759-89ed-14968864142e\",                        [{\"alignmentgroup\":\"True\",\"bingroup\":\"x\",\"hovertemplate\":\"Kilometers_Driven=%{x}\\u003cbr\\u003ecount=%{y}\\u003cextra\\u003e\\u003c\\u002fextra\\u003e\",\"legendgroup\":\"\",\"marker\":{\"color\":\"#636efa\",\"pattern\":{\"shape\":\"\"}},\"name\":\"\",\"offsetgroup\":\"\",\"orientation\":\"v\",\"showlegend\":false,\"x\":[72000,41000,46000,87000,40670,75000,86999,36000,64430,65932,25692,60000,64424,72000,85000,110000,58950,25000,77469,78500,32982,55392,55985,45807,33000,51920,54000,54000,37430,262000,62000,87615,72000,35000,55431,83816,50075,52000,85000,62000,90000,19698,22033,35487,46374,52001,58005,70704,75000,75800,13648,52000,53000,65650,54000,39000,16542,32000,121812,39300,22000,72000,58000,65000,178000,65664,63000,15369,63000,13000,73000,55729,45178,56066,37300,56000,111111,230000,104000,87591,95100,70000,54944,70337,99638,52000,75000,95980,16000,73745,18949,107000,48367,57000,58000,30000,34212,70002,62000,62001,78958,30180,32851,30000,66000,93850,53000,78000,65000,40000,30000,38053,25500,56087,71088,55000,32700,39882,128000,55000,102000,53753,10250,43874,32684,42000,28352,89900,47700,55000,44285,54000,30232,88500,13372,12645,94385,31821,12000,88578,44965,45044,34204,80759,91235,38800,83000,41283,23000,48000,48214,35000,35277,54620,136997,14322,65634,6000,33280,29000,42831,90000,24005,32792,147898,131765,65000,66123,41000,23550,45000,60000,44414,1000,62500,21000,8525,29000,40000,88000,53537,216000,51000,118500,63000,25000,37382,24773,62000,52340,56739,36091,120000,33000,60006,52000,43571,50000,113000,90000,29000,20000,61012,87459,70500,64103,76000,104000,42001,37245,45000,117837,30000,27057,8500,30500,56000,44000,10500,26000,25166,64000,61000,107000,29161,32000,46173,47000,26327,70436,200000,60813,45000,64000,41284,14165,67000,32572,14960,55980,74000,56847,121374,52000,118000,72000,33915,82002,33000,34000,55000,160538,60000,49575,83000,51346,43000,35000,27872,16514,120000,143275,99000,52000,29819,57000,88500,28000,67000,26000,120000,51982,36000,47000,60000,31025,105000,121900,22695,73000,32227,55000,11287,48000,54308,78442,46000,45051,69000,49000,45000,64000,60000,62178,58006,74000,77771,45275,48000,31652,109000,31978,70000,15000,59138,61726,48000,58000,60020,77815,29000,44000,108626,71791,91931,158000,91183,65000,88428,138000,18000,60000,48000,160000,40000,51495,30000,97430,42496,83000,37000,28503,76496,79152,32000,35000,105000,56000,73000,38000,775000,80000,24973,45000,87430,133944,57000,27904,30717,80000,47304,100000,30000,68000,21000,21000,119000,13747,620000,70000,18000,83000,130000,63400,65000,8350,45000,26200,11000,90000,74000,37081,39000,99000,38000,72000,93000,5900,25000,68000,35676,74310,59364,41380,33900,28000,50958,93982,95000,9000,52516,20000,56451,37000,17400,90207,89616,85000,79271,56000,85001,12000,125000,53000,34990,49768,56000,75000,57000,37542,95649,35299,28464,41000,9000,92098,5834,40250,22397,20800,40322,52576,55000,47000,42021,23163,50000,11900,108000,37000,30000,12831,143017,13102,24950,57832,34267,33000,55100,40000,31841,15000,82756,50243,20600,29952,15000,61938,67000,61672,26185,38000,67000,66000,80883,80219,12923,86642,19235,51002,6800,82749,51000,31465,76476,14000,47000,48466,46000,162663,25142,69000,80524,26405,45000,64284,27000,3678,21000,67000,24000,75000,179000,47198,52000,91000,60000,37873,31000,129000,78000,32000,59000,35437,98000,72000,79000,29000,66012,35000,75000,80000,32717,25000,79000,86000,137000,25000,8500,34000,41629,80227,8587,30000,64186,76427,75000,27075,30000,69434,56000,49275,8700,18000,41041,80464,20667,60283,31696,100000,13361,48394,47399,69000,65278,108000,50645,130002,107000,41950,109000,9000,43900,64000,13190,77652,55000,59900,73539,31645,69690,41000,109200,80000,51000,105000,179000,12100,31000,50000,48000,35000,100200,47000,63642,62550,37340,38461,29000,31000,42086,49000,77240,105000,35000,83072,202082,129000,33558,60271,45366,9500,42362,21000,15200,43690,79926,53073,59000,47088,55000,80430,71932,19000,81759,52010,58953,93000,10000,40674,50000,1331,60000,10003,25000,73000,59962,72000,20967,35000,38056,94000,64236,124000,7400,52000,68764,64000,21558,37500,14077,70000,54316,90764,137000,127000,51884,67407,107825,82453,30441,70000,11000,61000,48454,37000,32249,58000,28360,7000,19658,92000,25000,37882,69330,61000,35000,200000,82000,72450,36381,25559,100000,94000,64357,10501,47000,18000,89000,49964,35000,64000,36000,78600,170000,65000,120300,21000,18108,58407,49500,37199,62000,59000,60000,39037,17003,80400,75200,41217,98293,54000,17377,33800,86157,146824,55000,53293,38000,64000,25058,36700,35000,22732,48000,62084,39273,64798,100002,78000,57717,109000,74515,50484,13452,37688,34000,120000,64000,100000,75000,86000,69000,41721,13000,38998,54250,45979,37000,46983,40700,43828,53000,100000,19000,84000,37630,67714,32000,51000,58390,14000,55818,97800,52241,25433,40611,72000,54631,60000,24941,63939,35214,63000,121377,100970,60000,77650,71297,55001,18955,47877,43368,73000,72007,56778,20024,42103,67147,37806,85000,35000,72035,48500,28854,92450,14351,51087,50000,73000,60000,50000,36797,50000,94000,74000,41016,67000,76927,17088,112808,74980,44600,37000,21000,81245,70000,4018,70000,56532,26875,72599,205000,98000,19500,68000,19654,26000,10000,75020,157000,43773,21000,23280,88000,67000,59636,11000,60669,12000,35000,65000,39929,49000,77757,21456,74000,37000,108640,38000,80000,47000,31000,40000,4152,51000,55000,58500,58620,29605,71172,12000,25000,43000,57022,92000,33372,52625,215000,65537,60138,84000,47000,33450,125000,99606,64000,51000,57000,48040,43200,66000,31000,46000,47346,100000,63856,72996,23000,15985,98000,70089,99000,72000,44194,102000,56652,41650,61717,25302,47016,69000,32700,101337,59000,41736,71649,80606,63262,5456,7500,66000,66770,58472,46687,77000,7000,48000,47000,51530,25789,48000,52000,95637,131000,42076,76000,20487,43000,17000,60805,58775,70181,85827,58205,91000,74000,79324,38623,59923,23360,61495,56661,40318,60000,103000,130000,20000,76000,30000,150000,28000,74000,75000,76000,64889,10000,43000,47490,80000,60000,6006,71703,33000,60000,91000,72000,43000,63770,43510,52000,31427,29000,56000,76000,53615,132000,14800,35433,82966,96000,39528,92056,14930,38000,71000,71000,50000,48163,19168,26000,37400,8682,95000,34000,95000,13689,84000,47000,60001,96000,47300,28246,65000,68000,11209,41980,65000,38000,51000,33855,146000,47037,58000,61240,91211,84000,64226,67000,106976,27210,26322,9107,63983,134000,11000,93000,24852,37632,55000,81448,1900,54957,55000,21983,76000,65000,26000,11571,81000,23154,26856,67489,176000,18000,63003,80000,56658,18592,75695,82000,60000,138000,67000,42750,52398,36657,77000,85000,112500,105072,80000,3102,14656,105000,61000,85046,48000,55000,4000,94000,61110,80000,43190,45000,44178,84415,35000,44000,67635,18385,35000,49000,69000,23228,68462,74611,90000,22000,58163,109500,13363,51000,103000,43002,108000,82407,29000,225000,45000,93401,95802,130000,67443,47681,35000,68000,34688,10512,58000,40000,61000,86000,45000,55000,36855,46821,120000,29000,40000,60000,64984,73204,50000,35000,17729,97000,89614,14000,50000,62505,248000,94900,55000,53735,53934,58500,48000,24000,52001,9565,32953,18000,20446,33016,48000,72022,34000,69000,108000,34700,79000,58197,66000,60000,57000,45555,55137,93325,38000,57738,38282,64000,32000,83000,76000,67200,62655,16900,8471,69000,30090,120000,23000,35939,116694,40448,64456,52782,51672,56073,65000,79000,43206,70200,42000,62000,20000,80000,50234,50003,1000,54897,108995,73000,65000,32000,65000,21600,39000,58075,58000,58000,89000,72000,1800,172050,46230,86925,5000,66000,119000,45000,66149,42070,35503,41460,40600,87000,30000,27089,53702,51000,36542,15000,65000,32000,24393,1000,28238,59000,92000,56840,62746,96000,24000,54000,90000,40000,65938,16100,3600,52000,54000,15399,75000,76752,56000,70000,46125,35000,80000,62729,34000,70000,32000,21000,49000,40000,78000,52000,65213,170000,36884,62500,68000,40748,60000,12400,87000,20248,52383,1000,85000,47000,17585,32496,34613,153000,54000,16900,62334,23714,52325,50000,55746,54000,43000,40000,125000,51944,46950,23000,54546,51535,45000,46004,124000,77395,10600,22974,89000,65012,17125,90413,37000,65000,66000,86000,98437,18000,35070,42000,40000,43000,65000,74000,51192,14262,66339,90200,57854,32000,29631,55005,54173,50000,145000,78000,65000,120000,14000,57456,44450,63777,31000,60000,78008,33000,27078,57275,45000,57319,121097,89000,72000,36000,86000,85000,120000,37613,100000,5240,20000,16862,59254,60000,50295,47674,61517,62946,66823,79494,107000,55000,24000,20002,54317,10200,24337,79000,40500,23000,63050,78000,70000,66245,74112,87670,10000,62493,44620,66538,60000,20842,110000,45000,40000,49008,31000,8000,171,2100,20667,50000,100030,75372,60475,18453,96578,31001,65900,26246,62700,90000,36000,46000,73003,46566,41493,103788,45000,120000,97359,62000,115000,18373,60453,37000,69009,30000,70707,64677,3000,49000,71000,52000,35659,5377,65000,92708,48105,46759,62000,35175,70000,30000,66618,69300,148000,22000,75000,43706,42000,65000,76128,39852,18673,11583,82000,50000,77000,54890,21000,58557,70000,16000,8899,83629,35059,30552,44875,25095,59000,36000,37000,90000,17000,42575,131000,74000,47234,231673,10000,49389,12000,65000,177000,89000,72000,49000,51355,13460,35642,52895,93000,70000,32048,4700,71800,69078,45000,15388,98798,43000,85112,37804,45000,116000,100073,165000,22000,9500,152000,17705,12000,51000,42000,51000,42527,45000,70000,92000,57156,53211,80000,74000,37000,64000,57197,55000,33000,70000,75000,58095,7445,17652,28321,69000,80000,42365,123000,40000,30112,43775,26013,56000,95000,41089,41988,72486,92000,40000,56000,125000,29219,39927,38593,32000,28226,95000,194000,14821,52000,33000,29200,99754,49000,299322,38310,56000,31300,11241,48000,23882,65000,50000,25000,21000,148000,68000,52000,19000,74000,30279,20000,34834,90000,38730,57390,100000,50000,64961,72465,68776,150000,68000,33000,22389,90000,42000,38767,21000,59136,36000,95000,51000,36411,40000,27300,29813,71000,32000,19234,50510,102000,42277,46000,35000,50000,62000,78000,79000,6773,135000,36716,65060,33000,11110,63000,27030,19600,27755,20000,24782,47303,71000,135000,1000,29000,36367,38000,83969,82621,89000,54000,61691,32200,68630,61000,32644,85000,75000,40347,60788,18664,57847,52237,128000,54000,49800,98000,60095,68000,81402,38000,92239,49224,12000,54898,2500,32838,27076,75445,46601,72000,27000,68193,34429,46000,80544,42000,94821,100000,57000,79894,44748,31000,60587,32000,43772,23576,4000,62000,36000,80000,137008,61001,52191,77076,56000,21000,89429,45631,53959,55804,25899,82000,52000,20000,31829,18094,80000,11964,22684,43521,49386,12248,67771,60007,48624,30000,81605,32642,34200,72204,156347,47357,61738,32586,40129,51000,10393,46000,21000,113562,100010,63107,58500,90000,108242,146300,62943,65000,1700,34697,58000,32500,58661,37124,44000,45200,11000,65000,55005,81650,160000,169000,67263,44223,36840,160000,133000,69123,38000,5500,1001,59000,78256,90000,18000,60000,130000,32851,32000,62700,71000,19947,91000,74000,55594,58000,110224,21002,121000,73513,34000,28371,74755,25805,82603,110000,88000,110000,15000,70000,150000,19000,37442,63111,88000,42355,75871,65000,69000,79232,220000,28470,9759,75216,8000,59451,53996,15135,53000,40000,21107,56000,19623,70963,25755,51450,75000,37832,43041,97236,83000,65000,46007,65925,73500,55000,115000,31184,41747,38143,19030,20877,23555,29000,61000,4187,46000,28000,83558,40000,36000,21000,62162,83000,58000,62332,50867,73000,98008,36000,27339,25000,37000,56000,27000,37000,10500,49000,7000,71256,83184,87284,7000,29000,33552,64000,82000,70000,166194,58000,77000,73204,70000,79870,90000,17000,46493,68000,2000,140000,255000,45535,39228,57000,85445,54000,53000,60000,65668,100000,1800,96000,44200,14000,720000,73000,68000,19543,38000,32805,44782,55700,60000,56000,60000,78563,34669,17000,66000,102418,48800,10601,8200,100000,78000,50000,89327,98000,24700,6000,9434,29000,22440,73070,21771,62000,37024,60336,26008,90000,35569,40000,45000,42000,46913,62000,15000,69000,41367,15982,99595,63000,49000,48272,63000,77000,11734,62012,46000,45449,85000,88000,45330,88000,45376,81000,83381,78526,27313,42747,42265,21000,55100,70000,55000,58235,26000,35000,24000,98000,44487,65000,34951,52373,66285,66000,43000,45200,41000,39430,83274,32324,49999,66000,54000,80000,72000,44865,22000,57478,75000,50624,75000,87000,62000,41372,70000,35000,71993,62000,51000,26038,37713,78088,30453,54000,190000,65097,28060,282000,111000,63295,35770,125928,45000,21000,54774,41123,17465,48000,173000,12000,34000,71360,74000,28937,82085,68465,63854,3000,65055,120000,64241,121000,2200,88123,79000,28143,23001,82002,75000,37451,67000,25000,12000,25000,95936,5354,42000,44282,70000,31400,50000,53000,21727,43000,75000,73557,44555,54885,76000,101000,66000,84360,25121,100000,66035,190000,85670,35000,8000,162000,60000,70600,25000,75000,85071,40000,67000,55000,62000,22526,57788,72000,83128,75000,58000,26000,1000,59751,29966,65000,75863,54000,24000,33218,33425,47000,41000,62000,47035,56230,55000,70669,69000,65000,30000,2000,24255,40000,40000,26000,105000,2800,71000,32896,45000,65000,45200,82167,37429,46000,67031,30000,47691,32531,71336,196000,28193,2526,52146,85000,20780,43081,35000,36000,67000,34079,77849,86000,110000,116000,41840,19317,41000,25601,83950,60000,50000,37000,76976,21684,62000,1261,59450,24465,55000,2000,25040,84000,170428,12573,88000,86000,51019,45000,51000,92000,29000,70521,51000,52618,68000,29022,80000,78000,100000,31412,78000,14000,80000,46738,54884,74500,67472,84000,77400,14470,52108,40000,105044,24347,58000,49663,17000,13418,117080,74000,86514,66882,41460,57000,34010,96813,84000,50004,67995,55000,14900,70961,40194,96000,35000,50000,50000,26299,150386,60000,65000,80000,92000,13000,73278,38000,46936,55000,19000,42259,14000,16956,15473,75000,96000,25000,38000,54000,4131,31700,66988,54230,35000,62714,45295,7000,57000,40100,56000,15000,14000,68000,83000,81504,73500,52900,20000,46000,65000,42000,36681,67000,18000,56409,65263,20300,45008,21799,57328,35358,46946,39772,58000,52000,152000,42700,60000,33195,110000,52000,64399,55000,50000,33485,32000,71400,41713,46000,52950,29500,63888,60000,59196,121362,78000,59000,95000,84000,58253,64557,24500,68078,149706,215750,25984,15544,34000,24000,95000,52000,135000,39000,45306,140000,55000,67415,25562,30292,84056,62691,87000,52513,43983,90121,50000,42500,62192,128000,38394,37287,60000,39419,55000,7000,85000,51000,90000,105000,36458,109000,49000,8000,45000,68000,54000,28000,38500,17738,67132,47000,28005,13000,67000,50000,55000,9312,30458,46000,50000,36676,72563,67000,58239,57934,6500000,63000,27014,90906,61202,51000,88008,55000,160000,42591,67000,48000,97000,10000,56900,74483,36152,85512,234000,36000,36096,111111,73000,44300,74500,21495,59000,23000,50135,25000,47000,150000,53503,47003,80000,20492,17000,79000,27000,28786,143354,56000,21000,29202,73000,74000,65423,65000,83875,55277,50808,52000,32000,25000,23218,84000,40000,17000,25135,65000,40000,24500,56674,51950,51000,150000,114750,107890,64000,21460,29634,52000,33000,89230,27000,72524,73000,21740,59000,83432,87200,88000,48324,51000,24000,20773,22000,66355,115800,41125,43812,69876,102000,68000,12000,25000,51873,72500,83000,39871,82000,23152,71600,122000,29277,60000,42000,61823,53000,75000,110000,38446,33000,42118,70000,68038,55012,55000,25000,46808,65743,64466,75648,80000,69000,79200,29477,40000,25000,67668,78000,30000,70623,54000,48000,62000,47000,171000,108000,41000,66000,144000,23806,89000,38852,68737,23106,31250,77795,47759,67620,44378,64709,76161,58410,72000,11000,45362,59767,70000,14233,72000,11000,39000,19855,20149,70000,62004,25500,68800,61700,59660,69775,51787,88000,47052,69749,79000,39644,137800,120000,11000,18600,116905,32824,19148,35008,21000,53000,36000,56121,30000,31021,52600,60000,44001,101000,84169,14001,100000,59000,29000,64158,38800,98000,20969,2900,69000,5833,28733,145000,71000,12000,21603,65000,58000,39000,37712,68000,25000,30000,68218,52000,63591,57937,21979,99000,62000,127001,84600,30953,78000,85000,79000,79000,48188,67557,103814,45128,56075,166000,65367,114708,35082,38593,70700,83000,120000,91586,38235,37000,50888,44000,54000,90000,35000,47324,65148,57773,87000,179032,8000,77000,20600,13198,21000,38000,15379,60000,70000,75371,60000,30675,22000,55000,74213,15000,57000,62144,50000,38000,30000,38735,23598,70000,39000,84175,45000,59302,55002,128813,46522,180000,89326,54000,95000,66337,60000,38001,73000,61000,120000,71787,11554,90000,48104,91000,58815,33931,13916,90400,14000,121000,17560,60000,88096,178280,19963,1000,8000,9200,29000,27000,22900,50000,60207,101119,42000,93000,60000,66122,25100,24733,41000,30000,36000,40279,46805,60000,100000,32986,51530,81456,37229,73200,71826,129000,82000,40459,61964,15466,23000,43766,54000,18521,26400,31900,39000,45671,39500,54000,20000,55000,48000,70000,62000,41994,108882,24806,160000,30000,51000,64876,70536,25299,89869,103515,68282,60033,51921,18414,40866,55001,20469,8500,45000,6000,11000,80064,29930,49105,55000,23000,54727,31426,53442,28000,13412,70000,81310,13574,75000,58310,90000,83000,37282,23000,82000,31000,200000,45001,50446,89000,72000,90000,76000,78401,38426,45000,83000,50170,37822,33517,110000,60000,92408,45000,33793,26327,20604,61386,11500,58000,38000,49000,72202,7000,20000,14061,30706,51387,44000,12208,55000,61600,28414,27853,55116,26000,45496,76000,136000,100000,38127,82450,62497,86732,27969,66372,73525,20689,25093,49176,87510,38214,48986,88000,69002,43706,58671,49404,72000,24000,53285,12000,45000,26234,55000,90000,48000,19863,55000,4800,38607,3958,74000,54540,58400,73648,83000,16159,150000,22100,35043,24000,480000,70000,13769,58000,58000,18705,32378,45000,36836,54199,36935,23000,14000,100073,59182,72132,79000,66930,100000,43000,27413,90000,40300,73783,86000,65694,23000,51000,18335,36000,25000,81000,21719,75421,80000,10671,4126,98500,61578,54000,70998,40082,50619,103905,15334,69000,75160,44753,53024,23840,81298,59000,51806,56000,29279,33550,62000,66000,46630,72566,51482,90000,69000,90000,39000,110000,68022,27852,58291,68439,150000,14000,71558,48000,65800,53000,14600,34429,52000,25470,22000,75000,95995,26877,26000,140000,95291,135000,32000,68333,72000,52100,10000,6261,3906,55960,144000,38000,51000,150000,2500,41661,64000,80000,30000,43000,90000,123880,42000,79824,75000,72411,63000,53713,18000,51000,86700,29000,56000,33000,64394,76000,48719,59711,83000,10714,127510,35010,75451,83000,38755,30000,40000,19500,41000,30000,37000,62000,42023,51001,55389,46728,58995,37857,71000,49024,10770,72000,91000,14000,48000,75136,32500,94500,34900,42400,50000,35000,37000,32807,119000,12000,46727,73336,9000,240000,25422,14000,66000,55324,90000,43000,58483,93000,50000,78616,37000,54801,29000,68000,58000,64290,31000,16039,19860,48500,75391,78000,78000,52000,30000,19254,29651,80000,2971,21400,77000,80000,81755,99593,39791,113000,24000,39000,37000,61108,61648,37000,53000,65000,120000,148009,53001,22345,50000,48183,93000,53500,17585,36226,25899,60170,11200,49045,45000,40000,36600,117000,16000,50000,150000,11000,102016,38000,71491,46354,87000,20765,58000,51076,84085,55000,73000,50001,93166,99583,72000,70000,61000,66510,84062,80799,5000,92000,53000,39822,29000,24214,75000,77216,74290,61000,44000,74041,85846,52000,47000,72010,15000,480000,24720,75000,57000,41057,92000,20000,52359,17000,39002,129986,45000,41300,82002,67000,21260,55362,13000,45725,105000,156056,135000,67000,90000,32251,47000,75308,44202,58000,60000,45000,41195,89000,60510,8500,35981,23152,74663,61529,91596,14298,83327,22857,34620,56000,81000,95150,32776,51587,36000,22000,30754,37109,45000,33284,55115,18000,130790,16607,32205,67000,57676,41000,65000,12153,16810,61221,22000,63714,14857,69000,14648,100000,22000,10000,107000,48198,15000,80073,85388,14700,150000,34994,82536,82000,52000,20000,55000,47001,52000,43284,23875,51866,69000,62788,150000,47566,67000,20300,48300,30000,36000,27641,60000,9000,60750,9000,41100,60000,38424,50000,19000,58734,65257,130000,79000,78000,49133,22769,54448,158793,62088,14800,26000,32005,35000,52000,11000,62000,65134,71000,51366,46300,60908,93450,104000,52000,42999,90000,72000,54321,59630,116000,34000,70000,80000,110000,56454,60000,56000,63000,63000,15050,29401,25238,79000,58752,62000,132000,51000,185200,61717,8896,17000,31378,114000,81000,31000,35000,60001,75074,80000,147350,60000,7501,58000,29277,57034,40810,35268,81000,34630,45122,126000,63000,32298,63288,43337,46561,34000,48000,56263,84060,9000,79000,87900,72425,38000,83000,107000,51000,140000,48000,62000,31000,75055,51210,87000,17000,57000,9370,53226,120000,75055,37247,64000,12000,40158,11000,70010,82000,57259,84000,168000,73670,89540,85423,48823,35082,126000,19000,69000,29836,48002,52324,65000,66000,75700,43000,42706,35000,54348,84000,63298,75049,24237,22767,58000,57000,50161,45000,68319,30711,38277,115000,46849,64000,130923,15000,32720,12500,59800,54211,62242,54000,65000,55000,71000,70000,53000,43000,54000,51000,78000,25000,12600,80000,21000,32000,50000,47500,7500,68163,61000,100000,61500,42883,97000,39525,35384,46000,32189,27000,22734,58002,31500,30933,27090,29500,45000,11691,121000,118077,36300,90000,78000,42000,27000,22000,49000,42600,12794,125000,88046,8000,82739,193000,7000,60000,38000,56344,17858,53000,67906,19000,67000,80000,61000,39000,59000,80931,34000,130000,52380,44000,84000,41697,163000,42000,129000,32200,129000,40000,150000,140000,63181,39575,63600,70374,26256,13460,122000,58589,115000,75000,30292,32248,74000,56100,61325,33000,18090,71390,41000,67000,99000,142000,26966,27628,82497,86000,26981,110471,69000,12000,77500,48031,170000,69565,45492,85000,55902,18500,129750,50902,84725,40000,60000,33496,25000,71000,20826,42244,98598,62100,44238,91743,19828,36891,90049,74002,41000,83678,91000,50000,58000,80000,41290,65000,16471,54339,24025,24027,59270,40000,155566,42320,24153,27000,92000,61795,13500,4500,23000,65400,80578,42646,30000,90000,98000,66400,50000,63310,66000,74000,93000,70000,48772,66000,27417,51593,86340,75000,39237,11966,37000,70920,65280,62000,44525,86863,102626,45000,22000,108905,12800,32000,39000,42000,73000,48000,18000,19000,33598,63000,48000,66000,80000,37000,35058,52000,61313,45000,74000,89000,13414,95000,15900,151000,65000,36824,65287,52000,33000,71000,71000,20000,71000,29000,27000,19000,58000,42203,94000,52000,4900,70000,100000,65266,54569,51361,125000,66000,65047,22281,63210,31000,60000,32006,78000,9489,5000,60000,50000,53000,64000,43827,36431,35000,94832,88381,45194,66000,38578,40000,20632,73042,54257,93000,102000,28881,52195,20422,38000,92885,43000,70478,57000,32434,32000,59000,76467,100000,37086,135000,54862,67758,56200,169006,20229,62000,51500,69000,167000,62476,60500,17978,300000,123000,45296,77325,25858,120000,22000,11000,3900,106092,27000,11000,39753,39800,73000,55000,18351,45000,112200,29000,57309,53392,71000,93000,119000,42225,65000,27809,65100,51000,10000,54895,80768,12076,49000,42366,68000,122397,50534,55300,73095,51100,13436,76000,63141,74885,14000,56000,46000,51800,81000,17370,18456,59000,141537,51000,29311,31000,80000,33000,71556,85000,91000,73187,232000,127079,58816,63818,40000,77445,14000,85122,123000,61000,63714,53000,60000,33000,31000,79000,67914,58970,60000,35225,69496,62282,80000,43698,28052,29091,63000,91000,30000,24571,45000,24617,26927,87736,35299,51612,55300,65090,40000,38467,71904,87000,33000,22100,59589,44000,12000,66000,38009,35000,70000,86000,32000,15000,69918,39000,1011,85000,46663,27000,15000,10575,12500,52000,49818,90000,52207,167362,49894,13024,128000,26023,42784,115000,30529,14814,58000,68128,63220,30000,27768,53000,87652,94873,56000,18678,30000,129000,59000,13000,74325,45000,57000,125943,80000,154000,62000,27000,45000,105000,26000,30900,48000,112719,5000,16000,63000,28300,49000,12501,56628,105000,52126,38000,50000,50230,31000,79000,130000,115000,41500,54385,56361,22000,8000,28741,117236,30500,5000,42000,32773,19008,32542,94753,70000,68347,72000,75014,65000,55598,50000,44200,65000,49000,7200,43152,112000,23540,82160,57000,39335,62000,60000,35000,32345,47000,65537,36000,75000,38000,57818,45000,75055,65462,76206,25948,28500,28004,25000,40000,82543,30000,27800,33415,38000,41981,77084,71803,73314,69053,79782,250000,90000,130000,65000,46496,76000,28002,63000,70000,66276,45000,67000,43068,40000,50436,21000,2000,14500,68782,35888,168205,47000,93700,45000,55547,69000,88000,32400,79000,110000,45407,136490,19000,19416,15500,12538,62588,44328,63000,100000,103000,50296,95500,72100,19119,30000,75600,137000,53500,26101,7000,50000,30000,38151,116000,22000,60000,38000,51928,3000,67196,100000,65218,53886,50058,64000,41641,44345,45501,104000,50297,87000,120000,17000,100000,50979,41000,24000,44738,37298,42000,45000,102000,70000,27467,15305,70000,36778,25845,33858,12000,33709,32709,72000,31000,70000,61000,72000,49000,42939,32545,54000,76000,27000,120000,125000,37000,42000,60000,3000,44000,37000,50000,58581,25500,25000,53766,45271,68000,40000,73212,69000,61932,52000,150000,70933,115195,62148,32000,58000,68598,84072,51264,21363,40000,35000,55000,43252,42000,69000,14000,70000,35314,38691,72717,82000,44000,27000,18500,45000,173000,42000,90000,82329,80302,105000,60000,70000,45000,44000,25500,68000,61786,65000,77000,34000,59751,23312,30000,60146,44731,43316,92000,50000,69000,60280,48161,41000,6000,133000,76000,15590,69681,70362,49112,25000,74000,15200,86300,26731,74000,83929,65000,20000,122086,35442,62542,26671,83500,46166,25200,35463,23249,40310,82069,10000,94000,45000,52818,61238,54253,71000,20000,75000,11827,51579,65178,25350,92000,45000,46000,79940,28851,63000,77283,38958,8900,38000,44887,85000,100000,26239,97000,28000,20364,64637,15731,56251,28000,20045,34004,21000,68001,31000,8950,43477,20000,47200,60000,111000,52000,26000,32425,54758,59833,30000,40496,45000,75000,34000,62000,123600,80102,55000,48200,90000,123900,13008,60500,53841,47183,10000,45000,3923,85000,6279,74500,42000,56510,88000,36631,34000,49000,65254,95000,83000,101065,15134,72000,120000,45000,54996,22874,58000,86000,69000,55001,28000,53213,44340,16900,57000,83165,24735,65175,60000,60357,77000,85301,50000,58000,39000,46190,83000,33000,27279,53900,63998,57932,25000,169000,53000,43053,75000,89000,75578,46676,51349,34233,39626,82500,63000,77001,43000,61111,79000,43000,47000,34000,22060,63000,80000,13506,16000,31006,91200,43000,45000,28637,69870,84000,84143,77000,75000,76155,98000,48233,63000,34063,32576,28843,26000,39000,66000,38002,49000,52000,56500,20568,26000,56000,27509,36216,28888,120000,31396,79000,62000,120000,53000,124313,26725,45617,37000,109147,59000,28000,4700,72469,57539,42000,62489,51167,130000,63000,60000,123200,115692,87073,40901,36264,60000,20000,68400,71231,75000,1997,47300,61449,47910,62000,65060,82203,44000,53817,61591,86500,100000,87000,35000,6000,59327,81001,44612,42388,54000,83010,65405,36000,85000,35000,54000,70000,27001,41075,26000,55000,19000,15000,37000,38712,52400,23988,32283,52000,32000,39000,14149,103000,82000,34000,45180,2000,82321,7000,27000,31271,55000,24000,147000,72351,115000,82000,20000,45560,57539,20004,54500,27886,66000,72202,70000,78233,120203,20575,39879,31056,50940,99362,54000,54268,94521,38932,60395,29000,58000,60913,65000,26000,19947,70816,54000,138000,35000,50000,124652,80264,125600,49000,111000,33690,50000,38092,47774,167000,65000,46000,16500,39000,6000,60000,97320,99807,46000,12000,13002,26000,68365,27833,51639,21000,90000,36255,58000,48997,31130,75668,12000,90000,17320,85000,130000,60328,34327,75000,86000,12000,57759,24300,66000,75915,107000,86000,160000,3000,72495,33000,60000,80103,42100,4500,97000,51223,64000,56911,147848,21290,14076,75180,92000,57266,64000,41000,45999,50000,70000,37540,44000,22500,17431,61566,61730,68000,29000,156210,46500,52830,39867,58972,66000,52000,58000,58000,75000,41008,65000,19000,74000,33000,95000,34000,102865,52378,38000,60334,107000,445000,2196,24000,44846,64035,45600,102001,47439,193254,29000,51681,50000,42666,65000,18776,6714,40000,88539,65055,23000,60000,59350,19000,45560,118000,55000,60000,145000,46810,62767,18553,143143,53497,148000,95000,100000,29000,87000,56838,100000,125000,17000,70000,50000,39800,60000,58000,110009,85000,84000,51000,68880,5500,40052,47293,79663,63000,45000,56501,58000,51602,74199,25000,70000,25000,22000,47020,8000,73000,36973,42083,61000,43628,60000,54000,27001,52000,80000,160000,3300,35027,26568,59000,51000,56400,80000,72000,107000,100000,59998,105000,36000,24350,28973,8243,136642,60000,100000,48689,45000,38163,43800,92000,14064,42366,76551,72672,45000,91696,66484,15456,55000,21112,98000,61297,80000,59000,150000,60083,85450,88000,81828,18000,15000,34000,46000,48158,93000,71007,63067,70259,13000,140000,130000,89401,67000,65329,72000,70000,82000,85000,83000,26000,27000,37746,63274,25000,197000,45010,75348,90110,102013,36000,37578,46001,46559,48000,46000,15000,85000,32000,60818,35188,110000,61000,75000,55000,69966,42000,48000,35000,128000,78000,53080,66000,25000,36139,44000,50000,81177,26000,100000,75000,119859,55980,30000,49700,79000,65100,54161,28619,9000,42876,64000,20488,21000,119203,55987,72668,32000,3000,10400,35000,55101,57464,110000,17941,72000,16000,62020,85000,14223,41210,20000,18043,80000,21000,49000,104000,95000,32000,80000,122800,78000,69000,65000,23000,70000,250000,56000,30000,35000,92250,40000,96848,42000,55886,12336,60000,83000,24000,32198,92247,121311,66296,41000,38681,43761,17400,61510,60000,35165,41617,45000,65000,68000,49000,16698,30965,56058,15356,54000,47000,21652,52000,35010,76662,89000,80000,39023,62000,78046,34400,64624,69192,55000,81000,36733,24310,43022,74000,47000,37460,130000,31576,66000,79000,47140,36610,93000,52195,20003,66314,76000,29000,30000,56526,38000,41000,53000,125000,242000,90000,11000,21936,41000,47000,110000,45960,48000,68000,41000,69573,115000,47629,66624,80000,94868,76477,28000,28599,45348,80127,68000,75000,48000,41871,84931,15000,110000,5900,103653,64806,35000,40000,23876,67901,68865,71000,95000,25000,180000,131000,65000,117777,65000,46897,36695,43000,54000,89000,7000,58470,37000,29000,52000,32807,86000,66500,94000,29000,107389,36100,16329,36000,41816,54680,14000,23977,30131,2530,39000,140000,32257,46983,107000,19000,88000,84384,128000,71000,50000,16000,82000,80000,36000,17477,16725,48241,52431,68000,158000,31446,25000,57000,76000,57078,47471,50000,62000,65807,81768,9952,24000,72921,59000,33000,36789,41000,71000,46650,3000,14799,68525,15000,29000,77407,118000,75000,69000,52553,58000,24000,65542,68008,22251,55000,19387,58000,24001,17000,28500,66000,22000,44383,45000,58000,69000,60993,67000,51134,55000,25082,68350,50000,97000,56238,72618,62005,61250,28469,21488,197000,138205,160000,67590,52000,100000,60048,48000,47000,100000,62601,80010,26493,96000,45700,13000,38000,8018,144400,152000,71000,80000,87143,25000,2000,45239,101999,74219,25000,109606,36000,41810,93321,81000,25717,37000,56380,8000,14589,65088,24864,64831,38001,77000,27000,39000,131000,43000,68000,45165,120000,86091,71499,50000,66000,45000,69189,40206,36723,57500,43912,52000,60952,87192,58000,59500,16650,34696,42243,57824,110000,63000,72000,63455,17151,31001,42109,55000,46000,30852,65000,65000,72000,29000,32000,29875,32539,83090,62679,93000,44000,78400,71300,18000,24013,99100,62000,14000,44811,44000,136000,144113,94989,58133,61000,27000,18050,145277,42000,86000,42150,30158,47000,39000,32125,58829,67559,55000,30000,28000,31826,64000,100009,17201,74345,58134,30566,55231,67774,50319,45000,43627,45000,10500,21789,21134,90000,51553,31000,67422,60519,34000,68434,17000,43686,22000,79225,63000,61922,85000,26192,65000,44999,81308,35000,65349,80000,61000,31817,41000,82606,52000,50318,50000,72000,63776,28133,45000,55697,62000,48000,90246,80500,119000,28541,45500,41000,58000,99000,31200,85000,60924,45000,44000,30534,46399,42000,67000,58000,27000,39566,14980,18491,90000,118211,63316,42000,25648,67612,33000,20000,143000,118218,99000,22700,28000,62000,107023,71082,60000,21701,56000,32450,12500,20483,45800,35441,86398,150000,89000,68375,52000,39000,68000,71000,72003,135670,65850,53920,58000,4000,58000,29832,71156,64687,54000,75000,39208,41000,38622,18000,52000,45000,48656,79000,88000,92000,9000,50121,79000,46000,100000,41000,25000,71899,7100,38171,70359,200000,26969,56500,40000,41000,53105,23000,80999,82000,68557,34000,77000,48000,28232,110000,120000,49000,22000,14925,75000,23000,57000,76718,138000,140000,110000,126000,73000,63423,62132,51000,75000,55410,41000,45000,53322,48000,72000,50266,21800,45000,62000,41681,69313,49000,40471,60000,1001,38000,66000,33901,57000,170000,60000,85000,146000,56002,8554,62322,37929,5400,60000,55730,62000,14576,17000,28000,58200,53000,12278,17665,200000,55893,60586,13500,30000,12000,65000,38000,25000,100000,13710,100000,17000,89000,100173,97000,40190,29647,43639,37333,48407,25000,72400,18000,65167,25418,38995,60000,72000,31075,4311,21000,54000,50000,13000,74000,75000,25000,139000,52000,20000,32663,76777,100303,43993,72118,83000,7523,34670,30000,17000,59261,65210,19000,50000,47000,75000,54534,13000,48808,63001,64771,34634,69242,33292,55000,1000,80000,65003,16573,152633,53000,50129,63716,11000,115000,63265,20000,79000,41000,26323,76000,69972,69000,65000,29512,51000,58003,56500,29063,46811,31897,52100,73000,31423,75180,75000,15000,12000,32000,44504,66000,39437,36931,17800,71346,45000,85155,48823,37000,92000,36000,24569,95000,25811,65000,100400,76414,82103,98000,45252,10300,42024,51236,52000,42894,68000,69000,10000,16000,46992,170000,58000,50000,39010,26946,28700,60000,38999,39000,7784,45710,42000,75995,57000,85350,82725,19000,13900,108000,36000,62188,58397,85000,30000,29907,46000,65000,22000,99024,34952,13913,71000,97000,21000,116000,110438,66507,54650,32000,75378,82697,135000,149000,26212,23500,56127,26000,26000,42000,130000,137148,114703,97439,40000,81609,28000,37500,37000,83000,79012,27395,35362,117000,23000,59508,69000,58000,88511,66000,65000,30676,76000,23627,52827,64465,14000,26000,78203,27000,31919,47392,17362,49716,48000,46000,79000,57000,29754,50123,57184,75000,26000,22129,127887,92000,60634,90000,59000,59293,80753,40000,103000,72389,48000,41000,26000,30000,74624,47877,35000,52123,90000,1400,122000,21110,78000,72000,48000,43486,199000,34000,37944,30000,64005,62000,105000,59885,144471,63991,72000,34895,97003,45000,45000,100000,70000,37023,81000,20789,68310,47250,47000,128000,17702,34987,37000,38271,32510,88000,116000,156000,75319,28000,16500,75637,32854,6568,30000,17804,69768,62404,97000,55687,17000,34232,135000,80000,31045,58000,35480,62287,46162,9200,55339,55476,68553,67376,42000,28069,93144,24300,47883,12467,56683,38000,35000,80000,125000,123000,70000,87982,40714,83000,86000,60002,60000,84677,23000,81424,36400,70000,40000,600,65320,79000,5000,6028,86000,160000,59967,43127,65727,70000,39861,16485,77332,17489,125000,35129,22982,54500,16235,73641,59572,112827,118000,60000,75059,3000,78000,47000,42000,6820,55176,39854,24000,55000,45840,155000,125000,52951,49000,52000,227000,120005,33000,126000,66700,122000,29000,42315,22001,84580,75000,85000,24296,40000,64514,35000,41000,60123,53000,9000,53497,68000,65000,45155,20026,60000,15976,30523,26300,66000,70000,46000,28000,46000,33000,27718,58000,33150,77000,70000,97000,75300,69918,4721,39163,80000,66000,36154,34000,60000,32000,79985,37600,31965,70749,38000,41534,54455,42000,52073,40175,16503,15029,26200,76362,18700,67585,57000,22321,95150,36428,73500,47234,62364,89000,58653,30000,64042,120000,90000,30733,43600,71473,39000,84045,57004,75464,142000,118683,42000,12800,80000,76126,21000,85000,27000,45794,57352,41467,42000,62549,67048,11732,37000,30000,53000,60000,65000,51000,92000,31000,43917,46707,84000,55662,51000,24398,78000,40315,83000,58151,30519,20712,48000,85000,32000,52000,58307,30000,40000,36000,58817,55000,39000,6500,35000,49900,99500,33249,52000,45000,22000,7858,112000,41082,72000,84912,70000,21000,27000,29000,48425,19000,210000,64000,200000,100000,69140,21214,28000,29085,30000,32910,30000,35102,22831,74911,21000,37160,41000,37294,56927,21954,50000,78212,64500,51000,52000,120000,65792,30000,54387,1617,82000,20000,98000,57000,250000,56549,78500,55036,55000,90000,155000,17810,42408,81000,52000,35000,60000,27000,55975,115000,132000,40337,192000,50000,28147,20000,11000,63000,36967,73053,16392,79000,67000,48600,70000,84000,49106,35000,51240,37000,32587,180000,21248,47200,40000,4000,23700,57000,37000,70000,92469,55000,20000,42000,28000,93000,23000,36000,52000,59245,31000,83000,81500,51000,9900,94000,27100,12000,29000,65000,50794,59000,72000,15234,44000,125000,100000,34686,98000,90000,81000,55000,52910,100000,132000,18000,50000,33000,30000,8000,58646,21000,57026,42000,26741,85000,78000,29091,37323,55595,49900,52500,5700,53340,57000,59525,58000,73000,33554,106000,27000,1000,119000,75000,64000,63738,16000,28000,91000,25000,65630,48094,90456,140000,95000,79000,96000,186679,91000,109703,110000,35000,47722,25000,8000,65000,1048,42000,55000,72000,17773,65000,65000,53280,34005,14618,65771,78000,105545,25000,80561,6000,39000,55001,63720,70000,100000,15386,102486,58629,86000,68238,42036,55619,60000,30000,31150,70000,70290,10000,68010,91903,38000,67600,66800,37208,102002,68000,40000,33500,33746,53000,45004,70602,27365,100000,55000,46000,47000],\"xaxis\":\"x\",\"yaxis\":\"y\",\"type\":\"histogram\"}],                        {\"template\":{\"data\":{\"histogram2dcontour\":[{\"type\":\"histogram2dcontour\",\"colorbar\":{\"outlinewidth\":0,\"ticks\":\"\"},\"colorscale\":[[0.0,\"#0d0887\"],[0.1111111111111111,\"#46039f\"],[0.2222222222222222,\"#7201a8\"],[0.3333333333333333,\"#9c179e\"],[0.4444444444444444,\"#bd3786\"],[0.5555555555555556,\"#d8576b\"],[0.6666666666666666,\"#ed7953\"],[0.7777777777777778,\"#fb9f3a\"],[0.8888888888888888,\"#fdca26\"],[1.0,\"#f0f921\"]]}],\"choropleth\":[{\"type\":\"choropleth\",\"colorbar\":{\"outlinewidth\":0,\"ticks\":\"\"}}],\"histogram2d\":[{\"type\":\"histogram2d\",\"colorbar\":{\"outlinewidth\":0,\"ticks\":\"\"},\"colorscale\":[[0.0,\"#0d0887\"],[0.1111111111111111,\"#46039f\"],[0.2222222222222222,\"#7201a8\"],[0.3333333333333333,\"#9c179e\"],[0.4444444444444444,\"#bd3786\"],[0.5555555555555556,\"#d8576b\"],[0.6666666666666666,\"#ed7953\"],[0.7777777777777778,\"#fb9f3a\"],[0.8888888888888888,\"#fdca26\"],[1.0,\"#f0f921\"]]}],\"heatmap\":[{\"type\":\"heatmap\",\"colorbar\":{\"outlinewidth\":0,\"ticks\":\"\"},\"colorscale\":[[0.0,\"#0d0887\"],[0.1111111111111111,\"#46039f\"],[0.2222222222222222,\"#7201a8\"],[0.3333333333333333,\"#9c179e\"],[0.4444444444444444,\"#bd3786\"],[0.5555555555555556,\"#d8576b\"],[0.6666666666666666,\"#ed7953\"],[0.7777777777777778,\"#fb9f3a\"],[0.8888888888888888,\"#fdca26\"],[1.0,\"#f0f921\"]]}],\"heatmapgl\":[{\"type\":\"heatmapgl\",\"colorbar\":{\"outlinewidth\":0,\"ticks\":\"\"},\"colorscale\":[[0.0,\"#0d0887\"],[0.1111111111111111,\"#46039f\"],[0.2222222222222222,\"#7201a8\"],[0.3333333333333333,\"#9c179e\"],[0.4444444444444444,\"#bd3786\"],[0.5555555555555556,\"#d8576b\"],[0.6666666666666666,\"#ed7953\"],[0.7777777777777778,\"#fb9f3a\"],[0.8888888888888888,\"#fdca26\"],[1.0,\"#f0f921\"]]}],\"contourcarpet\":[{\"type\":\"contourcarpet\",\"colorbar\":{\"outlinewidth\":0,\"ticks\":\"\"}}],\"contour\":[{\"type\":\"contour\",\"colorbar\":{\"outlinewidth\":0,\"ticks\":\"\"},\"colorscale\":[[0.0,\"#0d0887\"],[0.1111111111111111,\"#46039f\"],[0.2222222222222222,\"#7201a8\"],[0.3333333333333333,\"#9c179e\"],[0.4444444444444444,\"#bd3786\"],[0.5555555555555556,\"#d8576b\"],[0.6666666666666666,\"#ed7953\"],[0.7777777777777778,\"#fb9f3a\"],[0.8888888888888888,\"#fdca26\"],[1.0,\"#f0f921\"]]}],\"surface\":[{\"type\":\"surface\",\"colorbar\":{\"outlinewidth\":0,\"ticks\":\"\"},\"colorscale\":[[0.0,\"#0d0887\"],[0.1111111111111111,\"#46039f\"],[0.2222222222222222,\"#7201a8\"],[0.3333333333333333,\"#9c179e\"],[0.4444444444444444,\"#bd3786\"],[0.5555555555555556,\"#d8576b\"],[0.6666666666666666,\"#ed7953\"],[0.7777777777777778,\"#fb9f3a\"],[0.8888888888888888,\"#fdca26\"],[1.0,\"#f0f921\"]]}],\"mesh3d\":[{\"type\":\"mesh3d\",\"colorbar\":{\"outlinewidth\":0,\"ticks\":\"\"}}],\"scatter\":[{\"fillpattern\":{\"fillmode\":\"overlay\",\"size\":10,\"solidity\":0.2},\"type\":\"scatter\"}],\"parcoords\":[{\"type\":\"parcoords\",\"line\":{\"colorbar\":{\"outlinewidth\":0,\"ticks\":\"\"}}}],\"scatterpolargl\":[{\"type\":\"scatterpolargl\",\"marker\":{\"colorbar\":{\"outlinewidth\":0,\"ticks\":\"\"}}}],\"bar\":[{\"error_x\":{\"color\":\"#2a3f5f\"},\"error_y\":{\"color\":\"#2a3f5f\"},\"marker\":{\"line\":{\"color\":\"#E5ECF6\",\"width\":0.5},\"pattern\":{\"fillmode\":\"overlay\",\"size\":10,\"solidity\":0.2}},\"type\":\"bar\"}],\"scattergeo\":[{\"type\":\"scattergeo\",\"marker\":{\"colorbar\":{\"outlinewidth\":0,\"ticks\":\"\"}}}],\"scatterpolar\":[{\"type\":\"scatterpolar\",\"marker\":{\"colorbar\":{\"outlinewidth\":0,\"ticks\":\"\"}}}],\"histogram\":[{\"marker\":{\"pattern\":{\"fillmode\":\"overlay\",\"size\":10,\"solidity\":0.2}},\"type\":\"histogram\"}],\"scattergl\":[{\"type\":\"scattergl\",\"marker\":{\"colorbar\":{\"outlinewidth\":0,\"ticks\":\"\"}}}],\"scatter3d\":[{\"type\":\"scatter3d\",\"line\":{\"colorbar\":{\"outlinewidth\":0,\"ticks\":\"\"}},\"marker\":{\"colorbar\":{\"outlinewidth\":0,\"ticks\":\"\"}}}],\"scattermapbox\":[{\"type\":\"scattermapbox\",\"marker\":{\"colorbar\":{\"outlinewidth\":0,\"ticks\":\"\"}}}],\"scatterternary\":[{\"type\":\"scatterternary\",\"marker\":{\"colorbar\":{\"outlinewidth\":0,\"ticks\":\"\"}}}],\"scattercarpet\":[{\"type\":\"scattercarpet\",\"marker\":{\"colorbar\":{\"outlinewidth\":0,\"ticks\":\"\"}}}],\"carpet\":[{\"aaxis\":{\"endlinecolor\":\"#2a3f5f\",\"gridcolor\":\"white\",\"linecolor\":\"white\",\"minorgridcolor\":\"white\",\"startlinecolor\":\"#2a3f5f\"},\"baxis\":{\"endlinecolor\":\"#2a3f5f\",\"gridcolor\":\"white\",\"linecolor\":\"white\",\"minorgridcolor\":\"white\",\"startlinecolor\":\"#2a3f5f\"},\"type\":\"carpet\"}],\"table\":[{\"cells\":{\"fill\":{\"color\":\"#EBF0F8\"},\"line\":{\"color\":\"white\"}},\"header\":{\"fill\":{\"color\":\"#C8D4E3\"},\"line\":{\"color\":\"white\"}},\"type\":\"table\"}],\"barpolar\":[{\"marker\":{\"line\":{\"color\":\"#E5ECF6\",\"width\":0.5},\"pattern\":{\"fillmode\":\"overlay\",\"size\":10,\"solidity\":0.2}},\"type\":\"barpolar\"}],\"pie\":[{\"automargin\":true,\"type\":\"pie\"}]},\"layout\":{\"autotypenumbers\":\"strict\",\"colorway\":[\"#636efa\",\"#EF553B\",\"#00cc96\",\"#ab63fa\",\"#FFA15A\",\"#19d3f3\",\"#FF6692\",\"#B6E880\",\"#FF97FF\",\"#FECB52\"],\"font\":{\"color\":\"#2a3f5f\"},\"hovermode\":\"closest\",\"hoverlabel\":{\"align\":\"left\"},\"paper_bgcolor\":\"white\",\"plot_bgcolor\":\"#E5ECF6\",\"polar\":{\"bgcolor\":\"#E5ECF6\",\"angularaxis\":{\"gridcolor\":\"white\",\"linecolor\":\"white\",\"ticks\":\"\"},\"radialaxis\":{\"gridcolor\":\"white\",\"linecolor\":\"white\",\"ticks\":\"\"}},\"ternary\":{\"bgcolor\":\"#E5ECF6\",\"aaxis\":{\"gridcolor\":\"white\",\"linecolor\":\"white\",\"ticks\":\"\"},\"baxis\":{\"gridcolor\":\"white\",\"linecolor\":\"white\",\"ticks\":\"\"},\"caxis\":{\"gridcolor\":\"white\",\"linecolor\":\"white\",\"ticks\":\"\"}},\"coloraxis\":{\"colorbar\":{\"outlinewidth\":0,\"ticks\":\"\"}},\"colorscale\":{\"sequential\":[[0.0,\"#0d0887\"],[0.1111111111111111,\"#46039f\"],[0.2222222222222222,\"#7201a8\"],[0.3333333333333333,\"#9c179e\"],[0.4444444444444444,\"#bd3786\"],[0.5555555555555556,\"#d8576b\"],[0.6666666666666666,\"#ed7953\"],[0.7777777777777778,\"#fb9f3a\"],[0.8888888888888888,\"#fdca26\"],[1.0,\"#f0f921\"]],\"sequentialminus\":[[0.0,\"#0d0887\"],[0.1111111111111111,\"#46039f\"],[0.2222222222222222,\"#7201a8\"],[0.3333333333333333,\"#9c179e\"],[0.4444444444444444,\"#bd3786\"],[0.5555555555555556,\"#d8576b\"],[0.6666666666666666,\"#ed7953\"],[0.7777777777777778,\"#fb9f3a\"],[0.8888888888888888,\"#fdca26\"],[1.0,\"#f0f921\"]],\"diverging\":[[0,\"#8e0152\"],[0.1,\"#c51b7d\"],[0.2,\"#de77ae\"],[0.3,\"#f1b6da\"],[0.4,\"#fde0ef\"],[0.5,\"#f7f7f7\"],[0.6,\"#e6f5d0\"],[0.7,\"#b8e186\"],[0.8,\"#7fbc41\"],[0.9,\"#4d9221\"],[1,\"#276419\"]]},\"xaxis\":{\"gridcolor\":\"white\",\"linecolor\":\"white\",\"ticks\":\"\",\"title\":{\"standoff\":15},\"zerolinecolor\":\"white\",\"automargin\":true,\"zerolinewidth\":2},\"yaxis\":{\"gridcolor\":\"white\",\"linecolor\":\"white\",\"ticks\":\"\",\"title\":{\"standoff\":15},\"zerolinecolor\":\"white\",\"automargin\":true,\"zerolinewidth\":2},\"scene\":{\"xaxis\":{\"backgroundcolor\":\"#E5ECF6\",\"gridcolor\":\"white\",\"linecolor\":\"white\",\"showbackground\":true,\"ticks\":\"\",\"zerolinecolor\":\"white\",\"gridwidth\":2},\"yaxis\":{\"backgroundcolor\":\"#E5ECF6\",\"gridcolor\":\"white\",\"linecolor\":\"white\",\"showbackground\":true,\"ticks\":\"\",\"zerolinecolor\":\"white\",\"gridwidth\":2},\"zaxis\":{\"backgroundcolor\":\"#E5ECF6\",\"gridcolor\":\"white\",\"linecolor\":\"white\",\"showbackground\":true,\"ticks\":\"\",\"zerolinecolor\":\"white\",\"gridwidth\":2}},\"shapedefaults\":{\"line\":{\"color\":\"#2a3f5f\"}},\"annotationdefaults\":{\"arrowcolor\":\"#2a3f5f\",\"arrowhead\":0,\"arrowwidth\":1},\"geo\":{\"bgcolor\":\"white\",\"landcolor\":\"#E5ECF6\",\"subunitcolor\":\"white\",\"showland\":true,\"showlakes\":true,\"lakecolor\":\"white\"},\"title\":{\"x\":0.05},\"mapbox\":{\"style\":\"light\"}}},\"xaxis\":{\"anchor\":\"y\",\"domain\":[0.0,1.0],\"title\":{\"text\":\"Kilometers_Driven\"}},\"yaxis\":{\"anchor\":\"x\",\"domain\":[0.0,1.0],\"title\":{\"text\":\"count\"}},\"legend\":{\"tracegroupgap\":0},\"margin\":{\"t\":60},\"barmode\":\"relative\"},                        {\"responsive\": true}                    ).then(function(){\n",
              "                            \n",
              "var gd = document.getElementById('a15874d0-ce68-4759-89ed-14968864142e');\n",
              "var x = new MutationObserver(function (mutations, observer) {{\n",
              "        var display = window.getComputedStyle(gd).display;\n",
              "        if (!display || display === 'none') {{\n",
              "            console.log([gd, 'removed!']);\n",
              "            Plotly.purge(gd);\n",
              "            observer.disconnect();\n",
              "        }}\n",
              "}});\n",
              "\n",
              "// Listen for the removal of the full notebook cells\n",
              "var notebookContainer = gd.closest('#notebook-container');\n",
              "if (notebookContainer) {{\n",
              "    x.observe(notebookContainer, {childList: true});\n",
              "}}\n",
              "\n",
              "// Listen for the clearing of the current output cell\n",
              "var outputEl = gd.closest('.output');\n",
              "if (outputEl) {{\n",
              "    x.observe(outputEl, {childList: true});\n",
              "}}\n",
              "\n",
              "                        })                };                            </script>        </div>\n",
              "</body>\n",
              "</html>"
            ]
          },
          "metadata": {}
        },
        {
          "output_type": "display_data",
          "data": {
            "text/html": [
              "<html>\n",
              "<head><meta charset=\"utf-8\" /></head>\n",
              "<body>\n",
              "    <div>            <script src=\"https://cdnjs.cloudflare.com/ajax/libs/mathjax/2.7.5/MathJax.js?config=TeX-AMS-MML_SVG\"></script><script type=\"text/javascript\">if (window.MathJax && window.MathJax.Hub && window.MathJax.Hub.Config) {window.MathJax.Hub.Config({SVG: {font: \"STIX-Web\"}});}</script>                <script type=\"text/javascript\">window.PlotlyConfig = {MathJaxConfig: 'local'};</script>\n",
              "        <script charset=\"utf-8\" src=\"https://cdn.plot.ly/plotly-2.24.1.min.js\"></script>                <div id=\"1de87568-9731-4e4b-ae04-9364b551d14e\" class=\"plotly-graph-div\" style=\"height:525px; width:100%;\"></div>            <script type=\"text/javascript\">                                    window.PLOTLYENV=window.PLOTLYENV || {};                                    if (document.getElementById(\"1de87568-9731-4e4b-ae04-9364b551d14e\")) {                    Plotly.newPlot(                        \"1de87568-9731-4e4b-ae04-9364b551d14e\",                        [{\"alignmentgroup\":\"True\",\"bingroup\":\"x\",\"hovertemplate\":\"Mileage=%{x}\\u003cbr\\u003ecount=%{y}\\u003cextra\\u003e\\u003c\\u002fextra\\u003e\",\"legendgroup\":\"\",\"marker\":{\"color\":\"#636efa\",\"pattern\":{\"shape\":\"\"}},\"name\":\"\",\"offsetgroup\":\"\",\"orientation\":\"v\",\"showlegend\":false,\"x\":[26.6,19.67,18.2,20.77,15.2,21.1,23.08,11.36,20.54,22.3,21.56,16.8,25.2,12.7,0.0,13.5,25.8,28.4,20.45,14.84,22.69,23.65,13.53,18.5,14.4,16.8,23.08,20.92,17.5,12.8,19.01,14.53,11.18,12.4,16.09,14.0,24.3,18.15,11.74,22.07,19.7,25.4,25.32,18.5,14.62,14.28,14.9,11.25,24.4,16.55,17.11,22.9,17.8,28.4,18.9,15.04,25.17,20.36,13.29,18.2,13.68,20.0,11.74,15.8,25.0,16.55,16.4,0.0,24.52,22.1,8.5,15.1,16.95,19.64,16.5,18.53,17.8,12.4,12.8,0.0,22.9,17.57,18.0,20.0,23.2,17.8,16.73,20.36,18.9,17.0,17.8,13.0,17.68,22.7,15.1,25.8,22.07,16.2,18.9,15.26,23.0,18.5,19.83,14.94,17.0,14.0,17.71,14.74,16.0,22.32,11.36,15.1,25.4,22.69,13.5,12.99,23.3,19.15,10.8,24.3,17.0,15.0,22.0,18.9,21.9,12.05,11.7,26.6,10.8,21.21,20.73,16.0,21.1,24.07,19.0,17.0,19.7,20.58,19.0,13.5,19.27,25.8,22.0,17.0,11.5,18.6,21.14,20.73,11.05,21.76,17.11,22.9,7.81,21.66,17.2,21.1,22.07,20.63,19.4,14.8,26.0,12.99,20.4,15.1,22.7,13.0,21.5,20.0,15.3,19.27,19.4,20.36,17.9,18.9,17.68,14.4,16.6,22.54,17.68,25.44,13.7,17.8,22.48,12.9,22.07,19.98,13.0,21.4,22.32,19.81,15.4,12.7,20.0,25.47,0.0,25.8,20.36,25.8,17.5,19.87,17.45,24.3,18.6,14.7,15.64,15.73,14.7,23.59,16.1,14.8,27.4,22.32,20.46,15.29,20.51,11.74,11.8,19.81,14.3,14.67,17.19,25.8,18.9,21.03,19.27,22.5,19.01,17.8,16.82,0.0,17.2,18.6,22.07,22.9,20.0,11.36,11.72,17.4,18.6,19.27,25.44,22.54,12.99,20.77,12.8,17.0,17.8,17.05,24.0,28.09,20.5,13.1,19.91,18.7,19.81,16.38,13.68,19.7,20.4,18.9,22.9,22.0,0.0,17.0,11.57,15.8,23.2,19.67,19.0,19.64,17.8,16.55,20.36,12.8,17.3,28.4,12.05,22.95,18.88,23.4,22.74,17.0,12.07,17.0,17.1,16.8,21.9,15.0,20.54,17.4,22.95,18.48,18.9,18.2,15.0,20.36,19.27,20.36,13.68,17.68,12.99,16.47,20.92,18.0,17.0,17.68,17.9,0.0,17.8,23.1,17.9,12.7,20.54,14.0,18.5,14.07,18.0,18.9,16.0,17.1,16.02,11.7,19.3,17.8,17.7,17.68,9.52,14.75,26.3,23.0,16.95,19.0,25.2,18.5,16.47,19.7,11.3,19.7,21.12,19.7,19.3,11.3,18.6,24.3,17.0,18.0,25.8,21.1,21.76,22.32,21.02,14.45,24.07,22.7,18.0,19.33,13.1,14.67,20.36,22.9,18.5,23.08,23.4,17.8,17.3,13.8,23.59,24.7,18.9,11.0,11.07,18.9,24.3,12.07,17.9,16.1,20.45,21.43,15.8,21.1,16.0,24.4,14.21,14.8,15.0,17.8,17.0,17.0,16.2,13.5,18.0,18.86,13.5,21.1,20.51,21.1,16.07,13.49,20.38,12.7,12.0,13.5,19.7,14.0,12.7,17.01,16.73,14.74,13.7,15.73,12.7,14.84,15.4,21.76,15.4,16.0,13.2,17.19,11.5,21.1,18.9,13.0,16.47,15.26,0.0,15.29,11.74,16.82,17.0,23.59,19.4,21.4,20.0,21.1,20.37,16.2,22.74,16.8,18.9,17.7,15.1,13.7,15.96,0.0,21.1,13.0,16.09,12.9,22.3,16.0,18.6,14.16,18.5,13.17,12.8,27.62,25.1,15.17,21.76,11.33,18.6,19.01,24.4,22.7,16.47,24.0,21.12,17.0,17.92,12.99,28.09,12.55,15.3,12.6,15.8,17.72,18.9,18.16,16.8,19.87,15.68,20.0,12.8,12.55,22.07,23.2,23.08,22.32,10.8,11.0,12.0,17.01,19.81,20.0,16.02,18.7,18.0,17.3,15.5,16.5,18.9,12.1,18.6,12.55,22.7,17.8,13.5,17.3,18.9,16.0,14.83,17.92,15.29,15.4,20.5,19.01,11.7,17.6,22.5,15.8,23.1,12.7,18.6,25.4,17.68,11.0,22.0,14.6,20.4,11.5,16.02,12.05,16.02,16.8,14.66,17.0,10.93,19.3,17.8,18.0,13.0,18.0,22.54,18.2,0.0,12.6,12.99,18.48,19.01,20.68,17.7,28.09,17.5,15.1,13.5,25.47,23.59,9.9,21.13,20.14,17.0,19.2,11.36,18.88,27.3,25.8,16.36,26.59,17.1,12.5,17.0,18.6,22.32,15.96,22.9,17.0,17.68,13.8,20.14,13.6,25.1,18.2,18.6,17.05,15.06,12.55,11.33,20.77,18.5,10.13,20.45,17.21,12.55,15.97,19.3,25.2,13.53,10.5,16.36,11.36,19.3,14.28,19.7,17.9,21.5,16.0,20.45,22.32,14.69,15.4,23.9,12.07,14.7,13.6,19.1,13.68,21.1,22.07,24.3,18.88,21.1,17.0,12.8,14.0,13.2,16.8,16.0,21.27,13.0,13.6,15.9,0.0,20.7,15.73,17.0,14.1,21.9,19.33,19.1,20.89,18.12,13.8,20.36,22.32,16.07,12.3,18.6,0.0,13.5,15.1,28.09,19.71,16.4,11.5,24.07,9.43,21.9,16.0,13.4,17.68,12.99,24.0,14.8,12.8,16.8,23.2,12.07,18.6,24.3,17.4,20.73,17.5,22.07,20.77,26.59,14.84,19.4,16.0,22.32,28.09,13.8,16.2,18.7,25.8,22.54,21.1,16.8,13.14,24.3,17.0,24.07,21.1,20.36,18.1,18.53,22.77,14.3,13.68,20.0,14.49,18.5,12.39,18.9,10.91,12.8,17.01,13.0,0.0,17.5,13.0,20.46,14.84,15.97,19.1,22.0,16.07,22.74,17.11,13.6,12.07,25.44,20.51,19.01,18.88,20.85,17.72,15.63,18.5,15.0,16.2,18.88,24.0,17.4,16.1,25.2,27.39,14.0,13.2,25.2,17.8,21.9,25.47,23.1,25.2,15.04,15.5,20.7,17.2,17.0,0.0,18.0,16.36,15.0,18.3,15.1,11.74,18.2,16.78,19.7,20.4,19.0,25.4,25.5,16.0,18.16,15.4,18.88,17.9,12.7,25.0,18.1,12.8,19.27,18.5,12.8,12.55,16.95,22.32,15.73,18.6,17.8,20.0,23.1,20.0,15.8,18.9,10.0,18.88,13.73,16.0,16.8,22.5,13.1,22.32,18.6,16.02,14.0,23.65,18.1,22.07,12.55,16.0,17.9,18.7,23.4,17.01,10.91,18.6,16.8,27.4,17.1,24.2,20.77,24.07,13.1,20.36,17.0,18.6,11.5,22.69,14.49,14.21,17.68,20.51,25.17,21.66,22.07,22.74,18.6,18.3,17.0,22.54,20.51,22.54,17.21,20.0,18.6,24.0,14.02,26.83,19.81,19.3,15.97,23.1,20.54,16.07,20.77,20.0,16.47,16.77,13.68,22.32,17.92,16.55,16.55,17.0,13.7,22.32,24.5,18.6,12.8,18.6,13.6,20.34,16.36,17.3,13.0,11.5,18.9,25.4,15.29,20.36,19.4,12.55,16.55,11.36,25.1,25.1,21.7,28.4,23.1,15.1,20.36,19.81,22.0,9.7,14.33,14.74,21.64,18.9,23.4,25.8,28.4,13.2,10.5,13.0,13.0,22.7,16.8,19.16,26.0,19.33,17.68,20.77,19.27,19.3,19.01,21.1,19.1,22.9,21.1,17.3,15.1,14.16,15.73,0.0,19.3,14.07,15.97,18.0,25.0,16.93,23.1,11.5,11.3,15.5,9.0,19.67,17.5,22.77,18.2,20.73,14.74,17.8,23.59,19.87,26.2,16.47,19.67,14.74,16.3,15.68,27.39,28.09,15.0,22.7,13.5,17.0,18.5,16.8,23.4,25.32,13.68,21.4,27.3,17.0,23.0,19.27,19.1,18.9,22.74,18.2,0.0,13.7,16.55,12.8,17.9,19.81,17.5,21.66,21.1,14.4,17.8,18.9,22.07,12.62,17.0,25.44,14.8,20.51,15.0,15.4,22.77,13.2,22.48,20.92,15.73,17.3,11.3,13.5,27.3,28.09,20.4,19.27,18.9,15.5,0.0,26.59,18.9,16.95,19.0,25.17,17.1,18.9,18.88,18.48,25.0,22.54,16.8,25.2,23.0,16.5,13.68,10.5,18.5,22.32,15.1,20.64,26.59,13.7,22.9,22.07,17.0,23.0,17.0,25.44,16.2,11.57,11.3,11.5,14.24,11.25,20.37,24.4,13.2,10.8,18.06,16.36,10.2,16.0,10.1,18.6,24.4,19.01,18.25,18.9,12.99,18.5,22.77,17.0,14.8,22.07,19.27,22.7,14.4,26.59,25.1,19.01,18.9,0.0,25.44,16.0,19.81,13.93,20.36,11.36,17.5,18.9,23.59,23.4,23.0,25.83,25.47,20.77,16.8,19.7,10.91,24.3,8.6,22.9,17.57,17.0,19.4,21.43,17.0,15.29,20.36,18.6,14.74,13.24,15.73,16.95,24.07,11.33,24.3,21.1,20.0,22.0,18.9,17.0,17.4,12.8,16.8,17.6,12.07,18.9,17.09,18.0,24.7,17.01,23.84,18.6,21.1,12.6,22.54,23.59,21.43,20.7,20.14,13.7,10.0,17.8,18.0,8.45,19.2,26.59,26.0,14.0,17.2,24.52,24.0,28.09,19.27,20.5,10.93,26.3,15.04,18.88,14.69,18.9,11.36,19.6,18.0,17.8,12.3,15.1,15.96,24.3,20.5,19.5,13.7,14.74,18.9,17.0,14.53,16.1,16.47,18.9,21.5,18.9,21.4,20.3,26.59,15.3,22.7,16.1,19.1,18.5,23.1,14.84,17.5,15.04,25.2,14.53,13.5,16.05,19.0,19.81,11.2,18.6,26.0,12.99,25.17,19.0,14.8,18.9,25.2,17.0,22.0,16.8,16.0,23.59,27.03,20.0,13.0,22.69,22.74,13.68,18.78,13.24,13.5,14.8,22.74,20.54,12.35,13.7,20.77,12.99,15.0,12.07,17.1,21.5,17.0,20.0,18.7,16.47,17.4,17.7,26.2,12.0,18.12,12.8,12.05,20.54,17.3,16.1,14.28,14.59,13.8,18.6,21.43,16.0,24.4,13.0,20.36,14.28,14.53,17.32,21.9,19.27,21.1,19.67,13.6,14.95,12.99,19.16,13.22,28.4,20.77,16.1,20.36,20.36,21.4,16.36,19.4,22.9,20.14,16.0,13.0,0.0,19.27,21.27,19.3,17.0,12.55,17.32,20.92,23.03,17.11,33.44,18.0,0.0,14.24,18.9,15.1,16.47,18.9,17.0,14.8,13.0,18.5,24.0,14.4,20.36,17.0,18.6,22.07,15.6,9.9,25.1,20.0,12.99,19.12,18.9,12.8,18.88,14.7,20.4,16.1,11.8,12.8,28.4,17.68,22.48,18.5,17.05,17.6,17.0,0.0,10.98,19.7,24.0,25.2,24.0,16.73,17.0,16.55,19.5,13.0,15.5,22.69,16.6,21.9,15.1,20.89,17.5,22.7,16.1,19.1,16.95,15.1,22.54,33.54,21.27,16.46,14.3,14.75,17.4,19.1,26.0,18.4,28.09,26.59,11.1,14.53,0.0,17.0,12.05,13.4,18.88,15.0,20.73,10.2,12.99,0.0,13.01,11.74,26.6,19.7,24.7,16.95,24.7,24.07,18.9,24.2,18.8,16.52,18.0,18.9,22.0,18.44,22.32,15.29,20.51,10.2,16.8,27.39,26.0,22.54,13.0,19.01,19.6,18.9,17.1,18.5,0.0,22.48,16.47,17.8,15.6,18.88,22.32,20.45,18.9,17.05,21.1,19.81,15.97,16.8,11.18,22.7,19.7,16.47,22.07,22.07,20.77,22.77,11.36,10.8,23.4,18.88,16.8,17.57,14.4,22.3,26.59,16.0,18.6,21.1,0.0,17.9,23.1,17.8,19.0,16.07,19.01,17.01,13.68,25.44,17.21,10.91,22.32,18.16,16.1,26.0,16.0,20.0,17.0,18.6,12.99,20.46,12.99,17.0,24.07,19.49,23.1,11.7,23.5,17.01,15.0,17.5,14.84,18.6,17.01,17.3,14.28,19.0,23.08,25.4,23.4,0.0,17.32,25.8,14.7,14.16,23.2,15.4,28.09,21.43,25.0,16.1,16.47,14.62,11.5,21.4,21.4,23.8,13.0,20.92,20.4,22.1,12.8,11.5,18.88,16.8,11.5,15.5,23.0,21.02,15.04,17.6,21.1,13.1,15.1,21.66,17.57,12.9,14.28,19.0,11.1,17.0,12.55,11.74,27.39,20.77,12.65,12.9,12.9,16.09,20.0,23.4,23.3,17.5,12.7,11.7,12.99,12.55,18.7,17.0,28.4,21.64,12.99,19.4,15.04,16.0,23.0,17.72,20.36,12.8,20.65,22.9,21.72,13.68,17.01,17.4,26.0,20.54,12.19,22.74,21.12,15.29,12.0,16.55,22.32,26.1,20.7,14.0,21.03,14.21,19.01,23.4,16.47,16.0,16.47,21.1,14.7,12.8,26.0,17.0,21.5,18.6,19.67,12.07,19.7,25.8,18.33,19.5,18.9,12.81,17.8,14.74,20.51,22.32,17.5,17.06,15.06,24.0,13.0,13.6,18.9,20.36,19.33,17.67,14.75,11.5,18.9,21.1,19.4,22.74,15.96,17.8,15.0,22.0,21.1,20.85,19.34,8.3,17.8,13.49,20.14,17.8,17.4,16.1,20.14,12.5,16.0,25.8,17.0,20.51,16.96,20.73,11.79,15.26,20.73,23.0,18.7,16.0,17.0,22.32,19.81,23.1,20.86,25.2,16.0,20.36,16.5,11.5,25.2,16.1,16.1,15.29,17.05,13.8,22.7,20.73,18.33,27.3,17.11,24.0,12.0,12.99,16.95,20.0,14.49,24.2,21.1,16.47,13.24,16.98,23.59,17.0,18.9,13.6,12.05,11.74,13.7,18.1,12.05,17.1,23.0,16.4,20.36,25.8,22.5,19.4,17.0,15.04,18.7,13.0,13.24,21.1,18.6,19.5,13.22,18.6,19.4,17.5,18.9,11.68,17.21,24.07,22.07,18.9,14.84,15.74,15.7,12.99,18.49,20.14,22.48,11.57,11.74,18.9,13.7,16.95,23.0,12.05,19.4,18.6,10.9,16.8,11.5,17.05,12.55,19.0,19.81,17.0,19.59,15.17,20.4,21.4,13.2,18.5,26.0,20.0,18.33,19.0,14.95,18.9,17.6,18.9,12.99,16.8,18.88,10.91,21.56,25.83,15.26,16.8,16.95,19.1,20.0,20.3,18.6,23.4,22.7,19.3,18.9,11.4,22.07,18.49,11.2,19.01,22.5,24.52,19.7,20.51,15.1,19.6,18.2,13.06,13.5,16.0,21.0,21.7,15.15,28.4,20.63,18.5,18.12,20.77,18.9,9.43,17.9,0.0,21.1,11.74,18.6,20.3,22.9,18.6,18.5,22.9,17.5,16.9,18.0,17.1,16.8,15.29,15.1,26.6,12.8,22.9,22.5,18.9,25.8,16.07,15.6,17.0,22.7,13.0,16.0,13.0,18.9,28.4,22.9,16.47,18.16,22.0,14.21,18.9,26.0,13.4,17.21,22.32,22.95,21.1,17.11,12.99,11.74,24.4,11.7,20.34,17.0,22.7,20.0,18.6,23.9,18.9,14.16,17.5,18.5,25.32,18.23,17.1,24.3,14.28,15.1,20.68,22.54,11.57,17.3,18.5,19.4,19.3,16.47,20.36,18.1,19.81,20.77,25.8,15.5,18.9,20.36,28.4,13.0,12.99,23.8,15.7,14.49,19.81,24.4,23.1,20.36,19.87,22.69,18.9,0.0,18.0,17.4,20.54,11.5,17.0,18.12,14.16,23.2,21.21,26.0,15.2,15.0,11.5,16.52,15.1,20.73,28.09,12.99,19.1,11.36,25.0,18.5,17.8,18.2,17.8,10.8,18.7,11.0,18.9,18.5,22.0,17.4,18.7,17.8,17.01,14.4,21.1,20.0,17.0,21.64,18.7,17.0,14.94,11.18,12.9,18.7,15.8,20.73,22.9,13.1,16.73,10.5,13.4,26.6,16.8,17.68,25.0,27.3,10.5,13.0,16.55,19.1,28.4,15.1,18.6,23.0,14.69,14.16,20.68,19.2,17.01,17.11,10.13,20.36,23.0,20.54,28.4,15.4,22.54,19.7,20.36,15.4,19.5,15.3,27.3,10.0,16.0,18.0,22.9,14.84,17.0,15.3,18.5,20.4,12.9,19.67,20.38,17.0,21.9,24.2,22.32,15.3,20.36,24.3,12.99,17.9,19.7,14.84,22.9,18.9,12.55,12.4,22.77,18.16,11.5,19.1,12.05,13.14,18.9,19.01,20.73,22.7,21.66,14.84,11.7,23.1,12.05,22.69,20.54,23.4,12.39,21.9,28.4,17.1,20.77,15.6,21.43,24.3,17.0,15.4,20.14,15.0,15.7,18.7,12.0,20.68,15.04,16.55,13.8,22.32,13.68,18.9,17.0,25.17,17.0,18.9,18.78,25.2,21.64,16.36,28.09,12.8,15.6,11.72,12.05,19.6,15.2,15.1,14.0,18.9,14.0,15.5,13.68,12.99,22.07,16.78,22.7,24.0,18.0,12.8,21.1,20.36,12.3,15.96,20.0,20.4,16.55,17.8,15.0,18.9,17.16,10.5,15.4,19.7,19.01,0.0,20.89,12.99,16.77,13.6,19.01,33.54,17.11,17.1,17.43,18.0,19.67,19.81,18.49,17.5,13.2,15.1,20.92,18.6,12.4,20.7,16.1,17.57,26.0,18.6,16.55,26.1,19.08,18.0,20.36,18.56,16.55,10.1,18.9,28.09,17.4,9.52,23.1,13.73,20.0,12.8,28.4,19.0,0.0,16.1,18.9,17.3,11.9,17.21,13.4,25.32,10.9,22.74,15.73,23.59,15.1,13.0,24.6,17.9,19.67,16.8,17.11,17.3,19.7,21.4,16.0,19.0,18.6,19.27,17.8,18.88,21.4,20.36,12.8,21.4,12.07,13.01,0.0,17.0,21.9,13.6,12.9,10.9,16.07,18.9,25.47,15.68,24.52,25.0,20.92,21.1,11.4,12.62,20.54,19.12,21.1,14.16,16.0,28.4,21.1,19.71,19.01,19.1,12.99,15.8,21.79,15.1,18.0,16.36,17.8,10.8,17.8,17.68,18.5,16.8,16.47,12.05,16.8,15.0,16.0,15.0,21.4,25.8,15.04,22.74,18.0,18.0,19.01,19.7,14.24,21.9,20.0,24.3,22.32,12.95,21.1,10.8,13.0,19.87,15.5,9.0,17.5,22.5,16.8,21.5,23.5,19.16,22.5,11.0,21.4,18.7,15.4,16.47,17.0,12.1,18.9,18.12,24.07,14.84,24.7,18.6,18.2,23.0,11.9,21.43,13.0,14.3,16.5,16.47,16.47,18.2,23.59,15.1,18.9,22.7,17.5,18.0,17.0,23.1,15.04,11.36,18.5,23.2,17.68,13.24,13.5,23.84,16.55,19.1,14.24,15.26,21.9,21.5,20.54,19.1,20.4,17.0,19.67,25.6,14.0,20.4,14.0,24.7,15.6,13.68,18.48,13.01,22.48,17.8,23.59,12.7,18.3,19.7,11.5,0.0,15.8,21.4,23.8,17.01,20.0,25.8,19.01,23.0,11.2,14.24,13.45,11.18,23.1,18.6,18.88,26.21,17.11,18.0,15.63,20.92,16.77,18.33,28.4,19.2,21.56,26.0,16.8,18.16,22.54,18.88,16.55,20.58,13.93,12.05,15.29,16.9,17.05,9.0,14.7,19.7,19.2,14.62,28.09,15.3,13.58,20.64,17.8,20.4,19.33,18.6,15.1,18.0,23.1,15.04,23.9,25.0,22.77,16.1,14.62,18.2,15.97,20.14,16.25,20.54,11.18,19.87,12.9,16.1,11.3,20.36,23.0,25.8,22.32,17.9,20.14,0.0,21.4,22.9,14.0,22.7,15.1,18.6,17.01,18.9,19.01,19.1,20.36,13.7,15.8,15.04,22.32,14.95,26.59,20.36,14.0,18.9,16.82,13.4,14.28,10.4,16.0,19.5,17.44,33.54,21.1,22.07,20.36,19.0,26.6,20.51,24.2,21.1,14.84,28.09,15.26,20.0,24.3,13.45,24.0,25.47,17.0,16.0,13.7,20.73,19.67,23.59,17.0,13.5,21.9,17.0,17.0,16.1,19.0,11.1,21.4,17.9,25.17,18.16,13.0,17.0,15.4,13.2,24.3,11.74,17.01,24.0,20.14,18.0,10.1,17.92,15.0,18.0,12.55,17.01,10.5,22.69,21.9,18.5,14.0,19.1,14.02,19.27,20.36,11.5,19.16,20.0,19.1,18.6,19.2,24.6,28.4,17.0,27.39,18.3,21.1,20.14,25.44,22.48,17.9,24.07,20.14,19.81,13.5,23.4,25.4,22.71,15.8,12.9,18.5,23.08,17.5,23.0,15.04,19.01,15.73,12.99,17.57,11.5,16.09,22.7,17.0,26.59,22.69,19.34,21.4,26.21,17.9,24.5,12.99,14.74,17.6,25.44,12.8,19.7,19.3,12.8,17.11,24.3,18.9,13.4,17.6,17.0,17.01,14.0,24.7,19.27,19.81,14.67,21.5,17.8,14.8,12.05,17.92,17.8,11.1,20.77,18.6,12.07,17.11,22.3,18.1,16.1,22.69,24.0,16.95,16.1,17.92,17.54,22.1,17.43,23.4,28.4,19.5,19.6,10.5,18.12,17.3,14.0,18.6,17.0,18.0,11.7,18.48,21.64,12.07,17.9,24.3,19.3,21.13,12.07,18.9,25.1,21.1,13.0,0.0,13.2,12.05,17.45,18.5,15.87,18.6,19.1,20.77,20.45,15.5,17.11,18.7,25.8,12.8,21.1,22.7,22.9,9.5,13.1,12.55,16.3,23.4,22.32,12.05,19.81,12.99,11.36,12.99,23.4,17.01,12.99,20.54,14.8,11.18,20.36,20.36,17.0,18.0,23.1,18.9,19.3,20.36,15.06,17.11,20.45,11.56,22.5,13.5,18.6,24.07,12.07,18.6,23.84,20.36,0.0,20.46,13.49,18.5,23.4,22.0,14.84,16.82,26.0,26.21,22.0,21.1,18.12,19.4,23.2,18.88,26.59,23.4,16.95,14.39,17.5,19.09,24.0,22.3,17.8,19.87,18.48,24.0,19.4,12.3,24.7,16.2,20.77,12.9,19.67,20.34,17.4,16.8,17.0,18.9,18.9,26.2,18.9,17.8,18.6,19.87,19.3,12.8,25.4,18.12,18.6,15.4,27.4,19.67,21.4,14.16,25.8,11.0,15.6,18.9,19.81,21.66,17.85,15.04,10.4,20.73,22.7,16.5,24.07,17.5,17.57,16.1,10.91,15.8,16.95,17.0,19.3,25.0,18.9,19.67,19.0,22.5,17.3,20.36,0.0,22.54,23.1,13.4,20.0,27.3,15.0,17.9,18.5,11.8,22.32,22.69,22.32,22.5,20.0,18.15,17.0,18.49,15.17,21.5,31.79,24.3,12.7,12.6,17.92,18.18,24.3,23.4,19.5,16.36,16.82,21.1,16.77,17.19,28.4,22.7,18.9,20.34,17.6,18.7,20.14,21.66,16.8,16.5,14.3,16.8,21.19,21.4,11.1,19.1,19.3,23.4,20.85,18.9,17.8,23.9,12.0,20.0,21.12,13.5,19.7,22.48,16.0,23.2,24.3,15.1,17.5,17.01,22.5,27.62,13.01,21.1,18.5,17.1,18.4,20.4,19.27,25.2,28.4,25.44,13.7,14.84,13.68,20.36,25.8,21.9,11.57,12.05,15.3,21.4,16.52,17.1,17.0,17.21,19.4,26.59,17.0,11.18,13.1,0.0,19.7,23.0,15.8,23.08,19.4,11.18,16.46,18.9,21.4,11.68,21.8,18.5,10.5,14.53,15.97,10.9,17.01,18.49,12.05,25.17,22.5,16.1,17.0,24.7,18.6,23.0,15.73,11.57,19.81,20.51,17.8,18.9,25.1,17.5,17.5,15.1,28.09,22.32,13.1,19.4,17.19,18.88,16.96,15.26,16.1,19.01,18.56,20.5,20.51,22.1,15.1,23.0,18.56,25.2,18.12,25.0,15.1,12.07,18.48,17.1,13.01,0.0,20.51,17.3,18.5,13.7,15.3,18.9,16.8,20.36,21.7,15.0,17.21,12.05,12.9,25.44,12.8,20.85,21.7,22.95,18.9,20.34,17.68,19.3,18.0,22.69,21.1,23.4,20.14,18.0,14.4,20.51,20.14,16.47,25.8,18.53,24.7,21.5,18.53,19.01,21.66,25.83,15.42,14.84,13.0,17.0,18.6,20.54,13.1,14.8,17.8,23.0,12.99,21.5,20.0,17.85,17.01,16.55,16.0,13.8,23.4,20.73,21.1,11.0,18.48,24.0,14.47,17.8,17.92,12.8,18.6,11.0,20.0,21.43,18.9,16.3,20.89,11.5,20.54,13.68,20.0,23.59,18.06,12.7,16.07,13.2,23.1,16.36,12.4,23.08,18.0,19.87,12.99,18.0,14.94,17.71,11.36,15.8,16.1,27.39,13.45,23.1,22.7,18.8,27.3,15.1,23.08,19.27,19.0,22.9,17.5,19.09,25.8,20.4,20.77,18.9,19.69,18.9,17.1,22.07,15.5,16.09,18.88,15.6,12.83,26.59,25.2,18.4,18.9,22.95,21.1,18.6,9.0,22.7,21.1,21.9,22.0,8.0,17.8,19.4,18.6,13.0,17.7,18.5,22.77,13.2,17.01,12.8,22.5,25.47,19.7,19.0,11.0,18.15,19.2,12.9,20.36,14.84,17.6,17.0,23.4,22.0,17.01,23.2,13.0,17.1,18.6,26.6,13.93,19.3,25.0,28.4,23.1,14.69,16.47,13.93,13.6,15.6,26.0,12.6,20.0,11.5,22.32,15.1,25.17,18.6,15.6,10.91,13.7,22.69,22.8,23.2,0.0,11.5,16.1,20.3,18.0,13.2,14.21,28.4,16.02,17.01,12.63,0.0,19.27,20.36,22.07,24.3,19.87,18.0,11.3,25.4,18.1,17.01,15.6,25.2,23.08,16.47,22.69,15.0,0.0,12.07,26.21,25.1,10.93,14.57,14.02,12.0,15.5,14.53,14.4,21.1,20.0,22.9,14.28,12.99,27.28,15.41,10.91,25.17,23.0,17.5,21.43,15.4,14.16,18.2,22.69,21.64,12.8,16.8,16.8,17.4,0.0,16.6,22.54,13.0,26.2,22.77,18.5,17.8,23.08,20.0,18.44,17.8,12.8,13.7,14.0,21.9,17.01,25.2,25.2,12.8,24.4,20.77,10.91,22.54,19.0,21.1,32.26,17.0,17.5,17.05,15.0,16.0,16.95,21.4,24.3,15.6,33.54,18.19,14.95,13.33,19.3,16.2,17.01,19.81,13.0,17.3,20.36,25.8,14.1,18.5,17.0,14.69,16.7,18.9,14.74,16.36,16.0,22.7,17.11,19.01,19.1,16.47,19.7,18.9,25.4,17.84,16.47,22.74,20.7,15.2,12.62,15.8,18.9,18.2,20.85,17.57,19.27,17.3,21.1,18.9,28.4,22.32,14.74,13.7,18.9,16.47,14.8,20.0,22.5,23.4,13.0,18.9,23.08,18.9,20.54,12.55,0.0,11.36,20.0,21.1,22.7,20.7,19.64,10.91,14.28,14.0,16.77,17.3,17.8,22.9,18.0,20.77,19.01,19.3,23.2,15.1,19.4,0.0,21.02,12.8,18.6,17.01,17.3,18.0,18.0,12.7,17.4,9.5,13.8,13.0,19.0,14.07,15.6,23.19,19.08,16.1,15.1,21.5,15.0,19.67,13.0,12.55,9.0,14.21,10.2,25.8,28.4,18.6,14.53,11.49,22.9,16.3,20.4,18.7,23.59,16.47,12.9,16.78,17.01,12.8,22.7,19.0,21.4,18.2,22.32,25.8,18.51,15.0,17.11,23.4,22.3,12.99,19.64,10.0,25.8,11.57,23.2,28.09,0.0,18.48,21.4,23.5,16.0,19.7,20.7,15.1,17.92,22.9,20.0,25.17,22.9,17.3,18.9,21.12,16.0,17.5,15.73,17.8,14.84,18.0,12.8,18.6,26.6,18.7,18.06,19.12,12.55,26.1,20.77,22.74,19.4,16.2,12.8,19.67,23.59,13.44,19.67,18.7,20.54,16.0,18.49,11.1,20.77,12.83,12.55,20.77,19.5,20.36,16.8,15.5,12.9,17.9,13.14,28.09,22.7,8.7,24.0,20.5,25.44,17.21,19.2,23.59,14.53,20.36,18.16,18.5,15.0,26.59,8.77,22.7,12.55,20.3,21.9,20.54,18.5,21.9,14.21,18.9,23.0,25.17,16.9,15.04,14.39,19.01,22.32,23.1,18.9,21.9,12.3,17.05,14.3,20.36,10.5,26.0,20.92,17.8,18.9,15.6,18.9,15.5,17.4,19.6,25.8,12.99,16.07,19.81,20.45,11.3,24.3,11.8,23.0,19.08,16.47,19.64,16.5,18.16,18.53,15.97,20.36,18.6,16.4,16.2,17.1,15.3,20.0,17.68,16.47,17.05,17.4,23.0,19.0,16.1,10.1,20.0,16.0,13.6,17.97,12.35,22.74,17.6,17.0,20.36,25.2,21.1,22.69,23.57,22.74,22.07,14.28,17.92,20.4,21.64,24.3,18.06,20.0,13.1,19.01,17.71,21.27,18.16,10.5,17.11,12.4,15.26,15.3,25.8,17.8,22.7,20.14,18.6,12.8,15.26,17.3,12.62,18.6,17.5,16.47,13.7,18.9,19.1,16.2,22.7,26.2,26.0,17.0,19.01,20.36,18.7,23.65,11.9,16.47,21.1,19.5,18.6,20.45,18.9,16.07,22.7,21.5,11.7,14.49,16.2,14.95,19.2,15.1,22.7,14.3,18.9,18.6,18.2,14.3,19.67,25.44,11.5,18.6,12.07,17.85,17.8,17.21,16.55,12.37,22.32,18.9,24.52,24.4,22.9,16.0,22.48,14.28,22.54,18.15,24.7,15.7,18.9,9.5,19.4,22.54,13.0,26.83,17.8,18.15,18.0,16.0,0.0,14.84,19.6,16.47,18.48,13.5,0.0,12.9,28.4,25.8,16.07,23.5,11.5,18.6,18.6,18.9,15.6,9.1,16.1,17.11,16.8,18.2,20.14,19.87,12.51,18.5,17.0,16.0,16.3,16.0,11.79,19.44,15.4,15.5,25.6,14.4,24.0,33.44,17.43,13.68,17.05,16.96,20.0,11.18,15.04,15.0,16.47,23.65,14.53,20.77,19.2,17.9,16.9,18.15,11.5,17.0,18.53,20.0,17.9,15.26,25.83,22.7,21.4,16.1,9.9,21.76,28.4,17.01,17.1,11.4,15.1,21.5,21.1,13.5,14.69,20.77,18.0,16.6,13.5,17.3,20.77,24.0,20.14,19.81,18.0,12.4,20.36,25.17,15.2,22.74,17.8,11.74,13.22,16.2,21.38,17.0,17.0,22.7,16.51,23.4,20.77,18.6,24.0,17.4,20.5,11.0,13.01,19.7,12.4,24.8,20.0,17.0,17.8,23.9,13.0,22.7,11.2,18.12,25.83,17.0,13.8,17.68,10.8,15.0,14.24,25.17,18.0,16.2,18.88,0.0,26.59,25.4,19.0,17.0,17.8,25.1,15.6,21.4,23.2,19.5,16.2,18.6,24.4,19.0,19.4,13.0,17.6,24.4,22.7,21.9,19.4,24.52,20.36,17.0,16.0,20.54,14.0,10.2,15.1,22.9,21.4,15.1,19.1,19.27,13.14,20.14,20.89,25.2,17.8,11.5,17.5,17.21,19.87,16.8,20.54,18.9,16.6,24.4,25.8,18.0,20.4,22.48,15.5,16.4,17.0,17.0,16.55,18.9,19.08,17.9,21.76,24.2,17.01,17.0,17.8,26.59,13.0,11.5,12.8,17.21,17.4,17.11,22.07,14.8,12.99,13.0,22.1,24.7,8.7,26.59,24.3,13.2,12.55,23.0,17.11,19.64,23.1,15.9,16.95,22.69,18.9,18.9,18.9,16.47,17.7,17.9,14.0,15.74,22.74,24.3,15.1,24.3,18.6,10.0,19.7,18.0,12.65,24.0,13.5,24.0,16.1,23.59,22.54,24.07,17.05,23.1,13.7,14.0,15.1,19.1,18.88,21.43,18.5,20.37,11.0,21.1,17.97,18.9,21.56,19.1,22.32,21.5,16.8,17.71,11.68,23.59,18.06,14.42,11.36,21.38,28.4,23.9,19.7,23.65,21.1,13.24,21.1,20.65,14.21,14.16,15.3,18.88,21.1,14.21,12.8,20.36,18.9,19.4,21.9,16.47,13.0,18.7,13.1,18.3,14.0,24.2,20.77,18.9,14.74,18.0,12.4,18.6,17.0,13.4,24.07,19.7,20.51,20.4,19.3,21.64,18.5,19.1,18.9,15.1,12.55,19.64,17.92,17.01,15.06,12.9,15.26,20.51,24.3,11.8,26.59,17.0,25.47,13.2,17.0,17.0,19.7,12.05,18.9,17.0,21.1,13.73,22.69,19.4,11.7,19.3,16.0,19.81,20.73,12.8,18.9,16.52,12.83,15.1,17.4,22.7,18.6,17.9,22.0,33.44,17.6,23.4,19.7,23.1,22.7,19.01,11.1,17.8,16.0,18.7,17.8,15.7,19.5,16.02,18.44,17.0,16.78,18.88,18.7,28.4,20.5,15.1,18.9,17.0,12.8,15.1,19.3,15.04,23.59,16.55,16.02,14.53,16.1,17.0,19.1,19.16,24.0,11.36,20.36,18.9,27.39,14.67,14.84,21.1,23.4,14.8,24.52,22.7,12.55,17.21,18.7,20.14,17.92,13.2,21.1,12.8,26.8,21.56,17.5,18.0,17.8,19.4,23.59,13.5,15.64,11.36,20.54,22.7,18.9,13.0,20.14,15.3,16.1,17.1,24.07,19.3,26.59,28.09,15.8,20.0,14.53,22.7,15.6,19.0,17.3,11.5,26.21,25.17,19.2,23.1,21.38,27.3,17.0,13.7,16.95,11.7,15.1,18.6,23.08,19.12,20.54,17.0,14.53,25.1,20.4,14.21,12.99,16.1,19.27,18.9,18.9,22.77,16.47,17.01,24.04,16.5,18.16,11.5,25.0,25.83,23.4,23.08,19.3,16.96,12.07,17.0,16.07,21.19,12.7,10.5,20.0,9.8,21.9,16.36,17.1,17.4,18.5,19.4,21.9,10.4,19.0,20.3,19.7,16.0,22.9,17.05,14.3,16.09,18.5,21.9,25.2,11.7,14.28,22.32,19.01,17.8,24.07,13.0,15.04,10.1,22.7,13.0,24.0,16.6,17.6,19.0,23.2,17.8,12.99,11.8,21.14,15.8,23.1,15.04,13.5,23.59,19.4,18.0,17.0,18.7,14.53,16.78,17.05,16.4,22.54,13.0,19.67,15.73,12.63,21.66,23.1,11.05,20.73,14.16,20.0,18.88,17.0,16.36,20.4,22.48,15.0,19.4,18.6,16.8,11.5,19.81,17.0,15.4,15.5,13.33,23.59,16.95,22.07,21.1,21.9,11.3,12.99,23.1,19.3,17.3,23.9,17.0,19.68,26.21,18.9,14.94,19.16,18.6,21.4,18.9,22.07,15.97,16.47,20.45,14.67,14.16,27.39,16.47,13.5,20.73,19.87,21.1,10.8,17.01,14.28,15.5,16.47,14.16,17.0,22.5,13.5,14.7,19.67,19.7,16.8,22.7,17.67,14.8,17.21,22.77,15.29,14.24,20.85,17.0,15.4,23.1,10.93,20.36,17.71,15.0,21.1,33.54,17.0,13.0,25.0,15.29,20.51,28.4,13.8,16.47,20.36,18.2,0.0,10.5,17.8,15.1,17.71,15.1,15.29,26.0,19.3,20.51,21.1,11.36,15.8,20.51,11.3,23.1,12.05,22.7,21.2,22.7,19.1,16.55,16.5,18.9,19.81,22.32,22.32,23.2,20.5,21.4,22.32,22.3,18.5,17.85,15.1,22.69,25.47,16.9,16.93,15.73,19.81,16.96,21.1,19.81,12.8,18.6,12.8,9.8,25.32,22.07,12.4,11.79,16.46,25.6,22.07,16.0,16.09,17.4,14.16,17.0,20.4,22.74,20.0,17.92,18.9,26.0,16.8,25.1,17.0,24.07,14.21,11.2,14.0,19.72,12.05,10.91,19.0,17.0,20.36,16.5,20.51,18.51,0.0,18.9,18.25,25.17,24.7,12.99,14.53,25.83,19.4,14.2,12.05,13.0,12.05,12.39,18.6,22.9,13.4,13.22,21.1,19.5,17.01,19.6,15.6,19.7,20.36,18.0,21.14,17.68,18.7,15.29,18.6,22.7,19.1,10.0,22.9,23.1,19.3,16.8,9.0,14.67,12.99,23.1,20.77,20.0,14.0,25.8,25.17,25.17,12.07,22.32,11.36,17.0,16.47,20.54,17.7,16.2,13.2,20.0,10.93,18.6,20.36,19.81,17.0,12.98,16.0,17.2,22.5,24.3,0.0,20.54,20.14,22.9,19.81,16.0,25.47,16.0,21.12,11.0,15.6,20.51,20.63,20.0,17.2,18.5,11.36,19.4,17.2,13.0,12.55,16.51,27.3,14.53,16.9,20.68,28.4,25.32,16.0,20.4,18.9,17.8,18.9,20.54,28.09,14.4,18.5,16.5,17.4,23.9,10.13,14.0,13.7,12.07,22.0,12.8,12.05,17.9,13.68,15.9,25.2,12.99,23.59,18.6,13.8,19.27,17.6,12.8,17.54,21.13,22.0,11.1,20.0,13.4,26.0,13.93,19.0,17.8,23.01,19.12,22.54,13.68,28.09,14.74,19.1,16.12,24.4,16.55,20.73,12.8,15.8,20.36,16.95,27.39,18.2,16.46,11.33,11.7,21.1,21.64,14.28,23.59,14.28,17.68,20.77,18.9,19.09,26.59,15.26,23.84,17.8,19.5,17.11,14.4,20.54,17.0,22.5,9.3,26.0,26.6,0.0,22.74,18.6,22.7,19.59,11.7,18.0,15.85,14.74,14.53,20.36,15.8,20.0,13.1,15.6,18.0,19.1,14.7,22.7,21.1,22.74,16.47,20.36,16.95,14.53,18.1,24.7,21.9,19.08,12.07,25.0,18.0,18.9,12.55,18.9,17.0,18.6,12.8,13.0,11.36,18.2,22.9,20.5,18.2,19.87,10.5,23.1,17.88,18.6,23.1,18.9,18.6,17.1,12.39,16.1,18.0,21.43,27.4,16.77,22.5,24.2,10.1,17.1,11.72,16.95,17.7,20.36,24.4,18.19,16.6,21.4,17.0,20.64,12.07,17.0,14.84,25.8,16.6,18.5,22.74,10.6,14.6,28.4,15.1,11.1,20.36,11.5,21.9,19.98,12.07,18.0,19.01,17.8,18.0,12.05,23.2,17.0,18.88,15.0,19.1,16.36,16.9,12.8,15.1,15.2,12.8,9.8,20.34,18.6,17.8,13.5,14.66,15.1,12.8,11.57,12.05,16.8,12.0,17.0,22.5,15.4,17.0,16.0,19.0,16.07,17.67,19.01,22.07,22.69,16.95,24.07,21.1,14.16,16.8,25.8,26.0,12.9,20.34,22.48,16.07,13.0,21.76,14.84,26.59,23.1,19.59,11.33,18.2,25.4,24.7,22.5,24.4,17.8,16.36,18.33,21.27,10.5,24.3,24.07,21.1,28.09,19.67,17.2,20.14,18.48,12.99,14.21,20.14,17.32,18.5,19.81,24.7,21.1,17.92,17.92,12.7,17.4,24.3,17.11,14.21,13.5,18.6,15.73,25.1,19.81,25.2,11.4,13.8,20.68,14.21,15.1,16.7,25.8,17.3,18.5,11.0,19.67,26.59,22.9,24.0,18.16,15.97,11.78,18.9,22.32,16.73,23.08,15.5,21.12,16.55,17.8,25.2,21.43,27.3,7.94,16.25,0.0,12.35,15.3,19.08,21.7,22.3,21.19,15.0,25.17,11.68,21.1,25.8,22.07,17.0,12.55,18.0,20.58,23.1,12.99,16.36,17.5,17.05,14.3,16.09,22.77,15.1,18.6,17.92,12.0,19.7,17.8,13.01,17.9,12.8,16.07,18.6,15.04,16.02,18.9,19.67,16.77,16.0,16.05,24.4,21.21,13.0,20.36,17.11,21.9,23.5,17.0,25.47,19.7,20.51,19.08,19.7,16.09,21.4,0.0,13.7,14.24,15.6,12.0,17.4,22.9,14.53,23.59,18.9,15.7,12.0,16.36,17.0,12.39,18.6,18.0,0.0,22.74,11.36,18.9,16.55,15.0,18.5,18.9,17.0,25.01,15.0,26.59,23.59,19.1,13.5,12.99,13.2,22.74,8.1,22.7,20.14,14.3,15.73,16.0,17.0,13.9,14.2,19.69,16.5,12.99,20.64,16.0,16.9,13.5,18.0,24.52,25.8,17.4,23.8,14.53,17.0,13.7,18.9,19.81,23.84,21.4,15.04,18.9,20.0,13.9,22.74,15.68,12.4,11.0,17.0,10.1,28.09,18.9,19.67,28.09,21.1,16.02,20.54,12.8,16.47,33.44,17.9,14.66,22.9,18.6,14.0,18.9,15.04,11.7,13.5,15.0,20.5,19.7,20.38,19.87,17.8,19.67,20.0,15.26,16.8,19.08,14.49,14.8,11.5,26.21,24.3,21.76,14.4,17.0,11.0,19.1,14.21,12.39,20.36,22.32,19.33,15.1,19.7,14.67,22.9,10.5,13.7,16.55,19.01,12.8,12.39,20.54,11.62,22.7,15.3,22.7,11.7,7.94,18.9,16.47,20.62,15.29,24.07,14.66,15.11,25.8,15.9,22.9,20.5,11.0,12.05,21.64,17.5,21.1,19.4,18.06,19.7,22.69,16.47,23.1,21.5,26.21,16.55,19.4,11.79,26.0,17.05,18.0,20.0,20.4,19.27,19.3,18.56,21.1,18.25,18.16,20.92,24.7,19.27,20.3,24.4,25.8,17.8,16.2,17.11,10.2,16.0,13.1,17.2,21.4,24.4,13.5,18.6,17.0,18.6,19.1,22.5,21.9,12.55,20.36,18.9,18.6,17.0,24.3,25.8,15.26,23.0,19.81,26.59,10.37,27.39,25.44,19.4,20.0,23.1,14.84,17.0,19.4,21.4,21.1,23.0,10.91,17.4,21.5,12.9,20.54,16.8,19.67,24.4,17.9,20.0,15.0,18.49,15.8,17.1,26.6,18.6,15.2,19.49,15.26,12.83,15.8,20.5,23.4,15.8,24.0,18.49,24.0,11.7,28.4,12.55,17.68,27.3,11.33,12.05,18.3,25.44,18.25,14.3,23.4,11.5,22.9,17.0,15.26,17.8,26.1,20.36,14.6,19.7,23.59,20.4,19.27,17.88,22.74,9.3,16.47,22.0,12.05,17.8,18.88,25.4,12.99,18.4,23.84,12.05,16.73,21.43,18.0,22.0,26.59,20.73,22.7,20.92,19.0,15.1,18.49,18.2,16.1,16.47,20.5,18.6,25.8,10.0,18.59,20.38,26.59,26.59,12.8,16.09,16.73,15.1,17.0,17.0,20.14,16.0,23.59,19.01,18.56,18.5,15.1,17.8,16.8,25.2,24.0,14.75,17.0,18.0,27.39,24.0,19.3,16.1,0.0,11.5,27.3,24.3,23.4,21.66,0.0,22.74,16.47,26.0,23.4,17.11,17.8,18.16,24.3,19.01,21.19,15.7,17.7,15.6,13.06,20.36,12.81,9.74,11.3,26.59,17.11,16.47,11.5,11.5,12.8,22.9,17.5,17.1,25.4,15.3,27.62,11.5,27.62,21.1,23.5,16.47,16.2,24.3,19.4,17.5,23.1,13.0,22.7,17.8,13.1,12.51,15.1,16.47,19.2,20.36,14.81,12.0,11.7,11.74,22.07,17.4,24.3,18.6,13.93,21.64,10.9,14.53,22.32,19.3,28.4,24.07,10.5,14.84,22.0,14.2,20.4,23.9,17.9,13.0,12.8,13.2,24.7,20.92,15.64,16.1,22.5,21.14,16.0,16.0,18.5,17.9,20.5,24.0,18.6,22.95,22.54,20.5,16.0,16.1,25.0,14.84,11.57,0.0,16.8,18.5,13.0,18.9,15.0,15.63,21.1,19.15,19.0,16.47,19.7,22.32,10.0,17.57,18.4,27.3,24.07,17.3,22.54,22.7,14.21,13.7,14.21,16.0,20.36,14.2,12.07,12.05,18.7,14.0,15.1,22.07,19.3,15.73,23.1,16.8,18.6,25.17,17.9,22.7,18.6,12.99,21.64,25.2,19.0,18.6,17.9,16.02,18.9,22.07,22.7,25.1,14.28,15.1,24.7,18.59,21.1,26.59,31.79,16.55,13.7,17.57,17.0,17.4,16.95,16.1,14.4,15.74,22.0,16.55,15.5,12.62,20.4,24.0,20.14,10.0,18.6,24.07,20.77,23.1,22.5,12.05,12.8,22.07,20.0,20.45,17.0,22.5,21.14,16.0,20.0,15.96,20.64,12.99,15.1,15.8,16.96,13.93,8.2,16.47,18.5,20.77,17.4,17.0,16.96,25.8,15.1,14.53,17.0,22.69,23.0,18.5,16.8,23.2,19.81,18.2,22.32,15.8,18.2,14.16,17.0,17.0,12.07,20.36,17.0,17.5,25.0,16.2,22.9,19.0,13.9,16.07,12.8,14.94,22.54,23.2,24.3,19.1,26.0,25.17,23.59,24.07,23.84,21.9,16.55,28.4,17.0,16.0,17.0,14.66,0.0,23.1,15.8,17.88,15.04,23.1,17.9,22.74,10.91,17.57,16.09,17.5,14.0,16.2,12.55,23.1,16.07,16.9,13.17,18.06,20.14,21.1,20.36,18.6,10.37,20.36,13.6,19.4,20.73,19.3,22.07,17.05,12.07,25.83,21.76,14.0,17.3,21.4,22.0,14.7,20.14,0.0,14.16,18.53,24.0,12.05,22.95,21.1,15.4,11.1,16.2,15.1,24.0,10.91,24.0,22.9,18.6,17.5,22.69,17.7,16.95,23.0,23.1,20.77,12.8,17.8,19.1,18.5,15.0,17.19,17.0,13.6,17.8,12.9,18.6,19.67,15.73,24.7,15.06,20.36,21.66,16.47,20.73,17.21,24.4,13.5,17.7,15.96,17.4,25.4,19.01,16.98,17.11,16.0,18.06,13.2,13.68,17.0,22.9,19.64,16.47,17.19,18.12,23.4,0.0,28.4,19.08,21.9,17.5,18.6,17.0,20.73,12.7,16.1,17.57,16.0,11.7,25.4,22.7,25.0,25.8,15.1,18.56,18.9,21.4,19.08,25.47,13.6,23.2,15.6,22.7,18.6,19.4,25.8,18.48,12.07,24.0,23.08,18.9,21.1,11.74,12.7,11.18,20.73,11.8,22.0,11.49,19.01,22.32,14.28,21.76,18.88,25.2,11.72,17.2,24.0,0.0,22.5,16.0,16.55,20.54,24.3,17.3,19.81,17.5,25.1,11.5,16.0,10.9,20.0,19.0,10.91,17.97,18.7,25.44,12.1,19.01,17.9,17.57,18.5,21.5,25.4,17.0,13.2,13.9,15.6,25.8,18.9,17.8,13.0,17.68,13.5,19.3,13.4,15.4,22.5,13.0,18.2,25.4,18.5,22.69,16.0,15.8,17.5,25.4,20.0,14.8,12.7,26.0,22.5,18.9,18.1,22.54,24.07,20.5,18.0,21.19,23.1,16.55,24.8,21.8,16.2,17.0,20.36,16.46,17.01,18.9,21.1,10.5,19.81,14.0,13.5,18.2,23.4,13.0,28.4,26.2,28.4,18.9,25.17,15.64,20.0,15.15,24.07,20.34,10.5,18.56,17.0,17.44,13.5,19.3,8.6,20.77,12.8,11.7,14.84,22.7,17.71,20.36,0.0,12.39,12.8,18.5,17.0,19.15,15.87,16.8,25.8,11.5,12.97,19.67,25.44,11.36,23.4,19.67,12.65,25.8,15.29,18.19,26.0,15.29,20.0,14.69,10.5,19.87,21.1,18.9,17.9,22.48,13.0,25.17,14.94,28.09,16.0,22.69,19.08,21.38,15.04,21.76,14.4,19.72,18.6,16.96,19.67,28.09,22.54,17.01,22.07,22.07,15.0,24.5,19.64,12.9,14.7,23.1,26.21,12.8,17.05,15.6,22.7,13.9,13.5,12.55,20.36,21.64,18.12,16.52,20.36,17.5,10.0,25.8,20.68,12.99,7.5,22.71,26.59,21.5,16.96,9.8,17.8,17.01,18.9,23.4,9.74,23.59,19.81,17.01,20.14,22.48,23.0,18.9,11.5,21.4,13.0,20.36,24.7,14.67,26.59,13.1,12.8,17.0,17.0,23.59,13.7,21.64,17.0,22.54,17.4,18.0,16.47,22.9,11.4,15.4,18.9,20.14,17.1,28.09,0.0,21.64,15.0,15.1,15.0,12.55,19.67,18.5,26.6,26.0,16.1,13.8,20.85,16.8,16.8,17.01,25.17,18.9,18.9,18.6,18.0,17.8,19.08,23.59,19.0,23.9,17.9,14.7,25.44,22.07,23.65,16.8,20.64,18.9,24.04,22.74,15.8,21.4,23.2,11.0,23.2,25.44,15.5,14.0,13.5,13.0,25.44,25.83,17.4,17.9,21.38,17.8,16.55,19.81,12.05,16.46,17.01,22.0,14.49,18.3,22.54,16.0,19.1,30.46,24.0,19.7,12.99,16.95,18.0,17.3,20.51,20.0,18.0,13.2,22.32,25.2,14.8,17.3,20.0,12.05,20.68,10.93,13.7,16.5,20.36,17.4,15.6,12.8,21.0,18.15,18.6,12.0,19.3,15.97,17.68,21.4,13.01,14.39,15.0,17.92,26.6,28.09,17.4,20.45,18.88,26.0,20.45,24.0,17.0,12.55,13.68,21.4,17.0,19.81,12.07,27.03,17.8,20.92,18.5,12.05,19.6,19.67,23.84,16.0,20.34,14.8,15.5,15.3,17.54,17.11,18.6,19.87,20.54,20.36,6.4,14.74,17.5,22.3,21.27,19.1,12.99,23.84,25.17,12.8,13.0,16.8,20.36,19.67,19.5,18.78,20.36,23.08,21.5,12.99,14.53,16.8,11.3,20.46,15.41,20.36,18.15,23.1,16.98,25.1,12.6,18.9,20.45,18.9,22.77,16.95,25.83,13.5,25.17,19.4,16.1,21.9,17.2,18.9,21.21,26.0,22.54,19.15,25.17,25.6,13.68,27.39,22.77,12.99,22.7,22.07,22.54,19.87,13.8,13.1,27.39,14.84,15.9,12.85,16.73,17.92,19.5,17.68,25.83,14.95,23.1,12.8,24.0,18.9,18.9,18.6,18.2,20.92,13.0,16.55,17.0,16.78,12.0,19.6,22.9,15.04,18.19,8.2,18.9,25.17,10.9,24.3,17.0,10.5,0.0,17.5,16.55,18.9,13.5,19.71,26.6,24.07,18.6,23.4,11.8,15.63,25.1,20.92,20.77,22.54,15.64,19.7,19.5,15.8,18.9,16.78,16.78,19.01,19.3,17.9,22.7,26.2,19.12,22.7,22.95,11.4,19.6,14.42,12.55,15.26,20.5,15.1,19.3,18.7,13.7,13.2,14.74,20.45,12.5,22.32,13.0,15.04,18.19,15.4,17.5,16.1,13.22,17.45,20.54,20.85,16.02,24.7,21.9,22.7,32.26,20.34,12.05,25.83,12.99,28.4,25.17,13.1,0.0,18.88,19.67,14.69,18.69,15.6,18.6,15.73,17.0,16.1,20.0,12.55,15.8,12.99,13.0,25.8,14.28,22.3,16.0,21.1,14.74,17.0,14.94,18.9,16.02,20.5,12.8,13.7,20.14,0.0,22.32,17.0,18.6,17.3,13.5,14.0,12.4,18.5,21.4,17.6,16.47,11.74,23.59,15.3,23.84,19.87,18.25,13.93,22.9,13.7,16.3,17.0,19.87,16.36,26.2,17.24,17.57,18.5,17.68,16.09,23.1,15.3,24.3,8.7,19.3,17.85,19.16,18.5,0.0,12.8,25.8,28.4,24.4,14.0,18.9,25.44],\"xaxis\":\"x\",\"yaxis\":\"y\",\"type\":\"histogram\"}],                        {\"template\":{\"data\":{\"histogram2dcontour\":[{\"type\":\"histogram2dcontour\",\"colorbar\":{\"outlinewidth\":0,\"ticks\":\"\"},\"colorscale\":[[0.0,\"#0d0887\"],[0.1111111111111111,\"#46039f\"],[0.2222222222222222,\"#7201a8\"],[0.3333333333333333,\"#9c179e\"],[0.4444444444444444,\"#bd3786\"],[0.5555555555555556,\"#d8576b\"],[0.6666666666666666,\"#ed7953\"],[0.7777777777777778,\"#fb9f3a\"],[0.8888888888888888,\"#fdca26\"],[1.0,\"#f0f921\"]]}],\"choropleth\":[{\"type\":\"choropleth\",\"colorbar\":{\"outlinewidth\":0,\"ticks\":\"\"}}],\"histogram2d\":[{\"type\":\"histogram2d\",\"colorbar\":{\"outlinewidth\":0,\"ticks\":\"\"},\"colorscale\":[[0.0,\"#0d0887\"],[0.1111111111111111,\"#46039f\"],[0.2222222222222222,\"#7201a8\"],[0.3333333333333333,\"#9c179e\"],[0.4444444444444444,\"#bd3786\"],[0.5555555555555556,\"#d8576b\"],[0.6666666666666666,\"#ed7953\"],[0.7777777777777778,\"#fb9f3a\"],[0.8888888888888888,\"#fdca26\"],[1.0,\"#f0f921\"]]}],\"heatmap\":[{\"type\":\"heatmap\",\"colorbar\":{\"outlinewidth\":0,\"ticks\":\"\"},\"colorscale\":[[0.0,\"#0d0887\"],[0.1111111111111111,\"#46039f\"],[0.2222222222222222,\"#7201a8\"],[0.3333333333333333,\"#9c179e\"],[0.4444444444444444,\"#bd3786\"],[0.5555555555555556,\"#d8576b\"],[0.6666666666666666,\"#ed7953\"],[0.7777777777777778,\"#fb9f3a\"],[0.8888888888888888,\"#fdca26\"],[1.0,\"#f0f921\"]]}],\"heatmapgl\":[{\"type\":\"heatmapgl\",\"colorbar\":{\"outlinewidth\":0,\"ticks\":\"\"},\"colorscale\":[[0.0,\"#0d0887\"],[0.1111111111111111,\"#46039f\"],[0.2222222222222222,\"#7201a8\"],[0.3333333333333333,\"#9c179e\"],[0.4444444444444444,\"#bd3786\"],[0.5555555555555556,\"#d8576b\"],[0.6666666666666666,\"#ed7953\"],[0.7777777777777778,\"#fb9f3a\"],[0.8888888888888888,\"#fdca26\"],[1.0,\"#f0f921\"]]}],\"contourcarpet\":[{\"type\":\"contourcarpet\",\"colorbar\":{\"outlinewidth\":0,\"ticks\":\"\"}}],\"contour\":[{\"type\":\"contour\",\"colorbar\":{\"outlinewidth\":0,\"ticks\":\"\"},\"colorscale\":[[0.0,\"#0d0887\"],[0.1111111111111111,\"#46039f\"],[0.2222222222222222,\"#7201a8\"],[0.3333333333333333,\"#9c179e\"],[0.4444444444444444,\"#bd3786\"],[0.5555555555555556,\"#d8576b\"],[0.6666666666666666,\"#ed7953\"],[0.7777777777777778,\"#fb9f3a\"],[0.8888888888888888,\"#fdca26\"],[1.0,\"#f0f921\"]]}],\"surface\":[{\"type\":\"surface\",\"colorbar\":{\"outlinewidth\":0,\"ticks\":\"\"},\"colorscale\":[[0.0,\"#0d0887\"],[0.1111111111111111,\"#46039f\"],[0.2222222222222222,\"#7201a8\"],[0.3333333333333333,\"#9c179e\"],[0.4444444444444444,\"#bd3786\"],[0.5555555555555556,\"#d8576b\"],[0.6666666666666666,\"#ed7953\"],[0.7777777777777778,\"#fb9f3a\"],[0.8888888888888888,\"#fdca26\"],[1.0,\"#f0f921\"]]}],\"mesh3d\":[{\"type\":\"mesh3d\",\"colorbar\":{\"outlinewidth\":0,\"ticks\":\"\"}}],\"scatter\":[{\"fillpattern\":{\"fillmode\":\"overlay\",\"size\":10,\"solidity\":0.2},\"type\":\"scatter\"}],\"parcoords\":[{\"type\":\"parcoords\",\"line\":{\"colorbar\":{\"outlinewidth\":0,\"ticks\":\"\"}}}],\"scatterpolargl\":[{\"type\":\"scatterpolargl\",\"marker\":{\"colorbar\":{\"outlinewidth\":0,\"ticks\":\"\"}}}],\"bar\":[{\"error_x\":{\"color\":\"#2a3f5f\"},\"error_y\":{\"color\":\"#2a3f5f\"},\"marker\":{\"line\":{\"color\":\"#E5ECF6\",\"width\":0.5},\"pattern\":{\"fillmode\":\"overlay\",\"size\":10,\"solidity\":0.2}},\"type\":\"bar\"}],\"scattergeo\":[{\"type\":\"scattergeo\",\"marker\":{\"colorbar\":{\"outlinewidth\":0,\"ticks\":\"\"}}}],\"scatterpolar\":[{\"type\":\"scatterpolar\",\"marker\":{\"colorbar\":{\"outlinewidth\":0,\"ticks\":\"\"}}}],\"histogram\":[{\"marker\":{\"pattern\":{\"fillmode\":\"overlay\",\"size\":10,\"solidity\":0.2}},\"type\":\"histogram\"}],\"scattergl\":[{\"type\":\"scattergl\",\"marker\":{\"colorbar\":{\"outlinewidth\":0,\"ticks\":\"\"}}}],\"scatter3d\":[{\"type\":\"scatter3d\",\"line\":{\"colorbar\":{\"outlinewidth\":0,\"ticks\":\"\"}},\"marker\":{\"colorbar\":{\"outlinewidth\":0,\"ticks\":\"\"}}}],\"scattermapbox\":[{\"type\":\"scattermapbox\",\"marker\":{\"colorbar\":{\"outlinewidth\":0,\"ticks\":\"\"}}}],\"scatterternary\":[{\"type\":\"scatterternary\",\"marker\":{\"colorbar\":{\"outlinewidth\":0,\"ticks\":\"\"}}}],\"scattercarpet\":[{\"type\":\"scattercarpet\",\"marker\":{\"colorbar\":{\"outlinewidth\":0,\"ticks\":\"\"}}}],\"carpet\":[{\"aaxis\":{\"endlinecolor\":\"#2a3f5f\",\"gridcolor\":\"white\",\"linecolor\":\"white\",\"minorgridcolor\":\"white\",\"startlinecolor\":\"#2a3f5f\"},\"baxis\":{\"endlinecolor\":\"#2a3f5f\",\"gridcolor\":\"white\",\"linecolor\":\"white\",\"minorgridcolor\":\"white\",\"startlinecolor\":\"#2a3f5f\"},\"type\":\"carpet\"}],\"table\":[{\"cells\":{\"fill\":{\"color\":\"#EBF0F8\"},\"line\":{\"color\":\"white\"}},\"header\":{\"fill\":{\"color\":\"#C8D4E3\"},\"line\":{\"color\":\"white\"}},\"type\":\"table\"}],\"barpolar\":[{\"marker\":{\"line\":{\"color\":\"#E5ECF6\",\"width\":0.5},\"pattern\":{\"fillmode\":\"overlay\",\"size\":10,\"solidity\":0.2}},\"type\":\"barpolar\"}],\"pie\":[{\"automargin\":true,\"type\":\"pie\"}]},\"layout\":{\"autotypenumbers\":\"strict\",\"colorway\":[\"#636efa\",\"#EF553B\",\"#00cc96\",\"#ab63fa\",\"#FFA15A\",\"#19d3f3\",\"#FF6692\",\"#B6E880\",\"#FF97FF\",\"#FECB52\"],\"font\":{\"color\":\"#2a3f5f\"},\"hovermode\":\"closest\",\"hoverlabel\":{\"align\":\"left\"},\"paper_bgcolor\":\"white\",\"plot_bgcolor\":\"#E5ECF6\",\"polar\":{\"bgcolor\":\"#E5ECF6\",\"angularaxis\":{\"gridcolor\":\"white\",\"linecolor\":\"white\",\"ticks\":\"\"},\"radialaxis\":{\"gridcolor\":\"white\",\"linecolor\":\"white\",\"ticks\":\"\"}},\"ternary\":{\"bgcolor\":\"#E5ECF6\",\"aaxis\":{\"gridcolor\":\"white\",\"linecolor\":\"white\",\"ticks\":\"\"},\"baxis\":{\"gridcolor\":\"white\",\"linecolor\":\"white\",\"ticks\":\"\"},\"caxis\":{\"gridcolor\":\"white\",\"linecolor\":\"white\",\"ticks\":\"\"}},\"coloraxis\":{\"colorbar\":{\"outlinewidth\":0,\"ticks\":\"\"}},\"colorscale\":{\"sequential\":[[0.0,\"#0d0887\"],[0.1111111111111111,\"#46039f\"],[0.2222222222222222,\"#7201a8\"],[0.3333333333333333,\"#9c179e\"],[0.4444444444444444,\"#bd3786\"],[0.5555555555555556,\"#d8576b\"],[0.6666666666666666,\"#ed7953\"],[0.7777777777777778,\"#fb9f3a\"],[0.8888888888888888,\"#fdca26\"],[1.0,\"#f0f921\"]],\"sequentialminus\":[[0.0,\"#0d0887\"],[0.1111111111111111,\"#46039f\"],[0.2222222222222222,\"#7201a8\"],[0.3333333333333333,\"#9c179e\"],[0.4444444444444444,\"#bd3786\"],[0.5555555555555556,\"#d8576b\"],[0.6666666666666666,\"#ed7953\"],[0.7777777777777778,\"#fb9f3a\"],[0.8888888888888888,\"#fdca26\"],[1.0,\"#f0f921\"]],\"diverging\":[[0,\"#8e0152\"],[0.1,\"#c51b7d\"],[0.2,\"#de77ae\"],[0.3,\"#f1b6da\"],[0.4,\"#fde0ef\"],[0.5,\"#f7f7f7\"],[0.6,\"#e6f5d0\"],[0.7,\"#b8e186\"],[0.8,\"#7fbc41\"],[0.9,\"#4d9221\"],[1,\"#276419\"]]},\"xaxis\":{\"gridcolor\":\"white\",\"linecolor\":\"white\",\"ticks\":\"\",\"title\":{\"standoff\":15},\"zerolinecolor\":\"white\",\"automargin\":true,\"zerolinewidth\":2},\"yaxis\":{\"gridcolor\":\"white\",\"linecolor\":\"white\",\"ticks\":\"\",\"title\":{\"standoff\":15},\"zerolinecolor\":\"white\",\"automargin\":true,\"zerolinewidth\":2},\"scene\":{\"xaxis\":{\"backgroundcolor\":\"#E5ECF6\",\"gridcolor\":\"white\",\"linecolor\":\"white\",\"showbackground\":true,\"ticks\":\"\",\"zerolinecolor\":\"white\",\"gridwidth\":2},\"yaxis\":{\"backgroundcolor\":\"#E5ECF6\",\"gridcolor\":\"white\",\"linecolor\":\"white\",\"showbackground\":true,\"ticks\":\"\",\"zerolinecolor\":\"white\",\"gridwidth\":2},\"zaxis\":{\"backgroundcolor\":\"#E5ECF6\",\"gridcolor\":\"white\",\"linecolor\":\"white\",\"showbackground\":true,\"ticks\":\"\",\"zerolinecolor\":\"white\",\"gridwidth\":2}},\"shapedefaults\":{\"line\":{\"color\":\"#2a3f5f\"}},\"annotationdefaults\":{\"arrowcolor\":\"#2a3f5f\",\"arrowhead\":0,\"arrowwidth\":1},\"geo\":{\"bgcolor\":\"white\",\"landcolor\":\"#E5ECF6\",\"subunitcolor\":\"white\",\"showland\":true,\"showlakes\":true,\"lakecolor\":\"white\"},\"title\":{\"x\":0.05},\"mapbox\":{\"style\":\"light\"}}},\"xaxis\":{\"anchor\":\"y\",\"domain\":[0.0,1.0],\"title\":{\"text\":\"Mileage\"}},\"yaxis\":{\"anchor\":\"x\",\"domain\":[0.0,1.0],\"title\":{\"text\":\"count\"}},\"legend\":{\"tracegroupgap\":0},\"margin\":{\"t\":60},\"barmode\":\"relative\"},                        {\"responsive\": true}                    ).then(function(){\n",
              "                            \n",
              "var gd = document.getElementById('1de87568-9731-4e4b-ae04-9364b551d14e');\n",
              "var x = new MutationObserver(function (mutations, observer) {{\n",
              "        var display = window.getComputedStyle(gd).display;\n",
              "        if (!display || display === 'none') {{\n",
              "            console.log([gd, 'removed!']);\n",
              "            Plotly.purge(gd);\n",
              "            observer.disconnect();\n",
              "        }}\n",
              "}});\n",
              "\n",
              "// Listen for the removal of the full notebook cells\n",
              "var notebookContainer = gd.closest('#notebook-container');\n",
              "if (notebookContainer) {{\n",
              "    x.observe(notebookContainer, {childList: true});\n",
              "}}\n",
              "\n",
              "// Listen for the clearing of the current output cell\n",
              "var outputEl = gd.closest('.output');\n",
              "if (outputEl) {{\n",
              "    x.observe(outputEl, {childList: true});\n",
              "}}\n",
              "\n",
              "                        })                };                            </script>        </div>\n",
              "</body>\n",
              "</html>"
            ]
          },
          "metadata": {}
        },
        {
          "output_type": "display_data",
          "data": {
            "text/html": [
              "<html>\n",
              "<head><meta charset=\"utf-8\" /></head>\n",
              "<body>\n",
              "    <div>            <script src=\"https://cdnjs.cloudflare.com/ajax/libs/mathjax/2.7.5/MathJax.js?config=TeX-AMS-MML_SVG\"></script><script type=\"text/javascript\">if (window.MathJax && window.MathJax.Hub && window.MathJax.Hub.Config) {window.MathJax.Hub.Config({SVG: {font: \"STIX-Web\"}});}</script>                <script type=\"text/javascript\">window.PlotlyConfig = {MathJaxConfig: 'local'};</script>\n",
              "        <script charset=\"utf-8\" src=\"https://cdn.plot.ly/plotly-2.24.1.min.js\"></script>                <div id=\"7d564c4c-ed85-4f20-bc07-d5183700204c\" class=\"plotly-graph-div\" style=\"height:525px; width:100%;\"></div>            <script type=\"text/javascript\">                                    window.PLOTLYENV=window.PLOTLYENV || {};                                    if (document.getElementById(\"7d564c4c-ed85-4f20-bc07-d5183700204c\")) {                    Plotly.newPlot(                        \"7d564c4c-ed85-4f20-bc07-d5183700204c\",                        [{\"alignmentgroup\":\"True\",\"bingroup\":\"x\",\"hovertemplate\":\"Engine=%{x}\\u003cbr\\u003ecount=%{y}\\u003cextra\\u003e\\u003c\\u002fextra\\u003e\",\"legendgroup\":\"\",\"marker\":{\"color\":\"#636efa\",\"pattern\":{\"shape\":\"\"}},\"name\":\"\",\"offsetgroup\":\"\",\"orientation\":\"v\",\"showlegend\":false,\"x\":[998.0,1582.0,1199.0,1248.0,1968.0,814.0,1461.0,2755.0,1598.0,1248.0,1462.0,1497.0,1248.0,2179.0,2179.0,2477.0,1498.0,1248.0,1461.0,2143.0,1995.0,1248.0,1984.0,1197.0,1598.0,1497.0,1461.0,998.0,1199.0,2494.0,1461.0,1798.0,2696.0,2698.0,1598.0,1061.0,1248.0,1198.0,2987.0,1199.0,796.0,624.0,1198.0,1197.0,1999.0,1798.0,1991.0,2694.0,1120.0,2498.0,1968.0,1248.0,1248.0,1248.0,1197.0,1598.0,799.0,1197.0,1995.0,998.0,2393.0,1399.0,1796.0,2148.0,1396.0,1968.0,1497.0,1950.0,1248.0,1396.0,4806.0,2179.0,1197.0,1461.0,1198.0,1968.0,1399.0,1998.0,2494.0,1086.0,1248.0,1193.0,1198.0,1399.0,1248.0,1497.0,1995.0,1197.0,1197.0,1086.0,1198.0,2982.0,1968.0,1498.0,2179.0,1498.0,1199.0,1493.0,998.0,1598.0,1396.0,1197.0,1198.0,2967.0,1197.0,796.0,1197.0,2993.0,2179.0,1582.0,2755.0,1196.0,624.0,1995.0,1799.0,2494.0,1984.0,1198.0,2497.0,1248.0,1086.0,2143.0,1582.0,998.0,624.0,2179.0,1796.0,998.0,2354.0,1498.0,1373.0,2179.0,1197.0,998.0,2996.0,1591.0,796.0,1995.0,1199.0,1799.0,2143.0,1498.0,1197.0,1086.0,2982.0,1199.0,1498.0,1373.0,2894.0,1995.0,1968.0,1248.0,5461.0,1498.0,1968.0,814.0,1199.0,1198.0,1198.0,1595.0,1498.0,2494.0,1197.0,2179.0,1498.0,2982.0,1498.0,1399.0,2993.0,2143.0,1198.0,1197.0,2143.0,1197.0,1968.0,1598.0,1998.0,1396.0,1968.0,936.0,1798.0,1399.0,1995.0,1598.0,1199.0,1461.0,2143.0,1197.0,1582.0,1086.0,1997.0,2179.0,1399.0,1248.0,null,1498.0,1197.0,1498.0,1896.0,1461.0,1493.0,1248.0,1197.0,1390.0,1193.0,1968.0,1798.0,1364.0,null,1595.0,1498.0,1582.0,1461.0,1591.0,998.0,1796.0,2967.0,1086.0,1598.0,1798.0,1197.0,1498.0,998.0,1461.0,2143.0,998.0,1461.0,1248.0,1998.0,1498.0,1396.0,1199.0,1199.0,1248.0,1399.0,2755.0,2199.0,1497.0,1197.0,2143.0,936.0,1396.0,2494.0,1248.0,2494.0,1086.0,1497.0,1995.0,1120.0,1248.0,1598.0,1493.0,1498.0,1199.0,1086.0,1995.0,2393.0,796.0,1197.0,1197.0,1248.0,1582.0,1086.0,1197.0,2987.0,2148.0,1248.0,1582.0,998.0,1461.0,1248.0,2993.0,1197.0,2494.0,993.0,1248.0,2179.0,1248.0,999.0,1248.0,796.0,1497.0,2967.0,1896.0,1591.0,1497.0,1396.0,1396.0,1598.0,1497.0,1248.0,1995.0,1061.0,1199.0,1896.0,1197.0,2143.0,1197.0,2393.0,1968.0,2494.0,1198.0,998.0,1497.0,1405.0,1968.0,2143.0,1086.0,1248.0,998.0,2143.0,2179.0,1598.0,796.0,1198.0,2956.0,1248.0,998.0,2179.0,1396.0,1373.0,2354.0,1248.0,1399.0,1497.0,1968.0,2993.0,2967.0,998.0,1396.0,1197.0,1199.0,1248.0,1197.0,1198.0,796.0,1794.0,796.0,1248.0,796.0,1968.0,1794.0,1197.0,1248.0,1497.0,1248.0,1498.0,814.0,1995.0,1582.0,1248.0,1984.0,998.0,1498.0,995.0,1999.0,1997.0,1798.0,1197.0,1248.0,1197.0,1461.0,1248.0,1399.0,993.0,1998.0,1364.0,796.0,796.0,2993.0,2496.0,1197.0,1248.0,2967.0,2143.0,796.0,1461.0,1364.0,2148.0,1248.0,1497.0,1120.0,2143.0,1595.0,2143.0,1497.0,1086.0,1497.0,1599.0,1999.0,1198.0,1598.0,2987.0,814.0,998.0,1248.0,1995.0,2179.0,1968.0,2179.0,2987.0,2477.0,796.0,1061.0,2179.0,1591.0,2993.0,2993.0,1798.0,1968.0,2179.0,2143.0,2179.0,1995.0,1497.0,2400.0,1495.0,1197.0,2996.0,814.0,1197.0,1493.0,1198.0,1798.0,1968.0,1591.0,1796.0,1998.0,1086.0,1364.0,1198.0,1197.0,1968.0,814.0,1461.0,2993.0,796.0,1984.0,998.0,1497.0,1196.0,1399.0,2523.0,1086.0,814.0,1591.0,1598.0,1799.0,1248.0,2179.0,1197.0,1968.0,1197.0,1999.0,2494.0,793.0,1248.0,1968.0,1995.0,4134.0,1197.0,1461.0,1120.0,1498.0,1198.0,1120.0,1248.0,1497.0,1086.0,2494.0,1248.0,2982.0,1596.0,1950.0,2148.0,1968.0,1197.0,1196.0,1395.0,1461.0,1999.0,1399.0,2953.0,2982.0,1199.0,1248.0,1461.0,1582.0,2497.0,2987.0,2354.0,1582.0,1086.0,2143.0,1373.0,1896.0,1198.0,993.0,1586.0,1198.0,998.0,2362.0,1199.0,2982.0,1498.0,1248.0,2987.0,1497.0,1197.0,2179.0,1598.0,1086.0,1591.0,1997.0,1598.0,1461.0,2993.0,1496.0,998.0,1591.0,998.0,2179.0,1199.0,624.0,1968.0,2987.0,1197.0,1368.0,1197.0,2982.0,1373.0,1995.0,1373.0,1497.0,2199.0,1405.0,2497.0,1248.0,1399.0,1497.0,2982.0,1198.0,1396.0,1248.0,1950.0,1586.0,2494.0,1995.0,1461.0,1995.0,1497.0,1248.0,1298.0,2179.0,1799.0,1248.0,1364.0,1984.0,1498.0,1498.0,1896.0,1461.0,2755.0,1995.0,1498.0,1498.0,2179.0,1248.0,1956.0,1794.0,1497.0,1197.0,1582.0,2523.0,1248.0,1086.0,1968.0,1299.0,1498.0,2523.0,1498.0,1199.0,1197.0,1995.0,1995.0,2982.0,4134.0,1248.0,1197.0,3498.0,1461.0,1493.0,2982.0,2993.0,1248.0,1248.0,1984.0,2835.0,2179.0,2755.0,1968.0,1798.0,796.0,2143.0,1498.0,2179.0,1461.0,1582.0,2993.0,2179.0,1582.0,2967.0,1150.0,2523.0,1197.0,2393.0,814.0,1199.0,1248.0,1995.0,814.0,1497.0,2354.0,2498.0,1995.0,1497.0,2179.0,1396.0,2982.0,2523.0,1298.0,1086.0,1496.0,1968.0,1197.0,2179.0,1498.0,1968.0,1197.0,1197.0,1995.0,1299.0,1197.0,1582.0,1995.0,1796.0,1199.0,1086.0,1405.0,2179.0,1248.0,2143.0,1497.0,2982.0,998.0,1999.0,1396.0,1497.0,1794.0,1968.0,2494.0,1120.0,1598.0,2494.0,1493.0,1248.0,2967.0,1197.0,1248.0,1497.0,1373.0,1498.0,1199.0,1248.0,1248.0,2143.0,1198.0,1086.0,1582.0,1248.0,1299.0,1199.0,1199.0,1498.0,1396.0,1248.0,1497.0,1798.0,1248.0,1197.0,998.0,814.0,1197.0,3498.0,1968.0,1498.0,1968.0,2393.0,1399.0,1399.0,1197.0,2179.0,1197.0,3198.0,1968.0,1591.0,2143.0,2987.0,1298.0,1343.0,1461.0,2143.0,2993.0,1197.0,1197.0,1995.0,796.0,1968.0,1598.0,2967.0,936.0,998.0,1461.0,1995.0,1197.0,1968.0,1499.0,1197.0,1248.0,1599.0,1995.0,1186.0,1497.0,null,1248.0,1248.0,2179.0,1495.0,1248.0,1248.0,624.0,1248.0,998.0,1248.0,1598.0,1896.0,1496.0,1396.0,1086.0,null,1497.0,2179.0,2143.0,1991.0,2179.0,1796.0,1199.0,1496.0,796.0,1197.0,998.0,624.0,1498.0,1368.0,1196.0,1590.0,1995.0,1998.0,2609.0,1396.0,1991.0,2494.0,2143.0,1197.0,2494.0,2982.0,1197.0,1582.0,1968.0,1199.0,1399.0,1399.0,998.0,2143.0,1591.0,998.0,2148.0,1499.0,1995.0,2179.0,796.0,998.0,2499.0,1582.0,1197.0,1373.0,2179.0,1248.0,3498.0,1199.0,2982.0,2179.0,2143.0,1199.0,1248.0,1591.0,3198.0,1197.0,1497.0,1498.0,1591.0,1498.0,1248.0,998.0,2446.0,1197.0,1896.0,1197.0,2993.0,1995.0,1399.0,2143.0,1968.0,998.0,799.0,1498.0,1199.0,796.0,1197.0,1197.0,1197.0,1396.0,998.0,1396.0,1197.0,1399.0,1197.0,1120.0,2179.0,796.0,1086.0,1968.0,2993.0,998.0,1598.0,1995.0,1248.0,1399.0,1198.0,2967.0,2393.0,1582.0,1086.0,1968.0,1968.0,1896.0,1997.0,1582.0,1498.0,1197.0,2494.0,1197.0,2523.0,1498.0,2179.0,993.0,2987.0,2982.0,1197.0,1186.0,1591.0,1197.0,1198.0,2982.0,1968.0,2755.0,1498.0,1498.0,999.0,1248.0,998.0,2179.0,1197.0,1086.0,1197.0,1995.0,1984.0,1991.0,1461.0,998.0,1248.0,1498.0,1248.0,1495.0,2609.0,2143.0,2982.0,799.0,1497.0,2494.0,1498.0,1968.0,1968.0,1248.0,2143.0,1248.0,1461.0,1248.0,1197.0,1248.0,814.0,993.0,1196.0,1968.0,1968.0,799.0,1248.0,1978.0,2993.0,1497.0,1396.0,1197.0,998.0,2982.0,2360.0,1896.0,3436.0,1582.0,1198.0,1498.0,1061.0,1373.0,1991.0,1198.0,1364.0,1461.0,998.0,1198.0,1582.0,2993.0,1956.0,1999.0,1248.0,1248.0,1586.0,1582.0,2477.0,1198.0,1197.0,1493.0,1248.0,1198.0,2393.0,1197.0,1498.0,1197.0,1396.0,2143.0,1197.0,1197.0,796.0,1199.0,1950.0,1798.0,1968.0,2494.0,2143.0,1086.0,1298.0,1498.0,1248.0,1599.0,1198.0,998.0,1199.0,2198.0,1197.0,936.0,1799.0,998.0,1598.0,1590.0,1498.0,1495.0,1995.0,998.0,1968.0,1061.0,1794.0,2400.0,1498.0,1248.0,1197.0,2143.0,1061.0,1595.0,1086.0,1248.0,1197.0,1498.0,998.0,799.0,1591.0,1061.0,1995.0,1995.0,1396.0,1396.0,796.0,1248.0,1498.0,1198.0,2393.0,2179.0,1197.0,1582.0,2179.0,1498.0,1248.0,1368.0,1248.0,1199.0,1497.0,1396.0,1497.0,936.0,995.0,2179.0,2987.0,2993.0,2755.0,1995.0,1461.0,1120.0,1995.0,2497.0,1198.0,2179.0,4367.0,1368.0,2354.0,1197.0,1120.0,1461.0,1968.0,1197.0,2494.0,1197.0,1498.0,1497.0,1497.0,1199.0,2143.0,1498.0,1396.0,1248.0,1248.0,1461.0,998.0,1086.0,936.0,1997.0,1086.0,2179.0,1197.0,2755.0,1896.0,1197.0,1364.0,1248.0,1396.0,1498.0,1248.0,1248.0,1497.0,796.0,3198.0,1248.0,2706.0,1248.0,1193.0,1197.0,1422.0,1364.0,1198.0,1591.0,1197.0,1199.0,2993.0,1598.0,1968.0,1197.0,998.0,4134.0,1248.0,814.0,1497.0,1582.0,998.0,1197.0,1497.0,2494.0,1493.0,2179.0,2967.0,998.0,1995.0,1198.0,796.0,1591.0,1199.0,1197.0,814.0,1950.0,1396.0,1364.0,1364.0,1496.0,1498.0,1798.0,2148.0,1248.0,1497.0,2979.0,1197.0,1248.0,1498.0,796.0,1968.0,1248.0,1120.0,1248.0,2143.0,1248.0,2497.0,998.0,1598.0,1995.0,2993.0,1197.0,2755.0,1461.0,1248.0,1248.0,1796.0,2179.0,2523.0,1248.0,1248.0,1199.0,1798.0,2993.0,998.0,1086.0,1798.0,1197.0,1198.0,1197.0,1248.0,1197.0,1197.0,1199.0,1248.0,1193.0,1598.0,1298.0,1197.0,1197.0,998.0,2143.0,1298.0,1598.0,1248.0,1798.0,1799.0,1499.0,1248.0,1086.0,2400.0,1197.0,1498.0,2494.0,799.0,998.0,1595.0,998.0,1248.0,1591.0,1582.0,1497.0,1086.0,1364.0,1969.0,1399.0,2987.0,1995.0,796.0,2393.0,999.0,1598.0,2477.0,1799.0,796.0,1598.0,2179.0,1997.0,1248.0,2494.0,1368.0,2967.0,1591.0,1498.0,1497.0,1399.0,1199.0,1198.0,1497.0,1497.0,998.0,2354.0,1995.0,1489.0,2179.0,1598.0,993.0,796.0,1798.0,1997.0,1299.0,1199.0,1364.0,2179.0,1120.0,2143.0,1197.0,1798.0,1798.0,1968.0,1396.0,2143.0,1248.0,1582.0,1999.0,2489.0,2494.0,2494.0,2967.0,1248.0,1248.0,1197.0,1197.0,1197.0,1197.0,1495.0,1198.0,1248.0,1197.0,2179.0,2143.0,2179.0,2143.0,1396.0,1968.0,1497.0,2982.0,1968.0,998.0,1396.0,1968.0,796.0,1497.0,999.0,2755.0,1197.0,1196.0,1198.0,1061.0,1497.0,1799.0,1493.0,1197.0,1120.0,1598.0,1197.0,1197.0,1199.0,1199.0,1196.0,1984.0,1498.0,1399.0,2494.0,1373.0,1197.0,null,999.0,1798.0,1248.0,1298.0,2993.0,2494.0,1248.0,1968.0,1995.0,1197.0,1995.0,1496.0,1405.0,2987.0,1984.0,1598.0,1120.0,1248.0,1396.0,1995.0,1497.0,1968.0,1248.0,1343.0,1242.0,1995.0,1388.0,624.0,1196.0,1197.0,1298.0,1498.0,null,1197.0,1197.0,2179.0,1396.0,998.0,1396.0,2993.0,1598.0,2967.0,1497.0,1197.0,1498.0,1198.0,1248.0,1248.0,2354.0,1794.0,1590.0,1497.0,2179.0,1798.0,1995.0,1586.0,1373.0,4367.0,2494.0,1086.0,2199.0,1796.0,998.0,796.0,796.0,1498.0,796.0,998.0,1197.0,1498.0,1248.0,1991.0,1497.0,1197.0,1582.0,1198.0,1582.0,1591.0,998.0,2354.0,1497.0,1248.0,1498.0,1396.0,2987.0,1461.0,1461.0,998.0,1493.0,1197.0,null,1995.0,1198.0,1248.0,1196.0,1995.0,1582.0,1461.0,1197.0,1995.0,1248.0,1086.0,2993.0,1497.0,2696.0,1498.0,796.0,1198.0,1199.0,1199.0,1248.0,1498.0,2755.0,2497.0,1248.0,999.0,1493.0,1193.0,2967.0,1248.0,1248.0,1368.0,1197.0,814.0,1086.0,2143.0,998.0,1199.0,1199.0,1995.0,1461.0,1499.0,2393.0,936.0,1798.0,3198.0,1582.0,1196.0,796.0,1498.0,2179.0,1399.0,1497.0,1197.0,2494.0,1461.0,2494.0,1497.0,998.0,1198.0,998.0,1796.0,1498.0,1591.0,1396.0,1298.0,2143.0,1197.0,1591.0,1998.0,1798.0,998.0,1461.0,624.0,1248.0,null,1968.0,1498.0,1599.0,1968.0,1248.0,2179.0,1248.0,1364.0,1396.0,796.0,1198.0,1999.0,2982.0,1197.0,1197.0,1998.0,2987.0,998.0,1197.0,1248.0,2494.0,2982.0,1995.0,1395.0,2982.0,1896.0,1396.0,1248.0,1598.0,1582.0,1197.0,1997.0,2179.0,1498.0,1193.0,2993.0,1798.0,998.0,2354.0,1197.0,2982.0,1796.0,1248.0,1248.0,2993.0,1598.0,1799.0,1995.0,1968.0,1248.0,1984.0,1298.0,2179.0,2354.0,2494.0,2982.0,1199.0,1497.0,1248.0,1461.0,2494.0,1198.0,1598.0,2179.0,1498.0,1968.0,1197.0,2494.0,1248.0,1248.0,1498.0,2393.0,1591.0,1497.0,1498.0,1598.0,2967.0,796.0,1248.0,1591.0,2987.0,2498.0,1582.0,1498.0,1496.0,796.0,1461.0,2143.0,1461.0,1248.0,1198.0,2179.0,1198.0,1197.0,1598.0,2494.0,1498.0,1198.0,1248.0,1197.0,1582.0,2967.0,796.0,1498.0,1968.0,1582.0,998.0,1999.0,1497.0,1991.0,998.0,1582.0,1373.0,1968.0,1995.0,1186.0,2143.0,2523.0,1197.0,1197.0,1968.0,1968.0,2967.0,2982.0,1061.0,814.0,1198.0,796.0,2523.0,1497.0,1598.0,1197.0,814.0,1197.0,1198.0,4134.0,1248.0,2179.0,1498.0,1497.0,1497.0,796.0,1498.0,1991.0,2179.0,1498.0,1197.0,998.0,1968.0,1373.0,2179.0,1150.0,1373.0,1396.0,1199.0,2179.0,1197.0,1582.0,1086.0,998.0,1199.0,1248.0,1086.0,1197.0,1499.0,2987.0,1248.0,796.0,1298.0,1591.0,1995.0,1299.0,1498.0,1373.0,1968.0,1498.0,1968.0,1120.0,2987.0,2494.0,1498.0,1968.0,1399.0,1498.0,1248.0,1198.0,1598.0,998.0,1364.0,1497.0,1197.0,1999.0,2179.0,1796.0,1798.0,1991.0,2179.0,1591.0,1396.0,1497.0,1197.0,1498.0,998.0,1198.0,1197.0,1598.0,1896.0,2143.0,1598.0,814.0,1197.0,1461.0,2967.0,1197.0,1198.0,1298.0,1197.0,2498.0,1798.0,998.0,1199.0,1197.0,2143.0,1591.0,1172.0,2494.0,1493.0,1498.0,1995.0,2987.0,2987.0,1197.0,1798.0,1197.0,1396.0,2179.0,1198.0,1197.0,2499.0,1493.0,2982.0,1995.0,2982.0,1199.0,1086.0,1197.0,1995.0,1968.0,1197.0,1197.0,1495.0,1197.0,624.0,1399.0,1968.0,1248.0,2489.0,998.0,1496.0,1197.0,2494.0,1405.0,1995.0,3198.0,1462.0,1498.0,1150.0,1497.0,1498.0,1197.0,1399.0,1248.0,1197.0,1248.0,1498.0,1248.0,1197.0,2953.0,1199.0,1493.0,2993.0,1461.0,998.0,1248.0,796.0,998.0,1196.0,1461.0,1061.0,1598.0,1799.0,2179.0,1461.0,999.0,2967.0,1248.0,1198.0,1197.0,1995.0,1248.0,1197.0,2996.0,1998.0,2987.0,1248.0,1796.0,1197.0,998.0,1248.0,1197.0,1197.0,1248.0,1199.0,1197.0,1198.0,1591.0,1497.0,1591.0,2179.0,998.0,2494.0,1248.0,998.0,1197.0,1498.0,1995.0,1196.0,1198.0,1498.0,1343.0,2179.0,2982.0,1197.0,1248.0,1248.0,1198.0,1197.0,1197.0,2143.0,998.0,624.0,1798.0,1197.0,1582.0,1248.0,814.0,1968.0,2494.0,2987.0,1120.0,2354.0,1498.0,1197.0,1582.0,1399.0,1197.0,1582.0,1197.0,1968.0,1298.0,1197.0,1198.0,1582.0,1956.0,1248.0,1798.0,2179.0,1995.0,1396.0,2987.0,1998.0,1197.0,1198.0,1461.0,1198.0,1197.0,1991.0,1086.0,1248.0,1498.0,1595.0,1197.0,1197.0,1248.0,1343.0,2494.0,1998.0,1368.0,1399.0,1086.0,1120.0,998.0,1197.0,1461.0,1995.0,1197.0,999.0,995.0,1497.0,1598.0,2982.0,1497.0,1995.0,1968.0,1248.0,1498.0,1498.0,1968.0,1598.0,2982.0,1991.0,1196.0,1373.0,1248.0,2494.0,1197.0,2755.0,1396.0,1197.0,1399.0,1248.0,1399.0,2354.0,1199.0,2987.0,1197.0,1197.0,1498.0,1497.0,1199.0,1248.0,1582.0,2967.0,814.0,1399.0,1198.0,1461.0,1199.0,1197.0,2967.0,2696.0,2755.0,1896.0,2148.0,1373.0,1248.0,2446.0,2495.0,2835.0,1794.0,998.0,796.0,1968.0,1197.0,1498.0,1796.0,1493.0,1968.0,1197.0,1248.0,2179.0,1199.0,1498.0,2993.0,1968.0,1995.0,1197.0,1582.0,1968.0,3498.0,1197.0,1498.0,1598.0,1248.0,1997.0,1396.0,796.0,1197.0,2179.0,1199.0,2993.0,1498.0,2148.0,2179.0,1497.0,1248.0,2143.0,1497.0,2956.0,1197.0,1248.0,1799.0,1582.0,1968.0,1591.0,1396.0,1498.0,1582.0,1596.0,1197.0,1248.0,2494.0,2143.0,796.0,2143.0,1248.0,1197.0,2982.0,1998.0,1498.0,1196.0,2982.0,1197.0,2979.0,1798.0,1061.0,1461.0,1373.0,1582.0,1498.0,2143.0,2354.0,998.0,2979.0,1995.0,1598.0,1248.0,2179.0,1396.0,1248.0,1956.0,1248.0,1196.0,1364.0,1248.0,1497.0,2179.0,1197.0,2148.0,1390.0,1896.0,2987.0,1995.0,1598.0,1968.0,1399.0,1582.0,2393.0,1197.0,1198.0,799.0,1497.0,1197.0,999.0,1248.0,1461.0,2179.0,1248.0,1968.0,1196.0,2199.0,2179.0,1461.0,1968.0,1196.0,2498.0,998.0,1061.0,1586.0,2393.0,2494.0,1199.0,1496.0,1498.0,1120.0,1497.0,2494.0,814.0,1197.0,1796.0,2523.0,1968.0,1197.0,1968.0,1399.0,1586.0,1197.0,1197.0,2179.0,2179.0,796.0,1461.0,2498.0,1197.0,2494.0,2993.0,1991.0,1461.0,998.0,1968.0,1956.0,1396.0,1198.0,1582.0,1086.0,1493.0,1298.0,1495.0,2179.0,998.0,1199.0,2698.0,1496.0,null,1193.0,1498.0,1199.0,1968.0,1498.0,1582.0,1497.0,1197.0,1995.0,1968.0,2354.0,1197.0,1248.0,1497.0,2993.0,998.0,1995.0,1399.0,2494.0,1248.0,2996.0,null,1950.0,1197.0,1497.0,4806.0,1493.0,1794.0,1198.0,2497.0,796.0,1968.0,1364.0,2179.0,2982.0,1193.0,2143.0,1582.0,1497.0,1968.0,993.0,796.0,1197.0,2179.0,1194.0,1197.0,2143.0,1497.0,1499.0,1197.0,1197.0,2494.0,1197.0,2967.0,2199.0,999.0,1497.0,1396.0,2523.0,2755.0,2497.0,1995.0,998.0,1248.0,1999.0,1248.0,1396.0,998.0,814.0,2953.0,2198.0,1598.0,1373.0,814.0,1968.0,2179.0,1248.0,1248.0,2143.0,1461.0,1197.0,2494.0,1591.0,1248.0,2179.0,1497.0,2179.0,1399.0,2497.0,1248.0,1968.0,1198.0,1497.0,1198.0,2179.0,1497.0,1598.0,2179.0,1896.0,1197.0,1498.0,1598.0,796.0,2993.0,1497.0,1461.0,796.0,2755.0,1396.0,1399.0,1248.0,1582.0,1999.0,1248.0,1984.0,2143.0,1461.0,1198.0,1984.0,1197.0,998.0,796.0,1248.0,1498.0,2494.0,998.0,2987.0,1197.0,1199.0,2179.0,1198.0,1197.0,2362.0,998.0,1995.0,998.0,2143.0,796.0,1197.0,1199.0,1396.0,2496.0,1364.0,2982.0,1598.0,1198.0,1198.0,1198.0,998.0,1364.0,2179.0,1197.0,1498.0,1373.0,1497.0,1497.0,998.0,1598.0,2755.0,1197.0,1248.0,1968.0,1598.0,1799.0,1199.0,1968.0,1197.0,2755.0,2143.0,1396.0,1197.0,1598.0,1197.0,1248.0,1497.0,1582.0,1498.0,796.0,1197.0,2987.0,796.0,1196.0,2393.0,1995.0,2199.0,1995.0,1399.0,1364.0,2179.0,null,796.0,2982.0,2446.0,1499.0,1197.0,1998.0,1591.0,1399.0,1498.0,1461.0,1498.0,2993.0,2755.0,1086.0,2696.0,998.0,1197.0,999.0,1248.0,1968.0,1198.0,1499.0,998.0,2967.0,1968.0,1248.0,1461.0,1462.0,624.0,1497.0,1196.0,1396.0,1499.0,1968.0,1995.0,2179.0,2179.0,1591.0,1497.0,1995.0,3436.0,2993.0,796.0,1197.0,1999.0,1248.0,2993.0,2499.0,1498.0,1497.0,1197.0,1968.0,1197.0,2179.0,2987.0,998.0,1598.0,624.0,1197.0,1498.0,null,1999.0,1248.0,2993.0,1498.0,1198.0,1598.0,2696.0,1461.0,2755.0,null,1794.0,1197.0,1396.0,1498.0,1582.0,2143.0,1498.0,999.0,1197.0,1248.0,2489.0,1498.0,2179.0,1199.0,1591.0,1197.0,1461.0,1197.0,1197.0,1991.0,2148.0,1991.0,1582.0,2489.0,1248.0,1197.0,2179.0,1197.0,1998.0,1794.0,1798.0,2393.0,1997.0,1061.0,1998.0,998.0,1248.0,1199.0,1197.0,998.0,998.0,998.0,1498.0,814.0,1598.0,1248.0,2143.0,1968.0,1248.0,1086.0,1120.0,1248.0,1197.0,2179.0,1798.0,1373.0,1582.0,1364.0,1497.0,2198.0,1396.0,1497.0,1197.0,1298.0,1199.0,2400.0,1197.0,2143.0,799.0,1196.0,2982.0,1497.0,2523.0,1995.0,1248.0,1796.0,1591.0,1186.0,1498.0,1198.0,2354.0,1086.0,2143.0,1198.0,2982.0,1591.0,2993.0,1995.0,1396.0,1399.0,1061.0,1197.0,2179.0,2143.0,1197.0,2982.0,2494.0,1399.0,1197.0,1197.0,1086.0,1193.0,1248.0,1497.0,1248.0,1197.0,814.0,1498.0,936.0,1995.0,2143.0,998.0,1197.0,1086.0,1405.0,1248.0,1186.0,1461.0,1591.0,2755.0,1197.0,1461.0,1198.0,1498.0,1598.0,1461.0,1968.0,2494.0,1193.0,2982.0,1995.0,1598.0,1497.0,1248.0,1995.0,1198.0,1197.0,1248.0,2143.0,1498.0,2494.0,2993.0,1496.0,936.0,2354.0,796.0,1968.0,2494.0,1968.0,1248.0,1197.0,1794.0,2179.0,1197.0,1591.0,796.0,796.0,2143.0,1086.0,1798.0,1498.0,1248.0,1799.0,1995.0,1086.0,1248.0,2354.0,1248.0,1388.0,2967.0,1968.0,1248.0,1493.0,1950.0,1995.0,1120.0,1197.0,1197.0,1086.0,2993.0,1586.0,1396.0,1248.0,1248.0,1968.0,1461.0,2179.0,1995.0,1061.0,1061.0,1197.0,1086.0,2993.0,1796.0,null,1461.0,2967.0,2143.0,1248.0,1248.0,1498.0,2967.0,998.0,1498.0,814.0,2987.0,null,1995.0,1995.0,1493.0,1197.0,2993.0,1199.0,1197.0,1248.0,1461.0,1198.0,1968.0,1896.0,1498.0,2494.0,814.0,799.0,1248.0,2835.0,2400.0,2982.0,1956.0,1248.0,1582.0,2179.0,1086.0,2494.0,2755.0,2494.0,1248.0,1582.0,2494.0,1598.0,2499.0,2696.0,1197.0,1197.0,1086.0,1198.0,998.0,1197.0,1248.0,1197.0,1995.0,1968.0,1461.0,3200.0,998.0,1799.0,1197.0,998.0,2967.0,1197.0,1199.0,1197.0,1086.0,1461.0,2179.0,1197.0,1248.0,814.0,2143.0,1998.0,624.0,1248.0,1582.0,814.0,1995.0,1198.0,1248.0,1995.0,1248.0,1248.0,1498.0,1998.0,1298.0,1396.0,1120.0,1248.0,1399.0,1461.0,null,1120.0,1198.0,1781.0,796.0,1599.0,1248.0,1598.0,1582.0,1498.0,1497.0,1341.0,1086.0,1197.0,1197.0,998.0,1197.0,1248.0,1197.0,1461.0,1248.0,2494.0,624.0,1196.0,1197.0,1497.0,1498.0,1582.0,1197.0,1968.0,1498.0,2993.0,1196.0,998.0,1086.0,1498.0,2967.0,1991.0,2773.0,1373.0,1498.0,1493.0,998.0,1197.0,1193.0,null,3198.0,2148.0,1197.0,1497.0,1968.0,1396.0,998.0,1582.0,998.0,998.0,1497.0,1197.0,3597.0,1396.0,998.0,1798.0,1399.0,1498.0,2143.0,2143.0,1985.0,2967.0,1582.0,1995.0,1582.0,998.0,1399.0,1198.0,1405.0,1493.0,1968.0,1197.0,998.0,1248.0,2609.0,1991.0,1086.0,2967.0,1248.0,1248.0,1199.0,2179.0,1998.0,814.0,2967.0,1197.0,1248.0,1498.0,998.0,1498.0,1496.0,1199.0,1498.0,1498.0,1497.0,1198.0,1598.0,1493.0,1396.0,1197.0,2354.0,1197.0,1248.0,1248.0,1197.0,1197.0,1399.0,1582.0,null,1399.0,1248.0,1799.0,796.0,1995.0,2179.0,1248.0,1248.0,1196.0,1197.0,1582.0,998.0,793.0,2199.0,814.0,1197.0,1591.0,1198.0,1197.0,2143.0,1248.0,1248.0,936.0,1798.0,2143.0,2393.0,1197.0,1498.0,1396.0,2987.0,2179.0,1341.0,1197.0,1991.0,1591.0,1497.0,1197.0,1198.0,1248.0,1497.0,2696.0,1798.0,null,796.0,1396.0,1499.0,1461.0,1198.0,2696.0,2993.0,1197.0,1197.0,2498.0,1461.0,1197.0,2835.0,1794.0,2993.0,2497.0,1582.0,1493.0,2179.0,799.0,999.0,1197.0,1896.0,796.0,1197.0,1396.0,1968.0,2987.0,1086.0,998.0,1497.0,1197.0,1498.0,1298.0,1298.0,2179.0,1248.0,1582.0,1493.0,1198.0,1197.0,1995.0,1968.0,1598.0,1197.0,1461.0,1995.0,1248.0,998.0,1248.0,2179.0,1248.0,1995.0,1248.0,1995.0,1396.0,2179.0,2967.0,1995.0,1591.0,2199.0,null,998.0,1061.0,1197.0,1798.0,1341.0,998.0,796.0,1197.0,999.0,2147.0,1197.0,2179.0,2755.0,936.0,2494.0,1197.0,999.0,1248.0,1197.0,1498.0,1968.0,1248.0,995.0,1995.0,814.0,1248.0,1498.0,1198.0,1598.0,998.0,1498.0,1198.0,1498.0,1968.0,1047.0,1498.0,1968.0,1461.0,1498.0,1498.0,1405.0,2143.0,2982.0,1497.0,1197.0,1598.0,2499.0,1497.0,1248.0,1396.0,2494.0,1497.0,1399.0,2967.0,1582.0,1968.0,2179.0,2999.0,1248.0,1373.0,814.0,2987.0,1995.0,1186.0,2993.0,1248.0,1086.0,2494.0,1197.0,2987.0,1399.0,1364.0,1197.0,1956.0,1197.0,2982.0,1598.0,2393.0,1399.0,1364.0,2523.0,2179.0,1995.0,1495.0,998.0,2179.0,2698.0,1461.0,1198.0,1461.0,2494.0,1198.0,2143.0,1197.0,2755.0,2148.0,1298.0,1248.0,1086.0,998.0,1498.0,1248.0,1498.0,2179.0,1461.0,2143.0,1248.0,1248.0,1197.0,1405.0,1498.0,1197.0,1248.0,1197.0,1198.0,1197.0,1956.0,1199.0,1198.0,1995.0,1995.0,1497.0,2696.0,1248.0,1248.0,1198.0,1197.0,1248.0,814.0,1197.0,1984.0,1498.0,1197.0,1396.0,1197.0,4806.0,1248.0,1198.0,1199.0,1591.0,1497.0,1197.0,1498.0,1995.0,1591.0,2494.0,998.0,1248.0,796.0,998.0,2993.0,1198.0,1197.0,1799.0,1197.0,2143.0,1496.0,1497.0,1248.0,1197.0,1591.0,1248.0,2982.0,1956.0,1197.0,998.0,2179.0,1248.0,1396.0,1248.0,998.0,2993.0,1198.0,2179.0,1598.0,1196.0,1498.0,1991.0,1968.0,2982.0,1582.0,2179.0,799.0,1197.0,1497.0,3198.0,1798.0,1995.0,1373.0,1248.0,1086.0,2982.0,1298.0,1199.0,1497.0,1995.0,2143.0,1248.0,1373.0,1591.0,2179.0,1086.0,2143.0,1197.0,1199.0,1248.0,1461.0,1248.0,2987.0,1186.0,1493.0,1591.0,1196.0,1248.0,1461.0,1198.0,1995.0,1598.0,999.0,2967.0,1248.0,1498.0,3498.0,2967.0,2179.0,1493.0,1586.0,1798.0,1598.0,814.0,1968.0,1248.0,1798.0,2494.0,1047.0,1598.0,3198.0,799.0,1396.0,1896.0,1364.0,2179.0,1968.0,1248.0,1995.0,1461.0,2354.0,1493.0,796.0,1497.0,2967.0,1388.0,1396.0,2143.0,998.0,1498.0,1197.0,1497.0,1461.0,1399.0,1198.0,1248.0,2354.0,1798.0,796.0,1396.0,1582.0,1248.0,1248.0,2494.0,1120.0,1248.0,3198.0,1396.0,998.0,1248.0,998.0,1497.0,1298.0,1995.0,1368.0,2179.0,1197.0,1197.0,1248.0,1196.0,998.0,1197.0,2489.0,2995.0,1248.0,1199.0,1591.0,1086.0,2143.0,993.0,1197.0,1498.0,2179.0,1198.0,1197.0,1390.0,1198.0,1197.0,2993.0,2179.0,2179.0,1598.0,1968.0,1461.0,1197.0,1198.0,796.0,1197.0,624.0,1395.0,1198.0,796.0,1496.0,1968.0,2198.0,1499.0,1197.0,1199.0,1197.0,1193.0,2143.0,1998.0,1248.0,1197.0,1248.0,1582.0,2993.0,1798.0,998.0,1198.0,1799.0,1196.0,998.0,1248.0,1591.0,1197.0,1461.0,1197.0,1598.0,2982.0,999.0,2755.0,2143.0,814.0,1582.0,1496.0,1461.0,3198.0,1798.0,2179.0,2993.0,1061.0,1497.0,1248.0,1497.0,1248.0,1461.0,1248.0,1248.0,2179.0,1198.0,2987.0,1248.0,2494.0,1197.0,1591.0,1497.0,1198.0,1497.0,2179.0,1497.0,2997.0,1299.0,2982.0,998.0,1948.0,1497.0,1461.0,1582.0,796.0,2179.0,1248.0,1396.0,1582.0,2143.0,2982.0,1984.0,2143.0,2354.0,1498.0,1248.0,1197.0,1798.0,4367.0,1248.0,1956.0,1197.0,1199.0,1364.0,1198.0,1799.0,1496.0,1591.0,2494.0,1598.0,1194.0,1197.0,1199.0,1582.0,1498.0,1968.0,1598.0,1968.0,1248.0,1248.0,2494.0,1461.0,2996.0,1498.0,2987.0,1248.0,1248.0,1086.0,null,1197.0,1498.0,2179.0,796.0,1496.0,2179.0,1086.0,1248.0,2143.0,799.0,1248.0,993.0,1197.0,1248.0,2179.0,1197.0,1968.0,1399.0,2143.0,1497.0,2494.0,1199.0,998.0,1199.0,1198.0,1373.0,2982.0,1498.0,1248.0,796.0,1198.0,1493.0,1493.0,1582.0,1364.0,2359.0,1582.0,1199.0,1598.0,2179.0,1493.0,2354.0,1248.0,2696.0,2982.0,1248.0,1582.0,1197.0,796.0,1198.0,1799.0,2143.0,1798.0,1248.0,1498.0,2987.0,1120.0,1598.0,936.0,1493.0,1197.0,1364.0,1794.0,1197.0,1196.0,1197.0,1396.0,1248.0,4395.0,1598.0,2982.0,998.0,1396.0,1598.0,1197.0,1396.0,2143.0,1197.0,1396.0,799.0,1197.0,1598.0,1998.0,1461.0,1582.0,998.0,998.0,1396.0,1781.0,1995.0,1598.0,1197.0,2835.0,1498.0,998.0,1248.0,1197.0,1196.0,1197.0,1586.0,1497.0,1461.0,1498.0,2494.0,1995.0,1086.0,1461.0,2360.0,1248.0,2987.0,1498.0,1582.0,1198.0,1461.0,1198.0,1196.0,1968.0,2993.0,1197.0,1197.0,1896.0,1493.0,1591.0,1341.0,1399.0,1968.0,1198.0,1995.0,1497.0,1396.0,1199.0,null,2354.0,2143.0,2179.0,2523.0,1498.0,2179.0,796.0,1496.0,1197.0,1197.0,1248.0,814.0,1995.0,1396.0,796.0,1199.0,1798.0,1086.0,1197.0,1461.0,1248.0,1198.0,1399.0,1997.0,1461.0,1197.0,1396.0,1196.0,2835.0,1968.0,1998.0,1150.0,1341.0,1498.0,1248.0,1498.0,1498.0,1197.0,2494.0,2143.0,1061.0,2198.0,1197.0,1199.0,1198.0,1997.0,1197.0,1197.0,2993.0,1498.0,998.0,1498.0,1405.0,1461.0,1197.0,1199.0,1248.0,2354.0,1198.0,1248.0,1199.0,1197.0,1461.0,1197.0,1995.0,1498.0,1498.0,2354.0,1399.0,1199.0,2489.0,1197.0,2179.0,1582.0,1798.0,1197.0,1197.0,1248.0,1598.0,1582.0,936.0,2982.0,1197.0,2967.0,2967.0,1497.0,1493.0,1968.0,2359.0,1582.0,998.0,1248.0,1120.0,1248.0,2179.0,1995.0,1798.0,1396.0,1198.0,796.0,1172.0,998.0,2835.0,1198.0,1396.0,1591.0,796.0,1198.0,1198.0,1497.0,2179.0,1086.0,2143.0,1461.0,1198.0,null,2987.0,null,2993.0,1248.0,1498.0,1995.0,1396.0,2982.0,1197.0,1199.0,1197.0,1196.0,2349.0,1298.0,1968.0,1497.0,1199.0,1498.0,1461.0,2179.0,1197.0,1497.0,2179.0,1956.0,2179.0,2179.0,1198.0,2179.0,1198.0,1498.0,1396.0,1186.0,796.0,1396.0,2393.0,1995.0,1968.0,1399.0,2696.0,1598.0,1598.0,1198.0,1248.0,1798.0,1248.0,1197.0,2143.0,1497.0,1198.0,2982.0,1497.0,1968.0,1399.0,2143.0,1150.0,1498.0,1582.0,1197.0,1197.0,3498.0,1995.0,1248.0,1591.0,1956.0,1991.0,1196.0,1497.0,814.0,1405.0,2993.0,1248.0,1198.0,1388.0,1799.0,1061.0,1248.0,1120.0,1197.0,1086.0,1198.0,2698.0,1197.0,799.0,1968.0,796.0,1497.0,1796.0,2967.0,1199.0,1396.0,1497.0,1497.0,1598.0,1586.0,1248.0,1248.0,1197.0,1120.0,1497.0,1598.0,2987.0,2199.0,796.0,2499.0,1396.0,1399.0,1497.0,1248.0,1582.0,1591.0,1498.0,2993.0,1995.0,1498.0,1591.0,1399.0,1968.0,2354.0,1396.0,2755.0,799.0,995.0,1599.0,1995.0,1086.0,1248.0,1186.0,1199.0,1405.0,1399.0,1248.0,1586.0,1197.0,1248.0,1582.0,995.0,1197.0,1120.0,1199.0,1198.0,2143.0,2179.0,1120.0,1498.0,624.0,1198.0,1248.0,1197.0,1086.0,2179.0,1598.0,2179.0,2354.0,1196.0,1248.0,1197.0,2179.0,1197.0,2143.0,1798.0,1498.0,1197.0,1248.0,1497.0,2993.0,1896.0,1197.0,1461.0,1497.0,1598.0,1197.0,1388.0,1120.0,1498.0,1497.0,1461.0,1995.0,1586.0,1497.0,1198.0,1198.0,1968.0,998.0,1582.0,2143.0,1995.0,1498.0,1582.0,1497.0,1399.0,1248.0,2143.0,1991.0,2494.0,1493.0,1497.0,1968.0,1199.0,1497.0,2494.0,1493.0,1586.0,796.0,2987.0,1248.0,1248.0,2400.0,2982.0,1396.0,1968.0,1461.0,998.0,1298.0,1197.0,1995.0,1197.0,1197.0,1197.0,1198.0,1497.0,2143.0,796.0,1591.0,796.0,1248.0,2179.0,1248.0,1197.0,1796.0,796.0,1198.0,2993.0,1120.0,1799.0,1120.0,796.0,1364.0,1396.0,998.0,1995.0,998.0,1798.0,2498.0,2179.0,1197.0,999.0,1364.0,1197.0,1461.0,2987.0,998.0,1498.0,1197.0,1462.0,1197.0,1582.0,1197.0,1493.0,1197.0,2498.0,1364.0,2523.0,1995.0,2755.0,1396.0,1248.0,1582.0,796.0,1248.0,814.0,1598.0,814.0,1248.0,2143.0,1968.0,1596.0,1995.0,998.0,2143.0,2953.0,1197.0,1197.0,1198.0,1396.0,1198.0,1493.0,1896.0,2499.0,1991.0,null,1498.0,1248.0,1197.0,2993.0,1198.0,2698.0,1197.0,1198.0,1997.0,998.0,796.0,998.0,1248.0,1248.0,1461.0,1197.0,1197.0,998.0,2179.0,2982.0,1461.0,1086.0,1591.0,1995.0,1799.0,1798.0,998.0,1248.0,2720.0,1248.0,1591.0,1248.0,1495.0,1197.0,1591.0,796.0,2179.0,998.0,1197.0,1248.0,1995.0,1995.0,1198.0,1997.0,1248.0,2179.0,1086.0,1373.0,2494.0,1197.0,1991.0,2696.0,2179.0,1497.0,1498.0,1197.0,2143.0,814.0,796.0,1496.0,1248.0,796.0,998.0,1498.0,1461.0,2354.0,1248.0,2179.0,1199.0,1497.0,1172.0,1061.0,1373.0,1198.0,1497.0,1496.0,1995.0,1199.0,1248.0,1598.0,2179.0,1197.0,1497.0,2494.0,2179.0,1248.0,1598.0,1364.0,1968.0,1373.0,1798.0,796.0,1497.0,1197.0,2494.0,1120.0,2755.0,1197.0,1197.0,1248.0,1798.0,2143.0,1248.0,1248.0,1799.0,1248.0,1582.0,2982.0,1197.0,1896.0,1498.0,1086.0,1495.0,814.0,2494.0,1248.0,1462.0,1298.0,1497.0,1248.0,1198.0,1364.0,2400.0,1193.0,2755.0,1598.0,1498.0,998.0,2987.0,1498.0,1193.0,796.0,1956.0,998.0,1968.0,1248.0,1248.0,2148.0,1399.0,1798.0,1598.0,1196.0,1199.0,993.0,2982.0,1248.0,799.0,1197.0,998.0,1396.0,1498.0,1497.0,1468.0,1498.0,2354.0,2179.0,1197.0,1461.0,1373.0,1598.0,1197.0,1798.0,1498.0,1197.0,2143.0,2494.0,1298.0,2143.0,1197.0,998.0,1498.0,1198.0,1591.0,999.0,1198.0,1196.0,2982.0,1396.0,1498.0,1248.0,1461.0,1968.0,1968.0,2967.0,1197.0,1995.0,1396.0,2609.0,3197.0,1399.0,2354.0,1396.0,2179.0,1591.0,1497.0,1197.0,1198.0,1396.0,2393.0,998.0,null,796.0,2179.0,1248.0,1995.0,1968.0,1995.0,1197.0,1396.0,1248.0,1796.0,1798.0,1582.0,1461.0,1248.0,998.0,1591.0,1991.0,2354.0,1498.0,2143.0,1120.0,1388.0,1582.0,998.0,1248.0,1497.0,2494.0,3498.0,1498.0,1499.0,998.0,1598.0,2400.0,1364.0,1405.0,1497.0,1497.0,1896.0,1798.0,1496.0,1995.0,1497.0,1396.0,2987.0,1582.0,1968.0,2179.0,1498.0,998.0,2894.0,1373.0,1968.0,1399.0,999.0,1497.0,2179.0,1197.0,1995.0,2143.0,1198.0,1197.0,1405.0,2982.0,1086.0,1197.0,1590.0,1198.0,2993.0,1364.0,1197.0,1199.0,998.0,1396.0,1794.0,2494.0,998.0,1968.0,1497.0,1582.0,1497.0,1399.0,1248.0,998.0,2967.0,2487.0,1197.0,1586.0,1197.0,1199.0,2993.0,1198.0,1461.0,1798.0,1968.0,1248.0,1198.0,2477.0,1373.0,1461.0,814.0,2354.0,1591.0,1798.0,1586.0,1198.0,1968.0,1497.0,998.0,2477.0,1798.0,1582.0,796.0,1497.0,799.0,1968.0,1595.0,1197.0,1498.0,1591.0,2755.0,1197.0,1197.0,1497.0,998.0,3498.0,1197.0,1197.0,2143.0,814.0,998.0,1497.0,2987.0,1396.0,1591.0,998.0,1248.0,1299.0,1198.0,1197.0,1248.0,null,1796.0,1248.0,2179.0,1197.0,2179.0,1591.0,1498.0,1248.0,998.0,814.0,2755.0,1591.0,998.0,2987.0,998.0,2179.0,799.0,1248.0,1582.0,1197.0,1968.0,1198.0,998.0,1086.0,1582.0,1582.0,1248.0,1582.0,1197.0,1582.0,1248.0,1197.0,2967.0,1196.0,1995.0,1248.0,1197.0,1197.0,1968.0,1086.0,1968.0,998.0,1086.0,2494.0,1199.0,2494.0,2354.0,1198.0,1199.0,1998.0,2179.0,2993.0,1498.0,1199.0,2179.0,1598.0,1497.0,1968.0,1497.0,1197.0,796.0,1399.0,1086.0,998.0,1498.0,1497.0,1498.0,1591.0,998.0,2143.0,2993.0,1061.0,1461.0,2179.0,3198.0,998.0,null,1197.0,1198.0,998.0,1968.0,2987.0,998.0,1968.0,799.0,796.0,2494.0,1794.0,1498.0,1198.0,1597.0,2179.0,2987.0,2179.0,2179.0,1199.0,1248.0,1794.0,2967.0,814.0,1199.0,1499.0,1461.0,1497.0,796.0,1197.0,995.0,1498.0,1968.0,1199.0,1591.0,1199.0,799.0,1197.0,2496.0,1248.0,998.0,1968.0,1497.0,2997.0,1798.0,2494.0,998.0,1248.0,2143.0,2498.0,1498.0,799.0,799.0,2967.0,1582.0,2755.0,1197.0,1198.0,1598.0,1497.0,1599.0,1495.0,1968.0,2497.0,1197.0,1197.0,1086.0,1198.0,2494.0,2179.0,1968.0,998.0,1248.0,1086.0,1598.0,1498.0,1248.0,1086.0,2179.0,1248.0,2179.0,1248.0,2987.0,1586.0,998.0,1198.0,1399.0,1968.0,1197.0,2755.0,1198.0,1968.0,2143.0,2982.0,1586.0,1498.0,1794.0,1497.0,1995.0,1248.0,1198.0,1198.0,1197.0,1197.0,1198.0,1197.0,1598.0,1248.0,1598.0,1197.0,1198.0,1497.0,624.0,3498.0,1061.0,1798.0,2967.0,1197.0,2494.0,1995.0,2143.0,2393.0,1298.0,1248.0,2494.0,1364.0,1199.0,1399.0,2143.0,1496.0,2494.0,2993.0,1498.0,814.0,2354.0,1968.0,1798.0,1498.0,2179.0,998.0,1198.0,999.0,1373.0,1396.0,2393.0,1248.0,2993.0,1197.0,2967.0,1120.0,1968.0,1373.0,2494.0,2148.0,1197.0,1197.0,1248.0,1061.0,2993.0,4134.0,2993.0,1197.0,1461.0,1798.0,1364.0,1798.0,1968.0,1248.0,1197.0,1396.0,1248.0,1598.0,1199.0,1497.0,1199.0,1968.0,1598.0,1598.0,1497.0,998.0,2771.0,1498.0,998.0,2987.0,796.0,1197.0,1498.0,1995.0,2993.0,1198.0,1499.0,2993.0,1798.0,1197.0,2148.0,1968.0,2499.0,1196.0,1198.0,1405.0,1985.0,799.0,814.0,796.0,1198.0,1197.0,1498.0,1798.0,1493.0,796.0,1396.0,1582.0,2967.0,1396.0,995.0,1197.0,2982.0,1197.0,1497.0,1197.0,2494.0,4951.0,2755.0,1061.0,1248.0,1248.0,998.0,1461.0,2835.0,998.0,1405.0,1197.0,998.0,1197.0,1197.0,1591.0,2179.0,1298.0,1198.0,1364.0,1498.0,2967.0,998.0,1498.0,2354.0,1591.0,2199.0,1197.0,1399.0,1197.0,1120.0,1968.0,1388.0,1197.0,1896.0,1498.0,2967.0,1591.0,2143.0,1498.0,1388.0,1197.0,796.0,2996.0,1368.0,1248.0,2179.0,2400.0,1197.0,2982.0,624.0,1461.0,2967.0,1497.0,1461.0,1198.0,1198.0,1995.0,1248.0,1497.0,1995.0,1896.0,1197.0,2179.0,1197.0,2494.0,1196.0,1968.0,2494.0,1995.0,1498.0,1197.0,1399.0,2477.0,2199.0,2179.0,2494.0,2987.0,2179.0,1497.0,2987.0,1497.0,998.0,1193.0,1197.0,1198.0,998.0,1995.0,1968.0,1461.0,1199.0,1995.0,1498.0,998.0,1197.0,1968.0,1493.0,1498.0,1498.0,2755.0,1498.0,1995.0,1995.0,1591.0,1995.0,2143.0,1248.0,998.0,1995.0,4134.0,1199.0,624.0,796.0,998.0,1120.0,1199.0,2179.0,1968.0,1396.0,2835.0,1248.0,998.0,814.0,1248.0,1582.0,1968.0,1498.0,null,2494.0,2143.0,1498.0,1968.0,1197.0,1086.0,1047.0,814.0,1086.0,1086.0,2609.0,1497.0,1248.0,1968.0,2143.0,1799.0,1197.0,1968.0,1498.0,1086.0,1248.0,2953.0,1299.0,1995.0,2143.0,1196.0,null,1498.0,993.0,1197.0,2993.0,1582.0,1248.0,1248.0,1186.0,1196.0,2993.0,2143.0,1197.0,1582.0,2993.0,1461.0,1586.0,1248.0,1968.0,1248.0,1248.0,1364.0,1498.0,4395.0,1198.0,1242.0,2179.0,1596.0,1582.0,999.0,1248.0,1396.0,1586.0,799.0,2498.0,814.0,1498.0,1199.0,1497.0,2982.0,1198.0,1995.0,998.0,2494.0,2179.0,1199.0,1995.0,1598.0,1598.0,1498.0,2179.0,1388.0,1086.0,2987.0,796.0,1497.0,2199.0,2143.0,2494.0,1995.0,1197.0,1598.0,1373.0,1197.0,1582.0,2967.0,1997.0,1499.0,1120.0,1498.0,2987.0,1197.0,1968.0,1396.0,1396.0,1497.0,1248.0,796.0,998.0,1582.0,796.0,1598.0,1197.0,2179.0,1997.0,2755.0,1497.0,5461.0,1497.0,1248.0,1794.0,1364.0,998.0,null,1991.0,2179.0,1197.0,2179.0,1197.0,1198.0,2987.0,796.0,2755.0,1197.0,2993.0,970.0,1197.0,1197.0,null,1498.0,2148.0,1248.0,1364.0,1197.0,1799.0,2494.0,1495.0,796.0,5461.0,1498.0,1197.0,1598.0,1968.0,2179.0,1591.0,1599.0,1597.0,1198.0,1198.0,2494.0,1498.0,2179.0,1197.0,2198.0,995.0,1248.0,1498.0,1497.0,1998.0,1794.0,1086.0,1798.0,998.0,1086.0,1199.0,1197.0,1598.0,1197.0,1399.0,1799.0,796.0,1999.0,2698.0,2987.0,1497.0,2354.0,1248.0,998.0,1582.0,1248.0,814.0,1373.0,1598.0,1493.0,1198.0,796.0,2143.0,2199.0,1248.0,1197.0,2498.0,1197.0,1598.0,2354.0,2925.0,2143.0,1582.0,796.0,1968.0,1461.0,1399.0,1582.0,1399.0,1598.0,1969.0,1582.0,2993.0,1998.0,2982.0,1248.0,1248.0,1995.0,1598.0,1197.0,2993.0,1197.0,2143.0,2179.0,1197.0,1582.0,1968.0,2179.0,796.0,1798.0,1248.0,2179.0,1991.0,2498.0,1461.0,1968.0,2179.0,1598.0,2979.0,1582.0,2956.0,799.0,2993.0,4395.0,1061.0,1198.0,1198.0,1591.0,998.0,2199.0,1598.0,1498.0,1298.0,1248.0,1598.0,2987.0,2179.0,1461.0,1298.0,814.0,1198.0,1198.0,796.0,1995.0,1198.0,998.0,1197.0,1248.0,1968.0,1198.0,2179.0,1498.0,1995.0,995.0,1399.0,1197.0,2143.0,1968.0,1995.0,814.0,1968.0,1196.0,998.0,796.0,2143.0,1086.0,1120.0,1498.0,1248.0,1199.0,1968.0,4367.0,2179.0,2499.0,1396.0,1197.0,1120.0,1799.0,1197.0,1198.0,1197.0,1197.0,998.0,1396.0,2982.0,1197.0,1197.0,1197.0,1086.0,1248.0,1498.0,2143.0,1396.0,1086.0,1248.0,2979.0,1248.0,936.0,1198.0,1399.0,998.0,2143.0,1086.0,1198.0,1197.0,814.0,1396.0,3198.0,1497.0,1248.0,1598.0,1598.0,1497.0,1582.0,1120.0,2143.0,1399.0,1896.0,1493.0,1499.0,1591.0,998.0,1197.0,1968.0,1198.0,2143.0,2179.0,1591.0,1598.0,1248.0,1591.0,1120.0,1493.0,1120.0,2993.0,1248.0,2982.0,1968.0,1498.0,4134.0,2179.0,1991.0,936.0,1968.0,1598.0,1248.0,2982.0,1248.0,1497.0,2143.0,1248.0,1498.0,1197.0,null,796.0,1364.0,1197.0,2143.0,1396.0,796.0,2771.0,1198.0,1197.0,2179.0,1248.0,1995.0,624.0,2494.0,1198.0,1199.0,2179.0,1995.0,1364.0,1497.0,1582.0,1248.0,1373.0,1498.0,998.0,1199.0,2179.0,1493.0,1199.0,1298.0,1198.0,1582.0,1199.0,1498.0,2496.0,2993.0,1968.0,1248.0,1248.0,2494.0,1995.0,1995.0,2179.0,1497.0,2200.0,1498.0,1198.0,1364.0,1461.0,1995.0,1197.0,1196.0,1399.0,1497.0,1248.0,1120.0,2967.0,1198.0,1497.0,1248.0,1120.0,1248.0,null,2179.0,2982.0,1498.0,1248.0,1248.0,1498.0,2179.0,796.0,1198.0,1498.0,1248.0,1968.0,1497.0,1196.0,1248.0,1461.0,1396.0,1390.0,1497.0,1196.0,1598.0,1197.0,1999.0,1984.0,1298.0,1248.0,1968.0,1198.0,2982.0,2982.0,2354.0,1248.0,1198.0,1956.0,624.0,1596.0,793.0,2982.0,793.0,814.0,1498.0,1198.0,1199.0,1248.0,1198.0,1298.0,998.0,1591.0,1498.0,1248.0,1997.0,2179.0,2179.0,1198.0,1197.0,1197.0,1998.0,1991.0,2359.0,1796.0,1199.0,1497.0,1248.0,1197.0,2179.0,1461.0,2497.0,1798.0,1582.0,1248.0,1248.0,998.0,5000.0,2143.0,1582.0,1598.0,1197.0,1582.0,2143.0,2982.0,1968.0,1995.0,796.0,998.0,1798.0,1197.0,998.0,1498.0,1198.0,2179.0,1197.0,2143.0,1598.0,1120.0,1197.0,1248.0,1396.0,1598.0,1368.0,1298.0,1396.0,2143.0,2987.0,1086.0,1497.0,1197.0,2982.0,1197.0,1896.0,1499.0,814.0,1198.0,1199.0,1198.0,796.0,1582.0,2148.0,1193.0,1198.0,1498.0,998.0,993.0,1396.0,1598.0,2143.0,1399.0,2143.0,2179.0,1197.0,1341.0,2967.0,2179.0,1199.0,2179.0,2179.0,1199.0,1248.0,1968.0,998.0,1497.0,1197.0,799.0,2143.0,1498.0,1197.0,2494.0,1461.0,1248.0,998.0,1197.0,2143.0,1373.0,998.0,1199.0,1498.0,1498.0,1798.0,2179.0,796.0,2993.0,814.0,1248.0,998.0,1968.0,1798.0,1193.0,2149.0,1497.0,1498.0,null,1598.0,1591.0,1582.0,1968.0,1586.0,2198.0,1197.0,1120.0,1498.0,2496.0,1197.0,998.0,1248.0,998.0,999.0,2179.0,2494.0,1199.0,1399.0,1461.0,2200.0,999.0,1498.0,2179.0,1399.0,2523.0,1498.0,2494.0,2179.0,1499.0,1968.0,2179.0,2993.0,1198.0,1197.0,1248.0,1497.0,1497.0,1968.0,1498.0,2179.0,1798.0,1086.0,1995.0,1498.0,1197.0,1497.0,1248.0,1086.0,1199.0,1582.0,1591.0,1199.0,1968.0,1497.0,1497.0,2967.0,1197.0,1197.0,1197.0,1396.0,2993.0,1248.0,1194.0,1599.0,1995.0,2494.0,2143.0,1582.0,1248.0,1248.0,1197.0,1498.0,799.0,1364.0,998.0,1199.0,1396.0,1968.0,1248.0,1198.0,1497.0,1197.0,2199.0,null,998.0,1591.0,1396.0,1598.0,998.0,2143.0,796.0,3198.0,1193.0,1598.0,1373.0,2987.0,1199.0,2982.0,998.0,1995.0,1497.0,1999.0,1198.0,1498.0,998.0,1197.0,1197.0,2979.0,1197.0,1598.0,1198.0,1373.0,1248.0,1199.0,1995.0,2967.0,1498.0,1995.0,2987.0,1061.0,1197.0,1197.0,1150.0,1498.0,2179.0,1968.0,1968.0,1186.0,2179.0,1248.0,814.0,2179.0,2354.0,1199.0,1196.0,1120.0,3198.0,1186.0,1248.0,1197.0,1298.0,1995.0,1497.0,1197.0,1498.0,998.0,1248.0,2494.0,1497.0,1197.0,1197.0,1396.0,1197.0,1497.0,4134.0,1198.0,1799.0,1197.0,1582.0,1968.0,796.0,1995.0,1197.0,1498.0,1198.0,1373.0,1197.0,1120.0,1799.0,1497.0,2523.0,1497.0,1186.0,1461.0,998.0,1968.0,2179.0,1198.0,1995.0,2393.0,1497.0,1248.0,1461.0,1198.0,1197.0,1995.0,1248.0,2987.0,1248.0,1582.0,624.0,1298.0,1197.0,1197.0,1373.0,2179.0,1405.0,1193.0,1997.0,2354.0,624.0,1582.0,1396.0,1498.0,2179.0,1995.0,1197.0,1197.0,1582.0,1248.0,1598.0,1248.0,1896.0,1498.0,1197.0,1198.0,1498.0,1995.0,2967.0,1120.0,1461.0,1197.0,814.0,1796.0,2179.0,2696.0,1373.0,3498.0,1197.0,4367.0,1461.0,1582.0,1798.0,1995.0,1499.0,1248.0,2199.0,1396.0,1120.0,1086.0,998.0,2179.0,1968.0,1598.0,1248.0,993.0,1086.0,1199.0,1498.0,2982.0,2179.0,2499.0,1399.0,1199.0,3198.0,1498.0,1896.0,936.0,2362.0,1461.0,2143.0,1193.0,1197.0,1197.0,1186.0,1497.0,1495.0,1599.0,1196.0,1498.0,998.0,1248.0,2987.0,1968.0,2987.0,1248.0,1794.0,2179.0,998.0,2982.0,1061.0,624.0,1197.0,1995.0,2179.0,1598.0,1198.0,624.0,1399.0,1598.0,2179.0,1498.0,999.0,1197.0,1991.0,1396.0,998.0,1582.0,1198.0,1396.0,998.0,1968.0,1396.0,1461.0,1199.0,1405.0,1197.0,2993.0,1582.0,1197.0,1248.0,2179.0,1086.0,2179.0,1799.0,998.0,1248.0,2982.0,1248.0,998.0,1248.0,1197.0,799.0,1193.0,1399.0,2967.0,998.0,1498.0,2179.0,1995.0,1497.0,1998.0,2477.0,1248.0,5998.0,1248.0,2494.0,1796.0,2143.0,1498.0,1197.0,1197.0,999.0,2179.0,2494.0,1197.0,1086.0,1198.0,2993.0,1497.0,1498.0,2982.0,2179.0,1582.0,936.0,2755.0,1248.0,1582.0,2993.0,1498.0,1591.0,1197.0,1498.0,1591.0,1399.0,2993.0,2835.0,1461.0,1197.0,1197.0,2143.0,1995.0,1591.0,799.0,2967.0,1248.0,1198.0,1995.0,1582.0,1396.0,1598.0,1995.0,1997.0,1461.0,1197.0,1968.0,1582.0,1248.0,1396.0,1591.0,1199.0,1199.0,1586.0,1498.0,1461.0,2755.0,1984.0,998.0,1248.0,1968.0,1995.0,1196.0,1582.0,1599.0,1799.0,2982.0,1197.0,1461.0,1995.0,1991.0,1197.0,1896.0,2148.0,1498.0,1995.0,2494.0,4806.0,1461.0,1248.0,1197.0,1968.0,2354.0,1497.0,1591.0,998.0,1248.0,1984.0,1364.0,1086.0,1591.0,1498.0,1995.0,1396.0,1197.0,2982.0,1197.0,1591.0,1197.0,1047.0,1798.0,1248.0,1997.0,2494.0,1497.0,1591.0,1364.0,1798.0,1461.0,1497.0,1396.0,1599.0,1198.0,1198.0,1248.0,2953.0,1590.0,998.0,1498.0,1591.0,1248.0,2446.0,1461.0,1598.0,1196.0,1598.0,2982.0,1582.0,1197.0,998.0,1498.0,796.0,1299.0,1197.0,1497.0,1493.0,1591.0,799.0,998.0,1197.0,1197.0,1198.0,1399.0,1582.0,1364.0,1199.0,1582.0,2143.0,1798.0,936.0,1199.0,1248.0,1497.0,1498.0,1197.0,999.0,796.0,1499.0,1197.0,1248.0,2987.0,1248.0,936.0,1586.0,796.0,2477.0,2987.0,936.0,1498.0,1497.0,2143.0,1396.0,1399.0,1968.0,1086.0,1995.0,2993.0,1591.0,1498.0,1399.0,1991.0,1396.0,1497.0,1197.0,796.0,1120.0,796.0,2494.0,1197.0,1497.0,993.0,998.0,1399.0,1198.0,1495.0,1582.0,1248.0,1595.0,1998.0,1968.0,2179.0,1995.0,3498.0,1798.0,1198.0,1197.0,1497.0,1196.0,2494.0,1461.0,1198.0,1197.0,2092.0,1248.0,2993.0,1968.0,1197.0,2199.0,1998.0,2143.0,1086.0,998.0,1248.0,1497.0,1461.0,1995.0,1498.0,1461.0,1120.0,1086.0,2982.0,2393.0,1197.0,1086.0,1086.0,2967.0,1969.0,1497.0,998.0,1198.0,2179.0,1461.0,1582.0,1199.0,2179.0,1498.0,1595.0,1586.0,1341.0,2993.0,1968.0,1197.0,1461.0,1598.0,1197.0,5204.0,2993.0,1298.0,1248.0,1396.0,1197.0,2494.0,1199.0,799.0,2494.0,2143.0,1497.0,1197.0,1582.0,1199.0,999.0,1197.0,1461.0,1498.0,2494.0,1798.0,1493.0,2987.0,1461.0,1598.0,1197.0,1198.0,998.0,998.0,1498.0,1798.0,1197.0,1461.0,1197.0,1498.0,1498.0,1498.0,1799.0,799.0,1198.0,1298.0,1396.0,1968.0,998.0,1498.0,1498.0,1396.0,1198.0,799.0,1498.0,2393.0,1248.0,1498.0,2494.0,1498.0,1199.0,1396.0,1461.0,1299.0,2499.0,1248.0,2143.0,1298.0,1396.0,2993.0,1086.0,1968.0,1968.0,1498.0,2489.0,998.0,2494.0,1120.0,1197.0,1197.0,1197.0,998.0,998.0,2982.0,2498.0,1086.0,1496.0,2987.0,1461.0,1248.0,1598.0,1968.0,2993.0,998.0,799.0,2499.0,1248.0,1086.0,1796.0,1950.0,1373.0,1968.0,1197.0,2477.0,2143.0,998.0,998.0,1197.0,1248.0,3498.0,1499.0,1498.0,998.0,1248.0,1396.0,1193.0,796.0,1061.0,1591.0,998.0,1496.0,1496.0,1461.0,1248.0,2143.0,1498.0,998.0,1373.0,1498.0,1248.0,2953.0,1461.0,1995.0,2982.0,1150.0,1598.0,2179.0,1248.0,1896.0,1399.0,1495.0,1991.0,1461.0,5000.0,1582.0,2143.0,1598.0,1968.0,1997.0,1798.0,796.0,2967.0,1493.0,1598.0,1197.0,1373.0,796.0,1396.0,1498.0,998.0,1498.0,2179.0,1498.0,2494.0,1248.0,799.0,2499.0,2112.0,999.0,1582.0,2993.0,1462.0,1896.0,1199.0,1968.0,1497.0,1298.0,1399.0,2982.0,2148.0,2494.0,1493.0,1498.0,1798.0,1248.0,2179.0,1248.0,1991.0,1591.0,2143.0,998.0,1373.0,1598.0,2494.0,1991.0,1498.0,1086.0,1582.0,1198.0,1197.0,1061.0,1405.0,2498.0,2499.0,1197.0,1197.0,2179.0,1198.0,1796.0,1364.0,1341.0,1199.0,1461.0,1968.0,2179.0,1248.0,1798.0,1797.0,1497.0,1461.0,2179.0,998.0,1198.0,1193.0,1197.0,1968.0,1598.0,998.0,1341.0,1248.0,2987.0,1248.0,2967.0,2494.0,1198.0,3597.0,2494.0,1498.0,1248.0,1120.0,2498.0,998.0,936.0],\"xaxis\":\"x\",\"yaxis\":\"y\",\"type\":\"histogram\"}],                        {\"template\":{\"data\":{\"histogram2dcontour\":[{\"type\":\"histogram2dcontour\",\"colorbar\":{\"outlinewidth\":0,\"ticks\":\"\"},\"colorscale\":[[0.0,\"#0d0887\"],[0.1111111111111111,\"#46039f\"],[0.2222222222222222,\"#7201a8\"],[0.3333333333333333,\"#9c179e\"],[0.4444444444444444,\"#bd3786\"],[0.5555555555555556,\"#d8576b\"],[0.6666666666666666,\"#ed7953\"],[0.7777777777777778,\"#fb9f3a\"],[0.8888888888888888,\"#fdca26\"],[1.0,\"#f0f921\"]]}],\"choropleth\":[{\"type\":\"choropleth\",\"colorbar\":{\"outlinewidth\":0,\"ticks\":\"\"}}],\"histogram2d\":[{\"type\":\"histogram2d\",\"colorbar\":{\"outlinewidth\":0,\"ticks\":\"\"},\"colorscale\":[[0.0,\"#0d0887\"],[0.1111111111111111,\"#46039f\"],[0.2222222222222222,\"#7201a8\"],[0.3333333333333333,\"#9c179e\"],[0.4444444444444444,\"#bd3786\"],[0.5555555555555556,\"#d8576b\"],[0.6666666666666666,\"#ed7953\"],[0.7777777777777778,\"#fb9f3a\"],[0.8888888888888888,\"#fdca26\"],[1.0,\"#f0f921\"]]}],\"heatmap\":[{\"type\":\"heatmap\",\"colorbar\":{\"outlinewidth\":0,\"ticks\":\"\"},\"colorscale\":[[0.0,\"#0d0887\"],[0.1111111111111111,\"#46039f\"],[0.2222222222222222,\"#7201a8\"],[0.3333333333333333,\"#9c179e\"],[0.4444444444444444,\"#bd3786\"],[0.5555555555555556,\"#d8576b\"],[0.6666666666666666,\"#ed7953\"],[0.7777777777777778,\"#fb9f3a\"],[0.8888888888888888,\"#fdca26\"],[1.0,\"#f0f921\"]]}],\"heatmapgl\":[{\"type\":\"heatmapgl\",\"colorbar\":{\"outlinewidth\":0,\"ticks\":\"\"},\"colorscale\":[[0.0,\"#0d0887\"],[0.1111111111111111,\"#46039f\"],[0.2222222222222222,\"#7201a8\"],[0.3333333333333333,\"#9c179e\"],[0.4444444444444444,\"#bd3786\"],[0.5555555555555556,\"#d8576b\"],[0.6666666666666666,\"#ed7953\"],[0.7777777777777778,\"#fb9f3a\"],[0.8888888888888888,\"#fdca26\"],[1.0,\"#f0f921\"]]}],\"contourcarpet\":[{\"type\":\"contourcarpet\",\"colorbar\":{\"outlinewidth\":0,\"ticks\":\"\"}}],\"contour\":[{\"type\":\"contour\",\"colorbar\":{\"outlinewidth\":0,\"ticks\":\"\"},\"colorscale\":[[0.0,\"#0d0887\"],[0.1111111111111111,\"#46039f\"],[0.2222222222222222,\"#7201a8\"],[0.3333333333333333,\"#9c179e\"],[0.4444444444444444,\"#bd3786\"],[0.5555555555555556,\"#d8576b\"],[0.6666666666666666,\"#ed7953\"],[0.7777777777777778,\"#fb9f3a\"],[0.8888888888888888,\"#fdca26\"],[1.0,\"#f0f921\"]]}],\"surface\":[{\"type\":\"surface\",\"colorbar\":{\"outlinewidth\":0,\"ticks\":\"\"},\"colorscale\":[[0.0,\"#0d0887\"],[0.1111111111111111,\"#46039f\"],[0.2222222222222222,\"#7201a8\"],[0.3333333333333333,\"#9c179e\"],[0.4444444444444444,\"#bd3786\"],[0.5555555555555556,\"#d8576b\"],[0.6666666666666666,\"#ed7953\"],[0.7777777777777778,\"#fb9f3a\"],[0.8888888888888888,\"#fdca26\"],[1.0,\"#f0f921\"]]}],\"mesh3d\":[{\"type\":\"mesh3d\",\"colorbar\":{\"outlinewidth\":0,\"ticks\":\"\"}}],\"scatter\":[{\"fillpattern\":{\"fillmode\":\"overlay\",\"size\":10,\"solidity\":0.2},\"type\":\"scatter\"}],\"parcoords\":[{\"type\":\"parcoords\",\"line\":{\"colorbar\":{\"outlinewidth\":0,\"ticks\":\"\"}}}],\"scatterpolargl\":[{\"type\":\"scatterpolargl\",\"marker\":{\"colorbar\":{\"outlinewidth\":0,\"ticks\":\"\"}}}],\"bar\":[{\"error_x\":{\"color\":\"#2a3f5f\"},\"error_y\":{\"color\":\"#2a3f5f\"},\"marker\":{\"line\":{\"color\":\"#E5ECF6\",\"width\":0.5},\"pattern\":{\"fillmode\":\"overlay\",\"size\":10,\"solidity\":0.2}},\"type\":\"bar\"}],\"scattergeo\":[{\"type\":\"scattergeo\",\"marker\":{\"colorbar\":{\"outlinewidth\":0,\"ticks\":\"\"}}}],\"scatterpolar\":[{\"type\":\"scatterpolar\",\"marker\":{\"colorbar\":{\"outlinewidth\":0,\"ticks\":\"\"}}}],\"histogram\":[{\"marker\":{\"pattern\":{\"fillmode\":\"overlay\",\"size\":10,\"solidity\":0.2}},\"type\":\"histogram\"}],\"scattergl\":[{\"type\":\"scattergl\",\"marker\":{\"colorbar\":{\"outlinewidth\":0,\"ticks\":\"\"}}}],\"scatter3d\":[{\"type\":\"scatter3d\",\"line\":{\"colorbar\":{\"outlinewidth\":0,\"ticks\":\"\"}},\"marker\":{\"colorbar\":{\"outlinewidth\":0,\"ticks\":\"\"}}}],\"scattermapbox\":[{\"type\":\"scattermapbox\",\"marker\":{\"colorbar\":{\"outlinewidth\":0,\"ticks\":\"\"}}}],\"scatterternary\":[{\"type\":\"scatterternary\",\"marker\":{\"colorbar\":{\"outlinewidth\":0,\"ticks\":\"\"}}}],\"scattercarpet\":[{\"type\":\"scattercarpet\",\"marker\":{\"colorbar\":{\"outlinewidth\":0,\"ticks\":\"\"}}}],\"carpet\":[{\"aaxis\":{\"endlinecolor\":\"#2a3f5f\",\"gridcolor\":\"white\",\"linecolor\":\"white\",\"minorgridcolor\":\"white\",\"startlinecolor\":\"#2a3f5f\"},\"baxis\":{\"endlinecolor\":\"#2a3f5f\",\"gridcolor\":\"white\",\"linecolor\":\"white\",\"minorgridcolor\":\"white\",\"startlinecolor\":\"#2a3f5f\"},\"type\":\"carpet\"}],\"table\":[{\"cells\":{\"fill\":{\"color\":\"#EBF0F8\"},\"line\":{\"color\":\"white\"}},\"header\":{\"fill\":{\"color\":\"#C8D4E3\"},\"line\":{\"color\":\"white\"}},\"type\":\"table\"}],\"barpolar\":[{\"marker\":{\"line\":{\"color\":\"#E5ECF6\",\"width\":0.5},\"pattern\":{\"fillmode\":\"overlay\",\"size\":10,\"solidity\":0.2}},\"type\":\"barpolar\"}],\"pie\":[{\"automargin\":true,\"type\":\"pie\"}]},\"layout\":{\"autotypenumbers\":\"strict\",\"colorway\":[\"#636efa\",\"#EF553B\",\"#00cc96\",\"#ab63fa\",\"#FFA15A\",\"#19d3f3\",\"#FF6692\",\"#B6E880\",\"#FF97FF\",\"#FECB52\"],\"font\":{\"color\":\"#2a3f5f\"},\"hovermode\":\"closest\",\"hoverlabel\":{\"align\":\"left\"},\"paper_bgcolor\":\"white\",\"plot_bgcolor\":\"#E5ECF6\",\"polar\":{\"bgcolor\":\"#E5ECF6\",\"angularaxis\":{\"gridcolor\":\"white\",\"linecolor\":\"white\",\"ticks\":\"\"},\"radialaxis\":{\"gridcolor\":\"white\",\"linecolor\":\"white\",\"ticks\":\"\"}},\"ternary\":{\"bgcolor\":\"#E5ECF6\",\"aaxis\":{\"gridcolor\":\"white\",\"linecolor\":\"white\",\"ticks\":\"\"},\"baxis\":{\"gridcolor\":\"white\",\"linecolor\":\"white\",\"ticks\":\"\"},\"caxis\":{\"gridcolor\":\"white\",\"linecolor\":\"white\",\"ticks\":\"\"}},\"coloraxis\":{\"colorbar\":{\"outlinewidth\":0,\"ticks\":\"\"}},\"colorscale\":{\"sequential\":[[0.0,\"#0d0887\"],[0.1111111111111111,\"#46039f\"],[0.2222222222222222,\"#7201a8\"],[0.3333333333333333,\"#9c179e\"],[0.4444444444444444,\"#bd3786\"],[0.5555555555555556,\"#d8576b\"],[0.6666666666666666,\"#ed7953\"],[0.7777777777777778,\"#fb9f3a\"],[0.8888888888888888,\"#fdca26\"],[1.0,\"#f0f921\"]],\"sequentialminus\":[[0.0,\"#0d0887\"],[0.1111111111111111,\"#46039f\"],[0.2222222222222222,\"#7201a8\"],[0.3333333333333333,\"#9c179e\"],[0.4444444444444444,\"#bd3786\"],[0.5555555555555556,\"#d8576b\"],[0.6666666666666666,\"#ed7953\"],[0.7777777777777778,\"#fb9f3a\"],[0.8888888888888888,\"#fdca26\"],[1.0,\"#f0f921\"]],\"diverging\":[[0,\"#8e0152\"],[0.1,\"#c51b7d\"],[0.2,\"#de77ae\"],[0.3,\"#f1b6da\"],[0.4,\"#fde0ef\"],[0.5,\"#f7f7f7\"],[0.6,\"#e6f5d0\"],[0.7,\"#b8e186\"],[0.8,\"#7fbc41\"],[0.9,\"#4d9221\"],[1,\"#276419\"]]},\"xaxis\":{\"gridcolor\":\"white\",\"linecolor\":\"white\",\"ticks\":\"\",\"title\":{\"standoff\":15},\"zerolinecolor\":\"white\",\"automargin\":true,\"zerolinewidth\":2},\"yaxis\":{\"gridcolor\":\"white\",\"linecolor\":\"white\",\"ticks\":\"\",\"title\":{\"standoff\":15},\"zerolinecolor\":\"white\",\"automargin\":true,\"zerolinewidth\":2},\"scene\":{\"xaxis\":{\"backgroundcolor\":\"#E5ECF6\",\"gridcolor\":\"white\",\"linecolor\":\"white\",\"showbackground\":true,\"ticks\":\"\",\"zerolinecolor\":\"white\",\"gridwidth\":2},\"yaxis\":{\"backgroundcolor\":\"#E5ECF6\",\"gridcolor\":\"white\",\"linecolor\":\"white\",\"showbackground\":true,\"ticks\":\"\",\"zerolinecolor\":\"white\",\"gridwidth\":2},\"zaxis\":{\"backgroundcolor\":\"#E5ECF6\",\"gridcolor\":\"white\",\"linecolor\":\"white\",\"showbackground\":true,\"ticks\":\"\",\"zerolinecolor\":\"white\",\"gridwidth\":2}},\"shapedefaults\":{\"line\":{\"color\":\"#2a3f5f\"}},\"annotationdefaults\":{\"arrowcolor\":\"#2a3f5f\",\"arrowhead\":0,\"arrowwidth\":1},\"geo\":{\"bgcolor\":\"white\",\"landcolor\":\"#E5ECF6\",\"subunitcolor\":\"white\",\"showland\":true,\"showlakes\":true,\"lakecolor\":\"white\"},\"title\":{\"x\":0.05},\"mapbox\":{\"style\":\"light\"}}},\"xaxis\":{\"anchor\":\"y\",\"domain\":[0.0,1.0],\"title\":{\"text\":\"Engine\"}},\"yaxis\":{\"anchor\":\"x\",\"domain\":[0.0,1.0],\"title\":{\"text\":\"count\"}},\"legend\":{\"tracegroupgap\":0},\"margin\":{\"t\":60},\"barmode\":\"relative\"},                        {\"responsive\": true}                    ).then(function(){\n",
              "                            \n",
              "var gd = document.getElementById('7d564c4c-ed85-4f20-bc07-d5183700204c');\n",
              "var x = new MutationObserver(function (mutations, observer) {{\n",
              "        var display = window.getComputedStyle(gd).display;\n",
              "        if (!display || display === 'none') {{\n",
              "            console.log([gd, 'removed!']);\n",
              "            Plotly.purge(gd);\n",
              "            observer.disconnect();\n",
              "        }}\n",
              "}});\n",
              "\n",
              "// Listen for the removal of the full notebook cells\n",
              "var notebookContainer = gd.closest('#notebook-container');\n",
              "if (notebookContainer) {{\n",
              "    x.observe(notebookContainer, {childList: true});\n",
              "}}\n",
              "\n",
              "// Listen for the clearing of the current output cell\n",
              "var outputEl = gd.closest('.output');\n",
              "if (outputEl) {{\n",
              "    x.observe(outputEl, {childList: true});\n",
              "}}\n",
              "\n",
              "                        })                };                            </script>        </div>\n",
              "</body>\n",
              "</html>"
            ]
          },
          "metadata": {}
        },
        {
          "output_type": "display_data",
          "data": {
            "text/html": [
              "<html>\n",
              "<head><meta charset=\"utf-8\" /></head>\n",
              "<body>\n",
              "    <div>            <script src=\"https://cdnjs.cloudflare.com/ajax/libs/mathjax/2.7.5/MathJax.js?config=TeX-AMS-MML_SVG\"></script><script type=\"text/javascript\">if (window.MathJax && window.MathJax.Hub && window.MathJax.Hub.Config) {window.MathJax.Hub.Config({SVG: {font: \"STIX-Web\"}});}</script>                <script type=\"text/javascript\">window.PlotlyConfig = {MathJaxConfig: 'local'};</script>\n",
              "        <script charset=\"utf-8\" src=\"https://cdn.plot.ly/plotly-2.24.1.min.js\"></script>                <div id=\"cbbe5d28-ba20-448b-9ceb-ba444770bfd7\" class=\"plotly-graph-div\" style=\"height:525px; width:100%;\"></div>            <script type=\"text/javascript\">                                    window.PLOTLYENV=window.PLOTLYENV || {};                                    if (document.getElementById(\"cbbe5d28-ba20-448b-9ceb-ba444770bfd7\")) {                    Plotly.newPlot(                        \"cbbe5d28-ba20-448b-9ceb-ba444770bfd7\",                        [{\"alignmentgroup\":\"True\",\"bingroup\":\"x\",\"hovertemplate\":\"Power=%{x}\\u003cbr\\u003ecount=%{y}\\u003cextra\\u003e\\u003c\\u002fextra\\u003e\",\"legendgroup\":\"\",\"marker\":{\"color\":\"#636efa\",\"pattern\":{\"shape\":\"\"}},\"name\":\"\",\"offsetgroup\":\"\",\"orientation\":\"v\",\"showlegend\":false,\"x\":[58.0,126.0,88.0,88.0,140.0,55.0,63.0,171.0,103.0,74.0,103.0,116.0,74.0,187.0,115.0,175.0,98.0,74.0,83.0,167.0,190.0,88.0,177.0,80.0,103.0,116.0,63.0,67.0,88.0,102.0,108.0,138.0,184.0,179.0,103.0,64.0,88.0,82.0,254.0,73.0,46.0,37.0,77.0,82.0,149.0,138.0,112.0,163.0,71.0,105.0,174.0,74.0,75.0,74.0,82.0,103.0,53.0,78.0,147.0,67.0,147.0,68.0,186.0,170.0,69.0,140.0,78.0,194.0,88.0,88.0,500.0,140.0,78.0,108.0,86.0,187.0,null,132.0,102.0,null,74.0,88.0,86.0,68.0,73.0,117.0,218.0,78.0,82.0,null,86.0,168.0,174.0,89.0,140.0,98.0,73.0,110.0,67.0,103.0,90.0,82.0,67.0,241.0,80.0,35.0,78.0,270.0,140.0,126.0,171.0,73.0,37.0,190.0,130.0,100.0,150.0,75.0,215.0,88.0,null,107.0,126.0,67.0,37.0,120.0,178.0,58.0,152.0,103.0,91.0,140.0,85.0,67.0,362.0,121.0,46.0,143.0,88.0,130.0,170.0,98.0,81.0,null,171.0,76.0,103.0,91.0,444.0,190.0,174.0,74.0,362.0,103.0,138.0,55.0,73.0,67.0,86.0,120.0,98.0,100.0,81.0,140.0,89.0,168.0,108.0,68.0,258.0,167.0,86.0,78.0,170.0,81.0,174.0,103.0,112.0,88.0,174.0,57.0,157.0,68.0,190.0,102.0,73.0,108.0,201.0,83.0,126.0,68.0,120.0,187.0,68.0,88.0,null,98.0,78.0,98.0,106.0,83.0,100.0,88.0,81.0,85.0,64.0,174.0,177.0,67.0,null,120.0,98.0,126.0,83.0,121.0,67.0,186.0,246.0,68.0,103.0,177.0,81.0,98.0,67.0,65.0,167.0,67.0,108.0,null,189.0,99.0,53.0,76.0,73.0,74.0,68.0,171.0,194.0,117.0,81.0,167.0,57.0,88.0,100.0,88.0,102.0,null,117.0,184.0,70.0,88.0,103.0,82.0,103.0,88.0,68.0,183.0,147.0,35.0,81.0,82.0,74.0,126.0,null,80.0,254.0,170.0,73.0,126.0,66.0,108.0,76.0,258.0,78.0,102.0,60.0,74.0,120.0,74.0,123.0,74.0,47.0,118.0,241.0,105.0,121.0,118.0,88.0,98.0,103.0,117.0,74.0,177.0,67.0,88.0,105.0,78.0,170.0,78.0,147.0,174.0,100.0,73.0,67.0,117.0,70.0,174.0,136.0,null,null,67.0,201.0,187.0,103.0,35.0,86.0,83.0,75.0,67.0,140.0,70.0,93.0,177.0,73.0,68.0,78.0,174.0,313.0,245.0,67.0,90.0,78.0,88.0,74.0,82.0,73.0,46.0,125.0,46.0,88.0,46.0,141.0,125.0,81.0,88.0,118.0,75.0,98.0,55.0,190.0,126.0,88.0,227.0,67.0,89.0,62.0,177.0,141.0,177.0,78.0,74.0,83.0,63.0,74.0,67.0,60.0,192.0,67.0,47.0,47.0,235.0,179.0,82.0,88.0,241.0,136.0,37.0,83.0,87.0,170.0,73.0,117.0,71.0,203.0,120.0,204.0,117.0,null,118.0,103.0,246.0,86.0,122.0,282.0,55.0,67.0,73.0,181.0,138.0,143.0,187.0,224.0,175.0,46.0,64.0,187.0,121.0,218.0,270.0,157.0,174.0,187.0,170.0,120.0,190.0,117.0,215.0,94.0,81.0,367.0,55.0,81.0,100.0,73.0,187.0,null,121.0,186.0,189.0,null,67.0,86.0,83.0,138.0,55.0,108.0,258.0,47.0,150.0,67.0,78.0,73.0,98.0,62.0,null,55.0,121.0,103.0,130.0,74.0,140.0,81.0,174.0,85.0,114.0,102.0,47.0,88.0,181.0,190.0,335.0,81.0,108.0,71.0,89.0,73.0,70.0,88.0,118.0,62.0,100.0,88.0,169.0,null,191.0,170.0,108.0,82.0,86.0,138.0,83.0,177.0,68.0,156.0,168.0,73.0,73.0,63.0,126.0,150.0,258.0,187.0,126.0,68.0,136.0,93.0,66.0,86.0,60.0,103.0,86.0,67.0,164.0,79.0,168.0,89.0,75.0,282.0,117.0,82.0,140.0,105.0,62.0,121.0,120.0,103.0,108.0,245.0,88.0,67.0,121.0,67.0,187.0,76.0,37.0,174.0,198.0,81.0,112.0,81.0,171.0,93.0,154.0,93.0,118.0,194.0,70.0,204.0,73.0,67.0,117.0,168.0,86.0,88.0,73.0,181.0,103.0,100.0,177.0,108.0,190.0,78.0,88.0,85.0,140.0,130.0,88.0,67.0,207.0,108.0,88.0,105.0,65.0,171.0,184.0,98.0,98.0,187.0,74.0,170.0,132.0,118.0,85.0,126.0,62.0,74.0,null,174.0,70.0,88.0,63.0,98.0,82.0,81.0,184.0,177.0,168.0,335.0,88.0,80.0,364.0,83.0,100.0,168.0,258.0,73.0,74.0,177.0,107.0,187.0,171.0,141.0,138.0,35.0,170.0,108.0,140.0,83.0,126.0,258.0,120.0,126.0,241.0,76.0,63.0,82.0,147.0,55.0,73.0,88.0,184.0,55.0,118.0,177.0,112.0,170.0,116.0,140.0,88.0,168.0,63.0,85.0,null,113.0,174.0,80.0,154.0,98.0,138.0,81.0,81.0,190.0,70.0,78.0,126.0,181.0,185.0,79.0,null,null,140.0,88.0,201.0,78.0,169.0,67.0,237.0,90.0,117.0,125.0,174.0,100.0,70.0,105.0,102.0,110.0,73.0,241.0,81.0,88.0,117.0,91.0,99.0,73.0,88.0,74.0,170.0,86.0,66.0,126.0,88.0,70.0,74.0,88.0,98.0,88.0,73.0,116.0,160.0,88.0,80.0,67.0,55.0,78.0,306.0,187.0,98.0,140.0,147.0,68.0,92.0,85.0,147.0,82.0,197.0,167.0,121.0,204.0,165.0,85.0,90.0,83.0,170.0,258.0,82.0,81.0,181.0,47.0,174.0,181.0,241.0,57.0,67.0,108.0,184.0,83.0,108.0,110.0,80.0,88.0,103.0,184.0,73.0,117.0,null,74.0,74.0,138.0,94.0,74.0,null,37.0,88.0,67.0,74.0,103.0,105.0,113.0,53.0,null,null,117.0,187.0,204.0,147.0,140.0,186.0,88.0,88.0,46.0,81.0,66.0,37.0,99.0,90.0,86.0,94.0,184.0,163.0,116.0,69.0,147.0,102.0,167.0,85.0,102.0,168.0,78.0,126.0,174.0,79.0,68.0,68.0,67.0,107.0,121.0,67.0,170.0,110.0,148.0,140.0,34.0,67.0,141.0,126.0,81.0,93.0,155.0,88.0,306.0,73.0,168.0,140.0,201.0,88.0,74.0,121.0,197.0,81.0,116.0,98.0,121.0,98.0,88.0,67.0,75.0,78.0,105.0,81.0,235.0,190.0,92.0,203.0,174.0,67.0,53.0,108.0,73.0,47.0,81.0,null,80.0,88.0,67.0,88.0,103.0,68.0,85.0,70.0,118.0,38.0,68.0,141.0,258.0,67.0,103.0,181.0,88.0,68.0,74.0,241.0,147.0,126.0,62.0,147.0,147.0,105.0,153.0,126.0,98.0,81.0,102.0,81.0,63.0,103.0,187.0,60.0,258.0,171.0,82.0,73.0,121.0,78.0,86.0,168.0,140.0,171.0,98.0,98.0,67.0,74.0,67.0,140.0,78.0,68.0,81.0,163.0,226.0,184.0,84.0,67.0,74.0,98.0,74.0,93.0,120.0,201.0,168.0,53.0,116.0,158.0,98.0,138.0,174.0,88.0,167.0,73.0,108.0,73.0,85.0,74.0,55.0,60.0,73.0,174.0,174.0,null,73.0,83.0,258.0,117.0,69.0,103.0,67.0,171.0,170.0,105.0,null,126.0,75.0,98.0,64.0,91.0,181.0,86.0,null,83.0,58.0,73.0,126.0,270.0,170.0,177.0,74.0,88.0,104.0,126.0,175.0,73.0,85.0,110.0,74.0,77.0,147.0,83.0,98.0,80.0,90.0,167.0,82.0,82.0,47.0,82.0,194.0,157.0,147.0,102.0,136.0,68.0,85.0,103.0,73.0,94.0,86.0,67.0,73.0,158.0,80.0,57.0,130.0,67.0,103.0,94.0,98.0,94.0,190.0,67.0,174.0,57.0,125.0,215.0,98.0,88.0,81.0,170.0,67.0,120.0,62.0,74.0,82.0,97.0,66.0,53.0,121.0,67.0,184.0,177.0,69.0,88.0,34.0,74.0,98.0,86.0,147.0,120.0,80.0,126.0,140.0,108.0,74.0,88.0,74.0,73.0,118.0,90.0,118.0,57.0,62.0,138.0,254.0,235.0,174.0,150.0,108.0,71.0,170.0,215.0,75.0,187.0,308.0,160.0,152.0,85.0,71.0,108.0,187.0,82.0,100.0,80.0,98.0,118.0,121.0,73.0,170.0,89.0,65.0,74.0,88.0,108.0,67.0,62.0,57.0,140.0,68.0,138.0,78.0,171.0,106.0,82.0,null,74.0,90.0,99.0,88.0,88.0,116.0,46.0,197.0,88.0,265.0,74.0,88.0,80.0,70.0,87.0,73.0,121.0,78.0,76.0,270.0,102.0,174.0,78.0,67.0,335.0,88.0,55.0,115.0,126.0,67.0,80.0,117.0,102.0,110.0,153.0,241.0,67.0,218.0,86.0,47.0,121.0,84.0,85.0,55.0,191.0,88.0,67.0,87.0,113.0,88.0,157.0,170.0,75.0,117.0,321.0,80.0,74.0,98.0,35.0,138.0,88.0,70.0,88.0,170.0,91.0,204.0,67.0,103.0,184.0,258.0,81.0,171.0,108.0,75.0,null,185.0,140.0,62.0,88.0,91.0,88.0,157.0,270.0,67.0,null,138.0,85.0,74.0,81.0,88.0,81.0,83.0,84.0,74.0,65.0,118.0,88.0,82.0,80.0,67.0,170.0,85.0,103.0,74.0,138.0,130.0,110.0,93.0,68.0,215.0,81.0,98.0,100.0,53.0,66.0,120.0,67.0,74.0,121.0,126.0,116.0,66.0,67.0,190.0,68.0,265.0,190.0,47.0,147.0,75.0,102.0,175.0,130.0,47.0,103.0,187.0,153.0,88.0,100.0,90.0,241.0,121.0,108.0,118.0,68.0,88.0,73.0,117.0,78.0,58.0,187.0,190.0,35.0,120.0,103.0,60.0,37.0,138.0,245.0,70.0,79.0,86.0,140.0,71.0,204.0,78.0,138.0,138.0,184.0,88.0,167.0,73.0,126.0,177.0,93.0,100.0,157.0,241.0,74.0,88.0,85.0,78.0,78.0,83.0,93.0,86.0,74.0,81.0,140.0,201.0,115.0,170.0,88.0,141.0,118.0,168.0,184.0,67.0,69.0,174.0,40.0,117.0,null,174.0,82.0,73.0,73.0,67.0,118.0,130.0,100.0,80.0,70.0,103.0,78.0,80.0,79.0,73.0,70.0,207.0,98.0,68.0,100.0,91.0,82.0,null,123.0,177.0,91.0,88.0,180.0,102.0,74.0,174.0,190.0,82.0,190.0,88.0,70.0,165.0,114.0,103.0,70.0,74.0,88.0,218.0,118.0,147.0,75.0,90.0,null,190.0,68.0,37.0,73.0,81.0,85.0,89.0,null,85.0,78.0,140.0,88.0,67.0,88.0,258.0,103.0,245.0,117.0,82.0,98.0,86.0,88.0,74.0,158.0,138.0,null,118.0,120.0,157.0,184.0,104.0,91.0,308.0,100.0,62.0,194.0,186.0,58.0,46.0,47.0,97.0,47.0,67.0,81.0,98.0,90.0,123.0,117.0,81.0,126.0,75.0,126.0,121.0,67.0,180.0,118.0,74.0,98.0,88.0,265.0,108.0,108.0,67.0,110.0,85.0,null,187.0,74.0,null,70.0,184.0,126.0,83.0,81.0,184.0,73.0,68.0,258.0,116.0,184.0,89.0,46.0,74.0,73.0,73.0,88.0,98.0,171.0,150.0,74.0,123.0,110.0,88.0,241.0,74.0,74.0,90.0,81.0,55.0,null,136.0,67.0,76.0,88.0,181.0,108.0,110.0,147.0,56.0,189.0,197.0,126.0,86.0,37.0,98.0,140.0,68.0,121.0,81.0,100.0,83.0,100.0,118.0,67.0,67.0,67.0,178.0,88.0,121.0,100.0,85.0,170.0,81.0,121.0,163.0,138.0,66.0,63.0,37.0,74.0,null,184.0,98.0,104.0,174.0,73.0,120.0,88.0,138.0,69.0,37.0,74.0,149.0,169.0,83.0,83.0,112.0,210.0,67.0,81.0,74.0,102.0,171.0,184.0,138.0,171.0,105.0,90.0,88.0,103.0,126.0,85.0,141.0,140.0,108.0,88.0,270.0,138.0,66.0,142.0,80.0,168.0,186.0,74.0,88.0,255.0,102.0,130.0,184.0,138.0,74.0,150.0,85.0,187.0,177.0,100.0,168.0,88.0,118.0,73.0,84.0,100.0,86.0,103.0,140.0,98.0,108.0,78.0,102.0,88.0,74.0,108.0,147.0,121.0,117.0,98.0,103.0,236.0,47.0,88.0,121.0,224.0,105.0,126.0,99.0,113.0,35.0,65.0,203.0,108.0,74.0,73.0,140.0,74.0,85.0,null,102.0,98.0,73.0,88.0,85.0,126.0,241.0,46.0,98.0,167.0,126.0,67.0,148.0,117.0,181.0,67.0,126.0,80.0,141.0,177.0,73.0,201.0,null,82.0,78.0,138.0,138.0,245.0,171.0,67.0,55.0,86.0,47.0,62.0,117.0,103.0,81.0,55.0,83.0,76.0,250.0,75.0,138.0,88.0,117.0,117.0,37.0,88.0,147.0,140.0,98.0,80.0,67.0,138.0,91.0,120.0,74.0,91.0,90.0,88.0,140.0,80.0,126.0,68.0,67.0,73.0,74.0,66.0,78.0,110.0,210.0,74.0,37.0,88.0,121.0,190.0,70.0,89.0,91.0,167.0,98.0,174.0,70.0,224.0,100.0,97.0,138.0,92.0,98.0,73.0,73.0,102.0,66.0,null,118.0,82.0,177.0,120.0,186.0,157.0,147.0,120.0,121.0,90.0,78.0,78.0,98.0,67.0,86.0,80.0,103.0,66.0,204.0,102.0,55.0,85.0,null,241.0,81.0,86.0,85.0,81.0,112.0,189.0,67.0,73.0,82.0,170.0,121.0,67.0,100.0,100.0,88.0,190.0,254.0,254.0,81.0,157.0,78.0,90.0,120.0,86.0,81.0,143.0,110.0,171.0,184.0,168.0,88.0,68.0,80.0,187.0,181.0,81.0,83.0,94.0,85.0,35.0,68.0,167.0,93.0,93.0,67.0,88.0,82.0,100.0,62.0,184.0,197.0,103.0,99.0,74.0,118.0,97.0,85.0,68.0,75.0,81.0,74.0,89.0,73.0,82.0,153.0,73.0,100.0,306.0,108.0,67.0,88.0,46.0,67.0,73.0,108.0,64.0,102.0,130.0,140.0,64.0,67.0,240.0,74.0,67.0,80.0,190.0,88.0,82.0,254.0,163.0,165.0,73.0,186.0,81.0,68.0,74.0,81.0,85.0,74.0,88.0,81.0,86.0,121.0,116.0,121.0,140.0,58.0,102.0,74.0,67.0,81.0,98.0,181.0,70.0,73.0,89.0,90.0,140.0,168.0,81.0,73.0,74.0,73.0,78.0,81.0,203.0,67.0,35.0,157.0,103.0,126.0,74.0,55.0,174.0,100.0,254.0,71.0,177.0,103.0,80.0,126.0,68.0,81.0,126.0,82.0,174.0,85.0,80.0,77.0,126.0,170.0,88.0,138.0,140.0,190.0,88.0,254.0,163.0,80.0,86.0,84.0,73.0,78.0,147.0,68.0,88.0,98.0,122.0,81.0,78.0,74.0,90.0,100.0,112.0,112.0,92.0,68.0,71.0,67.0,78.0,83.0,190.0,82.0,null,62.0,117.0,103.0,169.0,118.0,190.0,174.0,73.0,103.0,98.0,140.0,103.0,171.0,123.0,73.0,91.0,88.0,100.0,85.0,171.0,69.0,82.0,68.0,73.0,68.0,152.0,88.0,258.0,81.0,85.0,108.0,117.0,88.0,75.0,126.0,241.0,55.0,68.0,73.0,84.0,88.0,80.0,241.0,184.0,174.0,66.0,170.0,91.0,74.0,75.0,218.0,116.0,125.0,58.0,34.0,174.0,81.0,98.0,157.0,100.0,147.0,85.0,73.0,140.0,79.0,98.0,258.0,174.0,190.0,80.0,126.0,174.0,364.0,78.0,98.0,103.0,73.0,120.0,88.0,46.0,78.0,120.0,75.0,258.0,98.0,170.0,140.0,117.0,74.0,170.0,118.0,83.0,82.0,91.0,130.0,126.0,143.0,121.0,90.0,98.0,126.0,101.0,78.0,88.0,100.0,136.0,46.0,170.0,74.0,82.0,168.0,132.0,98.0,86.0,171.0,85.0,320.0,160.0,67.0,108.0,91.0,126.0,103.0,170.0,177.0,67.0,320.0,190.0,103.0,74.0,147.0,90.0,73.0,170.0,88.0,70.0,86.0,88.0,118.0,120.0,81.0,null,75.0,66.0,224.0,190.0,103.0,147.0,68.0,126.0,147.0,82.0,73.0,53.0,118.0,81.0,75.0,74.0,84.0,187.0,88.0,167.0,70.0,194.0,120.0,108.0,140.0,73.0,112.0,67.0,64.0,103.0,147.0,100.0,73.0,88.0,89.0,70.0,117.0,102.0,55.0,78.0,185.0,62.0,138.0,81.0,147.0,68.0,104.0,82.0,85.0,120.0,120.0,46.0,108.0,null,81.0,100.0,261.0,142.0,108.0,67.0,174.0,170.0,105.0,86.0,126.0,68.0,100.0,85.0,94.0,140.0,67.0,79.0,179.0,113.0,null,88.0,98.0,79.0,140.0,99.0,126.0,117.0,78.0,190.0,147.0,152.0,81.0,88.0,117.0,313.0,67.0,148.0,68.0,102.0,73.0,362.0,null,194.0,81.0,117.0,550.0,100.0,125.0,77.0,215.0,47.0,174.0,67.0,140.0,168.0,55.0,201.0,126.0,118.0,174.0,60.0,46.0,83.0,140.0,94.0,81.0,167.0,117.0,110.0,83.0,78.0,102.0,83.0,241.0,194.0,null,118.0,90.0,63.0,174.0,215.0,181.0,67.0,88.0,177.0,88.0,69.0,67.0,55.0,153.0,158.0,103.0,91.0,55.0,174.0,140.0,74.0,73.0,201.0,108.0,85.0,100.0,121.0,88.0,140.0,117.0,187.0,68.0,150.0,null,174.0,86.0,118.0,73.0,120.0,116.0,103.0,140.0,105.0,83.0,98.0,103.0,47.0,255.0,117.0,108.0,46.0,174.0,90.0,68.0,88.0,126.0,152.0,73.0,132.0,204.0,83.0,86.0,181.0,85.0,67.0,34.0,88.0,90.0,158.0,67.0,198.0,83.0,88.0,120.0,74.0,80.0,164.0,67.0,190.0,67.0,170.0,47.0,85.0,82.0,90.0,163.0,87.0,168.0,103.0,86.0,73.0,73.0,67.0,67.0,140.0,82.0,89.0,80.0,117.0,118.0,67.0,103.0,171.0,80.0,73.0,174.0,102.0,130.0,84.0,147.0,85.0,174.0,203.0,90.0,81.0,103.0,85.0,91.0,118.0,126.0,98.0,35.0,81.0,224.0,47.0,70.0,147.0,177.0,194.0,190.0,68.0,null,187.0,null,46.0,171.0,null,110.0,83.0,112.0,121.0,68.0,98.0,108.0,98.0,241.0,174.0,62.0,184.0,67.0,81.0,123.0,88.0,174.0,86.0,110.0,67.0,241.0,167.0,74.0,65.0,103.0,35.0,118.0,86.0,88.0,110.0,147.0,143.0,138.0,120.0,121.0,100.0,184.0,null,241.0,46.0,80.0,149.0,88.0,258.0,78.0,108.0,117.0,81.0,138.0,81.0,140.0,258.0,67.0,103.0,37.0,81.0,98.0,null,149.0,73.0,258.0,88.0,75.0,103.0,184.0,83.0,174.0,null,125.0,78.0,90.0,98.0,126.0,136.0,88.0,null,83.0,74.0,95.0,89.0,140.0,79.0,121.0,82.0,108.0,81.0,78.0,183.0,170.0,183.0,126.0,93.0,74.0,78.0,138.0,82.0,189.0,125.0,138.0,163.0,140.0,null,189.0,67.0,73.0,73.0,78.0,66.0,58.0,67.0,98.0,55.0,103.0,88.0,203.0,138.0,88.0,62.0,70.0,88.0,80.0,140.0,157.0,91.0,126.0,null,118.0,157.0,90.0,121.0,80.0,88.0,88.0,200.0,83.0,136.0,53.0,86.0,168.0,118.0,75.0,170.0,88.0,186.0,121.0,73.0,88.0,86.0,152.0,62.0,107.0,86.0,168.0,121.0,271.0,190.0,88.0,68.0,64.0,81.0,118.0,167.0,78.0,171.0,158.0,68.0,81.0,81.0,68.0,55.0,73.0,118.0,74.0,null,55.0,88.0,57.0,190.0,170.0,67.0,81.0,68.0,null,74.0,73.0,84.0,121.0,174.0,85.0,63.0,75.0,98.0,103.0,108.0,174.0,100.0,88.0,171.0,184.0,118.0,118.0,74.0,190.0,76.0,83.0,88.0,136.0,98.0,100.0,270.0,88.0,57.0,177.0,46.0,141.0,102.0,174.0,88.0,82.0,125.0,153.0,80.0,121.0,35.0,47.0,167.0,68.0,177.0,108.0,null,130.0,154.0,62.0,null,142.0,88.0,67.0,241.0,174.0,74.0,110.0,194.0,190.0,70.0,78.0,85.0,62.0,313.0,85.0,105.0,74.0,74.0,141.0,108.0,120.0,190.0,64.0,64.0,81.0,null,255.0,178.0,null,84.0,241.0,136.0,88.0,73.0,108.0,241.0,67.0,98.0,55.0,265.0,null,170.0,154.0,100.0,85.0,308.0,79.0,85.0,88.0,83.0,86.0,174.0,66.0,98.0,102.0,55.0,53.0,74.0,118.0,215.0,168.0,170.0,74.0,126.0,120.0,68.0,100.0,171.0,100.0,74.0,126.0,100.0,103.0,80.0,184.0,78.0,78.0,null,86.0,67.0,82.0,73.0,78.0,177.0,174.0,83.0,199.0,67.0,130.0,81.0,67.0,241.0,81.0,83.0,78.0,null,83.0,138.0,80.0,74.0,55.0,170.0,189.0,35.0,88.0,126.0,55.0,190.0,86.0,73.0,184.0,74.0,74.0,97.0,163.0,85.0,69.0,70.0,74.0,68.0,83.0,null,70.0,86.0,163.0,47.0,103.0,88.0,102.0,126.0,103.0,117.0,83.0,null,82.0,81.0,58.0,82.0,null,81.0,83.0,73.0,102.0,37.0,86.0,81.0,117.0,98.0,126.0,83.0,174.0,98.0,235.0,70.0,67.0,68.0,103.0,300.0,183.0,201.0,91.0,89.0,70.0,67.0,85.0,88.0,null,197.0,170.0,78.0,118.0,141.0,69.0,67.0,126.0,66.0,67.0,117.0,78.0,262.0,88.0,67.0,157.0,68.0,98.0,204.0,136.0,163.0,246.0,126.0,190.0,126.0,67.0,68.0,82.0,70.0,100.0,181.0,81.0,58.0,88.0,116.0,112.0,62.0,250.0,88.0,74.0,86.0,187.0,189.0,55.0,241.0,81.0,74.0,89.0,67.0,103.0,88.0,88.0,88.0,108.0,116.0,86.0,103.0,110.0,88.0,83.0,158.0,85.0,73.0,74.0,83.0,82.0,68.0,126.0,null,68.0,88.0,130.0,46.0,190.0,140.0,73.0,88.0,73.0,85.0,126.0,67.0,47.0,194.0,55.0,82.0,121.0,86.0,81.0,167.0,74.0,74.0,57.0,157.0,167.0,147.0,78.0,98.0,88.0,254.0,120.0,83.0,83.0,123.0,121.0,118.0,103.0,86.0,74.0,118.0,184.0,157.0,null,46.0,90.0,110.0,63.0,86.0,184.0,258.0,81.0,83.0,112.0,78.0,80.0,107.0,138.0,258.0,215.0,126.0,100.0,120.0,53.0,67.0,85.0,105.0,47.0,85.0,90.0,174.0,254.0,68.0,67.0,117.0,81.0,98.0,85.0,85.0,140.0,88.0,126.0,82.0,86.0,81.0,184.0,138.0,103.0,85.0,108.0,190.0,91.0,67.0,76.0,140.0,88.0,190.0,74.0,190.0,69.0,140.0,241.0,177.0,121.0,194.0,null,67.0,64.0,82.0,157.0,83.0,67.0,34.0,78.0,67.0,107.0,103.0,120.0,174.0,56.0,102.0,83.0,67.0,74.0,82.0,103.0,174.0,73.0,62.0,190.0,55.0,74.0,88.0,86.0,103.0,67.0,88.0,73.0,98.0,187.0,69.0,108.0,187.0,108.0,103.0,99.0,70.0,167.0,168.0,118.0,81.0,103.0,141.0,121.0,null,90.0,100.0,108.0,68.0,300.0,126.0,140.0,140.0,174.0,74.0,91.0,55.0,198.0,177.0,73.0,301.0,75.0,62.0,102.0,81.0,198.0,68.0,86.0,81.0,170.0,81.0,171.0,103.0,147.0,68.0,67.0,63.0,187.0,181.0,94.0,67.0,187.0,179.0,63.0,86.0,83.0,100.0,86.0,204.0,78.0,171.0,170.0,88.0,74.0,62.0,67.0,89.0,90.0,98.0,140.0,63.0,167.0,90.0,74.0,85.0,69.0,98.0,81.0,88.0,82.0,67.0,82.0,170.0,73.0,86.0,184.0,184.0,116.0,162.0,74.0,74.0,86.0,82.0,74.0,55.0,81.0,181.0,89.0,85.0,90.0,81.0,394.0,75.0,86.0,79.0,121.0,78.0,85.0,98.0,170.0,121.0,102.0,67.0,88.0,46.0,66.0,235.0,82.0,80.0,130.0,78.0,170.0,88.0,118.0,74.0,81.0,121.0,73.0,168.0,170.0,81.0,58.0,138.0,73.0,69.0,74.0,67.0,258.0,74.0,138.0,181.0,70.0,98.0,112.0,108.0,171.0,126.0,140.0,53.0,81.0,116.0,197.0,157.0,190.0,80.0,73.0,null,171.0,88.0,84.0,117.0,170.0,203.0,74.0,93.0,121.0,147.0,62.0,167.0,78.0,73.0,88.0,83.0,75.0,254.0,73.0,110.0,121.0,70.0,74.0,63.0,74.0,190.0,103.0,null,241.0,88.0,98.0,272.0,241.0,118.0,100.0,103.0,138.0,103.0,55.0,108.0,74.0,138.0,100.0,69.0,103.0,197.0,53.0,90.0,106.0,87.0,120.0,174.0,73.0,190.0,84.0,177.0,110.0,34.0,117.0,241.0,68.0,88.0,201.0,58.0,98.0,80.0,117.0,63.0,68.0,75.0,null,177.0,157.0,35.0,88.0,126.0,74.0,74.0,102.0,71.0,88.0,197.0,88.0,67.0,73.0,58.0,118.0,85.0,184.0,90.0,140.0,78.0,83.0,88.0,70.0,67.0,103.0,93.0,340.0,73.0,74.0,121.0,68.0,204.0,60.0,78.0,98.0,148.0,86.0,80.0,120.0,88.0,82.0,270.0,187.0,140.0,118.0,174.0,108.0,85.0,73.0,35.0,81.0,37.0,147.0,74.0,47.0,113.0,140.0,158.0,110.0,82.0,82.0,83.0,88.0,170.0,163.0,73.0,81.0,73.0,126.0,270.0,157.0,67.0,73.0,130.0,63.0,67.0,74.0,121.0,82.0,63.0,81.0,103.0,168.0,null,171.0,107.0,55.0,126.0,113.0,108.0,197.0,138.0,155.0,261.0,64.0,117.0,74.0,117.0,88.0,108.0,73.0,73.0,140.0,86.0,165.0,88.0,102.0,85.0,121.0,117.0,86.0,117.0,187.0,117.0,231.0,70.0,168.0,66.0,83.0,116.0,63.0,126.0,37.0,140.0,88.0,98.0,126.0,201.0,168.0,181.0,203.0,180.0,98.0,73.0,85.0,138.0,335.0,74.0,170.0,81.0,88.0,null,73.0,130.0,88.0,121.0,102.0,118.0,94.0,83.0,88.0,126.0,98.0,147.0,103.0,174.0,74.0,74.0,100.0,108.0,333.0,98.0,254.0,73.0,88.0,62.0,null,83.0,88.0,140.0,46.0,113.0,140.0,62.0,74.0,107.0,53.0,74.0,60.0,82.0,88.0,140.0,85.0,174.0,null,170.0,117.0,102.0,79.0,58.0,88.0,75.0,91.0,168.0,99.0,88.0,47.0,86.0,110.0,100.0,126.0,67.0,198.0,126.0,88.0,103.0,140.0,100.0,142.0,88.0,162.0,168.0,88.0,126.0,78.0,34.0,86.0,130.0,136.0,157.0,88.0,89.0,224.0,70.0,105.0,56.0,100.0,80.0,67.0,138.0,78.0,86.0,85.0,98.0,74.0,402.0,118.0,168.0,68.0,90.0,103.0,83.0,90.0,203.0,82.0,90.0,53.0,82.0,103.0,163.0,108.0,126.0,67.0,67.0,88.0,163.0,184.0,103.0,78.0,107.0,98.0,67.0,75.0,82.0,70.0,81.0,103.0,117.0,108.0,98.0,100.0,181.0,68.0,83.0,170.0,88.0,261.0,98.0,126.0,74.0,108.0,86.0,86.0,187.0,258.0,78.0,81.0,90.0,110.0,121.0,61.0,68.0,174.0,74.0,184.0,117.0,90.0,88.0,null,152.0,107.0,140.0,63.0,99.0,187.0,47.0,88.0,80.0,78.0,74.0,55.0,190.0,70.0,47.0,73.0,138.0,62.0,81.0,84.0,88.0,75.0,68.0,141.0,108.0,78.0,88.0,86.0,107.0,174.0,132.0,74.0,83.0,98.0,null,89.0,88.0,81.0,102.0,203.0,64.0,158.0,81.0,88.0,73.0,153.0,81.0,85.0,258.0,89.0,58.0,98.0,70.0,108.0,78.0,88.0,88.0,144.0,73.0,73.0,88.0,81.0,83.0,82.0,181.0,89.0,108.0,177.0,92.0,74.0,93.0,80.0,140.0,126.0,160.0,81.0,81.0,73.0,103.0,126.0,57.0,171.0,81.0,241.0,300.0,117.0,100.0,140.0,198.0,126.0,67.0,88.0,71.0,74.0,140.0,190.0,138.0,88.0,82.0,47.0,67.0,67.0,118.0,86.0,88.0,121.0,38.0,86.0,82.0,117.0,140.0,null,170.0,108.0,74.0,null,282.0,null,271.0,74.0,98.0,181.0,88.0,169.0,85.0,79.0,82.0,70.0,null,88.0,174.0,116.0,88.0,88.0,83.0,187.0,82.0,118.0,140.0,170.0,140.0,120.0,67.0,120.0,86.0,98.0,65.0,73.0,40.0,105.0,147.0,184.0,138.0,68.0,184.0,103.0,103.0,73.0,88.0,138.0,88.0,80.0,136.0,100.0,82.0,171.0,118.0,187.0,68.0,136.0,74.0,99.0,126.0,83.0,85.0,271.0,190.0,73.0,121.0,170.0,142.0,73.0,108.0,55.0,null,258.0,88.0,86.0,68.0,130.0,57.0,88.0,70.0,81.0,68.0,86.0,179.0,78.0,53.0,140.0,47.0,117.0,186.0,241.0,74.0,88.0,118.0,118.0,118.0,103.0,74.0,88.0,81.0,70.0,117.0,103.0,198.0,194.0,46.0,134.0,88.0,68.0,118.0,null,126.0,121.0,89.0,241.0,190.0,99.0,121.0,68.0,174.0,null,98.0,174.0,53.0,62.0,103.0,184.0,null,74.0,73.0,88.0,70.0,67.0,88.0,104.0,83.0,73.0,126.0,62.0,81.0,71.0,88.0,86.0,201.0,153.0,71.0,89.0,37.0,86.0,88.0,78.0,null,140.0,103.0,138.0,180.0,73.0,74.0,83.0,140.0,82.0,167.0,160.0,88.0,81.0,74.0,117.0,235.0,106.0,103.0,83.0,118.0,103.0,82.0,68.0,71.0,98.0,117.0,108.0,190.0,103.0,78.0,73.0,73.0,140.0,67.0,126.0,170.0,190.0,98.0,126.0,118.0,68.0,74.0,204.0,147.0,102.0,100.0,117.0,174.0,73.0,121.0,100.0,100.0,85.0,47.0,224.0,74.0,88.0,215.0,168.0,90.0,174.0,108.0,67.0,null,78.0,190.0,82.0,82.0,81.0,74.0,78.0,136.0,35.0,121.0,47.0,88.0,140.0,88.0,81.0,157.0,46.0,86.0,255.0,70.0,130.0,70.0,37.0,67.0,88.0,67.0,184.0,67.0,157.0,112.0,140.0,85.0,123.0,87.0,80.0,108.0,198.0,100.0,99.0,82.0,103.0,82.0,126.0,81.0,110.0,78.0,112.0,67.0,63.0,147.0,171.0,88.0,74.0,126.0,46.0,88.0,55.0,102.0,55.0,88.0,203.0,174.0,101.0,184.0,100.0,203.0,null,78.0,82.0,86.0,88.0,73.0,100.0,66.0,141.0,147.0,null,98.0,88.0,82.0,270.0,86.0,179.0,81.0,73.0,135.0,67.0,46.0,67.0,92.0,73.0,84.0,80.0,82.0,67.0,140.0,168.0,108.0,62.0,121.0,177.0,130.0,187.0,67.0,88.0,190.0,74.0,121.0,88.0,94.0,80.0,121.0,46.0,120.0,67.0,80.0,73.0,148.0,190.0,86.0,134.0,73.0,140.0,68.0,91.0,102.0,82.0,123.0,162.0,140.0,117.0,89.0,81.0,136.0,55.0,40.0,88.0,74.0,46.0,67.0,89.0,108.0,142.0,75.0,140.0,88.0,117.0,67.0,null,93.0,75.0,118.0,88.0,184.0,88.0,73.0,103.0,140.0,82.0,118.0,102.0,140.0,73.0,103.0,null,147.0,93.0,138.0,37.0,118.0,85.0,158.0,70.0,171.0,78.0,82.0,74.0,177.0,170.0,73.0,74.0,130.0,88.0,126.0,168.0,103.0,66.0,88.0,62.0,94.0,55.0,102.0,74.0,103.0,85.0,117.0,null,86.0,67.0,215.0,64.0,171.0,103.0,89.0,67.0,210.0,88.0,65.0,37.0,170.0,67.0,141.0,74.0,88.0,170.0,68.0,138.0,118.0,70.0,88.0,60.0,171.0,88.0,53.0,80.0,67.0,88.0,98.0,118.0,85.0,97.0,177.0,140.0,81.0,63.0,91.0,103.0,80.0,138.0,98.0,81.0,203.0,100.0,88.0,167.0,82.0,67.0,98.0,74.0,121.0,67.0,86.0,86.0,171.0,69.0,99.0,74.0,63.0,141.0,138.0,241.0,80.0,181.0,88.0,116.0,null,68.0,180.0,88.0,187.0,121.0,117.0,82.0,86.0,88.0,163.0,66.0,null,46.0,140.0,74.0,184.0,140.0,184.0,85.0,88.0,74.0,178.0,138.0,126.0,108.0,75.0,67.0,121.0,183.0,152.0,89.0,204.0,70.0,68.0,126.0,66.0,73.0,117.0,100.0,272.0,103.0,110.0,67.0,103.0,215.0,67.0,70.0,117.0,118.0,66.0,138.0,88.0,184.0,78.0,88.0,261.0,126.0,174.0,147.0,103.0,67.0,444.0,91.0,174.0,68.0,123.0,118.0,187.0,81.0,190.0,107.0,86.0,81.0,68.0,171.0,68.0,80.0,null,86.0,255.0,null,78.0,73.0,100.0,88.0,125.0,100.0,67.0,141.0,117.0,126.0,118.0,67.0,88.0,67.0,241.0,175.0,81.0,103.0,81.0,73.0,258.0,73.0,83.0,177.0,174.0,74.0,73.0,175.0,91.0,83.0,55.0,152.0,121.0,138.0,103.0,73.0,174.0,118.0,67.0,175.0,177.0,126.0,46.0,116.0,53.0,138.0,120.0,103.0,98.0,121.0,174.0,83.0,80.0,117.0,67.0,272.0,78.0,78.0,204.0,55.0,67.0,118.0,210.0,69.0,121.0,67.0,73.0,70.0,73.0,78.0,73.0,null,157.0,75.0,140.0,78.0,140.0,121.0,98.0,73.0,67.0,55.0,171.0,121.0,67.0,254.0,67.0,120.0,53.0,75.0,126.0,85.0,140.0,86.0,67.0,68.0,126.0,126.0,73.0,126.0,83.0,126.0,74.0,80.0,300.0,73.0,190.0,88.0,81.0,103.0,174.0,68.0,138.0,100.0,68.0,102.0,79.0,102.0,180.0,77.0,73.0,132.0,120.0,258.0,98.0,73.0,140.0,103.0,117.0,174.0,118.0,81.0,47.0,68.0,62.0,67.0,98.0,116.0,98.0,121.0,67.0,203.0,241.0,64.0,108.0,120.0,197.0,67.0,null,78.0,86.0,67.0,147.0,165.0,67.0,187.0,53.0,47.0,100.0,138.0,99.0,86.0,92.0,120.0,210.0,120.0,147.0,79.0,74.0,125.0,241.0,55.0,88.0,110.0,108.0,116.0,46.0,78.0,62.0,103.0,174.0,88.0,121.0,79.0,53.0,81.0,157.0,74.0,67.0,141.0,118.0,218.0,177.0,100.0,67.0,88.0,107.0,112.0,98.0,53.0,53.0,241.0,126.0,171.0,80.0,73.0,103.0,78.0,103.0,94.0,138.0,204.0,81.0,78.0,68.0,74.0,178.0,140.0,138.0,67.0,88.0,62.0,103.0,88.0,74.0,68.0,140.0,88.0,140.0,88.0,198.0,104.0,67.0,67.0,68.0,138.0,80.0,171.0,86.0,138.0,204.0,168.0,103.0,98.0,138.0,100.0,190.0,74.0,77.0,90.0,81.0,82.0,86.0,81.0,103.0,88.0,103.0,80.0,86.0,117.0,37.0,364.0,64.0,157.0,241.0,81.0,102.0,154.0,136.0,147.0,null,74.0,100.0,null,79.0,68.0,170.0,88.0,102.0,313.0,108.0,55.0,158.0,138.0,157.0,98.0,138.0,67.0,86.0,67.0,91.0,88.0,147.0,88.0,270.0,82.0,245.0,71.0,140.0,91.0,102.0,170.0,78.0,78.0,74.0,64.0,258.0,335.0,245.0,85.0,84.0,138.0,67.0,138.0,174.0,88.0,82.0,69.0,74.0,103.0,84.0,117.0,86.0,174.0,103.0,103.0,118.0,67.0,193.0,98.0,58.0,165.0,47.0,81.0,89.0,184.0,245.0,86.0,110.0,270.0,138.0,78.0,170.0,108.0,141.0,70.0,86.0,70.0,163.0,53.0,55.0,47.0,73.0,78.0,97.0,138.0,110.0,47.0,88.0,126.0,241.0,69.0,62.0,81.0,169.0,81.0,118.0,81.0,102.0,395.0,171.0,64.0,74.0,91.0,67.0,83.0,107.0,67.0,48.0,81.0,67.0,81.0,81.0,121.0,147.0,88.0,86.0,87.0,98.0,241.0,67.0,98.0,152.0,121.0,194.0,78.0,68.0,78.0,71.0,174.0,68.0,83.0,105.0,108.0,241.0,121.0,170.0,98.0,68.0,82.0,47.0,258.0,88.0,73.0,140.0,200.0,78.0,171.0,37.0,108.0,241.0,117.0,108.0,86.0,86.0,154.0,73.0,118.0,184.0,105.0,85.0,187.0,82.0,102.0,73.0,140.0,102.0,163.0,103.0,81.0,67.0,175.0,194.0,140.0,102.0,254.0,120.0,118.0,224.0,118.0,67.0,65.0,80.0,90.0,66.0,181.0,138.0,108.0,73.0,190.0,97.0,67.0,85.0,174.0,110.0,98.0,98.0,174.0,103.0,190.0,181.0,121.0,190.0,167.0,74.0,67.0,187.0,335.0,88.0,37.0,47.0,67.0,71.0,76.0,187.0,167.0,88.0,107.0,88.0,67.0,55.0,88.0,126.0,138.0,88.0,null,100.0,203.0,88.0,150.0,80.0,68.0,69.0,55.0,62.0,62.0,120.0,117.0,88.0,174.0,203.0,130.0,81.0,174.0,98.0,68.0,74.0,153.0,70.0,190.0,203.0,73.0,null,98.0,60.0,80.0,235.0,126.0,74.0,74.0,73.0,86.0,258.0,167.0,82.0,126.0,218.0,63.0,103.0,88.0,140.0,75.0,74.0,87.0,98.0,450.0,73.0,null,187.0,101.0,126.0,67.0,88.0,88.0,104.0,53.0,112.0,55.0,98.0,73.0,118.0,168.0,86.0,143.0,67.0,100.0,187.0,88.0,184.0,103.0,103.0,98.0,140.0,67.0,62.0,224.0,46.0,117.0,194.0,136.0,102.0,181.0,85.0,103.0,93.0,82.0,126.0,241.0,140.0,110.0,71.0,103.0,210.0,78.0,174.0,88.0,88.0,118.0,88.0,46.0,67.0,126.0,46.0,103.0,83.0,115.0,153.0,174.0,116.0,421.0,117.0,74.0,138.0,67.0,67.0,null,184.0,187.0,80.0,147.0,81.0,86.0,165.0,47.0,171.0,82.0,258.0,null,80.0,82.0,null,89.0,null,74.0,67.0,82.0,130.0,100.0,94.0,47.0,387.0,89.0,81.0,103.0,174.0,140.0,121.0,103.0,92.0,67.0,86.0,100.0,108.0,140.0,82.0,157.0,62.0,88.0,98.0,117.0,112.0,138.0,null,157.0,67.0,68.0,84.0,83.0,103.0,81.0,68.0,130.0,47.0,177.0,179.0,198.0,118.0,152.0,88.0,67.0,126.0,88.0,55.0,93.0,103.0,100.0,73.0,40.0,136.0,194.0,74.0,81.0,112.0,82.0,103.0,177.0,281.0,107.0,126.0,46.0,143.0,83.0,68.0,126.0,68.0,103.0,150.0,126.0,258.0,68.0,171.0,88.0,88.0,190.0,103.0,80.0,235.0,82.0,203.0,147.0,78.0,126.0,138.0,140.0,35.0,177.0,74.0,120.0,183.0,105.0,108.0,167.0,147.0,103.0,306.0,126.0,83.0,53.0,245.0,450.0,47.0,73.0,67.0,121.0,67.0,194.0,103.0,98.0,null,74.0,103.0,198.0,120.0,84.0,85.0,55.0,86.0,75.0,46.0,190.0,74.0,67.0,81.0,88.0,147.0,86.0,120.0,98.0,184.0,62.0,68.0,81.0,170.0,141.0,190.0,55.0,187.0,86.0,67.0,47.0,167.0,68.0,71.0,98.0,75.0,74.0,174.0,308.0,140.0,141.0,53.0,83.0,71.0,130.0,81.0,108.0,81.0,85.0,67.0,88.0,168.0,78.0,82.0,81.0,null,88.0,98.0,203.0,90.0,68.0,74.0,306.0,74.0,57.0,86.0,68.0,67.0,170.0,null,86.0,83.0,55.0,90.0,197.0,117.0,88.0,102.0,103.0,116.0,126.0,71.0,170.0,68.0,105.0,100.0,110.0,121.0,58.0,81.0,140.0,67.0,203.0,147.0,121.0,103.0,74.0,121.0,70.0,100.0,70.0,245.0,73.0,168.0,174.0,98.0,335.0,120.0,147.0,57.0,187.0,103.0,74.0,171.0,74.0,118.0,203.0,75.0,99.0,78.0,null,46.0,null,81.0,170.0,52.0,47.0,193.0,73.0,81.0,120.0,75.0,184.0,37.0,100.0,86.0,83.0,120.0,218.0,87.0,117.0,126.0,74.0,91.0,89.0,67.0,88.0,140.0,100.0,88.0,88.0,73.0,126.0,79.0,98.0,157.0,265.0,143.0,74.0,74.0,102.0,184.0,218.0,140.0,118.0,139.0,88.0,90.0,67.0,108.0,190.0,80.0,73.0,68.0,118.0,74.0,70.0,245.0,74.0,117.0,74.0,70.0,73.0,null,115.0,171.0,98.0,88.0,74.0,103.0,115.0,47.0,73.0,98.0,74.0,174.0,117.0,86.0,88.0,108.0,88.0,75.0,78.0,70.0,102.0,78.0,148.0,208.0,83.0,74.0,174.0,74.0,171.0,171.0,177.0,74.0,70.0,170.0,37.0,101.0,47.0,171.0,47.0,55.0,90.0,74.0,74.0,88.0,86.0,85.0,67.0,121.0,89.0,null,141.0,187.0,140.0,74.0,80.0,78.0,163.0,181.0,134.0,186.0,73.0,117.0,88.0,81.0,138.0,84.0,215.0,138.0,126.0,73.0,73.0,67.0,503.0,170.0,126.0,102.0,81.0,126.0,168.0,168.0,167.0,170.0,47.0,67.0,167.0,85.0,67.0,103.0,90.0,140.0,85.0,201.0,103.0,70.0,81.0,74.0,88.0,103.0,90.0,88.0,69.0,170.0,254.0,null,116.0,80.0,168.0,82.0,105.0,110.0,55.0,75.0,88.0,74.0,46.0,126.0,170.0,88.0,86.0,98.0,67.0,60.0,88.0,118.0,203.0,98.0,203.0,140.0,78.0,82.0,241.0,120.0,88.0,138.0,140.0,73.0,73.0,174.0,67.0,116.0,81.0,53.0,136.0,89.0,81.0,100.0,84.0,74.0,66.0,85.0,136.0,93.0,67.0,73.0,89.0,98.0,138.0,140.0,47.0,265.0,55.0,74.0,58.0,147.0,157.0,88.0,139.0,117.0,97.0,null,103.0,121.0,126.0,140.0,103.0,158.0,83.0,70.0,88.0,157.0,81.0,67.0,88.0,67.0,67.0,120.0,102.0,73.0,68.0,83.0,139.0,67.0,103.0,140.0,68.0,62.0,108.0,100.0,140.0,110.0,138.0,138.0,245.0,74.0,82.0,88.0,117.0,118.0,138.0,98.0,140.0,138.0,null,190.0,98.0,82.0,118.0,73.0,68.0,82.0,126.0,121.0,82.0,174.0,118.0,121.0,241.0,78.0,80.0,85.0,69.0,235.0,74.0,94.0,103.0,181.0,102.0,204.0,126.0,73.0,88.0,82.0,98.0,53.0,67.0,67.0,84.0,90.0,147.0,74.0,73.0,117.0,80.0,194.0,null,67.0,121.0,52.0,103.0,67.0,136.0,47.0,197.0,88.0,103.0,91.0,224.0,74.0,168.0,67.0,181.0,100.0,114.0,74.0,88.0,100.0,78.0,81.0,306.0,78.0,181.0,86.0,91.0,73.0,73.0,184.0,241.0,99.0,190.0,224.0,64.0,83.0,81.0,76.0,88.0,115.0,174.0,187.0,73.0,120.0,74.0,55.0,120.0,142.0,74.0,73.0,70.0,197.0,73.0,74.0,81.0,85.0,190.0,78.0,78.0,98.0,67.0,88.0,102.0,117.0,85.0,85.0,98.0,81.0,118.0,382.0,86.0,130.0,81.0,126.0,174.0,47.0,177.0,78.0,108.0,73.0,91.0,103.0,71.0,130.0,78.0,62.0,117.0,73.0,108.0,66.0,174.0,140.0,74.0,170.0,147.0,118.0,74.0,108.0,74.0,81.0,190.0,74.0,165.0,74.0,126.0,37.0,85.0,81.0,80.0,91.0,187.0,70.0,88.0,140.0,177.0,37.0,126.0,69.0,98.0,140.0,190.0,81.0,83.0,126.0,88.0,181.0,73.0,106.0,89.0,81.0,86.0,98.0,177.0,241.0,70.0,63.0,82.0,55.0,186.0,187.0,184.0,91.0,272.0,81.0,335.0,108.0,126.0,138.0,190.0,110.0,74.0,194.0,53.0,70.0,null,67.0,140.0,147.0,103.0,88.0,60.0,68.0,88.0,98.0,169.0,140.0,null,68.0,88.0,197.0,99.0,66.0,57.0,164.0,108.0,136.0,88.0,80.0,81.0,73.0,118.0,94.0,103.0,70.0,98.0,67.0,null,258.0,174.0,282.0,73.0,125.0,120.0,67.0,168.0,64.0,37.0,80.0,190.0,140.0,105.0,70.0,37.0,68.0,105.0,187.0,98.0,67.0,82.0,147.0,88.0,67.0,126.0,86.0,88.0,67.0,147.0,88.0,78.0,74.0,70.0,78.0,258.0,126.0,82.0,73.0,120.0,68.0,138.0,130.0,67.0,74.0,168.0,74.0,58.0,73.0,82.0,53.0,64.0,68.0,240.0,67.0,103.0,120.0,190.0,118.0,189.0,175.0,73.0,552.0,88.0,102.0,178.0,167.0,89.0,78.0,78.0,null,147.0,102.0,80.0,null,75.0,308.0,118.0,98.0,171.0,187.0,126.0,56.0,171.0,74.0,126.0,255.0,98.0,121.0,103.0,98.0,121.0,68.0,258.0,107.0,83.0,85.0,82.0,136.0,190.0,121.0,53.0,241.0,88.0,90.0,190.0,126.0,88.0,103.0,190.0,152.0,108.0,81.0,138.0,126.0,88.0,88.0,121.0,73.0,73.0,104.0,98.0,108.0,174.0,181.0,67.0,88.0,167.0,184.0,70.0,126.0,103.0,130.0,168.0,78.0,84.0,190.0,123.0,78.0,106.0,170.0,98.0,190.0,100.0,394.0,84.0,74.0,81.0,138.0,180.0,117.0,121.0,67.0,74.0,208.0,67.0,68.0,121.0,88.0,187.0,90.0,82.0,169.0,83.0,121.0,78.0,69.0,177.0,74.0,141.0,102.0,118.0,121.0,67.0,157.0,84.0,118.0,88.0,104.0,86.0,73.0,74.0,153.0,94.0,67.0,88.0,121.0,88.0,null,84.0,103.0,73.0,103.0,168.0,126.0,82.0,58.0,98.0,37.0,70.0,83.0,116.0,110.0,121.0,53.0,67.0,82.0,81.0,86.0,68.0,126.0,67.0,88.0,126.0,136.0,177.0,57.0,73.0,88.0,116.0,108.0,81.0,67.0,47.0,110.0,83.0,73.0,198.0,73.0,57.0,103.0,35.0,178.0,210.0,56.0,99.0,117.0,136.0,88.0,67.0,147.0,68.0,154.0,258.0,121.0,108.0,92.0,147.0,88.0,117.0,82.0,47.0,70.0,46.0,100.0,78.0,117.0,60.0,67.0,68.0,86.0,94.0,126.0,74.0,120.0,163.0,138.0,120.0,190.0,272.0,157.0,86.0,78.0,117.0,70.0,102.0,64.0,82.0,81.0,127.0,73.0,258.0,174.0,83.0,194.0,163.0,204.0,62.0,58.0,88.0,117.0,83.0,184.0,98.0,83.0,70.0,null,168.0,147.0,83.0,null,68.0,241.0,190.0,117.0,67.0,86.0,120.0,108.0,126.0,84.0,140.0,103.0,120.0,103.0,83.0,313.0,174.0,81.0,83.0,103.0,78.0,560.0,270.0,85.0,74.0,88.0,81.0,100.0,84.0,53.0,102.0,204.0,116.0,78.0,126.0,86.0,74.0,78.0,63.0,108.0,100.0,138.0,110.0,254.0,83.0,103.0,78.0,82.0,67.0,66.0,98.0,161.0,82.0,83.0,82.0,98.0,97.0,99.0,130.0,53.0,86.0,88.0,88.0,138.0,67.0,103.0,98.0,88.0,75.0,53.0,98.0,147.0,74.0,98.0,100.0,89.0,73.0,88.0,83.0,70.0,141.0,74.0,170.0,85.0,99.0,218.0,62.0,141.0,174.0,99.0,93.0,67.0,102.0,70.0,81.0,82.0,81.0,67.0,67.0,168.0,105.0,null,88.0,224.0,108.0,74.0,103.0,174.0,245.0,67.0,53.0,143.0,88.0,null,157.0,194.0,80.0,147.0,82.0,175.0,201.0,58.0,67.0,81.0,74.0,272.0,110.0,98.0,67.0,88.0,88.0,64.0,46.0,null,121.0,67.0,88.0,88.0,108.0,73.0,170.0,89.0,58.0,91.0,89.0,74.0,153.0,108.0,147.0,168.0,74.0,103.0,140.0,73.0,66.0,98.0,94.0,184.0,83.0,488.0,126.0,204.0,103.0,174.0,120.0,null,37.0,241.0,100.0,103.0,83.0,93.0,47.0,88.0,89.0,58.0,103.0,120.0,99.0,100.0,73.0,53.0,141.0,null,123.0,126.0,258.0,103.0,106.0,79.0,174.0,118.0,88.0,68.0,168.0,170.0,100.0,100.0,98.0,138.0,74.0,140.0,73.0,181.0,121.0,204.0,67.0,93.0,103.0,102.0,183.0,88.0,62.0,126.0,73.0,81.0,64.0,60.0,112.0,134.0,80.0,83.0,153.0,73.0,186.0,null,83.0,84.0,83.0,187.0,138.0,74.0,157.0,147.0,118.0,83.0,187.0,58.0,73.0,88.0,82.0,174.0,103.0,67.0,83.0,88.0,224.0,73.0,300.0,158.0,86.0,262.0,102.0,98.0,74.0,71.0,112.0,67.0,57.0],\"xaxis\":\"x\",\"yaxis\":\"y\",\"type\":\"histogram\"}],                        {\"template\":{\"data\":{\"histogram2dcontour\":[{\"type\":\"histogram2dcontour\",\"colorbar\":{\"outlinewidth\":0,\"ticks\":\"\"},\"colorscale\":[[0.0,\"#0d0887\"],[0.1111111111111111,\"#46039f\"],[0.2222222222222222,\"#7201a8\"],[0.3333333333333333,\"#9c179e\"],[0.4444444444444444,\"#bd3786\"],[0.5555555555555556,\"#d8576b\"],[0.6666666666666666,\"#ed7953\"],[0.7777777777777778,\"#fb9f3a\"],[0.8888888888888888,\"#fdca26\"],[1.0,\"#f0f921\"]]}],\"choropleth\":[{\"type\":\"choropleth\",\"colorbar\":{\"outlinewidth\":0,\"ticks\":\"\"}}],\"histogram2d\":[{\"type\":\"histogram2d\",\"colorbar\":{\"outlinewidth\":0,\"ticks\":\"\"},\"colorscale\":[[0.0,\"#0d0887\"],[0.1111111111111111,\"#46039f\"],[0.2222222222222222,\"#7201a8\"],[0.3333333333333333,\"#9c179e\"],[0.4444444444444444,\"#bd3786\"],[0.5555555555555556,\"#d8576b\"],[0.6666666666666666,\"#ed7953\"],[0.7777777777777778,\"#fb9f3a\"],[0.8888888888888888,\"#fdca26\"],[1.0,\"#f0f921\"]]}],\"heatmap\":[{\"type\":\"heatmap\",\"colorbar\":{\"outlinewidth\":0,\"ticks\":\"\"},\"colorscale\":[[0.0,\"#0d0887\"],[0.1111111111111111,\"#46039f\"],[0.2222222222222222,\"#7201a8\"],[0.3333333333333333,\"#9c179e\"],[0.4444444444444444,\"#bd3786\"],[0.5555555555555556,\"#d8576b\"],[0.6666666666666666,\"#ed7953\"],[0.7777777777777778,\"#fb9f3a\"],[0.8888888888888888,\"#fdca26\"],[1.0,\"#f0f921\"]]}],\"heatmapgl\":[{\"type\":\"heatmapgl\",\"colorbar\":{\"outlinewidth\":0,\"ticks\":\"\"},\"colorscale\":[[0.0,\"#0d0887\"],[0.1111111111111111,\"#46039f\"],[0.2222222222222222,\"#7201a8\"],[0.3333333333333333,\"#9c179e\"],[0.4444444444444444,\"#bd3786\"],[0.5555555555555556,\"#d8576b\"],[0.6666666666666666,\"#ed7953\"],[0.7777777777777778,\"#fb9f3a\"],[0.8888888888888888,\"#fdca26\"],[1.0,\"#f0f921\"]]}],\"contourcarpet\":[{\"type\":\"contourcarpet\",\"colorbar\":{\"outlinewidth\":0,\"ticks\":\"\"}}],\"contour\":[{\"type\":\"contour\",\"colorbar\":{\"outlinewidth\":0,\"ticks\":\"\"},\"colorscale\":[[0.0,\"#0d0887\"],[0.1111111111111111,\"#46039f\"],[0.2222222222222222,\"#7201a8\"],[0.3333333333333333,\"#9c179e\"],[0.4444444444444444,\"#bd3786\"],[0.5555555555555556,\"#d8576b\"],[0.6666666666666666,\"#ed7953\"],[0.7777777777777778,\"#fb9f3a\"],[0.8888888888888888,\"#fdca26\"],[1.0,\"#f0f921\"]]}],\"surface\":[{\"type\":\"surface\",\"colorbar\":{\"outlinewidth\":0,\"ticks\":\"\"},\"colorscale\":[[0.0,\"#0d0887\"],[0.1111111111111111,\"#46039f\"],[0.2222222222222222,\"#7201a8\"],[0.3333333333333333,\"#9c179e\"],[0.4444444444444444,\"#bd3786\"],[0.5555555555555556,\"#d8576b\"],[0.6666666666666666,\"#ed7953\"],[0.7777777777777778,\"#fb9f3a\"],[0.8888888888888888,\"#fdca26\"],[1.0,\"#f0f921\"]]}],\"mesh3d\":[{\"type\":\"mesh3d\",\"colorbar\":{\"outlinewidth\":0,\"ticks\":\"\"}}],\"scatter\":[{\"fillpattern\":{\"fillmode\":\"overlay\",\"size\":10,\"solidity\":0.2},\"type\":\"scatter\"}],\"parcoords\":[{\"type\":\"parcoords\",\"line\":{\"colorbar\":{\"outlinewidth\":0,\"ticks\":\"\"}}}],\"scatterpolargl\":[{\"type\":\"scatterpolargl\",\"marker\":{\"colorbar\":{\"outlinewidth\":0,\"ticks\":\"\"}}}],\"bar\":[{\"error_x\":{\"color\":\"#2a3f5f\"},\"error_y\":{\"color\":\"#2a3f5f\"},\"marker\":{\"line\":{\"color\":\"#E5ECF6\",\"width\":0.5},\"pattern\":{\"fillmode\":\"overlay\",\"size\":10,\"solidity\":0.2}},\"type\":\"bar\"}],\"scattergeo\":[{\"type\":\"scattergeo\",\"marker\":{\"colorbar\":{\"outlinewidth\":0,\"ticks\":\"\"}}}],\"scatterpolar\":[{\"type\":\"scatterpolar\",\"marker\":{\"colorbar\":{\"outlinewidth\":0,\"ticks\":\"\"}}}],\"histogram\":[{\"marker\":{\"pattern\":{\"fillmode\":\"overlay\",\"size\":10,\"solidity\":0.2}},\"type\":\"histogram\"}],\"scattergl\":[{\"type\":\"scattergl\",\"marker\":{\"colorbar\":{\"outlinewidth\":0,\"ticks\":\"\"}}}],\"scatter3d\":[{\"type\":\"scatter3d\",\"line\":{\"colorbar\":{\"outlinewidth\":0,\"ticks\":\"\"}},\"marker\":{\"colorbar\":{\"outlinewidth\":0,\"ticks\":\"\"}}}],\"scattermapbox\":[{\"type\":\"scattermapbox\",\"marker\":{\"colorbar\":{\"outlinewidth\":0,\"ticks\":\"\"}}}],\"scatterternary\":[{\"type\":\"scatterternary\",\"marker\":{\"colorbar\":{\"outlinewidth\":0,\"ticks\":\"\"}}}],\"scattercarpet\":[{\"type\":\"scattercarpet\",\"marker\":{\"colorbar\":{\"outlinewidth\":0,\"ticks\":\"\"}}}],\"carpet\":[{\"aaxis\":{\"endlinecolor\":\"#2a3f5f\",\"gridcolor\":\"white\",\"linecolor\":\"white\",\"minorgridcolor\":\"white\",\"startlinecolor\":\"#2a3f5f\"},\"baxis\":{\"endlinecolor\":\"#2a3f5f\",\"gridcolor\":\"white\",\"linecolor\":\"white\",\"minorgridcolor\":\"white\",\"startlinecolor\":\"#2a3f5f\"},\"type\":\"carpet\"}],\"table\":[{\"cells\":{\"fill\":{\"color\":\"#EBF0F8\"},\"line\":{\"color\":\"white\"}},\"header\":{\"fill\":{\"color\":\"#C8D4E3\"},\"line\":{\"color\":\"white\"}},\"type\":\"table\"}],\"barpolar\":[{\"marker\":{\"line\":{\"color\":\"#E5ECF6\",\"width\":0.5},\"pattern\":{\"fillmode\":\"overlay\",\"size\":10,\"solidity\":0.2}},\"type\":\"barpolar\"}],\"pie\":[{\"automargin\":true,\"type\":\"pie\"}]},\"layout\":{\"autotypenumbers\":\"strict\",\"colorway\":[\"#636efa\",\"#EF553B\",\"#00cc96\",\"#ab63fa\",\"#FFA15A\",\"#19d3f3\",\"#FF6692\",\"#B6E880\",\"#FF97FF\",\"#FECB52\"],\"font\":{\"color\":\"#2a3f5f\"},\"hovermode\":\"closest\",\"hoverlabel\":{\"align\":\"left\"},\"paper_bgcolor\":\"white\",\"plot_bgcolor\":\"#E5ECF6\",\"polar\":{\"bgcolor\":\"#E5ECF6\",\"angularaxis\":{\"gridcolor\":\"white\",\"linecolor\":\"white\",\"ticks\":\"\"},\"radialaxis\":{\"gridcolor\":\"white\",\"linecolor\":\"white\",\"ticks\":\"\"}},\"ternary\":{\"bgcolor\":\"#E5ECF6\",\"aaxis\":{\"gridcolor\":\"white\",\"linecolor\":\"white\",\"ticks\":\"\"},\"baxis\":{\"gridcolor\":\"white\",\"linecolor\":\"white\",\"ticks\":\"\"},\"caxis\":{\"gridcolor\":\"white\",\"linecolor\":\"white\",\"ticks\":\"\"}},\"coloraxis\":{\"colorbar\":{\"outlinewidth\":0,\"ticks\":\"\"}},\"colorscale\":{\"sequential\":[[0.0,\"#0d0887\"],[0.1111111111111111,\"#46039f\"],[0.2222222222222222,\"#7201a8\"],[0.3333333333333333,\"#9c179e\"],[0.4444444444444444,\"#bd3786\"],[0.5555555555555556,\"#d8576b\"],[0.6666666666666666,\"#ed7953\"],[0.7777777777777778,\"#fb9f3a\"],[0.8888888888888888,\"#fdca26\"],[1.0,\"#f0f921\"]],\"sequentialminus\":[[0.0,\"#0d0887\"],[0.1111111111111111,\"#46039f\"],[0.2222222222222222,\"#7201a8\"],[0.3333333333333333,\"#9c179e\"],[0.4444444444444444,\"#bd3786\"],[0.5555555555555556,\"#d8576b\"],[0.6666666666666666,\"#ed7953\"],[0.7777777777777778,\"#fb9f3a\"],[0.8888888888888888,\"#fdca26\"],[1.0,\"#f0f921\"]],\"diverging\":[[0,\"#8e0152\"],[0.1,\"#c51b7d\"],[0.2,\"#de77ae\"],[0.3,\"#f1b6da\"],[0.4,\"#fde0ef\"],[0.5,\"#f7f7f7\"],[0.6,\"#e6f5d0\"],[0.7,\"#b8e186\"],[0.8,\"#7fbc41\"],[0.9,\"#4d9221\"],[1,\"#276419\"]]},\"xaxis\":{\"gridcolor\":\"white\",\"linecolor\":\"white\",\"ticks\":\"\",\"title\":{\"standoff\":15},\"zerolinecolor\":\"white\",\"automargin\":true,\"zerolinewidth\":2},\"yaxis\":{\"gridcolor\":\"white\",\"linecolor\":\"white\",\"ticks\":\"\",\"title\":{\"standoff\":15},\"zerolinecolor\":\"white\",\"automargin\":true,\"zerolinewidth\":2},\"scene\":{\"xaxis\":{\"backgroundcolor\":\"#E5ECF6\",\"gridcolor\":\"white\",\"linecolor\":\"white\",\"showbackground\":true,\"ticks\":\"\",\"zerolinecolor\":\"white\",\"gridwidth\":2},\"yaxis\":{\"backgroundcolor\":\"#E5ECF6\",\"gridcolor\":\"white\",\"linecolor\":\"white\",\"showbackground\":true,\"ticks\":\"\",\"zerolinecolor\":\"white\",\"gridwidth\":2},\"zaxis\":{\"backgroundcolor\":\"#E5ECF6\",\"gridcolor\":\"white\",\"linecolor\":\"white\",\"showbackground\":true,\"ticks\":\"\",\"zerolinecolor\":\"white\",\"gridwidth\":2}},\"shapedefaults\":{\"line\":{\"color\":\"#2a3f5f\"}},\"annotationdefaults\":{\"arrowcolor\":\"#2a3f5f\",\"arrowhead\":0,\"arrowwidth\":1},\"geo\":{\"bgcolor\":\"white\",\"landcolor\":\"#E5ECF6\",\"subunitcolor\":\"white\",\"showland\":true,\"showlakes\":true,\"lakecolor\":\"white\"},\"title\":{\"x\":0.05},\"mapbox\":{\"style\":\"light\"}}},\"xaxis\":{\"anchor\":\"y\",\"domain\":[0.0,1.0],\"title\":{\"text\":\"Power\"}},\"yaxis\":{\"anchor\":\"x\",\"domain\":[0.0,1.0],\"title\":{\"text\":\"count\"}},\"legend\":{\"tracegroupgap\":0},\"margin\":{\"t\":60},\"barmode\":\"relative\"},                        {\"responsive\": true}                    ).then(function(){\n",
              "                            \n",
              "var gd = document.getElementById('cbbe5d28-ba20-448b-9ceb-ba444770bfd7');\n",
              "var x = new MutationObserver(function (mutations, observer) {{\n",
              "        var display = window.getComputedStyle(gd).display;\n",
              "        if (!display || display === 'none') {{\n",
              "            console.log([gd, 'removed!']);\n",
              "            Plotly.purge(gd);\n",
              "            observer.disconnect();\n",
              "        }}\n",
              "}});\n",
              "\n",
              "// Listen for the removal of the full notebook cells\n",
              "var notebookContainer = gd.closest('#notebook-container');\n",
              "if (notebookContainer) {{\n",
              "    x.observe(notebookContainer, {childList: true});\n",
              "}}\n",
              "\n",
              "// Listen for the clearing of the current output cell\n",
              "var outputEl = gd.closest('.output');\n",
              "if (outputEl) {{\n",
              "    x.observe(outputEl, {childList: true});\n",
              "}}\n",
              "\n",
              "                        })                };                            </script>        </div>\n",
              "</body>\n",
              "</html>"
            ]
          },
          "metadata": {}
        },
        {
          "output_type": "display_data",
          "data": {
            "text/html": [
              "<html>\n",
              "<head><meta charset=\"utf-8\" /></head>\n",
              "<body>\n",
              "    <div>            <script src=\"https://cdnjs.cloudflare.com/ajax/libs/mathjax/2.7.5/MathJax.js?config=TeX-AMS-MML_SVG\"></script><script type=\"text/javascript\">if (window.MathJax && window.MathJax.Hub && window.MathJax.Hub.Config) {window.MathJax.Hub.Config({SVG: {font: \"STIX-Web\"}});}</script>                <script type=\"text/javascript\">window.PlotlyConfig = {MathJaxConfig: 'local'};</script>\n",
              "        <script charset=\"utf-8\" src=\"https://cdn.plot.ly/plotly-2.24.1.min.js\"></script>                <div id=\"fa693531-a65c-4a11-a7c0-f79447d62387\" class=\"plotly-graph-div\" style=\"height:525px; width:100%;\"></div>            <script type=\"text/javascript\">                                    window.PLOTLYENV=window.PLOTLYENV || {};                                    if (document.getElementById(\"fa693531-a65c-4a11-a7c0-f79447d62387\")) {                    Plotly.newPlot(                        \"fa693531-a65c-4a11-a7c0-f79447d62387\",                        [{\"alignmentgroup\":\"True\",\"bingroup\":\"x\",\"hovertemplate\":\"Seats=%{x}\\u003cbr\\u003ecount=%{y}\\u003cextra\\u003e\\u003c\\u002fextra\\u003e\",\"legendgroup\":\"\",\"marker\":{\"color\":\"#636efa\",\"pattern\":{\"shape\":\"\"}},\"name\":\"\",\"offsetgroup\":\"\",\"orientation\":\"v\",\"showlegend\":false,\"x\":[5.0,5.0,5.0,7.0,5.0,5.0,5.0,8.0,5.0,5.0,5.0,5.0,5.0,5.0,5.0,7.0,5.0,5.0,5.0,5.0,5.0,5.0,5.0,5.0,5.0,5.0,5.0,5.0,5.0,7.0,5.0,5.0,7.0,5.0,5.0,5.0,5.0,5.0,5.0,5.0,5.0,4.0,6.0,5.0,5.0,5.0,5.0,7.0,5.0,6.0,5.0,5.0,5.0,5.0,5.0,5.0,5.0,5.0,5.0,5.0,8.0,5.0,5.0,5.0,5.0,5.0,5.0,5.0,7.0,5.0,5.0,7.0,5.0,5.0,5.0,5.0,5.0,8.0,7.0,5.0,5.0,5.0,5.0,5.0,5.0,5.0,5.0,5.0,5.0,5.0,5.0,7.0,5.0,5.0,7.0,5.0,5.0,5.0,5.0,5.0,5.0,5.0,7.0,5.0,5.0,5.0,5.0,5.0,7.0,5.0,7.0,5.0,4.0,5.0,5.0,7.0,5.0,5.0,5.0,5.0,5.0,5.0,5.0,5.0,4.0,8.0,5.0,5.0,5.0,5.0,5.0,7.0,5.0,5.0,2.0,5.0,5.0,5.0,5.0,5.0,5.0,5.0,5.0,5.0,7.0,5.0,5.0,5.0,4.0,5.0,5.0,5.0,5.0,5.0,5.0,5.0,5.0,5.0,5.0,5.0,5.0,7.0,5.0,7.0,5.0,7.0,5.0,5.0,5.0,5.0,5.0,5.0,5.0,5.0,5.0,5.0,5.0,5.0,5.0,5.0,5.0,5.0,5.0,5.0,5.0,8.0,5.0,5.0,5.0,5.0,7.0,5.0,5.0,7.0,null,5.0,5.0,5.0,5.0,5.0,7.0,5.0,5.0,5.0,5.0,5.0,5.0,5.0,null,5.0,5.0,5.0,5.0,5.0,5.0,5.0,5.0,5.0,5.0,5.0,5.0,5.0,5.0,5.0,5.0,5.0,5.0,5.0,4.0,null,5.0,5.0,5.0,5.0,5.0,7.0,7.0,5.0,5.0,5.0,5.0,5.0,7.0,7.0,7.0,5.0,5.0,5.0,5.0,5.0,5.0,5.0,5.0,5.0,5.0,5.0,7.0,5.0,5.0,5.0,5.0,5.0,5.0,5.0,5.0,5.0,5.0,5.0,5.0,5.0,5.0,5.0,5.0,7.0,5.0,5.0,8.0,5.0,5.0,5.0,5.0,5.0,7.0,5.0,5.0,5.0,5.0,5.0,5.0,5.0,5.0,5.0,5.0,5.0,5.0,5.0,5.0,5.0,7.0,5.0,7.0,5.0,5.0,5.0,5.0,5.0,5.0,5.0,5.0,5.0,5.0,5.0,5.0,5.0,5.0,7.0,5.0,5.0,7.0,5.0,7.0,5.0,5.0,5.0,5.0,5.0,4.0,7.0,5.0,5.0,5.0,5.0,5.0,5.0,5.0,5.0,5.0,5.0,5.0,5.0,5.0,5.0,5.0,5.0,5.0,5.0,5.0,5.0,5.0,5.0,5.0,5.0,5.0,5.0,5.0,5.0,5.0,5.0,5.0,5.0,5.0,5.0,5.0,5.0,5.0,5.0,5.0,5.0,5.0,5.0,5.0,5.0,5.0,7.0,5.0,4.0,5.0,5.0,5.0,5.0,7.0,5.0,5.0,5.0,5.0,5.0,5.0,5.0,5.0,5.0,5.0,4.0,5.0,5.0,5.0,5.0,5.0,5.0,5.0,5.0,7.0,7.0,5.0,5.0,5.0,5.0,5.0,5.0,5.0,5.0,5.0,5.0,7.0,5.0,7.0,5.0,5.0,5.0,5.0,5.0,5.0,5.0,5.0,5.0,5.0,5.0,5.0,4.0,5.0,5.0,5.0,5.0,5.0,5.0,5.0,5.0,5.0,5.0,5.0,5.0,5.0,8.0,7.0,5.0,5.0,5.0,5.0,5.0,5.0,7.0,5.0,5.0,5.0,5.0,7.0,5.0,5.0,5.0,5.0,7.0,5.0,5.0,5.0,5.0,5.0,5.0,5.0,5.0,5.0,7.0,5.0,7.0,5.0,5.0,5.0,5.0,5.0,5.0,5.0,5.0,5.0,5.0,7.0,7.0,5.0,5.0,5.0,5.0,5.0,7.0,5.0,5.0,5.0,5.0,7.0,5.0,5.0,5.0,5.0,5.0,5.0,5.0,5.0,7.0,5.0,5.0,5.0,7.0,5.0,7.0,5.0,5.0,5.0,7.0,5.0,5.0,5.0,5.0,5.0,5.0,5.0,5.0,5.0,4.0,5.0,5.0,5.0,5.0,5.0,7.0,7.0,5.0,7.0,5.0,7.0,5.0,5.0,5.0,5.0,5.0,7.0,5.0,5.0,7.0,5.0,5.0,7.0,5.0,5.0,5.0,5.0,5.0,5.0,7.0,5.0,7.0,5.0,2.0,5.0,5.0,5.0,5.0,7.0,5.0,5.0,5.0,5.0,5.0,5.0,5.0,5.0,5.0,5.0,7.0,5.0,5.0,5.0,5.0,5.0,7.0,5.0,5.0,5.0,5.0,5.0,7.0,7.0,7.0,5.0,5.0,5.0,7.0,7.0,7.0,5.0,5.0,5.0,6.0,5.0,7.0,5.0,5.0,8.0,5.0,5.0,7.0,5.0,5.0,5.0,7.0,5.0,7.0,5.0,7.0,5.0,8.0,5.0,5.0,5.0,5.0,5.0,5.0,5.0,8.0,5.0,5.0,7.0,5.0,7.0,8.0,5.0,5.0,5.0,5.0,5.0,7.0,7.0,5.0,5.0,5.0,5.0,5.0,5.0,5.0,5.0,5.0,5.0,5.0,5.0,7.0,5.0,5.0,5.0,7.0,5.0,5.0,5.0,7.0,5.0,5.0,7.0,5.0,5.0,7.0,5.0,5.0,7.0,5.0,5.0,5.0,5.0,5.0,5.0,7.0,5.0,5.0,5.0,5.0,5.0,5.0,5.0,5.0,5.0,5.0,5.0,5.0,5.0,5.0,5.0,5.0,5.0,5.0,5.0,2.0,5.0,5.0,5.0,7.0,5.0,5.0,5.0,5.0,5.0,7.0,5.0,5.0,5.0,5.0,5.0,5.0,5.0,5.0,5.0,5.0,5.0,4.0,5.0,5.0,4.0,7.0,5.0,5.0,5.0,5.0,5.0,5.0,5.0,5.0,5.0,5.0,5.0,5.0,5.0,null,5.0,5.0,7.0,5.0,5.0,5.0,4.0,7.0,5.0,5.0,5.0,5.0,5.0,5.0,5.0,null,5.0,5.0,5.0,5.0,7.0,5.0,5.0,5.0,5.0,5.0,5.0,4.0,5.0,5.0,5.0,5.0,5.0,5.0,8.0,5.0,4.0,8.0,5.0,5.0,8.0,7.0,5.0,5.0,5.0,5.0,5.0,5.0,5.0,5.0,5.0,5.0,5.0,5.0,5.0,7.0,8.0,5.0,7.0,5.0,5.0,7.0,7.0,5.0,2.0,5.0,7.0,7.0,5.0,5.0,5.0,5.0,7.0,5.0,5.0,5.0,5.0,7.0,7.0,5.0,10.0,5.0,5.0,5.0,5.0,5.0,5.0,5.0,5.0,5.0,5.0,5.0,5.0,5.0,5.0,5.0,5.0,5.0,5.0,5.0,5.0,5.0,5.0,5.0,7.0,5.0,5.0,5.0,7.0,5.0,5.0,5.0,7.0,5.0,5.0,5.0,7.0,5.0,5.0,5.0,5.0,5.0,5.0,5.0,7.0,5.0,8.0,5.0,7.0,5.0,5.0,5.0,5.0,7.0,5.0,5.0,5.0,5.0,5.0,7.0,5.0,7.0,5.0,5.0,5.0,5.0,5.0,7.0,5.0,5.0,5.0,5.0,4.0,5.0,5.0,5.0,5.0,5.0,5.0,5.0,7.0,5.0,7.0,5.0,5.0,5.0,5.0,5.0,5.0,7.0,5.0,5.0,5.0,5.0,5.0,5.0,5.0,5.0,7.0,5.0,5.0,2.0,5.0,10.0,7.0,5.0,5.0,5.0,5.0,7.0,5.0,5.0,2.0,5.0,5.0,5.0,5.0,5.0,5.0,5.0,5.0,5.0,5.0,5.0,5.0,5.0,5.0,5.0,5.0,5.0,5.0,5.0,7.0,5.0,5.0,5.0,5.0,6.0,7.0,5.0,5.0,5.0,5.0,5.0,5.0,5.0,5.0,5.0,5.0,5.0,5.0,8.0,5.0,5.0,5.0,5.0,5.0,5.0,5.0,5.0,5.0,7.0,5.0,5.0,5.0,5.0,5.0,5.0,5.0,5.0,5.0,5.0,5.0,5.0,5.0,5.0,5.0,5.0,5.0,5.0,5.0,5.0,5.0,5.0,5.0,5.0,5.0,5.0,5.0,5.0,5.0,5.0,5.0,5.0,8.0,5.0,5.0,5.0,7.0,8.0,5.0,5.0,7.0,5.0,5.0,5.0,5.0,5.0,5.0,5.0,5.0,5.0,5.0,7.0,7.0,5.0,7.0,5.0,5.0,5.0,5.0,5.0,5.0,5.0,7.0,5.0,5.0,5.0,5.0,5.0,5.0,5.0,8.0,5.0,5.0,5.0,5.0,5.0,5.0,5.0,5.0,5.0,5.0,5.0,5.0,5.0,5.0,7.0,5.0,7.0,5.0,7.0,5.0,5.0,5.0,5.0,5.0,5.0,7.0,7.0,5.0,5.0,7.0,5.0,2.0,5.0,5.0,5.0,5.0,5.0,5.0,5.0,5.0,5.0,5.0,5.0,5.0,5.0,5.0,7.0,5.0,5.0,5.0,5.0,5.0,5.0,5.0,7.0,5.0,7.0,7.0,5.0,5.0,5.0,5.0,5.0,5.0,5.0,5.0,5.0,5.0,5.0,5.0,5.0,5.0,5.0,5.0,5.0,5.0,5.0,5.0,5.0,5.0,5.0,5.0,7.0,5.0,5.0,5.0,5.0,5.0,5.0,5.0,5.0,5.0,5.0,7.0,5.0,5.0,5.0,5.0,7.0,7.0,5.0,5.0,5.0,5.0,5.0,5.0,5.0,5.0,5.0,5.0,5.0,5.0,5.0,5.0,5.0,5.0,5.0,5.0,5.0,5.0,5.0,5.0,5.0,5.0,5.0,5.0,5.0,5.0,5.0,5.0,5.0,5.0,5.0,5.0,8.0,5.0,5.0,5.0,5.0,5.0,5.0,5.0,5.0,5.0,5.0,5.0,5.0,5.0,5.0,5.0,7.0,5.0,5.0,7.0,5.0,5.0,5.0,5.0,5.0,7.0,7.0,5.0,7.0,5.0,5.0,5.0,5.0,5.0,5.0,5.0,5.0,5.0,5.0,5.0,5.0,8.0,5.0,5.0,4.0,5.0,5.0,5.0,5.0,5.0,7.0,5.0,5.0,5.0,5.0,5.0,5.0,5.0,5.0,5.0,5.0,5.0,7.0,7.0,5.0,5.0,5.0,7.0,5.0,5.0,5.0,5.0,5.0,5.0,5.0,5.0,7.0,5.0,5.0,5.0,5.0,5.0,5.0,7.0,5.0,5.0,5.0,5.0,4.0,5.0,5.0,7.0,5.0,7.0,5.0,5.0,5.0,5.0,5.0,5.0,5.0,5.0,5.0,5.0,5.0,5.0,5.0,2.0,5.0,5.0,7.0,5.0,5.0,null,5.0,5.0,5.0,5.0,7.0,7.0,5.0,5.0,5.0,5.0,5.0,5.0,5.0,5.0,4.0,5.0,5.0,5.0,5.0,5.0,5.0,5.0,5.0,5.0,5.0,5.0,5.0,4.0,5.0,5.0,5.0,5.0,null,5.0,5.0,7.0,5.0,5.0,5.0,5.0,5.0,7.0,5.0,5.0,5.0,5.0,5.0,5.0,5.0,5.0,5.0,5.0,9.0,5.0,5.0,5.0,5.0,7.0,7.0,5.0,7.0,5.0,5.0,5.0,5.0,5.0,5.0,5.0,5.0,7.0,5.0,5.0,5.0,5.0,5.0,5.0,5.0,5.0,5.0,5.0,5.0,5.0,5.0,5.0,5.0,5.0,5.0,5.0,5.0,5.0,null,5.0,5.0,5.0,5.0,5.0,5.0,5.0,5.0,5.0,5.0,5.0,7.0,5.0,7.0,5.0,5.0,5.0,5.0,5.0,7.0,5.0,7.0,5.0,5.0,5.0,5.0,5.0,5.0,5.0,5.0,5.0,5.0,5.0,5.0,5.0,5.0,5.0,5.0,5.0,5.0,5.0,7.0,5.0,4.0,7.0,5.0,5.0,4.0,5.0,7.0,5.0,5.0,5.0,7.0,5.0,8.0,5.0,5.0,5.0,5.0,5.0,5.0,5.0,5.0,5.0,5.0,5.0,5.0,5.0,5.0,5.0,5.0,4.0,5.0,null,5.0,5.0,5.0,5.0,5.0,7.0,5.0,5.0,5.0,4.0,5.0,5.0,7.0,5.0,5.0,5.0,5.0,5.0,5.0,5.0,8.0,7.0,5.0,5.0,7.0,5.0,5.0,5.0,5.0,5.0,5.0,5.0,7.0,5.0,5.0,5.0,5.0,5.0,5.0,5.0,7.0,5.0,5.0,7.0,5.0,5.0,5.0,5.0,5.0,5.0,5.0,5.0,5.0,5.0,8.0,7.0,5.0,5.0,5.0,5.0,8.0,5.0,5.0,7.0,5.0,5.0,5.0,8.0,5.0,5.0,5.0,8.0,5.0,5.0,5.0,5.0,5.0,5.0,5.0,5.0,7.0,6.0,5.0,5.0,4.0,5.0,5.0,5.0,5.0,5.0,5.0,7.0,5.0,5.0,5.0,7.0,5.0,5.0,5.0,5.0,5.0,7.0,5.0,5.0,5.0,5.0,5.0,7.0,5.0,5.0,5.0,5.0,7.0,5.0,5.0,5.0,5.0,7.0,5.0,5.0,5.0,5.0,7.0,7.0,5.0,5.0,5.0,5.0,7.0,5.0,5.0,5.0,5.0,5.0,5.0,7.0,5.0,5.0,5.0,5.0,5.0,4.0,5.0,7.0,7.0,5.0,5.0,5.0,5.0,5.0,7.0,5.0,5.0,5.0,5.0,7.0,5.0,5.0,5.0,5.0,5.0,5.0,5.0,5.0,5.0,5.0,5.0,4.0,5.0,5.0,5.0,5.0,5.0,5.0,5.0,5.0,5.0,5.0,7.0,7.0,5.0,5.0,5.0,7.0,5.0,5.0,5.0,5.0,5.0,5.0,5.0,5.0,8.0,5.0,5.0,4.0,8.0,5.0,5.0,5.0,5.0,5.0,5.0,5.0,5.0,5.0,5.0,5.0,5.0,5.0,5.0,5.0,5.0,5.0,5.0,5.0,5.0,8.0,4.0,5.0,5.0,5.0,5.0,5.0,5.0,8.0,7.0,5.0,5.0,5.0,5.0,5.0,5.0,5.0,5.0,8.0,5.0,5.0,7.0,5.0,7.0,5.0,7.0,5.0,5.0,5.0,5.0,5.0,5.0,5.0,5.0,5.0,4.0,5.0,5.0,5.0,7.0,5.0,5.0,5.0,8.0,5.0,5.0,7.0,5.0,5.0,5.0,5.0,5.0,5.0,5.0,5.0,5.0,5.0,5.0,5.0,5.0,7.0,5.0,7.0,4.0,5.0,5.0,7.0,5.0,5.0,7.0,5.0,5.0,5.0,5.0,7.0,5.0,5.0,5.0,5.0,5.0,5.0,5.0,7.0,5.0,5.0,5.0,5.0,5.0,5.0,5.0,5.0,5.0,5.0,5.0,5.0,5.0,5.0,5.0,5.0,5.0,5.0,7.0,5.0,7.0,5.0,5.0,5.0,5.0,5.0,5.0,5.0,5.0,5.0,7.0,7.0,5.0,5.0,5.0,5.0,5.0,5.0,5.0,5.0,4.0,5.0,5.0,5.0,5.0,5.0,5.0,7.0,5.0,5.0,5.0,5.0,5.0,5.0,5.0,5.0,5.0,5.0,5.0,5.0,5.0,5.0,5.0,5.0,5.0,5.0,7.0,5.0,5.0,5.0,5.0,5.0,5.0,7.0,5.0,5.0,4.0,5.0,7.0,5.0,5.0,5.0,5.0,5.0,5.0,7.0,5.0,5.0,5.0,5.0,5.0,5.0,5.0,5.0,5.0,5.0,5.0,5.0,5.0,5.0,7.0,5.0,5.0,5.0,5.0,5.0,5.0,5.0,5.0,7.0,5.0,7.0,5.0,5.0,7.0,5.0,7.0,5.0,5.0,5.0,8.0,5.0,5.0,5.0,7.0,5.0,5.0,5.0,5.0,5.0,5.0,5.0,5.0,5.0,5.0,5.0,5.0,5.0,5.0,5.0,7.0,7.0,5.0,5.0,5.0,5.0,10.0,5.0,6.0,5.0,5.0,8.0,5.0,5.0,5.0,5.0,null,5.0,5.0,5.0,7.0,5.0,5.0,5.0,5.0,5.0,5.0,5.0,5.0,5.0,5.0,5.0,5.0,5.0,7.0,5.0,5.0,5.0,7.0,5.0,5.0,5.0,5.0,7.0,5.0,5.0,5.0,5.0,7.0,5.0,5.0,5.0,5.0,5.0,5.0,5.0,7.0,5.0,5.0,5.0,5.0,7.0,5.0,5.0,5.0,5.0,5.0,7.0,8.0,5.0,5.0,7.0,5.0,5.0,5.0,5.0,5.0,5.0,5.0,5.0,5.0,5.0,5.0,5.0,5.0,5.0,5.0,5.0,5.0,5.0,5.0,7.0,5.0,5.0,5.0,5.0,7.0,5.0,5.0,5.0,5.0,7.0,5.0,5.0,5.0,5.0,5.0,7.0,5.0,5.0,5.0,5.0,5.0,5.0,5.0,5.0,5.0,5.0,5.0,5.0,7.0,8.0,5.0,5.0,7.0,7.0,5.0,5.0,5.0,7.0,7.0,5.0,5.0,5.0,5.0,5.0,8.0,5.0,5.0,5.0,7.0,5.0,5.0,5.0,5.0,5.0,5.0,5.0,8.0,7.0,5.0,5.0,6.0,5.0,7.0,5.0,5.0,5.0,5.0,5.0,5.0,5.0,5.0,5.0,5.0,7.0,5.0,5.0,7.0,5.0,5.0,5.0,5.0,null,5.0,5.0,5.0,5.0,5.0,5.0,5.0,5.0,5.0,5.0,5.0,5.0,5.0,5.0,4.0,5.0,5.0,5.0,7.0,5.0,2.0,null,5.0,5.0,7.0,5.0,7.0,5.0,6.0,5.0,5.0,5.0,5.0,7.0,7.0,5.0,5.0,5.0,5.0,5.0,5.0,5.0,5.0,7.0,5.0,5.0,5.0,5.0,5.0,5.0,5.0,8.0,5.0,7.0,7.0,5.0,5.0,5.0,7.0,7.0,5.0,5.0,5.0,7.0,5.0,7.0,5.0,5.0,5.0,7.0,7.0,5.0,5.0,5.0,5.0,7.0,5.0,5.0,5.0,5.0,5.0,7.0,5.0,5.0,7.0,5.0,5.0,5.0,5.0,5.0,5.0,5.0,5.0,5.0,8.0,5.0,5.0,7.0,5.0,5.0,5.0,5.0,5.0,7.0,5.0,5.0,5.0,7.0,5.0,5.0,5.0,5.0,5.0,5.0,5.0,5.0,5.0,5.0,5.0,5.0,5.0,5.0,5.0,5.0,5.0,5.0,5.0,5.0,5.0,7.0,5.0,5.0,5.0,5.0,5.0,5.0,5.0,5.0,5.0,5.0,5.0,5.0,5.0,7.0,5.0,5.0,5.0,5.0,5.0,5.0,7.0,5.0,5.0,7.0,5.0,5.0,5.0,5.0,7.0,5.0,5.0,5.0,5.0,5.0,5.0,5.0,5.0,7.0,5.0,5.0,5.0,5.0,5.0,5.0,5.0,5.0,5.0,5.0,5.0,5.0,5.0,5.0,7.0,5.0,7.0,5.0,5.0,5.0,5.0,null,5.0,7.0,10.0,5.0,5.0,5.0,5.0,5.0,5.0,5.0,5.0,4.0,7.0,5.0,7.0,5.0,5.0,5.0,5.0,5.0,5.0,5.0,5.0,5.0,5.0,5.0,5.0,5.0,4.0,5.0,5.0,5.0,5.0,5.0,5.0,7.0,8.0,5.0,5.0,5.0,2.0,6.0,5.0,5.0,5.0,5.0,5.0,9.0,5.0,5.0,5.0,5.0,5.0,7.0,5.0,5.0,5.0,4.0,5.0,5.0,null,5.0,8.0,5.0,5.0,5.0,5.0,7.0,5.0,7.0,null,5.0,5.0,5.0,5.0,5.0,5.0,5.0,5.0,5.0,5.0,8.0,5.0,7.0,5.0,5.0,5.0,5.0,5.0,5.0,5.0,5.0,5.0,5.0,9.0,5.0,5.0,7.0,5.0,4.0,5.0,5.0,5.0,7.0,null,4.0,5.0,5.0,5.0,5.0,5.0,5.0,5.0,7.0,5.0,5.0,5.0,5.0,5.0,5.0,5.0,5.0,7.0,5.0,7.0,5.0,5.0,5.0,5.0,5.0,7.0,5.0,5.0,5.0,5.0,5.0,7.0,5.0,5.0,5.0,5.0,7.0,5.0,7.0,5.0,5.0,5.0,5.0,5.0,5.0,5.0,5.0,5.0,5.0,5.0,7.0,5.0,4.0,5.0,5.0,5.0,5.0,5.0,7.0,5.0,5.0,7.0,5.0,5.0,5.0,5.0,5.0,5.0,5.0,5.0,5.0,5.0,5.0,5.0,5.0,5.0,5.0,5.0,5.0,5.0,5.0,5.0,5.0,5.0,5.0,7.0,5.0,5.0,5.0,5.0,5.0,5.0,5.0,7.0,5.0,7.0,5.0,5.0,5.0,5.0,5.0,5.0,5.0,5.0,5.0,7.0,8.0,5.0,5.0,5.0,5.0,5.0,5.0,7.0,5.0,5.0,5.0,5.0,7.0,5.0,5.0,5.0,5.0,5.0,5.0,5.0,5.0,5.0,5.0,5.0,5.0,5.0,5.0,7.0,5.0,7.0,5.0,5.0,5.0,5.0,5.0,5.0,5.0,5.0,5.0,4.0,5.0,5.0,5.0,5.0,5.0,5.0,8.0,5.0,5.0,5.0,5.0,5.0,7.0,5.0,null,5.0,7.0,5.0,5.0,5.0,5.0,7.0,5.0,5.0,5.0,5.0,null,5.0,5.0,7.0,5.0,5.0,5.0,5.0,7.0,5.0,5.0,5.0,5.0,5.0,8.0,5.0,5.0,5.0,6.0,5.0,7.0,5.0,5.0,5.0,8.0,5.0,8.0,7.0,8.0,5.0,5.0,8.0,5.0,10.0,7.0,5.0,5.0,5.0,5.0,5.0,5.0,5.0,5.0,5.0,5.0,5.0,7.0,5.0,5.0,5.0,5.0,7.0,5.0,5.0,5.0,5.0,5.0,5.0,5.0,5.0,5.0,5.0,4.0,4.0,5.0,5.0,5.0,5.0,5.0,5.0,5.0,5.0,5.0,5.0,5.0,5.0,5.0,5.0,5.0,5.0,5.0,null,5.0,5.0,5.0,5.0,5.0,7.0,5.0,5.0,5.0,5.0,5.0,5.0,5.0,5.0,5.0,5.0,5.0,5.0,5.0,5.0,8.0,4.0,5.0,5.0,7.0,5.0,5.0,5.0,5.0,5.0,5.0,5.0,5.0,5.0,5.0,4.0,5.0,5.0,5.0,5.0,7.0,5.0,5.0,5.0,null,7.0,5.0,5.0,5.0,5.0,5.0,5.0,5.0,5.0,5.0,7.0,5.0,5.0,5.0,5.0,5.0,5.0,5.0,5.0,5.0,5.0,5.0,5.0,5.0,5.0,5.0,5.0,6.0,5.0,7.0,5.0,5.0,5.0,5.0,8.0,7.0,5.0,4.0,5.0,5.0,5.0,5.0,4.0,5.0,5.0,5.0,5.0,5.0,5.0,5.0,5.0,5.0,5.0,5.0,5.0,5.0,5.0,5.0,5.0,5.0,5.0,5.0,5.0,5.0,5.0,5.0,5.0,5.0,null,5.0,5.0,5.0,5.0,5.0,7.0,5.0,5.0,7.0,5.0,5.0,5.0,5.0,7.0,5.0,5.0,5.0,5.0,5.0,5.0,5.0,5.0,5.0,5.0,5.0,8.0,5.0,5.0,5.0,5.0,7.0,5.0,5.0,5.0,5.0,5.0,5.0,5.0,5.0,5.0,7.0,5.0,null,5.0,5.0,5.0,5.0,5.0,7.0,5.0,5.0,5.0,8.0,5.0,5.0,6.0,5.0,5.0,5.0,5.0,7.0,8.0,5.0,5.0,5.0,5.0,5.0,5.0,5.0,5.0,5.0,5.0,5.0,5.0,5.0,5.0,5.0,5.0,7.0,5.0,5.0,5.0,5.0,5.0,5.0,5.0,5.0,5.0,5.0,5.0,5.0,5.0,5.0,7.0,5.0,5.0,5.0,5.0,5.0,7.0,7.0,5.0,5.0,7.0,null,5.0,5.0,5.0,5.0,5.0,5.0,5.0,5.0,5.0,5.0,5.0,8.0,7.0,5.0,8.0,5.0,5.0,5.0,5.0,5.0,5.0,5.0,5.0,5.0,5.0,5.0,5.0,5.0,5.0,5.0,5.0,5.0,5.0,5.0,5.0,5.0,5.0,5.0,5.0,5.0,8.0,5.0,7.0,5.0,5.0,5.0,7.0,5.0,5.0,5.0,8.0,5.0,5.0,4.0,5.0,5.0,7.0,7.0,5.0,5.0,5.0,5.0,5.0,5.0,5.0,5.0,5.0,8.0,5.0,5.0,5.0,5.0,5.0,5.0,5.0,7.0,5.0,7.0,5.0,5.0,7.0,5.0,5.0,5.0,5.0,5.0,5.0,5.0,5.0,5.0,8.0,5.0,5.0,5.0,8.0,5.0,5.0,5.0,5.0,5.0,5.0,5.0,5.0,7.0,5.0,5.0,5.0,5.0,5.0,5.0,5.0,5.0,7.0,5.0,5.0,5.0,5.0,5.0,5.0,5.0,5.0,5.0,7.0,5.0,5.0,5.0,5.0,5.0,5.0,5.0,5.0,5.0,5.0,5.0,5.0,4.0,5.0,5.0,5.0,5.0,5.0,5.0,5.0,5.0,5.0,8.0,5.0,7.0,5.0,5.0,5.0,5.0,5.0,5.0,5.0,5.0,5.0,5.0,5.0,5.0,5.0,5.0,7.0,5.0,5.0,5.0,7.0,5.0,5.0,5.0,5.0,5.0,5.0,7.0,4.0,5.0,5.0,7.0,5.0,7.0,5.0,7.0,5.0,5.0,5.0,7.0,5.0,5.0,7.0,5.0,5.0,7.0,5.0,5.0,5.0,5.0,5.0,5.0,7.0,5.0,5.0,5.0,5.0,5.0,5.0,5.0,5.0,5.0,7.0,5.0,5.0,5.0,5.0,5.0,5.0,5.0,5.0,5.0,5.0,7.0,5.0,5.0,5.0,5.0,7.0,5.0,5.0,5.0,5.0,5.0,5.0,5.0,5.0,8.0,5.0,5.0,7.0,5.0,5.0,5.0,5.0,8.0,5.0,8.0,5.0,5.0,5.0,5.0,8.0,5.0,5.0,5.0,5.0,5.0,5.0,5.0,5.0,5.0,5.0,5.0,5.0,5.0,5.0,5.0,5.0,5.0,5.0,5.0,5.0,8.0,5.0,7.0,7.0,5.0,5.0,5.0,4.0,5.0,5.0,5.0,5.0,7.0,5.0,5.0,5.0,5.0,5.0,5.0,7.0,5.0,5.0,5.0,5.0,5.0,5.0,5.0,5.0,5.0,7.0,5.0,5.0,5.0,5.0,5.0,5.0,5.0,7.0,5.0,5.0,5.0,5.0,5.0,8.0,5.0,4.0,5.0,5.0,5.0,5.0,5.0,7.0,5.0,5.0,5.0,5.0,5.0,5.0,5.0,5.0,5.0,5.0,5.0,5.0,5.0,5.0,5.0,5.0,5.0,5.0,5.0,5.0,5.0,5.0,5.0,5.0,7.0,5.0,7.0,5.0,5.0,5.0,4.0,5.0,7.0,5.0,7.0,5.0,5.0,5.0,5.0,5.0,7.0,5.0,5.0,5.0,7.0,5.0,5.0,5.0,7.0,5.0,5.0,7.0,5.0,5.0,5.0,5.0,5.0,5.0,7.0,5.0,7.0,5.0,5.0,5.0,4.0,7.0,5.0,5.0,5.0,5.0,7.0,5.0,5.0,5.0,5.0,5.0,5.0,5.0,5.0,5.0,5.0,5.0,5.0,5.0,5.0,5.0,5.0,5.0,8.0,5.0,5.0,5.0,5.0,5.0,5.0,5.0,5.0,5.0,5.0,5.0,8.0,5.0,4.0,5.0,5.0,5.0,5.0,5.0,null,5.0,5.0,7.0,5.0,4.0,7.0,5.0,5.0,5.0,5.0,5.0,5.0,5.0,5.0,7.0,5.0,5.0,5.0,5.0,5.0,7.0,5.0,5.0,5.0,5.0,5.0,7.0,5.0,7.0,5.0,5.0,5.0,5.0,5.0,5.0,5.0,5.0,5.0,5.0,7.0,7.0,5.0,7.0,7.0,7.0,7.0,5.0,5.0,5.0,5.0,5.0,5.0,5.0,5.0,5.0,5.0,5.0,5.0,5.0,7.0,5.0,5.0,5.0,5.0,5.0,5.0,5.0,5.0,5.0,5.0,7.0,5.0,5.0,5.0,5.0,5.0,5.0,5.0,5.0,5.0,5.0,5.0,5.0,5.0,5.0,5.0,5.0,5.0,5.0,5.0,5.0,5.0,6.0,5.0,5.0,5.0,5.0,5.0,5.0,5.0,5.0,5.0,5.0,7.0,5.0,5.0,5.0,5.0,5.0,7.0,5.0,5.0,5.0,5.0,5.0,5.0,5.0,7.0,5.0,5.0,5.0,5.0,5.0,5.0,5.0,5.0,5.0,5.0,5.0,5.0,5.0,null,5.0,5.0,7.0,7.0,5.0,5.0,5.0,5.0,5.0,5.0,5.0,5.0,5.0,5.0,5.0,5.0,5.0,5.0,5.0,5.0,5.0,5.0,5.0,5.0,5.0,5.0,5.0,5.0,6.0,5.0,8.0,5.0,5.0,5.0,5.0,5.0,5.0,5.0,8.0,5.0,5.0,7.0,5.0,5.0,5.0,5.0,5.0,5.0,5.0,5.0,5.0,5.0,5.0,5.0,5.0,5.0,5.0,5.0,5.0,5.0,5.0,5.0,5.0,5.0,5.0,5.0,5.0,5.0,5.0,5.0,7.0,5.0,7.0,5.0,5.0,5.0,5.0,8.0,5.0,5.0,5.0,7.0,5.0,7.0,4.0,5.0,7.0,5.0,5.0,5.0,5.0,7.0,5.0,5.0,7.0,5.0,5.0,5.0,6.0,5.0,5.0,5.0,6.0,5.0,5.0,5.0,5.0,5.0,6.0,5.0,7.0,5.0,5.0,5.0,5.0,null,5.0,null,4.0,5.0,5.0,5.0,5.0,7.0,5.0,5.0,5.0,5.0,5.0,5.0,5.0,5.0,5.0,5.0,5.0,7.0,5.0,5.0,7.0,5.0,7.0,8.0,7.0,7.0,5.0,5.0,5.0,5.0,4.0,5.0,7.0,5.0,5.0,5.0,7.0,5.0,5.0,5.0,5.0,5.0,7.0,5.0,5.0,5.0,6.0,7.0,5.0,5.0,5.0,5.0,5.0,5.0,5.0,5.0,5.0,4.0,5.0,5.0,5.0,5.0,5.0,5.0,5.0,5.0,5.0,5.0,7.0,5.0,5.0,5.0,5.0,7.0,5.0,5.0,5.0,5.0,5.0,5.0,5.0,5.0,5.0,5.0,5.0,5.0,5.0,5.0,5.0,5.0,5.0,5.0,5.0,7.0,5.0,5.0,5.0,5.0,5.0,7.0,5.0,5.0,5.0,5.0,5.0,5.0,5.0,5.0,5.0,4.0,5.0,5.0,5.0,5.0,5.0,5.0,5.0,7.0,5.0,5.0,5.0,5.0,5.0,5.0,5.0,5.0,5.0,5.0,5.0,5.0,5.0,5.0,5.0,5.0,5.0,5.0,5.0,5.0,5.0,7.0,5.0,5.0,4.0,5.0,7.0,5.0,5.0,7.0,5.0,7.0,5.0,7.0,5.0,5.0,7.0,5.0,5.0,5.0,5.0,5.0,5.0,5.0,5.0,5.0,5.0,5.0,5.0,5.0,5.0,5.0,5.0,5.0,5.0,5.0,5.0,5.0,5.0,5.0,5.0,5.0,5.0,5.0,5.0,5.0,7.0,5.0,5.0,5.0,5.0,5.0,7.0,7.0,7.0,5.0,5.0,5.0,5.0,7.0,5.0,5.0,5.0,5.0,5.0,5.0,5.0,7.0,5.0,5.0,5.0,5.0,5.0,5.0,5.0,5.0,5.0,5.0,5.0,5.0,5.0,5.0,5.0,5.0,5.0,7.0,5.0,5.0,5.0,5.0,5.0,5.0,5.0,5.0,5.0,4.0,5.0,5.0,5.0,5.0,5.0,5.0,7.0,7.0,5.0,5.0,5.0,5.0,5.0,5.0,5.0,5.0,5.0,5.0,5.0,5.0,5.0,5.0,5.0,7.0,5.0,7.0,5.0,7.0,5.0,5.0,5.0,5.0,5.0,5.0,5.0,5.0,5.0,5.0,5.0,5.0,5.0,5.0,5.0,null,5.0,5.0,5.0,5.0,5.0,5.0,5.0,7.0,5.0,null,7.0,7.0,5.0,5.0,5.0,5.0,5.0,5.0,5.0,5.0,5.0,5.0,5.0,5.0,5.0,5.0,5.0,5.0,7.0,7.0,5.0,5.0,5.0,5.0,5.0,5.0,5.0,5.0,7.0,5.0,5.0,7.0,5.0,5.0,5.0,5.0,8.0,5.0,5.0,5.0,5.0,5.0,5.0,5.0,5.0,7.0,5.0,5.0,8.0,5.0,5.0,7.0,7.0,5.0,5.0,5.0,5.0,5.0,4.0,5.0,5.0,5.0,5.0,5.0,5.0,5.0,5.0,7.0,5.0,5.0,5.0,null,7.0,5.0,5.0,5.0,5.0,5.0,5.0,5.0,7.0,5.0,5.0,7.0,7.0,5.0,5.0,5.0,5.0,7.0,5.0,4.0,5.0,5.0,5.0,5.0,8.0,5.0,5.0,5.0,5.0,5.0,5.0,5.0,5.0,7.0,5.0,7.0,5.0,5.0,5.0,5.0,5.0,5.0,7.0,5.0,5.0,5.0,5.0,5.0,5.0,5.0,5.0,5.0,7.0,5.0,5.0,5.0,5.0,5.0,5.0,4.0,5.0,5.0,5.0,5.0,5.0,5.0,5.0,5.0,5.0,5.0,5.0,5.0,7.0,5.0,5.0,5.0,5.0,5.0,5.0,5.0,5.0,5.0,5.0,7.0,5.0,5.0,5.0,5.0,5.0,5.0,5.0,5.0,5.0,7.0,5.0,5.0,5.0,5.0,5.0,5.0,5.0,5.0,5.0,5.0,7.0,5.0,5.0,5.0,5.0,5.0,5.0,7.0,5.0,4.0,5.0,8.0,0.0,5.0,5.0,5.0,5.0,5.0,5.0,5.0,5.0,5.0,5.0,5.0,null,5.0,7.0,5.0,5.0,5.0,5.0,5.0,5.0,5.0,5.0,5.0,5.0,5.0,5.0,5.0,5.0,5.0,5.0,5.0,5.0,5.0,5.0,5.0,5.0,5.0,5.0,7.0,7.0,5.0,5.0,5.0,5.0,5.0,5.0,5.0,5.0,5.0,5.0,5.0,5.0,5.0,5.0,5.0,5.0,5.0,5.0,5.0,5.0,5.0,4.0,5.0,5.0,5.0,5.0,5.0,5.0,5.0,5.0,5.0,5.0,5.0,5.0,7.0,5.0,5.0,5.0,5.0,5.0,5.0,5.0,5.0,5.0,5.0,5.0,7.0,5.0,5.0,7.0,5.0,5.0,5.0,5.0,5.0,5.0,5.0,5.0,5.0,5.0,5.0,5.0,5.0,5.0,5.0,5.0,5.0,5.0,6.0,5.0,5.0,5.0,5.0,5.0,5.0,5.0,5.0,5.0,5.0,5.0,6.0,5.0,5.0,5.0,5.0,5.0,5.0,5.0,5.0,5.0,5.0,7.0,5.0,5.0,7.0,5.0,5.0,5.0,5.0,5.0,5.0,5.0,5.0,5.0,5.0,5.0,5.0,5.0,5.0,5.0,5.0,8.0,null,5.0,5.0,7.0,5.0,7.0,5.0,5.0,5.0,5.0,5.0,7.0,5.0,5.0,7.0,5.0,8.0,5.0,5.0,5.0,5.0,5.0,5.0,5.0,5.0,5.0,5.0,5.0,5.0,5.0,5.0,5.0,5.0,4.0,5.0,5.0,7.0,5.0,5.0,5.0,5.0,5.0,5.0,5.0,8.0,5.0,8.0,5.0,6.0,5.0,8.0,8.0,5.0,5.0,5.0,7.0,5.0,5.0,5.0,5.0,5.0,5.0,5.0,5.0,5.0,5.0,5.0,5.0,5.0,5.0,5.0,4.0,5.0,5.0,8.0,7.0,5.0,null,5.0,5.0,5.0,5.0,5.0,5.0,5.0,5.0,5.0,8.0,5.0,5.0,5.0,5.0,7.0,5.0,8.0,5.0,5.0,5.0,5.0,5.0,5.0,5.0,5.0,5.0,5.0,5.0,5.0,5.0,5.0,5.0,5.0,5.0,5.0,5.0,5.0,5.0,5.0,5.0,5.0,5.0,5.0,5.0,8.0,5.0,7.0,5.0,8.0,5.0,5.0,5.0,7.0,5.0,7.0,5.0,5.0,5.0,5.0,5.0,5.0,5.0,5.0,5.0,5.0,5.0,5.0,5.0,7.0,5.0,5.0,5.0,5.0,5.0,5.0,5.0,5.0,7.0,7.0,7.0,5.0,5.0,5.0,5.0,5.0,5.0,5.0,5.0,7.0,5.0,5.0,5.0,7.0,5.0,5.0,5.0,5.0,5.0,5.0,6.0,5.0,5.0,5.0,5.0,5.0,5.0,5.0,5.0,5.0,5.0,5.0,4.0,5.0,5.0,5.0,7.0,5.0,7.0,5.0,5.0,8.0,5.0,5.0,7.0,5.0,5.0,5.0,5.0,5.0,7.0,4.0,5.0,5.0,5.0,5.0,5.0,5.0,7.0,5.0,5.0,5.0,5.0,5.0,7.0,5.0,5.0,5.0,5.0,5.0,5.0,5.0,8.0,5.0,5.0,5.0,5.0,5.0,5.0,7.0,5.0,5.0,5.0,5.0,5.0,5.0,5.0,7.0,5.0,5.0,5.0,5.0,5.0,5.0,5.0,5.0,5.0,5.0,5.0,5.0,5.0,5.0,5.0,5.0,5.0,5.0,5.0,5.0,5.0,5.0,5.0,5.0,5.0,5.0,5.0,5.0,7.0,5.0,5.0,5.0,5.0,5.0,5.0,5.0,5.0,5.0,5.0,5.0,5.0,5.0,5.0,5.0,7.0,5.0,5.0,5.0,7.0,5.0,5.0,5.0,8.0,4.0,7.0,5.0,5.0,5.0,5.0,5.0,6.0,5.0,5.0,5.0,5.0,5.0,5.0,5.0,5.0,5.0,5.0,5.0,5.0,5.0,5.0,7.0,5.0,5.0,7.0,5.0,5.0,5.0,5.0,5.0,5.0,5.0,5.0,5.0,7.0,5.0,5.0,5.0,5.0,5.0,5.0,5.0,5.0,5.0,7.0,7.0,5.0,7.0,4.0,8.0,7.0,5.0,5.0,5.0,5.0,5.0,5.0,5.0,5.0,5.0,5.0,5.0,5.0,8.0,7.0,5.0,8.0,5.0,5.0,5.0,5.0,7.0,7.0,7.0,8.0,5.0,7.0,5.0,7.0,5.0,5.0,5.0,5.0,5.0,5.0,5.0,5.0,5.0,5.0,5.0,5.0,5.0,5.0,5.0,5.0,5.0,5.0,7.0,5.0,5.0,5.0,5.0,5.0,5.0,5.0,5.0,5.0,7.0,5.0,4.0,5.0,5.0,5.0,5.0,5.0,5.0,5.0,6.0,5.0,5.0,5.0,5.0,5.0,5.0,5.0,null,7.0,5.0,5.0,5.0,5.0,5.0,5.0,5.0,5.0,5.0,8.0,5.0,5.0,5.0,5.0,5.0,5.0,5.0,5.0,5.0,5.0,7.0,5.0,5.0,5.0,5.0,null,5.0,5.0,5.0,5.0,5.0,5.0,5.0,5.0,5.0,5.0,5.0,5.0,5.0,5.0,5.0,5.0,5.0,5.0,5.0,5.0,5.0,5.0,4.0,5.0,5.0,5.0,5.0,5.0,5.0,5.0,5.0,5.0,5.0,7.0,5.0,5.0,5.0,5.0,7.0,5.0,5.0,5.0,8.0,5.0,5.0,5.0,5.0,5.0,5.0,7.0,5.0,5.0,7.0,5.0,5.0,7.0,5.0,8.0,5.0,5.0,5.0,7.0,5.0,5.0,5.0,7.0,5.0,5.0,5.0,5.0,5.0,5.0,5.0,5.0,5.0,7.0,5.0,5.0,5.0,5.0,5.0,5.0,5.0,5.0,7.0,5.0,2.0,5.0,5.0,5.0,5.0,5.0,null,5.0,5.0,5.0,5.0,5.0,5.0,5.0,5.0,7.0,5.0,5.0,5.0,5.0,5.0,null,5.0,5.0,5.0,5.0,5.0,5.0,8.0,5.0,5.0,2.0,5.0,5.0,5.0,5.0,7.0,5.0,5.0,5.0,5.0,5.0,7.0,5.0,7.0,5.0,7.0,5.0,7.0,5.0,5.0,5.0,5.0,5.0,5.0,5.0,5.0,5.0,5.0,5.0,5.0,5.0,5.0,5.0,5.0,5.0,5.0,5.0,5.0,5.0,5.0,5.0,5.0,5.0,7.0,5.0,5.0,5.0,4.0,5.0,7.0,5.0,5.0,8.0,5.0,5.0,5.0,5.0,5.0,5.0,5.0,5.0,5.0,5.0,5.0,5.0,5.0,5.0,5.0,5.0,5.0,7.0,5.0,5.0,5.0,5.0,5.0,5.0,5.0,5.0,5.0,5.0,5.0,5.0,7.0,8.0,5.0,5.0,8.0,5.0,6.0,5.0,5.0,5.0,5.0,5.0,5.0,7.0,5.0,5.0,4.0,5.0,5.0,7.0,5.0,5.0,7.0,5.0,5.0,5.0,5.0,5.0,5.0,8.0,5.0,5.0,5.0,5.0,5.0,5.0,5.0,5.0,5.0,5.0,5.0,5.0,5.0,8.0,5.0,5.0,5.0,5.0,5.0,5.0,5.0,5.0,5.0,5.0,5.0,5.0,5.0,5.0,5.0,5.0,5.0,5.0,5.0,5.0,7.0,7.0,7.0,5.0,5.0,5.0,5.0,5.0,5.0,5.0,5.0,5.0,5.0,7.0,5.0,5.0,5.0,5.0,5.0,5.0,5.0,5.0,5.0,5.0,2.0,5.0,5.0,5.0,5.0,5.0,5.0,5.0,5.0,5.0,5.0,5.0,7.0,5.0,5.0,5.0,5.0,5.0,5.0,5.0,5.0,5.0,5.0,7.0,5.0,5.0,5.0,5.0,5.0,5.0,5.0,5.0,5.0,5.0,5.0,5.0,5.0,7.0,5.0,5.0,5.0,7.0,5.0,5.0,7.0,7.0,5.0,5.0,5.0,5.0,5.0,7.0,5.0,5.0,5.0,5.0,5.0,5.0,null,5.0,5.0,5.0,5.0,5.0,5.0,5.0,5.0,5.0,8.0,5.0,5.0,4.0,8.0,5.0,5.0,8.0,5.0,5.0,5.0,5.0,5.0,5.0,5.0,5.0,5.0,7.0,7.0,5.0,5.0,5.0,5.0,5.0,5.0,5.0,5.0,5.0,5.0,5.0,7.0,5.0,5.0,7.0,5.0,7.0,5.0,5.0,5.0,5.0,5.0,5.0,5.0,5.0,5.0,5.0,5.0,7.0,5.0,5.0,5.0,5.0,5.0,null,5.0,7.0,5.0,5.0,5.0,5.0,5.0,5.0,5.0,5.0,5.0,5.0,5.0,5.0,5.0,5.0,5.0,5.0,5.0,5.0,5.0,5.0,7.0,5.0,8.0,5.0,5.0,5.0,7.0,7.0,5.0,5.0,5.0,5.0,4.0,5.0,5.0,7.0,5.0,5.0,5.0,5.0,5.0,5.0,5.0,5.0,5.0,5.0,5.0,5.0,5.0,7.0,7.0,5.0,5.0,5.0,5.0,5.0,5.0,5.0,5.0,5.0,5.0,5.0,7.0,5.0,5.0,5.0,5.0,5.0,5.0,5.0,4.0,5.0,5.0,5.0,5.0,5.0,5.0,7.0,5.0,5.0,5.0,5.0,5.0,5.0,5.0,5.0,5.0,7.0,5.0,5.0,5.0,5.0,5.0,5.0,5.0,5.0,5.0,5.0,5.0,5.0,5.0,5.0,5.0,5.0,7.0,5.0,5.0,5.0,5.0,5.0,5.0,5.0,5.0,5.0,5.0,5.0,5.0,5.0,5.0,5.0,5.0,5.0,5.0,7.0,5.0,7.0,5.0,5.0,7.0,8.0,5.0,7.0,7.0,5.0,5.0,5.0,5.0,5.0,5.0,5.0,5.0,5.0,5.0,7.0,5.0,5.0,5.0,5.0,5.0,7.0,5.0,5.0,5.0,5.0,5.0,7.0,5.0,5.0,5.0,5.0,5.0,5.0,5.0,5.0,7.0,5.0,5.0,null,5.0,5.0,5.0,5.0,5.0,7.0,5.0,5.0,5.0,5.0,5.0,5.0,7.0,5.0,5.0,8.0,7.0,5.0,5.0,5.0,7.0,5.0,5.0,7.0,5.0,7.0,5.0,8.0,7.0,5.0,5.0,7.0,4.0,5.0,5.0,7.0,5.0,5.0,5.0,5.0,7.0,5.0,5.0,5.0,5.0,5.0,5.0,5.0,5.0,5.0,5.0,5.0,5.0,5.0,5.0,5.0,7.0,5.0,5.0,5.0,5.0,5.0,5.0,5.0,5.0,5.0,8.0,5.0,5.0,5.0,5.0,5.0,5.0,5.0,5.0,5.0,5.0,5.0,5.0,5.0,5.0,7.0,5.0,7.0,null,5.0,5.0,5.0,5.0,5.0,5.0,5.0,7.0,5.0,5.0,7.0,5.0,5.0,7.0,5.0,4.0,5.0,5.0,5.0,5.0,5.0,5.0,5.0,2.0,5.0,4.0,5.0,5.0,5.0,5.0,5.0,7.0,5.0,5.0,5.0,5.0,5.0,5.0,5.0,5.0,5.0,5.0,5.0,5.0,8.0,5.0,5.0,8.0,5.0,5.0,7.0,5.0,7.0,5.0,5.0,5.0,5.0,5.0,5.0,5.0,5.0,5.0,7.0,8.0,5.0,5.0,5.0,5.0,5.0,5.0,5.0,5.0,5.0,5.0,5.0,5.0,5.0,5.0,5.0,5.0,5.0,5.0,5.0,5.0,5.0,5.0,7.0,5.0,5.0,5.0,5.0,5.0,7.0,5.0,5.0,7.0,5.0,5.0,5.0,5.0,5.0,5.0,5.0,5.0,5.0,5.0,4.0,5.0,5.0,5.0,5.0,5.0,5.0,5.0,7.0,5.0,4.0,5.0,5.0,5.0,7.0,5.0,5.0,5.0,5.0,7.0,4.0,5.0,5.0,5.0,5.0,5.0,5.0,5.0,7.0,5.0,5.0,5.0,5.0,5.0,5.0,7.0,5.0,7.0,5.0,5.0,5.0,5.0,5.0,5.0,5.0,5.0,7.0,5.0,5.0,5.0,5.0,7.0,5.0,5.0,5.0,5.0,5.0,5.0,5.0,7.0,7.0,7.0,5.0,5.0,7.0,5.0,5.0,5.0,5.0,5.0,5.0,5.0,5.0,5.0,5.0,5.0,5.0,5.0,5.0,5.0,5.0,5.0,5.0,5.0,5.0,5.0,5.0,7.0,5.0,7.0,5.0,4.0,5.0,5.0,7.0,5.0,5.0,4.0,5.0,5.0,5.0,5.0,5.0,5.0,4.0,5.0,5.0,5.0,5.0,5.0,5.0,5.0,5.0,5.0,5.0,5.0,5.0,5.0,5.0,5.0,5.0,8.0,5.0,7.0,5.0,5.0,5.0,7.0,5.0,5.0,5.0,5.0,5.0,5.0,5.0,5.0,5.0,5.0,8.0,5.0,5.0,4.0,6.0,5.0,4.0,7.0,7.0,5.0,5.0,5.0,5.0,5.0,5.0,5.0,8.0,5.0,5.0,5.0,5.0,5.0,5.0,7.0,5.0,5.0,5.0,7.0,5.0,5.0,5.0,5.0,5.0,5.0,5.0,5.0,5.0,5.0,6.0,5.0,5.0,5.0,5.0,5.0,5.0,5.0,5.0,5.0,5.0,5.0,5.0,5.0,5.0,5.0,5.0,5.0,5.0,5.0,5.0,5.0,5.0,5.0,5.0,5.0,5.0,7.0,5.0,7.0,5.0,5.0,5.0,5.0,5.0,5.0,5.0,5.0,5.0,7.0,5.0,5.0,5.0,5.0,5.0,5.0,5.0,5.0,5.0,8.0,4.0,5.0,5.0,5.0,5.0,5.0,5.0,5.0,5.0,5.0,5.0,5.0,5.0,5.0,5.0,5.0,5.0,5.0,7.0,5.0,5.0,5.0,5.0,5.0,5.0,5.0,8.0,5.0,5.0,5.0,5.0,5.0,5.0,5.0,5.0,5.0,5.0,5.0,7.0,5.0,5.0,5.0,5.0,5.0,8.0,5.0,5.0,7.0,5.0,7.0,5.0,5.0,5.0,5.0,4.0,5.0,5.0,5.0,5.0,5.0,5.0,5.0,5.0,5.0,5.0,5.0,5.0,5.0,5.0,5.0,5.0,5.0,5.0,5.0,5.0,5.0,5.0,5.0,5.0,5.0,5.0,5.0,5.0,5.0,5.0,5.0,5.0,5.0,7.0,5.0,5.0,5.0,5.0,5.0,5.0,5.0,5.0,5.0,5.0,5.0,5.0,5.0,5.0,5.0,5.0,7.0,5.0,5.0,5.0,5.0,7.0,5.0,5.0,5.0,5.0,5.0,5.0,5.0,5.0,5.0,5.0,5.0,5.0,8.0,5.0,5.0,5.0,5.0,5.0,5.0,5.0,7.0,5.0,6.0,5.0,7.0,5.0,5.0,5.0,5.0,7.0,5.0,5.0,5.0,5.0,5.0,5.0,5.0,5.0,5.0,5.0,5.0,5.0,7.0,7.0,5.0,5.0,5.0,7.0,5.0,5.0,5.0,5.0,8.0,5.0,5.0,5.0,7.0,5.0,5.0,5.0,5.0,4.0,5.0,5.0,5.0,5.0,5.0,2.0,5.0,5.0,5.0,5.0,5.0,7.0,5.0,5.0,7.0,5.0,5.0,5.0,5.0,5.0,5.0,5.0,5.0,5.0,7.0,5.0,5.0,7.0,5.0,5.0,5.0,6.0,5.0,5.0,5.0,5.0,5.0,5.0,5.0,5.0,5.0,5.0,5.0,5.0,5.0,5.0,5.0,5.0,5.0,5.0,5.0,5.0,5.0,5.0,5.0,8.0,5.0,5.0,8.0,5.0,5.0,5.0,5.0,5.0,7.0,5.0,5.0,5.0,5.0,5.0,5.0,5.0,5.0,5.0,7.0,5.0,8.0,5.0,5.0,5.0,5.0,5.0,5.0,7.0,6.0,5.0,5.0,7.0,5.0,5.0,5.0,5.0,4.0,5.0,5.0,7.0,5.0,5.0,5.0,5.0,7.0,5.0,5.0,7.0,5.0,5.0,5.0,5.0,5.0,7.0,5.0,5.0,5.0,7.0,5.0,5.0,5.0,null,5.0,5.0,5.0,5.0,5.0,5.0,5.0,5.0,5.0,5.0,5.0,5.0,7.0,5.0,5.0,7.0,5.0,5.0,7.0,5.0,5.0,7.0,5.0,5.0,5.0,2.0,5.0,5.0,5.0,5.0,7.0,5.0,4.0,5.0,7.0,5.0,5.0,7.0,5.0,5.0,5.0,4.0,5.0,8.0,5.0,8.0,5.0,5.0,7.0,6.0,5.0,5.0,5.0,7.0,5.0,5.0,5.0,5.0,5.0,5.0,7.0,5.0,7.0,5.0,5.0,5.0,5.0,7.0,5.0,5.0,5.0,5.0,5.0,7.0,5.0,8.0,5.0,5.0,5.0,5.0,5.0,5.0,5.0,5.0,7.0,5.0,5.0,5.0,7.0,5.0,5.0,5.0,5.0,5.0,5.0,5.0,7.0,5.0,5.0,5.0,5.0,5.0,5.0,5.0,5.0,5.0,5.0,5.0,5.0,5.0,5.0,5.0,5.0,5.0,4.0,5.0,5.0,5.0,7.0,5.0,5.0,5.0,8.0,5.0,5.0],\"xaxis\":\"x\",\"yaxis\":\"y\",\"type\":\"histogram\"}],                        {\"template\":{\"data\":{\"histogram2dcontour\":[{\"type\":\"histogram2dcontour\",\"colorbar\":{\"outlinewidth\":0,\"ticks\":\"\"},\"colorscale\":[[0.0,\"#0d0887\"],[0.1111111111111111,\"#46039f\"],[0.2222222222222222,\"#7201a8\"],[0.3333333333333333,\"#9c179e\"],[0.4444444444444444,\"#bd3786\"],[0.5555555555555556,\"#d8576b\"],[0.6666666666666666,\"#ed7953\"],[0.7777777777777778,\"#fb9f3a\"],[0.8888888888888888,\"#fdca26\"],[1.0,\"#f0f921\"]]}],\"choropleth\":[{\"type\":\"choropleth\",\"colorbar\":{\"outlinewidth\":0,\"ticks\":\"\"}}],\"histogram2d\":[{\"type\":\"histogram2d\",\"colorbar\":{\"outlinewidth\":0,\"ticks\":\"\"},\"colorscale\":[[0.0,\"#0d0887\"],[0.1111111111111111,\"#46039f\"],[0.2222222222222222,\"#7201a8\"],[0.3333333333333333,\"#9c179e\"],[0.4444444444444444,\"#bd3786\"],[0.5555555555555556,\"#d8576b\"],[0.6666666666666666,\"#ed7953\"],[0.7777777777777778,\"#fb9f3a\"],[0.8888888888888888,\"#fdca26\"],[1.0,\"#f0f921\"]]}],\"heatmap\":[{\"type\":\"heatmap\",\"colorbar\":{\"outlinewidth\":0,\"ticks\":\"\"},\"colorscale\":[[0.0,\"#0d0887\"],[0.1111111111111111,\"#46039f\"],[0.2222222222222222,\"#7201a8\"],[0.3333333333333333,\"#9c179e\"],[0.4444444444444444,\"#bd3786\"],[0.5555555555555556,\"#d8576b\"],[0.6666666666666666,\"#ed7953\"],[0.7777777777777778,\"#fb9f3a\"],[0.8888888888888888,\"#fdca26\"],[1.0,\"#f0f921\"]]}],\"heatmapgl\":[{\"type\":\"heatmapgl\",\"colorbar\":{\"outlinewidth\":0,\"ticks\":\"\"},\"colorscale\":[[0.0,\"#0d0887\"],[0.1111111111111111,\"#46039f\"],[0.2222222222222222,\"#7201a8\"],[0.3333333333333333,\"#9c179e\"],[0.4444444444444444,\"#bd3786\"],[0.5555555555555556,\"#d8576b\"],[0.6666666666666666,\"#ed7953\"],[0.7777777777777778,\"#fb9f3a\"],[0.8888888888888888,\"#fdca26\"],[1.0,\"#f0f921\"]]}],\"contourcarpet\":[{\"type\":\"contourcarpet\",\"colorbar\":{\"outlinewidth\":0,\"ticks\":\"\"}}],\"contour\":[{\"type\":\"contour\",\"colorbar\":{\"outlinewidth\":0,\"ticks\":\"\"},\"colorscale\":[[0.0,\"#0d0887\"],[0.1111111111111111,\"#46039f\"],[0.2222222222222222,\"#7201a8\"],[0.3333333333333333,\"#9c179e\"],[0.4444444444444444,\"#bd3786\"],[0.5555555555555556,\"#d8576b\"],[0.6666666666666666,\"#ed7953\"],[0.7777777777777778,\"#fb9f3a\"],[0.8888888888888888,\"#fdca26\"],[1.0,\"#f0f921\"]]}],\"surface\":[{\"type\":\"surface\",\"colorbar\":{\"outlinewidth\":0,\"ticks\":\"\"},\"colorscale\":[[0.0,\"#0d0887\"],[0.1111111111111111,\"#46039f\"],[0.2222222222222222,\"#7201a8\"],[0.3333333333333333,\"#9c179e\"],[0.4444444444444444,\"#bd3786\"],[0.5555555555555556,\"#d8576b\"],[0.6666666666666666,\"#ed7953\"],[0.7777777777777778,\"#fb9f3a\"],[0.8888888888888888,\"#fdca26\"],[1.0,\"#f0f921\"]]}],\"mesh3d\":[{\"type\":\"mesh3d\",\"colorbar\":{\"outlinewidth\":0,\"ticks\":\"\"}}],\"scatter\":[{\"fillpattern\":{\"fillmode\":\"overlay\",\"size\":10,\"solidity\":0.2},\"type\":\"scatter\"}],\"parcoords\":[{\"type\":\"parcoords\",\"line\":{\"colorbar\":{\"outlinewidth\":0,\"ticks\":\"\"}}}],\"scatterpolargl\":[{\"type\":\"scatterpolargl\",\"marker\":{\"colorbar\":{\"outlinewidth\":0,\"ticks\":\"\"}}}],\"bar\":[{\"error_x\":{\"color\":\"#2a3f5f\"},\"error_y\":{\"color\":\"#2a3f5f\"},\"marker\":{\"line\":{\"color\":\"#E5ECF6\",\"width\":0.5},\"pattern\":{\"fillmode\":\"overlay\",\"size\":10,\"solidity\":0.2}},\"type\":\"bar\"}],\"scattergeo\":[{\"type\":\"scattergeo\",\"marker\":{\"colorbar\":{\"outlinewidth\":0,\"ticks\":\"\"}}}],\"scatterpolar\":[{\"type\":\"scatterpolar\",\"marker\":{\"colorbar\":{\"outlinewidth\":0,\"ticks\":\"\"}}}],\"histogram\":[{\"marker\":{\"pattern\":{\"fillmode\":\"overlay\",\"size\":10,\"solidity\":0.2}},\"type\":\"histogram\"}],\"scattergl\":[{\"type\":\"scattergl\",\"marker\":{\"colorbar\":{\"outlinewidth\":0,\"ticks\":\"\"}}}],\"scatter3d\":[{\"type\":\"scatter3d\",\"line\":{\"colorbar\":{\"outlinewidth\":0,\"ticks\":\"\"}},\"marker\":{\"colorbar\":{\"outlinewidth\":0,\"ticks\":\"\"}}}],\"scattermapbox\":[{\"type\":\"scattermapbox\",\"marker\":{\"colorbar\":{\"outlinewidth\":0,\"ticks\":\"\"}}}],\"scatterternary\":[{\"type\":\"scatterternary\",\"marker\":{\"colorbar\":{\"outlinewidth\":0,\"ticks\":\"\"}}}],\"scattercarpet\":[{\"type\":\"scattercarpet\",\"marker\":{\"colorbar\":{\"outlinewidth\":0,\"ticks\":\"\"}}}],\"carpet\":[{\"aaxis\":{\"endlinecolor\":\"#2a3f5f\",\"gridcolor\":\"white\",\"linecolor\":\"white\",\"minorgridcolor\":\"white\",\"startlinecolor\":\"#2a3f5f\"},\"baxis\":{\"endlinecolor\":\"#2a3f5f\",\"gridcolor\":\"white\",\"linecolor\":\"white\",\"minorgridcolor\":\"white\",\"startlinecolor\":\"#2a3f5f\"},\"type\":\"carpet\"}],\"table\":[{\"cells\":{\"fill\":{\"color\":\"#EBF0F8\"},\"line\":{\"color\":\"white\"}},\"header\":{\"fill\":{\"color\":\"#C8D4E3\"},\"line\":{\"color\":\"white\"}},\"type\":\"table\"}],\"barpolar\":[{\"marker\":{\"line\":{\"color\":\"#E5ECF6\",\"width\":0.5},\"pattern\":{\"fillmode\":\"overlay\",\"size\":10,\"solidity\":0.2}},\"type\":\"barpolar\"}],\"pie\":[{\"automargin\":true,\"type\":\"pie\"}]},\"layout\":{\"autotypenumbers\":\"strict\",\"colorway\":[\"#636efa\",\"#EF553B\",\"#00cc96\",\"#ab63fa\",\"#FFA15A\",\"#19d3f3\",\"#FF6692\",\"#B6E880\",\"#FF97FF\",\"#FECB52\"],\"font\":{\"color\":\"#2a3f5f\"},\"hovermode\":\"closest\",\"hoverlabel\":{\"align\":\"left\"},\"paper_bgcolor\":\"white\",\"plot_bgcolor\":\"#E5ECF6\",\"polar\":{\"bgcolor\":\"#E5ECF6\",\"angularaxis\":{\"gridcolor\":\"white\",\"linecolor\":\"white\",\"ticks\":\"\"},\"radialaxis\":{\"gridcolor\":\"white\",\"linecolor\":\"white\",\"ticks\":\"\"}},\"ternary\":{\"bgcolor\":\"#E5ECF6\",\"aaxis\":{\"gridcolor\":\"white\",\"linecolor\":\"white\",\"ticks\":\"\"},\"baxis\":{\"gridcolor\":\"white\",\"linecolor\":\"white\",\"ticks\":\"\"},\"caxis\":{\"gridcolor\":\"white\",\"linecolor\":\"white\",\"ticks\":\"\"}},\"coloraxis\":{\"colorbar\":{\"outlinewidth\":0,\"ticks\":\"\"}},\"colorscale\":{\"sequential\":[[0.0,\"#0d0887\"],[0.1111111111111111,\"#46039f\"],[0.2222222222222222,\"#7201a8\"],[0.3333333333333333,\"#9c179e\"],[0.4444444444444444,\"#bd3786\"],[0.5555555555555556,\"#d8576b\"],[0.6666666666666666,\"#ed7953\"],[0.7777777777777778,\"#fb9f3a\"],[0.8888888888888888,\"#fdca26\"],[1.0,\"#f0f921\"]],\"sequentialminus\":[[0.0,\"#0d0887\"],[0.1111111111111111,\"#46039f\"],[0.2222222222222222,\"#7201a8\"],[0.3333333333333333,\"#9c179e\"],[0.4444444444444444,\"#bd3786\"],[0.5555555555555556,\"#d8576b\"],[0.6666666666666666,\"#ed7953\"],[0.7777777777777778,\"#fb9f3a\"],[0.8888888888888888,\"#fdca26\"],[1.0,\"#f0f921\"]],\"diverging\":[[0,\"#8e0152\"],[0.1,\"#c51b7d\"],[0.2,\"#de77ae\"],[0.3,\"#f1b6da\"],[0.4,\"#fde0ef\"],[0.5,\"#f7f7f7\"],[0.6,\"#e6f5d0\"],[0.7,\"#b8e186\"],[0.8,\"#7fbc41\"],[0.9,\"#4d9221\"],[1,\"#276419\"]]},\"xaxis\":{\"gridcolor\":\"white\",\"linecolor\":\"white\",\"ticks\":\"\",\"title\":{\"standoff\":15},\"zerolinecolor\":\"white\",\"automargin\":true,\"zerolinewidth\":2},\"yaxis\":{\"gridcolor\":\"white\",\"linecolor\":\"white\",\"ticks\":\"\",\"title\":{\"standoff\":15},\"zerolinecolor\":\"white\",\"automargin\":true,\"zerolinewidth\":2},\"scene\":{\"xaxis\":{\"backgroundcolor\":\"#E5ECF6\",\"gridcolor\":\"white\",\"linecolor\":\"white\",\"showbackground\":true,\"ticks\":\"\",\"zerolinecolor\":\"white\",\"gridwidth\":2},\"yaxis\":{\"backgroundcolor\":\"#E5ECF6\",\"gridcolor\":\"white\",\"linecolor\":\"white\",\"showbackground\":true,\"ticks\":\"\",\"zerolinecolor\":\"white\",\"gridwidth\":2},\"zaxis\":{\"backgroundcolor\":\"#E5ECF6\",\"gridcolor\":\"white\",\"linecolor\":\"white\",\"showbackground\":true,\"ticks\":\"\",\"zerolinecolor\":\"white\",\"gridwidth\":2}},\"shapedefaults\":{\"line\":{\"color\":\"#2a3f5f\"}},\"annotationdefaults\":{\"arrowcolor\":\"#2a3f5f\",\"arrowhead\":0,\"arrowwidth\":1},\"geo\":{\"bgcolor\":\"white\",\"landcolor\":\"#E5ECF6\",\"subunitcolor\":\"white\",\"showland\":true,\"showlakes\":true,\"lakecolor\":\"white\"},\"title\":{\"x\":0.05},\"mapbox\":{\"style\":\"light\"}}},\"xaxis\":{\"anchor\":\"y\",\"domain\":[0.0,1.0],\"title\":{\"text\":\"Seats\"}},\"yaxis\":{\"anchor\":\"x\",\"domain\":[0.0,1.0],\"title\":{\"text\":\"count\"}},\"legend\":{\"tracegroupgap\":0},\"margin\":{\"t\":60},\"barmode\":\"relative\"},                        {\"responsive\": true}                    ).then(function(){\n",
              "                            \n",
              "var gd = document.getElementById('fa693531-a65c-4a11-a7c0-f79447d62387');\n",
              "var x = new MutationObserver(function (mutations, observer) {{\n",
              "        var display = window.getComputedStyle(gd).display;\n",
              "        if (!display || display === 'none') {{\n",
              "            console.log([gd, 'removed!']);\n",
              "            Plotly.purge(gd);\n",
              "            observer.disconnect();\n",
              "        }}\n",
              "}});\n",
              "\n",
              "// Listen for the removal of the full notebook cells\n",
              "var notebookContainer = gd.closest('#notebook-container');\n",
              "if (notebookContainer) {{\n",
              "    x.observe(notebookContainer, {childList: true});\n",
              "}}\n",
              "\n",
              "// Listen for the clearing of the current output cell\n",
              "var outputEl = gd.closest('.output');\n",
              "if (outputEl) {{\n",
              "    x.observe(outputEl, {childList: true});\n",
              "}}\n",
              "\n",
              "                        })                };                            </script>        </div>\n",
              "</body>\n",
              "</html>"
            ]
          },
          "metadata": {}
        },
        {
          "output_type": "display_data",
          "data": {
            "text/html": [
              "<html>\n",
              "<head><meta charset=\"utf-8\" /></head>\n",
              "<body>\n",
              "    <div>            <script src=\"https://cdnjs.cloudflare.com/ajax/libs/mathjax/2.7.5/MathJax.js?config=TeX-AMS-MML_SVG\"></script><script type=\"text/javascript\">if (window.MathJax && window.MathJax.Hub && window.MathJax.Hub.Config) {window.MathJax.Hub.Config({SVG: {font: \"STIX-Web\"}});}</script>                <script type=\"text/javascript\">window.PlotlyConfig = {MathJaxConfig: 'local'};</script>\n",
              "        <script charset=\"utf-8\" src=\"https://cdn.plot.ly/plotly-2.24.1.min.js\"></script>                <div id=\"2cd928b8-3e97-4533-8da6-362884805335\" class=\"plotly-graph-div\" style=\"height:525px; width:100%;\"></div>            <script type=\"text/javascript\">                                    window.PLOTLYENV=window.PLOTLYENV || {};                                    if (document.getElementById(\"2cd928b8-3e97-4533-8da6-362884805335\")) {                    Plotly.newPlot(                        \"2cd928b8-3e97-4533-8da6-362884805335\",                        [{\"alignmentgroup\":\"True\",\"bingroup\":\"x\",\"hovertemplate\":\"Price=%{x}\\u003cbr\\u003ecount=%{y}\\u003cextra\\u003e\\u003c\\u002fextra\\u003e\",\"legendgroup\":\"\",\"marker\":{\"color\":\"#636efa\",\"pattern\":{\"shape\":\"\"}},\"name\":\"\",\"offsetgroup\":\"\",\"orientation\":\"v\",\"showlegend\":false,\"x\":[1.75,12.5,4.5,6.0,17.74,2.35,3.5,17.5,5.2,1.95,9.95,4.49,5.6,27.0,17.5,15.0,5.4,5.99,6.34,28.0,18.55,8.25,23.5,1.87,2.85,4.25,4.25,2.75,9.9,4.0,7.75,6.75,12.5,11.5,6.98,1.85,8.63,4.85,28.0,5.0,1.25,1.53,5.58,4.74,8.85,10.11,4.25,10.95,3.85,5.5,21.43,4.25,3.3,3.85,3.6,3.99,3.3,2.07,7.75,2.25,16.5,2.75,26.7,10.0,2.5,13.5,1.85,35.67,8.15,10.5,14.5,9.65,3.48,6.92,6.46,29.5,2.0,4.5,11.75,1.3,3.75,4.5,4.82,2.8,3.11,3.25,13.9,2.25,5.75,2.1,5.0,16.5,39.58,5.5,8.1,3.5,2.79,3.45,4.45,2.65,3.8,4.65,3.95,9.8,2.7,2.41,3.9,24.0,5.75,5.25,19.25,3.91,2.15,20.75,3.35,11.11,20.0,6.55,7.0,7.5,0.85,16.75,10.95,2.45,3.23,7.75,9.35,3.25,5.25,7.25,7.47,13.25,5.81,2.6,54.0,11.5,1.6,17.22,6.0,3.95,17.95,3.7,5.43,1.67,13.49,2.85,4.75,9.9,37.0,26.5,23.32,6.25,30.0,9.86,8.5,4.23,3.5,2.5,2.39,11.25,7.11,10.9,6.2,7.9,4.42,13.5,6.25,2.1,45.0,33.66,3.65,2.75,42.5,6.5,19.0,4.45,23.0,8.35,22.95,1.5,6.89,1.45,33.5,1.25,4.2,6.75,32.0,7.5,4.6,4.04,10.31,55.76,2.6,8.5,2.95,3.5,3.55,3.25,4.5,5.35,6.5,9.0,6.0,2.75,1.5,19.9,10.0,3.0,2.11,11.96,3.25,4.75,5.95,8.15,4.22,10.5,45.0,2.9,8.9,26.0,8.22,3.5,1.25,3.7,39.41,2.65,8.92,4.1,35.67,3.6,0.85,3.32,3.6,6.8,2.5,19.64,7.0,3.87,6.27,18.12,2.65,7.2,14.3,6.9,10.75,0.95,8.09,18.5,4.75,8.45,3.5,1.8,3.7,7.17,1.75,21.99,18.65,1.85,5.95,3.75,3.75,2.6,1.75,2.8,61.29,18.0,4.35,13.75,2.0,10.0,1.65,45.77,3.25,12.8,0.55,7.15,7.0,3.75,8.5,4.35,3.26,4.21,70.36,2.95,4.28,3.57,3.11,5.96,4.7,6.9,5.25,28.0,1.35,4.85,6.7,3.1,18.64,2.8,20.25,26.78,8.26,3.89,2.1,12.69,2.58,20.77,20.26,1.5,2.5,4.25,57.0,44.0,3.65,2.05,3.13,1.5,2.85,2.65,10.6,1.25,8.25,4.45,3.7,2.8,1.8,21.95,49.0,62.67,1.4,5.5,2.95,6.86,6.15,3.3,2.55,1.5,2.5,1.4,3.4,2.25,7.5,2.8,7.66,7.15,3.5,3.5,3.45,3.55,25.99,5.25,2.9,2.05,3.75,6.75,0.95,52.0,3.91,27.3,2.7,3.5,6.2,2.75,3.25,3.25,0.65,35.0,3.25,2.9,2.9,17.75,8.25,5.77,9.49,12.95,20.0,1.0,7.1,16.5,26.0,3.2,9.48,4.0,26.5,11.77,37.0,8.75,1.95,3.75,2.5,34.5,4.65,32.0,62.81,3.25,3.1,3.91,11.0,3.5,16.5,30.0,28.0,28.0,0.92,2.75,53.83,4.95,33.5,27.95,7.25,25.71,29.67,19.0,13.05,25.5,8.5,7.25,0.8,6.9,70.99,2.25,5.5,4.35,2.25,24.5,5.45,12.03,8.5,28.5,1.2,5.75,3.2,9.89,6.58,4.06,13.37,25.82,3.74,22.0,1.45,2.0,4.7,3.75,7.7,3.35,2.6,13.77,7.1,2.65,2.5,7.53,7.98,39.0,2.25,3.85,13.5,3.5,8.92,20.37,36.5,48.91,7.2,5.99,5.25,6.5,4.4,4.6,2.95,3.26,2.22,10.5,8.26,14.45,2.5,51.43,23.0,5.5,4.5,6.8,8.75,7.0,33.5,2.25,4.24,28.42,2.75,3.0,3.55,4.8,13.5,56.0,3.99,15.5,2.32,18.58,5.5,3.2,4.0,1.6,4.15,4.25,2.6,3.43,2.55,32.0,6.25,3.6,18.5,4.25,4.8,13.0,2.25,2.3,13.56,12.25,3.76,8.58,27.5,4.95,3.3,8.0,2.79,45.64,2.55,1.0,37.56,9.29,6.37,2.98,5.75,13.0,6.8,10.49,5.6,2.85,8.36,1.0,10.75,3.85,3.0,9.6,13.25,5.75,6.75,4.85,38.99,2.85,9.51,18.5,6.75,29.4,3.29,9.5,2.2,6.5,4.9,6.75,3.8,29.5,10.5,6.2,5.0,2.3,17.0,25.5,5.65,5.6,29.98,7.39,19.0,5.0,3.35,4.45,8.31,6.0,5.25,1.4,12.3,1.5,8.12,6.12,10.88,3.5,6.15,33.0,13.5,17.11,29.77,5.95,5.75,19.0,4.75,3.3,16.5,44.0,4.39,6.2,24.22,5.45,44.0,24.82,11.69,20.0,1.45,48.5,9.45,12.5,6.9,5.8,44.56,8.5,10.7,12.0,2.44,1.95,4.35,17.5,2.9,2.9,8.9,16.75,3.95,2.1,4.29,3.85,9.0,4.5,12.46,4.65,20.5,2.9,1.45,0.65,29.5,25.0,3.5,11.25,10.79,5.9,5.12,5.7,35.84,1.25,2.65,9.19,23.5,12.5,1.5,0.8,0.75,8.1,9.75,37.93,1.96,20.5,2.75,75.0,2.8,9.25,3.0,23.89,12.75,4.15,4.65,8.9,1.5,3.27,18.0,6.3,11.31,6.16,6.0,5.43,4.65,7.5,6.25,9.25,3.15,2.3,5.25,7.4,1.55,6.0,5.9,4.7,6.5,3.55,7.1,6.0,7.99,4.1,3.95,4.38,2.75,55.54,29.0,6.6,6.99,18.75,1.28,1.2,4.31,16.5,5.64,31.12,25.46,7.88,36.0,30.0,2.85,3.5,7.5,19.0,54.0,4.7,8.5,17.0,3.51,19.5,17.0,43.35,2.65,3.52,6.25,24.75,5.25,11.0,9.1,3.25,8.5,3.1,19.86,4.9,5.7,1.75,2.9,7.83,8.15,2.0,6.25,3.4,3.19,7.75,3.2,4.9,3.8,4.0,23.5,1.15,2.2,26.5,10.65,35.68,31.94,4.2,9.9,15.46,8.46,3.25,2.6,5.2,1.8,1.6,2.5,2.5,6.7,1.2,35.55,7.75,1.94,2.2,3.8,15.65,39.47,1.5,8.85,17.9,5.08,6.25,22.75,1.46,2.05,4.08,4.55,14.0,10.9,2.45,15.8,8.25,8.5,15.54,2.35,4.32,3.9,5.2,5.85,6.25,17.63,9.75,55.0,4.1,11.99,13.54,56.0,6.5,4.75,5.6,29.2,6.35,4.95,8.5,4.5,5.5,6.56,2.3,3.5,4.55,7.75,5.25,23.29,23.99,1.79,13.9,18.95,2.49,3.15,6.45,4.25,2.75,7.14,2.44,3.5,7.3,2.75,8.2,6.51,4.25,6.21,4.58,7.5,2.1,4.09,10.75,41.5,4.4,6.25,10.5,7.25,3.2,3.95,12.07,18.6,5.7,1.75,10.99,14.5,3.11,13.96,7.11,6.9,7.77,5.5,5.35,4.5,4.75,32.8,0.7,50.29,10.99,5.57,5.9,9.43,2.9,3.68,21.67,12.5,19.92,6.75,6.96,3.25,8.65,5.0,5.5,2.6,3.41,2.7,5.5,35.0,9.75,4.25,3.2,6.85,4.5,3.55,1.9,3.6,21.8,13.5,2.66,3.75,32.0,8.07,5.64,23.99,7.5,27.0,2.85,6.35,3.3,5.0,6.46,3.75,1.52,3.61,43.74,20.0,3.0,3.65,5.25,58.0,8.65,2.5,7.75,4.15,10.85,5.53,11.5,40.0,9.25,2.29,7.0,1.65,8.25,9.14,6.5,2.95,5.75,2.85,2.1,13.55,20.5,20.0,59.72,6.5,7.5,2.15,8.44,12.49,5.48,4.2,7.2,4.8,5.83,18.39,5.85,6.21,3.65,3.7,30.0,4.85,6.93,2.6,1.89,39.5,10.0,9.95,9.45,28.25,1.8,1.4,7.25,3.6,1.2,4.94,1.25,4.8,31.15,3.3,2.4,2.0,3.1,5.09,1.05,7.0,2.5,17.5,2.1,17.75,1.45,2.45,13.8,5.85,8.9,5.15,16.56,1.65,16.0,1.45,8.08,4.5,4.3,2.6,4.45,5.37,1.75,16.5,19.0,2.8,6.2,3.8,6.1,11.65,4.15,16.5,4.3,2.25,6.75,9.4,5.39,8.51,1.85,2.5,4.75,3.5,5.5,6.33,2.47,3.3,3.5,38.75,7.99,13.28,9.5,14.01,6.99,11.0,11.0,2.3,26.5,67.0,17.75,4.8,4.57,3.5,7.61,25.0,5.88,13.5,4.6,4.9,5.25,12.41,3.8,8.95,7.2,4.5,4.15,7.94,7.25,3.7,2.45,1.5,12.0,2.2,3.6,1.92,20.5,4.25,3.2,2.6,3.85,3.48,4.55,7.0,5.75,8.73,1.7,29.5,10.49,64.0,7.55,3.95,3.25,2.75,7.35,4.7,8.77,3.42,2.5,20.0,5.25,14.5,3.45,3.3,51.0,6.5,3.65,7.25,6.01,2.8,4.0,5.95,9.2,5.35,12.0,38.94,2.69,27.5,2.75,2.8,6.45,5.88,4.65,2.5,51.35,6.85,5.25,9.23,22.0,5.19,4.35,24.5,5.75,9.19,10.75,2.99,3.89,11.73,3.11,14.45,8.7,5.04,8.5,15.65,5.65,16.5,2.0,3.9,14.5,44.0,5.0,19.75,11.44,1.75,5.6,30.42,9.57,3.5,10.46,4.85,5.68,13.25,16.0,3.0,0.99,5.0,4.75,5.35,5.98,3.5,4.77,5.45,6.85,7.3,1.25,8.25,2.71,3.6,3.0,4.65,9.5,2.95,3.0,5.95,4.0,2.5,11.37,2.25,3.1,17.18,6.5,5.7,8.0,2.6,2.45,11.57,2.3,5.9,7.2,5.9,6.0,1.95,6.55,25.0,2.65,69.5,14.0,2.1,20.4,5.68,5.55,12.75,3.35,1.55,5.9,18.98,11.51,7.75,13.9,1.35,38.0,11.6,12.25,3.8,3.25,6.4,3.95,3.57,1.25,3.65,12.5,23.0,1.35,6.32,3.4,0.77,0.9,18.0,19.0,1.1,2.0,6.5,9.45,4.0,32.25,2.1,9.75,6.3,21.0,4.65,17.0,4.35,14.82,40.0,6.15,11.25,32.0,45.62,6.24,4.8,4.5,3.87,2.75,6.57,2.0,3.65,6.95,5.5,7.0,24.0,11.0,32.5,6.45,15.75,5.5,19.03,15.25,2.4,2.3,14.35,3.5,11.97,1.6,18.9,5.4,2.95,5.1,1.5,4.9,2.9,1.15,2.3,5.99,3.4,1.7,1.99,2.5,4.85,2.65,27.35,6.9,3.5,12.5,9.2,4.9,3.2,5.55,13.5,2.6,4.5,34.0,12.0,5.25,21.56,24.68,3.67,29.5,3.1,2.9,43.0,15.95,4.5,3.49,4.25,1.9,16.57,5.75,14.0,2.5,1.2,0.85,13.95,1.6,3.6,4.5,6.06,5.29,5.75,5.8,5.72,4.39,11.05,4.83,2.96,4.5,19.5,8.75,67.0,8.4,4.99,8.18,2.9,7.1,7.05,17.5,3.41,1.3,5.68,4.1,4.0,30.0,1.8,6.93,70.0,7.9,2.78,14.4,13.5,3.15,2.88,2.15,3.75,3.6,3.6,7.55,4.7,1.6,3.34,9.1,6.17,2.5,3.0,5.75,10.75,2.85,6.5,9.45,6.75,7.75,4.4,42.0,5.67,11.5,1.69,1.8,3.2,1.5,45.86,5.1,4.85,2.4,22.0,4.28,5.67,6.2,14.49,3.0,2.25,43.78,11.45,10.5,7.48,3.1,2.55,3.5,2.59,5.45,6.0,15.49,12.5,4.75,7.85,6.0,4.0,28.75,2.5,5.5,1.59,6.22,2.75,1.35,25.0,2.8,2.45,6.35,8.0,8.25,5.95,19.92,3.15,5.75,32.44,8.01,6.48,0.75,5.0,7.75,2.6,9.2,5.05,9.6,5.5,9.35,2.6,3.5,4.26,4.25,11.75,3.5,7.5,3.25,4.9,27.0,8.91,6.69,6.02,4.5,2.0,2.4,1.2,2.9,40.88,27.0,7.5,1.5,39.5,3.39,12.4,6.85,5.75,2.0,0.9,3.8,16.35,16.5,8.7,6.1,21.94,22.0,2.65,5.27,2.48,6.0,8.9,18.0,11.64,8.99,5.25,2.95,2.65,4.0,12.5,3.25,4.0,6.25,5.8,5.0,58.73,17.49,1.95,3.0,5.5,16.5,14.5,7.79,8.27,97.07,2.15,3.0,28.79,5.45,3.95,16.0,4.25,34.5,2.6,13.48,32.1,6.17,5.5,9.15,4.5,10.5,5.37,5.45,9.25,7.7,7.99,3.0,4.0,6.69,4.25,10.5,22.55,5.2,11.87,6.99,5.0,44.0,2.79,2.9,9.85,49.0,9.25,3.75,7.29,23.5,2.6,3.1,29.98,6.73,3.5,2.35,16.13,5.9,3.9,1.5,6.95,7.0,7.23,3.81,4.5,12.6,48.0,2.96,3.25,8.5,8.75,3.08,41.5,7.0,11.5,2.6,4.3,8.35,24.9,13.75,3.85,23.25,7.0,5.75,1.65,6.5,7.5,72.94,11.0,3.02,3.32,3.24,2.35,5.5,6.75,6.15,5.45,2.3,6.21,5.21,11.99,3.1,7.5,4.0,7.73,7.8,1.3,4.42,4.0,13.0,5.38,3.25,3.87,8.25,9.28,6.25,1.15,7.8,4.5,7.56,16.08,4.5,5.0,2.2,4.0,2.51,4.75,2.0,2.1,6.25,10.6,6.0,0.45,2.5,12.75,30.29,1.6,7.54,6.84,6.0,8.0,24.74,5.5,36.0,11.79,3.0,6.75,1.4,5.75,3.4,4.89,4.95,3.49,3.85,6.35,7.08,38.0,6.25,10.15,10.75,4.65,4.75,7.78,6.75,2.99,2.35,3.65,2.74,3.5,4.76,6.2,2.35,24.5,6.0,3.65,6.26,2.1,32.95,7.8,4.25,4.86,4.9,7.06,4.5,3.22,3.25,4.53,34.78,6.5,2.25,8.0,8.37,5.39,37.3,70.8,22.25,6.03,4.9,3.96,4.6,5.5,3.25,6.25,3.0,4.25,12.25,10.95,16.5,7.8,3.7,4.0,26.75,28.03,5.44,6.2,0.9,3.95,0.44,2.75,7.5,2.5,5.0,3.6,3.99,5.64,12.0,0.7,19.0,30.48,8.2,7.55,0.99,4.15,6.2,4.4,2.1,2.2,8.34,4.35,6.8,3.3,5.04,9.2,5.7,8.48,48.0,6.1,2.75,8.0,1.85,3.85,4.74,5.63,2.62,4.9,2.65,5.99,2.4,4.25,40.0,2.7,2.99,3.4,30.8,5.85,4.0,14.12,4.55,38.0,2.9,6.0,6.95,2.75,5.1,6.75,3.69,5.45,9.29,4.0,2.9,5.25,5.75,13.12,7.83,3.15,10.4,4.35,5.23,6.01,4.4,12.75,2.4,5.71,5.49,1.3,8.5,12.99,5.0,9.0,5.22,3.8,7.27,5.1,29.0,2.9,1.38,5.5,7.25,6.98,5.25,1.95,24.5,8.31,36.0,5.5,5.89,7.95,2.75,6.25,4.95,6.27,8.65,3.5,35.0,4.45,2.65,4.7,8.9,17.45,9.58,6.22,7.8,27.75,7.0,64.87,6.5,2.7,2.5,3.9,3.95,2.1,3.5,2.0,5.35,3.8,17.25,5.53,1.95,8.2,0.9,6.5,19.41,6.58,2.1,2.0,3.7,3.8,3.25,5.53,10.9,5.1,2.2,1.6,11.25,5.9,14.4,3.6,40.5,38.95,3.6,7.12,7.52,10.35,7.0,10.85,2.35,2.9,7.65,6.4,10.1,4.25,19.65,4.4,3.25,2.8,4.3,1.55,4.7,7.07,79.0,5.75,3.25,8.89,5.9,4.95,3.75,10.97,24.94,1.97,1.4,7.27,4.0,4.75,5.1,16.11,10.55,30.0,1.6,18.49,9.96,4.75,3.65,15.5,11.82,2.05,3.3,2.25,20.12,4.95,7.48,5.5,1.7,13.19,3.85,5.75,9.0,2.21,8.09,48.63,39.47,22.24,2.6,12.0,18.0,9.99,2.45,8.99,3.15,8.2,11.5,7.3,1.59,3.15,8.5,3.0,21.0,7.75,23.0,13.75,8.29,5.79,30.5,3.8,4.45,3.3,1.75,5.5,13.35,22.5,5.25,3.75,6.32,7.75,1.37,2.1,9.3,12.0,23.5,1.8,12.5,4.74,5.43,31.62,6.3,8.45,5.0,13.0,4.7,93.67,3.3,1.51,6.09,5.95,9.0,4.25,23.5,6.35,3.4,93.0,21.6,4.0,5.5,19.25,3.95,4.25,17.02,6.5,2.95,7.12,11.25,2.75,12.0,3.67,5.0,2.3,2.2,41.0,28.5,5.49,17.5,1.99,6.64,16.5,5.0,5.4,2.99,4.1,6.76,5.5,5.99,2.59,26.75,8.5,23.0,3.35,10.75,6.29,7.75,13.5,3.75,3.75,1.5,1.45,4.12,17.11,10.25,2.49,3.85,6.25,4.88,9.45,4.8,1.99,2.8,22.0,4.3,9.75,5.9,14.5,2.4,2.11,7.6,3.6,6.0,7.45,2.1,5.2,6.99,6.36,11.62,43.6,4.9,6.7,3.05,25.0,19.05,4.5,4.15,11.9,2.1,6.95,2.4,2.65,9.0,2.1,2.5,8.95,34.0,3.15,4.0,4.45,1.5,14.5,8.41,5.45,8.9,3.65,29.0,13.5,5.4,5.89,8.45,4.0,45.0,3.94,8.0,4.1,6.25,5.25,83.96,1.93,21.0,4.3,5.25,32.0,3.9,2.2,3.7,11.27,2.41,19.0,5.8,13.52,24.5,3.25,56.73,9.95,5.5,25.0,1.0,2.15,7.89,10.25,6.0,7.53,39.45,5.84,8.65,7.74,2.5,5.7,5.8,36.5,9.5,3.48,4.55,3.9,2.7,31.0,10.3,7.75,3.2,4.85,34.08,8.1,2.35,1.8,3.42,5.34,31.99,4.75,6.1,3.69,15.0,14.5,5.65,2.5,38.5,5.49,3.55,10.75,11.0,4.5,8.42,11.6,33.63,2.25,12.95,4.25,25.02,3.95,4.4,4.95,5.5,3.25,4.02,11.73,9.5,8.6,4.0,5.55,2.5,41.6,7.41,6.5,1.2,23.0,2.74,3.9,8.0,4.0,17.75,5.05,12.0,29.6,6.5,4.75,24.36,3.2,3.6,3.58,2.5,3.5,25.0,1.75,10.0,7.75,6.45,10.0,4.5,3.4,4.5,4.3,46.0,3.4,14.5,2.1,3.65,3.0,3.95,6.75,6.53,22.0,4.75,5.99,3.05,2.4,1.3,6.71,7.2,5.4,6.63,7.5,14.21,3.0,5.11,3.39,22.99,2.35,2.85,18.5,5.99,3.0,3.6,24.0,6.26,13.7,35.0,5.02,3.1,5.5,3.59,4.65,3.8,12.5,12.9,2.35,4.15,22.58,2.65,2.25,16.0,19.5,21.0,17.5,2.41,4.45,29.93,2.95,1.02,11.0,3.5,5.35,5.65,22.0,5.95,2.35,4.1,5.4,8.45,42.5,10.75,1.65,11.03,3.5,6.3,6.75,7.5,15.5,4.65,7.58,2.2,21.0,5.25,5.22,2.0,9.18,1.74,4.45,4.95,5.64,6.9,13.95,17.0,4.6,5.21,12.34,1.5,22.99,43.0,40.0,1.2,2.9,13.9,7.85,54.45,4.75,3.25,7.1,4.65,5.0,4.95,9.8,78.8,2.99,4.45,0.75,5.0,5.0,4.7,9.69,5.5,65.0,5.11,2.19,4.25,14.5,5.65,22.5,1.75,1.5,3.2,4.5,4.5,8.0,28.9,4.1,2.3,7.22,5.8,3.5,6.35,8.85,2.0,5.5,2.3,7.95,6.16,2.85,25.0,10.36,26.0,4.35,4.5,5.0,3.67,6.0,6.34,22.0,1.67,7.95,9.74,6.0,1.5,21.5,3.9,2.35,2.65,3.16,2.05,2.95,3.9,6.68,3.5,8.11,8.3,45.61,4.45,7.85,3.1,3.75,7.65,4.9,16.52,14.05,6.75,9.2,3.0,2.75,20.5,4.25,6.0,6.0,2.41,7.25,23.65,6.5,18.06,3.2,6.42,23.0,5.9,7.75,15.0,9.0,11.5,6.2,5.92,6.29,4.12,3.8,2.7,20.28,3.9,16.5,3.7,79.0,17.99,3.9,3.12,1.65,3.5,4.85,39.22,2.0,10.45,27.0,2.25,3.45,6.14,2.85,3.25,4.0,2.59,6.96,2.19,3.0,3.6,3.7,21.75,45.0,3.19,6.2,3.96,0.82,4.5,3.55,5.5,10.25,30.0,3.5,3.1,3.25,8.99,3.99,6.0,18.25,7.75,4.5,16.75,17.5,7.7,4.45,5.25,33.66,2.8,8.47,9.32,27.43,6.5,9.5,31.8,4.2,3.85,6.0,1.65,14.5,7.1,28.0,9.38,4.78,1.7,17.85,2.75,5.95,1.5,3.8,38.5,2.15,3.75,8.95,5.0,2.95,10.49,1.85,6.45,5.25,5.99,3.82,39.0,25.75,2.2,2.0,56.5,21.0,4.0,3.83,5.89,1.36,44.0,3.26,8.0,4.25,6.0,16.61,7.26,4.0,34.51,0.95,2.2,5.75,1.2,36.75,10.0,17.89,4.05,22.0,27.87,8.75,4.79,11.92,53.11,1.15,7.45,3.5,70.15,3.15,19.5,15.0,7.57,4.4,60.0,1.6,4.9,5.95,5.35,5.4,23.45,1.9,6.1,4.95,2.5,3.48,4.4,7.99,10.99,18.5,21.69,5.17,4.5,6.75,3.12,8.25,20.14,12.6,6.61,13.23,4.75,2.9,5.5,9.47,1.95,2.2,1.15,4.35,4.5,3.55,4.75,4.52,12.75,20.04,6.5,7.5,4.15,2.5,5.4,3.15,52.5,5.95,6.97,3.2,1.12,6.69,5.9,2.25,4.5,2.61,11.5,35.0,0.5,5.75,11.5,2.75,31.5,4.92,3.52,17.55,5.8,6.95,2.4,5.25,4.25,1.5,4.5,2.5,1.55,6.5,18.0,4.96,3.25,8.5,2.75,3.4,7.0,3.21,14.25,6.5,5.49,0.8,1.99,5.91,6.44,2.9,4.6,2.35,7.21,8.0,3.5,5.9,1.74,6.8,7.5,8.0,5.99,12.9,7.0,35.0,5.5,18.46,2.4,1.0,2.65,5.96,75.0,27.15,10.5,6.7,4.9,8.0,3.63,4.8,4.25,4.24,30.27,14.25,3.41,2.78,15.5,3.0,2.3,13.28,2.25,3.36,4.25,4.3,6.0,9.18,4.99,3.75,2.5,7.2,29.5,17.55,12.0,13.5,5.1,10.3,5.7,3.41,2.4,5.6,1.0,8.2,27.5,3.5,4.58,10.34,3.25,5.0,2.25,51.52,8.62,7.25,5.47,31.0,35.98,3.42,11.5,7.25,8.0,7.33,3.35,4.4,2.99,5.6,6.63,7.9,7.0,4.95,9.19,5.1,5.9,9.51,3.9,5.39,3.0,4.3,6.75,4.5,2.75,9.0,0.7,2.55,3.54,4.25,1.2,19.5,12.0,3.9,9.13,2.25,3.25,14.79,2.35,3.1,12.9,2.5,3.65,7.5,3.74,5.86,39.62,7.05,7.5,2.1,11.6,19.25,17.92,3.6,4.5,7.4,59.29,5.5,1.75,6.75,3.95,4.2,8.4,8.25,3.31,7.5,4.75,8.79,9.5,1.6,1.55,5.85,7.52,3.6,4.73,10.5,34.54,6.07,7.76,7.46,3.49,4.05,11.88,6.45,50.0,9.0,14.25,7.36,4.4,3.1,4.28,5.5,6.99,4.29,4.2,4.11,18.75,64.95,1.59,3.6,7.87,5.55,6.4,2.65,5.5,7.31,7.1,7.83,0.85,3.55,8.19,28.0,13.0,3.29,4.41,4.99,17.98,7.71,2.8,3.0,12.49,5.0,32.64,6.5,35.0,2.0,9.46,39.0,15.0,6.15,14.5,3.25,5.18,1.24,2.8,5.23,0.45,3.25,1.5,2.85,4.5,16.25,7.75,4.35,33.13,3.63,4.75,6.51,4.8,6.0,6.4,4.9,20.57,4.76,2.0,9.92,3.69,5.75,5.7,4.94,4.29,3.0,6.5,4.9,5.4,24.0,7.46,9.6,25.0,6.8,8.59,5.29,2.5,13.9,20.0,3.4,5.5,3.65,5.86,10.44,5.0,3.37,6.95,9.9,3.3,50.5,12.5,20.5,14.5,20.0,5.25,5.9,2.6,11.0,15.5,5.75,75.0,2.0,2.3,8.2,4.8,8.5,2.9,6.5,5.85,23.91,7.36,17.25,7.0,17.65,2.5,6.0,8.25,44.83,10.5,1.9,4.25,26.5,22.5,3.3,4.3,5.25,11.75,4.25,14.22,4.2,18.25,18.5,2.4,6.5,3.2,3.99,5.45,2.7,6.25,13.28,3.7,39.51,1.4,3.5,3.78,2.7,3.2,5.0,7.0,2.85,4.25,4.9,16.9,4.25,4.34,17.0,28.45,6.15,9.25,4.85,4.8,2.3,4.75,5.0,2.5,5.95,16.0,6.15,4.05,3.1,5.49,42.91,5.7,2.85,2.35,14.76,2.25,3.65,7.25,10.69,5.5,5.1,3.25,9.25,1.7,2.87,17.75,4.5,2.95,2.6,3.0,15.5,2.8,2.5,5.75,2.8,4.59,3.65,19.85,18.5,6.95,2.85,3.75,2.3,2.3,5.95,3.49,47.7,6.43,4.5,39.75,4.0,6.98,1.75,4.75,23.5,7.49,10.85,3.5,6.3,6.75,28.88,14.23,15.0,5.8,3.75,1.15,12.75,1.95,4.95,8.25,20.99,17.5,5.36,6.35,2.95,55.7,1.15,37.5,4.07,2.99,7.9,7.49,1.1,56.0,3.5,3.0,6.1,2.25,5.95,4.95,5.49,6.67,6.25,1.51,34.88,6.9,5.99,10.4,29.0,5.85,2.21,2.4,3.0,3.75,2.95,5.8,4.9,16.95,12.5,5.0,4.68,29.8,3.46,4.0,4.5,5.87,9.5,32.5,3.88,13.08,3.5,3.5,4.45,2.35,5.0,28.0,2.0,6.35,24.63,3.0,7.9,3.25,8.25,2.85,3.2,1.75,3.38,5.75,4.7,2.9,4.25,14.5,5.34,3.85,8.5,4.2,6.75,26.0,8.61,1.46,2.8,4.0,5.47,2.45,21.5,1.38,13.5,3.1,5.49,9.51,2.39,3.25,5.65,1.85,2.02,5.8,6.9,5.35,2.85,22.75,0.45,4.64,5.27,10.0,3.95,3.38,16.8,1.99,5.84,36.15,25.7,9.24,7.65,25.31,4.75,6.69,3.1,1.55,6.84,1.6,21.73,4.75,2.45,31.55,10.25,27.36,6.5,4.25,5.5,4.0,4.65,28.5,7.11,3.9,5.6,2.25,3.9,28.63,7.25,2.0,3.5,5.0,3.72,3.45,4.5,14.36,5.5,3.0,6.08,5.0,20.25,1.2,18.0,17.5,2.1,7.5,24.77,8.65,35.5,10.5,13.0,26.5,1.4,7.51,4.3,8.95,6.91,9.75,4.0,3.65,10.75,4.51,49.22,3.7,12.99,4.15,4.4,4.25,4.25,7.7,39.75,8.5,7.0,0.8,15.25,2.25,4.85,6.42,2.5,5.75,0.5,11.52,4.5,4.75,13.54,23.41,19.25,20.0,13.0,3.99,4.65,4.65,3.15,8.25,65.0,4.5,17.5,4.31,6.2,4.67,3.32,3.75,4.7,6.5,7.25,8.94,7.34,6.9,5.9,6.75,4.1,27.0,4.5,14.5,5.25,1.2,4.95,7.5,48.0,4.45,59.65,4.38,7.9,1.88,10.5,7.29,6.0,6.7,1.5,23.8,7.77,3.32,4.94,11.0,3.4,4.17,1.25,5.45,2.59,12.01,2.45,29.0,2.4,11.99,7.9,6.25,1.8,2.8,4.9,2.25,8.89,15.0,5.65,7.0,2.95,3.3,3.5,2.3,13.69,3.1,12.75,13.75,6.75,5.25,8.75,8.87,6.5,4.5,12.5,16.8,8.75,8.5,2.21,1.6,6.25,2.25,25.75,6.75,6.25,5.1,10.75,5.7,5.95,2.4,3.49,4.0,3.85,3.95,3.0,6.7,6.14,4.4,4.25,25.93,7.0,25.12,4.45,2.4,4.33,6.93,4.25,12.5,4.9,4.5,3.0,5.8,3.33,6.62,5.75,6.2,3.5,2.0,4.0,9.5,17.5,6.11,3.75,6.2,6.15,2.4,2.15,3.75,2.15,4.75,2.45,11.15,8.9,4.35,12.0,8.5,4.27,4.25,9.25,8.61,28.0,9.25,8.6,7.53,5.75,4.15,5.84,16.5,43.0,3.55,8.9,2.5,3.85,7.5,1.8,2.25,24.25,4.35,11.5,4.75,4.99,9.15,2.35,13.99,19.75,16.77,2.5,3.65,23.5,3.11,4.57,5.32,3.2,5.63,3.0,9.25,1.2,2.15,3.05,11.5,2.3,4.95,4.75,10.15,2.65,3.8,16.68,5.0,3.75,4.11,4.25,3.45,22.5,4.5,0.9,1.85,3.25,3.1,7.34,4.25,6.45,10.75,27.75,0.99,24.0,6.1,8.25,4.65,9.75,4.4,3.99,45.73,5.27,3.5,7.25,1.6,6.0,3.0,4.95,8.99,1.85,6.16,3.5,4.5,7.75,6.6,4.98,9.75,5.55,10.3,7.5,1.8,6.25,6.8,3.0,11.6,6.95,3.5,5.5,5.65,3.25,7.72,12.0,1.55,10.75,6.72,28.55,75.0,10.49,3.8,18.5,6.0,5.5,2.3,8.7,4.95,4.25,10.94,21.26,11.5,6.0,4.1,2.01,2.6,2.35,9.15,2.9,9.18,11.45,2.1,5.53,3.75,12.5,15.5,2.1,14.5,12.46,5.25,14.5,25.0,2.66,45.0,5.1,3.5,12.5,5.55,19.48,3.91,2.19,6.89,3.47,3.25,2.85,25.64,10.28,6.3,4.75,5.8,44.5,4.65,3.6,12.25,20.0,16.0,6.21,3.25,9.75,4.45,12.0,0.8,5.95,3.0,5.25,22.2,13.5,13.5,3.47,9.5,4.8,6.54,3.1,7.99,3.3,8.75,4.19,30.77,2.11,6.25,11.4,5.2,39.84,4.45,19.5,1.75,5.1,6.8,5.74,3.3,32.0,35.0,8.9,4.0,19.46,5.25,2.6,9.22,1.8,1.3,31.75,5.99,4.94,1.5,3.25,1.95,6.5,3.71,5.0,1.99,4.25,8.0,2.95,3.5,16.0,2.75,6.95,12.5,36.83,2.7,9.9,3.83,5.25,7.75,2.46,3.96,8.25,7.58,3.99,6.25,5.0,4.65,21.37,1.75,16.09,4.1,3.56,4.21,6.86,6.6,14.35,9.5,21.9,30.45,5.1,5.44,1.6,16.67,9.5,3.85,10.64,3.5,1.1,2.6,18.5,1.35,7.95,5.49,6.95,1.0,4.45,6.99,3.51,7.54,3.65,16.0,1.4,6.45,4.4,5.95,3.9,35.28,14.25,4.5,7.5,3.41,3.25,8.3,3.45,2.1,11.95,4.25,8.25,5.95,4.3,3.9,6.41,8.36,3.85,36.0,7.5,5.7,5.5,5.9,7.75,18.0,4.4,8.27,4.75,3.8,3.4,4.7,1.49,4.5,5.4,11.5,3.5,16.5,3.9,3.25,5.84,5.75,10.0,1.05,5.64,50.97,29.95,4.85,14.5,5.5,3.2,4.5,30.72,3.5,6.99,3.45,6.57,17.5,3.75,9.99,8.2,1.1,3.89,2.45,13.75,3.0,9.25,17.65,18.25,3.45,23.75,5.45,5.25,1.1,2.9,14.2,5.8,7.22,4.87,3.3,3.0,26.0,2.9,7.5,2.36,11.39,7.02,8.0,7.11,3.9,2.15,3.25,70.66,4.61,2.35,4.05,0.8,5.6,5.35,3.25,11.5,4.25,4.45,2.85,7.85,5.3,8.0,9.43,2.75,13.5,9.99,6.95,6.75,5.5,9.18,4.15,6.5,4.11,2.25,4.56,4.0,5.27,9.11,6.2,19.97,10.17,4.5,14.28,2.47,7.9,2.3,6.5,3.25,5.85,29.0,25.71,1.85,22.75,8.32,26.0,7.0,3.45,5.15,3.51,3.45,3.75,1.45,2.2,7.99,6.75,11.99,5.0,5.9,3.75,29.5,4.75,11.5,6.95,5.4,4.75,2.15,0.9,3.5,5.85,3.15,6.0,2.23,2.5,3.87,9.5,17.75,3.75,1.5,5.0,17.0,4.38,41.5,3.0,11.0,14.0,7.65,8.7,9.9,2.05,5.25,5.77,1.95,7.45,2.6,3.25,3.85,7.5,11.5,3.25,1.5,5.31,9.0,3.59,7.35,12.0,6.02,2.57,12.45,12.63,7.75,5.5,4.43,24.51,2.65,2.1,3.2,4.25,1.1,4.3,8.9,6.5,3.5,4.25,16.46,5.95,7.1,1.25,2.5,5.5,3.25,5.0,6.58,19.5,6.14,4.95,5.75,6.6,5.72,2.6,6.5,6.1,3.85,4.5,5.3,18.25,5.75,3.35,0.9,5.5,3.99,18.75,3.5,16.45,3.65,5.4,8.7,20.75,12.5,1.89,4.0,3.95,7.85,7.0,24.99,4.5,1.25,3.95,1.6,0.6,3.39,9.8,5.91,8.25,3.75,12.5,5.95,3.8,4.35,32.5,3.0,19.0,5.0,5.45,2.7,10.75,5.8,0.95,0.63,17.55,3.0,15.0,6.0,7.65,8.5,2.25,4.65,7.85,3.46,8.25,1.25,16.0,7.4,3.07,3.84,4.2,10.82,6.1,3.1,1.0,4.69,5.4,12.0,6.5,3.0,6.9,4.0,4.25,5.1,4.9,3.6,34.0,8.25,1.3,39.05,3.75,2.1,8.8,5.84,9.03,3.25,4.9,6.46,18.5,2.7,4.6,5.35,2.3,15.45,12.49,48.76,3.2,8.75,5.99,2.9,18.0,1.8,6.25,5.45,52.5,5.6,6.45,3.7,3.49,3.55,9.0,2.7,2.6,1.5,15.9,5.2,16.25,3.31,24.0,2.5,3.9,3.85,8.8,4.95,5.75,6.17,3.45,3.2,13.49,24.5,14.7,6.0,34.18,3.5,2.15,11.25,2.0,4.27,7.68,14.52,16.85,5.75,8.3,3.95,4.8,12.0,6.25,2.5,7.5,3.5,1.99,2.25,3.25,28.5,1.5,7.0,27.5,10.5,21.5,35.0,7.99,4.88,40.5,6.55,29.64,4.34,6.22,2.25,38.0,2.15,22.45,20.87,3.1,5.95,0.86,9.25,2.25,6.13,1.81,3.79,160.0,3.6,3.85,4.5,8.61,6.5,2.6,15.0,4.7,12.99,7.32,6.5,5.67,3.0,5.5,3.35,25.02,26.11,7.09,2.65,6.5,4.5,57.0,3.82,5.25,16.81,21.5,8.5,3.25,27.11,5.95,6.79,2.55,3.7,6.75,6.95,2.78,6.18,36.0,5.81,3.41,26.5,16.0,12.13,1.8,6.25,2.75,6.0,11.56,5.2,7.52,12.49,35.82,6.25,6.22,8.02,3.75,11.75,2.25,3.55,38.15,2.66,2.85,4.95,6.5,2.4,12.5,3.0,6.67,1.97,2.8,2.65,4.75,16.11,19.0,4.5,8.25,3.5,8.5,9.0,6.75,5.4,3.5,2.6,20.5,11.31,4.5,56.0,5.2,5.25,3.6,3.3,5.85,3.9,7.98,4.3,2.25,3.2,6.55,6.9,2.95,11.45,6.37,5.0,2.6,1.9,60.95,4.44,15.3,8.2,5.25,8.5,23.75,2.74,13.83,6.99,2.25,11.49,2.87,3.25,3.5,4.49,2.9,12.36,6.0,31.0,5.49,5.86,9.0,7.7,9.47,29.0,5.42,6.39,2.75,2.5,2.35,4.65,6.0,3.5,7.0,7.75,2.93,22.5,40.66,1.75,8.2,4.49,26.5,2.6,1.65,2.49,5.4,4.35,32.73,26.0,2.5,21.66,2.99,2.61,8.25,12.5,5.5,5.53,1.1,6.85,17.09,4.93,17.5,1.95,6.1,1.8,34.5,4.01,3.15,5.49,10.0,4.55,1.5,2.15,1.4,6.2,19.8,5.6,9.5,2.21,3.31,5.44,7.56,3.2,5.53,17.0,3.55,2.65,17.85,7.96,4.25,5.85,13.0,2.65,4.75,2.65,3.0,32.52,7.75,19.6,2.6,3.76,4.75,1.75,3.95,1.0,4.5,17.23,5.76,4.32,1.9,5.5,13.5,9.75,9.44,4.45,8.85,2.15,4.89,6.25,4.8,1.8,7.25,7.56,6.82,1.8,11.5,2.8,5.5,2.7,3.25,10.9,4.07,18.0,2.95,7.5,32.73,21.5,2.5,5.5,7.5,1.55,29.0,8.4,6.5,2.35,5.55,5.35,5.25,5.87,5.36,7.75,5.41,3.65,5.25,6.25,3.47,8.85,0.85,13.65,50.22,7.75,10.05,9.75,23.0,21.42,0.7,5.21,7.5,2.65,1.75,1.0,33.0,2.2,12.83,68.94,4.1,2.85,3.7,9.06,4.75,6.6,3.5,2.0,3.89,3.6,6.95,7.03,16.5,7.67,23.19,6.21,45.82,5.95,11.0,7.19,6.4,26.0,4.5,3.1,5.95,1.2,52.0,48.0,21.99,4.3,3.75,8.95,4.75,14.6,17.5,5.2,6.04,2.7,6.75,2.35,5.0,6.95,6.7,25.0,3.75,3.75,5.1,2.45,3.25,5.5,3.77,49.24,3.04,4.9,6.25,33.0,27.0,5.21,5.75,16.58,11.0,2.8,37.99,3.65,6.0,4.54,5.4,3.3,18.25,3.1,3.84,2.44,3.6,3.9,2.9,3.5,3.5,3.5,7.0,8.7,45.0,1.8,0.99,4.8,17.95,5.66,3.1,6.54,13.2,56.8,19.4,1.65,4.35,6.5,1.11,5.5,11.0,3.9,1.8,6.22,4.3,5.99,6.0,5.85,19.94,2.9,4.25,5.99,3.3,8.08,4.5,6.5,3.9,5.25,17.0,3.5,3.0,4.87,6.0,15.5,1.6,7.25,3.25,3.4,30.5,7.97,13.51,5.43,2.6,4.45,2.75,8.75,5.41,8.55,8.25,23.58,4.49,12.99,2.8,8.43,47.5,8.95,5.5,4.75,4.75,9.5,3.77,4.25,19.9,4.0,4.16,38.0,6.34,4.5,3.75,10.2,5.0,3.95,9.75,7.93,2.1,16.42,8.9,7.21,13.5,65.0,7.4,5.15,32.0,3.25,3.95,1.5,3.0,1.99,1.35,13.5,6.99,8.5,2.89,10.5,3.97,4.25,6.17,38.72,6.5,4.25,4.75,17.71,5.85,17.27,9.25,12.75,27.0,21.0,7.95,4.5,33.75,17.51,6.8,1.68,2.9,3.16,3.9,1.95,26.52,9.0,4.5,8.75,11.5,3.0,3.79,6.0,13.25,8.0,5.8,13.85,13.5,25.0,5.49,19.0,2.5,3.0,6.64,3.21,1.55,2.59,4.0,3.87,9.75,32.91,16.75,1.9,6.59,31.93,7.25,1.9,3.55,9.25,1.65,36.64,16.0,5.38,3.15,4.35,1.2,4.1,18.75,13.78,4.0,4.33,5.43,4.9,70.0,25.5,5.1,6.7,26.5,3.9,2.7,2.95,23.0,2.49,4.5,4.5,6.9,20.72,2.21,0.55,13.9,1.46,6.0,3.0,3.5,7.59,1.99,3.8,4.0,2.95,3.75,2.5,3.75,22.0,6.14,16.0,3.75,11.75,24.0,8.9,10.0,5.55,3.59,11.13,7.2,2.98,1.7,52.0,0.95,9.25,16.25,20.99,4.25,7.2,4.4,4.25,5.35,6.3,12.5,7.5,11.25,7.65,4.5,7.5,7.1,2.25,27.0,4.18,6.5,3.15,7.64,2.4,4.25,9.31,2.39,7.64,6.21,16.5,8.22,28.85,8.5,90.0,6.51,4.65,8.4,5.75,1.11,3.93,17.25,32.0,3.45,23.0,7.32,4.4,47.35,4.12,19.5,6.2,45.0,0.85,2.8,4.8,0.9,5.65,14.5,5.9,5.0,4.9,4.25,10.9,2.45,2.5,29.5,5.75,5.0,4.62,23.5,7.25,11.88,2.25,0.85,4.0,5.1,12.5,2.9,15.96,5.45,23.86,1.75,9.75,4.75,6.25,22.0,14.14,0.95,11.95,2.5,2.75,5.85,6.25,4.95,4.75,2.55,4.5,3.01,42.0,11.5,10.99,3.71,2.0,9.48,1.25,10.9,5.5,3.71,6.25,4.9,1.1,4.72,3.7,24.85,12.25,3.9,6.28,2.75,7.85,2.95,4.85,30.0,19.9,10.8,1.75,19.25,5.5,2.75,13.0,3.2,5.84,24.0,6.25,36.0,3.0,11.0,6.5,9.4,37.92,5.25,4.5,18.0,5.56,22.0,22.0,2.65,5.85,6.95,6.5,0.85,7.25,4.5,4.25,26.0,9.66,6.85,23.68,15.75,3.5,6.99,15.57,5.29,2.25,20.0,47.5,1.22,3.65,3.1,11.5,3.46,8.38,4.8,4.5,0.8,3.95,3.65,10.0,4.0,4.75,3.1,3.61,4.29,2.13,1.1,13.95,5.35,3.9,2.8,8.75,19.5,2.75,8.0,5.7,12.5,1.75,1.9,4.5,30.3,16.0,32.78,2.5,43.0,5.38,2.65,3.3,34.0,0.7,6.83,5.77,3.1,4.95,16.25,52.54,6.4,6.95,0.85,6.95,3.45,2.75,4.95,9.62,6.79,4.5,3.01,4.4,17.49,4.66,5.5,6.0,2.4,10.19,5.25,45.0,2.7,3.39,5.69,58.54,8.4,2.5,3.25,3.25,4.25,18.5,2.4,4.25,8.85,4.14,7.0,33.0,10.0,3.53,1.35,4.5,4.9,12.26,3.99,46.95,3.8,6.75,8.75,5.2,8.42,3.0,5.75,9.75,3.5,30.0,35.0,13.25,3.65,5.25,9.7,5.21,6.3,4.72,28.0,8.37,14.0,36.0,6.4,51.69,8.0,9.8,2.7,24.37,9.72,5.0,10.5,3.9,5.65,29.95,3.0,6.0,2.11,1.49,1.5,4.67,2.85,33.64,0.91,2.42,3.25,2.8,8.3,5.25,2.9,15.0,0.53,12.5,2.75,5.0,7.09,19.99,10.75,9.45,2.9,4.7,7.11,6.25,2.2,8.86,9.3,7.57,7.9,5.65,3.25,16.27,3.21,3.9,6.5,48.0,18.9,3.6,5.5,7.0,41.75,10.5,10.09,3.0,12.0,4.91,2.0,5.3,7.22,32.57,2.75,4.33,3.75,5.91,4.35,3.25,68.0,5.5,12.08,7.48,5.5,3.5,1.6,15.5,19.0,8.4,7.25,4.25,5.7,26.0,2.49,3.0,5.95,2.69,26.0,5.5,4.85,8.39,7.99,6.95,1.5,1.55,2.75,4.25,2.85,56.14,10.0,1.25,7.5,25.81,4.3,11.0,11.75,6.58,4.8,1.65,15.0,1.0,1.65,3.6,11.5,3.6,3.05,6.0,3.75,6.17,9.05,4.05,4.25,3.75,11.85,8.24,5.99,6.5,58.91,8.0,4.64,3.32,2.78,8.95,21.95,7.9,29.0,3.25,5.9,9.88,8.78,2.75,5.98,31.0,3.55,6.24,2.19,5.5,2.1,50.66,14.0,5.5,1.2,5.3,6.3,40.47,16.1,25.0,7.95,2.65,2.81,17.5,3.3,5.34,8.5,2.69,11.5,4.06,49.0,4.6,3.96,5.6,3.75,5.5,3.0,3.0,2.95,2.45,13.99,60.75,1.17,4.5,2.5,20.5,3.9,3.5,8.3,2.5,2.65,7.42,4.63,1.09,3.8,15.75,5.27,2.75,7.4,3.9,0.7,5.9,9.58,24.95,4.29,11.5,9.65,3.75,1.1,31.41,6.0,5.55,10.91,7.25,3.9,3.95,22.0,3.38,3.45,5.75,2.75,30.3,7.5,6.87,15.2,3.5,5.85,2.5,3.95,27.0,6.75,1.5,3.9,6.55,9.44,10.77,7.5,3.0,11.75,3.29,6.5,3.8,18.0,4.95,4.52,8.0,6.26,7.5,3.65,3.35,5.5,5.25,16.25,2.7,32.9,3.41,4.15,5.9,11.5,4.75,3.5,7.25,4.35,4.99,7.65,9.0,6.9,2.9,5.75,8.0,4.41,4.95,14.4,2.95,8.14,8.45,12.5,6.5,7.72,8.0,3.0,29.0,4.11,5.37,6.55,7.0,5.48,6.51,5.15,9.0,2.75,1.2,12.5,7.69,4.57,4.5,4.9,1.65,3.25,6.25,12.13,3.25,29.0,5.53,8.75,37.9,2.4,4.55,2.65,1.6,25.72,4.15,7.23,2.6,7.25,14.29,17.25,7.5,4.35,8.9,3.5,6.1,3.2,4.9,3.69,3.98,2.95,15.21,6.3,6.69,9.5,2.65,7.5,1.85,5.63,11.78,0.85,3.35,4.11,25.51,3.1,33.5,4.8,3.49,5.15,14.41,4.75,19.0,4.9,6.3,2.4,3.0,4.25,6.3,8.15,3.22,7.65,30.0,2.3,22.0,3.28,7.09,6.46,4.0,11.0,49.79,4.8,35.0,21.99,1.1,6.6,4.5,1.0,6.9,16.75,25.49,35.5,6.28,4.88,3.7,3.45,10.23,6.5,6.15,2.9,5.5,31.0,4.25,5.48,7.25,3.0,29.5,1.49,3.65,10.9,4.3,6.11,15.5,6.9,4.69,3.19,3.75,8.6,3.85,67.83,9.31,3.0,5.5,13.3,23.0,3.35,10.0,2.95,6.75,2.44,5.85,7.4,3.8,3.8,2.7,7.21,7.9,4.2,5.75,3.45,25.75,16.59,4.69,7.5,16.5,1.99,5.25,5.4,3.9,5.8,30.5,5.6,23.0,5.15,9.48,2.38,3.8,5.5,3.55,6.35,36.0,1.1,3.7,13.5,2.85,2.13,7.75,2.85,4.95,6.2,17.5,2.25,6.75,9.73,8.49,25.0,5.59,4.8,5.45,6.5,4.35,3.75,12.0,32.0,4.0,2.6,4.45,2.6,16.0,32.5,13.85,8.76,23.68,5.5,65.81,4.99,5.7,11.99,29.99,9.5,5.5,23.0,2.95,4.9,1.3,4.25,16.36,9.95,5.5,8.25,0.95,4.01,8.2,6.2,16.75,16.5,3.75,3.5,5.43,30.35,7.99,3.59,1.9,4.7,7.25,24.46,3.9,5.15,3.65,5.0,2.3,0.75,1.85,1.8,4.41,2.0,5.55,31.75,32.0,21.0,2.75,2.64,14.19,3.85,15.5,1.9,1.26,2.4,11.5,8.25,2.75,1.4,2.9,2.4,4.75,44.76,6.22,4.5,4.25,5.5,6.95,4.56,13.82,5.65,6.2,3.25,8.5,7.25,4.61,5.3,1.9,3.09,9.5,12.65,4.25,2.95,3.45,3.3,8.0,2.71,2.7,4.5,18.75,5.25,3.2,6.0,3.14,2.55,2.3,5.65,48.22,3.0,7.5,2.6,61.25,3.5,28.95,15.0,4.25,59.0,6.6,5.2,10.0,35.0,8.75,4.57,2.5,1.75,20.11,7.8,3.61,1.11,4.6,85.0,5.25,3.3,17.75,35.0,13.39,2.5,18.36,5.95,11.0,64.75,6.3,11.94,5.95,11.0,12.53,3.75,27.0,9.95,4.2,2.0,3.25,34.0,30.37,12.6,5.09,24.5,7.97,2.9,21.33,6.5,12.15,4.25,35.84,3.0,6.75,5.65,7.5,13.34,7.9,6.98,5.75,2.65,2.49,1.5,6.5,8.0,30.85,17.15,4.55,7.4,25.64,13.5,3.55,15.0,1.95,2.3,15.0,3.15,5.0,24.75,2.6,3.75,4.85,27.0,3.0,28.75,14.49,72.0,4.0,4.5,6.25,11.5,3.1,10.11,11.54,1.0,2.5,18.0,6.85,2.97,4.75,7.38,42.75,3.65,5.99,13.5,7.0,10.95,2.95,5.5,17.08,6.85,10.5,8.75,2.7,4.25,7.9,4.5,4.0,4.75,7.65,3.47,5.64,2.95,5.65,8.41,0.85,0.8,5.65,4.5,6.9,2.2,4.0,5.6,2.2,4.0,16.0,12.6,4.79,3.65,6.83,0.51,0.69,4.65,6.49,2.9,7.4,3.25,1.95,4.0,6.85,5.45,1.99,8.99,6.5,9.27,6.99,36.76,17.08,2.8,2.49,8.85,4.15,10.0,4.75,3.2,3.28,7.5,7.39,3.65,11.0,3.0,2.25,2.83,4.11,14.7,25.0,2.35,6.41,5.75,17.55,10.25,3.16,22.5,3.55,9.86,45.0,7.99,6.5,0.75,9.87,6.36,9.5,6.05,2.15,5.5,1.25,11.99,2.5,11.66,0.53,3.1,2.6,5.09,2.3,6.0,4.4,11.0,5.7,6.95,7.9,29.3,10.24,5.35,3.49,2.85,5.35,3.62,6.25,3.19,5.5,7.67,5.5,6.6,55.0,21.0,4.5,20.67,6.5,37.98,1.45,2.95,7.9,10.07,6.5,22.0,9.75,6.0,3.99,1.75,19.75,16.95,6.8,0.99,2.95,42.83,21.5,7.9,2.3,2.75,6.71,9.6,12.81,6.94,9.45,6.0,11.0,2.6,1.95,45.0,22.0,4.9,6.25,6.1,2.6,120.0,29.0,3.3,3.05,3.25,3.75,13.25,4.8,3.8,8.5,38.76,3.2,3.5,12.25,4.75,4.5,2.35,3.4,10.0,9.0,5.2,1.85,38.0,5.11,9.66,3.4,5.84,3.8,2.5,6.95,5.5,6.19,6.0,3.75,9.46,3.0,5.75,4.41,3.7,2.5,5.35,3.65,13.0,2.45,5.75,8.11,7.75,5.85,4.29,8.0,16.5,5.5,6.35,7.9,7.2,3.65,6.35,7.8,1.4,5.5,8.5,10.48,0.75,1.3,21.0,2.3,14.95,35.92,4.5,5.5,4.45,6.85,5.5,5.07,3.85,7.95,1.25,3.64,20.0,10.36,1.85,4.05,48.5,8.25,5.25,4.4,25.75,29.52,2.1,3.71,7.5,9.44,1.2,24.0,35.0,8.25,9.75,3.45,11.85,16.14,3.7,4.0,5.8,4.65,15.0,6.8,10.25,2.7,8.5,7.75,2.7,1.3,1.75,13.2,1.0,6.37,4.5,6.5,4.99,43.3,6.5,2.25,9.95,7.35,4.6,8.5,11.86,8.0,21.5,1.3,5.9,9.5,4.5,2.25,3.35,0.7,16.0,8.0,100.0,4.74,36.0,5.54,22.99,10.08,2.85,0.55,45.52,7.29,4.3,4.8,5.25,2.8,4.35,5.49,3.1,6.5,6.4,6.22,8.4,5.9,3.4,6.5,1.7,6.0,11.9,48.0,8.0,2.45,1.75,21.75,7.25,3.0,2.51,19.6,15.5,11.5,1.76,4.68,4.0,2.8,8.25,1.7,14.85,12.85,16.0,4.7,5.94,8.0,5.45,26.76,3.5,1.39,4.7,5.75,8.11,0.75,1.0,5.3,8.0,2.74,7.5,13.5,2.2,13.25,3.88,0.85,5.11,4.25,16.52,0.6,4.8,6.25,8.3,3.25,7.75,30.54,2.27,2.96,4.0,5.25,17.56,3.25,4.0,2.2,7.43,10.75,2.75,45.0,19.75,3.2,4.75,9.48,4.83,4.75,4.0,2.9,2.65,2.5],\"xaxis\":\"x\",\"yaxis\":\"y\",\"type\":\"histogram\"}],                        {\"template\":{\"data\":{\"histogram2dcontour\":[{\"type\":\"histogram2dcontour\",\"colorbar\":{\"outlinewidth\":0,\"ticks\":\"\"},\"colorscale\":[[0.0,\"#0d0887\"],[0.1111111111111111,\"#46039f\"],[0.2222222222222222,\"#7201a8\"],[0.3333333333333333,\"#9c179e\"],[0.4444444444444444,\"#bd3786\"],[0.5555555555555556,\"#d8576b\"],[0.6666666666666666,\"#ed7953\"],[0.7777777777777778,\"#fb9f3a\"],[0.8888888888888888,\"#fdca26\"],[1.0,\"#f0f921\"]]}],\"choropleth\":[{\"type\":\"choropleth\",\"colorbar\":{\"outlinewidth\":0,\"ticks\":\"\"}}],\"histogram2d\":[{\"type\":\"histogram2d\",\"colorbar\":{\"outlinewidth\":0,\"ticks\":\"\"},\"colorscale\":[[0.0,\"#0d0887\"],[0.1111111111111111,\"#46039f\"],[0.2222222222222222,\"#7201a8\"],[0.3333333333333333,\"#9c179e\"],[0.4444444444444444,\"#bd3786\"],[0.5555555555555556,\"#d8576b\"],[0.6666666666666666,\"#ed7953\"],[0.7777777777777778,\"#fb9f3a\"],[0.8888888888888888,\"#fdca26\"],[1.0,\"#f0f921\"]]}],\"heatmap\":[{\"type\":\"heatmap\",\"colorbar\":{\"outlinewidth\":0,\"ticks\":\"\"},\"colorscale\":[[0.0,\"#0d0887\"],[0.1111111111111111,\"#46039f\"],[0.2222222222222222,\"#7201a8\"],[0.3333333333333333,\"#9c179e\"],[0.4444444444444444,\"#bd3786\"],[0.5555555555555556,\"#d8576b\"],[0.6666666666666666,\"#ed7953\"],[0.7777777777777778,\"#fb9f3a\"],[0.8888888888888888,\"#fdca26\"],[1.0,\"#f0f921\"]]}],\"heatmapgl\":[{\"type\":\"heatmapgl\",\"colorbar\":{\"outlinewidth\":0,\"ticks\":\"\"},\"colorscale\":[[0.0,\"#0d0887\"],[0.1111111111111111,\"#46039f\"],[0.2222222222222222,\"#7201a8\"],[0.3333333333333333,\"#9c179e\"],[0.4444444444444444,\"#bd3786\"],[0.5555555555555556,\"#d8576b\"],[0.6666666666666666,\"#ed7953\"],[0.7777777777777778,\"#fb9f3a\"],[0.8888888888888888,\"#fdca26\"],[1.0,\"#f0f921\"]]}],\"contourcarpet\":[{\"type\":\"contourcarpet\",\"colorbar\":{\"outlinewidth\":0,\"ticks\":\"\"}}],\"contour\":[{\"type\":\"contour\",\"colorbar\":{\"outlinewidth\":0,\"ticks\":\"\"},\"colorscale\":[[0.0,\"#0d0887\"],[0.1111111111111111,\"#46039f\"],[0.2222222222222222,\"#7201a8\"],[0.3333333333333333,\"#9c179e\"],[0.4444444444444444,\"#bd3786\"],[0.5555555555555556,\"#d8576b\"],[0.6666666666666666,\"#ed7953\"],[0.7777777777777778,\"#fb9f3a\"],[0.8888888888888888,\"#fdca26\"],[1.0,\"#f0f921\"]]}],\"surface\":[{\"type\":\"surface\",\"colorbar\":{\"outlinewidth\":0,\"ticks\":\"\"},\"colorscale\":[[0.0,\"#0d0887\"],[0.1111111111111111,\"#46039f\"],[0.2222222222222222,\"#7201a8\"],[0.3333333333333333,\"#9c179e\"],[0.4444444444444444,\"#bd3786\"],[0.5555555555555556,\"#d8576b\"],[0.6666666666666666,\"#ed7953\"],[0.7777777777777778,\"#fb9f3a\"],[0.8888888888888888,\"#fdca26\"],[1.0,\"#f0f921\"]]}],\"mesh3d\":[{\"type\":\"mesh3d\",\"colorbar\":{\"outlinewidth\":0,\"ticks\":\"\"}}],\"scatter\":[{\"fillpattern\":{\"fillmode\":\"overlay\",\"size\":10,\"solidity\":0.2},\"type\":\"scatter\"}],\"parcoords\":[{\"type\":\"parcoords\",\"line\":{\"colorbar\":{\"outlinewidth\":0,\"ticks\":\"\"}}}],\"scatterpolargl\":[{\"type\":\"scatterpolargl\",\"marker\":{\"colorbar\":{\"outlinewidth\":0,\"ticks\":\"\"}}}],\"bar\":[{\"error_x\":{\"color\":\"#2a3f5f\"},\"error_y\":{\"color\":\"#2a3f5f\"},\"marker\":{\"line\":{\"color\":\"#E5ECF6\",\"width\":0.5},\"pattern\":{\"fillmode\":\"overlay\",\"size\":10,\"solidity\":0.2}},\"type\":\"bar\"}],\"scattergeo\":[{\"type\":\"scattergeo\",\"marker\":{\"colorbar\":{\"outlinewidth\":0,\"ticks\":\"\"}}}],\"scatterpolar\":[{\"type\":\"scatterpolar\",\"marker\":{\"colorbar\":{\"outlinewidth\":0,\"ticks\":\"\"}}}],\"histogram\":[{\"marker\":{\"pattern\":{\"fillmode\":\"overlay\",\"size\":10,\"solidity\":0.2}},\"type\":\"histogram\"}],\"scattergl\":[{\"type\":\"scattergl\",\"marker\":{\"colorbar\":{\"outlinewidth\":0,\"ticks\":\"\"}}}],\"scatter3d\":[{\"type\":\"scatter3d\",\"line\":{\"colorbar\":{\"outlinewidth\":0,\"ticks\":\"\"}},\"marker\":{\"colorbar\":{\"outlinewidth\":0,\"ticks\":\"\"}}}],\"scattermapbox\":[{\"type\":\"scattermapbox\",\"marker\":{\"colorbar\":{\"outlinewidth\":0,\"ticks\":\"\"}}}],\"scatterternary\":[{\"type\":\"scatterternary\",\"marker\":{\"colorbar\":{\"outlinewidth\":0,\"ticks\":\"\"}}}],\"scattercarpet\":[{\"type\":\"scattercarpet\",\"marker\":{\"colorbar\":{\"outlinewidth\":0,\"ticks\":\"\"}}}],\"carpet\":[{\"aaxis\":{\"endlinecolor\":\"#2a3f5f\",\"gridcolor\":\"white\",\"linecolor\":\"white\",\"minorgridcolor\":\"white\",\"startlinecolor\":\"#2a3f5f\"},\"baxis\":{\"endlinecolor\":\"#2a3f5f\",\"gridcolor\":\"white\",\"linecolor\":\"white\",\"minorgridcolor\":\"white\",\"startlinecolor\":\"#2a3f5f\"},\"type\":\"carpet\"}],\"table\":[{\"cells\":{\"fill\":{\"color\":\"#EBF0F8\"},\"line\":{\"color\":\"white\"}},\"header\":{\"fill\":{\"color\":\"#C8D4E3\"},\"line\":{\"color\":\"white\"}},\"type\":\"table\"}],\"barpolar\":[{\"marker\":{\"line\":{\"color\":\"#E5ECF6\",\"width\":0.5},\"pattern\":{\"fillmode\":\"overlay\",\"size\":10,\"solidity\":0.2}},\"type\":\"barpolar\"}],\"pie\":[{\"automargin\":true,\"type\":\"pie\"}]},\"layout\":{\"autotypenumbers\":\"strict\",\"colorway\":[\"#636efa\",\"#EF553B\",\"#00cc96\",\"#ab63fa\",\"#FFA15A\",\"#19d3f3\",\"#FF6692\",\"#B6E880\",\"#FF97FF\",\"#FECB52\"],\"font\":{\"color\":\"#2a3f5f\"},\"hovermode\":\"closest\",\"hoverlabel\":{\"align\":\"left\"},\"paper_bgcolor\":\"white\",\"plot_bgcolor\":\"#E5ECF6\",\"polar\":{\"bgcolor\":\"#E5ECF6\",\"angularaxis\":{\"gridcolor\":\"white\",\"linecolor\":\"white\",\"ticks\":\"\"},\"radialaxis\":{\"gridcolor\":\"white\",\"linecolor\":\"white\",\"ticks\":\"\"}},\"ternary\":{\"bgcolor\":\"#E5ECF6\",\"aaxis\":{\"gridcolor\":\"white\",\"linecolor\":\"white\",\"ticks\":\"\"},\"baxis\":{\"gridcolor\":\"white\",\"linecolor\":\"white\",\"ticks\":\"\"},\"caxis\":{\"gridcolor\":\"white\",\"linecolor\":\"white\",\"ticks\":\"\"}},\"coloraxis\":{\"colorbar\":{\"outlinewidth\":0,\"ticks\":\"\"}},\"colorscale\":{\"sequential\":[[0.0,\"#0d0887\"],[0.1111111111111111,\"#46039f\"],[0.2222222222222222,\"#7201a8\"],[0.3333333333333333,\"#9c179e\"],[0.4444444444444444,\"#bd3786\"],[0.5555555555555556,\"#d8576b\"],[0.6666666666666666,\"#ed7953\"],[0.7777777777777778,\"#fb9f3a\"],[0.8888888888888888,\"#fdca26\"],[1.0,\"#f0f921\"]],\"sequentialminus\":[[0.0,\"#0d0887\"],[0.1111111111111111,\"#46039f\"],[0.2222222222222222,\"#7201a8\"],[0.3333333333333333,\"#9c179e\"],[0.4444444444444444,\"#bd3786\"],[0.5555555555555556,\"#d8576b\"],[0.6666666666666666,\"#ed7953\"],[0.7777777777777778,\"#fb9f3a\"],[0.8888888888888888,\"#fdca26\"],[1.0,\"#f0f921\"]],\"diverging\":[[0,\"#8e0152\"],[0.1,\"#c51b7d\"],[0.2,\"#de77ae\"],[0.3,\"#f1b6da\"],[0.4,\"#fde0ef\"],[0.5,\"#f7f7f7\"],[0.6,\"#e6f5d0\"],[0.7,\"#b8e186\"],[0.8,\"#7fbc41\"],[0.9,\"#4d9221\"],[1,\"#276419\"]]},\"xaxis\":{\"gridcolor\":\"white\",\"linecolor\":\"white\",\"ticks\":\"\",\"title\":{\"standoff\":15},\"zerolinecolor\":\"white\",\"automargin\":true,\"zerolinewidth\":2},\"yaxis\":{\"gridcolor\":\"white\",\"linecolor\":\"white\",\"ticks\":\"\",\"title\":{\"standoff\":15},\"zerolinecolor\":\"white\",\"automargin\":true,\"zerolinewidth\":2},\"scene\":{\"xaxis\":{\"backgroundcolor\":\"#E5ECF6\",\"gridcolor\":\"white\",\"linecolor\":\"white\",\"showbackground\":true,\"ticks\":\"\",\"zerolinecolor\":\"white\",\"gridwidth\":2},\"yaxis\":{\"backgroundcolor\":\"#E5ECF6\",\"gridcolor\":\"white\",\"linecolor\":\"white\",\"showbackground\":true,\"ticks\":\"\",\"zerolinecolor\":\"white\",\"gridwidth\":2},\"zaxis\":{\"backgroundcolor\":\"#E5ECF6\",\"gridcolor\":\"white\",\"linecolor\":\"white\",\"showbackground\":true,\"ticks\":\"\",\"zerolinecolor\":\"white\",\"gridwidth\":2}},\"shapedefaults\":{\"line\":{\"color\":\"#2a3f5f\"}},\"annotationdefaults\":{\"arrowcolor\":\"#2a3f5f\",\"arrowhead\":0,\"arrowwidth\":1},\"geo\":{\"bgcolor\":\"white\",\"landcolor\":\"#E5ECF6\",\"subunitcolor\":\"white\",\"showland\":true,\"showlakes\":true,\"lakecolor\":\"white\"},\"title\":{\"x\":0.05},\"mapbox\":{\"style\":\"light\"}}},\"xaxis\":{\"anchor\":\"y\",\"domain\":[0.0,1.0],\"title\":{\"text\":\"Price\"}},\"yaxis\":{\"anchor\":\"x\",\"domain\":[0.0,1.0],\"title\":{\"text\":\"count\"}},\"legend\":{\"tracegroupgap\":0},\"margin\":{\"t\":60},\"barmode\":\"relative\"},                        {\"responsive\": true}                    ).then(function(){\n",
              "                            \n",
              "var gd = document.getElementById('2cd928b8-3e97-4533-8da6-362884805335');\n",
              "var x = new MutationObserver(function (mutations, observer) {{\n",
              "        var display = window.getComputedStyle(gd).display;\n",
              "        if (!display || display === 'none') {{\n",
              "            console.log([gd, 'removed!']);\n",
              "            Plotly.purge(gd);\n",
              "            observer.disconnect();\n",
              "        }}\n",
              "}});\n",
              "\n",
              "// Listen for the removal of the full notebook cells\n",
              "var notebookContainer = gd.closest('#notebook-container');\n",
              "if (notebookContainer) {{\n",
              "    x.observe(notebookContainer, {childList: true});\n",
              "}}\n",
              "\n",
              "// Listen for the clearing of the current output cell\n",
              "var outputEl = gd.closest('.output');\n",
              "if (outputEl) {{\n",
              "    x.observe(outputEl, {childList: true});\n",
              "}}\n",
              "\n",
              "                        })                };                            </script>        </div>\n",
              "</body>\n",
              "</html>"
            ]
          },
          "metadata": {}
        }
      ]
    },
    {
      "cell_type": "markdown",
      "source": [
        "# Handling Outliers"
      ],
      "metadata": {
        "id": "XZrFbPw-Co2L"
      }
    },
    {
      "cell_type": "markdown",
      "source": [
        "### Kilometers_Driven outlier"
      ],
      "metadata": {
        "id": "OAEFiNWw2DzE"
      }
    },
    {
      "cell_type": "code",
      "source": [
        "# box plot before removing outliers in Kilometers_Driven\n",
        "# df['Kilometers_Driven'].plot.box(figsize=(20,15))\n",
        "\n",
        "fig = px.box(df, y=\"Kilometers_Driven\" )\n",
        "fig.show()"
      ],
      "metadata": {
        "colab": {
          "base_uri": "https://localhost:8080/",
          "height": 542
        },
        "id": "y4yDZPqcyOHz",
        "outputId": "1662106d-0bd1-409b-ea36-d8e4eeb61f5b"
      },
      "execution_count": 21,
      "outputs": [
        {
          "output_type": "display_data",
          "data": {
            "text/html": [
              "<html>\n",
              "<head><meta charset=\"utf-8\" /></head>\n",
              "<body>\n",
              "    <div>            <script src=\"https://cdnjs.cloudflare.com/ajax/libs/mathjax/2.7.5/MathJax.js?config=TeX-AMS-MML_SVG\"></script><script type=\"text/javascript\">if (window.MathJax && window.MathJax.Hub && window.MathJax.Hub.Config) {window.MathJax.Hub.Config({SVG: {font: \"STIX-Web\"}});}</script>                <script type=\"text/javascript\">window.PlotlyConfig = {MathJaxConfig: 'local'};</script>\n",
              "        <script charset=\"utf-8\" src=\"https://cdn.plot.ly/plotly-2.24.1.min.js\"></script>                <div id=\"edd21568-062a-47e3-aef9-3a8ee802f657\" class=\"plotly-graph-div\" style=\"height:525px; width:100%;\"></div>            <script type=\"text/javascript\">                                    window.PLOTLYENV=window.PLOTLYENV || {};                                    if (document.getElementById(\"edd21568-062a-47e3-aef9-3a8ee802f657\")) {                    Plotly.newPlot(                        \"edd21568-062a-47e3-aef9-3a8ee802f657\",                        [{\"alignmentgroup\":\"True\",\"hovertemplate\":\"Kilometers_Driven=%{y}\\u003cextra\\u003e\\u003c\\u002fextra\\u003e\",\"legendgroup\":\"\",\"marker\":{\"color\":\"#636efa\"},\"name\":\"\",\"notched\":false,\"offsetgroup\":\"\",\"orientation\":\"v\",\"showlegend\":false,\"x0\":\" \",\"xaxis\":\"x\",\"y\":[72000,41000,46000,87000,40670,75000,86999,36000,64430,65932,25692,60000,64424,72000,85000,110000,58950,25000,77469,78500,32982,55392,55985,45807,33000,51920,54000,54000,37430,262000,62000,87615,72000,35000,55431,83816,50075,52000,85000,62000,90000,19698,22033,35487,46374,52001,58005,70704,75000,75800,13648,52000,53000,65650,54000,39000,16542,32000,121812,39300,22000,72000,58000,65000,178000,65664,63000,15369,63000,13000,73000,55729,45178,56066,37300,56000,111111,230000,104000,87591,95100,70000,54944,70337,99638,52000,75000,95980,16000,73745,18949,107000,48367,57000,58000,30000,34212,70002,62000,62001,78958,30180,32851,30000,66000,93850,53000,78000,65000,40000,30000,38053,25500,56087,71088,55000,32700,39882,128000,55000,102000,53753,10250,43874,32684,42000,28352,89900,47700,55000,44285,54000,30232,88500,13372,12645,94385,31821,12000,88578,44965,45044,34204,80759,91235,38800,83000,41283,23000,48000,48214,35000,35277,54620,136997,14322,65634,6000,33280,29000,42831,90000,24005,32792,147898,131765,65000,66123,41000,23550,45000,60000,44414,1000,62500,21000,8525,29000,40000,88000,53537,216000,51000,118500,63000,25000,37382,24773,62000,52340,56739,36091,120000,33000,60006,52000,43571,50000,113000,90000,29000,20000,61012,87459,70500,64103,76000,104000,42001,37245,45000,117837,30000,27057,8500,30500,56000,44000,10500,26000,25166,64000,61000,107000,29161,32000,46173,47000,26327,70436,200000,60813,45000,64000,41284,14165,67000,32572,14960,55980,74000,56847,121374,52000,118000,72000,33915,82002,33000,34000,55000,160538,60000,49575,83000,51346,43000,35000,27872,16514,120000,143275,99000,52000,29819,57000,88500,28000,67000,26000,120000,51982,36000,47000,60000,31025,105000,121900,22695,73000,32227,55000,11287,48000,54308,78442,46000,45051,69000,49000,45000,64000,60000,62178,58006,74000,77771,45275,48000,31652,109000,31978,70000,15000,59138,61726,48000,58000,60020,77815,29000,44000,108626,71791,91931,158000,91183,65000,88428,138000,18000,60000,48000,160000,40000,51495,30000,97430,42496,83000,37000,28503,76496,79152,32000,35000,105000,56000,73000,38000,775000,80000,24973,45000,87430,133944,57000,27904,30717,80000,47304,100000,30000,68000,21000,21000,119000,13747,620000,70000,18000,83000,130000,63400,65000,8350,45000,26200,11000,90000,74000,37081,39000,99000,38000,72000,93000,5900,25000,68000,35676,74310,59364,41380,33900,28000,50958,93982,95000,9000,52516,20000,56451,37000,17400,90207,89616,85000,79271,56000,85001,12000,125000,53000,34990,49768,56000,75000,57000,37542,95649,35299,28464,41000,9000,92098,5834,40250,22397,20800,40322,52576,55000,47000,42021,23163,50000,11900,108000,37000,30000,12831,143017,13102,24950,57832,34267,33000,55100,40000,31841,15000,82756,50243,20600,29952,15000,61938,67000,61672,26185,38000,67000,66000,80883,80219,12923,86642,19235,51002,6800,82749,51000,31465,76476,14000,47000,48466,46000,162663,25142,69000,80524,26405,45000,64284,27000,3678,21000,67000,24000,75000,179000,47198,52000,91000,60000,37873,31000,129000,78000,32000,59000,35437,98000,72000,79000,29000,66012,35000,75000,80000,32717,25000,79000,86000,137000,25000,8500,34000,41629,80227,8587,30000,64186,76427,75000,27075,30000,69434,56000,49275,8700,18000,41041,80464,20667,60283,31696,100000,13361,48394,47399,69000,65278,108000,50645,130002,107000,41950,109000,9000,43900,64000,13190,77652,55000,59900,73539,31645,69690,41000,109200,80000,51000,105000,179000,12100,31000,50000,48000,35000,100200,47000,63642,62550,37340,38461,29000,31000,42086,49000,77240,105000,35000,83072,202082,129000,33558,60271,45366,9500,42362,21000,15200,43690,79926,53073,59000,47088,55000,80430,71932,19000,81759,52010,58953,93000,10000,40674,50000,1331,60000,10003,25000,73000,59962,72000,20967,35000,38056,94000,64236,124000,7400,52000,68764,64000,21558,37500,14077,70000,54316,90764,137000,127000,51884,67407,107825,82453,30441,70000,11000,61000,48454,37000,32249,58000,28360,7000,19658,92000,25000,37882,69330,61000,35000,200000,82000,72450,36381,25559,100000,94000,64357,10501,47000,18000,89000,49964,35000,64000,36000,78600,170000,65000,120300,21000,18108,58407,49500,37199,62000,59000,60000,39037,17003,80400,75200,41217,98293,54000,17377,33800,86157,146824,55000,53293,38000,64000,25058,36700,35000,22732,48000,62084,39273,64798,100002,78000,57717,109000,74515,50484,13452,37688,34000,120000,64000,100000,75000,86000,69000,41721,13000,38998,54250,45979,37000,46983,40700,43828,53000,100000,19000,84000,37630,67714,32000,51000,58390,14000,55818,97800,52241,25433,40611,72000,54631,60000,24941,63939,35214,63000,121377,100970,60000,77650,71297,55001,18955,47877,43368,73000,72007,56778,20024,42103,67147,37806,85000,35000,72035,48500,28854,92450,14351,51087,50000,73000,60000,50000,36797,50000,94000,74000,41016,67000,76927,17088,112808,74980,44600,37000,21000,81245,70000,4018,70000,56532,26875,72599,205000,98000,19500,68000,19654,26000,10000,75020,157000,43773,21000,23280,88000,67000,59636,11000,60669,12000,35000,65000,39929,49000,77757,21456,74000,37000,108640,38000,80000,47000,31000,40000,4152,51000,55000,58500,58620,29605,71172,12000,25000,43000,57022,92000,33372,52625,215000,65537,60138,84000,47000,33450,125000,99606,64000,51000,57000,48040,43200,66000,31000,46000,47346,100000,63856,72996,23000,15985,98000,70089,99000,72000,44194,102000,56652,41650,61717,25302,47016,69000,32700,101337,59000,41736,71649,80606,63262,5456,7500,66000,66770,58472,46687,77000,7000,48000,47000,51530,25789,48000,52000,95637,131000,42076,76000,20487,43000,17000,60805,58775,70181,85827,58205,91000,74000,79324,38623,59923,23360,61495,56661,40318,60000,103000,130000,20000,76000,30000,150000,28000,74000,75000,76000,64889,10000,43000,47490,80000,60000,6006,71703,33000,60000,91000,72000,43000,63770,43510,52000,31427,29000,56000,76000,53615,132000,14800,35433,82966,96000,39528,92056,14930,38000,71000,71000,50000,48163,19168,26000,37400,8682,95000,34000,95000,13689,84000,47000,60001,96000,47300,28246,65000,68000,11209,41980,65000,38000,51000,33855,146000,47037,58000,61240,91211,84000,64226,67000,106976,27210,26322,9107,63983,134000,11000,93000,24852,37632,55000,81448,1900,54957,55000,21983,76000,65000,26000,11571,81000,23154,26856,67489,176000,18000,63003,80000,56658,18592,75695,82000,60000,138000,67000,42750,52398,36657,77000,85000,112500,105072,80000,3102,14656,105000,61000,85046,48000,55000,4000,94000,61110,80000,43190,45000,44178,84415,35000,44000,67635,18385,35000,49000,69000,23228,68462,74611,90000,22000,58163,109500,13363,51000,103000,43002,108000,82407,29000,225000,45000,93401,95802,130000,67443,47681,35000,68000,34688,10512,58000,40000,61000,86000,45000,55000,36855,46821,120000,29000,40000,60000,64984,73204,50000,35000,17729,97000,89614,14000,50000,62505,248000,94900,55000,53735,53934,58500,48000,24000,52001,9565,32953,18000,20446,33016,48000,72022,34000,69000,108000,34700,79000,58197,66000,60000,57000,45555,55137,93325,38000,57738,38282,64000,32000,83000,76000,67200,62655,16900,8471,69000,30090,120000,23000,35939,116694,40448,64456,52782,51672,56073,65000,79000,43206,70200,42000,62000,20000,80000,50234,50003,1000,54897,108995,73000,65000,32000,65000,21600,39000,58075,58000,58000,89000,72000,1800,172050,46230,86925,5000,66000,119000,45000,66149,42070,35503,41460,40600,87000,30000,27089,53702,51000,36542,15000,65000,32000,24393,1000,28238,59000,92000,56840,62746,96000,24000,54000,90000,40000,65938,16100,3600,52000,54000,15399,75000,76752,56000,70000,46125,35000,80000,62729,34000,70000,32000,21000,49000,40000,78000,52000,65213,170000,36884,62500,68000,40748,60000,12400,87000,20248,52383,1000,85000,47000,17585,32496,34613,153000,54000,16900,62334,23714,52325,50000,55746,54000,43000,40000,125000,51944,46950,23000,54546,51535,45000,46004,124000,77395,10600,22974,89000,65012,17125,90413,37000,65000,66000,86000,98437,18000,35070,42000,40000,43000,65000,74000,51192,14262,66339,90200,57854,32000,29631,55005,54173,50000,145000,78000,65000,120000,14000,57456,44450,63777,31000,60000,78008,33000,27078,57275,45000,57319,121097,89000,72000,36000,86000,85000,120000,37613,100000,5240,20000,16862,59254,60000,50295,47674,61517,62946,66823,79494,107000,55000,24000,20002,54317,10200,24337,79000,40500,23000,63050,78000,70000,66245,74112,87670,10000,62493,44620,66538,60000,20842,110000,45000,40000,49008,31000,8000,171,2100,20667,50000,100030,75372,60475,18453,96578,31001,65900,26246,62700,90000,36000,46000,73003,46566,41493,103788,45000,120000,97359,62000,115000,18373,60453,37000,69009,30000,70707,64677,3000,49000,71000,52000,35659,5377,65000,92708,48105,46759,62000,35175,70000,30000,66618,69300,148000,22000,75000,43706,42000,65000,76128,39852,18673,11583,82000,50000,77000,54890,21000,58557,70000,16000,8899,83629,35059,30552,44875,25095,59000,36000,37000,90000,17000,42575,131000,74000,47234,231673,10000,49389,12000,65000,177000,89000,72000,49000,51355,13460,35642,52895,93000,70000,32048,4700,71800,69078,45000,15388,98798,43000,85112,37804,45000,116000,100073,165000,22000,9500,152000,17705,12000,51000,42000,51000,42527,45000,70000,92000,57156,53211,80000,74000,37000,64000,57197,55000,33000,70000,75000,58095,7445,17652,28321,69000,80000,42365,123000,40000,30112,43775,26013,56000,95000,41089,41988,72486,92000,40000,56000,125000,29219,39927,38593,32000,28226,95000,194000,14821,52000,33000,29200,99754,49000,299322,38310,56000,31300,11241,48000,23882,65000,50000,25000,21000,148000,68000,52000,19000,74000,30279,20000,34834,90000,38730,57390,100000,50000,64961,72465,68776,150000,68000,33000,22389,90000,42000,38767,21000,59136,36000,95000,51000,36411,40000,27300,29813,71000,32000,19234,50510,102000,42277,46000,35000,50000,62000,78000,79000,6773,135000,36716,65060,33000,11110,63000,27030,19600,27755,20000,24782,47303,71000,135000,1000,29000,36367,38000,83969,82621,89000,54000,61691,32200,68630,61000,32644,85000,75000,40347,60788,18664,57847,52237,128000,54000,49800,98000,60095,68000,81402,38000,92239,49224,12000,54898,2500,32838,27076,75445,46601,72000,27000,68193,34429,46000,80544,42000,94821,100000,57000,79894,44748,31000,60587,32000,43772,23576,4000,62000,36000,80000,137008,61001,52191,77076,56000,21000,89429,45631,53959,55804,25899,82000,52000,20000,31829,18094,80000,11964,22684,43521,49386,12248,67771,60007,48624,30000,81605,32642,34200,72204,156347,47357,61738,32586,40129,51000,10393,46000,21000,113562,100010,63107,58500,90000,108242,146300,62943,65000,1700,34697,58000,32500,58661,37124,44000,45200,11000,65000,55005,81650,160000,169000,67263,44223,36840,160000,133000,69123,38000,5500,1001,59000,78256,90000,18000,60000,130000,32851,32000,62700,71000,19947,91000,74000,55594,58000,110224,21002,121000,73513,34000,28371,74755,25805,82603,110000,88000,110000,15000,70000,150000,19000,37442,63111,88000,42355,75871,65000,69000,79232,220000,28470,9759,75216,8000,59451,53996,15135,53000,40000,21107,56000,19623,70963,25755,51450,75000,37832,43041,97236,83000,65000,46007,65925,73500,55000,115000,31184,41747,38143,19030,20877,23555,29000,61000,4187,46000,28000,83558,40000,36000,21000,62162,83000,58000,62332,50867,73000,98008,36000,27339,25000,37000,56000,27000,37000,10500,49000,7000,71256,83184,87284,7000,29000,33552,64000,82000,70000,166194,58000,77000,73204,70000,79870,90000,17000,46493,68000,2000,140000,255000,45535,39228,57000,85445,54000,53000,60000,65668,100000,1800,96000,44200,14000,720000,73000,68000,19543,38000,32805,44782,55700,60000,56000,60000,78563,34669,17000,66000,102418,48800,10601,8200,100000,78000,50000,89327,98000,24700,6000,9434,29000,22440,73070,21771,62000,37024,60336,26008,90000,35569,40000,45000,42000,46913,62000,15000,69000,41367,15982,99595,63000,49000,48272,63000,77000,11734,62012,46000,45449,85000,88000,45330,88000,45376,81000,83381,78526,27313,42747,42265,21000,55100,70000,55000,58235,26000,35000,24000,98000,44487,65000,34951,52373,66285,66000,43000,45200,41000,39430,83274,32324,49999,66000,54000,80000,72000,44865,22000,57478,75000,50624,75000,87000,62000,41372,70000,35000,71993,62000,51000,26038,37713,78088,30453,54000,190000,65097,28060,282000,111000,63295,35770,125928,45000,21000,54774,41123,17465,48000,173000,12000,34000,71360,74000,28937,82085,68465,63854,3000,65055,120000,64241,121000,2200,88123,79000,28143,23001,82002,75000,37451,67000,25000,12000,25000,95936,5354,42000,44282,70000,31400,50000,53000,21727,43000,75000,73557,44555,54885,76000,101000,66000,84360,25121,100000,66035,190000,85670,35000,8000,162000,60000,70600,25000,75000,85071,40000,67000,55000,62000,22526,57788,72000,83128,75000,58000,26000,1000,59751,29966,65000,75863,54000,24000,33218,33425,47000,41000,62000,47035,56230,55000,70669,69000,65000,30000,2000,24255,40000,40000,26000,105000,2800,71000,32896,45000,65000,45200,82167,37429,46000,67031,30000,47691,32531,71336,196000,28193,2526,52146,85000,20780,43081,35000,36000,67000,34079,77849,86000,110000,116000,41840,19317,41000,25601,83950,60000,50000,37000,76976,21684,62000,1261,59450,24465,55000,2000,25040,84000,170428,12573,88000,86000,51019,45000,51000,92000,29000,70521,51000,52618,68000,29022,80000,78000,100000,31412,78000,14000,80000,46738,54884,74500,67472,84000,77400,14470,52108,40000,105044,24347,58000,49663,17000,13418,117080,74000,86514,66882,41460,57000,34010,96813,84000,50004,67995,55000,14900,70961,40194,96000,35000,50000,50000,26299,150386,60000,65000,80000,92000,13000,73278,38000,46936,55000,19000,42259,14000,16956,15473,75000,96000,25000,38000,54000,4131,31700,66988,54230,35000,62714,45295,7000,57000,40100,56000,15000,14000,68000,83000,81504,73500,52900,20000,46000,65000,42000,36681,67000,18000,56409,65263,20300,45008,21799,57328,35358,46946,39772,58000,52000,152000,42700,60000,33195,110000,52000,64399,55000,50000,33485,32000,71400,41713,46000,52950,29500,63888,60000,59196,121362,78000,59000,95000,84000,58253,64557,24500,68078,149706,215750,25984,15544,34000,24000,95000,52000,135000,39000,45306,140000,55000,67415,25562,30292,84056,62691,87000,52513,43983,90121,50000,42500,62192,128000,38394,37287,60000,39419,55000,7000,85000,51000,90000,105000,36458,109000,49000,8000,45000,68000,54000,28000,38500,17738,67132,47000,28005,13000,67000,50000,55000,9312,30458,46000,50000,36676,72563,67000,58239,57934,6500000,63000,27014,90906,61202,51000,88008,55000,160000,42591,67000,48000,97000,10000,56900,74483,36152,85512,234000,36000,36096,111111,73000,44300,74500,21495,59000,23000,50135,25000,47000,150000,53503,47003,80000,20492,17000,79000,27000,28786,143354,56000,21000,29202,73000,74000,65423,65000,83875,55277,50808,52000,32000,25000,23218,84000,40000,17000,25135,65000,40000,24500,56674,51950,51000,150000,114750,107890,64000,21460,29634,52000,33000,89230,27000,72524,73000,21740,59000,83432,87200,88000,48324,51000,24000,20773,22000,66355,115800,41125,43812,69876,102000,68000,12000,25000,51873,72500,83000,39871,82000,23152,71600,122000,29277,60000,42000,61823,53000,75000,110000,38446,33000,42118,70000,68038,55012,55000,25000,46808,65743,64466,75648,80000,69000,79200,29477,40000,25000,67668,78000,30000,70623,54000,48000,62000,47000,171000,108000,41000,66000,144000,23806,89000,38852,68737,23106,31250,77795,47759,67620,44378,64709,76161,58410,72000,11000,45362,59767,70000,14233,72000,11000,39000,19855,20149,70000,62004,25500,68800,61700,59660,69775,51787,88000,47052,69749,79000,39644,137800,120000,11000,18600,116905,32824,19148,35008,21000,53000,36000,56121,30000,31021,52600,60000,44001,101000,84169,14001,100000,59000,29000,64158,38800,98000,20969,2900,69000,5833,28733,145000,71000,12000,21603,65000,58000,39000,37712,68000,25000,30000,68218,52000,63591,57937,21979,99000,62000,127001,84600,30953,78000,85000,79000,79000,48188,67557,103814,45128,56075,166000,65367,114708,35082,38593,70700,83000,120000,91586,38235,37000,50888,44000,54000,90000,35000,47324,65148,57773,87000,179032,8000,77000,20600,13198,21000,38000,15379,60000,70000,75371,60000,30675,22000,55000,74213,15000,57000,62144,50000,38000,30000,38735,23598,70000,39000,84175,45000,59302,55002,128813,46522,180000,89326,54000,95000,66337,60000,38001,73000,61000,120000,71787,11554,90000,48104,91000,58815,33931,13916,90400,14000,121000,17560,60000,88096,178280,19963,1000,8000,9200,29000,27000,22900,50000,60207,101119,42000,93000,60000,66122,25100,24733,41000,30000,36000,40279,46805,60000,100000,32986,51530,81456,37229,73200,71826,129000,82000,40459,61964,15466,23000,43766,54000,18521,26400,31900,39000,45671,39500,54000,20000,55000,48000,70000,62000,41994,108882,24806,160000,30000,51000,64876,70536,25299,89869,103515,68282,60033,51921,18414,40866,55001,20469,8500,45000,6000,11000,80064,29930,49105,55000,23000,54727,31426,53442,28000,13412,70000,81310,13574,75000,58310,90000,83000,37282,23000,82000,31000,200000,45001,50446,89000,72000,90000,76000,78401,38426,45000,83000,50170,37822,33517,110000,60000,92408,45000,33793,26327,20604,61386,11500,58000,38000,49000,72202,7000,20000,14061,30706,51387,44000,12208,55000,61600,28414,27853,55116,26000,45496,76000,136000,100000,38127,82450,62497,86732,27969,66372,73525,20689,25093,49176,87510,38214,48986,88000,69002,43706,58671,49404,72000,24000,53285,12000,45000,26234,55000,90000,48000,19863,55000,4800,38607,3958,74000,54540,58400,73648,83000,16159,150000,22100,35043,24000,480000,70000,13769,58000,58000,18705,32378,45000,36836,54199,36935,23000,14000,100073,59182,72132,79000,66930,100000,43000,27413,90000,40300,73783,86000,65694,23000,51000,18335,36000,25000,81000,21719,75421,80000,10671,4126,98500,61578,54000,70998,40082,50619,103905,15334,69000,75160,44753,53024,23840,81298,59000,51806,56000,29279,33550,62000,66000,46630,72566,51482,90000,69000,90000,39000,110000,68022,27852,58291,68439,150000,14000,71558,48000,65800,53000,14600,34429,52000,25470,22000,75000,95995,26877,26000,140000,95291,135000,32000,68333,72000,52100,10000,6261,3906,55960,144000,38000,51000,150000,2500,41661,64000,80000,30000,43000,90000,123880,42000,79824,75000,72411,63000,53713,18000,51000,86700,29000,56000,33000,64394,76000,48719,59711,83000,10714,127510,35010,75451,83000,38755,30000,40000,19500,41000,30000,37000,62000,42023,51001,55389,46728,58995,37857,71000,49024,10770,72000,91000,14000,48000,75136,32500,94500,34900,42400,50000,35000,37000,32807,119000,12000,46727,73336,9000,240000,25422,14000,66000,55324,90000,43000,58483,93000,50000,78616,37000,54801,29000,68000,58000,64290,31000,16039,19860,48500,75391,78000,78000,52000,30000,19254,29651,80000,2971,21400,77000,80000,81755,99593,39791,113000,24000,39000,37000,61108,61648,37000,53000,65000,120000,148009,53001,22345,50000,48183,93000,53500,17585,36226,25899,60170,11200,49045,45000,40000,36600,117000,16000,50000,150000,11000,102016,38000,71491,46354,87000,20765,58000,51076,84085,55000,73000,50001,93166,99583,72000,70000,61000,66510,84062,80799,5000,92000,53000,39822,29000,24214,75000,77216,74290,61000,44000,74041,85846,52000,47000,72010,15000,480000,24720,75000,57000,41057,92000,20000,52359,17000,39002,129986,45000,41300,82002,67000,21260,55362,13000,45725,105000,156056,135000,67000,90000,32251,47000,75308,44202,58000,60000,45000,41195,89000,60510,8500,35981,23152,74663,61529,91596,14298,83327,22857,34620,56000,81000,95150,32776,51587,36000,22000,30754,37109,45000,33284,55115,18000,130790,16607,32205,67000,57676,41000,65000,12153,16810,61221,22000,63714,14857,69000,14648,100000,22000,10000,107000,48198,15000,80073,85388,14700,150000,34994,82536,82000,52000,20000,55000,47001,52000,43284,23875,51866,69000,62788,150000,47566,67000,20300,48300,30000,36000,27641,60000,9000,60750,9000,41100,60000,38424,50000,19000,58734,65257,130000,79000,78000,49133,22769,54448,158793,62088,14800,26000,32005,35000,52000,11000,62000,65134,71000,51366,46300,60908,93450,104000,52000,42999,90000,72000,54321,59630,116000,34000,70000,80000,110000,56454,60000,56000,63000,63000,15050,29401,25238,79000,58752,62000,132000,51000,185200,61717,8896,17000,31378,114000,81000,31000,35000,60001,75074,80000,147350,60000,7501,58000,29277,57034,40810,35268,81000,34630,45122,126000,63000,32298,63288,43337,46561,34000,48000,56263,84060,9000,79000,87900,72425,38000,83000,107000,51000,140000,48000,62000,31000,75055,51210,87000,17000,57000,9370,53226,120000,75055,37247,64000,12000,40158,11000,70010,82000,57259,84000,168000,73670,89540,85423,48823,35082,126000,19000,69000,29836,48002,52324,65000,66000,75700,43000,42706,35000,54348,84000,63298,75049,24237,22767,58000,57000,50161,45000,68319,30711,38277,115000,46849,64000,130923,15000,32720,12500,59800,54211,62242,54000,65000,55000,71000,70000,53000,43000,54000,51000,78000,25000,12600,80000,21000,32000,50000,47500,7500,68163,61000,100000,61500,42883,97000,39525,35384,46000,32189,27000,22734,58002,31500,30933,27090,29500,45000,11691,121000,118077,36300,90000,78000,42000,27000,22000,49000,42600,12794,125000,88046,8000,82739,193000,7000,60000,38000,56344,17858,53000,67906,19000,67000,80000,61000,39000,59000,80931,34000,130000,52380,44000,84000,41697,163000,42000,129000,32200,129000,40000,150000,140000,63181,39575,63600,70374,26256,13460,122000,58589,115000,75000,30292,32248,74000,56100,61325,33000,18090,71390,41000,67000,99000,142000,26966,27628,82497,86000,26981,110471,69000,12000,77500,48031,170000,69565,45492,85000,55902,18500,129750,50902,84725,40000,60000,33496,25000,71000,20826,42244,98598,62100,44238,91743,19828,36891,90049,74002,41000,83678,91000,50000,58000,80000,41290,65000,16471,54339,24025,24027,59270,40000,155566,42320,24153,27000,92000,61795,13500,4500,23000,65400,80578,42646,30000,90000,98000,66400,50000,63310,66000,74000,93000,70000,48772,66000,27417,51593,86340,75000,39237,11966,37000,70920,65280,62000,44525,86863,102626,45000,22000,108905,12800,32000,39000,42000,73000,48000,18000,19000,33598,63000,48000,66000,80000,37000,35058,52000,61313,45000,74000,89000,13414,95000,15900,151000,65000,36824,65287,52000,33000,71000,71000,20000,71000,29000,27000,19000,58000,42203,94000,52000,4900,70000,100000,65266,54569,51361,125000,66000,65047,22281,63210,31000,60000,32006,78000,9489,5000,60000,50000,53000,64000,43827,36431,35000,94832,88381,45194,66000,38578,40000,20632,73042,54257,93000,102000,28881,52195,20422,38000,92885,43000,70478,57000,32434,32000,59000,76467,100000,37086,135000,54862,67758,56200,169006,20229,62000,51500,69000,167000,62476,60500,17978,300000,123000,45296,77325,25858,120000,22000,11000,3900,106092,27000,11000,39753,39800,73000,55000,18351,45000,112200,29000,57309,53392,71000,93000,119000,42225,65000,27809,65100,51000,10000,54895,80768,12076,49000,42366,68000,122397,50534,55300,73095,51100,13436,76000,63141,74885,14000,56000,46000,51800,81000,17370,18456,59000,141537,51000,29311,31000,80000,33000,71556,85000,91000,73187,232000,127079,58816,63818,40000,77445,14000,85122,123000,61000,63714,53000,60000,33000,31000,79000,67914,58970,60000,35225,69496,62282,80000,43698,28052,29091,63000,91000,30000,24571,45000,24617,26927,87736,35299,51612,55300,65090,40000,38467,71904,87000,33000,22100,59589,44000,12000,66000,38009,35000,70000,86000,32000,15000,69918,39000,1011,85000,46663,27000,15000,10575,12500,52000,49818,90000,52207,167362,49894,13024,128000,26023,42784,115000,30529,14814,58000,68128,63220,30000,27768,53000,87652,94873,56000,18678,30000,129000,59000,13000,74325,45000,57000,125943,80000,154000,62000,27000,45000,105000,26000,30900,48000,112719,5000,16000,63000,28300,49000,12501,56628,105000,52126,38000,50000,50230,31000,79000,130000,115000,41500,54385,56361,22000,8000,28741,117236,30500,5000,42000,32773,19008,32542,94753,70000,68347,72000,75014,65000,55598,50000,44200,65000,49000,7200,43152,112000,23540,82160,57000,39335,62000,60000,35000,32345,47000,65537,36000,75000,38000,57818,45000,75055,65462,76206,25948,28500,28004,25000,40000,82543,30000,27800,33415,38000,41981,77084,71803,73314,69053,79782,250000,90000,130000,65000,46496,76000,28002,63000,70000,66276,45000,67000,43068,40000,50436,21000,2000,14500,68782,35888,168205,47000,93700,45000,55547,69000,88000,32400,79000,110000,45407,136490,19000,19416,15500,12538,62588,44328,63000,100000,103000,50296,95500,72100,19119,30000,75600,137000,53500,26101,7000,50000,30000,38151,116000,22000,60000,38000,51928,3000,67196,100000,65218,53886,50058,64000,41641,44345,45501,104000,50297,87000,120000,17000,100000,50979,41000,24000,44738,37298,42000,45000,102000,70000,27467,15305,70000,36778,25845,33858,12000,33709,32709,72000,31000,70000,61000,72000,49000,42939,32545,54000,76000,27000,120000,125000,37000,42000,60000,3000,44000,37000,50000,58581,25500,25000,53766,45271,68000,40000,73212,69000,61932,52000,150000,70933,115195,62148,32000,58000,68598,84072,51264,21363,40000,35000,55000,43252,42000,69000,14000,70000,35314,38691,72717,82000,44000,27000,18500,45000,173000,42000,90000,82329,80302,105000,60000,70000,45000,44000,25500,68000,61786,65000,77000,34000,59751,23312,30000,60146,44731,43316,92000,50000,69000,60280,48161,41000,6000,133000,76000,15590,69681,70362,49112,25000,74000,15200,86300,26731,74000,83929,65000,20000,122086,35442,62542,26671,83500,46166,25200,35463,23249,40310,82069,10000,94000,45000,52818,61238,54253,71000,20000,75000,11827,51579,65178,25350,92000,45000,46000,79940,28851,63000,77283,38958,8900,38000,44887,85000,100000,26239,97000,28000,20364,64637,15731,56251,28000,20045,34004,21000,68001,31000,8950,43477,20000,47200,60000,111000,52000,26000,32425,54758,59833,30000,40496,45000,75000,34000,62000,123600,80102,55000,48200,90000,123900,13008,60500,53841,47183,10000,45000,3923,85000,6279,74500,42000,56510,88000,36631,34000,49000,65254,95000,83000,101065,15134,72000,120000,45000,54996,22874,58000,86000,69000,55001,28000,53213,44340,16900,57000,83165,24735,65175,60000,60357,77000,85301,50000,58000,39000,46190,83000,33000,27279,53900,63998,57932,25000,169000,53000,43053,75000,89000,75578,46676,51349,34233,39626,82500,63000,77001,43000,61111,79000,43000,47000,34000,22060,63000,80000,13506,16000,31006,91200,43000,45000,28637,69870,84000,84143,77000,75000,76155,98000,48233,63000,34063,32576,28843,26000,39000,66000,38002,49000,52000,56500,20568,26000,56000,27509,36216,28888,120000,31396,79000,62000,120000,53000,124313,26725,45617,37000,109147,59000,28000,4700,72469,57539,42000,62489,51167,130000,63000,60000,123200,115692,87073,40901,36264,60000,20000,68400,71231,75000,1997,47300,61449,47910,62000,65060,82203,44000,53817,61591,86500,100000,87000,35000,6000,59327,81001,44612,42388,54000,83010,65405,36000,85000,35000,54000,70000,27001,41075,26000,55000,19000,15000,37000,38712,52400,23988,32283,52000,32000,39000,14149,103000,82000,34000,45180,2000,82321,7000,27000,31271,55000,24000,147000,72351,115000,82000,20000,45560,57539,20004,54500,27886,66000,72202,70000,78233,120203,20575,39879,31056,50940,99362,54000,54268,94521,38932,60395,29000,58000,60913,65000,26000,19947,70816,54000,138000,35000,50000,124652,80264,125600,49000,111000,33690,50000,38092,47774,167000,65000,46000,16500,39000,6000,60000,97320,99807,46000,12000,13002,26000,68365,27833,51639,21000,90000,36255,58000,48997,31130,75668,12000,90000,17320,85000,130000,60328,34327,75000,86000,12000,57759,24300,66000,75915,107000,86000,160000,3000,72495,33000,60000,80103,42100,4500,97000,51223,64000,56911,147848,21290,14076,75180,92000,57266,64000,41000,45999,50000,70000,37540,44000,22500,17431,61566,61730,68000,29000,156210,46500,52830,39867,58972,66000,52000,58000,58000,75000,41008,65000,19000,74000,33000,95000,34000,102865,52378,38000,60334,107000,445000,2196,24000,44846,64035,45600,102001,47439,193254,29000,51681,50000,42666,65000,18776,6714,40000,88539,65055,23000,60000,59350,19000,45560,118000,55000,60000,145000,46810,62767,18553,143143,53497,148000,95000,100000,29000,87000,56838,100000,125000,17000,70000,50000,39800,60000,58000,110009,85000,84000,51000,68880,5500,40052,47293,79663,63000,45000,56501,58000,51602,74199,25000,70000,25000,22000,47020,8000,73000,36973,42083,61000,43628,60000,54000,27001,52000,80000,160000,3300,35027,26568,59000,51000,56400,80000,72000,107000,100000,59998,105000,36000,24350,28973,8243,136642,60000,100000,48689,45000,38163,43800,92000,14064,42366,76551,72672,45000,91696,66484,15456,55000,21112,98000,61297,80000,59000,150000,60083,85450,88000,81828,18000,15000,34000,46000,48158,93000,71007,63067,70259,13000,140000,130000,89401,67000,65329,72000,70000,82000,85000,83000,26000,27000,37746,63274,25000,197000,45010,75348,90110,102013,36000,37578,46001,46559,48000,46000,15000,85000,32000,60818,35188,110000,61000,75000,55000,69966,42000,48000,35000,128000,78000,53080,66000,25000,36139,44000,50000,81177,26000,100000,75000,119859,55980,30000,49700,79000,65100,54161,28619,9000,42876,64000,20488,21000,119203,55987,72668,32000,3000,10400,35000,55101,57464,110000,17941,72000,16000,62020,85000,14223,41210,20000,18043,80000,21000,49000,104000,95000,32000,80000,122800,78000,69000,65000,23000,70000,250000,56000,30000,35000,92250,40000,96848,42000,55886,12336,60000,83000,24000,32198,92247,121311,66296,41000,38681,43761,17400,61510,60000,35165,41617,45000,65000,68000,49000,16698,30965,56058,15356,54000,47000,21652,52000,35010,76662,89000,80000,39023,62000,78046,34400,64624,69192,55000,81000,36733,24310,43022,74000,47000,37460,130000,31576,66000,79000,47140,36610,93000,52195,20003,66314,76000,29000,30000,56526,38000,41000,53000,125000,242000,90000,11000,21936,41000,47000,110000,45960,48000,68000,41000,69573,115000,47629,66624,80000,94868,76477,28000,28599,45348,80127,68000,75000,48000,41871,84931,15000,110000,5900,103653,64806,35000,40000,23876,67901,68865,71000,95000,25000,180000,131000,65000,117777,65000,46897,36695,43000,54000,89000,7000,58470,37000,29000,52000,32807,86000,66500,94000,29000,107389,36100,16329,36000,41816,54680,14000,23977,30131,2530,39000,140000,32257,46983,107000,19000,88000,84384,128000,71000,50000,16000,82000,80000,36000,17477,16725,48241,52431,68000,158000,31446,25000,57000,76000,57078,47471,50000,62000,65807,81768,9952,24000,72921,59000,33000,36789,41000,71000,46650,3000,14799,68525,15000,29000,77407,118000,75000,69000,52553,58000,24000,65542,68008,22251,55000,19387,58000,24001,17000,28500,66000,22000,44383,45000,58000,69000,60993,67000,51134,55000,25082,68350,50000,97000,56238,72618,62005,61250,28469,21488,197000,138205,160000,67590,52000,100000,60048,48000,47000,100000,62601,80010,26493,96000,45700,13000,38000,8018,144400,152000,71000,80000,87143,25000,2000,45239,101999,74219,25000,109606,36000,41810,93321,81000,25717,37000,56380,8000,14589,65088,24864,64831,38001,77000,27000,39000,131000,43000,68000,45165,120000,86091,71499,50000,66000,45000,69189,40206,36723,57500,43912,52000,60952,87192,58000,59500,16650,34696,42243,57824,110000,63000,72000,63455,17151,31001,42109,55000,46000,30852,65000,65000,72000,29000,32000,29875,32539,83090,62679,93000,44000,78400,71300,18000,24013,99100,62000,14000,44811,44000,136000,144113,94989,58133,61000,27000,18050,145277,42000,86000,42150,30158,47000,39000,32125,58829,67559,55000,30000,28000,31826,64000,100009,17201,74345,58134,30566,55231,67774,50319,45000,43627,45000,10500,21789,21134,90000,51553,31000,67422,60519,34000,68434,17000,43686,22000,79225,63000,61922,85000,26192,65000,44999,81308,35000,65349,80000,61000,31817,41000,82606,52000,50318,50000,72000,63776,28133,45000,55697,62000,48000,90246,80500,119000,28541,45500,41000,58000,99000,31200,85000,60924,45000,44000,30534,46399,42000,67000,58000,27000,39566,14980,18491,90000,118211,63316,42000,25648,67612,33000,20000,143000,118218,99000,22700,28000,62000,107023,71082,60000,21701,56000,32450,12500,20483,45800,35441,86398,150000,89000,68375,52000,39000,68000,71000,72003,135670,65850,53920,58000,4000,58000,29832,71156,64687,54000,75000,39208,41000,38622,18000,52000,45000,48656,79000,88000,92000,9000,50121,79000,46000,100000,41000,25000,71899,7100,38171,70359,200000,26969,56500,40000,41000,53105,23000,80999,82000,68557,34000,77000,48000,28232,110000,120000,49000,22000,14925,75000,23000,57000,76718,138000,140000,110000,126000,73000,63423,62132,51000,75000,55410,41000,45000,53322,48000,72000,50266,21800,45000,62000,41681,69313,49000,40471,60000,1001,38000,66000,33901,57000,170000,60000,85000,146000,56002,8554,62322,37929,5400,60000,55730,62000,14576,17000,28000,58200,53000,12278,17665,200000,55893,60586,13500,30000,12000,65000,38000,25000,100000,13710,100000,17000,89000,100173,97000,40190,29647,43639,37333,48407,25000,72400,18000,65167,25418,38995,60000,72000,31075,4311,21000,54000,50000,13000,74000,75000,25000,139000,52000,20000,32663,76777,100303,43993,72118,83000,7523,34670,30000,17000,59261,65210,19000,50000,47000,75000,54534,13000,48808,63001,64771,34634,69242,33292,55000,1000,80000,65003,16573,152633,53000,50129,63716,11000,115000,63265,20000,79000,41000,26323,76000,69972,69000,65000,29512,51000,58003,56500,29063,46811,31897,52100,73000,31423,75180,75000,15000,12000,32000,44504,66000,39437,36931,17800,71346,45000,85155,48823,37000,92000,36000,24569,95000,25811,65000,100400,76414,82103,98000,45252,10300,42024,51236,52000,42894,68000,69000,10000,16000,46992,170000,58000,50000,39010,26946,28700,60000,38999,39000,7784,45710,42000,75995,57000,85350,82725,19000,13900,108000,36000,62188,58397,85000,30000,29907,46000,65000,22000,99024,34952,13913,71000,97000,21000,116000,110438,66507,54650,32000,75378,82697,135000,149000,26212,23500,56127,26000,26000,42000,130000,137148,114703,97439,40000,81609,28000,37500,37000,83000,79012,27395,35362,117000,23000,59508,69000,58000,88511,66000,65000,30676,76000,23627,52827,64465,14000,26000,78203,27000,31919,47392,17362,49716,48000,46000,79000,57000,29754,50123,57184,75000,26000,22129,127887,92000,60634,90000,59000,59293,80753,40000,103000,72389,48000,41000,26000,30000,74624,47877,35000,52123,90000,1400,122000,21110,78000,72000,48000,43486,199000,34000,37944,30000,64005,62000,105000,59885,144471,63991,72000,34895,97003,45000,45000,100000,70000,37023,81000,20789,68310,47250,47000,128000,17702,34987,37000,38271,32510,88000,116000,156000,75319,28000,16500,75637,32854,6568,30000,17804,69768,62404,97000,55687,17000,34232,135000,80000,31045,58000,35480,62287,46162,9200,55339,55476,68553,67376,42000,28069,93144,24300,47883,12467,56683,38000,35000,80000,125000,123000,70000,87982,40714,83000,86000,60002,60000,84677,23000,81424,36400,70000,40000,600,65320,79000,5000,6028,86000,160000,59967,43127,65727,70000,39861,16485,77332,17489,125000,35129,22982,54500,16235,73641,59572,112827,118000,60000,75059,3000,78000,47000,42000,6820,55176,39854,24000,55000,45840,155000,125000,52951,49000,52000,227000,120005,33000,126000,66700,122000,29000,42315,22001,84580,75000,85000,24296,40000,64514,35000,41000,60123,53000,9000,53497,68000,65000,45155,20026,60000,15976,30523,26300,66000,70000,46000,28000,46000,33000,27718,58000,33150,77000,70000,97000,75300,69918,4721,39163,80000,66000,36154,34000,60000,32000,79985,37600,31965,70749,38000,41534,54455,42000,52073,40175,16503,15029,26200,76362,18700,67585,57000,22321,95150,36428,73500,47234,62364,89000,58653,30000,64042,120000,90000,30733,43600,71473,39000,84045,57004,75464,142000,118683,42000,12800,80000,76126,21000,85000,27000,45794,57352,41467,42000,62549,67048,11732,37000,30000,53000,60000,65000,51000,92000,31000,43917,46707,84000,55662,51000,24398,78000,40315,83000,58151,30519,20712,48000,85000,32000,52000,58307,30000,40000,36000,58817,55000,39000,6500,35000,49900,99500,33249,52000,45000,22000,7858,112000,41082,72000,84912,70000,21000,27000,29000,48425,19000,210000,64000,200000,100000,69140,21214,28000,29085,30000,32910,30000,35102,22831,74911,21000,37160,41000,37294,56927,21954,50000,78212,64500,51000,52000,120000,65792,30000,54387,1617,82000,20000,98000,57000,250000,56549,78500,55036,55000,90000,155000,17810,42408,81000,52000,35000,60000,27000,55975,115000,132000,40337,192000,50000,28147,20000,11000,63000,36967,73053,16392,79000,67000,48600,70000,84000,49106,35000,51240,37000,32587,180000,21248,47200,40000,4000,23700,57000,37000,70000,92469,55000,20000,42000,28000,93000,23000,36000,52000,59245,31000,83000,81500,51000,9900,94000,27100,12000,29000,65000,50794,59000,72000,15234,44000,125000,100000,34686,98000,90000,81000,55000,52910,100000,132000,18000,50000,33000,30000,8000,58646,21000,57026,42000,26741,85000,78000,29091,37323,55595,49900,52500,5700,53340,57000,59525,58000,73000,33554,106000,27000,1000,119000,75000,64000,63738,16000,28000,91000,25000,65630,48094,90456,140000,95000,79000,96000,186679,91000,109703,110000,35000,47722,25000,8000,65000,1048,42000,55000,72000,17773,65000,65000,53280,34005,14618,65771,78000,105545,25000,80561,6000,39000,55001,63720,70000,100000,15386,102486,58629,86000,68238,42036,55619,60000,30000,31150,70000,70290,10000,68010,91903,38000,67600,66800,37208,102002,68000,40000,33500,33746,53000,45004,70602,27365,100000,55000,46000,47000],\"y0\":\" \",\"yaxis\":\"y\",\"type\":\"box\"}],                        {\"template\":{\"data\":{\"histogram2dcontour\":[{\"type\":\"histogram2dcontour\",\"colorbar\":{\"outlinewidth\":0,\"ticks\":\"\"},\"colorscale\":[[0.0,\"#0d0887\"],[0.1111111111111111,\"#46039f\"],[0.2222222222222222,\"#7201a8\"],[0.3333333333333333,\"#9c179e\"],[0.4444444444444444,\"#bd3786\"],[0.5555555555555556,\"#d8576b\"],[0.6666666666666666,\"#ed7953\"],[0.7777777777777778,\"#fb9f3a\"],[0.8888888888888888,\"#fdca26\"],[1.0,\"#f0f921\"]]}],\"choropleth\":[{\"type\":\"choropleth\",\"colorbar\":{\"outlinewidth\":0,\"ticks\":\"\"}}],\"histogram2d\":[{\"type\":\"histogram2d\",\"colorbar\":{\"outlinewidth\":0,\"ticks\":\"\"},\"colorscale\":[[0.0,\"#0d0887\"],[0.1111111111111111,\"#46039f\"],[0.2222222222222222,\"#7201a8\"],[0.3333333333333333,\"#9c179e\"],[0.4444444444444444,\"#bd3786\"],[0.5555555555555556,\"#d8576b\"],[0.6666666666666666,\"#ed7953\"],[0.7777777777777778,\"#fb9f3a\"],[0.8888888888888888,\"#fdca26\"],[1.0,\"#f0f921\"]]}],\"heatmap\":[{\"type\":\"heatmap\",\"colorbar\":{\"outlinewidth\":0,\"ticks\":\"\"},\"colorscale\":[[0.0,\"#0d0887\"],[0.1111111111111111,\"#46039f\"],[0.2222222222222222,\"#7201a8\"],[0.3333333333333333,\"#9c179e\"],[0.4444444444444444,\"#bd3786\"],[0.5555555555555556,\"#d8576b\"],[0.6666666666666666,\"#ed7953\"],[0.7777777777777778,\"#fb9f3a\"],[0.8888888888888888,\"#fdca26\"],[1.0,\"#f0f921\"]]}],\"heatmapgl\":[{\"type\":\"heatmapgl\",\"colorbar\":{\"outlinewidth\":0,\"ticks\":\"\"},\"colorscale\":[[0.0,\"#0d0887\"],[0.1111111111111111,\"#46039f\"],[0.2222222222222222,\"#7201a8\"],[0.3333333333333333,\"#9c179e\"],[0.4444444444444444,\"#bd3786\"],[0.5555555555555556,\"#d8576b\"],[0.6666666666666666,\"#ed7953\"],[0.7777777777777778,\"#fb9f3a\"],[0.8888888888888888,\"#fdca26\"],[1.0,\"#f0f921\"]]}],\"contourcarpet\":[{\"type\":\"contourcarpet\",\"colorbar\":{\"outlinewidth\":0,\"ticks\":\"\"}}],\"contour\":[{\"type\":\"contour\",\"colorbar\":{\"outlinewidth\":0,\"ticks\":\"\"},\"colorscale\":[[0.0,\"#0d0887\"],[0.1111111111111111,\"#46039f\"],[0.2222222222222222,\"#7201a8\"],[0.3333333333333333,\"#9c179e\"],[0.4444444444444444,\"#bd3786\"],[0.5555555555555556,\"#d8576b\"],[0.6666666666666666,\"#ed7953\"],[0.7777777777777778,\"#fb9f3a\"],[0.8888888888888888,\"#fdca26\"],[1.0,\"#f0f921\"]]}],\"surface\":[{\"type\":\"surface\",\"colorbar\":{\"outlinewidth\":0,\"ticks\":\"\"},\"colorscale\":[[0.0,\"#0d0887\"],[0.1111111111111111,\"#46039f\"],[0.2222222222222222,\"#7201a8\"],[0.3333333333333333,\"#9c179e\"],[0.4444444444444444,\"#bd3786\"],[0.5555555555555556,\"#d8576b\"],[0.6666666666666666,\"#ed7953\"],[0.7777777777777778,\"#fb9f3a\"],[0.8888888888888888,\"#fdca26\"],[1.0,\"#f0f921\"]]}],\"mesh3d\":[{\"type\":\"mesh3d\",\"colorbar\":{\"outlinewidth\":0,\"ticks\":\"\"}}],\"scatter\":[{\"fillpattern\":{\"fillmode\":\"overlay\",\"size\":10,\"solidity\":0.2},\"type\":\"scatter\"}],\"parcoords\":[{\"type\":\"parcoords\",\"line\":{\"colorbar\":{\"outlinewidth\":0,\"ticks\":\"\"}}}],\"scatterpolargl\":[{\"type\":\"scatterpolargl\",\"marker\":{\"colorbar\":{\"outlinewidth\":0,\"ticks\":\"\"}}}],\"bar\":[{\"error_x\":{\"color\":\"#2a3f5f\"},\"error_y\":{\"color\":\"#2a3f5f\"},\"marker\":{\"line\":{\"color\":\"#E5ECF6\",\"width\":0.5},\"pattern\":{\"fillmode\":\"overlay\",\"size\":10,\"solidity\":0.2}},\"type\":\"bar\"}],\"scattergeo\":[{\"type\":\"scattergeo\",\"marker\":{\"colorbar\":{\"outlinewidth\":0,\"ticks\":\"\"}}}],\"scatterpolar\":[{\"type\":\"scatterpolar\",\"marker\":{\"colorbar\":{\"outlinewidth\":0,\"ticks\":\"\"}}}],\"histogram\":[{\"marker\":{\"pattern\":{\"fillmode\":\"overlay\",\"size\":10,\"solidity\":0.2}},\"type\":\"histogram\"}],\"scattergl\":[{\"type\":\"scattergl\",\"marker\":{\"colorbar\":{\"outlinewidth\":0,\"ticks\":\"\"}}}],\"scatter3d\":[{\"type\":\"scatter3d\",\"line\":{\"colorbar\":{\"outlinewidth\":0,\"ticks\":\"\"}},\"marker\":{\"colorbar\":{\"outlinewidth\":0,\"ticks\":\"\"}}}],\"scattermapbox\":[{\"type\":\"scattermapbox\",\"marker\":{\"colorbar\":{\"outlinewidth\":0,\"ticks\":\"\"}}}],\"scatterternary\":[{\"type\":\"scatterternary\",\"marker\":{\"colorbar\":{\"outlinewidth\":0,\"ticks\":\"\"}}}],\"scattercarpet\":[{\"type\":\"scattercarpet\",\"marker\":{\"colorbar\":{\"outlinewidth\":0,\"ticks\":\"\"}}}],\"carpet\":[{\"aaxis\":{\"endlinecolor\":\"#2a3f5f\",\"gridcolor\":\"white\",\"linecolor\":\"white\",\"minorgridcolor\":\"white\",\"startlinecolor\":\"#2a3f5f\"},\"baxis\":{\"endlinecolor\":\"#2a3f5f\",\"gridcolor\":\"white\",\"linecolor\":\"white\",\"minorgridcolor\":\"white\",\"startlinecolor\":\"#2a3f5f\"},\"type\":\"carpet\"}],\"table\":[{\"cells\":{\"fill\":{\"color\":\"#EBF0F8\"},\"line\":{\"color\":\"white\"}},\"header\":{\"fill\":{\"color\":\"#C8D4E3\"},\"line\":{\"color\":\"white\"}},\"type\":\"table\"}],\"barpolar\":[{\"marker\":{\"line\":{\"color\":\"#E5ECF6\",\"width\":0.5},\"pattern\":{\"fillmode\":\"overlay\",\"size\":10,\"solidity\":0.2}},\"type\":\"barpolar\"}],\"pie\":[{\"automargin\":true,\"type\":\"pie\"}]},\"layout\":{\"autotypenumbers\":\"strict\",\"colorway\":[\"#636efa\",\"#EF553B\",\"#00cc96\",\"#ab63fa\",\"#FFA15A\",\"#19d3f3\",\"#FF6692\",\"#B6E880\",\"#FF97FF\",\"#FECB52\"],\"font\":{\"color\":\"#2a3f5f\"},\"hovermode\":\"closest\",\"hoverlabel\":{\"align\":\"left\"},\"paper_bgcolor\":\"white\",\"plot_bgcolor\":\"#E5ECF6\",\"polar\":{\"bgcolor\":\"#E5ECF6\",\"angularaxis\":{\"gridcolor\":\"white\",\"linecolor\":\"white\",\"ticks\":\"\"},\"radialaxis\":{\"gridcolor\":\"white\",\"linecolor\":\"white\",\"ticks\":\"\"}},\"ternary\":{\"bgcolor\":\"#E5ECF6\",\"aaxis\":{\"gridcolor\":\"white\",\"linecolor\":\"white\",\"ticks\":\"\"},\"baxis\":{\"gridcolor\":\"white\",\"linecolor\":\"white\",\"ticks\":\"\"},\"caxis\":{\"gridcolor\":\"white\",\"linecolor\":\"white\",\"ticks\":\"\"}},\"coloraxis\":{\"colorbar\":{\"outlinewidth\":0,\"ticks\":\"\"}},\"colorscale\":{\"sequential\":[[0.0,\"#0d0887\"],[0.1111111111111111,\"#46039f\"],[0.2222222222222222,\"#7201a8\"],[0.3333333333333333,\"#9c179e\"],[0.4444444444444444,\"#bd3786\"],[0.5555555555555556,\"#d8576b\"],[0.6666666666666666,\"#ed7953\"],[0.7777777777777778,\"#fb9f3a\"],[0.8888888888888888,\"#fdca26\"],[1.0,\"#f0f921\"]],\"sequentialminus\":[[0.0,\"#0d0887\"],[0.1111111111111111,\"#46039f\"],[0.2222222222222222,\"#7201a8\"],[0.3333333333333333,\"#9c179e\"],[0.4444444444444444,\"#bd3786\"],[0.5555555555555556,\"#d8576b\"],[0.6666666666666666,\"#ed7953\"],[0.7777777777777778,\"#fb9f3a\"],[0.8888888888888888,\"#fdca26\"],[1.0,\"#f0f921\"]],\"diverging\":[[0,\"#8e0152\"],[0.1,\"#c51b7d\"],[0.2,\"#de77ae\"],[0.3,\"#f1b6da\"],[0.4,\"#fde0ef\"],[0.5,\"#f7f7f7\"],[0.6,\"#e6f5d0\"],[0.7,\"#b8e186\"],[0.8,\"#7fbc41\"],[0.9,\"#4d9221\"],[1,\"#276419\"]]},\"xaxis\":{\"gridcolor\":\"white\",\"linecolor\":\"white\",\"ticks\":\"\",\"title\":{\"standoff\":15},\"zerolinecolor\":\"white\",\"automargin\":true,\"zerolinewidth\":2},\"yaxis\":{\"gridcolor\":\"white\",\"linecolor\":\"white\",\"ticks\":\"\",\"title\":{\"standoff\":15},\"zerolinecolor\":\"white\",\"automargin\":true,\"zerolinewidth\":2},\"scene\":{\"xaxis\":{\"backgroundcolor\":\"#E5ECF6\",\"gridcolor\":\"white\",\"linecolor\":\"white\",\"showbackground\":true,\"ticks\":\"\",\"zerolinecolor\":\"white\",\"gridwidth\":2},\"yaxis\":{\"backgroundcolor\":\"#E5ECF6\",\"gridcolor\":\"white\",\"linecolor\":\"white\",\"showbackground\":true,\"ticks\":\"\",\"zerolinecolor\":\"white\",\"gridwidth\":2},\"zaxis\":{\"backgroundcolor\":\"#E5ECF6\",\"gridcolor\":\"white\",\"linecolor\":\"white\",\"showbackground\":true,\"ticks\":\"\",\"zerolinecolor\":\"white\",\"gridwidth\":2}},\"shapedefaults\":{\"line\":{\"color\":\"#2a3f5f\"}},\"annotationdefaults\":{\"arrowcolor\":\"#2a3f5f\",\"arrowhead\":0,\"arrowwidth\":1},\"geo\":{\"bgcolor\":\"white\",\"landcolor\":\"#E5ECF6\",\"subunitcolor\":\"white\",\"showland\":true,\"showlakes\":true,\"lakecolor\":\"white\"},\"title\":{\"x\":0.05},\"mapbox\":{\"style\":\"light\"}}},\"xaxis\":{\"anchor\":\"y\",\"domain\":[0.0,1.0]},\"yaxis\":{\"anchor\":\"x\",\"domain\":[0.0,1.0],\"title\":{\"text\":\"Kilometers_Driven\"}},\"legend\":{\"tracegroupgap\":0},\"margin\":{\"t\":60},\"boxmode\":\"group\"},                        {\"responsive\": true}                    ).then(function(){\n",
              "                            \n",
              "var gd = document.getElementById('edd21568-062a-47e3-aef9-3a8ee802f657');\n",
              "var x = new MutationObserver(function (mutations, observer) {{\n",
              "        var display = window.getComputedStyle(gd).display;\n",
              "        if (!display || display === 'none') {{\n",
              "            console.log([gd, 'removed!']);\n",
              "            Plotly.purge(gd);\n",
              "            observer.disconnect();\n",
              "        }}\n",
              "}});\n",
              "\n",
              "// Listen for the removal of the full notebook cells\n",
              "var notebookContainer = gd.closest('#notebook-container');\n",
              "if (notebookContainer) {{\n",
              "    x.observe(notebookContainer, {childList: true});\n",
              "}}\n",
              "\n",
              "// Listen for the clearing of the current output cell\n",
              "var outputEl = gd.closest('.output');\n",
              "if (outputEl) {{\n",
              "    x.observe(outputEl, {childList: true});\n",
              "}}\n",
              "\n",
              "                        })                };                            </script>        </div>\n",
              "</body>\n",
              "</html>"
            ]
          },
          "metadata": {}
        }
      ]
    },
    {
      "cell_type": "code",
      "source": [
        "def remove_outliers(df, column):\n",
        "    Q1 = df[column].quantile(0.25)\n",
        "    Q3 = df[column].quantile(0.75)\n",
        "    IQR = Q3 - Q1\n",
        "    lower_bound = Q1 - 1.5 * IQR\n",
        "    upper_bound = Q3 + 1.5 * IQR\n",
        "    return df[(df[column] >= lower_bound) & (df[column] <= upper_bound)]\n",
        "\n",
        "\n",
        "df = remove_outliers(df, 'Kilometers_Driven')"
      ],
      "metadata": {
        "id": "IWmS6kPxyOLy"
      },
      "execution_count": 22,
      "outputs": []
    },
    {
      "cell_type": "code",
      "source": [
        "# box plot after removing outliers in Kilometers_Driven\n",
        "fig = px.box(df, y=\"Kilometers_Driven\" )\n",
        "fig.show()"
      ],
      "metadata": {
        "colab": {
          "base_uri": "https://localhost:8080/",
          "height": 542
        },
        "id": "SBeTLxQFyOS1",
        "outputId": "ac0ce1cd-a492-4177-c77c-27e8c0578041"
      },
      "execution_count": 23,
      "outputs": [
        {
          "output_type": "display_data",
          "data": {
            "text/html": [
              "<html>\n",
              "<head><meta charset=\"utf-8\" /></head>\n",
              "<body>\n",
              "    <div>            <script src=\"https://cdnjs.cloudflare.com/ajax/libs/mathjax/2.7.5/MathJax.js?config=TeX-AMS-MML_SVG\"></script><script type=\"text/javascript\">if (window.MathJax && window.MathJax.Hub && window.MathJax.Hub.Config) {window.MathJax.Hub.Config({SVG: {font: \"STIX-Web\"}});}</script>                <script type=\"text/javascript\">window.PlotlyConfig = {MathJaxConfig: 'local'};</script>\n",
              "        <script charset=\"utf-8\" src=\"https://cdn.plot.ly/plotly-2.24.1.min.js\"></script>                <div id=\"f2f7cf0b-e0b8-4613-9237-1eba304810cc\" class=\"plotly-graph-div\" style=\"height:525px; width:100%;\"></div>            <script type=\"text/javascript\">                                    window.PLOTLYENV=window.PLOTLYENV || {};                                    if (document.getElementById(\"f2f7cf0b-e0b8-4613-9237-1eba304810cc\")) {                    Plotly.newPlot(                        \"f2f7cf0b-e0b8-4613-9237-1eba304810cc\",                        [{\"alignmentgroup\":\"True\",\"hovertemplate\":\"Kilometers_Driven=%{y}\\u003cextra\\u003e\\u003c\\u002fextra\\u003e\",\"legendgroup\":\"\",\"marker\":{\"color\":\"#636efa\"},\"name\":\"\",\"notched\":false,\"offsetgroup\":\"\",\"orientation\":\"v\",\"showlegend\":false,\"x0\":\" \",\"xaxis\":\"x\",\"y\":[72000,41000,46000,87000,40670,75000,86999,36000,64430,65932,25692,60000,64424,72000,85000,110000,58950,25000,77469,78500,32982,55392,55985,45807,33000,51920,54000,54000,37430,62000,87615,72000,35000,55431,83816,50075,52000,85000,62000,90000,19698,22033,35487,46374,52001,58005,70704,75000,75800,13648,52000,53000,65650,54000,39000,16542,32000,121812,39300,22000,72000,58000,65000,65664,63000,15369,63000,13000,73000,55729,45178,56066,37300,56000,111111,104000,87591,95100,70000,54944,70337,99638,52000,75000,95980,16000,73745,18949,107000,48367,57000,58000,30000,34212,70002,62000,62001,78958,30180,32851,30000,66000,93850,53000,78000,65000,40000,30000,38053,25500,56087,71088,55000,32700,39882,128000,55000,102000,53753,10250,43874,32684,42000,28352,89900,47700,55000,44285,54000,30232,88500,13372,12645,94385,31821,12000,88578,44965,45044,34204,80759,91235,38800,83000,41283,23000,48000,48214,35000,35277,54620,14322,65634,6000,33280,29000,42831,90000,24005,32792,65000,66123,41000,23550,45000,60000,44414,1000,62500,21000,8525,29000,40000,88000,53537,51000,118500,63000,25000,37382,24773,62000,52340,56739,36091,120000,33000,60006,52000,43571,50000,113000,90000,29000,20000,61012,87459,70500,64103,76000,104000,42001,37245,45000,117837,30000,27057,8500,30500,56000,44000,10500,26000,25166,64000,61000,107000,29161,32000,46173,47000,26327,70436,60813,45000,64000,41284,14165,67000,32572,14960,55980,74000,56847,121374,52000,118000,72000,33915,82002,33000,34000,55000,60000,49575,83000,51346,43000,35000,27872,16514,120000,99000,52000,29819,57000,88500,28000,67000,26000,120000,51982,36000,47000,60000,31025,105000,121900,22695,73000,32227,55000,11287,48000,54308,78442,46000,45051,69000,49000,45000,64000,60000,62178,58006,74000,77771,45275,48000,31652,109000,31978,70000,15000,59138,61726,48000,58000,60020,77815,29000,44000,108626,71791,91931,91183,65000,88428,18000,60000,48000,40000,51495,30000,97430,42496,83000,37000,28503,76496,79152,32000,35000,105000,56000,73000,38000,80000,24973,45000,87430,57000,27904,30717,80000,47304,100000,30000,68000,21000,21000,119000,13747,70000,18000,83000,130000,63400,65000,8350,45000,26200,11000,90000,74000,37081,39000,99000,38000,72000,93000,5900,25000,68000,35676,74310,59364,41380,33900,28000,50958,93982,95000,9000,52516,20000,56451,37000,17400,90207,89616,85000,79271,56000,85001,12000,125000,53000,34990,49768,56000,75000,57000,37542,95649,35299,28464,41000,9000,92098,5834,40250,22397,20800,40322,52576,55000,47000,42021,23163,50000,11900,108000,37000,30000,12831,13102,24950,57832,34267,33000,55100,40000,31841,15000,82756,50243,20600,29952,15000,61938,67000,61672,26185,38000,67000,66000,80883,80219,12923,86642,19235,51002,6800,82749,51000,31465,76476,14000,47000,48466,46000,25142,69000,80524,26405,45000,64284,27000,3678,21000,67000,24000,75000,47198,52000,91000,60000,37873,31000,129000,78000,32000,59000,35437,98000,72000,79000,29000,66012,35000,75000,80000,32717,25000,79000,86000,25000,8500,34000,41629,80227,8587,30000,64186,76427,75000,27075,30000,69434,56000,49275,8700,18000,41041,80464,20667,60283,31696,100000,13361,48394,47399,69000,65278,108000,50645,130002,107000,41950,109000,9000,43900,64000,13190,77652,55000,59900,73539,31645,69690,41000,109200,80000,51000,105000,12100,31000,50000,48000,35000,100200,47000,63642,62550,37340,38461,29000,31000,42086,49000,77240,105000,35000,83072,129000,33558,60271,45366,9500,42362,21000,15200,43690,79926,53073,59000,47088,55000,80430,71932,19000,81759,52010,58953,93000,10000,40674,50000,1331,60000,10003,25000,73000,59962,72000,20967,35000,38056,94000,64236,124000,7400,52000,68764,64000,21558,37500,14077,70000,54316,90764,127000,51884,67407,107825,82453,30441,70000,11000,61000,48454,37000,32249,58000,28360,7000,19658,92000,25000,37882,69330,61000,35000,82000,72450,36381,25559,100000,94000,64357,10501,47000,18000,89000,49964,35000,64000,36000,78600,65000,120300,21000,18108,58407,49500,37199,62000,59000,60000,39037,17003,80400,75200,41217,98293,54000,17377,33800,86157,55000,53293,38000,64000,25058,36700,35000,22732,48000,62084,39273,64798,100002,78000,57717,109000,74515,50484,13452,37688,34000,120000,64000,100000,75000,86000,69000,41721,13000,38998,54250,45979,37000,46983,40700,43828,53000,100000,19000,84000,37630,67714,32000,51000,58390,14000,55818,97800,52241,25433,40611,72000,54631,60000,24941,63939,35214,63000,121377,100970,60000,77650,71297,55001,18955,47877,43368,73000,72007,56778,20024,42103,67147,37806,85000,35000,72035,48500,28854,92450,14351,51087,50000,73000,60000,50000,36797,50000,94000,74000,41016,67000,76927,17088,112808,74980,44600,37000,21000,81245,70000,4018,70000,56532,26875,72599,98000,19500,68000,19654,26000,10000,75020,43773,21000,23280,88000,67000,59636,11000,60669,12000,35000,65000,39929,49000,77757,21456,74000,37000,108640,38000,80000,47000,31000,40000,4152,51000,55000,58500,58620,29605,71172,12000,25000,43000,57022,92000,33372,52625,65537,60138,84000,47000,33450,125000,99606,64000,51000,57000,48040,43200,66000,31000,46000,47346,100000,63856,72996,23000,15985,98000,70089,99000,72000,44194,102000,56652,41650,61717,25302,47016,69000,32700,101337,59000,41736,71649,80606,63262,5456,7500,66000,66770,58472,46687,77000,7000,48000,47000,51530,25789,48000,52000,95637,131000,42076,76000,20487,43000,17000,60805,58775,70181,85827,58205,91000,74000,79324,38623,59923,23360,61495,56661,40318,60000,103000,130000,20000,76000,30000,28000,74000,75000,76000,64889,10000,43000,47490,80000,60000,6006,71703,33000,60000,91000,72000,43000,63770,43510,52000,31427,29000,56000,76000,53615,14800,35433,82966,96000,39528,92056,14930,38000,71000,71000,50000,48163,19168,26000,37400,8682,95000,34000,95000,13689,84000,47000,60001,96000,47300,28246,65000,68000,11209,41980,65000,38000,51000,33855,47037,58000,61240,91211,84000,64226,67000,106976,27210,26322,9107,63983,11000,93000,24852,37632,55000,81448,1900,54957,55000,21983,76000,65000,26000,11571,81000,23154,26856,67489,18000,63003,80000,56658,18592,75695,82000,60000,67000,42750,52398,36657,77000,85000,112500,105072,80000,3102,14656,105000,61000,85046,48000,55000,4000,94000,61110,80000,43190,45000,44178,84415,35000,44000,67635,18385,35000,49000,69000,23228,68462,74611,90000,22000,58163,109500,13363,51000,103000,43002,108000,82407,29000,45000,93401,95802,130000,67443,47681,35000,68000,34688,10512,58000,40000,61000,86000,45000,55000,36855,46821,120000,29000,40000,60000,64984,73204,50000,35000,17729,97000,89614,14000,50000,62505,94900,55000,53735,53934,58500,48000,24000,52001,9565,32953,18000,20446,33016,48000,72022,34000,69000,108000,34700,79000,58197,66000,60000,57000,45555,55137,93325,38000,57738,38282,64000,32000,83000,76000,67200,62655,16900,8471,69000,30090,120000,23000,35939,116694,40448,64456,52782,51672,56073,65000,79000,43206,70200,42000,62000,20000,80000,50234,50003,1000,54897,108995,73000,65000,32000,65000,21600,39000,58075,58000,58000,89000,72000,1800,46230,86925,5000,66000,119000,45000,66149,42070,35503,41460,40600,87000,30000,27089,53702,51000,36542,15000,65000,32000,24393,1000,28238,59000,92000,56840,62746,96000,24000,54000,90000,40000,65938,16100,3600,52000,54000,15399,75000,76752,56000,70000,46125,35000,80000,62729,34000,70000,32000,21000,49000,40000,78000,52000,65213,36884,62500,68000,40748,60000,12400,87000,20248,52383,1000,85000,47000,17585,32496,34613,54000,16900,62334,23714,52325,50000,55746,54000,43000,40000,125000,51944,46950,23000,54546,51535,45000,46004,124000,77395,10600,22974,89000,65012,17125,90413,37000,65000,66000,86000,98437,18000,35070,42000,40000,43000,65000,74000,51192,14262,66339,90200,57854,32000,29631,55005,54173,50000,78000,65000,120000,14000,57456,44450,63777,31000,60000,78008,33000,27078,57275,45000,57319,121097,89000,72000,36000,86000,85000,120000,37613,100000,5240,20000,16862,59254,60000,50295,47674,61517,62946,66823,79494,107000,55000,24000,20002,54317,10200,24337,79000,40500,23000,63050,78000,70000,66245,74112,87670,10000,62493,44620,66538,60000,20842,110000,45000,40000,49008,31000,8000,171,2100,20667,50000,100030,75372,60475,18453,96578,31001,65900,26246,62700,90000,36000,46000,73003,46566,41493,103788,45000,120000,97359,62000,115000,18373,60453,37000,69009,30000,70707,64677,3000,49000,71000,52000,35659,5377,65000,92708,48105,46759,62000,35175,70000,30000,66618,69300,22000,75000,43706,42000,65000,76128,39852,18673,11583,82000,50000,77000,54890,21000,58557,70000,16000,8899,83629,35059,30552,44875,25095,59000,36000,37000,90000,17000,42575,131000,74000,47234,10000,49389,12000,65000,89000,72000,49000,51355,13460,35642,52895,93000,70000,32048,4700,71800,69078,45000,15388,98798,43000,85112,37804,45000,116000,100073,22000,9500,17705,12000,51000,42000,51000,42527,45000,70000,92000,57156,53211,80000,74000,37000,64000,57197,55000,33000,70000,75000,58095,7445,17652,28321,69000,80000,42365,123000,40000,30112,43775,26013,56000,95000,41089,41988,72486,92000,40000,56000,125000,29219,39927,38593,32000,28226,95000,14821,52000,33000,29200,99754,49000,38310,56000,31300,11241,48000,23882,65000,50000,25000,21000,68000,52000,19000,74000,30279,20000,34834,90000,38730,57390,100000,50000,64961,72465,68776,68000,33000,22389,90000,42000,38767,21000,59136,36000,95000,51000,36411,40000,27300,29813,71000,32000,19234,50510,102000,42277,46000,35000,50000,62000,78000,79000,6773,36716,65060,33000,11110,63000,27030,19600,27755,20000,24782,47303,71000,1000,29000,36367,38000,83969,82621,89000,54000,61691,32200,68630,61000,32644,85000,75000,40347,60788,18664,57847,52237,128000,54000,49800,98000,60095,68000,81402,38000,92239,49224,12000,54898,2500,32838,27076,75445,46601,72000,27000,68193,34429,46000,80544,42000,94821,100000,57000,79894,44748,31000,60587,32000,43772,23576,4000,62000,36000,80000,61001,52191,77076,56000,21000,89429,45631,53959,55804,25899,82000,52000,20000,31829,18094,80000,11964,22684,43521,49386,12248,67771,60007,48624,30000,81605,32642,34200,72204,47357,61738,32586,40129,51000,10393,46000,21000,113562,100010,63107,58500,90000,108242,62943,65000,1700,34697,58000,32500,58661,37124,44000,45200,11000,65000,55005,81650,67263,44223,36840,69123,38000,5500,1001,59000,78256,90000,18000,60000,130000,32851,32000,62700,71000,19947,91000,74000,55594,58000,110224,21002,121000,73513,34000,28371,74755,25805,82603,110000,88000,110000,15000,70000,19000,37442,63111,88000,42355,75871,65000,69000,79232,28470,9759,75216,8000,59451,53996,15135,53000,40000,21107,56000,19623,70963,25755,51450,75000,37832,43041,97236,83000,65000,46007,65925,73500,55000,115000,31184,41747,38143,19030,20877,23555,29000,61000,4187,46000,28000,83558,40000,36000,21000,62162,83000,58000,62332,50867,73000,98008,36000,27339,25000,37000,56000,27000,37000,10500,49000,7000,71256,83184,87284,7000,29000,33552,64000,82000,70000,58000,77000,73204,70000,79870,90000,17000,46493,68000,2000,45535,39228,57000,85445,54000,53000,60000,65668,100000,1800,96000,44200,14000,73000,68000,19543,38000,32805,44782,55700,60000,56000,60000,78563,34669,17000,66000,102418,48800,10601,8200,100000,78000,50000,89327,98000,24700,6000,9434,29000,22440,73070,21771,62000,37024,60336,26008,90000,35569,40000,45000,42000,46913,62000,15000,69000,41367,15982,99595,63000,49000,48272,63000,77000,11734,62012,46000,45449,85000,88000,45330,88000,45376,81000,83381,78526,27313,42747,42265,21000,55100,70000,55000,58235,26000,35000,24000,98000,44487,65000,34951,52373,66285,66000,43000,45200,41000,39430,83274,32324,49999,66000,54000,80000,72000,44865,22000,57478,75000,50624,75000,87000,62000,41372,70000,35000,71993,62000,51000,26038,37713,78088,30453,54000,65097,28060,111000,63295,35770,125928,45000,21000,54774,41123,17465,48000,12000,34000,71360,74000,28937,82085,68465,63854,3000,65055,120000,64241,121000,2200,88123,79000,28143,23001,82002,75000,37451,67000,25000,12000,25000,95936,5354,42000,44282,70000,31400,50000,53000,21727,43000,75000,73557,44555,54885,76000,101000,66000,84360,25121,100000,66035,85670,35000,8000,60000,70600,25000,75000,85071,40000,67000,55000,62000,22526,57788,72000,83128,75000,58000,26000,1000,59751,29966,65000,75863,54000,24000,33218,33425,47000,41000,62000,47035,56230,55000,70669,69000,65000,30000,2000,24255,40000,40000,26000,105000,2800,71000,32896,45000,65000,45200,82167,37429,46000,67031,30000,47691,32531,71336,28193,2526,52146,85000,20780,43081,35000,36000,67000,34079,77849,86000,110000,116000,41840,19317,41000,25601,83950,60000,50000,37000,76976,21684,62000,1261,59450,24465,55000,2000,25040,84000,12573,88000,86000,51019,45000,51000,92000,29000,70521,51000,52618,68000,29022,80000,78000,100000,31412,78000,14000,80000,46738,54884,74500,67472,84000,77400,14470,52108,40000,105044,24347,58000,49663,17000,13418,117080,74000,86514,66882,41460,57000,34010,96813,84000,50004,67995,55000,14900,70961,40194,96000,35000,50000,50000,26299,60000,65000,80000,92000,13000,73278,38000,46936,55000,19000,42259,14000,16956,15473,75000,96000,25000,38000,54000,4131,31700,66988,54230,35000,62714,45295,7000,57000,40100,56000,15000,14000,68000,83000,81504,73500,52900,20000,46000,65000,42000,36681,67000,18000,56409,65263,20300,45008,21799,57328,35358,46946,39772,58000,52000,42700,60000,33195,110000,52000,64399,55000,50000,33485,32000,71400,41713,46000,52950,29500,63888,60000,59196,121362,78000,59000,95000,84000,58253,64557,24500,68078,25984,15544,34000,24000,95000,52000,39000,45306,55000,67415,25562,30292,84056,62691,87000,52513,43983,90121,50000,42500,62192,128000,38394,37287,60000,39419,55000,7000,85000,51000,90000,105000,36458,109000,49000,8000,45000,68000,54000,28000,38500,17738,67132,47000,28005,13000,67000,50000,55000,9312,30458,46000,50000,36676,72563,67000,58239,57934,63000,27014,90906,61202,51000,88008,55000,42591,67000,48000,97000,10000,56900,74483,36152,85512,36000,36096,111111,73000,44300,74500,21495,59000,23000,50135,25000,47000,53503,47003,80000,20492,17000,79000,27000,28786,56000,21000,29202,73000,74000,65423,65000,83875,55277,50808,52000,32000,25000,23218,84000,40000,17000,25135,65000,40000,24500,56674,51950,51000,114750,107890,64000,21460,29634,52000,33000,89230,27000,72524,73000,21740,59000,83432,87200,88000,48324,51000,24000,20773,22000,66355,115800,41125,43812,69876,102000,68000,12000,25000,51873,72500,83000,39871,82000,23152,71600,122000,29277,60000,42000,61823,53000,75000,110000,38446,33000,42118,70000,68038,55012,55000,25000,46808,65743,64466,75648,80000,69000,79200,29477,40000,25000,67668,78000,30000,70623,54000,48000,62000,47000,108000,41000,66000,23806,89000,38852,68737,23106,31250,77795,47759,67620,44378,64709,76161,58410,72000,11000,45362,59767,70000,14233,72000,11000,39000,19855,20149,70000,62004,25500,68800,61700,59660,69775,51787,88000,47052,69749,79000,39644,120000,11000,18600,116905,32824,19148,35008,21000,53000,36000,56121,30000,31021,52600,60000,44001,101000,84169,14001,100000,59000,29000,64158,38800,98000,20969,2900,69000,5833,28733,71000,12000,21603,65000,58000,39000,37712,68000,25000,30000,68218,52000,63591,57937,21979,99000,62000,127001,84600,30953,78000,85000,79000,79000,48188,67557,103814,45128,56075,65367,114708,35082,38593,70700,83000,120000,91586,38235,37000,50888,44000,54000,90000,35000,47324,65148,57773,87000,8000,77000,20600,13198,21000,38000,15379,60000,70000,75371,60000,30675,22000,55000,74213,15000,57000,62144,50000,38000,30000,38735,23598,70000,39000,84175,45000,59302,55002,128813,46522,89326,54000,95000,66337,60000,38001,73000,61000,120000,71787,11554,90000,48104,91000,58815,33931,13916,90400,14000,121000,17560,60000,88096,19963,1000,8000,9200,29000,27000,22900,50000,60207,101119,42000,93000,60000,66122,25100,24733,41000,30000,36000,40279,46805,60000,100000,32986,51530,81456,37229,73200,71826,129000,82000,40459,61964,15466,23000,43766,54000,18521,26400,31900,39000,45671,39500,54000,20000,55000,48000,70000,62000,41994,108882,24806,30000,51000,64876,70536,25299,89869,103515,68282,60033,51921,18414,40866,55001,20469,8500,45000,6000,11000,80064,29930,49105,55000,23000,54727,31426,53442,28000,13412,70000,81310,13574,75000,58310,90000,83000,37282,23000,82000,31000,45001,50446,89000,72000,90000,76000,78401,38426,45000,83000,50170,37822,33517,110000,60000,92408,45000,33793,26327,20604,61386,11500,58000,38000,49000,72202,7000,20000,14061,30706,51387,44000,12208,55000,61600,28414,27853,55116,26000,45496,76000,100000,38127,82450,62497,86732,27969,66372,73525,20689,25093,49176,87510,38214,48986,88000,69002,43706,58671,49404,72000,24000,53285,12000,45000,26234,55000,90000,48000,19863,55000,4800,38607,3958,74000,54540,58400,73648,83000,16159,22100,35043,24000,70000,13769,58000,58000,18705,32378,45000,36836,54199,36935,23000,14000,100073,59182,72132,79000,66930,100000,43000,27413,90000,40300,73783,86000,65694,23000,51000,18335,36000,25000,81000,21719,75421,80000,10671,4126,98500,61578,54000,70998,40082,50619,103905,15334,69000,75160,44753,53024,23840,81298,59000,51806,56000,29279,33550,62000,66000,46630,72566,51482,90000,69000,90000,39000,110000,68022,27852,58291,68439,14000,71558,48000,65800,53000,14600,34429,52000,25470,22000,75000,95995,26877,26000,95291,32000,68333,72000,52100,10000,6261,3906,55960,38000,51000,2500,41661,64000,80000,30000,43000,90000,123880,42000,79824,75000,72411,63000,53713,18000,51000,86700,29000,56000,33000,64394,76000,48719,59711,83000,10714,127510,35010,75451,83000,38755,30000,40000,19500,41000,30000,37000,62000,42023,51001,55389,46728,58995,37857,71000,49024,10770,72000,91000,14000,48000,75136,32500,94500,34900,42400,50000,35000,37000,32807,119000,12000,46727,73336,9000,25422,14000,66000,55324,90000,43000,58483,93000,50000,78616,37000,54801,29000,68000,58000,64290,31000,16039,19860,48500,75391,78000,78000,52000,30000,19254,29651,80000,2971,21400,77000,80000,81755,99593,39791,113000,24000,39000,37000,61108,61648,37000,53000,65000,120000,53001,22345,50000,48183,93000,53500,17585,36226,25899,60170,11200,49045,45000,40000,36600,117000,16000,50000,11000,102016,38000,71491,46354,87000,20765,58000,51076,84085,55000,73000,50001,93166,99583,72000,70000,61000,66510,84062,80799,5000,92000,53000,39822,29000,24214,75000,77216,74290,61000,44000,74041,85846,52000,47000,72010,15000,24720,75000,57000,41057,92000,20000,52359,17000,39002,129986,45000,41300,82002,67000,21260,55362,13000,45725,105000,67000,90000,32251,47000,75308,44202,58000,60000,45000,41195,89000,60510,8500,35981,23152,74663,61529,91596,14298,83327,22857,34620,56000,81000,95150,32776,51587,36000,22000,30754,37109,45000,33284,55115,18000,130790,16607,32205,67000,57676,41000,65000,12153,16810,61221,22000,63714,14857,69000,14648,100000,22000,10000,107000,48198,15000,80073,85388,14700,34994,82536,82000,52000,20000,55000,47001,52000,43284,23875,51866,69000,62788,47566,67000,20300,48300,30000,36000,27641,60000,9000,60750,9000,41100,60000,38424,50000,19000,58734,65257,130000,79000,78000,49133,22769,54448,62088,14800,26000,32005,35000,52000,11000,62000,65134,71000,51366,46300,60908,93450,104000,52000,42999,90000,72000,54321,59630,116000,34000,70000,80000,110000,56454,60000,56000,63000,63000,15050,29401,25238,79000,58752,62000,51000,61717,8896,17000,31378,114000,81000,31000,35000,60001,75074,80000,60000,7501,58000,29277,57034,40810,35268,81000,34630,45122,126000,63000,32298,63288,43337,46561,34000,48000,56263,84060,9000,79000,87900,72425,38000,83000,107000,51000,48000,62000,31000,75055,51210,87000,17000,57000,9370,53226,120000,75055,37247,64000,12000,40158,11000,70010,82000,57259,84000,73670,89540,85423,48823,35082,126000,19000,69000,29836,48002,52324,65000,66000,75700,43000,42706,35000,54348,84000,63298,75049,24237,22767,58000,57000,50161,45000,68319,30711,38277,115000,46849,64000,130923,15000,32720,12500,59800,54211,62242,54000,65000,55000,71000,70000,53000,43000,54000,51000,78000,25000,12600,80000,21000,32000,50000,47500,7500,68163,61000,100000,61500,42883,97000,39525,35384,46000,32189,27000,22734,58002,31500,30933,27090,29500,45000,11691,121000,118077,36300,90000,78000,42000,27000,22000,49000,42600,12794,125000,88046,8000,82739,7000,60000,38000,56344,17858,53000,67906,19000,67000,80000,61000,39000,59000,80931,34000,130000,52380,44000,84000,41697,42000,129000,32200,129000,40000,63181,39575,63600,70374,26256,13460,122000,58589,115000,75000,30292,32248,74000,56100,61325,33000,18090,71390,41000,67000,99000,26966,27628,82497,86000,26981,110471,69000,12000,77500,48031,69565,45492,85000,55902,18500,129750,50902,84725,40000,60000,33496,25000,71000,20826,42244,98598,62100,44238,91743,19828,36891,90049,74002,41000,83678,91000,50000,58000,80000,41290,65000,16471,54339,24025,24027,59270,40000,42320,24153,27000,92000,61795,13500,4500,23000,65400,80578,42646,30000,90000,98000,66400,50000,63310,66000,74000,93000,70000,48772,66000,27417,51593,86340,75000,39237,11966,37000,70920,65280,62000,44525,86863,102626,45000,22000,108905,12800,32000,39000,42000,73000,48000,18000,19000,33598,63000,48000,66000,80000,37000,35058,52000,61313,45000,74000,89000,13414,95000,15900,65000,36824,65287,52000,33000,71000,71000,20000,71000,29000,27000,19000,58000,42203,94000,52000,4900,70000,100000,65266,54569,51361,125000,66000,65047,22281,63210,31000,60000,32006,78000,9489,5000,60000,50000,53000,64000,43827,36431,35000,94832,88381,45194,66000,38578,40000,20632,73042,54257,93000,102000,28881,52195,20422,38000,92885,43000,70478,57000,32434,32000,59000,76467,100000,37086,54862,67758,56200,20229,62000,51500,69000,62476,60500,17978,123000,45296,77325,25858,120000,22000,11000,3900,106092,27000,11000,39753,39800,73000,55000,18351,45000,112200,29000,57309,53392,71000,93000,119000,42225,65000,27809,65100,51000,10000,54895,80768,12076,49000,42366,68000,122397,50534,55300,73095,51100,13436,76000,63141,74885,14000,56000,46000,51800,81000,17370,18456,59000,51000,29311,31000,80000,33000,71556,85000,91000,73187,127079,58816,63818,40000,77445,14000,85122,123000,61000,63714,53000,60000,33000,31000,79000,67914,58970,60000,35225,69496,62282,80000,43698,28052,29091,63000,91000,30000,24571,45000,24617,26927,87736,35299,51612,55300,65090,40000,38467,71904,87000,33000,22100,59589,44000,12000,66000,38009,35000,70000,86000,32000,15000,69918,39000,1011,85000,46663,27000,15000,10575,12500,52000,49818,90000,52207,49894,13024,128000,26023,42784,115000,30529,14814,58000,68128,63220,30000,27768,53000,87652,94873,56000,18678,30000,129000,59000,13000,74325,45000,57000,125943,80000,62000,27000,45000,105000,26000,30900,48000,112719,5000,16000,63000,28300,49000,12501,56628,105000,52126,38000,50000,50230,31000,79000,130000,115000,41500,54385,56361,22000,8000,28741,117236,30500,5000,42000,32773,19008,32542,94753,70000,68347,72000,75014,65000,55598,50000,44200,65000,49000,7200,43152,112000,23540,82160,57000,39335,62000,60000,35000,32345,47000,65537,36000,75000,38000,57818,45000,75055,65462,76206,25948,28500,28004,25000,40000,82543,30000,27800,33415,38000,41981,77084,71803,73314,69053,79782,90000,130000,65000,46496,76000,28002,63000,70000,66276,45000,67000,43068,40000,50436,21000,2000,14500,68782,35888,47000,93700,45000,55547,69000,88000,32400,79000,110000,45407,19000,19416,15500,12538,62588,44328,63000,100000,103000,50296,95500,72100,19119,30000,75600,53500,26101,7000,50000,30000,38151,116000,22000,60000,38000,51928,3000,67196,100000,65218,53886,50058,64000,41641,44345,45501,104000,50297,87000,120000,17000,100000,50979,41000,24000,44738,37298,42000,45000,102000,70000,27467,15305,70000,36778,25845,33858,12000,33709,32709,72000,31000,70000,61000,72000,49000,42939,32545,54000,76000,27000,120000,125000,37000,42000,60000,3000,44000,37000,50000,58581,25500,25000,53766,45271,68000,40000,73212,69000,61932,52000,70933,115195,62148,32000,58000,68598,84072,51264,21363,40000,35000,55000,43252,42000,69000,14000,70000,35314,38691,72717,82000,44000,27000,18500,45000,42000,90000,82329,80302,105000,60000,70000,45000,44000,25500,68000,61786,65000,77000,34000,59751,23312,30000,60146,44731,43316,92000,50000,69000,60280,48161,41000,6000,76000,15590,69681,70362,49112,25000,74000,15200,86300,26731,74000,83929,65000,20000,122086,35442,62542,26671,83500,46166,25200,35463,23249,40310,82069,10000,94000,45000,52818,61238,54253,71000,20000,75000,11827,51579,65178,25350,92000,45000,46000,79940,28851,63000,77283,38958,8900,38000,44887,85000,100000,26239,97000,28000,20364,64637,15731,56251,28000,20045,34004,21000,68001,31000,8950,43477,20000,47200,60000,111000,52000,26000,32425,54758,59833,30000,40496,45000,75000,34000,62000,123600,80102,55000,48200,90000,123900,13008,60500,53841,47183,10000,45000,3923,85000,6279,74500,42000,56510,88000,36631,34000,49000,65254,95000,83000,101065,15134,72000,120000,45000,54996,22874,58000,86000,69000,55001,28000,53213,44340,16900,57000,83165,24735,65175,60000,60357,77000,85301,50000,58000,39000,46190,83000,33000,27279,53900,63998,57932,25000,53000,43053,75000,89000,75578,46676,51349,34233,39626,82500,63000,77001,43000,61111,79000,43000,47000,34000,22060,63000,80000,13506,16000,31006,91200,43000,45000,28637,69870,84000,84143,77000,75000,76155,98000,48233,63000,34063,32576,28843,26000,39000,66000,38002,49000,52000,56500,20568,26000,56000,27509,36216,28888,120000,31396,79000,62000,120000,53000,124313,26725,45617,37000,109147,59000,28000,4700,72469,57539,42000,62489,51167,130000,63000,60000,123200,115692,87073,40901,36264,60000,20000,68400,71231,75000,1997,47300,61449,47910,62000,65060,82203,44000,53817,61591,86500,100000,87000,35000,6000,59327,81001,44612,42388,54000,83010,65405,36000,85000,35000,54000,70000,27001,41075,26000,55000,19000,15000,37000,38712,52400,23988,32283,52000,32000,39000,14149,103000,82000,34000,45180,2000,82321,7000,27000,31271,55000,24000,72351,115000,82000,20000,45560,57539,20004,54500,27886,66000,72202,70000,78233,120203,20575,39879,31056,50940,99362,54000,54268,94521,38932,60395,29000,58000,60913,65000,26000,19947,70816,54000,35000,50000,124652,80264,125600,49000,111000,33690,50000,38092,47774,65000,46000,16500,39000,6000,60000,97320,99807,46000,12000,13002,26000,68365,27833,51639,21000,90000,36255,58000,48997,31130,75668,12000,90000,17320,85000,130000,60328,34327,75000,86000,12000,57759,24300,66000,75915,107000,86000,3000,72495,33000,60000,80103,42100,4500,97000,51223,64000,56911,21290,14076,75180,92000,57266,64000,41000,45999,50000,70000,37540,44000,22500,17431,61566,61730,68000,29000,46500,52830,39867,58972,66000,52000,58000,58000,75000,41008,65000,19000,74000,33000,95000,34000,102865,52378,38000,60334,107000,2196,24000,44846,64035,45600,102001,47439,29000,51681,50000,42666,65000,18776,6714,40000,88539,65055,23000,60000,59350,19000,45560,118000,55000,60000,46810,62767,18553,53497,95000,100000,29000,87000,56838,100000,125000,17000,70000,50000,39800,60000,58000,110009,85000,84000,51000,68880,5500,40052,47293,79663,63000,45000,56501,58000,51602,74199,25000,70000,25000,22000,47020,8000,73000,36973,42083,61000,43628,60000,54000,27001,52000,80000,3300,35027,26568,59000,51000,56400,80000,72000,107000,100000,59998,105000,36000,24350,28973,8243,60000,100000,48689,45000,38163,43800,92000,14064,42366,76551,72672,45000,91696,66484,15456,55000,21112,98000,61297,80000,59000,60083,85450,88000,81828,18000,15000,34000,46000,48158,93000,71007,63067,70259,13000,130000,89401,67000,65329,72000,70000,82000,85000,83000,26000,27000,37746,63274,25000,45010,75348,90110,102013,36000,37578,46001,46559,48000,46000,15000,85000,32000,60818,35188,110000,61000,75000,55000,69966,42000,48000,35000,128000,78000,53080,66000,25000,36139,44000,50000,81177,26000,100000,75000,119859,55980,30000,49700,79000,65100,54161,28619,9000,42876,64000,20488,21000,119203,55987,72668,32000,3000,10400,35000,55101,57464,110000,17941,72000,16000,62020,85000,14223,41210,20000,18043,80000,21000,49000,104000,95000,32000,80000,122800,78000,69000,65000,23000,70000,56000,30000,35000,92250,40000,96848,42000,55886,12336,60000,83000,24000,32198,92247,121311,66296,41000,38681,43761,17400,61510,60000,35165,41617,45000,65000,68000,49000,16698,30965,56058,15356,54000,47000,21652,52000,35010,76662,89000,80000,39023,62000,78046,34400,64624,69192,55000,81000,36733,24310,43022,74000,47000,37460,130000,31576,66000,79000,47140,36610,93000,52195,20003,66314,76000,29000,30000,56526,38000,41000,53000,125000,90000,11000,21936,41000,47000,110000,45960,48000,68000,41000,69573,115000,47629,66624,80000,94868,76477,28000,28599,45348,80127,68000,75000,48000,41871,84931,15000,110000,5900,103653,64806,35000,40000,23876,67901,68865,71000,95000,25000,131000,65000,117777,65000,46897,36695,43000,54000,89000,7000,58470,37000,29000,52000,32807,86000,66500,94000,29000,107389,36100,16329,36000,41816,54680,14000,23977,30131,2530,39000,32257,46983,107000,19000,88000,84384,128000,71000,50000,16000,82000,80000,36000,17477,16725,48241,52431,68000,31446,25000,57000,76000,57078,47471,50000,62000,65807,81768,9952,24000,72921,59000,33000,36789,41000,71000,46650,3000,14799,68525,15000,29000,77407,118000,75000,69000,52553,58000,24000,65542,68008,22251,55000,19387,58000,24001,17000,28500,66000,22000,44383,45000,58000,69000,60993,67000,51134,55000,25082,68350,50000,97000,56238,72618,62005,61250,28469,21488,67590,52000,100000,60048,48000,47000,100000,62601,80010,26493,96000,45700,13000,38000,8018,71000,80000,87143,25000,2000,45239,101999,74219,25000,109606,36000,41810,93321,81000,25717,37000,56380,8000,14589,65088,24864,64831,38001,77000,27000,39000,131000,43000,68000,45165,120000,86091,71499,50000,66000,45000,69189,40206,36723,57500,43912,52000,60952,87192,58000,59500,16650,34696,42243,57824,110000,63000,72000,63455,17151,31001,42109,55000,46000,30852,65000,65000,72000,29000,32000,29875,32539,83090,62679,93000,44000,78400,71300,18000,24013,99100,62000,14000,44811,44000,94989,58133,61000,27000,18050,42000,86000,42150,30158,47000,39000,32125,58829,67559,55000,30000,28000,31826,64000,100009,17201,74345,58134,30566,55231,67774,50319,45000,43627,45000,10500,21789,21134,90000,51553,31000,67422,60519,34000,68434,17000,43686,22000,79225,63000,61922,85000,26192,65000,44999,81308,35000,65349,80000,61000,31817,41000,82606,52000,50318,50000,72000,63776,28133,45000,55697,62000,48000,90246,80500,119000,28541,45500,41000,58000,99000,31200,85000,60924,45000,44000,30534,46399,42000,67000,58000,27000,39566,14980,18491,90000,118211,63316,42000,25648,67612,33000,20000,118218,99000,22700,28000,62000,107023,71082,60000,21701,56000,32450,12500,20483,45800,35441,86398,89000,68375,52000,39000,68000,71000,72003,65850,53920,58000,4000,58000,29832,71156,64687,54000,75000,39208,41000,38622,18000,52000,45000,48656,79000,88000,92000,9000,50121,79000,46000,100000,41000,25000,71899,7100,38171,70359,26969,56500,40000,41000,53105,23000,80999,82000,68557,34000,77000,48000,28232,110000,120000,49000,22000,14925,75000,23000,57000,76718,110000,126000,73000,63423,62132,51000,75000,55410,41000,45000,53322,48000,72000,50266,21800,45000,62000,41681,69313,49000,40471,60000,1001,38000,66000,33901,57000,60000,85000,56002,8554,62322,37929,5400,60000,55730,62000,14576,17000,28000,58200,53000,12278,17665,55893,60586,13500,30000,12000,65000,38000,25000,100000,13710,100000,17000,89000,100173,97000,40190,29647,43639,37333,48407,25000,72400,18000,65167,25418,38995,60000,72000,31075,4311,21000,54000,50000,13000,74000,75000,25000,52000,20000,32663,76777,100303,43993,72118,83000,7523,34670,30000,17000,59261,65210,19000,50000,47000,75000,54534,13000,48808,63001,64771,34634,69242,33292,55000,1000,80000,65003,16573,53000,50129,63716,11000,115000,63265,20000,79000,41000,26323,76000,69972,69000,65000,29512,51000,58003,56500,29063,46811,31897,52100,73000,31423,75180,75000,15000,12000,32000,44504,66000,39437,36931,17800,71346,45000,85155,48823,37000,92000,36000,24569,95000,25811,65000,100400,76414,82103,98000,45252,10300,42024,51236,52000,42894,68000,69000,10000,16000,46992,58000,50000,39010,26946,28700,60000,38999,39000,7784,45710,42000,75995,57000,85350,82725,19000,13900,108000,36000,62188,58397,85000,30000,29907,46000,65000,22000,99024,34952,13913,71000,97000,21000,116000,110438,66507,54650,32000,75378,82697,26212,23500,56127,26000,26000,42000,130000,114703,97439,40000,81609,28000,37500,37000,83000,79012,27395,35362,117000,23000,59508,69000,58000,88511,66000,65000,30676,76000,23627,52827,64465,14000,26000,78203,27000,31919,47392,17362,49716,48000,46000,79000,57000,29754,50123,57184,75000,26000,22129,127887,92000,60634,90000,59000,59293,80753,40000,103000,72389,48000,41000,26000,30000,74624,47877,35000,52123,90000,1400,122000,21110,78000,72000,48000,43486,34000,37944,30000,64005,62000,105000,59885,63991,72000,34895,97003,45000,45000,100000,70000,37023,81000,20789,68310,47250,47000,128000,17702,34987,37000,38271,32510,88000,116000,75319,28000,16500,75637,32854,6568,30000,17804,69768,62404,97000,55687,17000,34232,80000,31045,58000,35480,62287,46162,9200,55339,55476,68553,67376,42000,28069,93144,24300,47883,12467,56683,38000,35000,80000,125000,123000,70000,87982,40714,83000,86000,60002,60000,84677,23000,81424,36400,70000,40000,600,65320,79000,5000,6028,86000,59967,43127,65727,70000,39861,16485,77332,17489,125000,35129,22982,54500,16235,73641,59572,112827,118000,60000,75059,3000,78000,47000,42000,6820,55176,39854,24000,55000,45840,125000,52951,49000,52000,120005,33000,126000,66700,122000,29000,42315,22001,84580,75000,85000,24296,40000,64514,35000,41000,60123,53000,9000,53497,68000,65000,45155,20026,60000,15976,30523,26300,66000,70000,46000,28000,46000,33000,27718,58000,33150,77000,70000,97000,75300,69918,4721,39163,80000,66000,36154,34000,60000,32000,79985,37600,31965,70749,38000,41534,54455,42000,52073,40175,16503,15029,26200,76362,18700,67585,57000,22321,95150,36428,73500,47234,62364,89000,58653,30000,64042,120000,90000,30733,43600,71473,39000,84045,57004,75464,118683,42000,12800,80000,76126,21000,85000,27000,45794,57352,41467,42000,62549,67048,11732,37000,30000,53000,60000,65000,51000,92000,31000,43917,46707,84000,55662,51000,24398,78000,40315,83000,58151,30519,20712,48000,85000,32000,52000,58307,30000,40000,36000,58817,55000,39000,6500,35000,49900,99500,33249,52000,45000,22000,7858,112000,41082,72000,84912,70000,21000,27000,29000,48425,19000,64000,100000,69140,21214,28000,29085,30000,32910,30000,35102,22831,74911,21000,37160,41000,37294,56927,21954,50000,78212,64500,51000,52000,120000,65792,30000,54387,1617,82000,20000,98000,57000,56549,78500,55036,55000,90000,17810,42408,81000,52000,35000,60000,27000,55975,115000,40337,50000,28147,20000,11000,63000,36967,73053,16392,79000,67000,48600,70000,84000,49106,35000,51240,37000,32587,21248,47200,40000,4000,23700,57000,37000,70000,92469,55000,20000,42000,28000,93000,23000,36000,52000,59245,31000,83000,81500,51000,9900,94000,27100,12000,29000,65000,50794,59000,72000,15234,44000,125000,100000,34686,98000,90000,81000,55000,52910,100000,18000,50000,33000,30000,8000,58646,21000,57026,42000,26741,85000,78000,29091,37323,55595,49900,52500,5700,53340,57000,59525,58000,73000,33554,106000,27000,1000,119000,75000,64000,63738,16000,28000,91000,25000,65630,48094,90456,95000,79000,96000,91000,109703,110000,35000,47722,25000,8000,65000,1048,42000,55000,72000,17773,65000,65000,53280,34005,14618,65771,78000,105545,25000,80561,6000,39000,55001,63720,70000,100000,15386,102486,58629,86000,68238,42036,55619,60000,30000,31150,70000,70290,10000,68010,91903,38000,67600,66800,37208,102002,68000,40000,33500,33746,53000,45004,70602,27365,100000,55000,46000,47000],\"y0\":\" \",\"yaxis\":\"y\",\"type\":\"box\"}],                        {\"template\":{\"data\":{\"histogram2dcontour\":[{\"type\":\"histogram2dcontour\",\"colorbar\":{\"outlinewidth\":0,\"ticks\":\"\"},\"colorscale\":[[0.0,\"#0d0887\"],[0.1111111111111111,\"#46039f\"],[0.2222222222222222,\"#7201a8\"],[0.3333333333333333,\"#9c179e\"],[0.4444444444444444,\"#bd3786\"],[0.5555555555555556,\"#d8576b\"],[0.6666666666666666,\"#ed7953\"],[0.7777777777777778,\"#fb9f3a\"],[0.8888888888888888,\"#fdca26\"],[1.0,\"#f0f921\"]]}],\"choropleth\":[{\"type\":\"choropleth\",\"colorbar\":{\"outlinewidth\":0,\"ticks\":\"\"}}],\"histogram2d\":[{\"type\":\"histogram2d\",\"colorbar\":{\"outlinewidth\":0,\"ticks\":\"\"},\"colorscale\":[[0.0,\"#0d0887\"],[0.1111111111111111,\"#46039f\"],[0.2222222222222222,\"#7201a8\"],[0.3333333333333333,\"#9c179e\"],[0.4444444444444444,\"#bd3786\"],[0.5555555555555556,\"#d8576b\"],[0.6666666666666666,\"#ed7953\"],[0.7777777777777778,\"#fb9f3a\"],[0.8888888888888888,\"#fdca26\"],[1.0,\"#f0f921\"]]}],\"heatmap\":[{\"type\":\"heatmap\",\"colorbar\":{\"outlinewidth\":0,\"ticks\":\"\"},\"colorscale\":[[0.0,\"#0d0887\"],[0.1111111111111111,\"#46039f\"],[0.2222222222222222,\"#7201a8\"],[0.3333333333333333,\"#9c179e\"],[0.4444444444444444,\"#bd3786\"],[0.5555555555555556,\"#d8576b\"],[0.6666666666666666,\"#ed7953\"],[0.7777777777777778,\"#fb9f3a\"],[0.8888888888888888,\"#fdca26\"],[1.0,\"#f0f921\"]]}],\"heatmapgl\":[{\"type\":\"heatmapgl\",\"colorbar\":{\"outlinewidth\":0,\"ticks\":\"\"},\"colorscale\":[[0.0,\"#0d0887\"],[0.1111111111111111,\"#46039f\"],[0.2222222222222222,\"#7201a8\"],[0.3333333333333333,\"#9c179e\"],[0.4444444444444444,\"#bd3786\"],[0.5555555555555556,\"#d8576b\"],[0.6666666666666666,\"#ed7953\"],[0.7777777777777778,\"#fb9f3a\"],[0.8888888888888888,\"#fdca26\"],[1.0,\"#f0f921\"]]}],\"contourcarpet\":[{\"type\":\"contourcarpet\",\"colorbar\":{\"outlinewidth\":0,\"ticks\":\"\"}}],\"contour\":[{\"type\":\"contour\",\"colorbar\":{\"outlinewidth\":0,\"ticks\":\"\"},\"colorscale\":[[0.0,\"#0d0887\"],[0.1111111111111111,\"#46039f\"],[0.2222222222222222,\"#7201a8\"],[0.3333333333333333,\"#9c179e\"],[0.4444444444444444,\"#bd3786\"],[0.5555555555555556,\"#d8576b\"],[0.6666666666666666,\"#ed7953\"],[0.7777777777777778,\"#fb9f3a\"],[0.8888888888888888,\"#fdca26\"],[1.0,\"#f0f921\"]]}],\"surface\":[{\"type\":\"surface\",\"colorbar\":{\"outlinewidth\":0,\"ticks\":\"\"},\"colorscale\":[[0.0,\"#0d0887\"],[0.1111111111111111,\"#46039f\"],[0.2222222222222222,\"#7201a8\"],[0.3333333333333333,\"#9c179e\"],[0.4444444444444444,\"#bd3786\"],[0.5555555555555556,\"#d8576b\"],[0.6666666666666666,\"#ed7953\"],[0.7777777777777778,\"#fb9f3a\"],[0.8888888888888888,\"#fdca26\"],[1.0,\"#f0f921\"]]}],\"mesh3d\":[{\"type\":\"mesh3d\",\"colorbar\":{\"outlinewidth\":0,\"ticks\":\"\"}}],\"scatter\":[{\"fillpattern\":{\"fillmode\":\"overlay\",\"size\":10,\"solidity\":0.2},\"type\":\"scatter\"}],\"parcoords\":[{\"type\":\"parcoords\",\"line\":{\"colorbar\":{\"outlinewidth\":0,\"ticks\":\"\"}}}],\"scatterpolargl\":[{\"type\":\"scatterpolargl\",\"marker\":{\"colorbar\":{\"outlinewidth\":0,\"ticks\":\"\"}}}],\"bar\":[{\"error_x\":{\"color\":\"#2a3f5f\"},\"error_y\":{\"color\":\"#2a3f5f\"},\"marker\":{\"line\":{\"color\":\"#E5ECF6\",\"width\":0.5},\"pattern\":{\"fillmode\":\"overlay\",\"size\":10,\"solidity\":0.2}},\"type\":\"bar\"}],\"scattergeo\":[{\"type\":\"scattergeo\",\"marker\":{\"colorbar\":{\"outlinewidth\":0,\"ticks\":\"\"}}}],\"scatterpolar\":[{\"type\":\"scatterpolar\",\"marker\":{\"colorbar\":{\"outlinewidth\":0,\"ticks\":\"\"}}}],\"histogram\":[{\"marker\":{\"pattern\":{\"fillmode\":\"overlay\",\"size\":10,\"solidity\":0.2}},\"type\":\"histogram\"}],\"scattergl\":[{\"type\":\"scattergl\",\"marker\":{\"colorbar\":{\"outlinewidth\":0,\"ticks\":\"\"}}}],\"scatter3d\":[{\"type\":\"scatter3d\",\"line\":{\"colorbar\":{\"outlinewidth\":0,\"ticks\":\"\"}},\"marker\":{\"colorbar\":{\"outlinewidth\":0,\"ticks\":\"\"}}}],\"scattermapbox\":[{\"type\":\"scattermapbox\",\"marker\":{\"colorbar\":{\"outlinewidth\":0,\"ticks\":\"\"}}}],\"scatterternary\":[{\"type\":\"scatterternary\",\"marker\":{\"colorbar\":{\"outlinewidth\":0,\"ticks\":\"\"}}}],\"scattercarpet\":[{\"type\":\"scattercarpet\",\"marker\":{\"colorbar\":{\"outlinewidth\":0,\"ticks\":\"\"}}}],\"carpet\":[{\"aaxis\":{\"endlinecolor\":\"#2a3f5f\",\"gridcolor\":\"white\",\"linecolor\":\"white\",\"minorgridcolor\":\"white\",\"startlinecolor\":\"#2a3f5f\"},\"baxis\":{\"endlinecolor\":\"#2a3f5f\",\"gridcolor\":\"white\",\"linecolor\":\"white\",\"minorgridcolor\":\"white\",\"startlinecolor\":\"#2a3f5f\"},\"type\":\"carpet\"}],\"table\":[{\"cells\":{\"fill\":{\"color\":\"#EBF0F8\"},\"line\":{\"color\":\"white\"}},\"header\":{\"fill\":{\"color\":\"#C8D4E3\"},\"line\":{\"color\":\"white\"}},\"type\":\"table\"}],\"barpolar\":[{\"marker\":{\"line\":{\"color\":\"#E5ECF6\",\"width\":0.5},\"pattern\":{\"fillmode\":\"overlay\",\"size\":10,\"solidity\":0.2}},\"type\":\"barpolar\"}],\"pie\":[{\"automargin\":true,\"type\":\"pie\"}]},\"layout\":{\"autotypenumbers\":\"strict\",\"colorway\":[\"#636efa\",\"#EF553B\",\"#00cc96\",\"#ab63fa\",\"#FFA15A\",\"#19d3f3\",\"#FF6692\",\"#B6E880\",\"#FF97FF\",\"#FECB52\"],\"font\":{\"color\":\"#2a3f5f\"},\"hovermode\":\"closest\",\"hoverlabel\":{\"align\":\"left\"},\"paper_bgcolor\":\"white\",\"plot_bgcolor\":\"#E5ECF6\",\"polar\":{\"bgcolor\":\"#E5ECF6\",\"angularaxis\":{\"gridcolor\":\"white\",\"linecolor\":\"white\",\"ticks\":\"\"},\"radialaxis\":{\"gridcolor\":\"white\",\"linecolor\":\"white\",\"ticks\":\"\"}},\"ternary\":{\"bgcolor\":\"#E5ECF6\",\"aaxis\":{\"gridcolor\":\"white\",\"linecolor\":\"white\",\"ticks\":\"\"},\"baxis\":{\"gridcolor\":\"white\",\"linecolor\":\"white\",\"ticks\":\"\"},\"caxis\":{\"gridcolor\":\"white\",\"linecolor\":\"white\",\"ticks\":\"\"}},\"coloraxis\":{\"colorbar\":{\"outlinewidth\":0,\"ticks\":\"\"}},\"colorscale\":{\"sequential\":[[0.0,\"#0d0887\"],[0.1111111111111111,\"#46039f\"],[0.2222222222222222,\"#7201a8\"],[0.3333333333333333,\"#9c179e\"],[0.4444444444444444,\"#bd3786\"],[0.5555555555555556,\"#d8576b\"],[0.6666666666666666,\"#ed7953\"],[0.7777777777777778,\"#fb9f3a\"],[0.8888888888888888,\"#fdca26\"],[1.0,\"#f0f921\"]],\"sequentialminus\":[[0.0,\"#0d0887\"],[0.1111111111111111,\"#46039f\"],[0.2222222222222222,\"#7201a8\"],[0.3333333333333333,\"#9c179e\"],[0.4444444444444444,\"#bd3786\"],[0.5555555555555556,\"#d8576b\"],[0.6666666666666666,\"#ed7953\"],[0.7777777777777778,\"#fb9f3a\"],[0.8888888888888888,\"#fdca26\"],[1.0,\"#f0f921\"]],\"diverging\":[[0,\"#8e0152\"],[0.1,\"#c51b7d\"],[0.2,\"#de77ae\"],[0.3,\"#f1b6da\"],[0.4,\"#fde0ef\"],[0.5,\"#f7f7f7\"],[0.6,\"#e6f5d0\"],[0.7,\"#b8e186\"],[0.8,\"#7fbc41\"],[0.9,\"#4d9221\"],[1,\"#276419\"]]},\"xaxis\":{\"gridcolor\":\"white\",\"linecolor\":\"white\",\"ticks\":\"\",\"title\":{\"standoff\":15},\"zerolinecolor\":\"white\",\"automargin\":true,\"zerolinewidth\":2},\"yaxis\":{\"gridcolor\":\"white\",\"linecolor\":\"white\",\"ticks\":\"\",\"title\":{\"standoff\":15},\"zerolinecolor\":\"white\",\"automargin\":true,\"zerolinewidth\":2},\"scene\":{\"xaxis\":{\"backgroundcolor\":\"#E5ECF6\",\"gridcolor\":\"white\",\"linecolor\":\"white\",\"showbackground\":true,\"ticks\":\"\",\"zerolinecolor\":\"white\",\"gridwidth\":2},\"yaxis\":{\"backgroundcolor\":\"#E5ECF6\",\"gridcolor\":\"white\",\"linecolor\":\"white\",\"showbackground\":true,\"ticks\":\"\",\"zerolinecolor\":\"white\",\"gridwidth\":2},\"zaxis\":{\"backgroundcolor\":\"#E5ECF6\",\"gridcolor\":\"white\",\"linecolor\":\"white\",\"showbackground\":true,\"ticks\":\"\",\"zerolinecolor\":\"white\",\"gridwidth\":2}},\"shapedefaults\":{\"line\":{\"color\":\"#2a3f5f\"}},\"annotationdefaults\":{\"arrowcolor\":\"#2a3f5f\",\"arrowhead\":0,\"arrowwidth\":1},\"geo\":{\"bgcolor\":\"white\",\"landcolor\":\"#E5ECF6\",\"subunitcolor\":\"white\",\"showland\":true,\"showlakes\":true,\"lakecolor\":\"white\"},\"title\":{\"x\":0.05},\"mapbox\":{\"style\":\"light\"}}},\"xaxis\":{\"anchor\":\"y\",\"domain\":[0.0,1.0]},\"yaxis\":{\"anchor\":\"x\",\"domain\":[0.0,1.0],\"title\":{\"text\":\"Kilometers_Driven\"}},\"legend\":{\"tracegroupgap\":0},\"margin\":{\"t\":60},\"boxmode\":\"group\"},                        {\"responsive\": true}                    ).then(function(){\n",
              "                            \n",
              "var gd = document.getElementById('f2f7cf0b-e0b8-4613-9237-1eba304810cc');\n",
              "var x = new MutationObserver(function (mutations, observer) {{\n",
              "        var display = window.getComputedStyle(gd).display;\n",
              "        if (!display || display === 'none') {{\n",
              "            console.log([gd, 'removed!']);\n",
              "            Plotly.purge(gd);\n",
              "            observer.disconnect();\n",
              "        }}\n",
              "}});\n",
              "\n",
              "// Listen for the removal of the full notebook cells\n",
              "var notebookContainer = gd.closest('#notebook-container');\n",
              "if (notebookContainer) {{\n",
              "    x.observe(notebookContainer, {childList: true});\n",
              "}}\n",
              "\n",
              "// Listen for the clearing of the current output cell\n",
              "var outputEl = gd.closest('.output');\n",
              "if (outputEl) {{\n",
              "    x.observe(outputEl, {childList: true});\n",
              "}}\n",
              "\n",
              "                        })                };                            </script>        </div>\n",
              "</body>\n",
              "</html>"
            ]
          },
          "metadata": {}
        }
      ]
    },
    {
      "cell_type": "code",
      "source": [
        "df.shape"
      ],
      "metadata": {
        "colab": {
          "base_uri": "https://localhost:8080/"
        },
        "id": "3WlcoJGM1ufh",
        "outputId": "08dbfde1-24f8-4b23-8cb2-def41eebbc50"
      },
      "execution_count": 65,
      "outputs": [
        {
          "output_type": "execute_result",
          "data": {
            "text/plain": [
              "(5817, 13)"
            ]
          },
          "metadata": {},
          "execution_count": 65
        }
      ]
    },
    {
      "cell_type": "markdown",
      "source": [
        "### Mileage outlier"
      ],
      "metadata": {
        "id": "oNTFXpx52LcG"
      }
    },
    {
      "cell_type": "code",
      "source": [
        "df[df['Mileage'] <= 5]"
      ],
      "metadata": {
        "colab": {
          "base_uri": "https://localhost:8080/",
          "height": 458
        },
        "id": "v4-WiPcg2VG_",
        "outputId": "536036af-b818-4a40-a056-a9567cde6011"
      },
      "execution_count": 13,
      "outputs": [
        {
          "output_type": "execute_result",
          "data": {
            "text/plain": [
              "                                          Name    Location  Year  \\\n",
              "14              Land Rover Freelander 2 TD4 SE        Pune  2012   \n",
              "67    Mercedes-Benz C-Class Progressive C 220d  Coimbatore  2019   \n",
              "79                      Hyundai Santro Xing XL   Hyderabad  2005   \n",
              "194                         Honda City 1.5 GXI   Ahmedabad  2007   \n",
              "229                           Ford Figo Diesel   Bangalore  2015   \n",
              "...                                        ...         ...   ...   \n",
              "5529               Hyundai Santro LP - Euro II     Chennai  2005   \n",
              "5875  Mercedes-Benz C-Class Progressive C 220d   Ahmedabad  2019   \n",
              "5943                   Mahindra Jeep MM 540 DP     Chennai  2002   \n",
              "5972                    Hyundai Santro Xing GL      Mumbai  2008   \n",
              "6011                   Skoda Superb 3.6 V6 FSI   Hyderabad  2009   \n",
              "\n",
              "      Kilometers_Driven Fuel_Type Transmission Owner_Type  Mileage  Engine  \\\n",
              "14                85000    Diesel    Automatic     Second      0.0  2179.0   \n",
              "67                15369    Diesel    Automatic      First      0.0  1950.0   \n",
              "79                87591    Petrol       Manual      First      0.0  1086.0   \n",
              "194               60006    Petrol       Manual      First      0.0     NaN   \n",
              "229               70436    Diesel       Manual      First      0.0  1498.0   \n",
              "...                 ...       ...          ...        ...      ...     ...   \n",
              "5529             105000    Petrol       Manual      First      0.0   999.0   \n",
              "5875               4000    Diesel    Automatic      First      0.0  1950.0   \n",
              "5943              75000    Diesel       Manual      First      0.0  2112.0   \n",
              "5972              65000    Petrol       Manual     Second      0.0  1086.0   \n",
              "6011              53000    Petrol    Automatic      First      0.0  3597.0   \n",
              "\n",
              "      Power  Seats   New_Price  Price  \n",
              "14    115.0    5.0         NaN  17.50  \n",
              "67    194.0    5.0  49.14 Lakh  35.67  \n",
              "79      NaN    5.0         NaN   1.30  \n",
              "194     NaN    NaN         NaN   2.95  \n",
              "229    99.0    NaN         NaN   3.60  \n",
              "...     ...    ...         ...    ...  \n",
              "5529    NaN    5.0         NaN   1.75  \n",
              "5875  194.0    5.0  49.14 Lakh  35.00  \n",
              "5943    NaN    6.0         NaN   1.70  \n",
              "5972   62.0    5.0         NaN   1.39  \n",
              "6011  262.0    5.0         NaN   4.75  \n",
              "\n",
              "[63 rows x 13 columns]"
            ],
            "text/html": [
              "\n",
              "  <div id=\"df-25a4c980-c1be-4c1a-8bdd-670bb9e4a417\" class=\"colab-df-container\">\n",
              "    <div>\n",
              "<style scoped>\n",
              "    .dataframe tbody tr th:only-of-type {\n",
              "        vertical-align: middle;\n",
              "    }\n",
              "\n",
              "    .dataframe tbody tr th {\n",
              "        vertical-align: top;\n",
              "    }\n",
              "\n",
              "    .dataframe thead th {\n",
              "        text-align: right;\n",
              "    }\n",
              "</style>\n",
              "<table border=\"1\" class=\"dataframe\">\n",
              "  <thead>\n",
              "    <tr style=\"text-align: right;\">\n",
              "      <th></th>\n",
              "      <th>Name</th>\n",
              "      <th>Location</th>\n",
              "      <th>Year</th>\n",
              "      <th>Kilometers_Driven</th>\n",
              "      <th>Fuel_Type</th>\n",
              "      <th>Transmission</th>\n",
              "      <th>Owner_Type</th>\n",
              "      <th>Mileage</th>\n",
              "      <th>Engine</th>\n",
              "      <th>Power</th>\n",
              "      <th>Seats</th>\n",
              "      <th>New_Price</th>\n",
              "      <th>Price</th>\n",
              "    </tr>\n",
              "  </thead>\n",
              "  <tbody>\n",
              "    <tr>\n",
              "      <th>14</th>\n",
              "      <td>Land Rover Freelander 2 TD4 SE</td>\n",
              "      <td>Pune</td>\n",
              "      <td>2012</td>\n",
              "      <td>85000</td>\n",
              "      <td>Diesel</td>\n",
              "      <td>Automatic</td>\n",
              "      <td>Second</td>\n",
              "      <td>0.0</td>\n",
              "      <td>2179.0</td>\n",
              "      <td>115.0</td>\n",
              "      <td>5.0</td>\n",
              "      <td>NaN</td>\n",
              "      <td>17.50</td>\n",
              "    </tr>\n",
              "    <tr>\n",
              "      <th>67</th>\n",
              "      <td>Mercedes-Benz C-Class Progressive C 220d</td>\n",
              "      <td>Coimbatore</td>\n",
              "      <td>2019</td>\n",
              "      <td>15369</td>\n",
              "      <td>Diesel</td>\n",
              "      <td>Automatic</td>\n",
              "      <td>First</td>\n",
              "      <td>0.0</td>\n",
              "      <td>1950.0</td>\n",
              "      <td>194.0</td>\n",
              "      <td>5.0</td>\n",
              "      <td>49.14 Lakh</td>\n",
              "      <td>35.67</td>\n",
              "    </tr>\n",
              "    <tr>\n",
              "      <th>79</th>\n",
              "      <td>Hyundai Santro Xing XL</td>\n",
              "      <td>Hyderabad</td>\n",
              "      <td>2005</td>\n",
              "      <td>87591</td>\n",
              "      <td>Petrol</td>\n",
              "      <td>Manual</td>\n",
              "      <td>First</td>\n",
              "      <td>0.0</td>\n",
              "      <td>1086.0</td>\n",
              "      <td>NaN</td>\n",
              "      <td>5.0</td>\n",
              "      <td>NaN</td>\n",
              "      <td>1.30</td>\n",
              "    </tr>\n",
              "    <tr>\n",
              "      <th>194</th>\n",
              "      <td>Honda City 1.5 GXI</td>\n",
              "      <td>Ahmedabad</td>\n",
              "      <td>2007</td>\n",
              "      <td>60006</td>\n",
              "      <td>Petrol</td>\n",
              "      <td>Manual</td>\n",
              "      <td>First</td>\n",
              "      <td>0.0</td>\n",
              "      <td>NaN</td>\n",
              "      <td>NaN</td>\n",
              "      <td>NaN</td>\n",
              "      <td>NaN</td>\n",
              "      <td>2.95</td>\n",
              "    </tr>\n",
              "    <tr>\n",
              "      <th>229</th>\n",
              "      <td>Ford Figo Diesel</td>\n",
              "      <td>Bangalore</td>\n",
              "      <td>2015</td>\n",
              "      <td>70436</td>\n",
              "      <td>Diesel</td>\n",
              "      <td>Manual</td>\n",
              "      <td>First</td>\n",
              "      <td>0.0</td>\n",
              "      <td>1498.0</td>\n",
              "      <td>99.0</td>\n",
              "      <td>NaN</td>\n",
              "      <td>NaN</td>\n",
              "      <td>3.60</td>\n",
              "    </tr>\n",
              "    <tr>\n",
              "      <th>...</th>\n",
              "      <td>...</td>\n",
              "      <td>...</td>\n",
              "      <td>...</td>\n",
              "      <td>...</td>\n",
              "      <td>...</td>\n",
              "      <td>...</td>\n",
              "      <td>...</td>\n",
              "      <td>...</td>\n",
              "      <td>...</td>\n",
              "      <td>...</td>\n",
              "      <td>...</td>\n",
              "      <td>...</td>\n",
              "      <td>...</td>\n",
              "    </tr>\n",
              "    <tr>\n",
              "      <th>5529</th>\n",
              "      <td>Hyundai Santro LP - Euro II</td>\n",
              "      <td>Chennai</td>\n",
              "      <td>2005</td>\n",
              "      <td>105000</td>\n",
              "      <td>Petrol</td>\n",
              "      <td>Manual</td>\n",
              "      <td>First</td>\n",
              "      <td>0.0</td>\n",
              "      <td>999.0</td>\n",
              "      <td>NaN</td>\n",
              "      <td>5.0</td>\n",
              "      <td>NaN</td>\n",
              "      <td>1.75</td>\n",
              "    </tr>\n",
              "    <tr>\n",
              "      <th>5875</th>\n",
              "      <td>Mercedes-Benz C-Class Progressive C 220d</td>\n",
              "      <td>Ahmedabad</td>\n",
              "      <td>2019</td>\n",
              "      <td>4000</td>\n",
              "      <td>Diesel</td>\n",
              "      <td>Automatic</td>\n",
              "      <td>First</td>\n",
              "      <td>0.0</td>\n",
              "      <td>1950.0</td>\n",
              "      <td>194.0</td>\n",
              "      <td>5.0</td>\n",
              "      <td>49.14 Lakh</td>\n",
              "      <td>35.00</td>\n",
              "    </tr>\n",
              "    <tr>\n",
              "      <th>5943</th>\n",
              "      <td>Mahindra Jeep MM 540 DP</td>\n",
              "      <td>Chennai</td>\n",
              "      <td>2002</td>\n",
              "      <td>75000</td>\n",
              "      <td>Diesel</td>\n",
              "      <td>Manual</td>\n",
              "      <td>First</td>\n",
              "      <td>0.0</td>\n",
              "      <td>2112.0</td>\n",
              "      <td>NaN</td>\n",
              "      <td>6.0</td>\n",
              "      <td>NaN</td>\n",
              "      <td>1.70</td>\n",
              "    </tr>\n",
              "    <tr>\n",
              "      <th>5972</th>\n",
              "      <td>Hyundai Santro Xing GL</td>\n",
              "      <td>Mumbai</td>\n",
              "      <td>2008</td>\n",
              "      <td>65000</td>\n",
              "      <td>Petrol</td>\n",
              "      <td>Manual</td>\n",
              "      <td>Second</td>\n",
              "      <td>0.0</td>\n",
              "      <td>1086.0</td>\n",
              "      <td>62.0</td>\n",
              "      <td>5.0</td>\n",
              "      <td>NaN</td>\n",
              "      <td>1.39</td>\n",
              "    </tr>\n",
              "    <tr>\n",
              "      <th>6011</th>\n",
              "      <td>Skoda Superb 3.6 V6 FSI</td>\n",
              "      <td>Hyderabad</td>\n",
              "      <td>2009</td>\n",
              "      <td>53000</td>\n",
              "      <td>Petrol</td>\n",
              "      <td>Automatic</td>\n",
              "      <td>First</td>\n",
              "      <td>0.0</td>\n",
              "      <td>3597.0</td>\n",
              "      <td>262.0</td>\n",
              "      <td>5.0</td>\n",
              "      <td>NaN</td>\n",
              "      <td>4.75</td>\n",
              "    </tr>\n",
              "  </tbody>\n",
              "</table>\n",
              "<p>63 rows × 13 columns</p>\n",
              "</div>\n",
              "    <div class=\"colab-df-buttons\">\n",
              "\n",
              "  <div class=\"colab-df-container\">\n",
              "    <button class=\"colab-df-convert\" onclick=\"convertToInteractive('df-25a4c980-c1be-4c1a-8bdd-670bb9e4a417')\"\n",
              "            title=\"Convert this dataframe to an interactive table.\"\n",
              "            style=\"display:none;\">\n",
              "\n",
              "  <svg xmlns=\"http://www.w3.org/2000/svg\" height=\"24px\" viewBox=\"0 -960 960 960\">\n",
              "    <path d=\"M120-120v-720h720v720H120Zm60-500h600v-160H180v160Zm220 220h160v-160H400v160Zm0 220h160v-160H400v160ZM180-400h160v-160H180v160Zm440 0h160v-160H620v160ZM180-180h160v-160H180v160Zm440 0h160v-160H620v160Z\"/>\n",
              "  </svg>\n",
              "    </button>\n",
              "\n",
              "  <style>\n",
              "    .colab-df-container {\n",
              "      display:flex;\n",
              "      gap: 12px;\n",
              "    }\n",
              "\n",
              "    .colab-df-convert {\n",
              "      background-color: #E8F0FE;\n",
              "      border: none;\n",
              "      border-radius: 50%;\n",
              "      cursor: pointer;\n",
              "      display: none;\n",
              "      fill: #1967D2;\n",
              "      height: 32px;\n",
              "      padding: 0 0 0 0;\n",
              "      width: 32px;\n",
              "    }\n",
              "\n",
              "    .colab-df-convert:hover {\n",
              "      background-color: #E2EBFA;\n",
              "      box-shadow: 0px 1px 2px rgba(60, 64, 67, 0.3), 0px 1px 3px 1px rgba(60, 64, 67, 0.15);\n",
              "      fill: #174EA6;\n",
              "    }\n",
              "\n",
              "    .colab-df-buttons div {\n",
              "      margin-bottom: 4px;\n",
              "    }\n",
              "\n",
              "    [theme=dark] .colab-df-convert {\n",
              "      background-color: #3B4455;\n",
              "      fill: #D2E3FC;\n",
              "    }\n",
              "\n",
              "    [theme=dark] .colab-df-convert:hover {\n",
              "      background-color: #434B5C;\n",
              "      box-shadow: 0px 1px 3px 1px rgba(0, 0, 0, 0.15);\n",
              "      filter: drop-shadow(0px 1px 2px rgba(0, 0, 0, 0.3));\n",
              "      fill: #FFFFFF;\n",
              "    }\n",
              "  </style>\n",
              "\n",
              "    <script>\n",
              "      const buttonEl =\n",
              "        document.querySelector('#df-25a4c980-c1be-4c1a-8bdd-670bb9e4a417 button.colab-df-convert');\n",
              "      buttonEl.style.display =\n",
              "        google.colab.kernel.accessAllowed ? 'block' : 'none';\n",
              "\n",
              "      async function convertToInteractive(key) {\n",
              "        const element = document.querySelector('#df-25a4c980-c1be-4c1a-8bdd-670bb9e4a417');\n",
              "        const dataTable =\n",
              "          await google.colab.kernel.invokeFunction('convertToInteractive',\n",
              "                                                    [key], {});\n",
              "        if (!dataTable) return;\n",
              "\n",
              "        const docLinkHtml = 'Like what you see? Visit the ' +\n",
              "          '<a target=\"_blank\" href=https://colab.research.google.com/notebooks/data_table.ipynb>data table notebook</a>'\n",
              "          + ' to learn more about interactive tables.';\n",
              "        element.innerHTML = '';\n",
              "        dataTable['output_type'] = 'display_data';\n",
              "        await google.colab.output.renderOutput(dataTable, element);\n",
              "        const docLink = document.createElement('div');\n",
              "        docLink.innerHTML = docLinkHtml;\n",
              "        element.appendChild(docLink);\n",
              "      }\n",
              "    </script>\n",
              "  </div>\n",
              "\n",
              "\n",
              "<div id=\"df-8a2c6e82-8b45-4cc3-9350-938bd1d93c8e\">\n",
              "  <button class=\"colab-df-quickchart\" onclick=\"quickchart('df-8a2c6e82-8b45-4cc3-9350-938bd1d93c8e')\"\n",
              "            title=\"Suggest charts\"\n",
              "            style=\"display:none;\">\n",
              "\n",
              "<svg xmlns=\"http://www.w3.org/2000/svg\" height=\"24px\"viewBox=\"0 0 24 24\"\n",
              "     width=\"24px\">\n",
              "    <g>\n",
              "        <path d=\"M19 3H5c-1.1 0-2 .9-2 2v14c0 1.1.9 2 2 2h14c1.1 0 2-.9 2-2V5c0-1.1-.9-2-2-2zM9 17H7v-7h2v7zm4 0h-2V7h2v10zm4 0h-2v-4h2v4z\"/>\n",
              "    </g>\n",
              "</svg>\n",
              "  </button>\n",
              "\n",
              "<style>\n",
              "  .colab-df-quickchart {\n",
              "      --bg-color: #E8F0FE;\n",
              "      --fill-color: #1967D2;\n",
              "      --hover-bg-color: #E2EBFA;\n",
              "      --hover-fill-color: #174EA6;\n",
              "      --disabled-fill-color: #AAA;\n",
              "      --disabled-bg-color: #DDD;\n",
              "  }\n",
              "\n",
              "  [theme=dark] .colab-df-quickchart {\n",
              "      --bg-color: #3B4455;\n",
              "      --fill-color: #D2E3FC;\n",
              "      --hover-bg-color: #434B5C;\n",
              "      --hover-fill-color: #FFFFFF;\n",
              "      --disabled-bg-color: #3B4455;\n",
              "      --disabled-fill-color: #666;\n",
              "  }\n",
              "\n",
              "  .colab-df-quickchart {\n",
              "    background-color: var(--bg-color);\n",
              "    border: none;\n",
              "    border-radius: 50%;\n",
              "    cursor: pointer;\n",
              "    display: none;\n",
              "    fill: var(--fill-color);\n",
              "    height: 32px;\n",
              "    padding: 0;\n",
              "    width: 32px;\n",
              "  }\n",
              "\n",
              "  .colab-df-quickchart:hover {\n",
              "    background-color: var(--hover-bg-color);\n",
              "    box-shadow: 0 1px 2px rgba(60, 64, 67, 0.3), 0 1px 3px 1px rgba(60, 64, 67, 0.15);\n",
              "    fill: var(--button-hover-fill-color);\n",
              "  }\n",
              "\n",
              "  .colab-df-quickchart-complete:disabled,\n",
              "  .colab-df-quickchart-complete:disabled:hover {\n",
              "    background-color: var(--disabled-bg-color);\n",
              "    fill: var(--disabled-fill-color);\n",
              "    box-shadow: none;\n",
              "  }\n",
              "\n",
              "  .colab-df-spinner {\n",
              "    border: 2px solid var(--fill-color);\n",
              "    border-color: transparent;\n",
              "    border-bottom-color: var(--fill-color);\n",
              "    animation:\n",
              "      spin 1s steps(1) infinite;\n",
              "  }\n",
              "\n",
              "  @keyframes spin {\n",
              "    0% {\n",
              "      border-color: transparent;\n",
              "      border-bottom-color: var(--fill-color);\n",
              "      border-left-color: var(--fill-color);\n",
              "    }\n",
              "    20% {\n",
              "      border-color: transparent;\n",
              "      border-left-color: var(--fill-color);\n",
              "      border-top-color: var(--fill-color);\n",
              "    }\n",
              "    30% {\n",
              "      border-color: transparent;\n",
              "      border-left-color: var(--fill-color);\n",
              "      border-top-color: var(--fill-color);\n",
              "      border-right-color: var(--fill-color);\n",
              "    }\n",
              "    40% {\n",
              "      border-color: transparent;\n",
              "      border-right-color: var(--fill-color);\n",
              "      border-top-color: var(--fill-color);\n",
              "    }\n",
              "    60% {\n",
              "      border-color: transparent;\n",
              "      border-right-color: var(--fill-color);\n",
              "    }\n",
              "    80% {\n",
              "      border-color: transparent;\n",
              "      border-right-color: var(--fill-color);\n",
              "      border-bottom-color: var(--fill-color);\n",
              "    }\n",
              "    90% {\n",
              "      border-color: transparent;\n",
              "      border-bottom-color: var(--fill-color);\n",
              "    }\n",
              "  }\n",
              "</style>\n",
              "\n",
              "  <script>\n",
              "    async function quickchart(key) {\n",
              "      const quickchartButtonEl =\n",
              "        document.querySelector('#' + key + ' button');\n",
              "      quickchartButtonEl.disabled = true;  // To prevent multiple clicks.\n",
              "      quickchartButtonEl.classList.add('colab-df-spinner');\n",
              "      try {\n",
              "        const charts = await google.colab.kernel.invokeFunction(\n",
              "            'suggestCharts', [key], {});\n",
              "      } catch (error) {\n",
              "        console.error('Error during call to suggestCharts:', error);\n",
              "      }\n",
              "      quickchartButtonEl.classList.remove('colab-df-spinner');\n",
              "      quickchartButtonEl.classList.add('colab-df-quickchart-complete');\n",
              "    }\n",
              "    (() => {\n",
              "      let quickchartButtonEl =\n",
              "        document.querySelector('#df-8a2c6e82-8b45-4cc3-9350-938bd1d93c8e button');\n",
              "      quickchartButtonEl.style.display =\n",
              "        google.colab.kernel.accessAllowed ? 'block' : 'none';\n",
              "    })();\n",
              "  </script>\n",
              "</div>\n",
              "\n",
              "    </div>\n",
              "  </div>\n"
            ],
            "application/vnd.google.colaboratory.intrinsic+json": {
              "type": "dataframe",
              "summary": "{\n  \"name\": \"df[df['Mileage'] <= 5]\",\n  \"rows\": 63,\n  \"fields\": [\n    {\n      \"column\": \"Name\",\n      \"properties\": {\n        \"dtype\": \"category\",\n        \"num_unique_values\": 31,\n        \"samples\": [\n          \"Fiat Siena 1.2 ELX\",\n          \"Maruti Baleno Vxi\",\n          \"Skoda Superb 3.6 V6 FSI\"\n        ],\n        \"semantic_type\": \"\",\n        \"description\": \"\"\n      }\n    },\n    {\n      \"column\": \"Location\",\n      \"properties\": {\n        \"dtype\": \"category\",\n        \"num_unique_values\": 11,\n        \"samples\": [\n          \"Chennai\",\n          \"Pune\",\n          \"Kolkata\"\n        ],\n        \"semantic_type\": \"\",\n        \"description\": \"\"\n      }\n    },\n    {\n      \"column\": \"Year\",\n      \"properties\": {\n        \"dtype\": \"number\",\n        \"std\": 4,\n        \"min\": 2001,\n        \"max\": 2019,\n        \"num_unique_values\": 18,\n        \"samples\": [\n          2012,\n          2019,\n          2014\n        ],\n        \"semantic_type\": \"\",\n        \"description\": \"\"\n      }\n    },\n    {\n      \"column\": \"Kilometers_Driven\",\n      \"properties\": {\n        \"dtype\": \"number\",\n        \"std\": 28997,\n        \"min\": 4000,\n        \"max\": 125000,\n        \"num_unique_values\": 54,\n        \"samples\": [\n          33000,\n          45500,\n          46000\n        ],\n        \"semantic_type\": \"\",\n        \"description\": \"\"\n      }\n    },\n    {\n      \"column\": \"Fuel_Type\",\n      \"properties\": {\n        \"dtype\": \"category\",\n        \"num_unique_values\": 2,\n        \"samples\": [\n          \"Petrol\",\n          \"Diesel\"\n        ],\n        \"semantic_type\": \"\",\n        \"description\": \"\"\n      }\n    },\n    {\n      \"column\": \"Transmission\",\n      \"properties\": {\n        \"dtype\": \"category\",\n        \"num_unique_values\": 2,\n        \"samples\": [\n          \"Manual\",\n          \"Automatic\"\n        ],\n        \"semantic_type\": \"\",\n        \"description\": \"\"\n      }\n    },\n    {\n      \"column\": \"Owner_Type\",\n      \"properties\": {\n        \"dtype\": \"category\",\n        \"num_unique_values\": 3,\n        \"samples\": [\n          \"Second\",\n          \"First\"\n        ],\n        \"semantic_type\": \"\",\n        \"description\": \"\"\n      }\n    },\n    {\n      \"column\": \"Mileage\",\n      \"properties\": {\n        \"dtype\": \"number\",\n        \"std\": 0.0,\n        \"min\": 0.0,\n        \"max\": 0.0,\n        \"num_unique_values\": 1,\n        \"samples\": [\n          0.0\n        ],\n        \"semantic_type\": \"\",\n        \"description\": \"\"\n      }\n    },\n    {\n      \"column\": \"Engine\",\n      \"properties\": {\n        \"dtype\": \"number\",\n        \"std\": 834.3042187426387,\n        \"min\": 799.0,\n        \"max\": 3597.0,\n        \"num_unique_values\": 14,\n        \"samples\": [\n          2498.0\n        ],\n        \"semantic_type\": \"\",\n        \"description\": \"\"\n      }\n    },\n    {\n      \"column\": \"Power\",\n      \"properties\": {\n        \"dtype\": \"number\",\n        \"std\": 61.68789853283078,\n        \"min\": 62.0,\n        \"max\": 262.0,\n        \"num_unique_values\": 8,\n        \"samples\": [\n          194.0\n        ],\n        \"semantic_type\": \"\",\n        \"description\": \"\"\n      }\n    },\n    {\n      \"column\": \"Seats\",\n      \"properties\": {\n        \"dtype\": \"number\",\n        \"std\": 0.46862334890320484,\n        \"min\": 2.0,\n        \"max\": 6.0,\n        \"num_unique_values\": 3,\n        \"samples\": [\n          5.0\n        ],\n        \"semantic_type\": \"\",\n        \"description\": \"\"\n      }\n    },\n    {\n      \"column\": \"New_Price\",\n      \"properties\": {\n        \"dtype\": \"category\",\n        \"num_unique_values\": 3,\n        \"samples\": [\n          \"49.14 Lakh\"\n        ],\n        \"semantic_type\": \"\",\n        \"description\": \"\"\n      }\n    },\n    {\n      \"column\": \"Price\",\n      \"properties\": {\n        \"dtype\": \"number\",\n        \"std\": 15.287173699657576,\n        \"min\": 0.55,\n        \"max\": 49.24,\n        \"num_unique_values\": 56,\n        \"samples\": [\n          17.5\n        ],\n        \"semantic_type\": \"\",\n        \"description\": \"\"\n      }\n    }\n  ]\n}"
            }
          },
          "metadata": {},
          "execution_count": 13
        }
      ]
    },
    {
      "cell_type": "code",
      "source": [
        "df.drop(index=df[df['Mileage'] <= 5].index, inplace=True)"
      ],
      "metadata": {
        "id": "x3m3TE_k2VLz"
      },
      "execution_count": 24,
      "outputs": []
    },
    {
      "cell_type": "markdown",
      "source": [
        "### Engine outlier"
      ],
      "metadata": {
        "id": "QRYPfqTv4Wou"
      }
    },
    {
      "cell_type": "code",
      "source": [
        "# df[(df['Engine'] >= 4000) | (df['Engine'] <= 500)]\n",
        "df[(df['Engine'] <= 500)]\n"
      ],
      "metadata": {
        "colab": {
          "base_uri": "https://localhost:8080/",
          "height": 80
        },
        "id": "rUP7iocg2VQu",
        "outputId": "c20c213e-9500-4316-8c58-a6466176b4ad"
      },
      "execution_count": 15,
      "outputs": [
        {
          "output_type": "execute_result",
          "data": {
            "text/plain": [
              "                      Name Location  Year  Kilometers_Driven Fuel_Type  \\\n",
              "4446  Mahindra E Verito D4  Chennai  2016              50000  Electric   \n",
              "\n",
              "     Transmission Owner_Type  Mileage  Engine  Power  Seats   New_Price  Price  \n",
              "4446    Automatic      First      NaN    72.0   41.0    5.0  13.58 Lakh   13.0  "
            ],
            "text/html": [
              "\n",
              "  <div id=\"df-c6624844-43e0-4229-88bd-b1353340adfa\" class=\"colab-df-container\">\n",
              "    <div>\n",
              "<style scoped>\n",
              "    .dataframe tbody tr th:only-of-type {\n",
              "        vertical-align: middle;\n",
              "    }\n",
              "\n",
              "    .dataframe tbody tr th {\n",
              "        vertical-align: top;\n",
              "    }\n",
              "\n",
              "    .dataframe thead th {\n",
              "        text-align: right;\n",
              "    }\n",
              "</style>\n",
              "<table border=\"1\" class=\"dataframe\">\n",
              "  <thead>\n",
              "    <tr style=\"text-align: right;\">\n",
              "      <th></th>\n",
              "      <th>Name</th>\n",
              "      <th>Location</th>\n",
              "      <th>Year</th>\n",
              "      <th>Kilometers_Driven</th>\n",
              "      <th>Fuel_Type</th>\n",
              "      <th>Transmission</th>\n",
              "      <th>Owner_Type</th>\n",
              "      <th>Mileage</th>\n",
              "      <th>Engine</th>\n",
              "      <th>Power</th>\n",
              "      <th>Seats</th>\n",
              "      <th>New_Price</th>\n",
              "      <th>Price</th>\n",
              "    </tr>\n",
              "  </thead>\n",
              "  <tbody>\n",
              "    <tr>\n",
              "      <th>4446</th>\n",
              "      <td>Mahindra E Verito D4</td>\n",
              "      <td>Chennai</td>\n",
              "      <td>2016</td>\n",
              "      <td>50000</td>\n",
              "      <td>Electric</td>\n",
              "      <td>Automatic</td>\n",
              "      <td>First</td>\n",
              "      <td>NaN</td>\n",
              "      <td>72.0</td>\n",
              "      <td>41.0</td>\n",
              "      <td>5.0</td>\n",
              "      <td>13.58 Lakh</td>\n",
              "      <td>13.0</td>\n",
              "    </tr>\n",
              "  </tbody>\n",
              "</table>\n",
              "</div>\n",
              "    <div class=\"colab-df-buttons\">\n",
              "\n",
              "  <div class=\"colab-df-container\">\n",
              "    <button class=\"colab-df-convert\" onclick=\"convertToInteractive('df-c6624844-43e0-4229-88bd-b1353340adfa')\"\n",
              "            title=\"Convert this dataframe to an interactive table.\"\n",
              "            style=\"display:none;\">\n",
              "\n",
              "  <svg xmlns=\"http://www.w3.org/2000/svg\" height=\"24px\" viewBox=\"0 -960 960 960\">\n",
              "    <path d=\"M120-120v-720h720v720H120Zm60-500h600v-160H180v160Zm220 220h160v-160H400v160Zm0 220h160v-160H400v160ZM180-400h160v-160H180v160Zm440 0h160v-160H620v160ZM180-180h160v-160H180v160Zm440 0h160v-160H620v160Z\"/>\n",
              "  </svg>\n",
              "    </button>\n",
              "\n",
              "  <style>\n",
              "    .colab-df-container {\n",
              "      display:flex;\n",
              "      gap: 12px;\n",
              "    }\n",
              "\n",
              "    .colab-df-convert {\n",
              "      background-color: #E8F0FE;\n",
              "      border: none;\n",
              "      border-radius: 50%;\n",
              "      cursor: pointer;\n",
              "      display: none;\n",
              "      fill: #1967D2;\n",
              "      height: 32px;\n",
              "      padding: 0 0 0 0;\n",
              "      width: 32px;\n",
              "    }\n",
              "\n",
              "    .colab-df-convert:hover {\n",
              "      background-color: #E2EBFA;\n",
              "      box-shadow: 0px 1px 2px rgba(60, 64, 67, 0.3), 0px 1px 3px 1px rgba(60, 64, 67, 0.15);\n",
              "      fill: #174EA6;\n",
              "    }\n",
              "\n",
              "    .colab-df-buttons div {\n",
              "      margin-bottom: 4px;\n",
              "    }\n",
              "\n",
              "    [theme=dark] .colab-df-convert {\n",
              "      background-color: #3B4455;\n",
              "      fill: #D2E3FC;\n",
              "    }\n",
              "\n",
              "    [theme=dark] .colab-df-convert:hover {\n",
              "      background-color: #434B5C;\n",
              "      box-shadow: 0px 1px 3px 1px rgba(0, 0, 0, 0.15);\n",
              "      filter: drop-shadow(0px 1px 2px rgba(0, 0, 0, 0.3));\n",
              "      fill: #FFFFFF;\n",
              "    }\n",
              "  </style>\n",
              "\n",
              "    <script>\n",
              "      const buttonEl =\n",
              "        document.querySelector('#df-c6624844-43e0-4229-88bd-b1353340adfa button.colab-df-convert');\n",
              "      buttonEl.style.display =\n",
              "        google.colab.kernel.accessAllowed ? 'block' : 'none';\n",
              "\n",
              "      async function convertToInteractive(key) {\n",
              "        const element = document.querySelector('#df-c6624844-43e0-4229-88bd-b1353340adfa');\n",
              "        const dataTable =\n",
              "          await google.colab.kernel.invokeFunction('convertToInteractive',\n",
              "                                                    [key], {});\n",
              "        if (!dataTable) return;\n",
              "\n",
              "        const docLinkHtml = 'Like what you see? Visit the ' +\n",
              "          '<a target=\"_blank\" href=https://colab.research.google.com/notebooks/data_table.ipynb>data table notebook</a>'\n",
              "          + ' to learn more about interactive tables.';\n",
              "        element.innerHTML = '';\n",
              "        dataTable['output_type'] = 'display_data';\n",
              "        await google.colab.output.renderOutput(dataTable, element);\n",
              "        const docLink = document.createElement('div');\n",
              "        docLink.innerHTML = docLinkHtml;\n",
              "        element.appendChild(docLink);\n",
              "      }\n",
              "    </script>\n",
              "  </div>\n",
              "\n",
              "\n",
              "    </div>\n",
              "  </div>\n"
            ],
            "application/vnd.google.colaboratory.intrinsic+json": {
              "type": "dataframe",
              "summary": "{\n  \"name\": \"df[(df['Engine'] <= 500)]\",\n  \"rows\": 1,\n  \"fields\": [\n    {\n      \"column\": \"Name\",\n      \"properties\": {\n        \"dtype\": \"string\",\n        \"num_unique_values\": 1,\n        \"samples\": [\n          \"Mahindra E Verito D4\"\n        ],\n        \"semantic_type\": \"\",\n        \"description\": \"\"\n      }\n    },\n    {\n      \"column\": \"Location\",\n      \"properties\": {\n        \"dtype\": \"string\",\n        \"num_unique_values\": 1,\n        \"samples\": [\n          \"Chennai\"\n        ],\n        \"semantic_type\": \"\",\n        \"description\": \"\"\n      }\n    },\n    {\n      \"column\": \"Year\",\n      \"properties\": {\n        \"dtype\": \"number\",\n        \"std\": null,\n        \"min\": 2016,\n        \"max\": 2016,\n        \"num_unique_values\": 1,\n        \"samples\": [\n          2016\n        ],\n        \"semantic_type\": \"\",\n        \"description\": \"\"\n      }\n    },\n    {\n      \"column\": \"Kilometers_Driven\",\n      \"properties\": {\n        \"dtype\": \"number\",\n        \"std\": null,\n        \"min\": 50000,\n        \"max\": 50000,\n        \"num_unique_values\": 1,\n        \"samples\": [\n          50000\n        ],\n        \"semantic_type\": \"\",\n        \"description\": \"\"\n      }\n    },\n    {\n      \"column\": \"Fuel_Type\",\n      \"properties\": {\n        \"dtype\": \"string\",\n        \"num_unique_values\": 1,\n        \"samples\": [\n          \"Electric\"\n        ],\n        \"semantic_type\": \"\",\n        \"description\": \"\"\n      }\n    },\n    {\n      \"column\": \"Transmission\",\n      \"properties\": {\n        \"dtype\": \"string\",\n        \"num_unique_values\": 1,\n        \"samples\": [\n          \"Automatic\"\n        ],\n        \"semantic_type\": \"\",\n        \"description\": \"\"\n      }\n    },\n    {\n      \"column\": \"Owner_Type\",\n      \"properties\": {\n        \"dtype\": \"string\",\n        \"num_unique_values\": 1,\n        \"samples\": [\n          \"First\"\n        ],\n        \"semantic_type\": \"\",\n        \"description\": \"\"\n      }\n    },\n    {\n      \"column\": \"Mileage\",\n      \"properties\": {\n        \"dtype\": \"number\",\n        \"std\": null,\n        \"min\": null,\n        \"max\": null,\n        \"num_unique_values\": 0,\n        \"samples\": [],\n        \"semantic_type\": \"\",\n        \"description\": \"\"\n      }\n    },\n    {\n      \"column\": \"Engine\",\n      \"properties\": {\n        \"dtype\": \"number\",\n        \"std\": null,\n        \"min\": 72.0,\n        \"max\": 72.0,\n        \"num_unique_values\": 1,\n        \"samples\": [],\n        \"semantic_type\": \"\",\n        \"description\": \"\"\n      }\n    },\n    {\n      \"column\": \"Power\",\n      \"properties\": {\n        \"dtype\": \"number\",\n        \"std\": null,\n        \"min\": 41.0,\n        \"max\": 41.0,\n        \"num_unique_values\": 1,\n        \"samples\": [],\n        \"semantic_type\": \"\",\n        \"description\": \"\"\n      }\n    },\n    {\n      \"column\": \"Seats\",\n      \"properties\": {\n        \"dtype\": \"number\",\n        \"std\": null,\n        \"min\": 5.0,\n        \"max\": 5.0,\n        \"num_unique_values\": 1,\n        \"samples\": [],\n        \"semantic_type\": \"\",\n        \"description\": \"\"\n      }\n    },\n    {\n      \"column\": \"New_Price\",\n      \"properties\": {\n        \"dtype\": \"string\",\n        \"num_unique_values\": 1,\n        \"samples\": [],\n        \"semantic_type\": \"\",\n        \"description\": \"\"\n      }\n    },\n    {\n      \"column\": \"Price\",\n      \"properties\": {\n        \"dtype\": \"number\",\n        \"std\": null,\n        \"min\": 13.0,\n        \"max\": 13.0,\n        \"num_unique_values\": 1,\n        \"samples\": [],\n        \"semantic_type\": \"\",\n        \"description\": \"\"\n      }\n    }\n  ]\n}"
            }
          },
          "metadata": {},
          "execution_count": 15
        }
      ]
    },
    {
      "cell_type": "code",
      "source": [
        "df.drop(index=df[(df['Engine'] <= 500)].index, inplace=True)"
      ],
      "metadata": {
        "id": "ue3PKh0K4ZZI"
      },
      "execution_count": 25,
      "outputs": []
    },
    {
      "cell_type": "markdown",
      "source": [
        "### Seat outlier"
      ],
      "metadata": {
        "id": "IbnK3KqJ5-Fz"
      }
    },
    {
      "cell_type": "code",
      "source": [
        "df[df['Seats'] < 2 ]"
      ],
      "metadata": {
        "colab": {
          "base_uri": "https://localhost:8080/",
          "height": 80
        },
        "id": "aJpC1q4j4ZeD",
        "outputId": "6a2e3071-8f1d-478e-f283-9ae22c7b6c63"
      },
      "execution_count": 89,
      "outputs": [
        {
          "output_type": "execute_result",
          "data": {
            "text/plain": [
              "                                   Name   Location  Year  Kilometers_Driven  \\\n",
              "3999  Audi A4 3.2 FSI Tiptronic Quattro  Hyderabad  2012             125000   \n",
              "\n",
              "     Fuel_Type Transmission Owner_Type  Mileage  Engine  Power  Seats  \\\n",
              "3999    Petrol    Automatic      First     10.5  3197.0    NaN    0.0   \n",
              "\n",
              "     New_Price  Price  \n",
              "3999       NaN   18.0  "
            ],
            "text/html": [
              "\n",
              "  <div id=\"df-8cfb0300-273d-4db4-b640-395ef83b54c4\" class=\"colab-df-container\">\n",
              "    <div>\n",
              "<style scoped>\n",
              "    .dataframe tbody tr th:only-of-type {\n",
              "        vertical-align: middle;\n",
              "    }\n",
              "\n",
              "    .dataframe tbody tr th {\n",
              "        vertical-align: top;\n",
              "    }\n",
              "\n",
              "    .dataframe thead th {\n",
              "        text-align: right;\n",
              "    }\n",
              "</style>\n",
              "<table border=\"1\" class=\"dataframe\">\n",
              "  <thead>\n",
              "    <tr style=\"text-align: right;\">\n",
              "      <th></th>\n",
              "      <th>Name</th>\n",
              "      <th>Location</th>\n",
              "      <th>Year</th>\n",
              "      <th>Kilometers_Driven</th>\n",
              "      <th>Fuel_Type</th>\n",
              "      <th>Transmission</th>\n",
              "      <th>Owner_Type</th>\n",
              "      <th>Mileage</th>\n",
              "      <th>Engine</th>\n",
              "      <th>Power</th>\n",
              "      <th>Seats</th>\n",
              "      <th>New_Price</th>\n",
              "      <th>Price</th>\n",
              "    </tr>\n",
              "  </thead>\n",
              "  <tbody>\n",
              "    <tr>\n",
              "      <th>3999</th>\n",
              "      <td>Audi A4 3.2 FSI Tiptronic Quattro</td>\n",
              "      <td>Hyderabad</td>\n",
              "      <td>2012</td>\n",
              "      <td>125000</td>\n",
              "      <td>Petrol</td>\n",
              "      <td>Automatic</td>\n",
              "      <td>First</td>\n",
              "      <td>10.5</td>\n",
              "      <td>3197.0</td>\n",
              "      <td>NaN</td>\n",
              "      <td>0.0</td>\n",
              "      <td>NaN</td>\n",
              "      <td>18.0</td>\n",
              "    </tr>\n",
              "  </tbody>\n",
              "</table>\n",
              "</div>\n",
              "    <div class=\"colab-df-buttons\">\n",
              "\n",
              "  <div class=\"colab-df-container\">\n",
              "    <button class=\"colab-df-convert\" onclick=\"convertToInteractive('df-8cfb0300-273d-4db4-b640-395ef83b54c4')\"\n",
              "            title=\"Convert this dataframe to an interactive table.\"\n",
              "            style=\"display:none;\">\n",
              "\n",
              "  <svg xmlns=\"http://www.w3.org/2000/svg\" height=\"24px\" viewBox=\"0 -960 960 960\">\n",
              "    <path d=\"M120-120v-720h720v720H120Zm60-500h600v-160H180v160Zm220 220h160v-160H400v160Zm0 220h160v-160H400v160ZM180-400h160v-160H180v160Zm440 0h160v-160H620v160ZM180-180h160v-160H180v160Zm440 0h160v-160H620v160Z\"/>\n",
              "  </svg>\n",
              "    </button>\n",
              "\n",
              "  <style>\n",
              "    .colab-df-container {\n",
              "      display:flex;\n",
              "      gap: 12px;\n",
              "    }\n",
              "\n",
              "    .colab-df-convert {\n",
              "      background-color: #E8F0FE;\n",
              "      border: none;\n",
              "      border-radius: 50%;\n",
              "      cursor: pointer;\n",
              "      display: none;\n",
              "      fill: #1967D2;\n",
              "      height: 32px;\n",
              "      padding: 0 0 0 0;\n",
              "      width: 32px;\n",
              "    }\n",
              "\n",
              "    .colab-df-convert:hover {\n",
              "      background-color: #E2EBFA;\n",
              "      box-shadow: 0px 1px 2px rgba(60, 64, 67, 0.3), 0px 1px 3px 1px rgba(60, 64, 67, 0.15);\n",
              "      fill: #174EA6;\n",
              "    }\n",
              "\n",
              "    .colab-df-buttons div {\n",
              "      margin-bottom: 4px;\n",
              "    }\n",
              "\n",
              "    [theme=dark] .colab-df-convert {\n",
              "      background-color: #3B4455;\n",
              "      fill: #D2E3FC;\n",
              "    }\n",
              "\n",
              "    [theme=dark] .colab-df-convert:hover {\n",
              "      background-color: #434B5C;\n",
              "      box-shadow: 0px 1px 3px 1px rgba(0, 0, 0, 0.15);\n",
              "      filter: drop-shadow(0px 1px 2px rgba(0, 0, 0, 0.3));\n",
              "      fill: #FFFFFF;\n",
              "    }\n",
              "  </style>\n",
              "\n",
              "    <script>\n",
              "      const buttonEl =\n",
              "        document.querySelector('#df-8cfb0300-273d-4db4-b640-395ef83b54c4 button.colab-df-convert');\n",
              "      buttonEl.style.display =\n",
              "        google.colab.kernel.accessAllowed ? 'block' : 'none';\n",
              "\n",
              "      async function convertToInteractive(key) {\n",
              "        const element = document.querySelector('#df-8cfb0300-273d-4db4-b640-395ef83b54c4');\n",
              "        const dataTable =\n",
              "          await google.colab.kernel.invokeFunction('convertToInteractive',\n",
              "                                                    [key], {});\n",
              "        if (!dataTable) return;\n",
              "\n",
              "        const docLinkHtml = 'Like what you see? Visit the ' +\n",
              "          '<a target=\"_blank\" href=https://colab.research.google.com/notebooks/data_table.ipynb>data table notebook</a>'\n",
              "          + ' to learn more about interactive tables.';\n",
              "        element.innerHTML = '';\n",
              "        dataTable['output_type'] = 'display_data';\n",
              "        await google.colab.output.renderOutput(dataTable, element);\n",
              "        const docLink = document.createElement('div');\n",
              "        docLink.innerHTML = docLinkHtml;\n",
              "        element.appendChild(docLink);\n",
              "      }\n",
              "    </script>\n",
              "  </div>\n",
              "\n",
              "\n",
              "    </div>\n",
              "  </div>\n"
            ],
            "application/vnd.google.colaboratory.intrinsic+json": {
              "type": "dataframe",
              "repr_error": "0"
            }
          },
          "metadata": {},
          "execution_count": 89
        }
      ]
    },
    {
      "cell_type": "code",
      "source": [
        "df.drop(index=df[df['Seats'] < 2 ].index, inplace=True)"
      ],
      "metadata": {
        "id": "_Z3_KAfK6BTi"
      },
      "execution_count": 26,
      "outputs": []
    },
    {
      "cell_type": "markdown",
      "source": [
        "### Price outlier"
      ],
      "metadata": {
        "id": "mUNRFHH96nwN"
      }
    },
    {
      "cell_type": "code",
      "source": [
        "fig = px.box(df, y=\"Price\" )\n",
        "fig.show()"
      ],
      "metadata": {
        "colab": {
          "base_uri": "https://localhost:8080/",
          "height": 542
        },
        "id": "U90qIkQI7eHG",
        "outputId": "0f21ba3f-2a34-499a-8555-7f592e2dd39d"
      },
      "execution_count": 27,
      "outputs": [
        {
          "output_type": "display_data",
          "data": {
            "text/html": [
              "<html>\n",
              "<head><meta charset=\"utf-8\" /></head>\n",
              "<body>\n",
              "    <div>            <script src=\"https://cdnjs.cloudflare.com/ajax/libs/mathjax/2.7.5/MathJax.js?config=TeX-AMS-MML_SVG\"></script><script type=\"text/javascript\">if (window.MathJax && window.MathJax.Hub && window.MathJax.Hub.Config) {window.MathJax.Hub.Config({SVG: {font: \"STIX-Web\"}});}</script>                <script type=\"text/javascript\">window.PlotlyConfig = {MathJaxConfig: 'local'};</script>\n",
              "        <script charset=\"utf-8\" src=\"https://cdn.plot.ly/plotly-2.24.1.min.js\"></script>                <div id=\"6c1eab19-7576-48f9-8fd6-4085208c102b\" class=\"plotly-graph-div\" style=\"height:525px; width:100%;\"></div>            <script type=\"text/javascript\">                                    window.PLOTLYENV=window.PLOTLYENV || {};                                    if (document.getElementById(\"6c1eab19-7576-48f9-8fd6-4085208c102b\")) {                    Plotly.newPlot(                        \"6c1eab19-7576-48f9-8fd6-4085208c102b\",                        [{\"alignmentgroup\":\"True\",\"hovertemplate\":\"Price=%{y}\\u003cextra\\u003e\\u003c\\u002fextra\\u003e\",\"legendgroup\":\"\",\"marker\":{\"color\":\"#636efa\"},\"name\":\"\",\"notched\":false,\"offsetgroup\":\"\",\"orientation\":\"v\",\"showlegend\":false,\"x0\":\" \",\"xaxis\":\"x\",\"y\":[1.75,12.5,4.5,6.0,17.74,2.35,3.5,17.5,5.2,1.95,9.95,4.49,5.6,27.0,15.0,5.4,5.99,6.34,28.0,18.55,8.25,23.5,1.87,2.85,4.25,4.25,2.75,9.9,7.75,6.75,12.5,11.5,6.98,1.85,8.63,4.85,28.0,5.0,1.25,1.53,5.58,4.74,8.85,10.11,4.25,10.95,3.85,5.5,21.43,4.25,3.3,3.85,3.6,3.99,3.3,2.07,7.75,2.25,16.5,2.75,26.7,10.0,13.5,1.85,8.15,10.5,14.5,9.65,3.48,6.92,6.46,29.5,2.0,11.75,3.75,4.5,4.82,2.8,3.11,3.25,13.9,2.25,5.75,2.1,5.0,16.5,39.58,5.5,8.1,3.5,2.79,3.45,4.45,2.65,3.8,4.65,3.95,9.8,2.7,2.41,3.9,24.0,5.75,5.25,19.25,3.91,2.15,20.75,3.35,11.11,20.0,6.55,7.0,7.5,0.85,16.75,10.95,2.45,3.23,7.75,9.35,3.25,5.25,7.25,7.47,13.25,5.81,2.6,54.0,11.5,1.6,17.22,6.0,3.95,17.95,3.7,5.43,1.67,13.49,2.85,4.75,9.9,37.0,26.5,23.32,6.25,30.0,9.86,4.23,3.5,2.5,2.39,11.25,7.11,10.9,6.2,7.9,6.25,2.1,45.0,33.66,3.65,2.75,42.5,6.5,19.0,4.45,23.0,8.35,22.95,1.5,6.89,33.5,1.25,4.2,6.75,32.0,7.5,4.6,4.04,10.31,55.76,2.6,8.5,3.5,3.55,3.25,4.5,5.35,6.5,9.0,6.0,2.75,1.5,19.9,10.0,3.0,2.11,11.96,3.25,4.75,5.95,8.15,4.22,10.5,45.0,2.9,8.9,26.0,8.22,3.5,1.25,3.7,39.41,2.65,8.92,4.1,35.67,3.32,3.6,6.8,2.5,19.64,7.0,3.87,6.27,18.12,2.65,7.2,14.3,6.9,10.75,0.95,8.09,18.5,4.75,8.45,3.5,3.7,7.17,1.75,21.99,18.65,1.85,5.95,3.75,3.75,2.8,61.29,18.0,4.35,13.75,2.0,10.0,1.65,45.77,3.25,12.8,0.55,7.15,7.0,3.75,8.5,4.35,3.26,4.21,70.36,2.95,4.28,3.57,3.11,5.96,4.7,6.9,5.25,28.0,1.35,4.85,6.7,3.1,18.64,2.8,20.25,26.78,8.26,3.89,2.1,12.69,2.58,20.77,20.26,2.5,4.25,57.0,44.0,3.65,2.05,3.13,2.85,2.65,10.6,8.25,4.45,3.7,1.8,21.95,49.0,62.67,1.4,5.5,2.95,6.86,6.15,3.3,2.55,1.5,2.5,1.4,3.4,2.25,2.8,7.66,7.15,3.5,3.45,3.55,25.99,5.25,2.9,2.05,3.75,6.75,0.95,52.0,3.91,27.3,3.5,6.2,2.75,3.25,3.25,0.65,35.0,3.25,2.9,2.9,17.75,8.25,5.77,9.49,12.95,20.0,1.0,7.1,16.5,26.0,3.2,9.48,4.0,26.5,11.77,37.0,8.75,1.95,3.75,2.5,34.5,4.65,32.0,62.81,3.25,3.1,3.91,11.0,3.5,16.5,30.0,28.0,28.0,0.92,2.75,53.83,4.95,33.5,27.95,7.25,25.71,29.67,19.0,13.05,25.5,8.5,7.25,0.8,6.9,70.99,2.25,5.5,4.35,2.25,24.5,12.03,8.5,28.5,1.2,5.75,3.2,9.89,4.06,13.37,25.82,3.74,22.0,1.45,2.0,4.7,3.75,7.7,2.6,13.77,7.1,2.65,2.5,7.53,7.98,39.0,2.25,3.85,13.5,3.5,8.92,20.37,36.5,48.91,7.2,5.99,5.25,6.5,4.4,4.6,2.95,3.26,2.22,8.26,14.45,2.5,51.43,23.0,5.5,4.5,6.8,8.75,7.0,33.5,2.25,28.42,2.75,3.0,3.55,4.8,13.5,56.0,3.99,15.5,2.32,18.58,5.5,3.2,4.0,1.6,4.15,4.25,2.6,3.43,2.55,32.0,6.25,3.6,4.25,4.8,13.0,2.25,2.3,13.56,12.25,3.76,8.58,27.5,4.95,3.3,8.0,2.79,45.64,2.55,1.0,37.56,9.29,6.37,2.98,5.75,13.0,6.8,10.49,5.6,2.85,8.36,1.0,10.75,3.85,3.0,9.6,13.25,5.75,6.75,4.85,2.85,9.51,18.5,6.75,29.4,3.29,9.5,2.2,6.5,4.9,6.75,29.5,10.5,6.2,5.0,2.3,17.0,25.5,5.65,5.6,29.98,7.39,19.0,5.0,3.35,4.45,8.31,6.0,5.25,1.4,1.5,8.12,6.12,10.88,3.5,6.15,33.0,13.5,17.11,29.77,5.95,5.75,19.0,4.75,3.3,16.5,44.0,4.39,6.2,24.22,5.45,44.0,24.82,11.69,20.0,1.45,48.5,9.45,12.5,6.9,5.8,44.56,8.5,10.7,12.0,2.44,1.95,4.35,17.5,2.9,2.9,8.9,16.75,3.95,2.1,4.29,3.85,4.5,12.46,4.65,20.5,2.9,1.45,29.5,25.0,3.5,11.25,10.79,5.9,5.12,5.7,35.84,1.25,2.65,9.19,23.5,12.5,1.5,0.75,8.1,9.75,37.93,1.96,20.5,2.75,75.0,2.8,9.25,3.0,23.89,12.75,4.15,4.65,8.9,3.27,18.0,6.3,11.31,6.16,6.0,5.43,4.65,7.5,6.25,9.25,3.15,2.3,5.25,7.4,1.55,6.0,5.9,4.7,6.5,7.1,6.0,7.99,4.1,3.95,4.38,2.75,55.54,29.0,6.6,6.99,18.75,1.28,1.2,4.31,16.5,5.64,31.12,25.46,7.88,36.0,2.85,3.5,7.5,19.0,54.0,4.7,8.5,17.0,3.51,19.5,17.0,43.35,2.65,3.52,6.25,24.75,5.25,11.0,9.1,3.25,8.5,3.1,19.86,4.9,5.7,1.75,2.9,7.83,8.15,2.0,6.25,3.4,3.19,7.75,3.2,4.9,3.8,4.0,23.5,1.15,2.2,10.65,35.68,31.94,4.2,9.9,15.46,8.46,3.25,2.6,5.2,1.8,1.6,2.5,2.5,6.7,1.2,35.55,7.75,1.94,2.2,3.8,15.65,39.47,1.5,8.85,17.9,5.08,6.25,22.75,1.46,2.05,4.08,4.55,14.0,10.9,2.45,15.8,8.25,8.5,15.54,2.35,4.32,5.2,5.85,6.25,17.63,9.75,55.0,4.1,13.54,56.0,6.5,4.75,5.6,29.2,6.35,4.95,8.5,4.5,5.5,6.56,2.3,3.5,4.55,7.75,5.25,23.29,23.99,1.79,13.9,18.95,2.49,3.15,6.45,4.25,2.75,7.14,2.44,3.5,7.3,2.75,8.2,6.51,4.25,6.21,4.58,2.1,4.09,10.75,41.5,4.4,6.25,10.5,7.25,3.2,3.95,12.07,18.6,5.7,1.75,10.99,14.5,3.11,13.96,7.11,6.9,7.77,5.5,5.35,4.5,4.75,32.8,0.7,50.29,10.99,5.57,5.9,9.43,2.9,3.68,21.67,12.5,19.92,6.75,6.96,3.25,8.65,5.0,5.5,2.6,3.41,2.7,5.5,35.0,9.75,4.25,3.2,6.85,4.5,3.55,1.9,3.6,21.8,13.5,2.66,3.75,32.0,8.07,5.64,23.99,7.5,27.0,2.85,6.35,3.3,5.0,6.46,3.75,1.52,3.61,43.74,20.0,3.65,5.25,58.0,8.65,7.75,4.15,10.85,5.53,11.5,40.0,9.25,2.29,7.0,1.65,8.25,9.14,6.5,2.95,5.75,2.85,2.1,13.55,20.5,20.0,59.72,6.5,7.5,2.15,8.44,5.48,4.2,7.2,4.8,5.83,18.39,5.85,6.21,3.65,3.7,30.0,4.85,6.93,2.6,1.89,10.0,9.95,9.45,28.25,1.8,1.4,7.25,3.6,1.2,4.94,1.25,4.8,31.15,3.3,2.4,2.0,3.1,5.09,7.0,2.5,17.5,2.1,17.75,1.45,2.45,13.8,5.85,8.9,5.15,16.56,16.0,8.08,4.5,4.3,2.6,4.45,5.37,1.75,16.5,19.0,2.8,6.2,3.8,6.1,11.65,4.15,16.5,2.25,6.75,9.4,5.39,8.51,1.85,2.5,4.75,5.5,6.33,2.47,3.3,3.5,38.75,7.99,13.28,9.5,14.01,6.99,11.0,11.0,2.3,26.5,67.0,17.75,4.8,4.57,3.5,7.61,25.0,5.88,13.5,4.6,4.9,5.25,12.41,3.8,8.95,7.2,4.5,4.15,7.94,7.25,3.7,1.5,12.0,2.2,3.6,1.92,20.5,4.25,3.2,3.85,3.48,4.55,7.0,5.75,8.73,1.7,29.5,10.49,64.0,7.55,3.95,3.25,2.75,7.35,4.7,8.77,3.42,2.5,20.0,5.25,14.5,3.45,3.3,51.0,6.5,3.65,7.25,6.01,2.8,4.0,5.95,5.35,12.0,38.94,2.69,27.5,2.75,2.8,6.45,5.88,4.65,2.5,51.35,6.85,5.25,9.23,22.0,5.19,4.35,24.5,5.75,9.19,10.75,2.99,3.89,11.73,3.11,14.45,8.7,5.04,8.5,15.65,5.65,16.5,2.0,3.9,14.5,44.0,5.0,19.75,11.44,1.75,5.6,30.42,9.57,3.5,10.46,4.85,5.68,13.25,16.0,3.0,0.99,5.0,4.75,5.35,5.98,3.5,4.77,5.45,6.85,7.3,1.25,8.25,2.71,3.6,3.0,4.65,9.5,2.95,3.0,5.95,4.0,2.5,11.37,3.1,17.18,6.5,5.7,8.0,2.6,2.45,11.57,2.3,5.9,7.2,5.9,6.0,1.95,6.55,25.0,2.65,69.5,14.0,2.1,20.4,5.68,5.55,12.75,3.35,1.55,5.9,18.98,11.51,7.75,13.9,1.35,38.0,11.6,12.25,3.8,3.25,6.4,3.95,3.57,1.25,3.65,12.5,23.0,1.35,6.32,3.4,0.77,0.9,18.0,19.0,1.1,2.0,6.5,9.45,32.25,2.1,9.75,6.3,21.0,4.65,17.0,4.35,14.82,40.0,6.15,11.25,32.0,45.62,6.24,4.5,3.87,2.75,6.57,2.0,3.65,6.95,5.5,7.0,24.0,32.5,6.45,15.75,5.5,19.03,15.25,2.4,2.3,14.35,3.5,11.97,18.9,5.4,2.95,5.1,1.5,4.9,2.9,1.15,2.3,5.99,3.4,1.7,1.99,2.5,4.85,2.65,27.35,6.9,3.5,12.5,9.2,4.9,3.2,5.55,13.5,4.5,34.0,12.0,5.25,21.56,24.68,3.67,29.5,3.1,2.9,15.95,4.5,3.49,4.25,1.9,16.57,5.75,14.0,2.5,1.2,0.85,13.95,1.6,3.6,4.5,6.06,5.29,5.75,5.8,5.72,4.39,11.05,4.83,2.96,4.5,19.5,8.75,67.0,8.4,4.99,8.18,2.9,7.1,7.05,17.5,3.41,5.68,4.1,4.0,30.0,1.8,6.93,70.0,7.9,14.4,13.5,3.15,2.88,2.15,3.75,3.6,3.6,7.55,4.7,1.6,3.34,9.1,6.17,2.5,3.0,5.75,10.75,2.85,6.5,9.45,6.75,7.75,4.4,42.0,5.67,11.5,1.69,1.8,3.2,45.86,5.1,4.85,2.4,22.0,4.28,5.67,6.2,14.49,3.0,2.25,43.78,11.45,10.5,7.48,3.1,2.55,3.5,2.59,5.45,6.0,15.49,12.5,7.85,6.0,4.0,28.75,2.5,5.5,1.59,6.22,2.75,25.0,2.8,2.45,6.35,8.0,8.25,5.95,19.92,3.15,5.75,32.44,8.01,6.48,0.75,5.0,7.75,2.6,9.2,5.05,9.6,5.5,9.35,3.5,4.26,4.25,11.75,7.5,3.25,4.9,27.0,8.91,6.69,6.02,4.5,2.0,2.4,1.2,2.9,27.0,7.5,1.5,39.5,3.39,12.4,6.85,5.75,2.0,3.8,16.35,8.7,6.1,21.94,22.0,2.65,5.27,2.48,6.0,8.9,18.0,11.64,8.99,5.25,2.95,2.65,4.0,12.5,3.25,4.0,6.25,5.8,5.0,58.73,17.49,1.95,3.0,5.5,16.5,14.5,7.79,8.27,97.07,2.15,3.0,28.79,5.45,3.95,16.0,4.25,34.5,2.6,13.48,32.1,6.17,5.5,9.15,4.5,5.37,5.45,9.25,7.7,7.99,3.0,6.69,4.25,10.5,22.55,5.2,11.87,6.99,5.0,44.0,2.79,9.85,49.0,9.25,3.75,7.29,23.5,2.6,3.1,29.98,6.73,3.5,2.35,16.13,5.9,3.9,6.95,7.0,7.23,3.81,4.5,12.6,48.0,2.96,3.25,8.5,8.75,3.08,41.5,7.0,11.5,2.6,4.3,8.35,24.9,13.75,3.85,23.25,7.0,5.75,1.65,6.5,7.5,72.94,3.02,3.32,3.24,2.35,5.5,6.75,6.15,5.45,2.3,6.21,5.21,11.99,7.5,4.0,7.73,7.8,1.3,4.42,4.0,13.0,5.38,3.25,3.87,8.25,9.28,6.25,1.15,7.8,4.5,7.56,16.08,4.5,5.0,2.2,4.0,2.51,4.75,2.0,2.1,6.25,10.6,6.0,0.45,2.5,12.75,30.29,1.6,7.54,6.84,6.0,8.0,24.74,5.5,36.0,11.79,3.0,6.75,1.4,5.75,3.4,4.89,4.95,3.49,3.85,6.35,7.08,38.0,6.25,10.15,10.75,4.75,7.78,6.75,2.99,2.35,3.65,2.74,3.5,4.76,6.2,2.35,24.5,6.0,3.65,6.26,2.1,32.95,7.8,4.25,4.86,4.9,7.06,4.5,3.22,3.25,4.53,34.78,6.5,2.25,8.37,5.39,37.3,70.8,22.25,6.03,4.9,3.96,4.6,5.5,3.25,6.25,3.0,4.25,10.95,16.5,7.8,3.7,4.0,26.75,28.03,5.44,6.2,0.9,3.95,0.44,2.75,7.5,3.6,3.99,5.64,19.0,30.48,8.2,7.55,0.99,4.15,6.2,4.4,2.1,2.2,8.34,4.35,6.8,3.3,5.04,9.2,5.7,8.48,48.0,6.1,2.75,8.0,1.85,3.85,4.74,5.63,2.62,4.9,2.65,5.99,2.4,4.25,40.0,2.99,3.4,30.8,5.85,4.0,14.12,4.55,2.9,6.95,2.75,5.1,6.75,3.69,5.45,9.29,4.0,2.9,5.25,5.75,13.12,7.83,3.15,10.4,4.35,5.23,6.01,4.4,12.75,2.4,5.71,5.49,1.3,8.5,12.99,5.0,9.0,5.22,3.8,7.27,5.1,29.0,2.9,1.38,5.5,7.25,6.98,5.25,1.95,24.5,8.31,36.0,5.5,5.89,7.95,2.75,6.25,4.95,6.27,8.65,3.5,35.0,4.45,2.65,4.7,8.9,17.45,9.58,6.22,7.8,27.75,7.0,64.87,6.5,2.7,2.5,3.95,2.1,3.5,2.0,5.35,3.8,17.25,5.53,1.95,8.2,19.41,6.58,2.1,2.0,3.7,3.8,3.25,5.53,10.9,5.1,1.6,11.25,14.4,3.6,40.5,38.95,3.6,7.12,7.52,10.35,7.0,10.85,2.35,2.9,7.65,6.4,10.1,4.25,19.65,4.4,3.25,2.8,4.3,1.55,4.7,7.07,79.0,5.75,3.25,8.89,5.9,4.95,3.75,10.97,24.94,1.97,1.4,7.27,4.0,4.75,5.1,16.11,10.55,30.0,1.6,18.49,9.96,4.75,3.65,15.5,11.82,2.05,3.3,2.25,20.12,4.95,7.48,5.5,1.7,13.19,3.85,5.75,9.0,2.21,8.09,48.63,39.47,22.24,2.6,12.0,18.0,9.99,2.45,8.99,3.15,8.2,11.5,7.3,1.59,3.15,8.5,3.0,21.0,7.75,23.0,13.75,8.29,5.79,30.5,3.8,4.45,3.3,1.75,5.5,13.35,22.5,5.25,3.75,6.32,7.75,1.37,2.1,9.3,12.0,23.5,1.8,12.5,4.74,5.43,31.62,6.3,8.45,5.0,4.7,93.67,1.51,6.09,5.95,9.0,4.25,23.5,6.35,3.4,93.0,21.6,5.5,19.25,3.95,4.25,17.02,6.5,2.95,7.12,11.25,2.75,12.0,3.67,5.0,2.3,2.2,41.0,28.5,5.49,17.5,1.99,6.64,16.5,5.0,5.4,2.99,4.1,6.76,5.5,5.99,2.59,26.75,8.5,23.0,3.35,10.75,6.29,7.75,13.5,3.75,3.75,1.5,1.45,4.12,17.11,10.25,2.49,6.25,4.88,9.45,1.99,2.8,22.0,4.3,9.75,5.9,14.5,2.4,2.11,7.6,3.6,6.0,7.45,2.1,5.2,6.36,11.62,43.6,4.9,6.7,3.05,25.0,19.05,4.5,4.15,11.9,2.1,6.95,2.4,2.65,9.0,2.1,2.5,8.95,34.0,3.15,4.0,4.45,1.5,14.5,8.41,5.45,8.9,3.65,29.0,13.5,5.4,5.89,8.45,4.0,45.0,3.94,8.0,4.1,5.25,83.96,21.0,4.3,5.25,32.0,3.9,2.2,3.7,11.27,2.41,19.0,5.8,13.52,24.5,3.25,56.73,9.95,5.5,25.0,1.0,2.15,7.89,10.25,6.0,7.53,39.45,5.84,8.65,7.74,2.5,5.8,36.5,9.5,4.55,3.9,2.7,31.0,10.3,7.75,3.2,4.85,34.08,8.1,2.35,1.8,3.42,5.34,31.99,4.75,6.1,3.69,15.0,14.5,5.65,2.5,38.5,5.49,3.55,10.75,11.0,4.5,8.42,11.6,33.63,2.25,12.95,4.25,25.02,3.95,4.4,4.95,5.5,3.25,4.02,11.73,9.5,8.6,4.0,5.55,2.5,41.6,7.41,6.5,1.2,2.74,3.9,8.0,4.0,17.75,5.05,12.0,29.6,6.5,4.75,24.36,3.2,3.6,3.58,2.5,3.5,25.0,1.75,10.0,7.75,6.45,10.0,4.5,3.4,4.5,4.3,46.0,3.4,14.5,2.1,3.65,3.0,3.95,6.75,6.53,22.0,4.75,5.99,3.05,2.4,1.3,6.71,7.2,5.4,6.63,7.5,14.21,3.0,5.11,3.39,22.99,2.35,2.85,18.5,5.99,3.6,24.0,6.26,13.7,35.0,5.02,3.1,5.5,3.59,4.65,3.8,12.5,12.9,2.35,4.15,22.58,2.65,2.25,16.0,19.5,21.0,17.5,2.41,4.45,29.93,2.95,1.02,5.35,5.65,22.0,5.95,2.35,4.1,8.45,42.5,1.65,11.03,3.5,6.3,6.75,7.5,15.5,4.65,7.58,2.2,21.0,5.25,5.22,2.0,9.18,1.74,4.45,4.95,5.64,6.9,13.95,17.0,4.6,5.21,12.34,1.5,22.99,43.0,40.0,1.2,2.9,13.9,7.85,54.45,4.75,3.25,7.1,4.65,5.0,4.95,9.8,78.8,2.99,4.45,0.75,5.0,5.0,4.7,9.69,5.5,5.11,2.19,4.25,14.5,5.65,22.5,1.75,3.2,4.5,4.5,8.0,28.9,4.1,7.22,5.8,6.35,8.85,2.0,5.5,2.3,7.95,6.16,2.85,25.0,10.36,26.0,4.35,5.0,3.67,6.0,6.34,22.0,1.67,7.95,9.74,1.5,21.5,3.9,2.35,2.65,3.16,2.05,2.95,3.9,6.68,3.5,8.11,8.3,45.61,4.45,7.85,3.1,3.75,7.65,4.9,16.52,14.05,6.75,9.2,2.75,20.5,4.25,6.0,6.0,2.41,7.25,23.65,6.5,18.06,3.2,6.42,23.0,5.9,7.75,15.0,9.0,11.5,6.2,5.92,6.29,4.12,3.8,2.7,20.28,3.9,16.5,3.7,79.0,17.99,3.9,3.12,1.65,3.5,4.85,39.22,2.0,10.45,27.0,2.25,3.45,6.14,2.85,3.25,4.0,2.59,6.96,2.19,3.0,3.6,3.7,21.75,45.0,3.19,6.2,3.96,0.82,4.5,3.55,5.5,10.25,30.0,3.5,3.1,3.25,8.99,3.99,6.0,18.25,7.75,4.5,17.5,7.7,4.45,33.66,2.8,8.47,9.32,27.43,6.5,9.5,31.8,4.2,3.85,6.0,1.65,14.5,7.1,28.0,9.38,4.78,1.7,17.85,2.75,5.95,1.5,3.8,38.5,2.15,3.75,8.95,5.0,2.95,10.49,1.85,6.45,5.25,5.99,3.82,39.0,25.75,2.0,56.5,21.0,4.0,3.83,5.89,1.36,44.0,3.26,8.0,4.25,6.0,16.61,7.26,4.0,34.51,0.95,2.2,5.75,1.2,36.75,10.0,17.89,4.05,22.0,27.87,8.75,4.79,11.92,53.11,7.45,3.5,70.15,19.5,15.0,7.57,4.4,60.0,1.6,4.9,5.95,5.35,5.4,23.45,1.9,6.1,4.95,2.5,3.48,4.4,7.99,10.99,18.5,21.69,5.17,4.5,6.75,3.12,20.14,12.6,6.61,13.23,4.75,2.9,5.5,9.47,1.95,2.2,1.15,4.35,4.5,3.55,4.75,4.52,12.75,20.04,6.5,4.15,2.5,5.4,3.15,52.5,5.95,6.97,3.2,6.69,5.9,2.25,4.5,2.61,11.5,35.0,0.5,5.75,11.5,2.75,31.5,4.92,3.52,17.55,5.8,6.95,2.4,5.25,4.25,1.5,4.5,1.55,6.5,18.0,4.96,3.25,8.5,2.75,3.4,7.0,3.21,14.25,6.5,5.49,0.8,1.99,5.91,6.44,2.9,4.6,2.35,7.21,8.0,3.5,1.74,6.8,7.5,8.0,5.99,12.9,7.0,35.0,5.5,18.46,2.4,1.0,2.65,5.96,75.0,27.15,10.5,6.7,4.9,8.0,3.63,4.8,4.25,4.24,30.27,14.25,3.41,2.78,15.5,3.0,2.3,13.28,2.25,3.36,4.25,4.3,9.18,4.99,3.75,2.5,7.2,29.5,17.55,12.0,13.5,5.1,10.3,5.7,3.41,2.4,5.6,8.2,27.5,3.5,4.58,10.34,3.25,5.0,2.25,51.52,8.62,7.25,5.47,31.0,35.98,3.42,11.5,7.25,8.0,7.33,3.35,4.4,2.99,5.6,6.63,7.9,7.0,4.95,9.19,5.1,5.9,9.51,3.9,5.39,3.0,4.3,6.75,4.5,2.75,9.0,2.55,3.54,4.25,1.2,19.5,12.0,3.9,9.13,2.25,3.25,14.79,2.35,3.1,12.9,2.5,3.65,7.5,3.74,5.86,39.62,7.05,7.5,2.1,11.6,19.25,17.92,3.6,4.5,7.4,59.29,5.5,1.75,6.75,3.95,4.2,8.4,8.25,3.31,7.5,4.75,8.79,1.55,5.85,7.52,3.6,4.73,10.5,34.54,6.07,7.76,7.46,3.49,4.05,11.88,6.45,50.0,9.0,14.25,7.36,4.4,3.1,4.28,5.5,6.99,4.29,4.2,4.11,18.75,64.95,1.59,3.6,7.87,5.55,6.4,2.65,5.5,7.31,7.1,7.83,3.55,8.19,28.0,3.29,4.41,4.99,17.98,7.71,2.8,3.0,12.49,5.0,32.64,6.5,35.0,2.0,9.46,39.0,15.0,6.15,14.5,5.18,1.24,2.8,5.23,0.45,3.25,1.5,2.85,4.5,16.25,7.75,4.35,33.13,3.63,4.75,6.51,4.8,6.0,6.4,4.9,20.57,4.76,2.0,9.92,3.69,5.75,5.7,4.94,4.29,3.0,6.5,4.9,5.4,24.0,7.46,9.6,25.0,6.8,8.59,5.29,2.5,13.9,20.0,3.4,5.5,3.65,5.86,10.44,5.0,3.37,9.9,3.3,50.5,12.5,20.5,14.5,20.0,5.25,5.9,2.6,11.0,15.5,5.75,75.0,2.3,4.8,8.5,2.9,6.5,5.85,23.91,7.36,17.25,17.65,2.5,8.25,44.83,10.5,1.9,4.25,26.5,22.5,3.3,4.3,5.25,11.75,4.25,14.22,4.2,18.25,18.5,2.4,6.5,3.2,3.99,5.45,2.7,6.25,13.28,3.7,39.51,1.4,3.5,3.78,2.7,3.2,5.0,7.0,2.85,4.25,4.9,16.9,4.25,4.34,17.0,28.45,6.15,9.25,4.85,4.8,2.3,4.75,5.0,2.5,5.95,16.0,6.15,4.05,3.1,5.49,42.91,5.7,2.85,2.35,14.76,2.25,3.65,7.25,10.69,5.5,3.25,9.25,1.7,2.87,17.75,4.5,2.95,2.6,3.0,15.5,2.8,2.5,5.75,2.8,4.59,3.65,19.85,18.5,6.95,2.85,3.75,2.3,2.3,5.95,3.49,47.7,6.43,4.5,39.75,4.0,6.98,1.75,4.75,23.5,7.49,10.85,3.5,6.3,6.75,28.88,14.23,15.0,5.8,3.75,1.95,4.95,8.25,20.99,17.5,5.36,6.35,2.95,55.7,37.5,4.07,2.99,7.9,7.49,1.1,56.0,3.5,6.1,2.25,5.95,4.95,5.49,6.67,6.25,34.88,6.9,5.99,10.4,29.0,5.85,2.21,2.4,3.0,3.75,2.95,5.8,4.9,16.95,12.5,5.0,4.68,29.8,3.46,4.0,4.5,5.87,9.5,32.5,3.88,13.08,3.5,3.5,4.45,2.35,2.0,6.35,24.63,3.0,7.9,3.25,8.25,2.85,3.2,1.75,3.38,5.75,4.7,2.9,4.25,14.5,5.34,3.85,6.75,26.0,8.61,1.46,2.8,4.0,5.47,2.45,21.5,1.38,13.5,3.1,5.49,9.51,2.39,3.25,5.65,1.85,2.02,5.8,6.9,5.35,2.85,22.75,0.45,4.64,5.27,10.0,3.95,3.38,16.8,1.99,5.84,36.15,25.7,9.24,7.65,25.31,4.75,6.69,3.1,1.55,6.84,1.6,21.73,4.75,2.45,31.55,10.25,27.36,6.5,4.25,5.5,4.0,4.65,28.5,7.11,3.9,5.6,3.9,28.63,7.25,2.0,3.5,5.0,3.72,3.45,4.5,14.36,5.5,3.0,6.08,20.25,18.0,17.5,2.1,7.5,24.77,8.65,35.5,10.5,13.0,26.5,1.4,7.51,4.3,8.95,6.91,9.75,4.0,3.65,10.75,4.51,3.7,4.15,4.4,4.25,4.25,7.7,39.75,8.5,7.0,0.8,15.25,2.25,4.85,6.42,2.5,5.75,0.5,11.52,4.5,4.75,13.54,23.41,19.25,20.0,13.0,3.99,4.65,4.65,3.15,8.25,65.0,4.5,17.5,4.31,6.2,4.67,3.32,3.75,6.5,8.94,7.34,6.9,5.9,6.75,4.1,27.0,4.5,14.5,5.25,1.2,7.5,48.0,4.45,59.65,4.38,7.9,10.5,7.29,6.0,6.7,1.5,23.8,7.77,3.32,4.94,11.0,3.4,4.17,1.25,5.45,2.59,12.01,2.45,29.0,2.4,11.99,7.9,1.8,2.8,4.9,2.25,8.89,15.0,5.65,7.0,2.95,3.3,3.5,2.3,13.69,3.1,12.75,13.75,6.75,5.25,8.75,8.87,6.5,12.5,16.8,8.75,8.5,2.21,1.6,6.25,2.25,25.75,6.75,6.25,5.1,10.75,5.7,5.95,2.4,3.49,4.0,3.85,3.95,3.0,6.7,6.14,4.4,4.25,25.93,7.0,25.12,4.45,2.4,4.33,6.93,4.25,12.5,4.9,4.5,3.0,5.8,3.33,6.62,5.75,6.2,3.5,2.0,4.0,9.5,17.5,6.11,3.75,6.2,6.15,2.4,2.15,3.75,2.15,4.75,2.45,11.15,8.9,4.35,12.0,8.5,4.27,4.25,9.25,8.61,28.0,9.25,8.6,7.53,5.75,4.15,5.84,16.5,43.0,3.55,8.9,2.5,3.85,7.5,1.8,2.25,24.25,4.35,11.5,4.75,4.99,9.15,2.35,13.99,19.75,16.77,3.65,23.5,3.11,4.57,5.32,3.2,5.63,3.0,9.25,1.2,2.15,3.05,11.5,2.3,4.95,4.75,10.15,2.65,3.8,16.68,3.75,4.11,4.25,3.45,22.5,1.85,3.25,3.1,7.34,4.25,6.45,10.75,27.75,0.99,24.0,6.1,8.25,4.65,9.75,4.4,3.99,45.73,5.27,3.5,7.25,1.6,3.0,4.95,8.99,1.85,6.16,3.5,4.5,7.75,6.6,4.98,5.55,10.3,7.5,1.8,6.25,6.8,3.0,11.6,6.95,3.5,5.5,5.65,3.25,7.72,12.0,1.55,10.75,6.72,28.55,75.0,10.49,3.8,18.5,6.0,5.5,2.3,8.7,4.95,4.25,10.94,21.26,11.5,6.0,4.1,2.01,2.6,2.35,2.9,9.18,11.45,2.1,5.53,3.75,12.5,15.5,14.5,12.46,5.25,14.5,25.0,45.0,5.1,3.5,12.5,5.55,19.48,3.91,2.19,6.89,3.47,3.25,2.85,25.64,10.28,6.3,4.75,5.8,44.5,4.65,3.6,12.25,20.0,16.0,6.21,3.25,9.75,4.45,12.0,0.8,5.95,3.0,5.25,22.2,13.5,13.5,3.47,9.5,4.8,6.54,3.1,7.99,3.3,8.75,4.19,30.77,2.11,6.25,5.2,39.84,4.45,19.5,1.75,5.1,6.8,5.74,3.3,32.0,35.0,8.9,4.0,19.46,5.25,2.6,9.22,1.8,1.3,31.75,5.99,4.94,1.5,3.25,1.95,6.5,3.71,5.0,1.99,4.25,8.0,2.95,3.5,16.0,2.75,6.95,12.5,36.83,2.7,9.9,3.83,5.25,7.75,2.46,3.96,8.25,7.58,3.99,6.25,5.0,4.65,21.37,1.75,16.09,4.1,3.56,4.21,6.86,6.6,14.35,9.5,21.9,30.45,5.1,5.44,16.67,9.5,3.85,3.5,1.1,2.6,18.5,7.95,5.49,6.95,4.45,6.99,3.51,7.54,3.65,16.0,1.4,6.45,4.4,5.95,3.9,35.28,14.25,4.5,7.5,3.41,3.25,8.3,3.45,2.1,11.95,4.25,8.25,5.95,4.3,3.9,6.41,8.36,3.85,36.0,7.5,5.7,5.5,5.9,7.75,18.0,4.4,8.27,4.75,3.8,3.4,4.7,1.49,4.5,5.4,11.5,3.5,16.5,3.9,3.25,5.84,5.75,10.0,5.64,50.97,29.95,4.85,14.5,5.5,3.2,4.5,30.72,6.99,3.45,6.57,17.5,3.75,9.99,8.2,1.1,3.89,2.45,13.75,3.0,9.25,17.65,18.25,3.45,23.75,5.45,5.25,1.1,2.9,14.2,5.8,7.22,4.87,3.3,3.0,26.0,2.9,7.5,2.36,11.39,7.02,8.0,7.11,3.9,2.15,3.25,70.66,4.61,2.35,4.05,0.8,5.6,5.35,3.25,11.5,4.25,4.45,2.85,7.85,5.3,8.0,9.43,2.75,13.5,9.99,6.95,6.75,5.5,9.18,4.15,6.5,4.11,2.25,4.56,5.27,9.11,6.2,19.97,10.17,4.5,14.28,2.47,7.9,2.3,6.5,3.25,5.85,29.0,25.71,1.85,22.75,8.32,26.0,7.0,3.45,5.15,3.51,3.45,3.75,1.45,2.2,6.75,11.99,5.0,5.9,3.75,29.5,4.75,11.5,6.95,5.4,4.75,2.15,0.9,3.5,5.85,3.15,6.0,2.23,2.5,3.87,9.5,17.75,3.75,1.5,5.0,17.0,4.38,41.5,3.0,11.0,14.0,7.65,8.7,9.9,2.05,5.25,5.77,1.95,7.45,2.6,3.25,3.85,7.5,11.5,3.25,1.5,5.31,9.0,3.59,7.35,12.0,6.02,2.57,12.45,12.63,7.75,5.5,4.43,24.51,2.65,2.1,3.2,4.25,1.1,4.3,8.9,6.5,3.5,4.25,16.46,5.95,7.1,1.25,2.5,5.5,3.25,5.0,6.58,19.5,6.14,4.95,5.75,6.6,5.72,2.6,6.1,3.85,4.5,5.3,18.25,5.75,3.35,0.9,5.5,3.99,18.75,3.5,16.45,3.65,5.4,8.7,20.75,12.5,1.89,3.95,7.85,7.0,24.99,4.5,1.25,3.95,1.6,0.6,3.39,5.91,8.25,3.75,12.5,5.95,3.8,4.35,32.5,3.0,19.0,5.0,5.45,2.7,10.75,5.8,0.63,17.55,3.0,15.0,6.0,7.65,8.5,2.25,4.65,7.85,3.46,8.25,1.25,16.0,7.4,3.07,3.84,4.2,10.82,6.1,3.1,1.0,4.69,5.4,12.0,6.5,3.0,6.9,4.0,4.25,5.1,4.9,3.6,34.0,8.25,1.3,39.05,3.75,2.1,8.8,5.84,9.03,3.25,4.9,6.46,18.5,2.7,4.6,5.35,2.3,15.45,12.49,48.76,3.2,8.75,5.99,2.9,1.8,6.25,5.45,52.5,5.6,6.45,3.7,3.49,3.55,9.0,2.7,2.6,1.5,15.9,5.2,16.25,3.31,24.0,3.9,3.85,8.8,4.95,5.75,6.17,3.45,3.2,13.49,24.5,14.7,6.0,34.18,3.5,2.15,11.25,2.0,4.27,7.68,14.52,16.85,5.75,8.3,3.95,4.8,6.25,2.5,7.5,3.5,1.99,2.25,3.25,28.5,1.5,7.0,27.5,10.5,21.5,35.0,7.99,4.88,40.5,6.55,29.64,4.34,6.22,2.25,38.0,2.15,22.45,20.87,3.1,5.95,9.25,2.25,6.13,1.81,3.79,160.0,3.6,3.85,4.5,8.61,6.5,2.6,15.0,4.7,12.99,7.32,6.5,5.67,3.0,5.5,3.35,25.02,26.11,7.09,2.65,6.5,4.5,57.0,3.82,5.25,16.81,21.5,8.5,3.25,27.11,5.95,6.79,2.55,3.7,6.75,6.95,2.78,6.18,36.0,5.81,3.41,26.5,16.0,12.13,1.8,6.25,2.75,6.0,11.56,5.2,7.52,12.49,35.82,6.25,6.22,8.02,3.75,11.75,2.25,3.55,38.15,2.66,2.85,4.95,6.5,2.4,12.5,3.0,6.67,1.97,2.8,2.65,4.75,19.0,4.5,8.25,3.5,8.5,9.0,6.75,5.4,3.5,2.6,20.5,11.31,4.5,56.0,5.2,5.25,3.6,3.3,5.85,3.9,7.98,4.3,2.25,3.2,6.55,6.9,2.95,11.45,6.37,5.0,2.6,1.9,60.95,4.44,15.3,8.2,5.25,8.5,23.75,2.74,13.83,6.99,2.25,11.49,2.87,3.25,3.5,4.49,2.9,12.36,6.0,31.0,5.49,5.86,9.0,7.7,9.47,29.0,5.42,6.39,2.75,2.35,4.65,6.0,3.5,7.0,7.75,2.93,22.5,40.66,1.75,8.2,4.49,26.5,2.6,1.65,2.49,5.4,4.35,32.73,2.5,21.66,2.99,2.61,8.25,12.5,5.5,5.53,1.1,6.85,17.09,4.93,17.5,1.95,6.1,1.8,34.5,4.01,3.15,5.49,10.0,4.55,1.5,2.15,1.4,6.2,19.8,5.6,9.5,2.21,3.31,5.44,7.56,3.2,5.53,17.0,3.55,2.65,17.85,7.96,4.25,5.85,13.0,2.65,4.75,2.65,3.0,32.52,7.75,19.6,2.6,3.76,4.75,1.75,3.95,1.0,4.5,17.23,5.76,4.32,1.9,5.5,13.5,9.75,9.44,4.45,8.85,4.89,6.25,4.8,1.8,7.25,7.56,6.82,1.8,11.5,2.8,5.5,2.7,3.25,10.9,4.07,18.0,2.95,7.5,32.73,21.5,2.5,5.5,7.5,1.55,29.0,8.4,6.5,2.35,5.55,5.35,5.25,5.87,5.36,7.75,5.41,3.65,5.25,6.25,3.47,8.85,0.85,13.65,50.22,7.75,10.05,9.75,23.0,21.42,0.7,5.21,2.65,1.75,1.0,33.0,2.2,12.83,68.94,4.1,2.85,3.7,9.06,4.75,6.6,3.5,2.0,3.89,3.6,6.95,7.03,16.5,7.67,23.19,6.21,45.82,5.95,11.0,7.19,6.4,26.0,4.5,3.1,5.95,52.0,48.0,21.99,4.3,3.75,8.95,4.75,14.6,17.5,5.2,6.04,6.75,2.35,5.0,6.95,6.7,25.0,3.75,3.75,5.1,2.45,3.25,5.5,3.77,3.04,4.9,6.25,33.0,27.0,5.21,5.75,16.58,11.0,2.8,37.99,3.65,6.0,4.54,5.4,3.3,18.25,3.1,3.84,2.44,3.6,3.9,2.9,3.5,3.5,7.0,8.7,45.0,1.8,0.99,4.8,17.95,5.66,3.1,6.54,56.8,19.4,1.65,4.35,6.5,1.11,5.5,11.0,3.9,1.8,6.22,4.3,5.99,6.0,5.85,19.94,2.9,4.25,3.3,8.08,4.5,6.5,3.9,5.25,17.0,3.5,3.0,4.87,6.0,15.5,1.6,7.25,3.25,3.4,30.5,7.97,13.51,5.43,2.6,2.75,8.75,5.41,8.55,8.25,23.58,4.49,2.8,8.43,47.5,8.95,5.5,4.75,4.75,9.5,3.77,4.25,19.9,4.0,4.16,38.0,6.34,4.5,3.75,10.2,3.95,9.75,7.93,16.42,7.21,13.5,65.0,7.4,5.15,32.0,3.25,3.95,1.5,3.0,1.99,1.35,13.5,6.99,8.5,2.89,10.5,3.97,4.25,6.17,38.72,6.5,4.25,4.75,17.71,5.85,17.27,9.25,12.75,27.0,21.0,7.95,4.5,33.75,17.51,6.8,1.68,2.9,3.16,3.9,1.95,26.52,9.0,4.5,11.5,3.0,3.79,6.0,13.25,8.0,5.8,13.85,13.5,25.0,5.49,19.0,2.5,3.0,6.64,3.21,2.59,4.0,3.87,9.75,32.91,16.75,1.9,6.59,31.93,7.25,1.9,3.55,9.25,1.65,36.64,16.0,5.38,3.15,4.35,1.2,4.1,13.78,4.0,4.33,5.43,4.9,70.0,25.5,5.1,6.7,26.5,3.9,2.7,2.95,23.0,4.5,4.5,6.9,20.72,2.21,13.9,1.46,6.0,3.0,3.5,7.59,1.99,3.8,2.95,3.75,2.5,3.75,22.0,6.14,16.0,3.75,11.75,24.0,8.9,10.0,5.55,3.59,11.13,7.2,2.98,1.7,52.0,0.95,9.25,16.25,20.99,4.25,7.2,4.4,4.25,5.35,6.3,12.5,7.5,11.25,7.65,4.5,7.5,7.1,2.25,27.0,4.18,6.5,3.15,7.64,2.4,4.25,9.31,2.39,7.64,6.21,8.22,28.85,8.5,90.0,6.51,4.65,8.4,5.75,1.11,3.93,17.25,32.0,3.45,23.0,7.32,4.4,4.12,19.5,6.2,45.0,0.85,2.8,4.8,0.9,5.65,14.5,5.9,5.0,4.9,4.25,2.45,2.5,29.5,5.75,5.0,4.62,23.5,7.25,11.88,2.25,0.85,4.0,5.1,12.5,2.9,15.96,5.45,23.86,1.75,9.75,4.75,6.25,22.0,14.14,0.95,11.95,2.5,2.75,5.85,6.25,4.95,4.75,2.55,4.5,3.01,42.0,11.5,10.99,3.71,2.0,9.48,1.25,10.9,5.5,3.71,6.25,4.9,1.1,4.72,3.7,24.85,12.25,3.9,6.28,2.75,7.85,2.95,4.85,30.0,19.9,10.8,1.75,19.25,5.5,2.75,13.0,3.2,5.84,24.0,6.25,36.0,3.0,6.5,9.4,37.92,5.25,4.5,18.0,5.56,22.0,22.0,2.65,5.85,6.95,6.5,0.85,7.25,4.5,4.25,26.0,9.66,6.85,23.68,15.75,3.5,6.99,15.57,5.29,2.25,20.0,47.5,1.22,3.65,3.1,11.5,3.46,8.38,4.8,4.5,0.8,3.95,10.0,4.0,4.75,3.1,3.61,4.29,2.13,1.1,13.95,5.35,3.9,2.8,8.75,19.5,2.75,8.0,5.7,12.5,1.75,1.9,4.5,30.3,16.0,32.78,2.5,43.0,5.38,2.65,3.3,34.0,6.83,5.77,3.1,4.95,16.25,52.54,6.4,6.95,0.85,6.95,3.45,2.75,4.95,9.62,6.79,4.5,3.01,4.4,4.66,5.5,6.0,2.4,10.19,5.25,45.0,2.7,3.39,5.69,58.54,8.4,2.5,3.25,3.25,4.25,18.5,2.4,4.25,8.85,4.14,7.0,33.0,10.0,3.53,1.35,4.5,4.9,12.26,3.99,46.95,3.8,6.75,8.75,5.2,8.42,3.0,5.75,9.75,3.5,30.0,35.0,13.25,3.65,5.25,9.7,5.21,6.3,4.72,28.0,8.37,14.0,36.0,6.4,51.69,8.0,9.8,2.7,24.37,9.72,5.65,29.95,3.0,6.0,2.11,1.49,1.5,4.67,2.85,33.64,0.91,2.42,3.25,2.8,8.3,15.0,0.53,12.5,2.75,5.0,7.09,19.99,10.75,9.45,2.9,4.7,7.11,6.25,2.2,8.86,9.3,7.57,7.9,5.65,3.25,16.27,3.21,3.9,6.5,48.0,18.9,3.6,5.5,7.0,41.75,10.5,10.09,3.0,12.0,4.91,2.0,5.3,7.22,32.57,2.75,4.33,3.75,5.91,4.35,3.25,68.0,5.5,12.08,7.48,5.5,3.5,1.6,19.0,8.4,7.25,4.25,5.7,2.49,3.0,5.95,2.69,26.0,5.5,4.85,8.39,7.99,6.95,1.5,1.55,2.75,4.25,2.85,56.14,10.0,1.25,7.5,25.81,4.3,6.58,4.8,1.65,15.0,1.0,3.6,11.5,3.6,3.05,6.0,3.75,6.17,9.05,4.05,4.25,3.75,11.85,8.24,5.99,6.5,58.91,8.0,4.64,3.32,2.78,8.95,21.95,7.9,29.0,3.25,5.9,9.88,8.78,2.75,5.98,31.0,3.55,6.24,2.19,5.5,2.1,50.66,14.0,5.5,1.2,5.3,6.3,40.47,16.1,25.0,7.95,2.65,2.81,17.5,3.3,5.34,8.5,2.69,11.5,4.06,49.0,4.6,3.96,5.6,3.75,5.5,3.0,3.0,2.95,2.45,13.99,60.75,4.5,2.5,20.5,3.9,3.5,8.3,2.5,2.65,7.42,4.63,1.09,3.8,15.75,5.27,2.75,7.4,3.9,0.7,5.9,9.58,24.95,4.29,11.5,9.65,3.75,31.41,6.0,5.55,10.91,7.25,3.9,3.95,22.0,3.38,3.45,5.75,2.75,30.3,7.5,6.87,15.2,5.85,2.5,3.95,27.0,6.75,1.5,3.9,9.44,10.77,7.5,3.0,11.75,3.29,6.5,3.8,18.0,4.95,4.52,8.0,6.26,7.5,3.65,3.35,5.5,5.25,16.25,2.7,32.9,3.41,4.15,5.9,11.5,4.75,3.5,7.25,4.35,4.99,7.65,6.9,2.9,5.75,8.0,4.41,4.95,14.4,2.95,8.14,8.45,12.5,6.5,7.72,8.0,3.0,29.0,4.11,5.37,6.55,7.0,5.48,6.51,2.75,1.2,12.5,7.69,4.57,4.5,4.9,1.65,3.25,6.25,12.13,3.25,29.0,5.53,8.75,37.9,2.4,4.55,2.65,1.6,25.72,4.15,7.23,2.6,7.25,14.29,17.25,4.35,8.9,6.1,3.2,4.9,3.69,3.98,2.95,15.21,6.3,6.69,9.5,2.65,7.5,5.63,11.78,3.35,4.11,25.51,3.1,33.5,4.8,3.49,5.15,14.41,4.75,19.0,4.9,6.3,2.4,3.0,4.25,6.3,8.15,3.22,7.65,30.0,2.3,22.0,3.28,7.09,6.46,4.0,11.0,49.79,4.8,35.0,21.99,1.1,6.6,4.5,1.0,6.9,25.49,35.5,6.28,4.88,3.7,3.45,10.23,6.5,6.15,2.9,5.5,31.0,4.25,5.48,7.25,3.0,29.5,1.49,3.65,10.9,4.3,6.11,15.5,6.9,4.69,3.19,3.75,8.6,3.85,67.83,9.31,5.5,13.3,23.0,3.35,10.0,2.95,6.75,2.44,5.85,7.4,3.8,3.8,2.7,7.21,7.9,4.2,5.75,3.45,25.75,16.59,4.69,7.5,16.5,1.99,5.25,5.4,3.9,5.8,30.5,5.6,5.15,9.48,2.38,3.8,5.5,3.55,6.35,36.0,1.1,3.7,13.5,2.85,2.13,7.75,2.85,4.95,6.2,17.5,2.25,6.75,9.73,8.49,25.0,5.59,4.8,5.45,6.5,4.35,3.75,32.0,4.0,2.6,4.45,2.6,16.0,32.5,13.85,8.76,23.68,5.5,65.81,4.99,5.7,11.99,29.99,9.5,5.5,23.0,2.95,4.9,4.25,16.36,9.95,5.5,8.25,0.95,4.01,8.2,6.2,16.75,16.5,3.75,3.5,5.43,30.35,7.99,3.59,1.9,24.46,3.9,5.15,3.65,5.0,2.3,0.75,1.8,4.41,2.0,5.55,31.75,32.0,21.0,2.75,2.64,14.19,3.85,15.5,1.9,1.26,2.4,11.5,8.25,2.75,1.4,2.9,2.4,4.75,44.76,6.22,4.5,4.25,5.5,6.95,4.56,13.82,5.65,6.2,3.25,8.5,7.25,4.61,5.3,1.9,3.09,9.5,12.65,4.25,2.95,3.45,3.3,8.0,2.71,2.7,4.5,18.75,5.25,3.2,6.0,3.14,2.55,2.3,5.65,48.22,3.0,7.5,2.6,61.25,3.5,28.95,15.0,4.25,59.0,6.6,10.0,35.0,8.75,4.57,2.5,20.11,3.61,1.11,4.6,85.0,5.25,3.3,17.75,35.0,13.39,2.5,18.36,5.95,11.0,64.75,6.3,11.94,5.95,11.0,12.53,3.75,27.0,9.95,2.0,3.25,34.0,30.37,12.6,5.09,24.5,7.97,2.9,21.33,6.5,12.15,4.25,35.84,6.75,5.65,7.5,13.34,7.9,6.98,5.75,2.65,2.49,1.5,6.5,8.0,30.85,17.15,4.55,7.4,25.64,13.5,3.55,15.0,1.95,2.3,15.0,3.15,5.0,24.75,2.6,3.75,4.85,27.0,3.0,28.75,14.49,72.0,4.0,4.5,6.25,11.5,3.1,10.11,11.54,1.0,18.0,6.85,2.97,4.75,7.38,42.75,3.65,5.99,13.5,7.0,10.95,2.95,5.5,17.08,6.85,10.5,8.75,2.7,4.25,7.9,4.5,4.0,4.75,7.65,3.47,5.64,2.95,5.65,8.41,0.8,5.65,4.5,6.9,4.0,5.6,2.2,4.0,16.0,12.6,4.79,3.65,6.83,0.51,0.69,4.65,6.49,2.9,7.4,3.25,1.95,4.0,6.85,5.45,1.99,8.99,6.5,9.27,6.99,36.76,17.08,2.8,2.49,8.85,4.15,10.0,4.75,3.2,3.28,7.5,7.39,3.65,11.0,3.0,2.25,2.83,4.11,14.7,25.0,2.35,6.41,5.75,17.55,10.25,3.16,22.5,3.55,9.86,45.0,7.99,6.5,0.75,9.87,6.36,9.5,6.05,2.15,5.5,1.25,11.99,2.5,11.66,0.53,3.1,2.6,5.09,2.3,6.0,4.4,11.0,5.7,6.95,7.9,29.3,10.24,5.35,3.49,2.85,5.35,3.62,3.19,5.5,7.67,5.5,6.6,55.0,21.0,4.5,20.67,6.5,37.98,1.45,2.95,7.9,10.07,6.5,22.0,9.75,6.0,3.99,1.75,19.75,16.95,6.8,0.99,2.95,42.83,21.5,7.9,2.3,2.75,6.71,9.6,12.81,6.94,9.45,6.0,11.0,2.6,1.95,45.0,22.0,4.9,6.25,6.1,2.6,120.0,29.0,3.3,3.05,3.25,3.75,13.25,4.8,3.8,8.5,38.76,3.2,3.5,12.25,4.75,4.5,2.35,3.4,10.0,5.2,38.0,5.11,9.66,3.4,5.84,3.8,2.5,6.95,5.5,6.19,6.0,3.75,9.46,3.0,5.75,4.41,3.7,2.5,5.35,3.65,13.0,2.45,5.75,8.11,7.75,5.85,4.29,8.0,16.5,5.5,6.35,7.2,3.65,6.35,7.8,1.4,8.5,10.48,0.75,1.3,21.0,2.3,14.95,35.92,4.5,4.45,5.5,5.07,3.85,7.95,1.25,3.64,20.0,10.36,1.85,4.05,48.5,8.25,5.25,4.4,25.75,29.52,2.1,3.71,9.44,1.2,24.0,8.25,9.75,3.45,11.85,16.14,3.7,4.0,5.8,4.65,15.0,6.8,10.25,2.7,8.5,7.75,2.7,1.3,1.75,13.2,1.0,6.37,4.5,6.5,4.99,43.3,6.5,2.25,9.95,7.35,4.6,8.5,11.86,8.0,21.5,1.3,5.9,9.5,4.5,3.35,0.7,16.0,8.0,100.0,4.74,36.0,5.54,22.99,10.08,2.85,0.55,45.52,7.29,4.3,4.8,5.25,2.8,4.35,5.49,3.1,6.5,6.4,6.22,8.4,5.9,3.4,6.5,6.0,11.9,48.0,8.0,2.45,1.75,21.75,7.25,3.0,19.6,15.5,11.5,4.68,4.0,2.8,8.25,1.7,14.85,12.85,16.0,4.7,5.94,8.0,5.45,26.76,3.5,4.7,5.75,8.11,0.75,1.0,5.3,8.0,2.74,7.5,13.5,2.2,13.25,3.88,0.85,5.11,4.25,16.52,0.6,4.8,6.25,8.3,3.25,7.75,30.54,2.27,2.96,4.0,5.25,17.56,3.25,4.0,2.2,7.43,10.75,2.75,45.0,19.75,3.2,9.48,4.83,4.75,4.0,2.9,2.65,2.5],\"y0\":\" \",\"yaxis\":\"y\",\"type\":\"box\"}],                        {\"template\":{\"data\":{\"histogram2dcontour\":[{\"type\":\"histogram2dcontour\",\"colorbar\":{\"outlinewidth\":0,\"ticks\":\"\"},\"colorscale\":[[0.0,\"#0d0887\"],[0.1111111111111111,\"#46039f\"],[0.2222222222222222,\"#7201a8\"],[0.3333333333333333,\"#9c179e\"],[0.4444444444444444,\"#bd3786\"],[0.5555555555555556,\"#d8576b\"],[0.6666666666666666,\"#ed7953\"],[0.7777777777777778,\"#fb9f3a\"],[0.8888888888888888,\"#fdca26\"],[1.0,\"#f0f921\"]]}],\"choropleth\":[{\"type\":\"choropleth\",\"colorbar\":{\"outlinewidth\":0,\"ticks\":\"\"}}],\"histogram2d\":[{\"type\":\"histogram2d\",\"colorbar\":{\"outlinewidth\":0,\"ticks\":\"\"},\"colorscale\":[[0.0,\"#0d0887\"],[0.1111111111111111,\"#46039f\"],[0.2222222222222222,\"#7201a8\"],[0.3333333333333333,\"#9c179e\"],[0.4444444444444444,\"#bd3786\"],[0.5555555555555556,\"#d8576b\"],[0.6666666666666666,\"#ed7953\"],[0.7777777777777778,\"#fb9f3a\"],[0.8888888888888888,\"#fdca26\"],[1.0,\"#f0f921\"]]}],\"heatmap\":[{\"type\":\"heatmap\",\"colorbar\":{\"outlinewidth\":0,\"ticks\":\"\"},\"colorscale\":[[0.0,\"#0d0887\"],[0.1111111111111111,\"#46039f\"],[0.2222222222222222,\"#7201a8\"],[0.3333333333333333,\"#9c179e\"],[0.4444444444444444,\"#bd3786\"],[0.5555555555555556,\"#d8576b\"],[0.6666666666666666,\"#ed7953\"],[0.7777777777777778,\"#fb9f3a\"],[0.8888888888888888,\"#fdca26\"],[1.0,\"#f0f921\"]]}],\"heatmapgl\":[{\"type\":\"heatmapgl\",\"colorbar\":{\"outlinewidth\":0,\"ticks\":\"\"},\"colorscale\":[[0.0,\"#0d0887\"],[0.1111111111111111,\"#46039f\"],[0.2222222222222222,\"#7201a8\"],[0.3333333333333333,\"#9c179e\"],[0.4444444444444444,\"#bd3786\"],[0.5555555555555556,\"#d8576b\"],[0.6666666666666666,\"#ed7953\"],[0.7777777777777778,\"#fb9f3a\"],[0.8888888888888888,\"#fdca26\"],[1.0,\"#f0f921\"]]}],\"contourcarpet\":[{\"type\":\"contourcarpet\",\"colorbar\":{\"outlinewidth\":0,\"ticks\":\"\"}}],\"contour\":[{\"type\":\"contour\",\"colorbar\":{\"outlinewidth\":0,\"ticks\":\"\"},\"colorscale\":[[0.0,\"#0d0887\"],[0.1111111111111111,\"#46039f\"],[0.2222222222222222,\"#7201a8\"],[0.3333333333333333,\"#9c179e\"],[0.4444444444444444,\"#bd3786\"],[0.5555555555555556,\"#d8576b\"],[0.6666666666666666,\"#ed7953\"],[0.7777777777777778,\"#fb9f3a\"],[0.8888888888888888,\"#fdca26\"],[1.0,\"#f0f921\"]]}],\"surface\":[{\"type\":\"surface\",\"colorbar\":{\"outlinewidth\":0,\"ticks\":\"\"},\"colorscale\":[[0.0,\"#0d0887\"],[0.1111111111111111,\"#46039f\"],[0.2222222222222222,\"#7201a8\"],[0.3333333333333333,\"#9c179e\"],[0.4444444444444444,\"#bd3786\"],[0.5555555555555556,\"#d8576b\"],[0.6666666666666666,\"#ed7953\"],[0.7777777777777778,\"#fb9f3a\"],[0.8888888888888888,\"#fdca26\"],[1.0,\"#f0f921\"]]}],\"mesh3d\":[{\"type\":\"mesh3d\",\"colorbar\":{\"outlinewidth\":0,\"ticks\":\"\"}}],\"scatter\":[{\"fillpattern\":{\"fillmode\":\"overlay\",\"size\":10,\"solidity\":0.2},\"type\":\"scatter\"}],\"parcoords\":[{\"type\":\"parcoords\",\"line\":{\"colorbar\":{\"outlinewidth\":0,\"ticks\":\"\"}}}],\"scatterpolargl\":[{\"type\":\"scatterpolargl\",\"marker\":{\"colorbar\":{\"outlinewidth\":0,\"ticks\":\"\"}}}],\"bar\":[{\"error_x\":{\"color\":\"#2a3f5f\"},\"error_y\":{\"color\":\"#2a3f5f\"},\"marker\":{\"line\":{\"color\":\"#E5ECF6\",\"width\":0.5},\"pattern\":{\"fillmode\":\"overlay\",\"size\":10,\"solidity\":0.2}},\"type\":\"bar\"}],\"scattergeo\":[{\"type\":\"scattergeo\",\"marker\":{\"colorbar\":{\"outlinewidth\":0,\"ticks\":\"\"}}}],\"scatterpolar\":[{\"type\":\"scatterpolar\",\"marker\":{\"colorbar\":{\"outlinewidth\":0,\"ticks\":\"\"}}}],\"histogram\":[{\"marker\":{\"pattern\":{\"fillmode\":\"overlay\",\"size\":10,\"solidity\":0.2}},\"type\":\"histogram\"}],\"scattergl\":[{\"type\":\"scattergl\",\"marker\":{\"colorbar\":{\"outlinewidth\":0,\"ticks\":\"\"}}}],\"scatter3d\":[{\"type\":\"scatter3d\",\"line\":{\"colorbar\":{\"outlinewidth\":0,\"ticks\":\"\"}},\"marker\":{\"colorbar\":{\"outlinewidth\":0,\"ticks\":\"\"}}}],\"scattermapbox\":[{\"type\":\"scattermapbox\",\"marker\":{\"colorbar\":{\"outlinewidth\":0,\"ticks\":\"\"}}}],\"scatterternary\":[{\"type\":\"scatterternary\",\"marker\":{\"colorbar\":{\"outlinewidth\":0,\"ticks\":\"\"}}}],\"scattercarpet\":[{\"type\":\"scattercarpet\",\"marker\":{\"colorbar\":{\"outlinewidth\":0,\"ticks\":\"\"}}}],\"carpet\":[{\"aaxis\":{\"endlinecolor\":\"#2a3f5f\",\"gridcolor\":\"white\",\"linecolor\":\"white\",\"minorgridcolor\":\"white\",\"startlinecolor\":\"#2a3f5f\"},\"baxis\":{\"endlinecolor\":\"#2a3f5f\",\"gridcolor\":\"white\",\"linecolor\":\"white\",\"minorgridcolor\":\"white\",\"startlinecolor\":\"#2a3f5f\"},\"type\":\"carpet\"}],\"table\":[{\"cells\":{\"fill\":{\"color\":\"#EBF0F8\"},\"line\":{\"color\":\"white\"}},\"header\":{\"fill\":{\"color\":\"#C8D4E3\"},\"line\":{\"color\":\"white\"}},\"type\":\"table\"}],\"barpolar\":[{\"marker\":{\"line\":{\"color\":\"#E5ECF6\",\"width\":0.5},\"pattern\":{\"fillmode\":\"overlay\",\"size\":10,\"solidity\":0.2}},\"type\":\"barpolar\"}],\"pie\":[{\"automargin\":true,\"type\":\"pie\"}]},\"layout\":{\"autotypenumbers\":\"strict\",\"colorway\":[\"#636efa\",\"#EF553B\",\"#00cc96\",\"#ab63fa\",\"#FFA15A\",\"#19d3f3\",\"#FF6692\",\"#B6E880\",\"#FF97FF\",\"#FECB52\"],\"font\":{\"color\":\"#2a3f5f\"},\"hovermode\":\"closest\",\"hoverlabel\":{\"align\":\"left\"},\"paper_bgcolor\":\"white\",\"plot_bgcolor\":\"#E5ECF6\",\"polar\":{\"bgcolor\":\"#E5ECF6\",\"angularaxis\":{\"gridcolor\":\"white\",\"linecolor\":\"white\",\"ticks\":\"\"},\"radialaxis\":{\"gridcolor\":\"white\",\"linecolor\":\"white\",\"ticks\":\"\"}},\"ternary\":{\"bgcolor\":\"#E5ECF6\",\"aaxis\":{\"gridcolor\":\"white\",\"linecolor\":\"white\",\"ticks\":\"\"},\"baxis\":{\"gridcolor\":\"white\",\"linecolor\":\"white\",\"ticks\":\"\"},\"caxis\":{\"gridcolor\":\"white\",\"linecolor\":\"white\",\"ticks\":\"\"}},\"coloraxis\":{\"colorbar\":{\"outlinewidth\":0,\"ticks\":\"\"}},\"colorscale\":{\"sequential\":[[0.0,\"#0d0887\"],[0.1111111111111111,\"#46039f\"],[0.2222222222222222,\"#7201a8\"],[0.3333333333333333,\"#9c179e\"],[0.4444444444444444,\"#bd3786\"],[0.5555555555555556,\"#d8576b\"],[0.6666666666666666,\"#ed7953\"],[0.7777777777777778,\"#fb9f3a\"],[0.8888888888888888,\"#fdca26\"],[1.0,\"#f0f921\"]],\"sequentialminus\":[[0.0,\"#0d0887\"],[0.1111111111111111,\"#46039f\"],[0.2222222222222222,\"#7201a8\"],[0.3333333333333333,\"#9c179e\"],[0.4444444444444444,\"#bd3786\"],[0.5555555555555556,\"#d8576b\"],[0.6666666666666666,\"#ed7953\"],[0.7777777777777778,\"#fb9f3a\"],[0.8888888888888888,\"#fdca26\"],[1.0,\"#f0f921\"]],\"diverging\":[[0,\"#8e0152\"],[0.1,\"#c51b7d\"],[0.2,\"#de77ae\"],[0.3,\"#f1b6da\"],[0.4,\"#fde0ef\"],[0.5,\"#f7f7f7\"],[0.6,\"#e6f5d0\"],[0.7,\"#b8e186\"],[0.8,\"#7fbc41\"],[0.9,\"#4d9221\"],[1,\"#276419\"]]},\"xaxis\":{\"gridcolor\":\"white\",\"linecolor\":\"white\",\"ticks\":\"\",\"title\":{\"standoff\":15},\"zerolinecolor\":\"white\",\"automargin\":true,\"zerolinewidth\":2},\"yaxis\":{\"gridcolor\":\"white\",\"linecolor\":\"white\",\"ticks\":\"\",\"title\":{\"standoff\":15},\"zerolinecolor\":\"white\",\"automargin\":true,\"zerolinewidth\":2},\"scene\":{\"xaxis\":{\"backgroundcolor\":\"#E5ECF6\",\"gridcolor\":\"white\",\"linecolor\":\"white\",\"showbackground\":true,\"ticks\":\"\",\"zerolinecolor\":\"white\",\"gridwidth\":2},\"yaxis\":{\"backgroundcolor\":\"#E5ECF6\",\"gridcolor\":\"white\",\"linecolor\":\"white\",\"showbackground\":true,\"ticks\":\"\",\"zerolinecolor\":\"white\",\"gridwidth\":2},\"zaxis\":{\"backgroundcolor\":\"#E5ECF6\",\"gridcolor\":\"white\",\"linecolor\":\"white\",\"showbackground\":true,\"ticks\":\"\",\"zerolinecolor\":\"white\",\"gridwidth\":2}},\"shapedefaults\":{\"line\":{\"color\":\"#2a3f5f\"}},\"annotationdefaults\":{\"arrowcolor\":\"#2a3f5f\",\"arrowhead\":0,\"arrowwidth\":1},\"geo\":{\"bgcolor\":\"white\",\"landcolor\":\"#E5ECF6\",\"subunitcolor\":\"white\",\"showland\":true,\"showlakes\":true,\"lakecolor\":\"white\"},\"title\":{\"x\":0.05},\"mapbox\":{\"style\":\"light\"}}},\"xaxis\":{\"anchor\":\"y\",\"domain\":[0.0,1.0]},\"yaxis\":{\"anchor\":\"x\",\"domain\":[0.0,1.0],\"title\":{\"text\":\"Price\"}},\"legend\":{\"tracegroupgap\":0},\"margin\":{\"t\":60},\"boxmode\":\"group\"},                        {\"responsive\": true}                    ).then(function(){\n",
              "                            \n",
              "var gd = document.getElementById('6c1eab19-7576-48f9-8fd6-4085208c102b');\n",
              "var x = new MutationObserver(function (mutations, observer) {{\n",
              "        var display = window.getComputedStyle(gd).display;\n",
              "        if (!display || display === 'none') {{\n",
              "            console.log([gd, 'removed!']);\n",
              "            Plotly.purge(gd);\n",
              "            observer.disconnect();\n",
              "        }}\n",
              "}});\n",
              "\n",
              "// Listen for the removal of the full notebook cells\n",
              "var notebookContainer = gd.closest('#notebook-container');\n",
              "if (notebookContainer) {{\n",
              "    x.observe(notebookContainer, {childList: true});\n",
              "}}\n",
              "\n",
              "// Listen for the clearing of the current output cell\n",
              "var outputEl = gd.closest('.output');\n",
              "if (outputEl) {{\n",
              "    x.observe(outputEl, {childList: true});\n",
              "}}\n",
              "\n",
              "                        })                };                            </script>        </div>\n",
              "</body>\n",
              "</html>"
            ]
          },
          "metadata": {}
        }
      ]
    },
    {
      "cell_type": "code",
      "source": [
        "df.drop(index=df[(df['Price']>80) | (df['Price'] < 1 )].index, inplace=True)"
      ],
      "metadata": {
        "id": "AqWJ2TYg6BY2"
      },
      "execution_count": 28,
      "outputs": []
    },
    {
      "cell_type": "markdown",
      "source": [
        "# Correlation"
      ],
      "metadata": {
        "id": "1hDRf_qt9QCO"
      }
    },
    {
      "cell_type": "code",
      "source": [
        "corr_matrix= df.corr(numeric_only=True)\n",
        "corr_matrix"
      ],
      "metadata": {
        "colab": {
          "base_uri": "https://localhost:8080/",
          "height": 268
        },
        "id": "gFNodlDt9S4f",
        "outputId": "53fc906b-fab2-4980-b453-9dbba348fe76"
      },
      "execution_count": 30,
      "outputs": [
        {
          "output_type": "execute_result",
          "data": {
            "text/plain": [
              "                       Year  Kilometers_Driven   Mileage    Engine     Power  \\\n",
              "Year               1.000000          -0.512122  0.284607 -0.075266 -0.018719   \n",
              "Kilometers_Driven -0.512122           1.000000 -0.126554  0.167114  0.031917   \n",
              "Mileage            0.284607          -0.126554  1.000000 -0.646322 -0.566572   \n",
              "Engine            -0.075266           0.167114 -0.646322  1.000000  0.875458   \n",
              "Power             -0.018719           0.031917 -0.566572  0.875458  1.000000   \n",
              "Seats              0.035959           0.183769 -0.336627  0.394018  0.119441   \n",
              "Price              0.296883          -0.176815 -0.351340  0.672327  0.776446   \n",
              "\n",
              "                      Seats     Price  \n",
              "Year               0.035959  0.296883  \n",
              "Kilometers_Driven  0.183769 -0.176815  \n",
              "Mileage           -0.336627 -0.351340  \n",
              "Engine             0.394018  0.672327  \n",
              "Power              0.119441  0.776446  \n",
              "Seats              1.000000  0.088478  \n",
              "Price              0.088478  1.000000  "
            ],
            "text/html": [
              "\n",
              "  <div id=\"df-11fb5941-818e-47dc-aabb-43bfe1c02712\" class=\"colab-df-container\">\n",
              "    <div>\n",
              "<style scoped>\n",
              "    .dataframe tbody tr th:only-of-type {\n",
              "        vertical-align: middle;\n",
              "    }\n",
              "\n",
              "    .dataframe tbody tr th {\n",
              "        vertical-align: top;\n",
              "    }\n",
              "\n",
              "    .dataframe thead th {\n",
              "        text-align: right;\n",
              "    }\n",
              "</style>\n",
              "<table border=\"1\" class=\"dataframe\">\n",
              "  <thead>\n",
              "    <tr style=\"text-align: right;\">\n",
              "      <th></th>\n",
              "      <th>Year</th>\n",
              "      <th>Kilometers_Driven</th>\n",
              "      <th>Mileage</th>\n",
              "      <th>Engine</th>\n",
              "      <th>Power</th>\n",
              "      <th>Seats</th>\n",
              "      <th>Price</th>\n",
              "    </tr>\n",
              "  </thead>\n",
              "  <tbody>\n",
              "    <tr>\n",
              "      <th>Year</th>\n",
              "      <td>1.000000</td>\n",
              "      <td>-0.512122</td>\n",
              "      <td>0.284607</td>\n",
              "      <td>-0.075266</td>\n",
              "      <td>-0.018719</td>\n",
              "      <td>0.035959</td>\n",
              "      <td>0.296883</td>\n",
              "    </tr>\n",
              "    <tr>\n",
              "      <th>Kilometers_Driven</th>\n",
              "      <td>-0.512122</td>\n",
              "      <td>1.000000</td>\n",
              "      <td>-0.126554</td>\n",
              "      <td>0.167114</td>\n",
              "      <td>0.031917</td>\n",
              "      <td>0.183769</td>\n",
              "      <td>-0.176815</td>\n",
              "    </tr>\n",
              "    <tr>\n",
              "      <th>Mileage</th>\n",
              "      <td>0.284607</td>\n",
              "      <td>-0.126554</td>\n",
              "      <td>1.000000</td>\n",
              "      <td>-0.646322</td>\n",
              "      <td>-0.566572</td>\n",
              "      <td>-0.336627</td>\n",
              "      <td>-0.351340</td>\n",
              "    </tr>\n",
              "    <tr>\n",
              "      <th>Engine</th>\n",
              "      <td>-0.075266</td>\n",
              "      <td>0.167114</td>\n",
              "      <td>-0.646322</td>\n",
              "      <td>1.000000</td>\n",
              "      <td>0.875458</td>\n",
              "      <td>0.394018</td>\n",
              "      <td>0.672327</td>\n",
              "    </tr>\n",
              "    <tr>\n",
              "      <th>Power</th>\n",
              "      <td>-0.018719</td>\n",
              "      <td>0.031917</td>\n",
              "      <td>-0.566572</td>\n",
              "      <td>0.875458</td>\n",
              "      <td>1.000000</td>\n",
              "      <td>0.119441</td>\n",
              "      <td>0.776446</td>\n",
              "    </tr>\n",
              "    <tr>\n",
              "      <th>Seats</th>\n",
              "      <td>0.035959</td>\n",
              "      <td>0.183769</td>\n",
              "      <td>-0.336627</td>\n",
              "      <td>0.394018</td>\n",
              "      <td>0.119441</td>\n",
              "      <td>1.000000</td>\n",
              "      <td>0.088478</td>\n",
              "    </tr>\n",
              "    <tr>\n",
              "      <th>Price</th>\n",
              "      <td>0.296883</td>\n",
              "      <td>-0.176815</td>\n",
              "      <td>-0.351340</td>\n",
              "      <td>0.672327</td>\n",
              "      <td>0.776446</td>\n",
              "      <td>0.088478</td>\n",
              "      <td>1.000000</td>\n",
              "    </tr>\n",
              "  </tbody>\n",
              "</table>\n",
              "</div>\n",
              "    <div class=\"colab-df-buttons\">\n",
              "\n",
              "  <div class=\"colab-df-container\">\n",
              "    <button class=\"colab-df-convert\" onclick=\"convertToInteractive('df-11fb5941-818e-47dc-aabb-43bfe1c02712')\"\n",
              "            title=\"Convert this dataframe to an interactive table.\"\n",
              "            style=\"display:none;\">\n",
              "\n",
              "  <svg xmlns=\"http://www.w3.org/2000/svg\" height=\"24px\" viewBox=\"0 -960 960 960\">\n",
              "    <path d=\"M120-120v-720h720v720H120Zm60-500h600v-160H180v160Zm220 220h160v-160H400v160Zm0 220h160v-160H400v160ZM180-400h160v-160H180v160Zm440 0h160v-160H620v160ZM180-180h160v-160H180v160Zm440 0h160v-160H620v160Z\"/>\n",
              "  </svg>\n",
              "    </button>\n",
              "\n",
              "  <style>\n",
              "    .colab-df-container {\n",
              "      display:flex;\n",
              "      gap: 12px;\n",
              "    }\n",
              "\n",
              "    .colab-df-convert {\n",
              "      background-color: #E8F0FE;\n",
              "      border: none;\n",
              "      border-radius: 50%;\n",
              "      cursor: pointer;\n",
              "      display: none;\n",
              "      fill: #1967D2;\n",
              "      height: 32px;\n",
              "      padding: 0 0 0 0;\n",
              "      width: 32px;\n",
              "    }\n",
              "\n",
              "    .colab-df-convert:hover {\n",
              "      background-color: #E2EBFA;\n",
              "      box-shadow: 0px 1px 2px rgba(60, 64, 67, 0.3), 0px 1px 3px 1px rgba(60, 64, 67, 0.15);\n",
              "      fill: #174EA6;\n",
              "    }\n",
              "\n",
              "    .colab-df-buttons div {\n",
              "      margin-bottom: 4px;\n",
              "    }\n",
              "\n",
              "    [theme=dark] .colab-df-convert {\n",
              "      background-color: #3B4455;\n",
              "      fill: #D2E3FC;\n",
              "    }\n",
              "\n",
              "    [theme=dark] .colab-df-convert:hover {\n",
              "      background-color: #434B5C;\n",
              "      box-shadow: 0px 1px 3px 1px rgba(0, 0, 0, 0.15);\n",
              "      filter: drop-shadow(0px 1px 2px rgba(0, 0, 0, 0.3));\n",
              "      fill: #FFFFFF;\n",
              "    }\n",
              "  </style>\n",
              "\n",
              "    <script>\n",
              "      const buttonEl =\n",
              "        document.querySelector('#df-11fb5941-818e-47dc-aabb-43bfe1c02712 button.colab-df-convert');\n",
              "      buttonEl.style.display =\n",
              "        google.colab.kernel.accessAllowed ? 'block' : 'none';\n",
              "\n",
              "      async function convertToInteractive(key) {\n",
              "        const element = document.querySelector('#df-11fb5941-818e-47dc-aabb-43bfe1c02712');\n",
              "        const dataTable =\n",
              "          await google.colab.kernel.invokeFunction('convertToInteractive',\n",
              "                                                    [key], {});\n",
              "        if (!dataTable) return;\n",
              "\n",
              "        const docLinkHtml = 'Like what you see? Visit the ' +\n",
              "          '<a target=\"_blank\" href=https://colab.research.google.com/notebooks/data_table.ipynb>data table notebook</a>'\n",
              "          + ' to learn more about interactive tables.';\n",
              "        element.innerHTML = '';\n",
              "        dataTable['output_type'] = 'display_data';\n",
              "        await google.colab.output.renderOutput(dataTable, element);\n",
              "        const docLink = document.createElement('div');\n",
              "        docLink.innerHTML = docLinkHtml;\n",
              "        element.appendChild(docLink);\n",
              "      }\n",
              "    </script>\n",
              "  </div>\n",
              "\n",
              "\n",
              "<div id=\"df-842ab8e3-c152-45f2-b7ee-13c511b06455\">\n",
              "  <button class=\"colab-df-quickchart\" onclick=\"quickchart('df-842ab8e3-c152-45f2-b7ee-13c511b06455')\"\n",
              "            title=\"Suggest charts\"\n",
              "            style=\"display:none;\">\n",
              "\n",
              "<svg xmlns=\"http://www.w3.org/2000/svg\" height=\"24px\"viewBox=\"0 0 24 24\"\n",
              "     width=\"24px\">\n",
              "    <g>\n",
              "        <path d=\"M19 3H5c-1.1 0-2 .9-2 2v14c0 1.1.9 2 2 2h14c1.1 0 2-.9 2-2V5c0-1.1-.9-2-2-2zM9 17H7v-7h2v7zm4 0h-2V7h2v10zm4 0h-2v-4h2v4z\"/>\n",
              "    </g>\n",
              "</svg>\n",
              "  </button>\n",
              "\n",
              "<style>\n",
              "  .colab-df-quickchart {\n",
              "      --bg-color: #E8F0FE;\n",
              "      --fill-color: #1967D2;\n",
              "      --hover-bg-color: #E2EBFA;\n",
              "      --hover-fill-color: #174EA6;\n",
              "      --disabled-fill-color: #AAA;\n",
              "      --disabled-bg-color: #DDD;\n",
              "  }\n",
              "\n",
              "  [theme=dark] .colab-df-quickchart {\n",
              "      --bg-color: #3B4455;\n",
              "      --fill-color: #D2E3FC;\n",
              "      --hover-bg-color: #434B5C;\n",
              "      --hover-fill-color: #FFFFFF;\n",
              "      --disabled-bg-color: #3B4455;\n",
              "      --disabled-fill-color: #666;\n",
              "  }\n",
              "\n",
              "  .colab-df-quickchart {\n",
              "    background-color: var(--bg-color);\n",
              "    border: none;\n",
              "    border-radius: 50%;\n",
              "    cursor: pointer;\n",
              "    display: none;\n",
              "    fill: var(--fill-color);\n",
              "    height: 32px;\n",
              "    padding: 0;\n",
              "    width: 32px;\n",
              "  }\n",
              "\n",
              "  .colab-df-quickchart:hover {\n",
              "    background-color: var(--hover-bg-color);\n",
              "    box-shadow: 0 1px 2px rgba(60, 64, 67, 0.3), 0 1px 3px 1px rgba(60, 64, 67, 0.15);\n",
              "    fill: var(--button-hover-fill-color);\n",
              "  }\n",
              "\n",
              "  .colab-df-quickchart-complete:disabled,\n",
              "  .colab-df-quickchart-complete:disabled:hover {\n",
              "    background-color: var(--disabled-bg-color);\n",
              "    fill: var(--disabled-fill-color);\n",
              "    box-shadow: none;\n",
              "  }\n",
              "\n",
              "  .colab-df-spinner {\n",
              "    border: 2px solid var(--fill-color);\n",
              "    border-color: transparent;\n",
              "    border-bottom-color: var(--fill-color);\n",
              "    animation:\n",
              "      spin 1s steps(1) infinite;\n",
              "  }\n",
              "\n",
              "  @keyframes spin {\n",
              "    0% {\n",
              "      border-color: transparent;\n",
              "      border-bottom-color: var(--fill-color);\n",
              "      border-left-color: var(--fill-color);\n",
              "    }\n",
              "    20% {\n",
              "      border-color: transparent;\n",
              "      border-left-color: var(--fill-color);\n",
              "      border-top-color: var(--fill-color);\n",
              "    }\n",
              "    30% {\n",
              "      border-color: transparent;\n",
              "      border-left-color: var(--fill-color);\n",
              "      border-top-color: var(--fill-color);\n",
              "      border-right-color: var(--fill-color);\n",
              "    }\n",
              "    40% {\n",
              "      border-color: transparent;\n",
              "      border-right-color: var(--fill-color);\n",
              "      border-top-color: var(--fill-color);\n",
              "    }\n",
              "    60% {\n",
              "      border-color: transparent;\n",
              "      border-right-color: var(--fill-color);\n",
              "    }\n",
              "    80% {\n",
              "      border-color: transparent;\n",
              "      border-right-color: var(--fill-color);\n",
              "      border-bottom-color: var(--fill-color);\n",
              "    }\n",
              "    90% {\n",
              "      border-color: transparent;\n",
              "      border-bottom-color: var(--fill-color);\n",
              "    }\n",
              "  }\n",
              "</style>\n",
              "\n",
              "  <script>\n",
              "    async function quickchart(key) {\n",
              "      const quickchartButtonEl =\n",
              "        document.querySelector('#' + key + ' button');\n",
              "      quickchartButtonEl.disabled = true;  // To prevent multiple clicks.\n",
              "      quickchartButtonEl.classList.add('colab-df-spinner');\n",
              "      try {\n",
              "        const charts = await google.colab.kernel.invokeFunction(\n",
              "            'suggestCharts', [key], {});\n",
              "      } catch (error) {\n",
              "        console.error('Error during call to suggestCharts:', error);\n",
              "      }\n",
              "      quickchartButtonEl.classList.remove('colab-df-spinner');\n",
              "      quickchartButtonEl.classList.add('colab-df-quickchart-complete');\n",
              "    }\n",
              "    (() => {\n",
              "      let quickchartButtonEl =\n",
              "        document.querySelector('#df-842ab8e3-c152-45f2-b7ee-13c511b06455 button');\n",
              "      quickchartButtonEl.style.display =\n",
              "        google.colab.kernel.accessAllowed ? 'block' : 'none';\n",
              "    })();\n",
              "  </script>\n",
              "</div>\n",
              "\n",
              "  <div id=\"id_e679d8f1-c2bc-4670-9c9e-6efec84f8999\">\n",
              "    <style>\n",
              "      .colab-df-generate {\n",
              "        background-color: #E8F0FE;\n",
              "        border: none;\n",
              "        border-radius: 50%;\n",
              "        cursor: pointer;\n",
              "        display: none;\n",
              "        fill: #1967D2;\n",
              "        height: 32px;\n",
              "        padding: 0 0 0 0;\n",
              "        width: 32px;\n",
              "      }\n",
              "\n",
              "      .colab-df-generate:hover {\n",
              "        background-color: #E2EBFA;\n",
              "        box-shadow: 0px 1px 2px rgba(60, 64, 67, 0.3), 0px 1px 3px 1px rgba(60, 64, 67, 0.15);\n",
              "        fill: #174EA6;\n",
              "      }\n",
              "\n",
              "      [theme=dark] .colab-df-generate {\n",
              "        background-color: #3B4455;\n",
              "        fill: #D2E3FC;\n",
              "      }\n",
              "\n",
              "      [theme=dark] .colab-df-generate:hover {\n",
              "        background-color: #434B5C;\n",
              "        box-shadow: 0px 1px 3px 1px rgba(0, 0, 0, 0.15);\n",
              "        filter: drop-shadow(0px 1px 2px rgba(0, 0, 0, 0.3));\n",
              "        fill: #FFFFFF;\n",
              "      }\n",
              "    </style>\n",
              "    <button class=\"colab-df-generate\" onclick=\"generateWithVariable('corr_matrix')\"\n",
              "            title=\"Generate code using this dataframe.\"\n",
              "            style=\"display:none;\">\n",
              "\n",
              "  <svg xmlns=\"http://www.w3.org/2000/svg\" height=\"24px\"viewBox=\"0 0 24 24\"\n",
              "       width=\"24px\">\n",
              "    <path d=\"M7,19H8.4L18.45,9,17,7.55,7,17.6ZM5,21V16.75L18.45,3.32a2,2,0,0,1,2.83,0l1.4,1.43a1.91,1.91,0,0,1,.58,1.4,1.91,1.91,0,0,1-.58,1.4L9.25,21ZM18.45,9,17,7.55Zm-12,3A5.31,5.31,0,0,0,4.9,8.1,5.31,5.31,0,0,0,1,6.5,5.31,5.31,0,0,0,4.9,4.9,5.31,5.31,0,0,0,6.5,1,5.31,5.31,0,0,0,8.1,4.9,5.31,5.31,0,0,0,12,6.5,5.46,5.46,0,0,0,6.5,12Z\"/>\n",
              "  </svg>\n",
              "    </button>\n",
              "    <script>\n",
              "      (() => {\n",
              "      const buttonEl =\n",
              "        document.querySelector('#id_e679d8f1-c2bc-4670-9c9e-6efec84f8999 button.colab-df-generate');\n",
              "      buttonEl.style.display =\n",
              "        google.colab.kernel.accessAllowed ? 'block' : 'none';\n",
              "\n",
              "      buttonEl.onclick = () => {\n",
              "        google.colab.notebook.generateWithVariable('corr_matrix');\n",
              "      }\n",
              "      })();\n",
              "    </script>\n",
              "  </div>\n",
              "\n",
              "    </div>\n",
              "  </div>\n"
            ],
            "application/vnd.google.colaboratory.intrinsic+json": {
              "type": "dataframe",
              "variable_name": "corr_matrix",
              "summary": "{\n  \"name\": \"corr_matrix\",\n  \"rows\": 7,\n  \"fields\": [\n    {\n      \"column\": \"Year\",\n      \"properties\": {\n        \"dtype\": \"number\",\n        \"std\": 0.4641483215614405,\n        \"min\": -0.5121218901727426,\n        \"max\": 1.0,\n        \"num_unique_values\": 7,\n        \"samples\": [\n          1.0,\n          -0.5121218901727426,\n          0.035958795054736724\n        ],\n        \"semantic_type\": \"\",\n        \"description\": \"\"\n      }\n    },\n    {\n      \"column\": \"Kilometers_Driven\",\n      \"properties\": {\n        \"dtype\": \"number\",\n        \"std\": 0.4701574196484348,\n        \"min\": -0.5121218901727426,\n        \"max\": 1.0,\n        \"num_unique_values\": 7,\n        \"samples\": [\n          -0.5121218901727426,\n          1.0,\n          0.18376864253166839\n        ],\n        \"semantic_type\": \"\",\n        \"description\": \"\"\n      }\n    },\n    {\n      \"column\": \"Mileage\",\n      \"properties\": {\n        \"dtype\": \"number\",\n        \"std\": 0.5764384973312409,\n        \"min\": -0.646322166847979,\n        \"max\": 1.0,\n        \"num_unique_values\": 7,\n        \"samples\": [\n          0.28460714249779856,\n          -0.1265543485998216,\n          -0.336626953553942\n        ],\n        \"semantic_type\": \"\",\n        \"description\": \"\"\n      }\n    },\n    {\n      \"column\": \"Engine\",\n      \"properties\": {\n        \"dtype\": \"number\",\n        \"std\": 0.5789119223252253,\n        \"min\": -0.646322166847979,\n        \"max\": 1.0,\n        \"num_unique_values\": 7,\n        \"samples\": [\n          -0.07526581546032221,\n          0.1671142383623383,\n          0.3940183511033208\n        ],\n        \"semantic_type\": \"\",\n        \"description\": \"\"\n      }\n    },\n    {\n      \"column\": \"Power\",\n      \"properties\": {\n        \"dtype\": \"number\",\n        \"std\": 0.5778069111610301,\n        \"min\": -0.5665723961461056,\n        \"max\": 1.0,\n        \"num_unique_values\": 7,\n        \"samples\": [\n          -0.01871933683295539,\n          0.03191696004995206,\n          0.1194410241302461\n        ],\n        \"semantic_type\": \"\",\n        \"description\": \"\"\n      }\n    },\n    {\n      \"column\": \"Seats\",\n      \"properties\": {\n        \"dtype\": \"number\",\n        \"std\": 0.4104222209573651,\n        \"min\": -0.336626953553942,\n        \"max\": 1.0,\n        \"num_unique_values\": 7,\n        \"samples\": [\n          0.035958795054736724,\n          0.18376864253166839,\n          1.0\n        ],\n        \"semantic_type\": \"\",\n        \"description\": \"\"\n      }\n    },\n    {\n      \"column\": \"Price\",\n      \"properties\": {\n        \"dtype\": \"number\",\n        \"std\": 0.507594917223681,\n        \"min\": -0.3513404817314827,\n        \"max\": 1.0,\n        \"num_unique_values\": 7,\n        \"samples\": [\n          0.29688327743979237,\n          -0.176814708970442,\n          0.08847811147833373\n        ],\n        \"semantic_type\": \"\",\n        \"description\": \"\"\n      }\n    }\n  ]\n}"
            }
          },
          "metadata": {},
          "execution_count": 30
        }
      ]
    },
    {
      "cell_type": "code",
      "source": [
        "sns.heatmap(corr_matrix, annot=True)"
      ],
      "metadata": {
        "colab": {
          "base_uri": "https://localhost:8080/",
          "height": 566
        },
        "id": "7Xsrox4w9S6z",
        "outputId": "d57c83fb-8b0e-4a85-87eb-2179dccce816"
      },
      "execution_count": 31,
      "outputs": [
        {
          "output_type": "execute_result",
          "data": {
            "text/plain": [
              "<Axes: >"
            ]
          },
          "metadata": {},
          "execution_count": 31
        },
        {
          "output_type": "display_data",
          "data": {
            "text/plain": [
              "<Figure size 640x480 with 2 Axes>"
            ],
            "image/png": "[encoded data removed]"
          },
          "metadata": {}
        }
      ]
    },
    {
      "cell_type": "markdown",
      "source": [
        "Featurs that have a high correlation to price (target):\n",
        "Power - Engine\n",
        "\n",
        "Featurs that have a low correlation to price (target):\n",
        "Mileage - Engine - Kilometers_Driven\n",
        "\n",
        "Featurs that have no correlation to price (target):\n",
        "Seats - year\n",
        "\n",
        "____________________________________________\n",
        "\n",
        "no features have a high correlation to each other\n",
        "\n",
        "**i will drop Seats - year columns due to no correlation**"
      ],
      "metadata": {
        "id": "wEJCCmRh_RNy"
      }
    },
    {
      "cell_type": "markdown",
      "source": [
        "# Splitting data"
      ],
      "metadata": {
        "id": "MXsrDM9Pddla"
      }
    },
    {
      "cell_type": "code",
      "source": [
        "from sklearn.model_selection import train_test_split\n",
        "\n",
        "X = df.drop(\"Price\", axis=1) # drop labels for training set\n",
        "y = df[\"Price\"].copy()\n",
        "\n",
        "X_train, X_test, y_train, y_test = train_test_split(X, y, test_size=0.2, random_state=1)\n",
        "\n"
      ],
      "metadata": {
        "id": "vUT7KwaXdidz"
      },
      "execution_count": 32,
      "outputs": []
    },
    {
      "cell_type": "code",
      "source": [
        "X_train.head()"
      ],
      "metadata": {
        "colab": {
          "base_uri": "https://localhost:8080/",
          "height": 206
        },
        "id": "Ld9jssuNyvc2",
        "outputId": "0ab12751-c731-4398-d45a-d617b0df19d6"
      },
      "execution_count": 63,
      "outputs": [
        {
          "output_type": "execute_result",
          "data": {
            "text/plain": [
              "                        Name    Location  Year  Kilometers_Driven Fuel_Type  \\\n",
              "4150   Hyundai i10 Magna 1.2      Jaipur  2011              40496    Petrol   \n",
              "1055  Maruti Swift Dzire LDI       Delhi  2014              68462    Diesel   \n",
              "1671        Maruti Swift VXI  Coimbatore  2016              18094    Petrol   \n",
              "1229       Chevrolet Beat LT        Pune  2012              78000    Petrol   \n",
              "2629       Maruti Ertiga ZDI   Hyderabad  2013             120000    Diesel   \n",
              "\n",
              "     Transmission Owner_Type  Mileage  Engine  Power  Seats New_Price  \n",
              "4150       Manual      First    20.36  1197.0   78.0    5.0       NaN  \n",
              "1055       Manual      First    26.59  1248.0   74.0    5.0       NaN  \n",
              "1671       Manual     Second    18.60  1197.0   85.0    5.0       NaN  \n",
              "1229       Manual     Second    18.60  1199.0   79.0    5.0       NaN  \n",
              "2629       Manual      First    20.77  1248.0   88.0    7.0       NaN  "
            ],
            "text/html": [
              "\n",
              "  <div id=\"df-bdd20fb0-b19e-43cb-be25-b8c9c1c75ec3\" class=\"colab-df-container\">\n",
              "    <div>\n",
              "<style scoped>\n",
              "    .dataframe tbody tr th:only-of-type {\n",
              "        vertical-align: middle;\n",
              "    }\n",
              "\n",
              "    .dataframe tbody tr th {\n",
              "        vertical-align: top;\n",
              "    }\n",
              "\n",
              "    .dataframe thead th {\n",
              "        text-align: right;\n",
              "    }\n",
              "</style>\n",
              "<table border=\"1\" class=\"dataframe\">\n",
              "  <thead>\n",
              "    <tr style=\"text-align: right;\">\n",
              "      <th></th>\n",
              "      <th>Name</th>\n",
              "      <th>Location</th>\n",
              "      <th>Year</th>\n",
              "      <th>Kilometers_Driven</th>\n",
              "      <th>Fuel_Type</th>\n",
              "      <th>Transmission</th>\n",
              "      <th>Owner_Type</th>\n",
              "      <th>Mileage</th>\n",
              "      <th>Engine</th>\n",
              "      <th>Power</th>\n",
              "      <th>Seats</th>\n",
              "      <th>New_Price</th>\n",
              "    </tr>\n",
              "  </thead>\n",
              "  <tbody>\n",
              "    <tr>\n",
              "      <th>4150</th>\n",
              "      <td>Hyundai i10 Magna 1.2</td>\n",
              "      <td>Jaipur</td>\n",
              "      <td>2011</td>\n",
              "      <td>40496</td>\n",
              "      <td>Petrol</td>\n",
              "      <td>Manual</td>\n",
              "      <td>First</td>\n",
              "      <td>20.36</td>\n",
              "      <td>1197.0</td>\n",
              "      <td>78.0</td>\n",
              "      <td>5.0</td>\n",
              "      <td>NaN</td>\n",
              "    </tr>\n",
              "    <tr>\n",
              "      <th>1055</th>\n",
              "      <td>Maruti Swift Dzire LDI</td>\n",
              "      <td>Delhi</td>\n",
              "      <td>2014</td>\n",
              "      <td>68462</td>\n",
              "      <td>Diesel</td>\n",
              "      <td>Manual</td>\n",
              "      <td>First</td>\n",
              "      <td>26.59</td>\n",
              "      <td>1248.0</td>\n",
              "      <td>74.0</td>\n",
              "      <td>5.0</td>\n",
              "      <td>NaN</td>\n",
              "    </tr>\n",
              "    <tr>\n",
              "      <th>1671</th>\n",
              "      <td>Maruti Swift VXI</td>\n",
              "      <td>Coimbatore</td>\n",
              "      <td>2016</td>\n",
              "      <td>18094</td>\n",
              "      <td>Petrol</td>\n",
              "      <td>Manual</td>\n",
              "      <td>Second</td>\n",
              "      <td>18.60</td>\n",
              "      <td>1197.0</td>\n",
              "      <td>85.0</td>\n",
              "      <td>5.0</td>\n",
              "      <td>NaN</td>\n",
              "    </tr>\n",
              "    <tr>\n",
              "      <th>1229</th>\n",
              "      <td>Chevrolet Beat LT</td>\n",
              "      <td>Pune</td>\n",
              "      <td>2012</td>\n",
              "      <td>78000</td>\n",
              "      <td>Petrol</td>\n",
              "      <td>Manual</td>\n",
              "      <td>Second</td>\n",
              "      <td>18.60</td>\n",
              "      <td>1199.0</td>\n",
              "      <td>79.0</td>\n",
              "      <td>5.0</td>\n",
              "      <td>NaN</td>\n",
              "    </tr>\n",
              "    <tr>\n",
              "      <th>2629</th>\n",
              "      <td>Maruti Ertiga ZDI</td>\n",
              "      <td>Hyderabad</td>\n",
              "      <td>2013</td>\n",
              "      <td>120000</td>\n",
              "      <td>Diesel</td>\n",
              "      <td>Manual</td>\n",
              "      <td>First</td>\n",
              "      <td>20.77</td>\n",
              "      <td>1248.0</td>\n",
              "      <td>88.0</td>\n",
              "      <td>7.0</td>\n",
              "      <td>NaN</td>\n",
              "    </tr>\n",
              "  </tbody>\n",
              "</table>\n",
              "</div>\n",
              "    <div class=\"colab-df-buttons\">\n",
              "\n",
              "  <div class=\"colab-df-container\">\n",
              "    <button class=\"colab-df-convert\" onclick=\"convertToInteractive('df-bdd20fb0-b19e-43cb-be25-b8c9c1c75ec3')\"\n",
              "            title=\"Convert this dataframe to an interactive table.\"\n",
              "            style=\"display:none;\">\n",
              "\n",
              "  <svg xmlns=\"http://www.w3.org/2000/svg\" height=\"24px\" viewBox=\"0 -960 960 960\">\n",
              "    <path d=\"M120-120v-720h720v720H120Zm60-500h600v-160H180v160Zm220 220h160v-160H400v160Zm0 220h160v-160H400v160ZM180-400h160v-160H180v160Zm440 0h160v-160H620v160ZM180-180h160v-160H180v160Zm440 0h160v-160H620v160Z\"/>\n",
              "  </svg>\n",
              "    </button>\n",
              "\n",
              "  <style>\n",
              "    .colab-df-container {\n",
              "      display:flex;\n",
              "      gap: 12px;\n",
              "    }\n",
              "\n",
              "    .colab-df-convert {\n",
              "      background-color: #E8F0FE;\n",
              "      border: none;\n",
              "      border-radius: 50%;\n",
              "      cursor: pointer;\n",
              "      display: none;\n",
              "      fill: #1967D2;\n",
              "      height: 32px;\n",
              "      padding: 0 0 0 0;\n",
              "      width: 32px;\n",
              "    }\n",
              "\n",
              "    .colab-df-convert:hover {\n",
              "      background-color: #E2EBFA;\n",
              "      box-shadow: 0px 1px 2px rgba(60, 64, 67, 0.3), 0px 1px 3px 1px rgba(60, 64, 67, 0.15);\n",
              "      fill: #174EA6;\n",
              "    }\n",
              "\n",
              "    .colab-df-buttons div {\n",
              "      margin-bottom: 4px;\n",
              "    }\n",
              "\n",
              "    [theme=dark] .colab-df-convert {\n",
              "      background-color: #3B4455;\n",
              "      fill: #D2E3FC;\n",
              "    }\n",
              "\n",
              "    [theme=dark] .colab-df-convert:hover {\n",
              "      background-color: #434B5C;\n",
              "      box-shadow: 0px 1px 3px 1px rgba(0, 0, 0, 0.15);\n",
              "      filter: drop-shadow(0px 1px 2px rgba(0, 0, 0, 0.3));\n",
              "      fill: #FFFFFF;\n",
              "    }\n",
              "  </style>\n",
              "\n",
              "    <script>\n",
              "      const buttonEl =\n",
              "        document.querySelector('#df-bdd20fb0-b19e-43cb-be25-b8c9c1c75ec3 button.colab-df-convert');\n",
              "      buttonEl.style.display =\n",
              "        google.colab.kernel.accessAllowed ? 'block' : 'none';\n",
              "\n",
              "      async function convertToInteractive(key) {\n",
              "        const element = document.querySelector('#df-bdd20fb0-b19e-43cb-be25-b8c9c1c75ec3');\n",
              "        const dataTable =\n",
              "          await google.colab.kernel.invokeFunction('convertToInteractive',\n",
              "                                                    [key], {});\n",
              "        if (!dataTable) return;\n",
              "\n",
              "        const docLinkHtml = 'Like what you see? Visit the ' +\n",
              "          '<a target=\"_blank\" href=https://colab.research.google.com/notebooks/data_table.ipynb>data table notebook</a>'\n",
              "          + ' to learn more about interactive tables.';\n",
              "        element.innerHTML = '';\n",
              "        dataTable['output_type'] = 'display_data';\n",
              "        await google.colab.output.renderOutput(dataTable, element);\n",
              "        const docLink = document.createElement('div');\n",
              "        docLink.innerHTML = docLinkHtml;\n",
              "        element.appendChild(docLink);\n",
              "      }\n",
              "    </script>\n",
              "  </div>\n",
              "\n",
              "\n",
              "<div id=\"df-fb19741f-006b-4113-93f4-8bf420d6f8ad\">\n",
              "  <button class=\"colab-df-quickchart\" onclick=\"quickchart('df-fb19741f-006b-4113-93f4-8bf420d6f8ad')\"\n",
              "            title=\"Suggest charts\"\n",
              "            style=\"display:none;\">\n",
              "\n",
              "<svg xmlns=\"http://www.w3.org/2000/svg\" height=\"24px\"viewBox=\"0 0 24 24\"\n",
              "     width=\"24px\">\n",
              "    <g>\n",
              "        <path d=\"M19 3H5c-1.1 0-2 .9-2 2v14c0 1.1.9 2 2 2h14c1.1 0 2-.9 2-2V5c0-1.1-.9-2-2-2zM9 17H7v-7h2v7zm4 0h-2V7h2v10zm4 0h-2v-4h2v4z\"/>\n",
              "    </g>\n",
              "</svg>\n",
              "  </button>\n",
              "\n",
              "<style>\n",
              "  .colab-df-quickchart {\n",
              "      --bg-color: #E8F0FE;\n",
              "      --fill-color: #1967D2;\n",
              "      --hover-bg-color: #E2EBFA;\n",
              "      --hover-fill-color: #174EA6;\n",
              "      --disabled-fill-color: #AAA;\n",
              "      --disabled-bg-color: #DDD;\n",
              "  }\n",
              "\n",
              "  [theme=dark] .colab-df-quickchart {\n",
              "      --bg-color: #3B4455;\n",
              "      --fill-color: #D2E3FC;\n",
              "      --hover-bg-color: #434B5C;\n",
              "      --hover-fill-color: #FFFFFF;\n",
              "      --disabled-bg-color: #3B4455;\n",
              "      --disabled-fill-color: #666;\n",
              "  }\n",
              "\n",
              "  .colab-df-quickchart {\n",
              "    background-color: var(--bg-color);\n",
              "    border: none;\n",
              "    border-radius: 50%;\n",
              "    cursor: pointer;\n",
              "    display: none;\n",
              "    fill: var(--fill-color);\n",
              "    height: 32px;\n",
              "    padding: 0;\n",
              "    width: 32px;\n",
              "  }\n",
              "\n",
              "  .colab-df-quickchart:hover {\n",
              "    background-color: var(--hover-bg-color);\n",
              "    box-shadow: 0 1px 2px rgba(60, 64, 67, 0.3), 0 1px 3px 1px rgba(60, 64, 67, 0.15);\n",
              "    fill: var(--button-hover-fill-color);\n",
              "  }\n",
              "\n",
              "  .colab-df-quickchart-complete:disabled,\n",
              "  .colab-df-quickchart-complete:disabled:hover {\n",
              "    background-color: var(--disabled-bg-color);\n",
              "    fill: var(--disabled-fill-color);\n",
              "    box-shadow: none;\n",
              "  }\n",
              "\n",
              "  .colab-df-spinner {\n",
              "    border: 2px solid var(--fill-color);\n",
              "    border-color: transparent;\n",
              "    border-bottom-color: var(--fill-color);\n",
              "    animation:\n",
              "      spin 1s steps(1) infinite;\n",
              "  }\n",
              "\n",
              "  @keyframes spin {\n",
              "    0% {\n",
              "      border-color: transparent;\n",
              "      border-bottom-color: var(--fill-color);\n",
              "      border-left-color: var(--fill-color);\n",
              "    }\n",
              "    20% {\n",
              "      border-color: transparent;\n",
              "      border-left-color: var(--fill-color);\n",
              "      border-top-color: var(--fill-color);\n",
              "    }\n",
              "    30% {\n",
              "      border-color: transparent;\n",
              "      border-left-color: var(--fill-color);\n",
              "      border-top-color: var(--fill-color);\n",
              "      border-right-color: var(--fill-color);\n",
              "    }\n",
              "    40% {\n",
              "      border-color: transparent;\n",
              "      border-right-color: var(--fill-color);\n",
              "      border-top-color: var(--fill-color);\n",
              "    }\n",
              "    60% {\n",
              "      border-color: transparent;\n",
              "      border-right-color: var(--fill-color);\n",
              "    }\n",
              "    80% {\n",
              "      border-color: transparent;\n",
              "      border-right-color: var(--fill-color);\n",
              "      border-bottom-color: var(--fill-color);\n",
              "    }\n",
              "    90% {\n",
              "      border-color: transparent;\n",
              "      border-bottom-color: var(--fill-color);\n",
              "    }\n",
              "  }\n",
              "</style>\n",
              "\n",
              "  <script>\n",
              "    async function quickchart(key) {\n",
              "      const quickchartButtonEl =\n",
              "        document.querySelector('#' + key + ' button');\n",
              "      quickchartButtonEl.disabled = true;  // To prevent multiple clicks.\n",
              "      quickchartButtonEl.classList.add('colab-df-spinner');\n",
              "      try {\n",
              "        const charts = await google.colab.kernel.invokeFunction(\n",
              "            'suggestCharts', [key], {});\n",
              "      } catch (error) {\n",
              "        console.error('Error during call to suggestCharts:', error);\n",
              "      }\n",
              "      quickchartButtonEl.classList.remove('colab-df-spinner');\n",
              "      quickchartButtonEl.classList.add('colab-df-quickchart-complete');\n",
              "    }\n",
              "    (() => {\n",
              "      let quickchartButtonEl =\n",
              "        document.querySelector('#df-fb19741f-006b-4113-93f4-8bf420d6f8ad button');\n",
              "      quickchartButtonEl.style.display =\n",
              "        google.colab.kernel.accessAllowed ? 'block' : 'none';\n",
              "    })();\n",
              "  </script>\n",
              "</div>\n",
              "\n",
              "    </div>\n",
              "  </div>\n"
            ],
            "application/vnd.google.colaboratory.intrinsic+json": {
              "type": "dataframe",
              "variable_name": "X_train",
              "summary": "{\n  \"name\": \"X_train\",\n  \"rows\": 4544,\n  \"fields\": [\n    {\n      \"column\": \"Name\",\n      \"properties\": {\n        \"dtype\": \"category\",\n        \"num_unique_values\": 1584,\n        \"samples\": [\n          \"Tata Indigo eCS eLX BS IV\",\n          \"Toyota Corolla Altis 1.8 G\",\n          \"Toyota Camry A/T\"\n        ],\n        \"semantic_type\": \"\",\n        \"description\": \"\"\n      }\n    },\n    {\n      \"column\": \"Location\",\n      \"properties\": {\n        \"dtype\": \"category\",\n        \"num_unique_values\": 11,\n        \"samples\": [\n          \"Kolkata\",\n          \"Jaipur\",\n          \"Kochi\"\n        ],\n        \"semantic_type\": \"\",\n        \"description\": \"\"\n      }\n    },\n    {\n      \"column\": \"Year\",\n      \"properties\": {\n        \"dtype\": \"number\",\n        \"std\": 3,\n        \"min\": 1998,\n        \"max\": 2019,\n        \"num_unique_values\": 20,\n        \"samples\": [\n          2011,\n          2002,\n          2006\n        ],\n        \"semantic_type\": \"\",\n        \"description\": \"\"\n      }\n    },\n    {\n      \"column\": \"Kilometers_Driven\",\n      \"properties\": {\n        \"dtype\": \"number\",\n        \"std\": 26567,\n        \"min\": 171,\n        \"max\": 131000,\n        \"num_unique_values\": 2386,\n        \"samples\": [\n          6279,\n          72495,\n          49275\n        ],\n        \"semantic_type\": \"\",\n        \"description\": \"\"\n      }\n    },\n    {\n      \"column\": \"Fuel_Type\",\n      \"properties\": {\n        \"dtype\": \"category\",\n        \"num_unique_values\": 4,\n        \"samples\": [\n          \"Diesel\",\n          \"LPG\",\n          \"Petrol\"\n        ],\n        \"semantic_type\": \"\",\n        \"description\": \"\"\n      }\n    },\n    {\n      \"column\": \"Transmission\",\n      \"properties\": {\n        \"dtype\": \"category\",\n        \"num_unique_values\": 2,\n        \"samples\": [\n          \"Automatic\",\n          \"Manual\"\n        ],\n        \"semantic_type\": \"\",\n        \"description\": \"\"\n      }\n    },\n    {\n      \"column\": \"Owner_Type\",\n      \"properties\": {\n        \"dtype\": \"category\",\n        \"num_unique_values\": 4,\n        \"samples\": [\n          \"Second\",\n          \"Fourth & Above\"\n        ],\n        \"semantic_type\": \"\",\n        \"description\": \"\"\n      }\n    },\n    {\n      \"column\": \"Mileage\",\n      \"properties\": {\n        \"dtype\": \"number\",\n        \"std\": 4.1814032896969495,\n        \"min\": 7.81,\n        \"max\": 33.54,\n        \"num_unique_values\": 411,\n        \"samples\": [\n          21.38,\n          13.0\n        ],\n        \"semantic_type\": \"\",\n        \"description\": \"\"\n      }\n    },\n    {\n      \"column\": \"Engine\",\n      \"properties\": {\n        \"dtype\": \"number\",\n        \"std\": 587.3924048294091,\n        \"min\": 624.0,\n        \"max\": 5998.0,\n        \"num_unique_values\": 135,\n        \"samples\": [\n          2953.0,\n          1194.0\n        ],\n        \"semantic_type\": \"\",\n        \"description\": \"\"\n      }\n    },\n    {\n      \"column\": \"Power\",\n      \"properties\": {\n        \"dtype\": \"number\",\n        \"std\": 53.256010632689176,\n        \"min\": 34.0,\n        \"max\": 552.0,\n        \"num_unique_values\": 175,\n        \"samples\": [\n          395.0,\n          300.0\n        ],\n        \"semantic_type\": \"\",\n        \"description\": \"\"\n      }\n    },\n    {\n      \"column\": \"Seats\",\n      \"properties\": {\n        \"dtype\": \"number\",\n        \"std\": 0.7767284202379212,\n        \"min\": 2.0,\n        \"max\": 10.0,\n        \"num_unique_values\": 8,\n        \"samples\": [\n          7.0,\n          10.0\n        ],\n        \"semantic_type\": \"\",\n        \"description\": \"\"\n      }\n    },\n    {\n      \"column\": \"New_Price\",\n      \"properties\": {\n        \"dtype\": \"category\",\n        \"num_unique_values\": 459,\n        \"samples\": [\n          \"10.99 Lakh\",\n          \"11.15 Lakh\"\n        ],\n        \"semantic_type\": \"\",\n        \"description\": \"\"\n      }\n    }\n  ]\n}"
            }
          },
          "metadata": {},
          "execution_count": 63
        }
      ]
    },
    {
      "cell_type": "code",
      "source": [
        "# remove unnecessary columns\n",
        "X_train.drop(columns=['Name', 'Seats', 'Year','Location'], inplace=True)\n",
        "X_test.drop(columns=['Name','Seats', 'Year', 'Location'], inplace=True)\n"
      ],
      "metadata": {
        "id": "-H8T6RYpyzOD"
      },
      "execution_count": 33,
      "outputs": []
    },
    {
      "cell_type": "markdown",
      "source": [
        "# handling null values"
      ],
      "metadata": {
        "id": "5yKl24mGbXmR"
      }
    },
    {
      "cell_type": "code",
      "source": [
        "df.isnull().sum()"
      ],
      "metadata": {
        "colab": {
          "base_uri": "https://localhost:8080/",
          "height": 491
        },
        "id": "s8XDQH8cbcIX",
        "outputId": "c2e5407c-c46d-4c41-ac44-5706841a9262"
      },
      "execution_count": 34,
      "outputs": [
        {
          "output_type": "execute_result",
          "data": {
            "text/plain": [
              "Name                    0\n",
              "Location                0\n",
              "Year                    0\n",
              "Kilometers_Driven       0\n",
              "Fuel_Type               0\n",
              "Transmission            0\n",
              "Owner_Type              0\n",
              "Mileage                 0\n",
              "Engine                 23\n",
              "Power                  87\n",
              "Seats                  28\n",
              "New_Price            4876\n",
              "Price                   0\n",
              "dtype: int64"
            ],
            "text/html": [
              "<table border=\"1\" class=\"dataframe\">\n",
              "  <thead>\n",
              "    <tr style=\"text-align: right;\">\n",
              "      <th></th>\n",
              "      <th>0</th>\n",
              "    </tr>\n",
              "  </thead>\n",
              "  <tbody>\n",
              "    <tr>\n",
              "      <th>Name</th>\n",
              "      <td>0</td>\n",
              "    </tr>\n",
              "    <tr>\n",
              "      <th>Location</th>\n",
              "      <td>0</td>\n",
              "    </tr>\n",
              "    <tr>\n",
              "      <th>Year</th>\n",
              "      <td>0</td>\n",
              "    </tr>\n",
              "    <tr>\n",
              "      <th>Kilometers_Driven</th>\n",
              "      <td>0</td>\n",
              "    </tr>\n",
              "    <tr>\n",
              "      <th>Fuel_Type</th>\n",
              "      <td>0</td>\n",
              "    </tr>\n",
              "    <tr>\n",
              "      <th>Transmission</th>\n",
              "      <td>0</td>\n",
              "    </tr>\n",
              "    <tr>\n",
              "      <th>Owner_Type</th>\n",
              "      <td>0</td>\n",
              "    </tr>\n",
              "    <tr>\n",
              "      <th>Mileage</th>\n",
              "      <td>0</td>\n",
              "    </tr>\n",
              "    <tr>\n",
              "      <th>Engine</th>\n",
              "      <td>23</td>\n",
              "    </tr>\n",
              "    <tr>\n",
              "      <th>Power</th>\n",
              "      <td>87</td>\n",
              "    </tr>\n",
              "    <tr>\n",
              "      <th>Seats</th>\n",
              "      <td>28</td>\n",
              "    </tr>\n",
              "    <tr>\n",
              "      <th>New_Price</th>\n",
              "      <td>4876</td>\n",
              "    </tr>\n",
              "    <tr>\n",
              "      <th>Price</th>\n",
              "      <td>0</td>\n",
              "    </tr>\n",
              "  </tbody>\n",
              "</table><br><label><b>dtype:</b> int64</label>"
            ]
          },
          "metadata": {},
          "execution_count": 34
        }
      ]
    },
    {
      "cell_type": "code",
      "source": [
        "# in New_Price column, there are a lot of null values, so dropping them is the right solution.\n",
        "X_train.drop(columns=['New_Price'], inplace=True)\n",
        "X_test.drop(columns=['New_Price'], inplace=True)"
      ],
      "metadata": {
        "id": "0gTQ8iW0bcMJ"
      },
      "execution_count": 35,
      "outputs": []
    },
    {
      "cell_type": "code",
      "source": [
        "from sklearn.impute import KNNImputer\n",
        "\n",
        "imputer = KNNImputer(n_neighbors=3)\n",
        "\n",
        "\n",
        "# X_train['Seats'] = imputer.fit_transform(X_train[['Seats']])\n",
        "# X_test['Seats'] = imputer.transform(X_test[['Seats']])\n",
        "\n",
        "X_train['Power'] = imputer.fit_transform(X_train[['Power']])\n",
        "X_test['Power'] = imputer.transform(X_test[['Power']])\n",
        "\n",
        "X_train['Engine'] = imputer.fit_transform(X_train[['Engine']])\n",
        "X_test['Engine'] = imputer.transform(X_test[['Engine']])"
      ],
      "metadata": {
        "id": "C-rGpqJ4cJ56"
      },
      "execution_count": 36,
      "outputs": []
    },
    {
      "cell_type": "code",
      "source": [
        "X_train.isnull().sum()"
      ],
      "metadata": {
        "colab": {
          "base_uri": "https://localhost:8080/",
          "height": 303
        },
        "id": "7FPovUTsB-pY",
        "outputId": "53433e44-e9ac-4ceb-aadc-56eee6634895"
      },
      "execution_count": 37,
      "outputs": [
        {
          "output_type": "execute_result",
          "data": {
            "text/plain": [
              "Kilometers_Driven    0\n",
              "Fuel_Type            0\n",
              "Transmission         0\n",
              "Owner_Type           0\n",
              "Mileage              0\n",
              "Engine               0\n",
              "Power                0\n",
              "dtype: int64"
            ],
            "text/html": [
              "<table border=\"1\" class=\"dataframe\">\n",
              "  <thead>\n",
              "    <tr style=\"text-align: right;\">\n",
              "      <th></th>\n",
              "      <th>0</th>\n",
              "    </tr>\n",
              "  </thead>\n",
              "  <tbody>\n",
              "    <tr>\n",
              "      <th>Kilometers_Driven</th>\n",
              "      <td>0</td>\n",
              "    </tr>\n",
              "    <tr>\n",
              "      <th>Fuel_Type</th>\n",
              "      <td>0</td>\n",
              "    </tr>\n",
              "    <tr>\n",
              "      <th>Transmission</th>\n",
              "      <td>0</td>\n",
              "    </tr>\n",
              "    <tr>\n",
              "      <th>Owner_Type</th>\n",
              "      <td>0</td>\n",
              "    </tr>\n",
              "    <tr>\n",
              "      <th>Mileage</th>\n",
              "      <td>0</td>\n",
              "    </tr>\n",
              "    <tr>\n",
              "      <th>Engine</th>\n",
              "      <td>0</td>\n",
              "    </tr>\n",
              "    <tr>\n",
              "      <th>Power</th>\n",
              "      <td>0</td>\n",
              "    </tr>\n",
              "  </tbody>\n",
              "</table><br><label><b>dtype:</b> int64</label>"
            ]
          },
          "metadata": {},
          "execution_count": 37
        }
      ]
    },
    {
      "cell_type": "code",
      "source": [
        "X_test.isnull().sum()"
      ],
      "metadata": {
        "colab": {
          "base_uri": "https://localhost:8080/",
          "height": 303
        },
        "id": "uL3wEC__CArI",
        "outputId": "b609b3f8-8fc4-4e88-a874-e5155b754297"
      },
      "execution_count": 70,
      "outputs": [
        {
          "output_type": "execute_result",
          "data": {
            "text/plain": [
              "Kilometers_Driven    0\n",
              "Fuel_Type            0\n",
              "Transmission         0\n",
              "Owner_Type           0\n",
              "Mileage              0\n",
              "Engine               0\n",
              "Power                0\n",
              "dtype: int64"
            ],
            "text/html": [
              "<table border=\"1\" class=\"dataframe\">\n",
              "  <thead>\n",
              "    <tr style=\"text-align: right;\">\n",
              "      <th></th>\n",
              "      <th>0</th>\n",
              "    </tr>\n",
              "  </thead>\n",
              "  <tbody>\n",
              "    <tr>\n",
              "      <th>Kilometers_Driven</th>\n",
              "      <td>0</td>\n",
              "    </tr>\n",
              "    <tr>\n",
              "      <th>Fuel_Type</th>\n",
              "      <td>0</td>\n",
              "    </tr>\n",
              "    <tr>\n",
              "      <th>Transmission</th>\n",
              "      <td>0</td>\n",
              "    </tr>\n",
              "    <tr>\n",
              "      <th>Owner_Type</th>\n",
              "      <td>0</td>\n",
              "    </tr>\n",
              "    <tr>\n",
              "      <th>Mileage</th>\n",
              "      <td>0</td>\n",
              "    </tr>\n",
              "    <tr>\n",
              "      <th>Engine</th>\n",
              "      <td>0</td>\n",
              "    </tr>\n",
              "    <tr>\n",
              "      <th>Power</th>\n",
              "      <td>0</td>\n",
              "    </tr>\n",
              "  </tbody>\n",
              "</table><br><label><b>dtype:</b> int64</label>"
            ]
          },
          "metadata": {},
          "execution_count": 70
        }
      ]
    },
    {
      "cell_type": "markdown",
      "source": [
        "# Scalling and Eccoding"
      ],
      "metadata": {
        "id": "uhA73SnbCP6q"
      }
    },
    {
      "cell_type": "code",
      "source": [
        "from sklearn.pipeline import make_pipeline\n",
        "from sklearn.preprocessing import OrdinalEncoder, OneHotEncoder\n",
        "from sklearn.preprocessing import MinMaxScaler\n",
        "from sklearn.compose import ColumnTransformer\n",
        "\n",
        "num_pip = make_pipeline(MinMaxScaler())\n",
        "cat_pip_one_hot = make_pipeline(OneHotEncoder())\n",
        "cat_pip_ordinal = make_pipeline(OrdinalEncoder())\n",
        "\n",
        "# Owner_Type > ordinal encode_long\n",
        "# transmi > one hot\n",
        "# Fuel_Type > one hot\n",
        "\n",
        "pre_pip = ColumnTransformer([\n",
        "    ('num', num_pip, ['Kilometers_Driven', 'Mileage', 'Engine', 'Power']),\n",
        "    ('cat_one_hot', cat_pip_one_hot, ['Transmission', 'Fuel_Type']),\n",
        "    ('cat_ordinal', cat_pip_ordinal, ['Owner_Type' ])\n",
        "    ])\n"
      ],
      "metadata": {
        "id": "MBU2600LbUCU"
      },
      "execution_count": 38,
      "outputs": []
    },
    {
      "cell_type": "code",
      "source": [
        "X_train_prepared = pre_pip.fit_transform(X_train)\n",
        "X_test_prepared = pre_pip.transform(X_test)"
      ],
      "metadata": {
        "id": "4Umi4wO24Mkn"
      },
      "execution_count": 39,
      "outputs": []
    },
    {
      "cell_type": "markdown",
      "source": [
        "# ML model"
      ],
      "metadata": {
        "id": "8Sw9tAlm4_sF"
      }
    },
    {
      "cell_type": "markdown",
      "source": [
        "## Linear Regression"
      ],
      "metadata": {
        "id": "4KpJiKgf7DBx"
      }
    },
    {
      "cell_type": "code",
      "source": [
        "from sklearn.linear_model import LinearRegression\n",
        "\n",
        "model= LinearRegression()\n",
        "\n",
        "model.fit(X_train_prepared, y_train)"
      ],
      "metadata": {
        "colab": {
          "base_uri": "https://localhost:8080/",
          "height": 74
        },
        "id": "j05aQg5pbUHT",
        "outputId": "b5ce272c-9b7a-4dda-fd00-eea5359922c8"
      },
      "execution_count": 40,
      "outputs": [
        {
          "output_type": "execute_result",
          "data": {
            "text/plain": [
              "LinearRegression()"
            ],
            "text/html": [
              "<style>#sk-container-id-1 {color: black;}#sk-container-id-1 pre{padding: 0;}#sk-container-id-1 div.sk-toggleable {background-color: white;}#sk-container-id-1 label.sk-toggleable__label {cursor: pointer;display: block;width: 100%;margin-bottom: 0;padding: 0.3em;box-sizing: border-box;text-align: center;}#sk-container-id-1 label.sk-toggleable__label-arrow:before {content: \"▸\";float: left;margin-right: 0.25em;color: #696969;}#sk-container-id-1 label.sk-toggleable__label-arrow:hover:before {color: black;}#sk-container-id-1 div.sk-estimator:hover label.sk-toggleable__label-arrow:before {color: black;}#sk-container-id-1 div.sk-toggleable__content {max-height: 0;max-width: 0;overflow: hidden;text-align: left;background-color: #f0f8ff;}#sk-container-id-1 div.sk-toggleable__content pre {margin: 0.2em;color: black;border-radius: 0.25em;background-color: #f0f8ff;}#sk-container-id-1 input.sk-toggleable__control:checked~div.sk-toggleable__content {max-height: 200px;max-width: 100%;overflow: auto;}#sk-container-id-1 input.sk-toggleable__control:checked~label.sk-toggleable__label-arrow:before {content: \"▾\";}#sk-container-id-1 div.sk-estimator input.sk-toggleable__control:checked~label.sk-toggleable__label {background-color: #d4ebff;}#sk-container-id-1 div.sk-label input.sk-toggleable__control:checked~label.sk-toggleable__label {background-color: #d4ebff;}#sk-container-id-1 input.sk-hidden--visually {border: 0;clip: rect(1px 1px 1px 1px);clip: rect(1px, 1px, 1px, 1px);height: 1px;margin: -1px;overflow: hidden;padding: 0;position: absolute;width: 1px;}#sk-container-id-1 div.sk-estimator {font-family: monospace;background-color: #f0f8ff;border: 1px dotted black;border-radius: 0.25em;box-sizing: border-box;margin-bottom: 0.5em;}#sk-container-id-1 div.sk-estimator:hover {background-color: #d4ebff;}#sk-container-id-1 div.sk-parallel-item::after {content: \"\";width: 100%;border-bottom: 1px solid gray;flex-grow: 1;}#sk-container-id-1 div.sk-label:hover label.sk-toggleable__label {background-color: #d4ebff;}#sk-container-id-1 div.sk-serial::before {content: \"\";position: absolute;border-left: 1px solid gray;box-sizing: border-box;top: 0;bottom: 0;left: 50%;z-index: 0;}#sk-container-id-1 div.sk-serial {display: flex;flex-direction: column;align-items: center;background-color: white;padding-right: 0.2em;padding-left: 0.2em;position: relative;}#sk-container-id-1 div.sk-item {position: relative;z-index: 1;}#sk-container-id-1 div.sk-parallel {display: flex;align-items: stretch;justify-content: center;background-color: white;position: relative;}#sk-container-id-1 div.sk-item::before, #sk-container-id-1 div.sk-parallel-item::before {content: \"\";position: absolute;border-left: 1px solid gray;box-sizing: border-box;top: 0;bottom: 0;left: 50%;z-index: -1;}#sk-container-id-1 div.sk-parallel-item {display: flex;flex-direction: column;z-index: 1;position: relative;background-color: white;}#sk-container-id-1 div.sk-parallel-item:first-child::after {align-self: flex-end;width: 50%;}#sk-container-id-1 div.sk-parallel-item:last-child::after {align-self: flex-start;width: 50%;}#sk-container-id-1 div.sk-parallel-item:only-child::after {width: 0;}#sk-container-id-1 div.sk-dashed-wrapped {border: 1px dashed gray;margin: 0 0.4em 0.5em 0.4em;box-sizing: border-box;padding-bottom: 0.4em;background-color: white;}#sk-container-id-1 div.sk-label label {font-family: monospace;font-weight: bold;display: inline-block;line-height: 1.2em;}#sk-container-id-1 div.sk-label-container {text-align: center;}#sk-container-id-1 div.sk-container {/* jupyter's `normalize.less` sets `[hidden] { display: none; }` but bootstrap.min.css set `[hidden] { display: none !important; }` so we also need the `!important` here to be able to override the default hidden behavior on the sphinx rendered scikit-learn.org. See: https://github.com/scikit-learn/scikit-learn/issues/21755 */display: inline-block !important;position: relative;}#sk-container-id-1 div.sk-text-repr-fallback {display: none;}</style><div id=\"sk-container-id-1\" class=\"sk-top-container\"><div class=\"sk-text-repr-fallback\"><pre>LinearRegression()</pre><b>In a Jupyter environment, please rerun this cell to show the HTML representation or trust the notebook. <br />On GitHub, the HTML representation is unable to render, please try loading this page with nbviewer.org.</b></div><div class=\"sk-container\" hidden><div class=\"sk-item\"><div class=\"sk-estimator sk-toggleable\"><input class=\"sk-toggleable__control sk-hidden--visually\" id=\"sk-estimator-id-1\" type=\"checkbox\" checked><label for=\"sk-estimator-id-1\" class=\"sk-toggleable__label sk-toggleable__label-arrow\">LinearRegression</label><div class=\"sk-toggleable__content\"><pre>LinearRegression()</pre></div></div></div></div></div>"
            ]
          },
          "metadata": {},
          "execution_count": 40
        }
      ]
    },
    {
      "cell_type": "code",
      "source": [
        "score = model.score(X_test_prepared, y_test)\n",
        "score"
      ],
      "metadata": {
        "colab": {
          "base_uri": "https://localhost:8080/"
        },
        "id": "8F3V_kaSaw7x",
        "outputId": "44e8e87f-dd11-44ec-8fa1-fe9d1f4af61d"
      },
      "execution_count": 41,
      "outputs": [
        {
          "output_type": "execute_result",
          "data": {
            "text/plain": [
              "0.7083961908369527"
            ]
          },
          "metadata": {},
          "execution_count": 41
        }
      ]
    },
    {
      "cell_type": "code",
      "source": [
        "# testing set\n",
        "from sklearn.metrics import mean_absolute_error\n",
        "\n",
        "y_pred = model.predict(X_test_prepared)\n",
        "mae = mean_absolute_error(y_test, y_pred)\n",
        "mae"
      ],
      "metadata": {
        "colab": {
          "base_uri": "https://localhost:8080/"
        },
        "id": "vGc4uQYmaw-o",
        "outputId": "ed4fccb7-e1c9-49cb-f007-4bb47f321a3a"
      },
      "execution_count": 44,
      "outputs": [
        {
          "output_type": "execute_result",
          "data": {
            "text/plain": [
              "3.5842388314260565"
            ]
          },
          "metadata": {},
          "execution_count": 44
        }
      ]
    },
    {
      "cell_type": "code",
      "source": [
        "# training set\n",
        "from sklearn.metrics import mean_absolute_error\n",
        "\n",
        "y_pred = model.predict(X_train_prepared)\n",
        "mae = mean_absolute_error(y_train, y_pred)\n",
        "mae"
      ],
      "metadata": {
        "colab": {
          "base_uri": "https://localhost:8080/"
        },
        "id": "L3NaXHIu67su",
        "outputId": "40ade319-316a-4668-897a-4f4d12f663d7"
      },
      "execution_count": 45,
      "outputs": [
        {
          "output_type": "execute_result",
          "data": {
            "text/plain": [
              "3.842697925836268"
            ]
          },
          "metadata": {},
          "execution_count": 45
        }
      ]
    },
    {
      "cell_type": "markdown",
      "source": [
        "The MAE in training and testing are almost the same, so we have no outlier."
      ],
      "metadata": {
        "id": "GDtPtHsx7LNK"
      }
    },
    {
      "cell_type": "markdown",
      "source": [
        "## Decision Tree Regressor"
      ],
      "metadata": {
        "id": "6WmFtbbZ7zeF"
      }
    },
    {
      "cell_type": "code",
      "source": [
        "from sklearn.tree import DecisionTreeRegressor\n",
        "\n",
        "model2 = DecisionTreeRegressor()\n",
        "\n",
        "\n",
        "model2.fit(X_train_prepared, y_train)"
      ],
      "metadata": {
        "colab": {
          "base_uri": "https://localhost:8080/",
          "height": 74
        },
        "id": "tHy7czyr7BB9",
        "outputId": "129a6c9f-cf34-4c6d-b0ae-61507bceeea7"
      },
      "execution_count": 46,
      "outputs": [
        {
          "output_type": "execute_result",
          "data": {
            "text/plain": [
              "DecisionTreeRegressor()"
            ],
            "text/html": [
              "<style>#sk-container-id-2 {color: black;}#sk-container-id-2 pre{padding: 0;}#sk-container-id-2 div.sk-toggleable {background-color: white;}#sk-container-id-2 label.sk-toggleable__label {cursor: pointer;display: block;width: 100%;margin-bottom: 0;padding: 0.3em;box-sizing: border-box;text-align: center;}#sk-container-id-2 label.sk-toggleable__label-arrow:before {content: \"▸\";float: left;margin-right: 0.25em;color: #696969;}#sk-container-id-2 label.sk-toggleable__label-arrow:hover:before {color: black;}#sk-container-id-2 div.sk-estimator:hover label.sk-toggleable__label-arrow:before {color: black;}#sk-container-id-2 div.sk-toggleable__content {max-height: 0;max-width: 0;overflow: hidden;text-align: left;background-color: #f0f8ff;}#sk-container-id-2 div.sk-toggleable__content pre {margin: 0.2em;color: black;border-radius: 0.25em;background-color: #f0f8ff;}#sk-container-id-2 input.sk-toggleable__control:checked~div.sk-toggleable__content {max-height: 200px;max-width: 100%;overflow: auto;}#sk-container-id-2 input.sk-toggleable__control:checked~label.sk-toggleable__label-arrow:before {content: \"▾\";}#sk-container-id-2 div.sk-estimator input.sk-toggleable__control:checked~label.sk-toggleable__label {background-color: #d4ebff;}#sk-container-id-2 div.sk-label input.sk-toggleable__control:checked~label.sk-toggleable__label {background-color: #d4ebff;}#sk-container-id-2 input.sk-hidden--visually {border: 0;clip: rect(1px 1px 1px 1px);clip: rect(1px, 1px, 1px, 1px);height: 1px;margin: -1px;overflow: hidden;padding: 0;position: absolute;width: 1px;}#sk-container-id-2 div.sk-estimator {font-family: monospace;background-color: #f0f8ff;border: 1px dotted black;border-radius: 0.25em;box-sizing: border-box;margin-bottom: 0.5em;}#sk-container-id-2 div.sk-estimator:hover {background-color: #d4ebff;}#sk-container-id-2 div.sk-parallel-item::after {content: \"\";width: 100%;border-bottom: 1px solid gray;flex-grow: 1;}#sk-container-id-2 div.sk-label:hover label.sk-toggleable__label {background-color: #d4ebff;}#sk-container-id-2 div.sk-serial::before {content: \"\";position: absolute;border-left: 1px solid gray;box-sizing: border-box;top: 0;bottom: 0;left: 50%;z-index: 0;}#sk-container-id-2 div.sk-serial {display: flex;flex-direction: column;align-items: center;background-color: white;padding-right: 0.2em;padding-left: 0.2em;position: relative;}#sk-container-id-2 div.sk-item {position: relative;z-index: 1;}#sk-container-id-2 div.sk-parallel {display: flex;align-items: stretch;justify-content: center;background-color: white;position: relative;}#sk-container-id-2 div.sk-item::before, #sk-container-id-2 div.sk-parallel-item::before {content: \"\";position: absolute;border-left: 1px solid gray;box-sizing: border-box;top: 0;bottom: 0;left: 50%;z-index: -1;}#sk-container-id-2 div.sk-parallel-item {display: flex;flex-direction: column;z-index: 1;position: relative;background-color: white;}#sk-container-id-2 div.sk-parallel-item:first-child::after {align-self: flex-end;width: 50%;}#sk-container-id-2 div.sk-parallel-item:last-child::after {align-self: flex-start;width: 50%;}#sk-container-id-2 div.sk-parallel-item:only-child::after {width: 0;}#sk-container-id-2 div.sk-dashed-wrapped {border: 1px dashed gray;margin: 0 0.4em 0.5em 0.4em;box-sizing: border-box;padding-bottom: 0.4em;background-color: white;}#sk-container-id-2 div.sk-label label {font-family: monospace;font-weight: bold;display: inline-block;line-height: 1.2em;}#sk-container-id-2 div.sk-label-container {text-align: center;}#sk-container-id-2 div.sk-container {/* jupyter's `normalize.less` sets `[hidden] { display: none; }` but bootstrap.min.css set `[hidden] { display: none !important; }` so we also need the `!important` here to be able to override the default hidden behavior on the sphinx rendered scikit-learn.org. See: https://github.com/scikit-learn/scikit-learn/issues/21755 */display: inline-block !important;position: relative;}#sk-container-id-2 div.sk-text-repr-fallback {display: none;}</style><div id=\"sk-container-id-2\" class=\"sk-top-container\"><div class=\"sk-text-repr-fallback\"><pre>DecisionTreeRegressor()</pre><b>In a Jupyter environment, please rerun this cell to show the HTML representation or trust the notebook. <br />On GitHub, the HTML representation is unable to render, please try loading this page with nbviewer.org.</b></div><div class=\"sk-container\" hidden><div class=\"sk-item\"><div class=\"sk-estimator sk-toggleable\"><input class=\"sk-toggleable__control sk-hidden--visually\" id=\"sk-estimator-id-2\" type=\"checkbox\" checked><label for=\"sk-estimator-id-2\" class=\"sk-toggleable__label sk-toggleable__label-arrow\">DecisionTreeRegressor</label><div class=\"sk-toggleable__content\"><pre>DecisionTreeRegressor()</pre></div></div></div></div></div>"
            ]
          },
          "metadata": {},
          "execution_count": 46
        }
      ]
    },
    {
      "cell_type": "code",
      "source": [
        "score = model2.score(X_test_prepared, y_test)\n",
        "score"
      ],
      "metadata": {
        "colab": {
          "base_uri": "https://localhost:8080/"
        },
        "id": "LJUHTwkXaxA8",
        "outputId": "6c289bad-bb41-45c0-f0d1-0e04a341c0d1"
      },
      "execution_count": 47,
      "outputs": [
        {
          "output_type": "execute_result",
          "data": {
            "text/plain": [
              "0.725629578300313"
            ]
          },
          "metadata": {},
          "execution_count": 47
        }
      ]
    },
    {
      "cell_type": "code",
      "source": [
        "from sklearn.metrics import mean_absolute_error\n",
        "\n",
        "y_pred = model2.predict(X_test_prepared)\n",
        "mae = mean_absolute_error(y_test, y_pred)\n",
        "mae"
      ],
      "metadata": {
        "colab": {
          "base_uri": "https://localhost:8080/"
        },
        "id": "JdTr_Ho47rzY",
        "outputId": "29a13406-b900-4fe4-c616-caaef042625f"
      },
      "execution_count": 48,
      "outputs": [
        {
          "output_type": "execute_result",
          "data": {
            "text/plain": [
              "2.659345657276995"
            ]
          },
          "metadata": {},
          "execution_count": 48
        }
      ]
    },
    {
      "cell_type": "code",
      "source": [
        "from sklearn.metrics import mean_absolute_error\n",
        "\n",
        "y_pred = model2.predict(X_train_prepared)\n",
        "mse = mean_absolute_error(y_train, y_pred)\n",
        "mse"
      ],
      "metadata": {
        "colab": {
          "base_uri": "https://localhost:8080/"
        },
        "id": "T_oiS8jLaf4s",
        "outputId": "e28ddf9b-62c1-4bfe-d215-9add29a24bfe"
      },
      "execution_count": 49,
      "outputs": [
        {
          "output_type": "execute_result",
          "data": {
            "text/plain": [
              "0.036482541079812206"
            ]
          },
          "metadata": {},
          "execution_count": 49
        }
      ]
    },
    {
      "cell_type": "markdown",
      "source": [
        "### prevent overfitting"
      ],
      "metadata": {
        "id": "R6bKlEbdbfr5"
      }
    },
    {
      "cell_type": "code",
      "source": [
        "from sklearn.model_selection import GridSearchCV\n",
        "\n",
        "param = {'max_depth': [3, 4, 5, 6, 7, 8]}\n",
        "\n",
        "\n",
        "model2 = DecisionTreeRegressor()\n",
        "\n",
        "gd = GridSearchCV(model2, param)\n",
        "\n",
        "gd.fit(X_train_prepared, y_train)\n",
        "\n",
        "# ______________more then one hyperparam________________\n",
        "\n",
        "param = {'max_depth': [3, 4, 5, 6, 7, 8],\n",
        "         'max_leaf_nodes': [7, 9]\n",
        "         }\n",
        "\n",
        "\n",
        "model2 = DecisionTreeRegressor()\n",
        "\n",
        "gd = GridSearchCV(model2, param)\n",
        "\n",
        "gd.fit(X_train_prepared, y_train) # training 12 model and find the best param"
      ],
      "metadata": {
        "colab": {
          "base_uri": "https://localhost:8080/",
          "height": 116
        },
        "id": "ReOYtreCayIy",
        "outputId": "3c081093-74b1-48fc-dc93-95f6f7358abb"
      },
      "execution_count": 50,
      "outputs": [
        {
          "output_type": "execute_result",
          "data": {
            "text/plain": [
              "GridSearchCV(estimator=DecisionTreeRegressor(),\n",
              "             param_grid={'max_depth': [3, 4, 5, 6, 7, 8],\n",
              "                         'max_leaf_nodes': [7, 9]})"
            ],
            "text/html": [
              "<style>#sk-container-id-3 {color: black;}#sk-container-id-3 pre{padding: 0;}#sk-container-id-3 div.sk-toggleable {background-color: white;}#sk-container-id-3 label.sk-toggleable__label {cursor: pointer;display: block;width: 100%;margin-bottom: 0;padding: 0.3em;box-sizing: border-box;text-align: center;}#sk-container-id-3 label.sk-toggleable__label-arrow:before {content: \"▸\";float: left;margin-right: 0.25em;color: #696969;}#sk-container-id-3 label.sk-toggleable__label-arrow:hover:before {color: black;}#sk-container-id-3 div.sk-estimator:hover label.sk-toggleable__label-arrow:before {color: black;}#sk-container-id-3 div.sk-toggleable__content {max-height: 0;max-width: 0;overflow: hidden;text-align: left;background-color: #f0f8ff;}#sk-container-id-3 div.sk-toggleable__content pre {margin: 0.2em;color: black;border-radius: 0.25em;background-color: #f0f8ff;}#sk-container-id-3 input.sk-toggleable__control:checked~div.sk-toggleable__content {max-height: 200px;max-width: 100%;overflow: auto;}#sk-container-id-3 input.sk-toggleable__control:checked~label.sk-toggleable__label-arrow:before {content: \"▾\";}#sk-container-id-3 div.sk-estimator input.sk-toggleable__control:checked~label.sk-toggleable__label {background-color: #d4ebff;}#sk-container-id-3 div.sk-label input.sk-toggleable__control:checked~label.sk-toggleable__label {background-color: #d4ebff;}#sk-container-id-3 input.sk-hidden--visually {border: 0;clip: rect(1px 1px 1px 1px);clip: rect(1px, 1px, 1px, 1px);height: 1px;margin: -1px;overflow: hidden;padding: 0;position: absolute;width: 1px;}#sk-container-id-3 div.sk-estimator {font-family: monospace;background-color: #f0f8ff;border: 1px dotted black;border-radius: 0.25em;box-sizing: border-box;margin-bottom: 0.5em;}#sk-container-id-3 div.sk-estimator:hover {background-color: #d4ebff;}#sk-container-id-3 div.sk-parallel-item::after {content: \"\";width: 100%;border-bottom: 1px solid gray;flex-grow: 1;}#sk-container-id-3 div.sk-label:hover label.sk-toggleable__label {background-color: #d4ebff;}#sk-container-id-3 div.sk-serial::before {content: \"\";position: absolute;border-left: 1px solid gray;box-sizing: border-box;top: 0;bottom: 0;left: 50%;z-index: 0;}#sk-container-id-3 div.sk-serial {display: flex;flex-direction: column;align-items: center;background-color: white;padding-right: 0.2em;padding-left: 0.2em;position: relative;}#sk-container-id-3 div.sk-item {position: relative;z-index: 1;}#sk-container-id-3 div.sk-parallel {display: flex;align-items: stretch;justify-content: center;background-color: white;position: relative;}#sk-container-id-3 div.sk-item::before, #sk-container-id-3 div.sk-parallel-item::before {content: \"\";position: absolute;border-left: 1px solid gray;box-sizing: border-box;top: 0;bottom: 0;left: 50%;z-index: -1;}#sk-container-id-3 div.sk-parallel-item {display: flex;flex-direction: column;z-index: 1;position: relative;background-color: white;}#sk-container-id-3 div.sk-parallel-item:first-child::after {align-self: flex-end;width: 50%;}#sk-container-id-3 div.sk-parallel-item:last-child::after {align-self: flex-start;width: 50%;}#sk-container-id-3 div.sk-parallel-item:only-child::after {width: 0;}#sk-container-id-3 div.sk-dashed-wrapped {border: 1px dashed gray;margin: 0 0.4em 0.5em 0.4em;box-sizing: border-box;padding-bottom: 0.4em;background-color: white;}#sk-container-id-3 div.sk-label label {font-family: monospace;font-weight: bold;display: inline-block;line-height: 1.2em;}#sk-container-id-3 div.sk-label-container {text-align: center;}#sk-container-id-3 div.sk-container {/* jupyter's `normalize.less` sets `[hidden] { display: none; }` but bootstrap.min.css set `[hidden] { display: none !important; }` so we also need the `!important` here to be able to override the default hidden behavior on the sphinx rendered scikit-learn.org. See: https://github.com/scikit-learn/scikit-learn/issues/21755 */display: inline-block !important;position: relative;}#sk-container-id-3 div.sk-text-repr-fallback {display: none;}</style><div id=\"sk-container-id-3\" class=\"sk-top-container\"><div class=\"sk-text-repr-fallback\"><pre>GridSearchCV(estimator=DecisionTreeRegressor(),\n",
              "             param_grid={&#x27;max_depth&#x27;: [3, 4, 5, 6, 7, 8],\n",
              "                         &#x27;max_leaf_nodes&#x27;: [7, 9]})</pre><b>In a Jupyter environment, please rerun this cell to show the HTML representation or trust the notebook. <br />On GitHub, the HTML representation is unable to render, please try loading this page with nbviewer.org.</b></div><div class=\"sk-container\" hidden><div class=\"sk-item sk-dashed-wrapped\"><div class=\"sk-label-container\"><div class=\"sk-label sk-toggleable\"><input class=\"sk-toggleable__control sk-hidden--visually\" id=\"sk-estimator-id-3\" type=\"checkbox\" ><label for=\"sk-estimator-id-3\" class=\"sk-toggleable__label sk-toggleable__label-arrow\">GridSearchCV</label><div class=\"sk-toggleable__content\"><pre>GridSearchCV(estimator=DecisionTreeRegressor(),\n",
              "             param_grid={&#x27;max_depth&#x27;: [3, 4, 5, 6, 7, 8],\n",
              "                         &#x27;max_leaf_nodes&#x27;: [7, 9]})</pre></div></div></div><div class=\"sk-parallel\"><div class=\"sk-parallel-item\"><div class=\"sk-item\"><div class=\"sk-label-container\"><div class=\"sk-label sk-toggleable\"><input class=\"sk-toggleable__control sk-hidden--visually\" id=\"sk-estimator-id-4\" type=\"checkbox\" ><label for=\"sk-estimator-id-4\" class=\"sk-toggleable__label sk-toggleable__label-arrow\">estimator: DecisionTreeRegressor</label><div class=\"sk-toggleable__content\"><pre>DecisionTreeRegressor()</pre></div></div></div><div class=\"sk-serial\"><div class=\"sk-item\"><div class=\"sk-estimator sk-toggleable\"><input class=\"sk-toggleable__control sk-hidden--visually\" id=\"sk-estimator-id-5\" type=\"checkbox\" ><label for=\"sk-estimator-id-5\" class=\"sk-toggleable__label sk-toggleable__label-arrow\">DecisionTreeRegressor</label><div class=\"sk-toggleable__content\"><pre>DecisionTreeRegressor()</pre></div></div></div></div></div></div></div></div></div></div>"
            ]
          },
          "metadata": {},
          "execution_count": 50
        }
      ]
    },
    {
      "cell_type": "code",
      "source": [
        "gd.best_params_"
      ],
      "metadata": {
        "colab": {
          "base_uri": "https://localhost:8080/"
        },
        "id": "PwHII0wMbBUq",
        "outputId": "4925fee3-a03c-4589-aea7-0c48fd959383"
      },
      "execution_count": 51,
      "outputs": [
        {
          "output_type": "execute_result",
          "data": {
            "text/plain": [
              "{'max_depth': 4, 'max_leaf_nodes': 9}"
            ]
          },
          "metadata": {},
          "execution_count": 51
        }
      ]
    },
    {
      "cell_type": "code",
      "source": [
        "from sklearn.metrics import mean_absolute_error\n",
        "\n",
        "y_pred = gd.predict(X_test_prepared)\n",
        "mse = mean_absolute_error(y_test, y_pred)\n",
        "mse"
      ],
      "metadata": {
        "colab": {
          "base_uri": "https://localhost:8080/"
        },
        "id": "YWJChIzYbHmm",
        "outputId": "efb30490-33bc-4f37-fe96-0905cb22d985"
      },
      "execution_count": 52,
      "outputs": [
        {
          "output_type": "execute_result",
          "data": {
            "text/plain": [
              "3.131519065442629"
            ]
          },
          "metadata": {},
          "execution_count": 52
        }
      ]
    },
    {
      "cell_type": "code",
      "source": [
        "from sklearn.metrics import mean_absolute_error\n",
        "\n",
        "y_pred = gd.predict(X_train_prepared)\n",
        "mse = mean_absolute_error(y_train, y_pred)\n",
        "mse"
      ],
      "metadata": {
        "colab": {
          "base_uri": "https://localhost:8080/"
        },
        "id": "6X_OVq26bYtZ",
        "outputId": "24d7de5f-b54d-49b6-8422-0d46d55810b9"
      },
      "execution_count": 53,
      "outputs": [
        {
          "output_type": "execute_result",
          "data": {
            "text/plain": [
              "3.3100488133267816"
            ]
          },
          "metadata": {},
          "execution_count": 53
        }
      ]
    },
    {
      "cell_type": "markdown",
      "source": [
        "## KNN"
      ],
      "metadata": {
        "id": "41mBNG1p8pTY"
      }
    },
    {
      "cell_type": "code",
      "source": [
        "from sklearn.neighbors import KNeighborsRegressor\n",
        "\n",
        "model3 = KNeighborsRegressor(n_neighbors=5)\n",
        "\n",
        "model3.fit(X_train_prepared, y_train)"
      ],
      "metadata": {
        "colab": {
          "base_uri": "https://localhost:8080/",
          "height": 74
        },
        "id": "tTyDTiIw7xmD",
        "outputId": "b9e3b042-dbe6-4b26-e778-a79c4b2cfe73"
      },
      "execution_count": 54,
      "outputs": [
        {
          "output_type": "execute_result",
          "data": {
            "text/plain": [
              "KNeighborsRegressor()"
            ],
            "text/html": [
              "<style>#sk-container-id-4 {color: black;}#sk-container-id-4 pre{padding: 0;}#sk-container-id-4 div.sk-toggleable {background-color: white;}#sk-container-id-4 label.sk-toggleable__label {cursor: pointer;display: block;width: 100%;margin-bottom: 0;padding: 0.3em;box-sizing: border-box;text-align: center;}#sk-container-id-4 label.sk-toggleable__label-arrow:before {content: \"▸\";float: left;margin-right: 0.25em;color: #696969;}#sk-container-id-4 label.sk-toggleable__label-arrow:hover:before {color: black;}#sk-container-id-4 div.sk-estimator:hover label.sk-toggleable__label-arrow:before {color: black;}#sk-container-id-4 div.sk-toggleable__content {max-height: 0;max-width: 0;overflow: hidden;text-align: left;background-color: #f0f8ff;}#sk-container-id-4 div.sk-toggleable__content pre {margin: 0.2em;color: black;border-radius: 0.25em;background-color: #f0f8ff;}#sk-container-id-4 input.sk-toggleable__control:checked~div.sk-toggleable__content {max-height: 200px;max-width: 100%;overflow: auto;}#sk-container-id-4 input.sk-toggleable__control:checked~label.sk-toggleable__label-arrow:before {content: \"▾\";}#sk-container-id-4 div.sk-estimator input.sk-toggleable__control:checked~label.sk-toggleable__label {background-color: #d4ebff;}#sk-container-id-4 div.sk-label input.sk-toggleable__control:checked~label.sk-toggleable__label {background-color: #d4ebff;}#sk-container-id-4 input.sk-hidden--visually {border: 0;clip: rect(1px 1px 1px 1px);clip: rect(1px, 1px, 1px, 1px);height: 1px;margin: -1px;overflow: hidden;padding: 0;position: absolute;width: 1px;}#sk-container-id-4 div.sk-estimator {font-family: monospace;background-color: #f0f8ff;border: 1px dotted black;border-radius: 0.25em;box-sizing: border-box;margin-bottom: 0.5em;}#sk-container-id-4 div.sk-estimator:hover {background-color: #d4ebff;}#sk-container-id-4 div.sk-parallel-item::after {content: \"\";width: 100%;border-bottom: 1px solid gray;flex-grow: 1;}#sk-container-id-4 div.sk-label:hover label.sk-toggleable__label {background-color: #d4ebff;}#sk-container-id-4 div.sk-serial::before {content: \"\";position: absolute;border-left: 1px solid gray;box-sizing: border-box;top: 0;bottom: 0;left: 50%;z-index: 0;}#sk-container-id-4 div.sk-serial {display: flex;flex-direction: column;align-items: center;background-color: white;padding-right: 0.2em;padding-left: 0.2em;position: relative;}#sk-container-id-4 div.sk-item {position: relative;z-index: 1;}#sk-container-id-4 div.sk-parallel {display: flex;align-items: stretch;justify-content: center;background-color: white;position: relative;}#sk-container-id-4 div.sk-item::before, #sk-container-id-4 div.sk-parallel-item::before {content: \"\";position: absolute;border-left: 1px solid gray;box-sizing: border-box;top: 0;bottom: 0;left: 50%;z-index: -1;}#sk-container-id-4 div.sk-parallel-item {display: flex;flex-direction: column;z-index: 1;position: relative;background-color: white;}#sk-container-id-4 div.sk-parallel-item:first-child::after {align-self: flex-end;width: 50%;}#sk-container-id-4 div.sk-parallel-item:last-child::after {align-self: flex-start;width: 50%;}#sk-container-id-4 div.sk-parallel-item:only-child::after {width: 0;}#sk-container-id-4 div.sk-dashed-wrapped {border: 1px dashed gray;margin: 0 0.4em 0.5em 0.4em;box-sizing: border-box;padding-bottom: 0.4em;background-color: white;}#sk-container-id-4 div.sk-label label {font-family: monospace;font-weight: bold;display: inline-block;line-height: 1.2em;}#sk-container-id-4 div.sk-label-container {text-align: center;}#sk-container-id-4 div.sk-container {/* jupyter's `normalize.less` sets `[hidden] { display: none; }` but bootstrap.min.css set `[hidden] { display: none !important; }` so we also need the `!important` here to be able to override the default hidden behavior on the sphinx rendered scikit-learn.org. See: https://github.com/scikit-learn/scikit-learn/issues/21755 */display: inline-block !important;position: relative;}#sk-container-id-4 div.sk-text-repr-fallback {display: none;}</style><div id=\"sk-container-id-4\" class=\"sk-top-container\"><div class=\"sk-text-repr-fallback\"><pre>KNeighborsRegressor()</pre><b>In a Jupyter environment, please rerun this cell to show the HTML representation or trust the notebook. <br />On GitHub, the HTML representation is unable to render, please try loading this page with nbviewer.org.</b></div><div class=\"sk-container\" hidden><div class=\"sk-item\"><div class=\"sk-estimator sk-toggleable\"><input class=\"sk-toggleable__control sk-hidden--visually\" id=\"sk-estimator-id-6\" type=\"checkbox\" checked><label for=\"sk-estimator-id-6\" class=\"sk-toggleable__label sk-toggleable__label-arrow\">KNeighborsRegressor</label><div class=\"sk-toggleable__content\"><pre>KNeighborsRegressor()</pre></div></div></div></div></div>"
            ]
          },
          "metadata": {},
          "execution_count": 54
        }
      ]
    },
    {
      "cell_type": "code",
      "source": [
        "score = model3.score(X_test_prepared, y_test)\n",
        "score"
      ],
      "metadata": {
        "colab": {
          "base_uri": "https://localhost:8080/"
        },
        "id": "H18vQ8947xos",
        "outputId": "ef1bf29a-c988-4355-f9e2-47dded93a5e3"
      },
      "execution_count": 55,
      "outputs": [
        {
          "output_type": "execute_result",
          "data": {
            "text/plain": [
              "0.7692429041070092"
            ]
          },
          "metadata": {},
          "execution_count": 55
        }
      ]
    },
    {
      "cell_type": "code",
      "source": [
        "from sklearn.metrics import mean_absolute_error\n",
        "\n",
        "y_pred = model3.predict(X_test_prepared)\n",
        "mae = mean_absolute_error(y_test, y_pred)\n",
        "mae"
      ],
      "metadata": {
        "colab": {
          "base_uri": "https://localhost:8080/"
        },
        "id": "9YSqJaSz7xr4",
        "outputId": "49938633-c707-4369-f00e-b35e8d41d0cc"
      },
      "execution_count": 57,
      "outputs": [
        {
          "output_type": "execute_result",
          "data": {
            "text/plain": [
              "2.577744718309859"
            ]
          },
          "metadata": {},
          "execution_count": 57
        }
      ]
    },
    {
      "cell_type": "code",
      "source": [
        "from sklearn.metrics import mean_absolute_error\n",
        "\n",
        "y_pred = model3.predict(X_train_prepared)\n",
        "mae = mean_absolute_error(y_train, y_pred)\n",
        "mae"
      ],
      "metadata": {
        "colab": {
          "base_uri": "https://localhost:8080/"
        },
        "id": "XSs25J0a8E7Y",
        "outputId": "a23512c5-c26d-43c3-ebff-b56d7415af68"
      },
      "execution_count": 58,
      "outputs": [
        {
          "output_type": "execute_result",
          "data": {
            "text/plain": [
              "2.2361395246478875"
            ]
          },
          "metadata": {},
          "execution_count": 58
        }
      ]
    }
  ]
}